{
 "cells": [
  {
   "cell_type": "markdown",
   "metadata": {},
   "source": [
    "# Antwoorden"
   ]
  },
  {
   "cell_type": "markdown",
   "metadata": {},
   "source": [
    "Dit notebook bevat de uitwerking van de opdrachten uit het notebook [opdrachten](https://nbviewer.jupyter.org/github/Brinkhuis/Cursus/blob/master/notebooks/opdrachten.ipynb)."
   ]
  },
  {
   "cell_type": "markdown",
   "metadata": {},
   "source": [
    "### Opdracht 1: string"
   ]
  },
  {
   "cell_type": "code",
   "execution_count": null,
   "metadata": {},
   "outputs": [],
   "source": [
    "opdracht = '<<< n-o-h-t-y-p >>>'"
   ]
  },
  {
   "cell_type": "markdown",
   "metadata": {},
   "source": [
    "***"
   ]
  },
  {
   "cell_type": "code",
   "execution_count": null,
   "metadata": {},
   "outputs": [],
   "source": [
    "# uitwerking 1\n",
    "opdracht[-5:3:-2].capitalize()"
   ]
  },
  {
   "cell_type": "code",
   "execution_count": null,
   "metadata": {},
   "outputs": [],
   "source": [
    "# uitwerking 2\n",
    "opdracht[4:-4][::-2].capitalize()"
   ]
  },
  {
   "cell_type": "code",
   "execution_count": null,
   "metadata": {},
   "outputs": [],
   "source": [
    "# uitwerking 3\n",
    "opdracht[4:-4].replace('-', '')[::-1].capitalize()"
   ]
  },
  {
   "cell_type": "code",
   "execution_count": null,
   "metadata": {},
   "outputs": [],
   "source": [
    "# uitwerking 4\n",
    "opdracht.split()[1].replace('-', '')[::-1].capitalize()"
   ]
  },
  {
   "cell_type": "code",
   "execution_count": null,
   "metadata": {},
   "outputs": [],
   "source": [
    "# uitwerking 5\n",
    "opdracht.strip('< >').replace('-', '')[::-1].capitalize()"
   ]
  },
  {
   "cell_type": "markdown",
   "metadata": {},
   "source": [
    "### Opdracht 2: list"
   ]
  },
  {
   "cell_type": "code",
   "execution_count": null,
   "metadata": {},
   "outputs": [],
   "source": [
    "opdracht = 'Without requirements or design, programming is the art of adding bugs to an empty text file.'.split()"
   ]
  },
  {
   "cell_type": "code",
   "execution_count": null,
   "metadata": {},
   "outputs": [],
   "source": [
    "uitkomst = 'Without requirements or design, coding Python is the art of adding bugs to an empty Jupyter Notebook.'.split()"
   ]
  },
  {
   "cell_type": "markdown",
   "metadata": {},
   "source": [
    "***"
   ]
  },
  {
   "cell_type": "code",
   "execution_count": null,
   "metadata": {},
   "outputs": [],
   "source": [
    "# uitwerking 1\n",
    "opdracht = 'Without requirements or design, programming is the art of adding bugs to an empty text file.'.split()\n",
    "\n",
    "opdracht[opdracht.index('programming')] = 'coding'\n",
    "opdracht.insert(opdracht.index('coding') + 1, 'Python')\n",
    "opdracht.pop()\n",
    "opdracht.pop()\n",
    "opdracht.extend(['Jupyter', 'Notebook.'])\n",
    "\n",
    "opdracht == uitkomst"
   ]
  },
  {
   "cell_type": "code",
   "execution_count": null,
   "metadata": {},
   "outputs": [],
   "source": [
    "# uitwerking 2\n",
    "opdracht = 'Without requirements or design, programming is the art of adding bugs to an empty text file.'.split()\n",
    "\n",
    "opdracht[opdracht.index('programming')] = 'coding'\n",
    "opdracht.insert(opdracht.index('coding') + 1, 'Python')\n",
    "opdracht.remove('text')\n",
    "opdracht.remove('file.')\n",
    "opdracht.append('Jupyter')\n",
    "opdracht.append('Notebook.')\n",
    "\n",
    "opdracht == uitkomst"
   ]
  },
  {
   "cell_type": "markdown",
   "metadata": {},
   "source": [
    "### Opdracht 3: list comprehension"
   ]
  },
  {
   "cell_type": "code",
   "execution_count": null,
   "metadata": {},
   "outputs": [],
   "source": [
    "# uitwerking 1\n",
    "%timeit [(c * 9/5 + 32) for c in range(100) if (c * 9/5 + 32) > 150 and int(str(c * 9/5 + 32).split('.')[-1]) == 0]"
   ]
  },
  {
   "cell_type": "markdown",
   "metadata": {},
   "source": [
    "Korte performance analyse:  \n",
    "* 100 loops\n",
    "* conversie van float naar string\n",
    "* split string\n",
    "* subsetting\n",
    "* conversie van string naar int"
   ]
  },
  {
   "cell_type": "code",
   "execution_count": null,
   "metadata": {},
   "outputs": [],
   "source": [
    "# uitwerking 2\n",
    "%timeit [(c * 9/5 + 32) for c in range(100) if (c * 9/5 + 32) > 150 and str(c * 9/5 + 32).split('.')[-1] == '0']"
   ]
  },
  {
   "cell_type": "markdown",
   "metadata": {},
   "source": [
    "Korte performance analyse:\n",
    "* 100 loops\n",
    "* conversie van float naar string\n",
    "* split string\n",
    "* subsetting"
   ]
  },
  {
   "cell_type": "code",
   "execution_count": null,
   "metadata": {},
   "outputs": [],
   "source": [
    "# uitwerking 3\n",
    "%timeit [(c * 9/5 + 32) for c in range(100) if (c * 9/5 + 32) > 150 and (c * 9/5 + 32) == int(c * 9/5 + 32)]"
   ]
  },
  {
   "cell_type": "markdown",
   "metadata": {},
   "source": [
    "Korte performance analyse:\n",
    "* 100 loops\n",
    "* conversie van float naar int"
   ]
  },
  {
   "cell_type": "code",
   "execution_count": null,
   "metadata": {},
   "outputs": [],
   "source": [
    "# uitwerking 4\n",
    "%timeit [(c * 9/5 + 32) for c in range(100) if (c * 9/5 + 32) > 150 and c % 5 == 0]"
   ]
  },
  {
   "cell_type": "markdown",
   "metadata": {},
   "source": [
    "Korte performance analyse:\n",
    "* 100 loops"
   ]
  },
  {
   "cell_type": "code",
   "execution_count": null,
   "metadata": {},
   "outputs": [],
   "source": [
    "# uitwerking 5\n",
    "%timeit [(c * 9/5 + 32) for c in range(0, 100, 5) if (c * 9/5 + 32) > 150]"
   ]
  },
  {
   "cell_type": "markdown",
   "metadata": {},
   "source": [
    "Korte performance analyse:\n",
    "* 20 loops !!\n",
    "\n",
    "Toelichting:  \n",
    "* In de conversieformule wordt er gedeeld door 5.\n",
    "* Elk veelvoud van 5 (tussen de 0 en de 100) levert daarom een geheel getal (integer) op bij delen door 5.\n",
    "* En dat blijft een geheel getal als je er 32 bij optelt.\n",
    "* Met deze wetenschap kun je het aantal loops flink terug brengen!\n",
    "* Hiermee heb je tevens het voordeel dat er één conditie minder achter het if-statement nodig is.\n",
    "* Daarmee is deze oplossing ongeveer 4x sneller dan de '2nd best solution' en ongeveer 12x sneller dan uitwerking nr 1."
   ]
  },
  {
   "cell_type": "markdown",
   "metadata": {},
   "source": [
    "### Opdracht 4a: for"
   ]
  },
  {
   "cell_type": "code",
   "execution_count": null,
   "metadata": {},
   "outputs": [],
   "source": [
    "# uitwerking 1\n",
    "aantal = 0\n",
    "for num in range(1, 101):\n",
    "    if num % 2 == 0 or num % 3 == 0 or num % 4 == 0 or num % 5 == 0:\n",
    "        continue\n",
    "    aantal += 1\n",
    "    print(num)\n",
    "print('\\nEr zijn {} getallen gevonden die niet deelbaar zijn door 2, 3, 4 of 5.'.format(aantal))"
   ]
  },
  {
   "cell_type": "code",
   "execution_count": null,
   "metadata": {},
   "outputs": [],
   "source": [
    "# uitwerking 2\n",
    "resultaat = list()\n",
    "for num in range(1, 101):\n",
    "    if num % 2 == 0 or num % 3 == 0 or num % 4 == 0 or num % 5 == 0:\n",
    "        continue\n",
    "    resultaat.append(num)\n",
    "print(resultaat)\n",
    "print('Er zijn {} getallen gevonden die niet deelbaar zijn door 2, 3, 4 of 5.'.format(len(resultaat)))"
   ]
  },
  {
   "cell_type": "code",
   "execution_count": null,
   "metadata": {},
   "outputs": [],
   "source": [
    "# uitwerking 3\n",
    "resultaat = list()\n",
    "for num in range(1, 101):\n",
    "    test_resultaat = True\n",
    "    for test in range(2, 6):\n",
    "        if num % test == 0:\n",
    "            test_resultaat = False\n",
    "            break\n",
    "    if test_resultaat:\n",
    "        resultaat.append(num)\n",
    "print(resultaat)\n",
    "print('Er zijn {} getallen gevonden die niet deelbaar zijn door 2, 3, 4 of 5.'.format(len(resultaat)))"
   ]
  },
  {
   "cell_type": "markdown",
   "metadata": {},
   "source": [
    "### Opdracht 4b: while"
   ]
  },
  {
   "cell_type": "code",
   "execution_count": null,
   "metadata": {},
   "outputs": [],
   "source": [
    "# uitwerking 1\n",
    "num = 0\n",
    "aantal = 0\n",
    "while True:\n",
    "    num += 1\n",
    "    if num % 2 == 0 or num % 3 == 0 or num % 4 == 0 or num % 5 == 0:\n",
    "        continue\n",
    "    if num > 100:\n",
    "        break\n",
    "    print(num)\n",
    "    aantal += 1\n",
    "print('\\nEr zijn {} getallen gevonden die niet deelbaar zijn door 2, 3, 4 of 5.'.format(aantal))"
   ]
  },
  {
   "cell_type": "code",
   "execution_count": null,
   "metadata": {},
   "outputs": [],
   "source": [
    "# uitwerking 2\n",
    "num = 0\n",
    "resultaat = list()\n",
    "while True:\n",
    "    num += 1\n",
    "    if num % 2 == 0 or num % 3 == 0 or num % 4 == 0 or num % 5 == 0:\n",
    "        continue\n",
    "    if num > 100:\n",
    "        break\n",
    "    resultaat.append(num)\n",
    "print(resultaat)\n",
    "print('Er zijn {} getallen gevonden die niet deelbaar zijn door 2, 3, 4 of 5.'.format(len(resultaat)))"
   ]
  },
  {
   "cell_type": "code",
   "execution_count": null,
   "metadata": {},
   "outputs": [],
   "source": [
    "# uitwerking 3\n",
    "num = 0\n",
    "resultaat = list()\n",
    "while True:\n",
    "    num += 1\n",
    "    teller = 0 # teller om het aantal getallen uit range(2, 6) te tellen waardoor num deelbaar is.\n",
    "    for test in range(2, 6):\n",
    "        if num % test == 0:\n",
    "            teller += 1\n",
    "            break # break de for loop als num deelbaar is door een getal uit range(2, 6)\n",
    "    if teller == 0:\n",
    "        resultaat.append(num)\n",
    "    if num >= 100:\n",
    "        break\n",
    "print(resultaat)\n",
    "print('Er zijn {} getallen gevonden die niet deelbaar zijn door 2, 3, 4 of 5.'.format(len(resultaat)))"
   ]
  },
  {
   "cell_type": "markdown",
   "metadata": {},
   "source": [
    "### Opdracht 5a: function"
   ]
  },
  {
   "cell_type": "code",
   "execution_count": null,
   "metadata": {},
   "outputs": [],
   "source": [
    "def deel(x, y):\n",
    "    return x // y, x % y\n",
    "\n",
    "deel(15, 7)"
   ]
  },
  {
   "cell_type": "markdown",
   "metadata": {},
   "source": [
    "### Opdracht 5b: error handling"
   ]
  },
  {
   "cell_type": "code",
   "execution_count": null,
   "metadata": {},
   "outputs": [],
   "source": [
    "# uitwerking\n",
    "def deel(x = None, y = 1):\n",
    "    try:\n",
    "        if x == None:\n",
    "            raise ValueError(\"Argument 'x' ontbreekt of heeft waarde 'None'\")\n",
    "        return x // y, x % y\n",
    "    except ZeroDivisionError as E:\n",
    "        print(E)\n",
    "    except TypeError as E:\n",
    "        print(E)\n",
    "    except ValueError as E:\n",
    "        print(E)"
   ]
  },
  {
   "cell_type": "code",
   "execution_count": null,
   "metadata": {},
   "outputs": [],
   "source": [
    "print(1, deel(15, 7), '\\n') # (2, 1)\n",
    "print(2, deel(7, 15), '\\n') # (0, 7)\n",
    "print(3, deel(15), '\\n') # (15, 0)\n",
    "print(4, deel(0, 15), '\\n') # (0, 0)\n",
    "print(5, deel(5.5, 2.5), '\\n') # (2.0, 0.5)\n",
    "print(6, deel(15, 0), '\\n') # integer division or modulo by zero\n",
    "print(7, deel('vijftien', 'zeven'), '\\n') # unsupported operand type(s) for //: 'str' and 'str'\n",
    "print(8, deel([15, 7]), '\\n') # unsupported operand type(s) for //: 'list' and 'int'\n",
    "print(9, deel(y = 7)) # Argument 'x' ontbreekt of heeft waarde 'None'"
   ]
  },
  {
   "cell_type": "code",
   "execution_count": null,
   "metadata": {},
   "outputs": [],
   "source": [
    "# uitwerking, optioneel\n",
    "def deel(x = None, y = 1):\n",
    "    try:\n",
    "        if x == None:\n",
    "            raise ValueError(\"Argument 'x' ontbreekt of heeft waarde 'None'\")\n",
    "        if int(x % y) == x % y:\n",
    "            return {'aantal': int(x // y), 'rest': int(x % y)}\n",
    "        else:\n",
    "            return {'aantal': int(x // y), 'rest': x % y}\n",
    "    except ZeroDivisionError as E:\n",
    "        print(E)\n",
    "    except TypeError as E:\n",
    "        print(E)\n",
    "    except ValueError as E:\n",
    "        print(E)"
   ]
  },
  {
   "cell_type": "code",
   "execution_count": null,
   "metadata": {},
   "outputs": [],
   "source": [
    "print(deel(8.5, 2.5), '\\n')\n",
    "print('aantal:', type(deel(8.5, 2.5)['aantal']))\n",
    "print('rest  :', type(deel(8.5, 2.5)['rest']))"
   ]
  },
  {
   "cell_type": "code",
   "execution_count": null,
   "metadata": {},
   "outputs": [],
   "source": [
    "print(deel(8.5, 3.5), '\\n')\n",
    "print('aantal:', type(deel(8.5, 3.5)['aantal']))\n",
    "print('rest  :', type(deel(8.5, 3.5)['rest']))"
   ]
  },
  {
   "cell_type": "markdown",
   "metadata": {},
   "source": [
    "### Opdracht 6: lambda expression"
   ]
  },
  {
   "cell_type": "code",
   "execution_count": null,
   "metadata": {},
   "outputs": [],
   "source": [
    "celsius = range(100)"
   ]
  },
  {
   "cell_type": "markdown",
   "metadata": {},
   "source": [
    "***"
   ]
  },
  {
   "cell_type": "code",
   "execution_count": null,
   "metadata": {},
   "outputs": [],
   "source": [
    "list(filter(lambda f: f > 200, map(lambda c: c * 9 / 5 + 32, celsius)))"
   ]
  },
  {
   "cell_type": "markdown",
   "metadata": {},
   "source": [
    "### Opdracht 7: inlezen csv"
   ]
  },
  {
   "cell_type": "code",
   "execution_count": null,
   "metadata": {},
   "outputs": [],
   "source": [
    "import pandas as pd"
   ]
  },
  {
   "cell_type": "code",
   "execution_count": null,
   "metadata": {},
   "outputs": [],
   "source": [
    "# uitwerking 1\n",
    "file = '../data/leesmij.csv'\n",
    "pd.read_csv(file, sep='/', skiprows=1, engine='python', skipfooter=2, na_values=['??', '-', ' ', '  ']).tail(7)"
   ]
  },
  {
   "cell_type": "code",
   "execution_count": null,
   "metadata": {},
   "outputs": [],
   "source": [
    "# uitwerking 2\n",
    "file = '../data/leesmij.csv'\n",
    "pd.read_csv(file, sep='/', skiprows=1, na_values=['??', '-', ' ', '  '])[:-2].tail(7)"
   ]
  },
  {
   "cell_type": "code",
   "execution_count": null,
   "metadata": {},
   "outputs": [],
   "source": [
    "# uitwerking 3\n",
    "import sys\n",
    "import os\n",
    "\n",
    "f = open('../data/leesmij.csv', 'r')\n",
    "lines = f.readlines()\n",
    "\n",
    "f = open('../data/leesmij_geschoond.csv', 'w')\n",
    "\n",
    "for line in lines[1:-2]:\n",
    "    f.write(line)\n",
    "f.close()\n",
    "\n",
    "print(pd.read_csv('../data/leesmij_geschoond.csv', sep='/', na_values=['??', '-', ' ', '  ']).tail(7))\n",
    "\n",
    "os.remove('../data/leesmij_geschoond.csv')"
   ]
  },
  {
   "cell_type": "markdown",
   "metadata": {},
   "source": [
    "### Opdracht 8: genereren data"
   ]
  },
  {
   "cell_type": "code",
   "execution_count": null,
   "metadata": {},
   "outputs": [],
   "source": [
    "import pandas as pd\n",
    "import numpy as np"
   ]
  },
  {
   "cell_type": "code",
   "execution_count": null,
   "metadata": {},
   "outputs": [],
   "source": [
    "np.random.seed(42)\n",
    "aantal_personen = 10000\n",
    "df = pd.DataFrame({'id': np.random.choice(range(10000, 100000), aantal_personen),\n",
    "                   'grp': np.random.choice(range(1, 41), aantal_personen, replace=True),\n",
    "                   'fkg': np.random.choice(range(2), aantal_personen, replace=True),\n",
    "                   'dkg': np.random.choice(range(2), aantal_personen, replace=True)})\n",
    "df.sample(n=10)"
   ]
  },
  {
   "cell_type": "markdown",
   "metadata": {},
   "source": [
    "### Opdracht 9a: toevoegen kolom"
   ]
  },
  {
   "cell_type": "code",
   "execution_count": null,
   "metadata": {},
   "outputs": [],
   "source": [
    "df['geslacht'] = np.where(df.grp <= 20, 'man', 'vrouw')\n",
    "df.head()"
   ]
  },
  {
   "cell_type": "markdown",
   "metadata": {},
   "source": [
    "### Opdracht 9b: toevoegen kolom"
   ]
  },
  {
   "cell_type": "code",
   "execution_count": null,
   "metadata": {},
   "outputs": [],
   "source": [
    "# uitwerking 1\n",
    "df['65'] = ['65+' if (g >= 14 and g <= 20) or g >= 34 else '65-' for g in df.grp]\n",
    "df.head(10)"
   ]
  },
  {
   "cell_type": "code",
   "execution_count": null,
   "metadata": {},
   "outputs": [],
   "source": [
    "# uitwerking 2\n",
    "df['65'] = ['65-' if g <= 13 or (g >= 21 and g <= 33) else '65+' for g in df.grp]\n",
    "df.head(10)"
   ]
  },
  {
   "cell_type": "markdown",
   "metadata": {},
   "source": [
    "### Opdracht 9c: toevoegen kolom"
   ]
  },
  {
   "cell_type": "code",
   "execution_count": null,
   "metadata": {},
   "outputs": [],
   "source": [
    "def leeftijd_categorie(grp):\n",
    "    leeftijd_start = grp * 5 - 5\n",
    "    leeftijd_eind = grp * 5 - 1\n",
    "    return str(leeftijd_start) + '-' + str(leeftijd_eind)"
   ]
  },
  {
   "cell_type": "markdown",
   "metadata": {},
   "source": [
    "***"
   ]
  },
  {
   "cell_type": "code",
   "execution_count": null,
   "metadata": {},
   "outputs": [],
   "source": [
    "# uitwerking 1\n",
    "df['leeftijd_categorie'] = df['grp'].apply(lambda x: leeftijd_categorie(x) if (x <= 20) else leeftijd_categorie(x - 20))\n",
    "df.head(3)"
   ]
  },
  {
   "cell_type": "code",
   "execution_count": null,
   "metadata": {},
   "outputs": [],
   "source": [
    "# uitwerking 2\n",
    "df['leeftijd_categorie'] = [leeftijd_categorie(x) if x <= 20 else leeftijd_categorie(x - 20) for x in df.grp]\n",
    "df.head(3)"
   ]
  },
  {
   "cell_type": "code",
   "execution_count": null,
   "metadata": {},
   "outputs": [],
   "source": [
    "# uitwerking 3\n",
    "df['leeftijd_categorie'] = list(map(lambda g: leeftijd_categorie(g) if g <= 20 else leeftijd_categorie(g - 20), df.grp))\n",
    "df.head(3)"
   ]
  },
  {
   "cell_type": "markdown",
   "metadata": {},
   "source": [
    "### Opdracht 9d: toevoegen kolom"
   ]
  },
  {
   "cell_type": "code",
   "execution_count": null,
   "metadata": {},
   "outputs": [],
   "source": [
    "# uitwerking 1\n",
    "df['gezondheid_status'] = np.where((df.fkg == 0) & (df.dkg == 0), 'gezond','ongezond')\n",
    "df.head(10)"
   ]
  },
  {
   "cell_type": "code",
   "execution_count": null,
   "metadata": {},
   "outputs": [],
   "source": [
    "# uitwerking 2\n",
    "df['gezondheid_status'] = list(map(lambda fkg, dkg: 'gezond' if (fkg == 0 and dkg == 0) else 'ongezond', df.fkg, df.dkg))\n",
    "df.head(10)"
   ]
  },
  {
   "cell_type": "markdown",
   "metadata": {},
   "source": [
    "### Opdracht 10a: lees tabblad Excel"
   ]
  },
  {
   "cell_type": "code",
   "execution_count": null,
   "metadata": {},
   "outputs": [],
   "source": [
    "excel = pd.read_excel(io = '../data/leesmij.xlsx',\n",
    "                      sheet_name = '2018',\n",
    "                      skiprows = 2,\n",
    "                      usecols = 'D:H',\n",
    "                      skipfooter = 1,\n",
    "                      na_values = '???'\n",
    "                     )\n",
    "excel"
   ]
  },
  {
   "cell_type": "markdown",
   "metadata": {},
   "source": [
    "### Opdracht 10b: lees alle tabbladden Excel"
   ]
  },
  {
   "cell_type": "code",
   "execution_count": null,
   "metadata": {},
   "outputs": [],
   "source": [
    "excel = pd.read_excel(io = '../data/leesmij.xlsx',\n",
    "                      sheet_name = None,\n",
    "                      skiprows = 2,\n",
    "                      usecols = 'D:H',\n",
    "                      skipfooter = 1,\n",
    "                      na_values = '???'\n",
    "                     )"
   ]
  },
  {
   "cell_type": "code",
   "execution_count": null,
   "metadata": {},
   "outputs": [],
   "source": [
    "# type\n",
    "type(excel)"
   ]
  },
  {
   "cell_type": "code",
   "execution_count": null,
   "metadata": {},
   "outputs": [],
   "source": [
    "# toon data uit tabblad 2018\n",
    "excel['2017']"
   ]
  },
  {
   "cell_type": "code",
   "execution_count": null,
   "metadata": {},
   "outputs": [],
   "source": [
    "# type\n",
    "type(excel['2017'])"
   ]
  },
  {
   "cell_type": "markdown",
   "metadata": {},
   "source": [
    "### Opdracht 10c: lees alle tabbladen in één DataFrame"
   ]
  },
  {
   "cell_type": "code",
   "execution_count": null,
   "metadata": {},
   "outputs": [],
   "source": [
    "df = pd.DataFrame() # creëer een leeg DataFrame\n",
    "for key in excel.keys():\n",
    "    sheet = excel[key].fillna(0) # fill na-values with zero\n",
    "    sheet[['Q1', 'Q2', 'Q3', 'Q4']] = sheet[['Q1', 'Q2', 'Q3', 'Q4']].astype(int) # convert float to int\n",
    "    sheet['Jaar'] = int(key)\n",
    "    df = pd.concat([df, sheet], ignore_index = True) # alternatief: df = df.append(sheet, ignore_index = True)\n",
    "df.tail(9) # toon laatste 2 jaar"
   ]
  },
  {
   "cell_type": "markdown",
   "metadata": {},
   "source": [
    "### Opdracht 10d: Wide to Long"
   ]
  },
  {
   "cell_type": "code",
   "execution_count": null,
   "metadata": {},
   "outputs": [],
   "source": [
    "# wide to long\n",
    "df_long = pd.melt(df, id_vars = ['Regio', 'Jaar'], var_name = 'Kwartaal', value_name = 'Aantal')\n",
    "df_long[df_long.Jaar == 2017] # toon jaar 2017"
   ]
  },
  {
   "cell_type": "markdown",
   "metadata": {},
   "source": [
    "### Opdracht 11: Interactive Visualization with Widgets"
   ]
  },
  {
   "cell_type": "code",
   "execution_count": null,
   "metadata": {},
   "outputs": [],
   "source": [
    "import pandas as pd\n",
    "import seaborn as sns\n",
    "import matplotlib.pyplot as plt\n",
    "from ipywidgets import *"
   ]
  },
  {
   "cell_type": "code",
   "execution_count": null,
   "metadata": {},
   "outputs": [],
   "source": [
    "sns.set(style=\"white\")\n",
    "iris = sns.load_dataset(\"iris\")\n",
    "\n",
    "def iris_pairgrid(species):\n",
    "    g = sns.PairGrid(iris[iris.species.isin(species)], diag_sharey=False)\n",
    "    g.map_lower(sns.kdeplot)\n",
    "    g.map_upper(sns.scatterplot)\n",
    "    g.map_diag(sns.kdeplot, lw = 3)\n",
    "    return plt.show()\n",
    "\n",
    "interact(iris_pairgrid,\n",
    "         species = widgets.SelectMultiple(options = iris.species.unique(),\n",
    "                                          value = ('versicolor', 'virginica'),\n",
    "                                          rows = len(iris.species.unique()),\n",
    "                                          description = 'species',\n",
    "                                          disabled = False))"
   ]
  },
  {
   "cell_type": "markdown",
   "metadata": {},
   "source": [
    "### Opdracht 12a: Bokeh"
   ]
  },
  {
   "cell_type": "code",
   "execution_count": 1,
   "metadata": {},
   "outputs": [
    {
     "data": {
      "text/html": [
       "<div>\n",
       "<style scoped>\n",
       "    .dataframe tbody tr th:only-of-type {\n",
       "        vertical-align: middle;\n",
       "    }\n",
       "\n",
       "    .dataframe tbody tr th {\n",
       "        vertical-align: top;\n",
       "    }\n",
       "\n",
       "    .dataframe thead th {\n",
       "        text-align: right;\n",
       "    }\n",
       "</style>\n",
       "<table border=\"1\" class=\"dataframe\">\n",
       "  <thead>\n",
       "    <tr style=\"text-align: right;\">\n",
       "      <th></th>\n",
       "      <th>mpg</th>\n",
       "      <th>cyl</th>\n",
       "      <th>displ</th>\n",
       "      <th>hp</th>\n",
       "      <th>weight</th>\n",
       "      <th>accel</th>\n",
       "      <th>yr</th>\n",
       "      <th>origin</th>\n",
       "      <th>name</th>\n",
       "    </tr>\n",
       "  </thead>\n",
       "  <tbody>\n",
       "    <tr>\n",
       "      <th>0</th>\n",
       "      <td>18.0</td>\n",
       "      <td>8</td>\n",
       "      <td>307.0</td>\n",
       "      <td>130</td>\n",
       "      <td>3504</td>\n",
       "      <td>12.0</td>\n",
       "      <td>70</td>\n",
       "      <td>1</td>\n",
       "      <td>chevrolet chevelle malibu</td>\n",
       "    </tr>\n",
       "    <tr>\n",
       "      <th>1</th>\n",
       "      <td>15.0</td>\n",
       "      <td>8</td>\n",
       "      <td>350.0</td>\n",
       "      <td>165</td>\n",
       "      <td>3693</td>\n",
       "      <td>11.5</td>\n",
       "      <td>70</td>\n",
       "      <td>1</td>\n",
       "      <td>buick skylark 320</td>\n",
       "    </tr>\n",
       "    <tr>\n",
       "      <th>2</th>\n",
       "      <td>18.0</td>\n",
       "      <td>8</td>\n",
       "      <td>318.0</td>\n",
       "      <td>150</td>\n",
       "      <td>3436</td>\n",
       "      <td>11.0</td>\n",
       "      <td>70</td>\n",
       "      <td>1</td>\n",
       "      <td>plymouth satellite</td>\n",
       "    </tr>\n",
       "    <tr>\n",
       "      <th>3</th>\n",
       "      <td>16.0</td>\n",
       "      <td>8</td>\n",
       "      <td>304.0</td>\n",
       "      <td>150</td>\n",
       "      <td>3433</td>\n",
       "      <td>12.0</td>\n",
       "      <td>70</td>\n",
       "      <td>1</td>\n",
       "      <td>amc rebel sst</td>\n",
       "    </tr>\n",
       "    <tr>\n",
       "      <th>4</th>\n",
       "      <td>17.0</td>\n",
       "      <td>8</td>\n",
       "      <td>302.0</td>\n",
       "      <td>140</td>\n",
       "      <td>3449</td>\n",
       "      <td>10.5</td>\n",
       "      <td>70</td>\n",
       "      <td>1</td>\n",
       "      <td>ford torino</td>\n",
       "    </tr>\n",
       "  </tbody>\n",
       "</table>\n",
       "</div>"
      ],
      "text/plain": [
       "    mpg  cyl  displ   hp  weight  accel  yr  origin                       name\n",
       "0  18.0    8  307.0  130    3504   12.0  70       1  chevrolet chevelle malibu\n",
       "1  15.0    8  350.0  165    3693   11.5  70       1          buick skylark 320\n",
       "2  18.0    8  318.0  150    3436   11.0  70       1         plymouth satellite\n",
       "3  16.0    8  304.0  150    3433   12.0  70       1              amc rebel sst\n",
       "4  17.0    8  302.0  140    3449   10.5  70       1                ford torino"
      ]
     },
     "execution_count": 1,
     "metadata": {},
     "output_type": "execute_result"
    }
   ],
   "source": [
    "# load datset\n",
    "from bokeh.sampledata.autompg import autompg\n",
    "autompg.head()"
   ]
  },
  {
   "cell_type": "code",
   "execution_count": 30,
   "metadata": {},
   "outputs": [
    {
     "data": {
      "text/html": [
       "\n",
       "    <div class=\"bk-root\">\n",
       "        <a href=\"https://bokeh.pydata.org\" target=\"_blank\" class=\"bk-logo bk-logo-small bk-logo-notebook\"></a>\n",
       "        <span id=\"45b34777-d8a5-4153-bd98-3ace6e6004ed\">Loading BokehJS ...</span>\n",
       "    </div>"
      ]
     },
     "metadata": {},
     "output_type": "display_data"
    },
    {
     "data": {
      "application/javascript": [
       "\n",
       "(function(root) {\n",
       "  function now() {\n",
       "    return new Date();\n",
       "  }\n",
       "\n",
       "  var force = true;\n",
       "\n",
       "  if (typeof (root._bokeh_onload_callbacks) === \"undefined\" || force === true) {\n",
       "    root._bokeh_onload_callbacks = [];\n",
       "    root._bokeh_is_loading = undefined;\n",
       "  }\n",
       "\n",
       "  var JS_MIME_TYPE = 'application/javascript';\n",
       "  var HTML_MIME_TYPE = 'text/html';\n",
       "  var EXEC_MIME_TYPE = 'application/vnd.bokehjs_exec.v0+json';\n",
       "  var CLASS_NAME = 'output_bokeh rendered_html';\n",
       "\n",
       "  /**\n",
       "   * Render data to the DOM node\n",
       "   */\n",
       "  function render(props, node) {\n",
       "    var script = document.createElement(\"script\");\n",
       "    node.appendChild(script);\n",
       "  }\n",
       "\n",
       "  /**\n",
       "   * Handle when an output is cleared or removed\n",
       "   */\n",
       "  function handleClearOutput(event, handle) {\n",
       "    var cell = handle.cell;\n",
       "\n",
       "    var id = cell.output_area._bokeh_element_id;\n",
       "    var server_id = cell.output_area._bokeh_server_id;\n",
       "    // Clean up Bokeh references\n",
       "    if (id != null && id in Bokeh.index) {\n",
       "      Bokeh.index[id].model.document.clear();\n",
       "      delete Bokeh.index[id];\n",
       "    }\n",
       "\n",
       "    if (server_id !== undefined) {\n",
       "      // Clean up Bokeh references\n",
       "      var cmd = \"from bokeh.io.state import curstate; print(curstate().uuid_to_server['\" + server_id + \"'].get_sessions()[0].document.roots[0]._id)\";\n",
       "      cell.notebook.kernel.execute(cmd, {\n",
       "        iopub: {\n",
       "          output: function(msg) {\n",
       "            var id = msg.content.text.trim();\n",
       "            if (id in Bokeh.index) {\n",
       "              Bokeh.index[id].model.document.clear();\n",
       "              delete Bokeh.index[id];\n",
       "            }\n",
       "          }\n",
       "        }\n",
       "      });\n",
       "      // Destroy server and session\n",
       "      var cmd = \"import bokeh.io.notebook as ion; ion.destroy_server('\" + server_id + \"')\";\n",
       "      cell.notebook.kernel.execute(cmd);\n",
       "    }\n",
       "  }\n",
       "\n",
       "  /**\n",
       "   * Handle when a new output is added\n",
       "   */\n",
       "  function handleAddOutput(event, handle) {\n",
       "    var output_area = handle.output_area;\n",
       "    var output = handle.output;\n",
       "\n",
       "    // limit handleAddOutput to display_data with EXEC_MIME_TYPE content only\n",
       "    if ((output.output_type != \"display_data\") || (!output.data.hasOwnProperty(EXEC_MIME_TYPE))) {\n",
       "      return\n",
       "    }\n",
       "\n",
       "    var toinsert = output_area.element.find(\".\" + CLASS_NAME.split(' ')[0]);\n",
       "\n",
       "    if (output.metadata[EXEC_MIME_TYPE][\"id\"] !== undefined) {\n",
       "      toinsert[toinsert.length - 1].firstChild.textContent = output.data[JS_MIME_TYPE];\n",
       "      // store reference to embed id on output_area\n",
       "      output_area._bokeh_element_id = output.metadata[EXEC_MIME_TYPE][\"id\"];\n",
       "    }\n",
       "    if (output.metadata[EXEC_MIME_TYPE][\"server_id\"] !== undefined) {\n",
       "      var bk_div = document.createElement(\"div\");\n",
       "      bk_div.innerHTML = output.data[HTML_MIME_TYPE];\n",
       "      var script_attrs = bk_div.children[0].attributes;\n",
       "      for (var i = 0; i < script_attrs.length; i++) {\n",
       "        toinsert[toinsert.length - 1].firstChild.setAttribute(script_attrs[i].name, script_attrs[i].value);\n",
       "      }\n",
       "      // store reference to server id on output_area\n",
       "      output_area._bokeh_server_id = output.metadata[EXEC_MIME_TYPE][\"server_id\"];\n",
       "    }\n",
       "  }\n",
       "\n",
       "  function register_renderer(events, OutputArea) {\n",
       "\n",
       "    function append_mime(data, metadata, element) {\n",
       "      // create a DOM node to render to\n",
       "      var toinsert = this.create_output_subarea(\n",
       "        metadata,\n",
       "        CLASS_NAME,\n",
       "        EXEC_MIME_TYPE\n",
       "      );\n",
       "      this.keyboard_manager.register_events(toinsert);\n",
       "      // Render to node\n",
       "      var props = {data: data, metadata: metadata[EXEC_MIME_TYPE]};\n",
       "      render(props, toinsert[toinsert.length - 1]);\n",
       "      element.append(toinsert);\n",
       "      return toinsert\n",
       "    }\n",
       "\n",
       "    /* Handle when an output is cleared or removed */\n",
       "    events.on('clear_output.CodeCell', handleClearOutput);\n",
       "    events.on('delete.Cell', handleClearOutput);\n",
       "\n",
       "    /* Handle when a new output is added */\n",
       "    events.on('output_added.OutputArea', handleAddOutput);\n",
       "\n",
       "    /**\n",
       "     * Register the mime type and append_mime function with output_area\n",
       "     */\n",
       "    OutputArea.prototype.register_mime_type(EXEC_MIME_TYPE, append_mime, {\n",
       "      /* Is output safe? */\n",
       "      safe: true,\n",
       "      /* Index of renderer in `output_area.display_order` */\n",
       "      index: 0\n",
       "    });\n",
       "  }\n",
       "\n",
       "  // register the mime type if in Jupyter Notebook environment and previously unregistered\n",
       "  if (root.Jupyter !== undefined) {\n",
       "    var events = require('base/js/events');\n",
       "    var OutputArea = require('notebook/js/outputarea').OutputArea;\n",
       "\n",
       "    if (OutputArea.prototype.mime_types().indexOf(EXEC_MIME_TYPE) == -1) {\n",
       "      register_renderer(events, OutputArea);\n",
       "    }\n",
       "  }\n",
       "\n",
       "  \n",
       "  if (typeof (root._bokeh_timeout) === \"undefined\" || force === true) {\n",
       "    root._bokeh_timeout = Date.now() + 5000;\n",
       "    root._bokeh_failed_load = false;\n",
       "  }\n",
       "\n",
       "  var NB_LOAD_WARNING = {'data': {'text/html':\n",
       "     \"<div style='background-color: #fdd'>\\n\"+\n",
       "     \"<p>\\n\"+\n",
       "     \"BokehJS does not appear to have successfully loaded. If loading BokehJS from CDN, this \\n\"+\n",
       "     \"may be due to a slow or bad network connection. Possible fixes:\\n\"+\n",
       "     \"</p>\\n\"+\n",
       "     \"<ul>\\n\"+\n",
       "     \"<li>re-rerun `output_notebook()` to attempt to load from CDN again, or</li>\\n\"+\n",
       "     \"<li>use INLINE resources instead, as so:</li>\\n\"+\n",
       "     \"</ul>\\n\"+\n",
       "     \"<code>\\n\"+\n",
       "     \"from bokeh.resources import INLINE\\n\"+\n",
       "     \"output_notebook(resources=INLINE)\\n\"+\n",
       "     \"</code>\\n\"+\n",
       "     \"</div>\"}};\n",
       "\n",
       "  function display_loaded() {\n",
       "    var el = document.getElementById(\"45b34777-d8a5-4153-bd98-3ace6e6004ed\");\n",
       "    if (el != null) {\n",
       "      el.textContent = \"BokehJS is loading...\";\n",
       "    }\n",
       "    if (root.Bokeh !== undefined) {\n",
       "      if (el != null) {\n",
       "        el.textContent = \"BokehJS \" + root.Bokeh.version + \" successfully loaded.\";\n",
       "      }\n",
       "    } else if (Date.now() < root._bokeh_timeout) {\n",
       "      setTimeout(display_loaded, 100)\n",
       "    }\n",
       "  }\n",
       "\n",
       "\n",
       "  function run_callbacks() {\n",
       "    try {\n",
       "      root._bokeh_onload_callbacks.forEach(function(callback) { callback() });\n",
       "    }\n",
       "    finally {\n",
       "      delete root._bokeh_onload_callbacks\n",
       "    }\n",
       "    console.info(\"Bokeh: all callbacks have finished\");\n",
       "  }\n",
       "\n",
       "  function load_libs(js_urls, callback) {\n",
       "    root._bokeh_onload_callbacks.push(callback);\n",
       "    if (root._bokeh_is_loading > 0) {\n",
       "      console.log(\"Bokeh: BokehJS is being loaded, scheduling callback at\", now());\n",
       "      return null;\n",
       "    }\n",
       "    if (js_urls == null || js_urls.length === 0) {\n",
       "      run_callbacks();\n",
       "      return null;\n",
       "    }\n",
       "    console.log(\"Bokeh: BokehJS not loaded, scheduling load and callback at\", now());\n",
       "    root._bokeh_is_loading = js_urls.length;\n",
       "    for (var i = 0; i < js_urls.length; i++) {\n",
       "      var url = js_urls[i];\n",
       "      var s = document.createElement('script');\n",
       "      s.src = url;\n",
       "      s.async = false;\n",
       "      s.onreadystatechange = s.onload = function() {\n",
       "        root._bokeh_is_loading--;\n",
       "        if (root._bokeh_is_loading === 0) {\n",
       "          console.log(\"Bokeh: all BokehJS libraries loaded\");\n",
       "          run_callbacks()\n",
       "        }\n",
       "      };\n",
       "      s.onerror = function() {\n",
       "        console.warn(\"failed to load library \" + url);\n",
       "      };\n",
       "      console.log(\"Bokeh: injecting script tag for BokehJS library: \", url);\n",
       "      document.getElementsByTagName(\"head\")[0].appendChild(s);\n",
       "    }\n",
       "  };var element = document.getElementById(\"45b34777-d8a5-4153-bd98-3ace6e6004ed\");\n",
       "  if (element == null) {\n",
       "    console.log(\"Bokeh: ERROR: autoload.js configured with elementid '45b34777-d8a5-4153-bd98-3ace6e6004ed' but no matching script tag was found. \")\n",
       "    return false;\n",
       "  }\n",
       "\n",
       "  var js_urls = [\"https://cdn.pydata.org/bokeh/release/bokeh-0.13.0.min.js\", \"https://cdn.pydata.org/bokeh/release/bokeh-widgets-0.13.0.min.js\", \"https://cdn.pydata.org/bokeh/release/bokeh-tables-0.13.0.min.js\", \"https://cdn.pydata.org/bokeh/release/bokeh-gl-0.13.0.min.js\"];\n",
       "\n",
       "  var inline_js = [\n",
       "    function(Bokeh) {\n",
       "      Bokeh.set_log_level(\"info\");\n",
       "    },\n",
       "    \n",
       "    function(Bokeh) {\n",
       "      \n",
       "    },\n",
       "    function(Bokeh) {\n",
       "      console.log(\"Bokeh: injecting CSS: https://cdn.pydata.org/bokeh/release/bokeh-0.13.0.min.css\");\n",
       "      Bokeh.embed.inject_css(\"https://cdn.pydata.org/bokeh/release/bokeh-0.13.0.min.css\");\n",
       "      console.log(\"Bokeh: injecting CSS: https://cdn.pydata.org/bokeh/release/bokeh-widgets-0.13.0.min.css\");\n",
       "      Bokeh.embed.inject_css(\"https://cdn.pydata.org/bokeh/release/bokeh-widgets-0.13.0.min.css\");\n",
       "      console.log(\"Bokeh: injecting CSS: https://cdn.pydata.org/bokeh/release/bokeh-tables-0.13.0.min.css\");\n",
       "      Bokeh.embed.inject_css(\"https://cdn.pydata.org/bokeh/release/bokeh-tables-0.13.0.min.css\");\n",
       "    }\n",
       "  ];\n",
       "\n",
       "  function run_inline_js() {\n",
       "    \n",
       "    if ((root.Bokeh !== undefined) || (force === true)) {\n",
       "      for (var i = 0; i < inline_js.length; i++) {\n",
       "        inline_js[i].call(root, root.Bokeh);\n",
       "      }if (force === true) {\n",
       "        display_loaded();\n",
       "      }} else if (Date.now() < root._bokeh_timeout) {\n",
       "      setTimeout(run_inline_js, 100);\n",
       "    } else if (!root._bokeh_failed_load) {\n",
       "      console.log(\"Bokeh: BokehJS failed to load within specified timeout.\");\n",
       "      root._bokeh_failed_load = true;\n",
       "    } else if (force !== true) {\n",
       "      var cell = $(document.getElementById(\"45b34777-d8a5-4153-bd98-3ace6e6004ed\")).parents('.cell').data().cell;\n",
       "      cell.output_area.append_execute_result(NB_LOAD_WARNING)\n",
       "    }\n",
       "\n",
       "  }\n",
       "\n",
       "  if (root._bokeh_is_loading === 0) {\n",
       "    console.log(\"Bokeh: BokehJS loaded, going straight to plotting\");\n",
       "    run_inline_js();\n",
       "  } else {\n",
       "    load_libs(js_urls, function() {\n",
       "      console.log(\"Bokeh: BokehJS plotting callback run at\", now());\n",
       "      run_inline_js();\n",
       "    });\n",
       "  }\n",
       "}(window));"
      ],
      "application/vnd.bokehjs_load.v0+json": "\n(function(root) {\n  function now() {\n    return new Date();\n  }\n\n  var force = true;\n\n  if (typeof (root._bokeh_onload_callbacks) === \"undefined\" || force === true) {\n    root._bokeh_onload_callbacks = [];\n    root._bokeh_is_loading = undefined;\n  }\n\n  \n\n  \n  if (typeof (root._bokeh_timeout) === \"undefined\" || force === true) {\n    root._bokeh_timeout = Date.now() + 5000;\n    root._bokeh_failed_load = false;\n  }\n\n  var NB_LOAD_WARNING = {'data': {'text/html':\n     \"<div style='background-color: #fdd'>\\n\"+\n     \"<p>\\n\"+\n     \"BokehJS does not appear to have successfully loaded. If loading BokehJS from CDN, this \\n\"+\n     \"may be due to a slow or bad network connection. Possible fixes:\\n\"+\n     \"</p>\\n\"+\n     \"<ul>\\n\"+\n     \"<li>re-rerun `output_notebook()` to attempt to load from CDN again, or</li>\\n\"+\n     \"<li>use INLINE resources instead, as so:</li>\\n\"+\n     \"</ul>\\n\"+\n     \"<code>\\n\"+\n     \"from bokeh.resources import INLINE\\n\"+\n     \"output_notebook(resources=INLINE)\\n\"+\n     \"</code>\\n\"+\n     \"</div>\"}};\n\n  function display_loaded() {\n    var el = document.getElementById(\"45b34777-d8a5-4153-bd98-3ace6e6004ed\");\n    if (el != null) {\n      el.textContent = \"BokehJS is loading...\";\n    }\n    if (root.Bokeh !== undefined) {\n      if (el != null) {\n        el.textContent = \"BokehJS \" + root.Bokeh.version + \" successfully loaded.\";\n      }\n    } else if (Date.now() < root._bokeh_timeout) {\n      setTimeout(display_loaded, 100)\n    }\n  }\n\n\n  function run_callbacks() {\n    try {\n      root._bokeh_onload_callbacks.forEach(function(callback) { callback() });\n    }\n    finally {\n      delete root._bokeh_onload_callbacks\n    }\n    console.info(\"Bokeh: all callbacks have finished\");\n  }\n\n  function load_libs(js_urls, callback) {\n    root._bokeh_onload_callbacks.push(callback);\n    if (root._bokeh_is_loading > 0) {\n      console.log(\"Bokeh: BokehJS is being loaded, scheduling callback at\", now());\n      return null;\n    }\n    if (js_urls == null || js_urls.length === 0) {\n      run_callbacks();\n      return null;\n    }\n    console.log(\"Bokeh: BokehJS not loaded, scheduling load and callback at\", now());\n    root._bokeh_is_loading = js_urls.length;\n    for (var i = 0; i < js_urls.length; i++) {\n      var url = js_urls[i];\n      var s = document.createElement('script');\n      s.src = url;\n      s.async = false;\n      s.onreadystatechange = s.onload = function() {\n        root._bokeh_is_loading--;\n        if (root._bokeh_is_loading === 0) {\n          console.log(\"Bokeh: all BokehJS libraries loaded\");\n          run_callbacks()\n        }\n      };\n      s.onerror = function() {\n        console.warn(\"failed to load library \" + url);\n      };\n      console.log(\"Bokeh: injecting script tag for BokehJS library: \", url);\n      document.getElementsByTagName(\"head\")[0].appendChild(s);\n    }\n  };var element = document.getElementById(\"45b34777-d8a5-4153-bd98-3ace6e6004ed\");\n  if (element == null) {\n    console.log(\"Bokeh: ERROR: autoload.js configured with elementid '45b34777-d8a5-4153-bd98-3ace6e6004ed' but no matching script tag was found. \")\n    return false;\n  }\n\n  var js_urls = [\"https://cdn.pydata.org/bokeh/release/bokeh-0.13.0.min.js\", \"https://cdn.pydata.org/bokeh/release/bokeh-widgets-0.13.0.min.js\", \"https://cdn.pydata.org/bokeh/release/bokeh-tables-0.13.0.min.js\", \"https://cdn.pydata.org/bokeh/release/bokeh-gl-0.13.0.min.js\"];\n\n  var inline_js = [\n    function(Bokeh) {\n      Bokeh.set_log_level(\"info\");\n    },\n    \n    function(Bokeh) {\n      \n    },\n    function(Bokeh) {\n      console.log(\"Bokeh: injecting CSS: https://cdn.pydata.org/bokeh/release/bokeh-0.13.0.min.css\");\n      Bokeh.embed.inject_css(\"https://cdn.pydata.org/bokeh/release/bokeh-0.13.0.min.css\");\n      console.log(\"Bokeh: injecting CSS: https://cdn.pydata.org/bokeh/release/bokeh-widgets-0.13.0.min.css\");\n      Bokeh.embed.inject_css(\"https://cdn.pydata.org/bokeh/release/bokeh-widgets-0.13.0.min.css\");\n      console.log(\"Bokeh: injecting CSS: https://cdn.pydata.org/bokeh/release/bokeh-tables-0.13.0.min.css\");\n      Bokeh.embed.inject_css(\"https://cdn.pydata.org/bokeh/release/bokeh-tables-0.13.0.min.css\");\n    }\n  ];\n\n  function run_inline_js() {\n    \n    if ((root.Bokeh !== undefined) || (force === true)) {\n      for (var i = 0; i < inline_js.length; i++) {\n        inline_js[i].call(root, root.Bokeh);\n      }if (force === true) {\n        display_loaded();\n      }} else if (Date.now() < root._bokeh_timeout) {\n      setTimeout(run_inline_js, 100);\n    } else if (!root._bokeh_failed_load) {\n      console.log(\"Bokeh: BokehJS failed to load within specified timeout.\");\n      root._bokeh_failed_load = true;\n    } else if (force !== true) {\n      var cell = $(document.getElementById(\"45b34777-d8a5-4153-bd98-3ace6e6004ed\")).parents('.cell').data().cell;\n      cell.output_area.append_execute_result(NB_LOAD_WARNING)\n    }\n\n  }\n\n  if (root._bokeh_is_loading === 0) {\n    console.log(\"Bokeh: BokehJS loaded, going straight to plotting\");\n    run_inline_js();\n  } else {\n    load_libs(js_urls, function() {\n      console.log(\"Bokeh: BokehJS plotting callback run at\", now());\n      run_inline_js();\n    });\n  }\n}(window));"
     },
     "metadata": {},
     "output_type": "display_data"
    },
    {
     "data": {
      "text/html": [
       "\n",
       "\n",
       "\n",
       "\n",
       "\n",
       "\n",
       "  <div class=\"bk-root\" id=\"963ff99b-18ae-4b51-8e98-81234c341716\"></div>\n"
      ]
     },
     "metadata": {},
     "output_type": "display_data"
    },
    {
     "data": {
      "application/javascript": [
       "(function(root) {\n",
       "  function embed_document(root) {\n",
       "    \n",
       "  var docs_json = {\"0ba6635f-c702-4a14-bf4b-f6de498f1677\":{\"roots\":{\"references\":[{\"attributes\":{\"align\":\"center\",\"plot\":null,\"text\":\"Number of cylinders by weight and horsepower\",\"text_color\":{\"value\":\"#440154\"},\"text_font_size\":{\"value\":\"14pt\"}},\"id\":\"5a69a131-0420-4e4b-91ea-dca02d10cb92\",\"type\":\"Title\"},{\"attributes\":{\"data_source\":{\"id\":\"fdf98fdc-fdb2-407e-a6cf-8d5916d5abdf\",\"type\":\"ColumnDataSource\"},\"glyph\":{\"id\":\"f5c9619b-d2ac-41b1-a9cc-24ce2cef933b\",\"type\":\"Circle\"},\"hover_glyph\":null,\"muted_glyph\":null,\"nonselection_glyph\":{\"id\":\"6201372c-7e0e-4f9d-83ab-2b544c243f27\",\"type\":\"Circle\"},\"selection_glyph\":null,\"view\":{\"id\":\"37b1fc79-eafc-4015-bef9-fbae7a6084e7\",\"type\":\"CDSView\"}},\"id\":\"ecea28f3-2011-444b-9f53-036d19d1915a\",\"type\":\"GlyphRenderer\"},{\"attributes\":{},\"id\":\"2535ab80-da57-4589-97eb-805d550cf2d0\",\"type\":\"UnionRenderers\"},{\"attributes\":{\"fill_alpha\":{\"value\":0.6},\"fill_color\":{\"field\":\"colors\"},\"line_alpha\":{\"value\":0.6},\"line_color\":{\"field\":\"colors\"},\"size\":{\"units\":\"screen\",\"value\":10},\"x\":{\"field\":\"weight\"},\"y\":{\"field\":\"hp\"}},\"id\":\"6a56b46a-04e6-456b-81c1-4cd60c986569\",\"type\":\"Circle\"},{\"attributes\":{},\"id\":\"486c2f81-9a6b-4fcd-be01-2bc22258fa61\",\"type\":\"UnionRenderers\"},{\"attributes\":{\"label\":{\"field\":\"cyl\"},\"renderers\":[{\"id\":\"76a38af8-c9ff-49aa-8e9d-0ecaebe1ee4c\",\"type\":\"GlyphRenderer\"}]},\"id\":\"e49de49e-9727-4985-8b60-745400e3aa86\",\"type\":\"LegendItem\"},{\"attributes\":{\"source\":{\"id\":\"38c09654-aa28-409c-a87f-5b89c66b75ca\",\"type\":\"ColumnDataSource\"}},\"id\":\"60060ef4-aebf-4dd6-9eb5-890f1eed07e2\",\"type\":\"CDSView\"},{\"attributes\":{\"callback\":null,\"data\":{\"accel\":{\"__ndarray__\":\"AAAAAAAAL0AAAAAAAAAvQAAAAAAAADBAAAAAAAAALkAAAAAAAAAqQAAAAAAAAC9AAAAAAAAAL0AAAAAAAAAvQAAAAAAAAC9AAAAAAAAAK0AAAAAAAAAuQAAAAAAAAC1AAAAAAACAMEAAAAAAAAAyQAAAAAAAADBAAAAAAACAMEAAAAAAAAAwQAAAAAAAAC5AAAAAAAAALEAAAAAAAAArQAAAAAAAgDBAAAAAAAAAMEAAAAAAAAAxQAAAAAAAADFAAAAAAAAAMkAAAAAAAIAwQAAAAAAAADBAAAAAAAAAMEAAAAAAAAA1QAAAAAAAgDNAAAAAAAAANUAAAAAAAIAyQAAAAAAAADNAAAAAAAAAM0AAAAAAAAAuQAAAAAAAADBAAAAAAAAALUAAAAAAAAAxQM3MzMzMzC5AAAAAAAAALUCamZmZmZkxQJqZmZmZmTFAMzMzMzOzMUAAAAAAAAA1QDMzMzMzMzBAzczMzMzMMUAAAAAAAAAvQDMzMzMzszBAZmZmZmZmMEBmZmZmZuYwQDMzMzMzszFAAAAAAAAAM0AAAAAAAAAtQDMzMzMzMzNAMzMzMzMzMkCamZmZmZkvQDMzMzMzMzFAMzMzMzMzMUCamZmZmZkvQDMzMzMzszBAMzMzMzOzMkAzMzMzMzMuQM3MzMzMzCpAMzMzMzMzK0CamZmZmZkvQM3MzMzMzC5AMzMzMzMzMkAzMzMzMzMyQJqZmZmZmTBAmpmZmZmZJkDNzMzMzMwpQDMzMzMzszJAzczMzMzMJkAzMzMzMzMpQJqZmZmZmTNAMzMzMzMzKUCamZmZmZkrQJqZmZmZmS9AmpmZmZkZMUCamZmZmZkwQGZmZmZmZjBAAAAAAAAAMUBmZmZmZmYtQA==\",\"dtype\":\"float64\",\"shape\":[83]},\"colors\":[\"#3B518A\",\"#3B518A\",\"#3B518A\",\"#3B518A\",\"#3B518A\",\"#3B518A\",\"#3B518A\",\"#3B518A\",\"#3B518A\",\"#3B518A\",\"#3B518A\",\"#3B518A\",\"#3B518A\",\"#3B518A\",\"#3B518A\",\"#3B518A\",\"#3B518A\",\"#3B518A\",\"#3B518A\",\"#3B518A\",\"#3B518A\",\"#3B518A\",\"#3B518A\",\"#3B518A\",\"#3B518A\",\"#3B518A\",\"#3B518A\",\"#3B518A\",\"#3B518A\",\"#3B518A\",\"#3B518A\",\"#3B518A\",\"#3B518A\",\"#3B518A\",\"#3B518A\",\"#3B518A\",\"#3B518A\",\"#3B518A\",\"#3B518A\",\"#3B518A\",\"#3B518A\",\"#3B518A\",\"#3B518A\",\"#3B518A\",\"#3B518A\",\"#3B518A\",\"#3B518A\",\"#3B518A\",\"#3B518A\",\"#3B518A\",\"#3B518A\",\"#3B518A\",\"#3B518A\",\"#3B518A\",\"#3B518A\",\"#3B518A\",\"#3B518A\",\"#3B518A\",\"#3B518A\",\"#3B518A\",\"#3B518A\",\"#3B518A\",\"#3B518A\",\"#3B518A\",\"#3B518A\",\"#3B518A\",\"#3B518A\",\"#3B518A\",\"#3B518A\",\"#3B518A\",\"#3B518A\",\"#3B518A\",\"#3B518A\",\"#3B518A\",\"#3B518A\",\"#3B518A\",\"#3B518A\",\"#3B518A\",\"#3B518A\",\"#3B518A\",\"#3B518A\",\"#3B518A\",\"#3B518A\"],\"cyl\":[6,6,6,6,6,6,6,6,6,6,6,6,6,6,6,6,6,6,6,6,6,6,6,6,6,6,6,6,6,6,6,6,6,6,6,6,6,6,6,6,6,6,6,6,6,6,6,6,6,6,6,6,6,6,6,6,6,6,6,6,6,6,6,6,6,6,6,6,6,6,6,6,6,6,6,6,6,6,6,6,6,6,6],\"displ\":{\"__ndarray__\":\"AAAAAADAaEAAAAAAAOBoQAAAAAAAAGlAAAAAAADgaEAAAAAAAABtQAAAAAAAIGxAAAAAAABAb0AAAAAAAEBvQAAAAAAAAG1AAAAAAAAgcEAAAAAAAEBvQAAAAAAAQG9AAAAAAAAgbEAAAAAAAEBvQAAAAAAAAG1AAAAAAABAb0AAAAAAAMBoQAAAAAAAAG1AAAAAAABgY0AAAAAAAIBjQAAAAAAAwGhAAAAAAAAAbUAAAAAAAEBvQAAAAAAAQG9AAAAAAAAgcEAAAAAAACBsQAAAAAAAIGxAAAAAAABAb0AAAAAAAEBvQAAAAAAAQG9AAAAAAADgbEAAAAAAAEBvQAAAAAAAIHBAAAAAAAAgbEAAAAAAAOBsQAAAAAAAAG1AAAAAAABgZUAAAAAAAABtQAAAAAAAIGxAAAAAAABAb0AAAAAAAABpQAAAAAAAAG1AAAAAAAAgbEAAAAAAAEBvQAAAAAAAQG9AAAAAAAAgcEAAAAAAAIBjQAAAAAAAAGVAAAAAAABAb0AAAAAAAOBsQAAAAAAAIGxAAAAAAABAb0AAAAAAAEBiQAAAAAAA4GxAAAAAAAAAaUAAAAAAAABpQAAAAAAAIGxAAAAAAAAAbUAAAAAAAOBsQAAAAAAAAGlAAAAAAAAgbEAAAAAAACBwQAAAAAAA4GxAAAAAAABgZEAAAAAAAGBkQAAAAAAA4GxAAAAAAAAAaUAAAAAAAABtQAAAAAAAIGxAAAAAAACgZUAAAAAAAKBlQAAAAAAAIGxAAAAAAAAAZUAAAAAAAKBlQAAAAAAAIGJAAAAAAAAAZUAAAAAAAEBiQAAAAAAA4GxAAAAAAAAAaUAAAAAAACBsQAAAAAAAoGZAAAAAAABgcEAAAAAAAABtQA==\",\"dtype\":\"float64\",\"shape\":[83]},\"hp\":[95,97,85,90,100,105,100,88,100,110,100,88,105,100,100,88,95,100,107,122,95,100,100,100,110,105,95,105,72,72,110,105,110,95,110,100,97,90,100,105,81,90,100,78,110,95,108,120,110,105,100,98,97,105,95,85,100,90,105,85,110,120,165,125,133,115,85,90,110,115,115,90,132,110,76,116,120,110,88,85,110,85,112],\"index\":[15,16,17,24,32,33,34,35,36,44,46,47,96,97,98,99,100,106,112,122,124,125,126,131,132,133,150,151,152,153,158,159,160,161,162,167,172,174,189,190,191,192,197,198,199,200,208,209,223,224,225,226,239,250,251,252,254,255,256,257,258,259,261,273,275,278,279,281,282,304,305,314,330,337,355,356,357,358,360,361,380,381,383],\"mpg\":{\"__ndarray__\":\"AAAAAAAANkAAAAAAAAAyQAAAAAAAADVAAAAAAAAANUAAAAAAAAAzQAAAAAAAADBAAAAAAAAAMUAAAAAAAAAzQAAAAAAAADJAAAAAAAAAMkAAAAAAAAAzQAAAAAAAADJAAAAAAAAAMkAAAAAAAAAwQAAAAAAAADJAAAAAAAAAMkAAAAAAAAA3QAAAAAAAADJAAAAAAAAANUAAAAAAAAA0QAAAAAAAADRAAAAAAAAAM0AAAAAAAAAuQAAAAAAAADBAAAAAAAAAMEAAAAAAAAAyQAAAAAAAADNAAAAAAAAAMkAAAAAAAAAuQAAAAAAAAC5AAAAAAAAAMUAAAAAAAAAwQAAAAAAAAC5AAAAAAAAAMkAAAAAAAAA1QAAAAAAAADRAAAAAAAAAMkAAAAAAAAAzQAAAAAAAADZAAAAAAAAANkAAAAAAAAA4QAAAAAAAgDZAAAAAAAAANEAAAAAAAAAyQAAAAAAAgDJAAAAAAACAMUAAAAAAAAAzQAAAAAAAgDBAAAAAAACAMUAAAAAAAIA0QAAAAAAAADNAAAAAAACAMkAAAAAAAAA2QDMzMzMzMzNAAAAAAACANEAzMzMzMzM0QAAAAAAAgDRAZmZmZmZmM0CamZmZmZk0QM3MzMzMzDRAmpmZmZmZMkCamZmZmRkyQDMzMzMzszFAAAAAAAAAMUAzMzMzMzMwQAAAAAAAgDVAzczMzMzMM0AzMzMzMzM0QJqZmZmZmTRAzczMzMzMPEDNzMzMzMw6QJqZmZmZGTNAmpmZmZlZQEAAAAAAAIA3QDMzMzMzsz5AZmZmZmZmOUAzMzMzMzM4QGZmZmZmZjZAMzMzMzMzNECamZmZmZkxQAAAAAAAADlAAAAAAAAAQ0AAAAAAAAA2QA==\",\"dtype\":\"float64\",\"shape\":[83]},\"name\":[\"plymouth duster\",\"amc hornet\",\"ford maverick\",\"amc gremlin\",\"amc gremlin\",\"plymouth satellite custom\",\"chevrolet chevelle malibu\",\"ford torino 500\",\"amc matador\",\"amc hornet sportabout (sw)\",\"pontiac firebird\",\"ford mustang\",\"plymouth valiant\",\"chevrolet nova custom\",\"amc hornet\",\"ford maverick\",\"plymouth duster\",\"amc gremlin\",\"mercury capri v6\",\"toyota mark ii\",\"plymouth duster\",\"amc hornet\",\"chevrolet nova\",\"chevrolet chevelle malibu classic\",\"amc matador\",\"plymouth satellite sebring\",\"plymouth valiant custom\",\"chevrolet nova\",\"mercury monarch\",\"ford maverick\",\"buick century\",\"chevroelt chevelle malibu\",\"amc matador\",\"plymouth fury\",\"buick skyhawk\",\"amc gremlin\",\"ford pinto\",\"amc pacer\",\"plymouth valiant\",\"chevrolet nova\",\"ford maverick\",\"amc hornet\",\"dodge aspen se\",\"ford granada ghia\",\"pontiac ventura sj\",\"amc pacer d/l\",\"toyota mark ii\",\"mercedes-benz 280s\",\"chevrolet concours\",\"buick skylark\",\"plymouth volare custom\",\"ford granada\",\"datsun 810\",\"pontiac phoenix lj\",\"chevrolet malibu\",\"ford fairmont (auto)\",\"plymouth volare\",\"amc concord\",\"buick century special\",\"mercury zephyr\",\"dodge aspen\",\"amc concord d/l\",\"buick regal sport coupe (turbo)\",\"volvo 264gl\",\"peugeot 604sl\",\"pontiac lemans v6\",\"mercury zephyr 6\",\"amc concord dl 6\",\"dodge aspen 6\",\"chevrolet citation\",\"oldsmobile omega brougham\",\"dodge aspen\",\"datsun 280-zx\",\"chevrolet citation\",\"volvo diesel\",\"toyota cressida\",\"datsun 810 maxima\",\"buick century\",\"ford granada gl\",\"chrysler lebaron salon\",\"buick century limited\",\"oldsmobile cutlass ciera (diesel)\",\"ford granada l\"],\"origin\":[1,1,1,1,1,1,1,1,1,1,1,1,1,1,1,1,1,1,1,3,1,1,1,1,1,1,1,1,1,1,1,1,1,1,1,1,1,1,1,1,1,1,1,1,1,1,3,2,1,1,1,1,3,1,1,1,1,1,1,1,1,1,1,2,2,1,1,1,1,1,1,1,3,1,2,3,3,1,1,1,1,1,1],\"weight\":[2833,2774,2587,2648,2634,3439,3329,3302,3288,2962,3282,3139,3121,3278,2945,3021,2904,2789,2472,2807,3102,2901,3336,3781,3632,3613,3264,3459,3432,3158,3907,3897,3730,3785,3039,2914,2984,3211,3233,3353,3012,3085,3651,3574,3645,3193,2930,3820,3520,3425,3630,3525,2815,3535,3155,2965,3430,3210,3380,3070,3620,3410,3445,3140,3410,3245,2990,3265,3360,2595,2700,3381,2910,2725,3160,2900,2930,3415,3060,3465,2945,3015,2835],\"yr\":[70,70,70,70,71,71,71,71,71,71,71,71,73,73,73,73,73,73,73,73,74,74,74,74,74,74,75,75,75,75,75,75,75,75,75,75,75,75,76,76,76,76,76,76,76,76,76,76,77,77,77,77,77,78,78,78,78,78,78,78,78,78,78,78,78,79,79,79,79,79,79,80,80,81,81,81,81,81,81,81,82,82,82]},\"selected\":{\"id\":\"e716c940-d65f-477e-ad12-18921e3deeed\",\"type\":\"Selection\"},\"selection_policy\":{\"id\":\"35dc7577-48db-4f16-945a-bd6a4cee7f0b\",\"type\":\"UnionRenderers\"}},\"id\":\"ed6484f1-4900-47e5-8349-4f7f70b33e35\",\"type\":\"ColumnDataSource\"},{\"attributes\":{\"below\":[{\"id\":\"fc9fc5fb-0c26-48eb-b2fd-c97309599548\",\"type\":\"LinearAxis\"}],\"left\":[{\"id\":\"ab8e1bd3-b478-4c85-ab7b-d26a789cd224\",\"type\":\"LinearAxis\"}],\"plot_height\":500,\"plot_width\":800,\"renderers\":[{\"id\":\"fc9fc5fb-0c26-48eb-b2fd-c97309599548\",\"type\":\"LinearAxis\"},{\"id\":\"54f619b7-447c-455a-8c3c-a011883bc003\",\"type\":\"Grid\"},{\"id\":\"ab8e1bd3-b478-4c85-ab7b-d26a789cd224\",\"type\":\"LinearAxis\"},{\"id\":\"eaa2d86a-7591-4d9b-8af3-c8ec1deeaa5f\",\"type\":\"Grid\"},{\"id\":\"8b6a1f76-73af-4d02-bc74-9755077819b0\",\"type\":\"BoxAnnotation\"},{\"id\":\"46edcfa0-d088-480b-ab8f-feb2b47cbda1\",\"type\":\"Legend\"},{\"id\":\"e9253700-d137-453d-b055-8fce7bd82699\",\"type\":\"GlyphRenderer\"},{\"id\":\"ecea28f3-2011-444b-9f53-036d19d1915a\",\"type\":\"GlyphRenderer\"},{\"id\":\"76a38af8-c9ff-49aa-8e9d-0ecaebe1ee4c\",\"type\":\"GlyphRenderer\"},{\"id\":\"0b35fd42-4c0f-486c-a73b-2a71def88f7c\",\"type\":\"GlyphRenderer\"},{\"id\":\"1d7431ff-5c82-447e-8dd9-76684eabe40f\",\"type\":\"GlyphRenderer\"}],\"title\":{\"id\":\"5a69a131-0420-4e4b-91ea-dca02d10cb92\",\"type\":\"Title\"},\"toolbar\":{\"id\":\"fd758004-2ca1-45f1-8b1f-3932bcdaba11\",\"type\":\"Toolbar\"},\"x_range\":{\"id\":\"01693bb9-4cd8-4952-a292-2c573b8757c7\",\"type\":\"DataRange1d\"},\"x_scale\":{\"id\":\"c6d512c1-dec2-447a-90e0-3a96fab3c796\",\"type\":\"LinearScale\"},\"y_range\":{\"id\":\"7f87f16f-7589-4cfc-804b-dcc4a7d57f54\",\"type\":\"DataRange1d\"},\"y_scale\":{\"id\":\"750f6da5-d746-4f84-b4e9-b7ee4702b56f\",\"type\":\"LinearScale\"}},\"id\":\"24237766-d8ba-47db-b35b-c3021877e304\",\"subtype\":\"Figure\",\"type\":\"Plot\"},{\"attributes\":{\"fill_alpha\":{\"value\":0.1},\"fill_color\":{\"value\":\"#1f77b4\"},\"line_alpha\":{\"value\":0.1},\"line_color\":{\"value\":\"#1f77b4\"},\"size\":{\"units\":\"screen\",\"value\":10},\"x\":{\"field\":\"weight\"},\"y\":{\"field\":\"hp\"}},\"id\":\"f334e1b0-9815-42f1-b90d-b7aaf233aea4\",\"type\":\"Circle\"},{\"attributes\":{\"callback\":null,\"data\":{\"accel\":{\"__ndarray__\":\"zczMzMzML0CamZmZmRk0QGZmZmZm5jNA\",\"dtype\":\"float64\",\"shape\":[3]},\"colors\":[\"#208F8C\",\"#208F8C\",\"#208F8C\"],\"cyl\":[5,5,5],\"displ\":{\"__ndarray__\":\"AAAAAABgYEAAAAAAAOBmQAAAAAAAQF5A\",\"dtype\":\"float64\",\"shape\":[3]},\"hp\":[103,77,67],\"index\":[272,295,325],\"mpg\":{\"__ndarray__\":\"zczMzMxMNEBmZmZmZmY5QDMzMzMzM0JA\",\"dtype\":\"float64\",\"shape\":[3]},\"name\":[\"audi 5000\",\"mercedes benz 300d\",\"audi 5000s (diesel)\"],\"origin\":[2,2,2],\"weight\":[2830,3530,2950],\"yr\":[78,79,80]},\"selected\":{\"id\":\"74aca3c0-5214-4f63-b0a8-0e4d28987dc6\",\"type\":\"Selection\"},\"selection_policy\":{\"id\":\"486c2f81-9a6b-4fcd-be01-2bc22258fa61\",\"type\":\"UnionRenderers\"}},\"id\":\"38c09654-aa28-409c-a87f-5b89c66b75ca\",\"type\":\"ColumnDataSource\"},{\"attributes\":{\"plot\":{\"id\":\"24237766-d8ba-47db-b35b-c3021877e304\",\"subtype\":\"Figure\",\"type\":\"Plot\"},\"ticker\":{\"id\":\"083d1278-e631-425e-b161-eeebe0a43f93\",\"type\":\"BasicTicker\"}},\"id\":\"54f619b7-447c-455a-8c3c-a011883bc003\",\"type\":\"Grid\"},{\"attributes\":{\"data_source\":{\"id\":\"38c09654-aa28-409c-a87f-5b89c66b75ca\",\"type\":\"ColumnDataSource\"},\"glyph\":{\"id\":\"6a56b46a-04e6-456b-81c1-4cd60c986569\",\"type\":\"Circle\"},\"hover_glyph\":null,\"muted_glyph\":null,\"nonselection_glyph\":{\"id\":\"47224835-e532-411a-b6d6-066032ae98e9\",\"type\":\"Circle\"},\"selection_glyph\":null,\"view\":{\"id\":\"60060ef4-aebf-4dd6-9eb5-890f1eed07e2\",\"type\":\"CDSView\"}},\"id\":\"76a38af8-c9ff-49aa-8e9d-0ecaebe1ee4c\",\"type\":\"GlyphRenderer\"},{\"attributes\":{\"data_source\":{\"id\":\"ed6484f1-4900-47e5-8349-4f7f70b33e35\",\"type\":\"ColumnDataSource\"},\"glyph\":{\"id\":\"6de9a662-c952-4e05-80f5-85c255ccd85e\",\"type\":\"Circle\"},\"hover_glyph\":null,\"muted_glyph\":null,\"nonselection_glyph\":{\"id\":\"f334e1b0-9815-42f1-b90d-b7aaf233aea4\",\"type\":\"Circle\"},\"selection_glyph\":null,\"view\":{\"id\":\"cc999967-4460-4ba2-8190-b304b1d45edd\",\"type\":\"CDSView\"}},\"id\":\"0b35fd42-4c0f-486c-a73b-2a71def88f7c\",\"type\":\"GlyphRenderer\"},{\"attributes\":{},\"id\":\"750f6da5-d746-4f84-b4e9-b7ee4702b56f\",\"type\":\"LinearScale\"},{\"attributes\":{\"callback\":null},\"id\":\"7f87f16f-7589-4cfc-804b-dcc4a7d57f54\",\"type\":\"DataRange1d\"},{\"attributes\":{\"data_source\":{\"id\":\"761ca596-0b28-4040-ad03-c6ae4ec84b4b\",\"type\":\"ColumnDataSource\"},\"glyph\":{\"id\":\"c0cb7445-699f-446d-875c-6d0eaeea4b78\",\"type\":\"Circle\"},\"hover_glyph\":null,\"muted_glyph\":null,\"nonselection_glyph\":{\"id\":\"b26e9e62-f44d-4da8-b385-5357c3230c6e\",\"type\":\"Circle\"},\"selection_glyph\":null,\"view\":{\"id\":\"8d04f1e5-018e-4ddd-9a00-7cfaa6b9bb96\",\"type\":\"CDSView\"}},\"id\":\"1d7431ff-5c82-447e-8dd9-76684eabe40f\",\"type\":\"GlyphRenderer\"},{\"attributes\":{\"callback\":null},\"id\":\"01693bb9-4cd8-4952-a292-2c573b8757c7\",\"type\":\"DataRange1d\"},{\"attributes\":{},\"id\":\"083d1278-e631-425e-b161-eeebe0a43f93\",\"type\":\"BasicTicker\"},{\"attributes\":{\"fill_alpha\":{\"value\":0.1},\"fill_color\":{\"value\":\"#1f77b4\"},\"line_alpha\":{\"value\":0.1},\"line_color\":{\"value\":\"#1f77b4\"},\"size\":{\"units\":\"screen\",\"value\":10},\"x\":{\"field\":\"weight\"},\"y\":{\"field\":\"hp\"}},\"id\":\"b26e9e62-f44d-4da8-b385-5357c3230c6e\",\"type\":\"Circle\"},{\"attributes\":{},\"id\":\"ab1f2872-9170-4ab9-9991-f7dda79cfdf9\",\"type\":\"HelpTool\"},{\"attributes\":{\"axis_label\":\"Weight\",\"formatter\":{\"id\":\"27a89731-14ec-4261-a2bb-34eb68e79c0b\",\"type\":\"BasicTickFormatter\"},\"plot\":{\"id\":\"24237766-d8ba-47db-b35b-c3021877e304\",\"subtype\":\"Figure\",\"type\":\"Plot\"},\"ticker\":{\"id\":\"083d1278-e631-425e-b161-eeebe0a43f93\",\"type\":\"BasicTicker\"}},\"id\":\"fc9fc5fb-0c26-48eb-b2fd-c97309599548\",\"type\":\"LinearAxis\"},{\"attributes\":{\"callback\":null,\"data\":{\"accel\":{\"__ndarray__\":\"AAAAAAAAKEAAAAAAAAAnQAAAAAAAACZAAAAAAAAAKEAAAAAAAAAlQAAAAAAAACRAAAAAAAAAIkAAAAAAAAAhQAAAAAAAACRAAAAAAAAAIUAAAAAAAAAkQAAAAAAAACBAAAAAAAAAI0AAAAAAAAAkQAAAAAAAACxAAAAAAAAALkAAAAAAAAArQAAAAAAAgDJAAAAAAAAAKEAAAAAAAAAnQAAAAAAAACtAAAAAAAAAKkAAAAAAAAAnQAAAAAAAAChAAAAAAAAAKEAAAAAAAAAoQAAAAAAAAChAAAAAAAAAK0AAAAAAAAAqQAAAAAAAACdAAAAAAAAAJkAAAAAAAAArQAAAAAAAACtAAAAAAAAAKUAAAAAAAAApQAAAAAAAACxAAAAAAAAAMEAAAAAAAAAsQAAAAAAAACpAAAAAAAAAJ0AAAAAAAAAqQAAAAAAAAC1AAAAAAAAAKUAAAAAAAAAnQAAAAAAAAChAAAAAAAAAKkAAAAAAAAAtQAAAAAAAACZAAAAAAAAAJkAAAAAAAAAmQAAAAAAAACxAAAAAAAAAKUAAAAAAAAAqQAAAAAAAAClAAAAAAAAAKkAAAAAAAAAjQAAAAAAAACZAAAAAAAAAJkAAAAAAAAAsQAAAAAAAAC1AAAAAAAAAK0AAAAAAAAAwQAAAAAAAAC9AAAAAAAAAJ0AAAAAAAAAsQAAAAAAAAC1AAAAAAAAAK0AAAAAAAAArQAAAAAAAAChAAAAAAAAAKkAAAAAAAAAqQM3MzMzMzCtAmpmZmZmZKUBmZmZmZmYqQDMzMzMzMyhAAAAAAAAAKEAAAAAAAAAuQAAAAAAAACxAAAAAAAAAKUAAAAAAAAAzQGZmZmZmZitAzczMzMzMLUAzMzMzMzMmQM3MzMzMzCZAZmZmZmZmKEAAAAAAAAAtQAAAAAAAAC9AZmZmZmZmKkCamZmZmZkpQGZmZmZmZipAZmZmZmZmJkBmZmZmZmYrQM3MzMzMzC5AzczMzMzMKkBmZmZmZmYqQGZmZmZmZi5AzczMzMzMLUCamZmZmZksQAAAAAAAAC5AAAAAAAAAKkBmZmZmZmYxQDMzMzMzMzZAAAAAAAAAM0A=\",\"dtype\":\"float64\",\"shape\":[103]},\"colors\":[\"#440154\",\"#440154\",\"#440154\",\"#440154\",\"#440154\",\"#440154\",\"#440154\",\"#440154\",\"#440154\",\"#440154\",\"#440154\",\"#440154\",\"#440154\",\"#440154\",\"#440154\",\"#440154\",\"#440154\",\"#440154\",\"#440154\",\"#440154\",\"#440154\",\"#440154\",\"#440154\",\"#440154\",\"#440154\",\"#440154\",\"#440154\",\"#440154\",\"#440154\",\"#440154\",\"#440154\",\"#440154\",\"#440154\",\"#440154\",\"#440154\",\"#440154\",\"#440154\",\"#440154\",\"#440154\",\"#440154\",\"#440154\",\"#440154\",\"#440154\",\"#440154\",\"#440154\",\"#440154\",\"#440154\",\"#440154\",\"#440154\",\"#440154\",\"#440154\",\"#440154\",\"#440154\",\"#440154\",\"#440154\",\"#440154\",\"#440154\",\"#440154\",\"#440154\",\"#440154\",\"#440154\",\"#440154\",\"#440154\",\"#440154\",\"#440154\",\"#440154\",\"#440154\",\"#440154\",\"#440154\",\"#440154\",\"#440154\",\"#440154\",\"#440154\",\"#440154\",\"#440154\",\"#440154\",\"#440154\",\"#440154\",\"#440154\",\"#440154\",\"#440154\",\"#440154\",\"#440154\",\"#440154\",\"#440154\",\"#440154\",\"#440154\",\"#440154\",\"#440154\",\"#440154\",\"#440154\",\"#440154\",\"#440154\",\"#440154\",\"#440154\",\"#440154\",\"#440154\",\"#440154\",\"#440154\",\"#440154\",\"#440154\",\"#440154\",\"#440154\"],\"cyl\":[8,8,8,8,8,8,8,8,8,8,8,8,8,8,8,8,8,8,8,8,8,8,8,8,8,8,8,8,8,8,8,8,8,8,8,8,8,8,8,8,8,8,8,8,8,8,8,8,8,8,8,8,8,8,8,8,8,8,8,8,8,8,8,8,8,8,8,8,8,8,8,8,8,8,8,8,8,8,8,8,8,8,8,8,8,8,8,8,8,8,8,8,8,8,8,8,8,8,8,8,8,8,8],\"displ\":{\"__ndarray__\":\"AAAAAAAwc0AAAAAAAOB1QAAAAAAA4HNAAAAAAAAAc0AAAAAAAOByQAAAAAAA0HpAAAAAAABgfEAAAAAAAIB7QAAAAAAAcHxAAAAAAABgeEAAAAAAAPB3QAAAAAAAQHVAAAAAAAAAeUAAAAAAAHB8QAAAAAAAgHZAAAAAAAAwc0AAAAAAAOBzQAAAAAAAAHNAAAAAAADgdUAAAAAAAAB5QAAAAAAA8HVAAAAAAADgc0AAAAAAAPB3QAAAAAAAAHlAAAAAAAAAeUAAAAAAAOB1QAAAAAAAAHlAAAAAAADgc0AAAAAAAPB1QAAAAAAAAHNAAAAAAADQekAAAAAAAOB1QAAAAAAA4HVAAAAAAAAAeUAAAAAAAABzQAAAAAAAMHNAAAAAAADgckAAAAAAAOBzQAAAAAAA4HVAAAAAAAAAc0AAAAAAAOB1QAAAAAAA4HJAAAAAAADgc0AAAAAAANB6QAAAAAAAAHlAAAAAAADwdUAAAAAAAOBzQAAAAAAAgHtAAAAAAABwfEAAAAAAAIB2QAAAAAAAAHlAAAAAAAAAeUAAAAAAAIB2QAAAAAAA4HVAAAAAAADgdUAAAAAAAAB5QAAAAAAA4HNAAAAAAADgdUAAAAAAAOByQAAAAAAA4HVAAAAAAADgc0AAAAAAAOByQAAAAAAAAHNAAAAAAAAAeUAAAAAAAOB1QAAAAAAA4HNAAAAAAADwdUAAAAAAAGBwQAAAAAAA4HJAAAAAAAAQc0AAAAAAAOBzQAAAAAAAAHNAAAAAAADwdUAAAAAAAOBzQAAAAAAA4HVAAAAAAADgdUAAAAAAAOByQAAAAAAA4HNAAAAAAAAQc0AAAAAAAEBwQAAAAAAA4HNAAAAAAADgckAAAAAAAAB5QAAAAAAA4HVAAAAAAAAAeUAAAAAAAPB1QAAAAAAAQHBAAAAAAADgc0AAAAAAAOByQAAAAAAAEHNAAAAAAADgckAAAAAAAOBzQAAAAAAAEHNAAAAAAADgckAAAAAAAPB1QAAAAAAA4HNAAAAAAADgdUAAAAAAAPB1QAAAAAAAsHBAAAAAAACAdkAAAAAAAOB1QAAAAAAAQHBAAAAAAADgdUA=\",\"dtype\":\"float64\",\"shape\":[103]},\"hp\":[130,165,150,150,140,198,220,215,225,190,170,160,150,225,215,200,210,193,165,175,153,150,180,170,175,165,175,150,153,150,208,155,160,190,150,130,140,150,175,150,145,137,150,198,150,158,150,215,225,175,150,167,170,180,145,230,150,180,140,150,150,140,150,170,145,150,148,110,129,140,150,120,152,150,180,145,130,150,145,110,145,130,180,170,190,149,110,140,139,145,139,140,130,129,138,135,155,142,125,150,125,90,105],\"index\":[0,1,2,3,4,5,6,7,8,9,10,11,12,13,25,26,27,28,37,38,39,40,41,42,43,61,62,63,64,65,66,67,68,69,71,72,73,74,84,85,86,87,88,89,90,91,92,93,94,95,102,103,104,105,114,115,120,123,134,135,136,137,138,154,155,156,157,163,164,185,186,187,188,206,210,211,212,213,219,220,221,222,227,228,229,230,247,248,249,260,262,263,283,284,285,286,287,288,289,290,296,298,359],\"mpg\":{\"__ndarray__\":\"AAAAAAAAMkAAAAAAAAAuQAAAAAAAADJAAAAAAAAAMEAAAAAAAAAxQAAAAAAAAC5AAAAAAAAALEAAAAAAAAAsQAAAAAAAACxAAAAAAAAALkAAAAAAAAAuQAAAAAAAACxAAAAAAAAALkAAAAAAAAAsQAAAAAAAACRAAAAAAAAAJEAAAAAAAAAmQAAAAAAAACJAAAAAAAAALEAAAAAAAAAsQAAAAAAAACxAAAAAAAAALEAAAAAAAAAoQAAAAAAAACpAAAAAAAAAKkAAAAAAAAAqQAAAAAAAACxAAAAAAAAALkAAAAAAAAAsQAAAAAAAADFAAAAAAAAAJkAAAAAAAAAqQAAAAAAAAChAAAAAAAAAKkAAAAAAAAAuQAAAAAAAACpAAAAAAAAAKkAAAAAAAAAsQAAAAAAAACpAAAAAAAAALEAAAAAAAAAqQAAAAAAAACxAAAAAAAAALkAAAAAAAAAoQAAAAAAAACpAAAAAAAAAKkAAAAAAAAAsQAAAAAAAACpAAAAAAAAAKEAAAAAAAAAqQAAAAAAAACZAAAAAAAAAKEAAAAAAAAAqQAAAAAAAAChAAAAAAAAALkAAAAAAAAAwQAAAAAAAAC5AAAAAAAAAJkAAAAAAAAAwQAAAAAAAACpAAAAAAAAALEAAAAAAAAAsQAAAAAAAACxAAAAAAAAAMEAAAAAAAAAuQAAAAAAAADBAAAAAAAAALEAAAAAAAAA0QAAAAAAAACpAAAAAAACAMUAAAAAAAAAwQAAAAAAAAC9AAAAAAAAALUAAAAAAAAAqQAAAAAAAgDBAAAAAAAAAKkAAAAAAAAAqQAAAAAAAACpAAAAAAACAMUAAAAAAAAAxQAAAAAAAAC9AAAAAAAAALkAAAAAAAAAwQAAAAAAAAC9AAAAAAAAAL0AAAAAAAAAwQGZmZmZm5jNAZmZmZmZmM0AzMzMzMzM0QDMzMzMzMzNAmpmZmZkZMkAAAAAAAIAxQAAAAAAAADFAmpmZmZmZMUAAAAAAAIAwQDMzMzMzMzJAZmZmZmbmMEAAAAAAAAAvQDMzMzMzMzNAAAAAAACAMkAAAAAAAAA3QGZmZmZm5jdAmpmZmZmZOkA=\",\"dtype\":\"float64\",\"shape\":[103]},\"name\":[\"chevrolet chevelle malibu\",\"buick skylark 320\",\"plymouth satellite\",\"amc rebel sst\",\"ford torino\",\"ford galaxie 500\",\"chevrolet impala\",\"plymouth fury iii\",\"pontiac catalina\",\"amc ambassador dpl\",\"dodge challenger se\",\"plymouth 'cuda 340\",\"chevrolet monte carlo\",\"buick estate wagon (sw)\",\"ford f250\",\"chevy c20\",\"dodge d200\",\"hi 1200d\",\"chevrolet impala\",\"pontiac catalina brougham\",\"ford galaxie 500\",\"plymouth fury iii\",\"dodge monaco (sw)\",\"ford country squire (sw)\",\"pontiac safari (sw)\",\"chevrolet impala\",\"pontiac catalina\",\"plymouth fury iii\",\"ford galaxie 500\",\"amc ambassador sst\",\"mercury marquis\",\"buick lesabre custom\",\"oldsmobile delta 88 royale\",\"chrysler newport royal\",\"amc matador (sw)\",\"chevrolet chevelle concours (sw)\",\"ford gran torino (sw)\",\"plymouth satellite custom (sw)\",\"buick century 350\",\"amc matador\",\"chevrolet malibu\",\"ford gran torino\",\"dodge coronet custom\",\"mercury marquis brougham\",\"chevrolet caprice classic\",\"ford ltd\",\"plymouth fury gran sedan\",\"chrysler new yorker brougham\",\"buick electra 225 custom\",\"amc ambassador brougham\",\"chevrolet impala\",\"ford country\",\"plymouth custom suburb\",\"oldsmobile vista cruiser\",\"chevrolet monte carlo s\",\"pontiac grand prix\",\"dodge dart custom\",\"oldsmobile omega\",\"ford gran torino\",\"buick century luxus (sw)\",\"dodge coronet custom (sw)\",\"ford gran torino (sw)\",\"amc matador (sw)\",\"pontiac catalina\",\"chevrolet bel air\",\"plymouth grand fury\",\"ford ltd\",\"chevrolet monza 2+2\",\"ford mustang ii\",\"chevrolet chevelle malibu classic\",\"dodge coronet brougham\",\"amc matador\",\"ford gran torino\",\"plymouth volare premier v8\",\"cadillac seville\",\"chevy c10\",\"ford f108\",\"dodge d100\",\"chevrolet caprice classic\",\"oldsmobile cutlass supreme\",\"dodge monaco brougham\",\"mercury cougar brougham\",\"pontiac grand prix lj\",\"chevrolet monte carlo landau\",\"chrysler cordoba\",\"ford thunderbird\",\"oldsmobile cutlass salon brougham\",\"dodge diplomat\",\"mercury monarch ghia\",\"chevrolet monte carlo landau\",\"ford futura\",\"dodge magnum xe\",\"chevrolet caprice classic\",\"ford ltd landau\",\"mercury grand marquis\",\"dodge st. regis\",\"buick estate wagon (sw)\",\"ford country squire (sw)\",\"chevrolet malibu classic (sw)\",\"chrysler lebaron town @ country (sw)\",\"cadillac eldorado\",\"oldsmobile cutlass salon brougham\",\"oldsmobile cutlass ls\"],\"origin\":[1,1,1,1,1,1,1,1,1,1,1,1,1,1,1,1,1,1,1,1,1,1,1,1,1,1,1,1,1,1,1,1,1,1,1,1,1,1,1,1,1,1,1,1,1,1,1,1,1,1,1,1,1,1,1,1,1,1,1,1,1,1,1,1,1,1,1,1,1,1,1,1,1,1,1,1,1,1,1,1,1,1,1,1,1,1,1,1,1,1,1,1,1,1,1,1,1,1,1,1,1,1,1],\"weight\":[3504,3693,3436,3433,3449,4341,4354,4312,4425,3850,3563,3609,3761,3086,4615,4376,4382,4732,4209,4464,4154,4096,4955,4746,5140,4274,4385,4135,4129,3672,4633,4502,4456,4422,3892,4098,4294,4077,4100,3672,3988,4042,3777,4952,4464,4363,4237,4735,4951,3821,4997,4906,4654,4499,4082,4278,3399,3664,4141,4699,4457,4638,4257,4668,4440,4498,4657,3221,3169,4215,4190,3962,4215,3940,4380,4055,3870,3755,3880,4060,4140,4295,4220,4165,4325,4335,3365,3735,3570,3425,3205,4080,3840,3725,3955,3830,4360,4054,3605,3940,3900,3420,3725],\"yr\":[70,70,70,70,70,70,70,70,70,70,70,70,70,70,70,70,70,70,71,71,71,71,71,71,71,72,72,72,72,72,72,72,72,72,72,72,72,72,73,73,73,73,73,73,73,73,73,73,73,73,73,73,73,73,73,73,73,73,74,74,74,74,74,75,75,75,75,75,75,76,76,76,76,76,76,76,76,76,77,77,77,77,77,77,77,77,78,78,78,78,78,78,79,79,79,79,79,79,79,79,79,79,81]},\"selected\":{\"id\":\"a975c507-7960-412e-98c0-df3b18e9d30b\",\"type\":\"Selection\"},\"selection_policy\":{\"id\":\"ac530900-c10d-481f-be48-249ea537d5d6\",\"type\":\"UnionRenderers\"}},\"id\":\"761ca596-0b28-4040-ad03-c6ae4ec84b4b\",\"type\":\"ColumnDataSource\"},{\"attributes\":{\"dimension\":1,\"plot\":{\"id\":\"24237766-d8ba-47db-b35b-c3021877e304\",\"subtype\":\"Figure\",\"type\":\"Plot\"},\"ticker\":{\"id\":\"30122603-f26f-45f2-acc4-f5c7005d0d41\",\"type\":\"BasicTicker\"}},\"id\":\"eaa2d86a-7591-4d9b-8af3-c8ec1deeaa5f\",\"type\":\"Grid\"},{\"attributes\":{\"label\":{\"field\":\"cyl\"},\"renderers\":[{\"id\":\"0b35fd42-4c0f-486c-a73b-2a71def88f7c\",\"type\":\"GlyphRenderer\"}]},\"id\":\"e50e3570-5e2c-4211-b0db-6cac256962a5\",\"type\":\"LegendItem\"},{\"attributes\":{\"label\":{\"field\":\"cyl\"},\"renderers\":[{\"id\":\"e9253700-d137-453d-b055-8fce7bd82699\",\"type\":\"GlyphRenderer\"}]},\"id\":\"0dcb9ce0-b661-45c4-8eea-29f0eee03b09\",\"type\":\"LegendItem\"},{\"attributes\":{},\"id\":\"35dc7577-48db-4f16-945a-bd6a4cee7f0b\",\"type\":\"UnionRenderers\"},{\"attributes\":{},\"id\":\"72debf91-8196-4668-aa60-df150962ca1b\",\"type\":\"PanTool\"},{\"attributes\":{},\"id\":\"74aca3c0-5214-4f63-b0a8-0e4d28987dc6\",\"type\":\"Selection\"},{\"attributes\":{\"bottom_units\":\"screen\",\"fill_alpha\":{\"value\":0.5},\"fill_color\":{\"value\":\"lightgrey\"},\"left_units\":\"screen\",\"level\":\"overlay\",\"line_alpha\":{\"value\":1.0},\"line_color\":{\"value\":\"black\"},\"line_dash\":[4,4],\"line_width\":{\"value\":2},\"plot\":null,\"render_mode\":\"css\",\"right_units\":\"screen\",\"top_units\":\"screen\"},\"id\":\"8b6a1f76-73af-4d02-bc74-9755077819b0\",\"type\":\"BoxAnnotation\"},{\"attributes\":{\"source\":{\"id\":\"ed6484f1-4900-47e5-8349-4f7f70b33e35\",\"type\":\"ColumnDataSource\"}},\"id\":\"cc999967-4460-4ba2-8190-b304b1d45edd\",\"type\":\"CDSView\"},{\"attributes\":{\"fill_alpha\":{\"value\":0.6},\"fill_color\":{\"field\":\"colors\"},\"line_alpha\":{\"value\":0.6},\"line_color\":{\"field\":\"colors\"},\"size\":{\"units\":\"screen\",\"value\":10},\"x\":{\"field\":\"weight\"},\"y\":{\"field\":\"hp\"}},\"id\":\"6de9a662-c952-4e05-80f5-85c255ccd85e\",\"type\":\"Circle\"},{\"attributes\":{\"callback\":null,\"data\":{\"accel\":{\"__ndarray__\":\"AAAAAAAAK0AAAAAAAAArQAAAAAAAACtAAAAAAAAAKUA=\",\"dtype\":\"float64\",\"shape\":[4]},\"colors\":[\"#FDE724\",\"#FDE724\",\"#FDE724\",\"#FDE724\"],\"cyl\":[3,3,3,3],\"displ\":{\"__ndarray__\":\"AAAAAACAUUAAAAAAAIBRQAAAAAAAAFRAAAAAAACAUUA=\",\"dtype\":\"float64\",\"shape\":[4]},\"hp\":[97,90,110,100],\"index\":[70,110,241,331],\"mpg\":{\"__ndarray__\":\"AAAAAAAAM0AAAAAAAAAyQAAAAAAAgDVAMzMzMzOzN0A=\",\"dtype\":\"float64\",\"shape\":[4]},\"name\":[\"mazda rx2 coupe\",\"maxda rx3\",\"mazda rx-4\",\"mazda rx-7 gs\"],\"origin\":[3,3,3,3],\"weight\":[2330,2124,2720,2420],\"yr\":[72,73,77,80]},\"selected\":{\"id\":\"f242d2cd-2bd2-4b84-90ba-a6a110e39cb9\",\"type\":\"Selection\"},\"selection_policy\":{\"id\":\"04bde136-f3dd-4083-89eb-091d492fa4b8\",\"type\":\"UnionRenderers\"}},\"id\":\"e1f20540-32a0-426d-89e5-b2afea4dd5e6\",\"type\":\"ColumnDataSource\"},{\"attributes\":{},\"id\":\"5ee7e42d-823c-488c-82a6-13618d57312f\",\"type\":\"BasicTickFormatter\"},{\"attributes\":{},\"id\":\"30122603-f26f-45f2-acc4-f5c7005d0d41\",\"type\":\"BasicTicker\"},{\"attributes\":{\"click_policy\":\"hide\",\"items\":[{\"id\":\"0dcb9ce0-b661-45c4-8eea-29f0eee03b09\",\"type\":\"LegendItem\"},{\"id\":\"27c7f2e9-9df2-488c-878a-5a4975d5fbae\",\"type\":\"LegendItem\"},{\"id\":\"e49de49e-9727-4985-8b60-745400e3aa86\",\"type\":\"LegendItem\"},{\"id\":\"e50e3570-5e2c-4211-b0db-6cac256962a5\",\"type\":\"LegendItem\"},{\"id\":\"2c6c1f2e-3c4c-4752-a8d0-1f07a9bc1829\",\"type\":\"LegendItem\"}],\"location\":\"top_left\",\"plot\":{\"id\":\"24237766-d8ba-47db-b35b-c3021877e304\",\"subtype\":\"Figure\",\"type\":\"Plot\"}},\"id\":\"46edcfa0-d088-480b-ab8f-feb2b47cbda1\",\"type\":\"Legend\"},{\"attributes\":{\"axis_label\":\"Horsepower\",\"formatter\":{\"id\":\"5ee7e42d-823c-488c-82a6-13618d57312f\",\"type\":\"BasicTickFormatter\"},\"plot\":{\"id\":\"24237766-d8ba-47db-b35b-c3021877e304\",\"subtype\":\"Figure\",\"type\":\"Plot\"},\"ticker\":{\"id\":\"30122603-f26f-45f2-acc4-f5c7005d0d41\",\"type\":\"BasicTicker\"}},\"id\":\"ab8e1bd3-b478-4c85-ab7b-d26a789cd224\",\"type\":\"LinearAxis\"},{\"attributes\":{\"label\":{\"field\":\"cyl\"},\"renderers\":[{\"id\":\"ecea28f3-2011-444b-9f53-036d19d1915a\",\"type\":\"GlyphRenderer\"}]},\"id\":\"27c7f2e9-9df2-488c-878a-5a4975d5fbae\",\"type\":\"LegendItem\"},{\"attributes\":{\"source\":{\"id\":\"fdf98fdc-fdb2-407e-a6cf-8d5916d5abdf\",\"type\":\"ColumnDataSource\"}},\"id\":\"37b1fc79-eafc-4015-bef9-fbae7a6084e7\",\"type\":\"CDSView\"},{\"attributes\":{\"data_source\":{\"id\":\"e1f20540-32a0-426d-89e5-b2afea4dd5e6\",\"type\":\"ColumnDataSource\"},\"glyph\":{\"id\":\"f2b9ff73-537a-48a8-8528-52378792e5da\",\"type\":\"Circle\"},\"hover_glyph\":null,\"muted_glyph\":null,\"nonselection_glyph\":{\"id\":\"1eae25b8-da62-456e-96e0-53d25396b2b5\",\"type\":\"Circle\"},\"selection_glyph\":null,\"view\":{\"id\":\"95b80bdb-2979-4634-a0ba-6092b14f302c\",\"type\":\"CDSView\"}},\"id\":\"e9253700-d137-453d-b055-8fce7bd82699\",\"type\":\"GlyphRenderer\"},{\"attributes\":{},\"id\":\"ac530900-c10d-481f-be48-249ea537d5d6\",\"type\":\"UnionRenderers\"},{\"attributes\":{\"label\":{\"field\":\"cyl\"},\"renderers\":[{\"id\":\"1d7431ff-5c82-447e-8dd9-76684eabe40f\",\"type\":\"GlyphRenderer\"}]},\"id\":\"2c6c1f2e-3c4c-4752-a8d0-1f07a9bc1829\",\"type\":\"LegendItem\"},{\"attributes\":{},\"id\":\"04bde136-f3dd-4083-89eb-091d492fa4b8\",\"type\":\"UnionRenderers\"},{\"attributes\":{\"fill_alpha\":{\"value\":0.1},\"fill_color\":{\"value\":\"#1f77b4\"},\"line_alpha\":{\"value\":0.1},\"line_color\":{\"value\":\"#1f77b4\"},\"size\":{\"units\":\"screen\",\"value\":10},\"x\":{\"field\":\"weight\"},\"y\":{\"field\":\"hp\"}},\"id\":\"1eae25b8-da62-456e-96e0-53d25396b2b5\",\"type\":\"Circle\"},{\"attributes\":{},\"id\":\"ef3d15c8-de7b-47d1-bc3f-3ddba95ce63b\",\"type\":\"ResetTool\"},{\"attributes\":{\"fill_alpha\":{\"value\":0.1},\"fill_color\":{\"value\":\"#1f77b4\"},\"line_alpha\":{\"value\":0.1},\"line_color\":{\"value\":\"#1f77b4\"},\"size\":{\"units\":\"screen\",\"value\":10},\"x\":{\"field\":\"weight\"},\"y\":{\"field\":\"hp\"}},\"id\":\"47224835-e532-411a-b6d6-066032ae98e9\",\"type\":\"Circle\"},{\"attributes\":{},\"id\":\"f242d2cd-2bd2-4b84-90ba-a6a110e39cb9\",\"type\":\"Selection\"},{\"attributes\":{},\"id\":\"e716c940-d65f-477e-ad12-18921e3deeed\",\"type\":\"Selection\"},{\"attributes\":{},\"id\":\"44e73ddf-8a0a-4e38-a569-cf53af94effc\",\"type\":\"SaveTool\"},{\"attributes\":{},\"id\":\"a975c507-7960-412e-98c0-df3b18e9d30b\",\"type\":\"Selection\"},{\"attributes\":{\"source\":{\"id\":\"761ca596-0b28-4040-ad03-c6ae4ec84b4b\",\"type\":\"ColumnDataSource\"}},\"id\":\"8d04f1e5-018e-4ddd-9a00-7cfaa6b9bb96\",\"type\":\"CDSView\"},{\"attributes\":{\"fill_alpha\":{\"value\":0.1},\"fill_color\":{\"value\":\"#1f77b4\"},\"line_alpha\":{\"value\":0.1},\"line_color\":{\"value\":\"#1f77b4\"},\"size\":{\"units\":\"screen\",\"value\":10},\"x\":{\"field\":\"weight\"},\"y\":{\"field\":\"hp\"}},\"id\":\"6201372c-7e0e-4f9d-83ab-2b544c243f27\",\"type\":\"Circle\"},{\"attributes\":{},\"id\":\"db051c46-4aaf-4cb9-9706-d63eb795b79d\",\"type\":\"Selection\"},{\"attributes\":{\"callback\":null,\"data\":{\"accel\":{\"__ndarray__\":\"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\",\"dtype\":\"float64\",\"shape\":[199]},\"colors\":[\"#5BC862\",\"#5BC862\",\"#5BC862\",\"#5BC862\",\"#5BC862\",\"#5BC862\",\"#5BC862\",\"#5BC862\",\"#5BC862\",\"#5BC862\",\"#5BC862\",\"#5BC862\",\"#5BC862\",\"#5BC862\",\"#5BC862\",\"#5BC862\",\"#5BC862\",\"#5BC862\",\"#5BC862\",\"#5BC862\",\"#5BC862\",\"#5BC862\",\"#5BC862\",\"#5BC862\",\"#5BC862\",\"#5BC862\",\"#5BC862\",\"#5BC862\",\"#5BC862\",\"#5BC862\",\"#5BC862\",\"#5BC862\",\"#5BC862\",\"#5BC862\",\"#5BC862\",\"#5BC862\",\"#5BC862\",\"#5BC862\",\"#5BC862\",\"#5BC862\",\"#5BC862\",\"#5BC862\",\"#5BC862\",\"#5BC862\",\"#5BC862\",\"#5BC862\",\"#5BC862\",\"#5BC862\",\"#5BC862\",\"#5BC862\",\"#5BC862\",\"#5BC862\",\"#5BC862\",\"#5BC862\",\"#5BC862\",\"#5BC862\",\"#5BC862\",\"#5BC862\",\"#5BC862\",\"#5BC862\",\"#5BC862\",\"#5BC862\",\"#5BC862\",\"#5BC862\",\"#5BC862\",\"#5BC862\",\"#5BC862\",\"#5BC862\",\"#5BC862\",\"#5BC862\",\"#5BC862\",\"#5BC862\",\"#5BC862\",\"#5BC862\",\"#5BC862\",\"#5BC862\",\"#5BC862\",\"#5BC862\",\"#5BC862\",\"#5BC862\",\"#5BC862\",\"#5BC862\",\"#5BC862\",\"#5BC862\",\"#5BC862\",\"#5BC862\",\"#5BC862\",\"#5BC862\",\"#5BC862\",\"#5BC862\",\"#5BC862\",\"#5BC862\",\"#5BC862\",\"#5BC862\",\"#5BC862\",\"#5BC862\",\"#5BC862\",\"#5BC862\",\"#5BC862\",\"#5BC862\",\"#5BC862\",\"#5BC862\",\"#5BC862\",\"#5BC862\",\"#5BC862\",\"#5BC862\",\"#5BC862\",\"#5BC862\",\"#5BC862\",\"#5BC862\",\"#5BC862\",\"#5BC862\",\"#5BC862\",\"#5BC862\",\"#5BC862\",\"#5BC862\",\"#5BC862\",\"#5BC862\",\"#5BC862\",\"#5BC862\",\"#5BC862\",\"#5BC862\",\"#5BC862\",\"#5BC862\",\"#5BC862\",\"#5BC862\",\"#5BC862\",\"#5BC862\",\"#5BC862\",\"#5BC862\",\"#5BC862\",\"#5BC862\",\"#5BC862\",\"#5BC862\",\"#5BC862\",\"#5BC862\",\"#5BC862\",\"#5BC862\",\"#5BC862\",\"#5BC862\",\"#5BC862\",\"#5BC862\",\"#5BC862\",\"#5BC862\",\"#5BC862\",\"#5BC862\",\"#5BC862\",\"#5BC862\",\"#5BC862\",\"#5BC862\",\"#5BC862\",\"#5BC862\",\"#5BC862\",\"#5BC862\",\"#5BC862\",\"#5BC862\",\"#5BC862\",\"#5BC862\",\"#5BC862\",\"#5BC862\",\"#5BC862\",\"#5BC862\",\"#5BC862\",\"#5BC862\",\"#5BC862\",\"#5BC862\",\"#5BC862\",\"#5BC862\",\"#5BC862\",\"#5BC862\",\"#5BC862\",\"#5BC862\",\"#5BC862\",\"#5BC862\",\"#5BC862\",\"#5BC862\",\"#5BC862\",\"#5BC862\",\"#5BC862\",\"#5BC862\",\"#5BC862\",\"#5BC862\",\"#5BC862\",\"#5BC862\",\"#5BC862\",\"#5BC862\",\"#5BC862\",\"#5BC862\",\"#5BC862\",\"#5BC862\",\"#5BC862\",\"#5BC862\",\"#5BC862\",\"#5BC862\",\"#5BC862\",\"#5BC862\",\"#5BC862\",\"#5BC862\",\"#5BC862\"],\"cyl\":[4,4,4,4,4,4,4,4,4,4,4,4,4,4,4,4,4,4,4,4,4,4,4,4,4,4,4,4,4,4,4,4,4,4,4,4,4,4,4,4,4,4,4,4,4,4,4,4,4,4,4,4,4,4,4,4,4,4,4,4,4,4,4,4,4,4,4,4,4,4,4,4,4,4,4,4,4,4,4,4,4,4,4,4,4,4,4,4,4,4,4,4,4,4,4,4,4,4,4,4,4,4,4,4,4,4,4,4,4,4,4,4,4,4,4,4,4,4,4,4,4,4,4,4,4,4,4,4,4,4,4,4,4,4,4,4,4,4,4,4,4,4,4,4,4,4,4,4,4,4,4,4,4,4,4,4,4,4,4,4,4,4,4,4,4,4,4,4,4,4,4,4,4,4,4,4,4,4,4,4,4,4,4,4,4,4,4,4,4,4,4,4,4,4,4,4,4,4,4],\"displ\":{\"__ndarray__\":\"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\",\"dtype\":\"float64\",\"shape\":[199]},\"hp\":[95,88,46,87,90,95,113,88,90,95,72,86,90,70,76,65,69,60,70,95,80,54,90,86,112,76,87,69,86,92,97,80,88,46,88,72,94,85,90,49,75,91,112,110,67,80,65,75,83,67,78,52,61,75,75,75,97,93,67,75,83,78,96,71,97,70,95,88,98,115,53,86,81,92,79,83,52,60,70,53,71,70,75,72,102,88,68,80,58,96,70,78,88,75,89,63,83,67,78,110,48,66,52,70,60,88,68,95,97,75,95,105,85,97,115,71,68,88,71,65,80,80,71,70,70,65,69,90,90,76,60,70,65,90,88,90,78,90,75,92,75,65,105,65,48,48,67,67,67,62,88,72,84,84,92,84,58,64,60,67,65,62,68,63,65,65,74,75,75,100,74,80,88,88,88,85,84,90,92,74,68,68,63,70,88,75,70,67,67,67,92,96,84,90,86,52,84,79,82],\"index\":[14,18,19,20,21,22,23,29,30,31,45,48,49,50,51,52,53,54,55,56,57,58,59,60,75,76,77,78,79,80,81,82,83,101,107,108,109,111,113,116,117,118,119,121,127,128,129,130,139,140,141,142,143,144,145,146,147,148,149,165,166,168,169,170,171,173,175,176,177,178,179,180,181,182,183,184,193,194,195,196,201,202,203,204,205,207,214,215,216,217,218,231,232,233,234,235,236,237,238,240,242,243,244,245,246,253,264,265,266,267,268,269,270,271,274,276,277,280,291,292,293,294,297,299,300,301,302,303,306,307,308,309,310,311,312,313,315,316,317,318,319,320,321,322,323,324,326,327,328,329,332,333,334,335,336,338,339,340,341,342,343,344,345,346,347,348,349,350,351,352,353,354,362,363,364,365,366,367,368,369,370,371,372,373,374,375,376,377,378,379,382,384,385,386,387,388,389,390,391],\"mpg\":{\"__ndarray__\":\"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\",\"dtype\":\"float64\",\"shape\":[199]},\"name\":[\"toyota corona mark ii\",\"datsun pl510\",\"volkswagen 1131 deluxe sedan\",\"peugeot 504\",\"audi 100 ls\",\"saab 99e\",\"bmw 2002\",\"datsun pl510\",\"chevrolet vega 2300\",\"toyota corona\",\"chevrolet vega (sw)\",\"mercury capri 2000\",\"opel 1900\",\"peugeot 304\",\"fiat 124b\",\"toyota corolla 1200\",\"datsun 1200\",\"volkswagen model 111\",\"plymouth cricket\",\"toyota corona hardtop\",\"dodge colt hardtop\",\"volkswagen type 3\",\"chevrolet vega\",\"ford pinto runabout\",\"volvo 145e (sw)\",\"volkswagen 411 (sw)\",\"peugeot 504 (sw)\",\"renault 12 (sw)\",\"ford pinto (sw)\",\"datsun 510 (sw)\",\"toyouta corona mark ii (sw)\",\"dodge colt (sw)\",\"toyota corolla 1600 (sw)\",\"volkswagen super beetle\",\"toyota carina\",\"chevrolet vega\",\"datsun 610\",\"ford pinto\",\"fiat 124 sport coupe\",\"fiat 128\",\"opel manta\",\"audi 100ls\",\"volvo 144ea\",\"saab 99le\",\"datsun b210\",\"ford pinto\",\"toyota corolla 1200\",\"chevrolet vega\",\"audi fox\",\"volkswagen dasher\",\"opel manta\",\"toyota corona\",\"datsun 710\",\"dodge colt\",\"fiat 128\",\"fiat 124 tc\",\"honda civic\",\"subaru\",\"fiat x1.9\",\"toyota corolla\",\"ford pinto\",\"pontiac astro\",\"toyota corona\",\"volkswagen dasher\",\"datsun 710\",\"volkswagen rabbit\",\"audi 100ls\",\"peugeot 504\",\"volvo 244dl\",\"saab 99le\",\"honda civic cvcc\",\"fiat 131\",\"opel 1900\",\"capri ii\",\"dodge colt\",\"renault 12tl\",\"chevrolet chevette\",\"chevrolet woody\",\"vw rabbit\",\"honda civic\",\"volkswagen rabbit\",\"datsun b-210\",\"toyota corolla\",\"ford pinto\",\"volvo 245\",\"peugeot 504\",\"honda accord cvcc\",\"buick opel isuzu deluxe\",\"renault 5 gtl\",\"plymouth arrow gs\",\"datsun f-10 hatchback\",\"volkswagen rabbit custom\",\"pontiac sunbird coupe\",\"toyota corolla liftback\",\"ford mustang ii 2+2\",\"chevrolet chevette\",\"dodge colt m/m\",\"subaru dl\",\"volkswagen dasher\",\"bmw 320i\",\"volkswagen rabbit custom diesel\",\"ford fiesta\",\"mazda glc deluxe\",\"datsun b210 gx\",\"honda civic cvcc\",\"ford fairmont (man)\",\"chevrolet chevette\",\"toyota corona\",\"datsun 510\",\"dodge omni\",\"toyota celica gt liftback\",\"plymouth sapporo\",\"oldsmobile starfire sx\",\"datsun 200-sx\",\"saab 99gle\",\"volkswagen scirocco\",\"honda accord lx\",\"ford fairmont 4\",\"vw rabbit custom\",\"maxda glc deluxe\",\"dodge colt hatchback custom\",\"amc spirit dl\",\"peugeot 504\",\"plymouth horizon\",\"plymouth horizon tc3\",\"datsun 210\",\"fiat strada custom\",\"buick skylark limited\",\"pontiac phoenix\",\"vw rabbit\",\"toyota corolla tercel\",\"chevrolet chevette\",\"datsun 310\",\"chevrolet citation\",\"ford fairmont\",\"amc concord\",\"audi 4000\",\"toyota corona liftback\",\"mazda 626\",\"datsun 510 hatchback\",\"toyota corolla\",\"mazda glc\",\"dodge colt\",\"datsun 210\",\"vw rabbit c (diesel)\",\"vw dasher (diesel)\",\"mercedes-benz 240d\",\"honda civic 1500 gl\",\"subaru dl\",\"vokswagen rabbit\",\"triumph tr7 coupe\",\"honda accord\",\"plymouth reliant\",\"buick skylark\",\"dodge aries wagon (sw)\",\"plymouth reliant\",\"toyota starlet\",\"plymouth champ\",\"honda civic 1300\",\"subaru\",\"datsun 210 mpg\",\"toyota tercel\",\"mazda glc 4\",\"plymouth horizon 4\",\"ford escort 4w\",\"ford escort 2h\",\"volkswagen jetta\",\"honda prelude\",\"toyota corolla\",\"datsun 200sx\",\"mazda 626\",\"peugeot 505s turbo diesel\",\"chevrolet cavalier\",\"chevrolet cavalier wagon\",\"chevrolet cavalier 2-door\",\"pontiac j2000 se hatchback\",\"dodge aries se\",\"pontiac phoenix\",\"ford fairmont futura\",\"volkswagen rabbit l\",\"mazda glc custom l\",\"mazda glc custom\",\"plymouth horizon miser\",\"mercury lynx l\",\"nissan stanza xe\",\"honda accord\",\"toyota corolla\",\"honda civic\",\"honda civic (auto)\",\"datsun 310 gx\",\"chrysler lebaron medallion\",\"toyota celica gt\",\"dodge charger 2.2\",\"chevrolet camaro\",\"ford mustang gl\",\"vw pickup\",\"dodge rampage\",\"ford ranger\",\"chevy s-10\"],\"origin\":[3,3,2,2,2,2,2,3,1,3,1,1,2,2,2,3,3,2,1,3,1,2,1,1,2,2,2,2,1,3,3,1,3,2,3,1,3,1,2,2,2,2,2,2,3,1,3,1,2,2,2,3,3,1,2,2,3,3,2,3,1,1,3,2,3,2,2,2,2,2,3,2,2,1,1,2,1,1,2,3,2,3,3,1,2,2,3,1,2,1,3,2,1,3,1,1,1,3,2,2,2,1,3,3,3,1,1,3,3,1,3,1,1,3,2,2,3,1,2,3,1,1,2,1,1,3,2,1,1,2,3,1,3,1,1,1,2,3,3,3,3,3,1,3,2,2,2,3,3,2,2,3,1,1,1,1,3,1,3,3,3,3,3,1,1,1,2,3,3,3,3,2,1,1,1,1,1,1,1,2,3,3,1,1,3,3,3,3,3,3,1,3,1,1,1,2,1,1,1],\"weight\":[2372,2130,1835,2672,2430,2375,2234,2130,2264,2228,2408,2220,2123,2074,2065,1773,1613,1834,1955,2278,2126,2254,2408,2226,2933,2511,2979,2189,2395,2288,2506,2164,2100,1950,2279,2401,2379,2310,2265,1867,2158,2582,2868,2660,1950,2451,1836,2542,2219,1963,2300,1649,2003,2125,2108,2246,2489,2391,2000,2171,2639,2592,2702,2223,2545,1937,2694,2957,2945,2671,1795,2464,2220,2572,2255,2202,2035,2164,1937,1795,1825,1990,2155,2565,3150,3270,2045,2155,1825,2300,1945,1940,2740,2265,2755,2051,2075,1985,2190,2600,1985,1800,1985,2070,1800,2720,2155,2560,2300,2230,2515,2745,2855,2405,2795,1990,2135,2890,1925,1975,1915,2670,3190,2200,2150,2020,2130,2670,2556,2144,1968,2120,2019,2678,2870,3003,2188,2711,2542,2434,2265,2110,2800,2110,2085,2335,3250,1850,2145,1845,2500,2290,2490,2635,2620,2385,1755,1875,1760,2065,1975,2050,1985,2215,2045,2380,2190,2210,2350,2615,2635,3230,2605,2640,2395,2575,2525,2735,2865,1980,2025,1970,2125,2125,2160,2205,2245,1965,1965,1995,2585,2665,2370,2950,2790,2130,2295,2625,2720],\"yr\":[70,70,70,70,70,70,70,71,71,71,71,71,71,71,71,71,71,71,71,72,72,72,72,72,72,72,72,72,72,72,72,72,72,73,73,73,73,73,73,73,73,73,73,73,74,74,74,74,74,74,74,74,74,74,74,74,74,74,74,75,75,75,75,75,75,75,75,75,75,75,75,76,76,76,76,76,76,76,76,76,76,76,76,76,76,76,77,77,77,77,77,77,77,77,77,77,77,77,77,77,78,78,78,78,78,78,78,78,78,78,78,78,78,78,78,78,78,79,79,79,79,79,79,79,79,79,79,79,79,80,80,80,80,80,80,80,80,80,80,80,80,80,80,80,80,80,80,80,80,80,80,80,81,81,81,81,81,81,81,81,81,81,81,81,81,81,81,81,81,81,81,81,82,82,82,82,82,82,82,82,82,82,82,82,82,82,82,82,82,82,82,82,82,82,82,82,82,82,82]},\"selected\":{\"id\":\"db051c46-4aaf-4cb9-9706-d63eb795b79d\",\"type\":\"Selection\"},\"selection_policy\":{\"id\":\"2535ab80-da57-4589-97eb-805d550cf2d0\",\"type\":\"UnionRenderers\"}},\"id\":\"fdf98fdc-fdb2-407e-a6cf-8d5916d5abdf\",\"type\":\"ColumnDataSource\"},{\"attributes\":{\"fill_alpha\":{\"value\":0.6},\"fill_color\":{\"field\":\"colors\"},\"line_alpha\":{\"value\":0.6},\"line_color\":{\"field\":\"colors\"},\"size\":{\"units\":\"screen\",\"value\":10},\"x\":{\"field\":\"weight\"},\"y\":{\"field\":\"hp\"}},\"id\":\"c0cb7445-699f-446d-875c-6d0eaeea4b78\",\"type\":\"Circle\"},{\"attributes\":{\"overlay\":{\"id\":\"8b6a1f76-73af-4d02-bc74-9755077819b0\",\"type\":\"BoxAnnotation\"}},\"id\":\"bededdfb-481e-4433-99d5-b5114e646f79\",\"type\":\"BoxZoomTool\"},{\"attributes\":{},\"id\":\"1e424e24-1016-49b6-8661-911eca550836\",\"type\":\"WheelZoomTool\"},{\"attributes\":{\"active_drag\":\"auto\",\"active_inspect\":\"auto\",\"active_multi\":null,\"active_scroll\":\"auto\",\"active_tap\":\"auto\",\"tools\":[{\"id\":\"72debf91-8196-4668-aa60-df150962ca1b\",\"type\":\"PanTool\"},{\"id\":\"1e424e24-1016-49b6-8661-911eca550836\",\"type\":\"WheelZoomTool\"},{\"id\":\"bededdfb-481e-4433-99d5-b5114e646f79\",\"type\":\"BoxZoomTool\"},{\"id\":\"44e73ddf-8a0a-4e38-a569-cf53af94effc\",\"type\":\"SaveTool\"},{\"id\":\"ef3d15c8-de7b-47d1-bc3f-3ddba95ce63b\",\"type\":\"ResetTool\"},{\"id\":\"ab1f2872-9170-4ab9-9991-f7dda79cfdf9\",\"type\":\"HelpTool\"}]},\"id\":\"fd758004-2ca1-45f1-8b1f-3932bcdaba11\",\"type\":\"Toolbar\"},{\"attributes\":{\"source\":{\"id\":\"e1f20540-32a0-426d-89e5-b2afea4dd5e6\",\"type\":\"ColumnDataSource\"}},\"id\":\"95b80bdb-2979-4634-a0ba-6092b14f302c\",\"type\":\"CDSView\"},{\"attributes\":{},\"id\":\"27a89731-14ec-4261-a2bb-34eb68e79c0b\",\"type\":\"BasicTickFormatter\"},{\"attributes\":{},\"id\":\"c6d512c1-dec2-447a-90e0-3a96fab3c796\",\"type\":\"LinearScale\"},{\"attributes\":{\"fill_alpha\":{\"value\":0.6},\"fill_color\":{\"field\":\"colors\"},\"line_alpha\":{\"value\":0.6},\"line_color\":{\"field\":\"colors\"},\"size\":{\"units\":\"screen\",\"value\":10},\"x\":{\"field\":\"weight\"},\"y\":{\"field\":\"hp\"}},\"id\":\"f5c9619b-d2ac-41b1-a9cc-24ce2cef933b\",\"type\":\"Circle\"},{\"attributes\":{\"fill_alpha\":{\"value\":0.6},\"fill_color\":{\"field\":\"colors\"},\"line_alpha\":{\"value\":0.6},\"line_color\":{\"field\":\"colors\"},\"size\":{\"units\":\"screen\",\"value\":10},\"x\":{\"field\":\"weight\"},\"y\":{\"field\":\"hp\"}},\"id\":\"f2b9ff73-537a-48a8-8528-52378792e5da\",\"type\":\"Circle\"}],\"root_ids\":[\"24237766-d8ba-47db-b35b-c3021877e304\"]},\"title\":\"Bokeh Application\",\"version\":\"0.13.0\"}};\n",
       "  var render_items = [{\"docid\":\"0ba6635f-c702-4a14-bf4b-f6de498f1677\",\"roots\":{\"24237766-d8ba-47db-b35b-c3021877e304\":\"963ff99b-18ae-4b51-8e98-81234c341716\"}}];\n",
       "  root.Bokeh.embed.embed_items_notebook(docs_json, render_items);\n",
       "\n",
       "  }\n",
       "  if (root.Bokeh !== undefined) {\n",
       "    embed_document(root);\n",
       "  } else {\n",
       "    var attempts = 0;\n",
       "    var timer = setInterval(function(root) {\n",
       "      if (root.Bokeh !== undefined) {\n",
       "        embed_document(root);\n",
       "        clearInterval(timer);\n",
       "      }\n",
       "      attempts++;\n",
       "      if (attempts > 100) {\n",
       "        console.log(\"Bokeh: ERROR: Unable to run BokehJS code because BokehJS library is missing\")\n",
       "        clearInterval(timer);\n",
       "      }\n",
       "    }, 10, root)\n",
       "  }\n",
       "})(window);"
      ],
      "application/vnd.bokehjs_exec.v0+json": ""
     },
     "metadata": {
      "application/vnd.bokehjs_exec.v0+json": {
       "id": "24237766-d8ba-47db-b35b-c3021877e304"
      }
     },
     "output_type": "display_data"
    }
   ],
   "source": [
    "from bokeh.plotting import figure, show, reset_output, output_notebook\n",
    "from bokeh.models import ColumnDataSource\n",
    "\n",
    "reset_output() # reset output previous session\n",
    "output_notebook()\n",
    "\n",
    "# color mapper\n",
    "colormap = {8: '#440154', 6: '#3B518A', 5: '#208F8C', 4: '#5BC862', 3: '#FDE724'} # specify colors\n",
    "autompg['colors'] = [colormap[cyl] for cyl in autompg.cyl] # map colors\n",
    "\n",
    "# figure\n",
    "p = figure(plot_width = 800, plot_height = 500, title = 'Number of cylinders by weight and horsepower')\n",
    "\n",
    "# plot data point per legend item (necessary for interactive legend)\n",
    "for cyl in sorted(autompg.cyl.unique()):\n",
    "    source = ColumnDataSource(autompg[autompg.cyl == cyl])\n",
    "    p.circle('weight', 'hp', size = 10, color = 'colors', alpha = 0.6, legend = 'cyl', source = source)\n",
    "\n",
    "# title\n",
    "p.title.align = 'center'\n",
    "p.title.text_color = '#440154'\n",
    "p.title.text_font = 'helvetica'\n",
    "p.title.text_font_style = 'bold'\n",
    "p.title.text_font_size = '14pt'\n",
    "\n",
    "# axis\n",
    "p.xaxis.axis_label = 'Weight'\n",
    "p.yaxis.axis_label = 'Horsepower'\n",
    "\n",
    "# legend\n",
    "p.legend.orientation = 'vertical'\n",
    "p.legend.location = 'top_left'\n",
    "p.legend.click_policy = 'hide'\n",
    "\n",
    "# show\n",
    "show(p)"
   ]
  },
  {
   "cell_type": "code",
   "execution_count": null,
   "metadata": {},
   "outputs": [],
   "source": []
  },
  {
   "cell_type": "code",
   "execution_count": null,
   "metadata": {},
   "outputs": [],
   "source": []
  },
  {
   "cell_type": "code",
   "execution_count": 29,
   "metadata": {},
   "outputs": [
    {
     "data": {
      "text/html": [
       "\n",
       "    <div class=\"bk-root\">\n",
       "        <a href=\"https://bokeh.pydata.org\" target=\"_blank\" class=\"bk-logo bk-logo-small bk-logo-notebook\"></a>\n",
       "        <span id=\"1332e14d-6c31-4eab-aac7-be326eb62788\">Loading BokehJS ...</span>\n",
       "    </div>"
      ]
     },
     "metadata": {},
     "output_type": "display_data"
    },
    {
     "data": {
      "application/javascript": [
       "\n",
       "(function(root) {\n",
       "  function now() {\n",
       "    return new Date();\n",
       "  }\n",
       "\n",
       "  var force = true;\n",
       "\n",
       "  if (typeof (root._bokeh_onload_callbacks) === \"undefined\" || force === true) {\n",
       "    root._bokeh_onload_callbacks = [];\n",
       "    root._bokeh_is_loading = undefined;\n",
       "  }\n",
       "\n",
       "  var JS_MIME_TYPE = 'application/javascript';\n",
       "  var HTML_MIME_TYPE = 'text/html';\n",
       "  var EXEC_MIME_TYPE = 'application/vnd.bokehjs_exec.v0+json';\n",
       "  var CLASS_NAME = 'output_bokeh rendered_html';\n",
       "\n",
       "  /**\n",
       "   * Render data to the DOM node\n",
       "   */\n",
       "  function render(props, node) {\n",
       "    var script = document.createElement(\"script\");\n",
       "    node.appendChild(script);\n",
       "  }\n",
       "\n",
       "  /**\n",
       "   * Handle when an output is cleared or removed\n",
       "   */\n",
       "  function handleClearOutput(event, handle) {\n",
       "    var cell = handle.cell;\n",
       "\n",
       "    var id = cell.output_area._bokeh_element_id;\n",
       "    var server_id = cell.output_area._bokeh_server_id;\n",
       "    // Clean up Bokeh references\n",
       "    if (id != null && id in Bokeh.index) {\n",
       "      Bokeh.index[id].model.document.clear();\n",
       "      delete Bokeh.index[id];\n",
       "    }\n",
       "\n",
       "    if (server_id !== undefined) {\n",
       "      // Clean up Bokeh references\n",
       "      var cmd = \"from bokeh.io.state import curstate; print(curstate().uuid_to_server['\" + server_id + \"'].get_sessions()[0].document.roots[0]._id)\";\n",
       "      cell.notebook.kernel.execute(cmd, {\n",
       "        iopub: {\n",
       "          output: function(msg) {\n",
       "            var id = msg.content.text.trim();\n",
       "            if (id in Bokeh.index) {\n",
       "              Bokeh.index[id].model.document.clear();\n",
       "              delete Bokeh.index[id];\n",
       "            }\n",
       "          }\n",
       "        }\n",
       "      });\n",
       "      // Destroy server and session\n",
       "      var cmd = \"import bokeh.io.notebook as ion; ion.destroy_server('\" + server_id + \"')\";\n",
       "      cell.notebook.kernel.execute(cmd);\n",
       "    }\n",
       "  }\n",
       "\n",
       "  /**\n",
       "   * Handle when a new output is added\n",
       "   */\n",
       "  function handleAddOutput(event, handle) {\n",
       "    var output_area = handle.output_area;\n",
       "    var output = handle.output;\n",
       "\n",
       "    // limit handleAddOutput to display_data with EXEC_MIME_TYPE content only\n",
       "    if ((output.output_type != \"display_data\") || (!output.data.hasOwnProperty(EXEC_MIME_TYPE))) {\n",
       "      return\n",
       "    }\n",
       "\n",
       "    var toinsert = output_area.element.find(\".\" + CLASS_NAME.split(' ')[0]);\n",
       "\n",
       "    if (output.metadata[EXEC_MIME_TYPE][\"id\"] !== undefined) {\n",
       "      toinsert[toinsert.length - 1].firstChild.textContent = output.data[JS_MIME_TYPE];\n",
       "      // store reference to embed id on output_area\n",
       "      output_area._bokeh_element_id = output.metadata[EXEC_MIME_TYPE][\"id\"];\n",
       "    }\n",
       "    if (output.metadata[EXEC_MIME_TYPE][\"server_id\"] !== undefined) {\n",
       "      var bk_div = document.createElement(\"div\");\n",
       "      bk_div.innerHTML = output.data[HTML_MIME_TYPE];\n",
       "      var script_attrs = bk_div.children[0].attributes;\n",
       "      for (var i = 0; i < script_attrs.length; i++) {\n",
       "        toinsert[toinsert.length - 1].firstChild.setAttribute(script_attrs[i].name, script_attrs[i].value);\n",
       "      }\n",
       "      // store reference to server id on output_area\n",
       "      output_area._bokeh_server_id = output.metadata[EXEC_MIME_TYPE][\"server_id\"];\n",
       "    }\n",
       "  }\n",
       "\n",
       "  function register_renderer(events, OutputArea) {\n",
       "\n",
       "    function append_mime(data, metadata, element) {\n",
       "      // create a DOM node to render to\n",
       "      var toinsert = this.create_output_subarea(\n",
       "        metadata,\n",
       "        CLASS_NAME,\n",
       "        EXEC_MIME_TYPE\n",
       "      );\n",
       "      this.keyboard_manager.register_events(toinsert);\n",
       "      // Render to node\n",
       "      var props = {data: data, metadata: metadata[EXEC_MIME_TYPE]};\n",
       "      render(props, toinsert[toinsert.length - 1]);\n",
       "      element.append(toinsert);\n",
       "      return toinsert\n",
       "    }\n",
       "\n",
       "    /* Handle when an output is cleared or removed */\n",
       "    events.on('clear_output.CodeCell', handleClearOutput);\n",
       "    events.on('delete.Cell', handleClearOutput);\n",
       "\n",
       "    /* Handle when a new output is added */\n",
       "    events.on('output_added.OutputArea', handleAddOutput);\n",
       "\n",
       "    /**\n",
       "     * Register the mime type and append_mime function with output_area\n",
       "     */\n",
       "    OutputArea.prototype.register_mime_type(EXEC_MIME_TYPE, append_mime, {\n",
       "      /* Is output safe? */\n",
       "      safe: true,\n",
       "      /* Index of renderer in `output_area.display_order` */\n",
       "      index: 0\n",
       "    });\n",
       "  }\n",
       "\n",
       "  // register the mime type if in Jupyter Notebook environment and previously unregistered\n",
       "  if (root.Jupyter !== undefined) {\n",
       "    var events = require('base/js/events');\n",
       "    var OutputArea = require('notebook/js/outputarea').OutputArea;\n",
       "\n",
       "    if (OutputArea.prototype.mime_types().indexOf(EXEC_MIME_TYPE) == -1) {\n",
       "      register_renderer(events, OutputArea);\n",
       "    }\n",
       "  }\n",
       "\n",
       "  \n",
       "  if (typeof (root._bokeh_timeout) === \"undefined\" || force === true) {\n",
       "    root._bokeh_timeout = Date.now() + 5000;\n",
       "    root._bokeh_failed_load = false;\n",
       "  }\n",
       "\n",
       "  var NB_LOAD_WARNING = {'data': {'text/html':\n",
       "     \"<div style='background-color: #fdd'>\\n\"+\n",
       "     \"<p>\\n\"+\n",
       "     \"BokehJS does not appear to have successfully loaded. If loading BokehJS from CDN, this \\n\"+\n",
       "     \"may be due to a slow or bad network connection. Possible fixes:\\n\"+\n",
       "     \"</p>\\n\"+\n",
       "     \"<ul>\\n\"+\n",
       "     \"<li>re-rerun `output_notebook()` to attempt to load from CDN again, or</li>\\n\"+\n",
       "     \"<li>use INLINE resources instead, as so:</li>\\n\"+\n",
       "     \"</ul>\\n\"+\n",
       "     \"<code>\\n\"+\n",
       "     \"from bokeh.resources import INLINE\\n\"+\n",
       "     \"output_notebook(resources=INLINE)\\n\"+\n",
       "     \"</code>\\n\"+\n",
       "     \"</div>\"}};\n",
       "\n",
       "  function display_loaded() {\n",
       "    var el = document.getElementById(\"1332e14d-6c31-4eab-aac7-be326eb62788\");\n",
       "    if (el != null) {\n",
       "      el.textContent = \"BokehJS is loading...\";\n",
       "    }\n",
       "    if (root.Bokeh !== undefined) {\n",
       "      if (el != null) {\n",
       "        el.textContent = \"BokehJS \" + root.Bokeh.version + \" successfully loaded.\";\n",
       "      }\n",
       "    } else if (Date.now() < root._bokeh_timeout) {\n",
       "      setTimeout(display_loaded, 100)\n",
       "    }\n",
       "  }\n",
       "\n",
       "\n",
       "  function run_callbacks() {\n",
       "    try {\n",
       "      root._bokeh_onload_callbacks.forEach(function(callback) { callback() });\n",
       "    }\n",
       "    finally {\n",
       "      delete root._bokeh_onload_callbacks\n",
       "    }\n",
       "    console.info(\"Bokeh: all callbacks have finished\");\n",
       "  }\n",
       "\n",
       "  function load_libs(js_urls, callback) {\n",
       "    root._bokeh_onload_callbacks.push(callback);\n",
       "    if (root._bokeh_is_loading > 0) {\n",
       "      console.log(\"Bokeh: BokehJS is being loaded, scheduling callback at\", now());\n",
       "      return null;\n",
       "    }\n",
       "    if (js_urls == null || js_urls.length === 0) {\n",
       "      run_callbacks();\n",
       "      return null;\n",
       "    }\n",
       "    console.log(\"Bokeh: BokehJS not loaded, scheduling load and callback at\", now());\n",
       "    root._bokeh_is_loading = js_urls.length;\n",
       "    for (var i = 0; i < js_urls.length; i++) {\n",
       "      var url = js_urls[i];\n",
       "      var s = document.createElement('script');\n",
       "      s.src = url;\n",
       "      s.async = false;\n",
       "      s.onreadystatechange = s.onload = function() {\n",
       "        root._bokeh_is_loading--;\n",
       "        if (root._bokeh_is_loading === 0) {\n",
       "          console.log(\"Bokeh: all BokehJS libraries loaded\");\n",
       "          run_callbacks()\n",
       "        }\n",
       "      };\n",
       "      s.onerror = function() {\n",
       "        console.warn(\"failed to load library \" + url);\n",
       "      };\n",
       "      console.log(\"Bokeh: injecting script tag for BokehJS library: \", url);\n",
       "      document.getElementsByTagName(\"head\")[0].appendChild(s);\n",
       "    }\n",
       "  };var element = document.getElementById(\"1332e14d-6c31-4eab-aac7-be326eb62788\");\n",
       "  if (element == null) {\n",
       "    console.log(\"Bokeh: ERROR: autoload.js configured with elementid '1332e14d-6c31-4eab-aac7-be326eb62788' but no matching script tag was found. \")\n",
       "    return false;\n",
       "  }\n",
       "\n",
       "  var js_urls = [\"https://cdn.pydata.org/bokeh/release/bokeh-0.13.0.min.js\", \"https://cdn.pydata.org/bokeh/release/bokeh-widgets-0.13.0.min.js\", \"https://cdn.pydata.org/bokeh/release/bokeh-tables-0.13.0.min.js\", \"https://cdn.pydata.org/bokeh/release/bokeh-gl-0.13.0.min.js\"];\n",
       "\n",
       "  var inline_js = [\n",
       "    function(Bokeh) {\n",
       "      Bokeh.set_log_level(\"info\");\n",
       "    },\n",
       "    \n",
       "    function(Bokeh) {\n",
       "      \n",
       "    },\n",
       "    function(Bokeh) {\n",
       "      console.log(\"Bokeh: injecting CSS: https://cdn.pydata.org/bokeh/release/bokeh-0.13.0.min.css\");\n",
       "      Bokeh.embed.inject_css(\"https://cdn.pydata.org/bokeh/release/bokeh-0.13.0.min.css\");\n",
       "      console.log(\"Bokeh: injecting CSS: https://cdn.pydata.org/bokeh/release/bokeh-widgets-0.13.0.min.css\");\n",
       "      Bokeh.embed.inject_css(\"https://cdn.pydata.org/bokeh/release/bokeh-widgets-0.13.0.min.css\");\n",
       "      console.log(\"Bokeh: injecting CSS: https://cdn.pydata.org/bokeh/release/bokeh-tables-0.13.0.min.css\");\n",
       "      Bokeh.embed.inject_css(\"https://cdn.pydata.org/bokeh/release/bokeh-tables-0.13.0.min.css\");\n",
       "    }\n",
       "  ];\n",
       "\n",
       "  function run_inline_js() {\n",
       "    \n",
       "    if ((root.Bokeh !== undefined) || (force === true)) {\n",
       "      for (var i = 0; i < inline_js.length; i++) {\n",
       "        inline_js[i].call(root, root.Bokeh);\n",
       "      }if (force === true) {\n",
       "        display_loaded();\n",
       "      }} else if (Date.now() < root._bokeh_timeout) {\n",
       "      setTimeout(run_inline_js, 100);\n",
       "    } else if (!root._bokeh_failed_load) {\n",
       "      console.log(\"Bokeh: BokehJS failed to load within specified timeout.\");\n",
       "      root._bokeh_failed_load = true;\n",
       "    } else if (force !== true) {\n",
       "      var cell = $(document.getElementById(\"1332e14d-6c31-4eab-aac7-be326eb62788\")).parents('.cell').data().cell;\n",
       "      cell.output_area.append_execute_result(NB_LOAD_WARNING)\n",
       "    }\n",
       "\n",
       "  }\n",
       "\n",
       "  if (root._bokeh_is_loading === 0) {\n",
       "    console.log(\"Bokeh: BokehJS loaded, going straight to plotting\");\n",
       "    run_inline_js();\n",
       "  } else {\n",
       "    load_libs(js_urls, function() {\n",
       "      console.log(\"Bokeh: BokehJS plotting callback run at\", now());\n",
       "      run_inline_js();\n",
       "    });\n",
       "  }\n",
       "}(window));"
      ],
      "application/vnd.bokehjs_load.v0+json": "\n(function(root) {\n  function now() {\n    return new Date();\n  }\n\n  var force = true;\n\n  if (typeof (root._bokeh_onload_callbacks) === \"undefined\" || force === true) {\n    root._bokeh_onload_callbacks = [];\n    root._bokeh_is_loading = undefined;\n  }\n\n  \n\n  \n  if (typeof (root._bokeh_timeout) === \"undefined\" || force === true) {\n    root._bokeh_timeout = Date.now() + 5000;\n    root._bokeh_failed_load = false;\n  }\n\n  var NB_LOAD_WARNING = {'data': {'text/html':\n     \"<div style='background-color: #fdd'>\\n\"+\n     \"<p>\\n\"+\n     \"BokehJS does not appear to have successfully loaded. If loading BokehJS from CDN, this \\n\"+\n     \"may be due to a slow or bad network connection. Possible fixes:\\n\"+\n     \"</p>\\n\"+\n     \"<ul>\\n\"+\n     \"<li>re-rerun `output_notebook()` to attempt to load from CDN again, or</li>\\n\"+\n     \"<li>use INLINE resources instead, as so:</li>\\n\"+\n     \"</ul>\\n\"+\n     \"<code>\\n\"+\n     \"from bokeh.resources import INLINE\\n\"+\n     \"output_notebook(resources=INLINE)\\n\"+\n     \"</code>\\n\"+\n     \"</div>\"}};\n\n  function display_loaded() {\n    var el = document.getElementById(\"1332e14d-6c31-4eab-aac7-be326eb62788\");\n    if (el != null) {\n      el.textContent = \"BokehJS is loading...\";\n    }\n    if (root.Bokeh !== undefined) {\n      if (el != null) {\n        el.textContent = \"BokehJS \" + root.Bokeh.version + \" successfully loaded.\";\n      }\n    } else if (Date.now() < root._bokeh_timeout) {\n      setTimeout(display_loaded, 100)\n    }\n  }\n\n\n  function run_callbacks() {\n    try {\n      root._bokeh_onload_callbacks.forEach(function(callback) { callback() });\n    }\n    finally {\n      delete root._bokeh_onload_callbacks\n    }\n    console.info(\"Bokeh: all callbacks have finished\");\n  }\n\n  function load_libs(js_urls, callback) {\n    root._bokeh_onload_callbacks.push(callback);\n    if (root._bokeh_is_loading > 0) {\n      console.log(\"Bokeh: BokehJS is being loaded, scheduling callback at\", now());\n      return null;\n    }\n    if (js_urls == null || js_urls.length === 0) {\n      run_callbacks();\n      return null;\n    }\n    console.log(\"Bokeh: BokehJS not loaded, scheduling load and callback at\", now());\n    root._bokeh_is_loading = js_urls.length;\n    for (var i = 0; i < js_urls.length; i++) {\n      var url = js_urls[i];\n      var s = document.createElement('script');\n      s.src = url;\n      s.async = false;\n      s.onreadystatechange = s.onload = function() {\n        root._bokeh_is_loading--;\n        if (root._bokeh_is_loading === 0) {\n          console.log(\"Bokeh: all BokehJS libraries loaded\");\n          run_callbacks()\n        }\n      };\n      s.onerror = function() {\n        console.warn(\"failed to load library \" + url);\n      };\n      console.log(\"Bokeh: injecting script tag for BokehJS library: \", url);\n      document.getElementsByTagName(\"head\")[0].appendChild(s);\n    }\n  };var element = document.getElementById(\"1332e14d-6c31-4eab-aac7-be326eb62788\");\n  if (element == null) {\n    console.log(\"Bokeh: ERROR: autoload.js configured with elementid '1332e14d-6c31-4eab-aac7-be326eb62788' but no matching script tag was found. \")\n    return false;\n  }\n\n  var js_urls = [\"https://cdn.pydata.org/bokeh/release/bokeh-0.13.0.min.js\", \"https://cdn.pydata.org/bokeh/release/bokeh-widgets-0.13.0.min.js\", \"https://cdn.pydata.org/bokeh/release/bokeh-tables-0.13.0.min.js\", \"https://cdn.pydata.org/bokeh/release/bokeh-gl-0.13.0.min.js\"];\n\n  var inline_js = [\n    function(Bokeh) {\n      Bokeh.set_log_level(\"info\");\n    },\n    \n    function(Bokeh) {\n      \n    },\n    function(Bokeh) {\n      console.log(\"Bokeh: injecting CSS: https://cdn.pydata.org/bokeh/release/bokeh-0.13.0.min.css\");\n      Bokeh.embed.inject_css(\"https://cdn.pydata.org/bokeh/release/bokeh-0.13.0.min.css\");\n      console.log(\"Bokeh: injecting CSS: https://cdn.pydata.org/bokeh/release/bokeh-widgets-0.13.0.min.css\");\n      Bokeh.embed.inject_css(\"https://cdn.pydata.org/bokeh/release/bokeh-widgets-0.13.0.min.css\");\n      console.log(\"Bokeh: injecting CSS: https://cdn.pydata.org/bokeh/release/bokeh-tables-0.13.0.min.css\");\n      Bokeh.embed.inject_css(\"https://cdn.pydata.org/bokeh/release/bokeh-tables-0.13.0.min.css\");\n    }\n  ];\n\n  function run_inline_js() {\n    \n    if ((root.Bokeh !== undefined) || (force === true)) {\n      for (var i = 0; i < inline_js.length; i++) {\n        inline_js[i].call(root, root.Bokeh);\n      }if (force === true) {\n        display_loaded();\n      }} else if (Date.now() < root._bokeh_timeout) {\n      setTimeout(run_inline_js, 100);\n    } else if (!root._bokeh_failed_load) {\n      console.log(\"Bokeh: BokehJS failed to load within specified timeout.\");\n      root._bokeh_failed_load = true;\n    } else if (force !== true) {\n      var cell = $(document.getElementById(\"1332e14d-6c31-4eab-aac7-be326eb62788\")).parents('.cell').data().cell;\n      cell.output_area.append_execute_result(NB_LOAD_WARNING)\n    }\n\n  }\n\n  if (root._bokeh_is_loading === 0) {\n    console.log(\"Bokeh: BokehJS loaded, going straight to plotting\");\n    run_inline_js();\n  } else {\n    load_libs(js_urls, function() {\n      console.log(\"Bokeh: BokehJS plotting callback run at\", now());\n      run_inline_js();\n    });\n  }\n}(window));"
     },
     "metadata": {},
     "output_type": "display_data"
    },
    {
     "data": {
      "text/html": [
       "\n",
       "\n",
       "\n",
       "\n",
       "\n",
       "\n",
       "  <div class=\"bk-root\" id=\"c9b81bed-a9f6-4890-9fb3-08717579b2d7\"></div>\n"
      ]
     },
     "metadata": {},
     "output_type": "display_data"
    },
    {
     "data": {
      "application/javascript": [
       "(function(root) {\n",
       "  function embed_document(root) {\n",
       "    \n",
       "  var docs_json = {\"b6e3915e-cb50-46f8-a1a0-a3c6b7d2767b\":{\"roots\":{\"references\":[{\"attributes\":{\"callback\":null},\"id\":\"f853367d-b783-44ef-bad6-c88768acc6da\",\"type\":\"DataRange1d\"},{\"attributes\":{\"axis_label\":\"Horsepower\",\"axis_label_text_color\":{\"value\":\"#20A585\"},\"formatter\":{\"id\":\"3cacabf8-2e64-400b-a46e-5775ec60bb42\",\"type\":\"BasicTickFormatter\"},\"plot\":{\"id\":\"a9e06252-d96b-4217-b337-eb3b677e6043\",\"subtype\":\"Figure\",\"type\":\"Plot\"},\"ticker\":{\"id\":\"8f4767b8-d7db-49d9-8f86-7afad4d682c8\",\"type\":\"BasicTicker\"}},\"id\":\"05d3a6ae-fc47-4eba-bdbb-c4afbb097ee9\",\"type\":\"LinearAxis\"},{\"attributes\":{},\"id\":\"8f4767b8-d7db-49d9-8f86-7afad4d682c8\",\"type\":\"BasicTicker\"},{\"attributes\":{\"active_drag\":\"auto\",\"active_inspect\":\"auto\",\"active_multi\":null,\"active_scroll\":\"auto\",\"active_tap\":\"auto\",\"tools\":[{\"id\":\"817d603c-2e80-42c0-8228-8a3f9b6885f5\",\"type\":\"PanTool\"},{\"id\":\"4ec32a2d-47cd-4e4f-ab6c-37c1c98eb4ed\",\"type\":\"WheelZoomTool\"},{\"id\":\"29d8bf8d-a917-4d02-abce-f167d29f20f7\",\"type\":\"BoxZoomTool\"},{\"id\":\"65634354-0e6f-46cf-90c7-7817c59c3811\",\"type\":\"SaveTool\"},{\"id\":\"5247a7d3-fe96-4cfb-bf2c-cb5c19c93303\",\"type\":\"ResetTool\"},{\"id\":\"2bc9baf2-4bce-48fe-b524-af55fff08d19\",\"type\":\"HelpTool\"}]},\"id\":\"184df00c-741f-4706-8bb2-094d56c477d0\",\"type\":\"Toolbar\"},{\"attributes\":{\"dimension\":1,\"plot\":{\"id\":\"a9e06252-d96b-4217-b337-eb3b677e6043\",\"subtype\":\"Figure\",\"type\":\"Plot\"},\"ticker\":{\"id\":\"8f4767b8-d7db-49d9-8f86-7afad4d682c8\",\"type\":\"BasicTicker\"}},\"id\":\"ef4661d6-a2dc-404d-bb6b-3677bc2cbe1b\",\"type\":\"Grid\"},{\"attributes\":{\"axis_label\":\"Weight\",\"axis_label_text_color\":{\"value\":\"#20A585\"},\"formatter\":{\"id\":\"77de1c7c-c19b-4bbd-9274-23df2d3c147a\",\"type\":\"BasicTickFormatter\"},\"plot\":{\"id\":\"a9e06252-d96b-4217-b337-eb3b677e6043\",\"subtype\":\"Figure\",\"type\":\"Plot\"},\"ticker\":{\"id\":\"8a0434a1-c4d2-4d4d-b927-c37e4cf73298\",\"type\":\"BasicTicker\"}},\"id\":\"7a25cd90-8758-418b-b305-05187365d27a\",\"type\":\"LinearAxis\"},{\"attributes\":{\"color_mapper\":{\"id\":\"106d5588-b214-4dc7-b938-a260bb159fce\",\"type\":\"LinearColorMapper\"},\"formatter\":{\"id\":\"8db4d000-6a74-4305-a47e-b3373a099d09\",\"type\":\"BasicTickFormatter\"},\"location\":[0,0],\"plot\":{\"id\":\"a9e06252-d96b-4217-b337-eb3b677e6043\",\"subtype\":\"Figure\",\"type\":\"Plot\"},\"ticker\":{\"id\":\"de01dc2e-2f95-4db6-a8a7-edb7f3e1b553\",\"type\":\"BasicTicker\"}},\"id\":\"3f44533e-858d-4676-8f7f-1508191d720d\",\"type\":\"ColorBar\"},{\"attributes\":{\"fill_alpha\":{\"value\":0.7},\"fill_color\":{\"field\":\"accel\",\"transform\":{\"id\":\"106d5588-b214-4dc7-b938-a260bb159fce\",\"type\":\"LinearColorMapper\"}},\"line_alpha\":{\"value\":0.7},\"line_color\":{\"field\":\"accel\",\"transform\":{\"id\":\"106d5588-b214-4dc7-b938-a260bb159fce\",\"type\":\"LinearColorMapper\"}},\"size\":{\"units\":\"screen\",\"value\":10},\"x\":{\"field\":\"weight\"},\"y\":{\"field\":\"hp\"}},\"id\":\"e606b4df-52c1-4f19-8814-94cd96a2bff8\",\"type\":\"Circle\"},{\"attributes\":{},\"id\":\"77de1c7c-c19b-4bbd-9274-23df2d3c147a\",\"type\":\"BasicTickFormatter\"},{\"attributes\":{\"bottom_units\":\"screen\",\"fill_alpha\":{\"value\":0.5},\"fill_color\":{\"value\":\"lightgrey\"},\"left_units\":\"screen\",\"level\":\"overlay\",\"line_alpha\":{\"value\":1.0},\"line_color\":{\"value\":\"black\"},\"line_dash\":[4,4],\"line_width\":{\"value\":2},\"plot\":null,\"render_mode\":\"css\",\"right_units\":\"screen\",\"top_units\":\"screen\"},\"id\":\"04075e0f-61dd-44fe-8beb-5351a7187070\",\"type\":\"BoxAnnotation\"},{\"attributes\":{},\"id\":\"817d603c-2e80-42c0-8228-8a3f9b6885f5\",\"type\":\"PanTool\"},{\"attributes\":{\"fill_alpha\":{\"value\":0.1},\"fill_color\":{\"value\":\"#1f77b4\"},\"line_alpha\":{\"value\":0.1},\"line_color\":{\"value\":\"#1f77b4\"},\"size\":{\"units\":\"screen\",\"value\":10},\"x\":{\"field\":\"weight\"},\"y\":{\"field\":\"hp\"}},\"id\":\"952318a6-ae8a-441a-84c6-05a8094305b5\",\"type\":\"Circle\"},{\"attributes\":{},\"id\":\"4ec32a2d-47cd-4e4f-ab6c-37c1c98eb4ed\",\"type\":\"WheelZoomTool\"},{\"attributes\":{\"overlay\":{\"id\":\"04075e0f-61dd-44fe-8beb-5351a7187070\",\"type\":\"BoxAnnotation\"}},\"id\":\"29d8bf8d-a917-4d02-abce-f167d29f20f7\",\"type\":\"BoxZoomTool\"},{\"attributes\":{},\"id\":\"65634354-0e6f-46cf-90c7-7817c59c3811\",\"type\":\"SaveTool\"},{\"attributes\":{},\"id\":\"5247a7d3-fe96-4cfb-bf2c-cb5c19c93303\",\"type\":\"ResetTool\"},{\"attributes\":{},\"id\":\"2bc9baf2-4bce-48fe-b524-af55fff08d19\",\"type\":\"HelpTool\"},{\"attributes\":{\"data_source\":{\"id\":\"65fa444f-2d74-4599-81c1-df1249d016b3\",\"type\":\"ColumnDataSource\"},\"glyph\":{\"id\":\"e606b4df-52c1-4f19-8814-94cd96a2bff8\",\"type\":\"Circle\"},\"hover_glyph\":null,\"muted_glyph\":null,\"nonselection_glyph\":{\"id\":\"952318a6-ae8a-441a-84c6-05a8094305b5\",\"type\":\"Circle\"},\"selection_glyph\":null,\"view\":{\"id\":\"d4f4586a-4301-4d54-9067-154dc9ad2834\",\"type\":\"CDSView\"}},\"id\":\"346e6fc3-cdbe-47c9-8da5-e75e47f0e111\",\"type\":\"GlyphRenderer\"},{\"attributes\":{\"plot\":{\"id\":\"a9e06252-d96b-4217-b337-eb3b677e6043\",\"subtype\":\"Figure\",\"type\":\"Plot\"},\"ticker\":{\"id\":\"8a0434a1-c4d2-4d4d-b927-c37e4cf73298\",\"type\":\"BasicTicker\"}},\"id\":\"a688ffe2-c348-45a6-a4fa-f083bf6494d7\",\"type\":\"Grid\"},{\"attributes\":{\"source\":{\"id\":\"65fa444f-2d74-4599-81c1-df1249d016b3\",\"type\":\"ColumnDataSource\"}},\"id\":\"d4f4586a-4301-4d54-9067-154dc9ad2834\",\"type\":\"CDSView\"},{\"attributes\":{},\"id\":\"45841afc-d9d8-4b9e-9b83-5dc288274650\",\"type\":\"Selection\"},{\"attributes\":{},\"id\":\"8a0434a1-c4d2-4d4d-b927-c37e4cf73298\",\"type\":\"BasicTicker\"},{\"attributes\":{},\"id\":\"3cacabf8-2e64-400b-a46e-5775ec60bb42\",\"type\":\"BasicTickFormatter\"},{\"attributes\":{},\"id\":\"df55ca80-be5f-4b34-8f24-dfcdff9d7c5d\",\"type\":\"UnionRenderers\"},{\"attributes\":{},\"id\":\"de01dc2e-2f95-4db6-a8a7-edb7f3e1b553\",\"type\":\"BasicTicker\"},{\"attributes\":{\"callback\":null,\"data\":{\"accel\":{\"__ndarray__\":\"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\",\"dtype\":\"float64\",\"shape\":[392]},\"colors\":[\"#440154\",\"#440154\",\"#440154\",\"#440154\",\"#440154\",\"#440154\",\"#440154\",\"#440154\",\"#440154\",\"#440154\",\"#440154\",\"#440154\",\"#440154\",\"#440154\",\"#5BC862\",\"#3B518A\",\"#3B518A\",\"#3B518A\",\"#5BC862\",\"#5BC862\",\"#5BC862\",\"#5BC862\",\"#5BC862\",\"#5BC862\",\"#3B518A\",\"#440154\",\"#440154\",\"#440154\",\"#440154\",\"#5BC862\",\"#5BC862\",\"#5BC862\",\"#3B518A\",\"#3B518A\",\"#3B518A\",\"#3B518A\",\"#3B518A\",\"#440154\",\"#440154\",\"#440154\",\"#440154\",\"#440154\",\"#440154\",\"#440154\",\"#3B518A\",\"#5BC862\",\"#3B518A\",\"#3B518A\",\"#5BC862\",\"#5BC862\",\"#5BC862\",\"#5BC862\",\"#5BC862\",\"#5BC862\",\"#5BC862\",\"#5BC862\",\"#5BC862\",\"#5BC862\",\"#5BC862\",\"#5BC862\",\"#5BC862\",\"#440154\",\"#440154\",\"#440154\",\"#440154\",\"#440154\",\"#440154\",\"#440154\",\"#440154\",\"#440154\",\"#FDE724\",\"#440154\",\"#440154\",\"#440154\",\"#440154\",\"#5BC862\",\"#5BC862\",\"#5BC862\",\"#5BC862\",\"#5BC862\",\"#5BC862\",\"#5BC862\",\"#5BC862\",\"#5BC862\",\"#440154\",\"#440154\",\"#440154\",\"#440154\",\"#440154\",\"#440154\",\"#440154\",\"#440154\",\"#440154\",\"#440154\",\"#440154\",\"#440154\",\"#3B518A\",\"#3B518A\",\"#3B518A\",\"#3B518A\",\"#3B518A\",\"#5BC862\",\"#440154\",\"#440154\",\"#440154\",\"#440154\",\"#3B518A\",\"#5BC862\",\"#5BC862\",\"#5BC862\",\"#FDE724\",\"#5BC862\",\"#3B518A\",\"#5BC862\",\"#440154\",\"#440154\",\"#5BC862\",\"#5BC862\",\"#5BC862\",\"#5BC862\",\"#440154\",\"#5BC862\",\"#3B518A\",\"#440154\",\"#3B518A\",\"#3B518A\",\"#3B518A\",\"#5BC862\",\"#5BC862\",\"#5BC862\",\"#5BC862\",\"#3B518A\",\"#3B518A\",\"#3B518A\",\"#440154\",\"#440154\",\"#440154\",\"#440154\",\"#440154\",\"#5BC862\",\"#5BC862\",\"#5BC862\",\"#5BC862\",\"#5BC862\",\"#5BC862\",\"#5BC862\",\"#5BC862\",\"#5BC862\",\"#5BC862\",\"#5BC862\",\"#3B518A\",\"#3B518A\",\"#3B518A\",\"#3B518A\",\"#440154\",\"#440154\",\"#440154\",\"#440154\",\"#3B518A\",\"#3B518A\",\"#3B518A\",\"#3B518A\",\"#3B518A\",\"#440154\",\"#440154\",\"#5BC862\",\"#5BC862\",\"#3B518A\",\"#5BC862\",\"#5BC862\",\"#5BC862\",\"#5BC862\",\"#3B518A\",\"#5BC862\",\"#3B518A\",\"#5BC862\",\"#5BC862\",\"#5BC862\",\"#5BC862\",\"#5BC862\",\"#5BC862\",\"#5BC862\",\"#5BC862\",\"#5BC862\",\"#5BC862\",\"#440154\",\"#440154\",\"#440154\",\"#440154\",\"#3B518A\",\"#3B518A\",\"#3B518A\",\"#3B518A\",\"#5BC862\",\"#5BC862\",\"#5BC862\",\"#5BC862\",\"#3B518A\",\"#3B518A\",\"#3B518A\",\"#3B518A\",\"#5BC862\",\"#5BC862\",\"#5BC862\",\"#5BC862\",\"#5BC862\",\"#440154\",\"#5BC862\",\"#3B518A\",\"#3B518A\",\"#440154\",\"#440154\",\"#440154\",\"#440154\",\"#5BC862\",\"#5BC862\",\"#5BC862\",\"#5BC862\",\"#5BC862\",\"#440154\",\"#440154\",\"#440154\",\"#440154\",\"#3B518A\",\"#3B518A\",\"#3B518A\",\"#3B518A\",\"#440154\",\"#440154\",\"#440154\",\"#440154\",\"#5BC862\",\"#5BC862\",\"#5BC862\",\"#5BC862\",\"#5BC862\",\"#5BC862\",\"#5BC862\",\"#5BC862\",\"#3B518A\",\"#5BC862\",\"#FDE724\",\"#5BC862\",\"#5BC862\",\"#5BC862\",\"#5BC862\",\"#5BC862\",\"#440154\",\"#440154\",\"#440154\",\"#3B518A\",\"#3B518A\",\"#3B518A\",\"#5BC862\",\"#3B518A\",\"#3B518A\",\"#3B518A\",\"#3B518A\",\"#3B518A\",\"#3B518A\",\"#440154\",\"#3B518A\",\"#440154\",\"#440154\",\"#5BC862\",\"#5BC862\",\"#5BC862\",\"#5BC862\",\"#5BC862\",\"#5BC862\",\"#5BC862\",\"#5BC862\",\"#208F8C\",\"#3B518A\",\"#5BC862\",\"#3B518A\",\"#5BC862\",\"#5BC862\",\"#3B518A\",\"#3B518A\",\"#5BC862\",\"#3B518A\",\"#3B518A\",\"#440154\",\"#440154\",\"#440154\",\"#440154\",\"#440154\",\"#440154\",\"#440154\",\"#440154\",\"#5BC862\",\"#5BC862\",\"#5BC862\",\"#5BC862\",\"#208F8C\",\"#440154\",\"#5BC862\",\"#440154\",\"#5BC862\",\"#5BC862\",\"#5BC862\",\"#5BC862\",\"#5BC862\",\"#3B518A\",\"#3B518A\",\"#5BC862\",\"#5BC862\",\"#5BC862\",\"#5BC862\",\"#5BC862\",\"#5BC862\",\"#5BC862\",\"#5BC862\",\"#3B518A\",\"#5BC862\",\"#5BC862\",\"#5BC862\",\"#5BC862\",\"#5BC862\",\"#5BC862\",\"#5BC862\",\"#5BC862\",\"#5BC862\",\"#5BC862\",\"#208F8C\",\"#5BC862\",\"#5BC862\",\"#5BC862\",\"#5BC862\",\"#3B518A\",\"#FDE724\",\"#5BC862\",\"#5BC862\",\"#5BC862\",\"#5BC862\",\"#5BC862\",\"#3B518A\",\"#5BC862\",\"#5BC862\",\"#5BC862\",\"#5BC862\",\"#5BC862\",\"#5BC862\",\"#5BC862\",\"#5BC862\",\"#5BC862\",\"#5BC862\",\"#5BC862\",\"#5BC862\",\"#5BC862\",\"#5BC862\",\"#5BC862\",\"#5BC862\",\"#5BC862\",\"#3B518A\",\"#3B518A\",\"#3B518A\",\"#3B518A\",\"#440154\",\"#3B518A\",\"#3B518A\",\"#5BC862\",\"#5BC862\",\"#5BC862\",\"#5BC862\",\"#5BC862\",\"#5BC862\",\"#5BC862\",\"#5BC862\",\"#5BC862\",\"#5BC862\",\"#5BC862\",\"#5BC862\",\"#5BC862\",\"#5BC862\",\"#5BC862\",\"#5BC862\",\"#5BC862\",\"#5BC862\",\"#3B518A\",\"#3B518A\",\"#5BC862\",\"#3B518A\",\"#5BC862\",\"#5BC862\",\"#5BC862\",\"#5BC862\",\"#5BC862\",\"#5BC862\",\"#5BC862\",\"#5BC862\"],\"cyl\":[8,8,8,8,8,8,8,8,8,8,8,8,8,8,4,6,6,6,4,4,4,4,4,4,6,8,8,8,8,4,4,4,6,6,6,6,6,8,8,8,8,8,8,8,6,4,6,6,4,4,4,4,4,4,4,4,4,4,4,4,4,8,8,8,8,8,8,8,8,8,3,8,8,8,8,4,4,4,4,4,4,4,4,4,8,8,8,8,8,8,8,8,8,8,8,8,6,6,6,6,6,4,8,8,8,8,6,4,4,4,3,4,6,4,8,8,4,4,4,4,8,4,6,8,6,6,6,4,4,4,4,6,6,6,8,8,8,8,8,4,4,4,4,4,4,4,4,4,4,4,6,6,6,6,8,8,8,8,6,6,6,6,6,8,8,4,4,6,4,4,4,4,6,4,6,4,4,4,4,4,4,4,4,4,4,8,8,8,8,6,6,6,6,4,4,4,4,6,6,6,6,4,4,4,4,4,8,4,6,6,8,8,8,8,4,4,4,4,4,8,8,8,8,6,6,6,6,8,8,8,8,4,4,4,4,4,4,4,4,6,4,3,4,4,4,4,4,8,8,8,6,6,6,4,6,6,6,6,6,6,8,6,8,8,4,4,4,4,4,4,4,4,5,6,4,6,4,4,6,6,4,6,6,8,8,8,8,8,8,8,8,4,4,4,4,5,8,4,8,4,4,4,4,4,6,6,4,4,4,4,4,4,4,4,6,4,4,4,4,4,4,4,4,4,4,5,4,4,4,4,6,3,4,4,4,4,4,6,4,4,4,4,4,4,4,4,4,4,4,4,4,4,4,4,4,6,6,6,6,8,6,6,4,4,4,4,4,4,4,4,4,4,4,4,4,4,4,4,4,4,6,6,4,6,4,4,4,4,4,4,4,4],\"displ\":{\"__ndarray__\":\"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\",\"dtype\":\"float64\",\"shape\":[392]},\"hp\":[130,165,150,150,140,198,220,215,225,190,170,160,150,225,95,95,97,85,88,46,87,90,95,113,90,215,200,210,193,88,90,95,100,105,100,88,100,165,175,153,150,180,170,175,110,72,100,88,86,90,70,76,65,69,60,70,95,80,54,90,86,165,175,150,153,150,208,155,160,190,97,150,130,140,150,112,76,87,69,86,92,97,80,88,175,150,145,137,150,198,150,158,150,215,225,175,105,100,100,88,95,46,150,167,170,180,100,88,72,94,90,85,107,90,145,230,49,75,91,112,150,110,122,180,95,100,100,67,80,65,75,100,110,105,140,150,150,140,150,83,67,78,52,61,75,75,75,97,93,67,95,105,72,72,170,145,150,148,110,105,110,95,110,110,129,75,83,100,78,96,71,97,97,70,90,95,88,98,115,53,86,81,92,79,83,140,150,120,152,100,105,81,90,52,60,70,53,100,78,110,95,71,70,75,72,102,150,88,108,120,180,145,130,150,68,80,58,96,70,145,110,145,130,110,105,100,98,180,170,190,149,78,88,75,89,63,83,67,78,97,110,110,48,66,52,70,60,110,140,139,105,95,85,88,100,90,105,85,110,120,145,165,139,140,68,95,97,75,95,105,85,97,103,125,115,133,71,68,115,85,88,90,110,130,129,138,135,155,142,125,150,71,65,80,80,77,125,71,90,70,70,65,69,90,115,115,90,76,60,70,65,90,88,90,90,78,90,75,92,75,65,105,65,48,48,67,67,67,67,62,132,100,88,72,84,84,92,110,84,58,64,60,67,65,62,68,63,65,65,74,75,75,100,74,80,76,116,120,110,105,88,85,88,88,88,85,84,90,92,74,68,68,63,70,88,75,70,67,67,67,110,85,92,112,96,84,90,86,52,84,79,82],\"index\":[0,1,2,3,4,5,6,7,8,9,10,11,12,13,14,15,16,17,18,19,20,21,22,23,24,25,26,27,28,29,30,31,32,33,34,35,36,37,38,39,40,41,42,43,44,45,46,47,48,49,50,51,52,53,54,55,56,57,58,59,60,61,62,63,64,65,66,67,68,69,70,71,72,73,74,75,76,77,78,79,80,81,82,83,84,85,86,87,88,89,90,91,92,93,94,95,96,97,98,99,100,101,102,103,104,105,106,107,108,109,110,111,112,113,114,115,116,117,118,119,120,121,122,123,124,125,126,127,128,129,130,131,132,133,134,135,136,137,138,139,140,141,142,143,144,145,146,147,148,149,150,151,152,153,154,155,156,157,158,159,160,161,162,163,164,165,166,167,168,169,170,171,172,173,174,175,176,177,178,179,180,181,182,183,184,185,186,187,188,189,190,191,192,193,194,195,196,197,198,199,200,201,202,203,204,205,206,207,208,209,210,211,212,213,214,215,216,217,218,219,220,221,222,223,224,225,226,227,228,229,230,231,232,233,234,235,236,237,238,239,240,241,242,243,244,245,246,247,248,249,250,251,252,253,254,255,256,257,258,259,260,261,262,263,264,265,266,267,268,269,270,271,272,273,274,275,276,277,278,279,280,281,282,283,284,285,286,287,288,289,290,291,292,293,294,295,296,297,298,299,300,301,302,303,304,305,306,307,308,309,310,311,312,313,314,315,316,317,318,319,320,321,322,323,324,325,326,327,328,329,330,331,332,333,334,335,336,337,338,339,340,341,342,343,344,345,346,347,348,349,350,351,352,353,354,355,356,357,358,359,360,361,362,363,364,365,366,367,368,369,370,371,372,373,374,375,376,377,378,379,380,381,382,383,384,385,386,387,388,389,390,391],\"mpg\":{\"__ndarray__\":\"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\",\"dtype\":\"float64\",\"shape\":[392]},\"name\":[\"chevrolet chevelle malibu\",\"buick skylark 320\",\"plymouth satellite\",\"amc rebel sst\",\"ford torino\",\"ford galaxie 500\",\"chevrolet impala\",\"plymouth fury iii\",\"pontiac catalina\",\"amc ambassador dpl\",\"dodge challenger se\",\"plymouth 'cuda 340\",\"chevrolet monte carlo\",\"buick estate wagon (sw)\",\"toyota corona mark ii\",\"plymouth duster\",\"amc hornet\",\"ford maverick\",\"datsun pl510\",\"volkswagen 1131 deluxe sedan\",\"peugeot 504\",\"audi 100 ls\",\"saab 99e\",\"bmw 2002\",\"amc gremlin\",\"ford f250\",\"chevy c20\",\"dodge d200\",\"hi 1200d\",\"datsun pl510\",\"chevrolet vega 2300\",\"toyota corona\",\"amc gremlin\",\"plymouth satellite custom\",\"chevrolet chevelle malibu\",\"ford torino 500\",\"amc matador\",\"chevrolet impala\",\"pontiac catalina brougham\",\"ford galaxie 500\",\"plymouth fury iii\",\"dodge monaco (sw)\",\"ford country squire (sw)\",\"pontiac safari (sw)\",\"amc hornet sportabout (sw)\",\"chevrolet vega (sw)\",\"pontiac firebird\",\"ford mustang\",\"mercury capri 2000\",\"opel 1900\",\"peugeot 304\",\"fiat 124b\",\"toyota corolla 1200\",\"datsun 1200\",\"volkswagen model 111\",\"plymouth cricket\",\"toyota corona hardtop\",\"dodge colt hardtop\",\"volkswagen type 3\",\"chevrolet vega\",\"ford pinto runabout\",\"chevrolet impala\",\"pontiac catalina\",\"plymouth fury iii\",\"ford galaxie 500\",\"amc ambassador sst\",\"mercury marquis\",\"buick lesabre custom\",\"oldsmobile delta 88 royale\",\"chrysler newport royal\",\"mazda rx2 coupe\",\"amc matador (sw)\",\"chevrolet chevelle concours (sw)\",\"ford gran torino (sw)\",\"plymouth satellite custom (sw)\",\"volvo 145e (sw)\",\"volkswagen 411 (sw)\",\"peugeot 504 (sw)\",\"renault 12 (sw)\",\"ford pinto (sw)\",\"datsun 510 (sw)\",\"toyouta corona mark ii (sw)\",\"dodge colt (sw)\",\"toyota corolla 1600 (sw)\",\"buick century 350\",\"amc matador\",\"chevrolet malibu\",\"ford gran torino\",\"dodge coronet custom\",\"mercury marquis brougham\",\"chevrolet caprice classic\",\"ford ltd\",\"plymouth fury gran sedan\",\"chrysler new yorker brougham\",\"buick electra 225 custom\",\"amc ambassador brougham\",\"plymouth valiant\",\"chevrolet nova custom\",\"amc hornet\",\"ford maverick\",\"plymouth duster\",\"volkswagen super beetle\",\"chevrolet impala\",\"ford country\",\"plymouth custom suburb\",\"oldsmobile vista cruiser\",\"amc gremlin\",\"toyota carina\",\"chevrolet vega\",\"datsun 610\",\"maxda rx3\",\"ford pinto\",\"mercury capri v6\",\"fiat 124 sport coupe\",\"chevrolet monte carlo s\",\"pontiac grand prix\",\"fiat 128\",\"opel manta\",\"audi 100ls\",\"volvo 144ea\",\"dodge dart custom\",\"saab 99le\",\"toyota mark ii\",\"oldsmobile omega\",\"plymouth duster\",\"amc hornet\",\"chevrolet nova\",\"datsun b210\",\"ford pinto\",\"toyota corolla 1200\",\"chevrolet vega\",\"chevrolet chevelle malibu classic\",\"amc matador\",\"plymouth satellite sebring\",\"ford gran torino\",\"buick century luxus (sw)\",\"dodge coronet custom (sw)\",\"ford gran torino (sw)\",\"amc matador (sw)\",\"audi fox\",\"volkswagen dasher\",\"opel manta\",\"toyota corona\",\"datsun 710\",\"dodge colt\",\"fiat 128\",\"fiat 124 tc\",\"honda civic\",\"subaru\",\"fiat x1.9\",\"plymouth valiant custom\",\"chevrolet nova\",\"mercury monarch\",\"ford maverick\",\"pontiac catalina\",\"chevrolet bel air\",\"plymouth grand fury\",\"ford ltd\",\"buick century\",\"chevroelt chevelle malibu\",\"amc matador\",\"plymouth fury\",\"buick skyhawk\",\"chevrolet monza 2+2\",\"ford mustang ii\",\"toyota corolla\",\"ford pinto\",\"amc gremlin\",\"pontiac astro\",\"toyota corona\",\"volkswagen dasher\",\"datsun 710\",\"ford pinto\",\"volkswagen rabbit\",\"amc pacer\",\"audi 100ls\",\"peugeot 504\",\"volvo 244dl\",\"saab 99le\",\"honda civic cvcc\",\"fiat 131\",\"opel 1900\",\"capri ii\",\"dodge colt\",\"renault 12tl\",\"chevrolet chevelle malibu classic\",\"dodge coronet brougham\",\"amc matador\",\"ford gran torino\",\"plymouth valiant\",\"chevrolet nova\",\"ford maverick\",\"amc hornet\",\"chevrolet chevette\",\"chevrolet woody\",\"vw rabbit\",\"honda civic\",\"dodge aspen se\",\"ford granada ghia\",\"pontiac ventura sj\",\"amc pacer d/l\",\"volkswagen rabbit\",\"datsun b-210\",\"toyota corolla\",\"ford pinto\",\"volvo 245\",\"plymouth volare premier v8\",\"peugeot 504\",\"toyota mark ii\",\"mercedes-benz 280s\",\"cadillac seville\",\"chevy c10\",\"ford f108\",\"dodge d100\",\"honda accord cvcc\",\"buick opel isuzu deluxe\",\"renault 5 gtl\",\"plymouth arrow gs\",\"datsun f-10 hatchback\",\"chevrolet caprice classic\",\"oldsmobile cutlass supreme\",\"dodge monaco brougham\",\"mercury cougar brougham\",\"chevrolet concours\",\"buick skylark\",\"plymouth volare custom\",\"ford granada\",\"pontiac grand prix lj\",\"chevrolet monte carlo landau\",\"chrysler cordoba\",\"ford thunderbird\",\"volkswagen rabbit custom\",\"pontiac sunbird coupe\",\"toyota corolla liftback\",\"ford mustang ii 2+2\",\"chevrolet chevette\",\"dodge colt m/m\",\"subaru dl\",\"volkswagen dasher\",\"datsun 810\",\"bmw 320i\",\"mazda rx-4\",\"volkswagen rabbit custom diesel\",\"ford fiesta\",\"mazda glc deluxe\",\"datsun b210 gx\",\"honda civic cvcc\",\"oldsmobile cutlass salon brougham\",\"dodge diplomat\",\"mercury monarch ghia\",\"pontiac phoenix lj\",\"chevrolet malibu\",\"ford fairmont (auto)\",\"ford fairmont (man)\",\"plymouth volare\",\"amc concord\",\"buick century special\",\"mercury zephyr\",\"dodge aspen\",\"amc concord d/l\",\"chevrolet monte carlo landau\",\"buick regal sport coupe (turbo)\",\"ford futura\",\"dodge magnum xe\",\"chevrolet chevette\",\"toyota corona\",\"datsun 510\",\"dodge omni\",\"toyota celica gt liftback\",\"plymouth sapporo\",\"oldsmobile starfire sx\",\"datsun 200-sx\",\"audi 5000\",\"volvo 264gl\",\"saab 99gle\",\"peugeot 604sl\",\"volkswagen scirocco\",\"honda accord lx\",\"pontiac lemans v6\",\"mercury zephyr 6\",\"ford fairmont 4\",\"amc concord dl 6\",\"dodge aspen 6\",\"chevrolet caprice classic\",\"ford ltd landau\",\"mercury grand marquis\",\"dodge st. regis\",\"buick estate wagon (sw)\",\"ford country squire (sw)\",\"chevrolet malibu classic (sw)\",\"chrysler lebaron town @ country (sw)\",\"vw rabbit custom\",\"maxda glc deluxe\",\"dodge colt hatchback custom\",\"amc spirit dl\",\"mercedes benz 300d\",\"cadillac eldorado\",\"peugeot 504\",\"oldsmobile cutlass salon brougham\",\"plymouth horizon\",\"plymouth horizon tc3\",\"datsun 210\",\"fiat strada custom\",\"buick skylark limited\",\"chevrolet citation\",\"oldsmobile omega brougham\",\"pontiac phoenix\",\"vw rabbit\",\"toyota corolla tercel\",\"chevrolet chevette\",\"datsun 310\",\"chevrolet citation\",\"ford fairmont\",\"amc concord\",\"dodge aspen\",\"audi 4000\",\"toyota corona liftback\",\"mazda 626\",\"datsun 510 hatchback\",\"toyota corolla\",\"mazda glc\",\"dodge colt\",\"datsun 210\",\"vw rabbit c (diesel)\",\"vw dasher (diesel)\",\"audi 5000s (diesel)\",\"mercedes-benz 240d\",\"honda civic 1500 gl\",\"subaru dl\",\"vokswagen rabbit\",\"datsun 280-zx\",\"mazda rx-7 gs\",\"triumph tr7 coupe\",\"honda accord\",\"plymouth reliant\",\"buick skylark\",\"dodge aries wagon (sw)\",\"chevrolet citation\",\"plymouth reliant\",\"toyota starlet\",\"plymouth champ\",\"honda civic 1300\",\"subaru\",\"datsun 210 mpg\",\"toyota tercel\",\"mazda glc 4\",\"plymouth horizon 4\",\"ford escort 4w\",\"ford escort 2h\",\"volkswagen jetta\",\"honda prelude\",\"toyota corolla\",\"datsun 200sx\",\"mazda 626\",\"peugeot 505s turbo diesel\",\"volvo diesel\",\"toyota cressida\",\"datsun 810 maxima\",\"buick century\",\"oldsmobile cutlass ls\",\"ford granada gl\",\"chrysler lebaron salon\",\"chevrolet cavalier\",\"chevrolet cavalier wagon\",\"chevrolet cavalier 2-door\",\"pontiac j2000 se hatchback\",\"dodge aries se\",\"pontiac phoenix\",\"ford fairmont futura\",\"volkswagen rabbit l\",\"mazda glc custom l\",\"mazda glc custom\",\"plymouth horizon miser\",\"mercury lynx l\",\"nissan stanza xe\",\"honda accord\",\"toyota corolla\",\"honda civic\",\"honda civic (auto)\",\"datsun 310 gx\",\"buick century limited\",\"oldsmobile cutlass ciera (diesel)\",\"chrysler lebaron medallion\",\"ford granada l\",\"toyota celica gt\",\"dodge charger 2.2\",\"chevrolet camaro\",\"ford mustang gl\",\"vw pickup\",\"dodge rampage\",\"ford ranger\",\"chevy s-10\"],\"origin\":[1,1,1,1,1,1,1,1,1,1,1,1,1,1,3,1,1,1,3,2,2,2,2,2,1,1,1,1,1,3,1,3,1,1,1,1,1,1,1,1,1,1,1,1,1,1,1,1,1,2,2,2,3,3,2,1,3,1,2,1,1,1,1,1,1,1,1,1,1,1,3,1,1,1,1,2,2,2,2,1,3,3,1,3,1,1,1,1,1,1,1,1,1,1,1,1,1,1,1,1,1,2,1,1,1,1,1,3,1,3,3,1,1,2,1,1,2,2,2,2,1,2,3,1,1,1,1,3,1,3,1,1,1,1,1,1,1,1,1,2,2,2,3,3,1,2,2,3,3,2,1,1,1,1,1,1,1,1,1,1,1,1,1,1,1,3,1,1,1,3,2,3,1,2,1,2,2,2,2,3,2,2,1,1,2,1,1,1,1,1,1,1,1,1,1,2,3,1,1,1,1,2,3,3,1,2,1,2,3,2,1,1,1,1,3,1,2,1,3,1,1,1,1,1,1,1,1,1,1,1,1,2,1,3,1,1,1,3,2,3,2,3,2,1,3,3,3,1,1,1,1,1,1,1,1,1,1,1,1,1,1,1,1,1,1,3,3,1,3,1,1,3,2,2,2,2,2,3,1,1,1,1,1,1,1,1,1,1,1,1,1,2,3,1,1,2,1,2,1,1,1,3,2,1,1,1,1,2,3,1,3,1,1,1,1,2,3,3,3,3,3,1,3,2,2,2,2,3,3,2,3,3,2,3,1,1,1,1,1,3,1,3,3,3,3,3,1,1,1,2,3,3,3,3,2,2,3,3,1,1,1,1,1,1,1,1,1,1,1,2,3,3,1,1,3,3,3,3,3,3,1,1,1,1,3,1,1,1,2,1,1,1],\"weight\":[3504,3693,3436,3433,3449,4341,4354,4312,4425,3850,3563,3609,3761,3086,2372,2833,2774,2587,2130,1835,2672,2430,2375,2234,2648,4615,4376,4382,4732,2130,2264,2228,2634,3439,3329,3302,3288,4209,4464,4154,4096,4955,4746,5140,2962,2408,3282,3139,2220,2123,2074,2065,1773,1613,1834,1955,2278,2126,2254,2408,2226,4274,4385,4135,4129,3672,4633,4502,4456,4422,2330,3892,4098,4294,4077,2933,2511,2979,2189,2395,2288,2506,2164,2100,4100,3672,3988,4042,3777,4952,4464,4363,4237,4735,4951,3821,3121,3278,2945,3021,2904,1950,4997,4906,4654,4499,2789,2279,2401,2379,2124,2310,2472,2265,4082,4278,1867,2158,2582,2868,3399,2660,2807,3664,3102,2901,3336,1950,2451,1836,2542,3781,3632,3613,4141,4699,4457,4638,4257,2219,1963,2300,1649,2003,2125,2108,2246,2489,2391,2000,3264,3459,3432,3158,4668,4440,4498,4657,3907,3897,3730,3785,3039,3221,3169,2171,2639,2914,2592,2702,2223,2545,2984,1937,3211,2694,2957,2945,2671,1795,2464,2220,2572,2255,2202,4215,4190,3962,4215,3233,3353,3012,3085,2035,2164,1937,1795,3651,3574,3645,3193,1825,1990,2155,2565,3150,3940,3270,2930,3820,4380,4055,3870,3755,2045,2155,1825,2300,1945,3880,4060,4140,4295,3520,3425,3630,3525,4220,4165,4325,4335,1940,2740,2265,2755,2051,2075,1985,2190,2815,2600,2720,1985,1800,1985,2070,1800,3365,3735,3570,3535,3155,2965,2720,3430,3210,3380,3070,3620,3410,3425,3445,3205,4080,2155,2560,2300,2230,2515,2745,2855,2405,2830,3140,2795,3410,1990,2135,3245,2990,2890,3265,3360,3840,3725,3955,3830,4360,4054,3605,3940,1925,1975,1915,2670,3530,3900,3190,3420,2200,2150,2020,2130,2670,2595,2700,2556,2144,1968,2120,2019,2678,2870,3003,3381,2188,2711,2542,2434,2265,2110,2800,2110,2085,2335,2950,3250,1850,2145,1845,2910,2420,2500,2290,2490,2635,2620,2725,2385,1755,1875,1760,2065,1975,2050,1985,2215,2045,2380,2190,2210,2350,2615,2635,3230,3160,2900,2930,3415,3725,3060,3465,2605,2640,2395,2575,2525,2735,2865,1980,2025,1970,2125,2125,2160,2205,2245,1965,1965,1995,2945,3015,2585,2835,2665,2370,2950,2790,2130,2295,2625,2720],\"yr\":[70,70,70,70,70,70,70,70,70,70,70,70,70,70,70,70,70,70,70,70,70,70,70,70,70,70,70,70,70,71,71,71,71,71,71,71,71,71,71,71,71,71,71,71,71,71,71,71,71,71,71,71,71,71,71,71,72,72,72,72,72,72,72,72,72,72,72,72,72,72,72,72,72,72,72,72,72,72,72,72,72,72,72,72,73,73,73,73,73,73,73,73,73,73,73,73,73,73,73,73,73,73,73,73,73,73,73,73,73,73,73,73,73,73,73,73,73,73,73,73,73,73,73,73,74,74,74,74,74,74,74,74,74,74,74,74,74,74,74,74,74,74,74,74,74,74,74,74,74,74,75,75,75,75,75,75,75,75,75,75,75,75,75,75,75,75,75,75,75,75,75,75,75,75,75,75,75,75,75,75,76,76,76,76,76,76,76,76,76,76,76,76,76,76,76,76,76,76,76,76,76,76,76,76,76,76,76,76,76,76,76,76,76,76,77,77,77,77,77,77,77,77,77,77,77,77,77,77,77,77,77,77,77,77,77,77,77,77,77,77,77,77,78,78,78,78,78,78,78,78,78,78,78,78,78,78,78,78,78,78,78,78,78,78,78,78,78,78,78,78,78,78,78,78,78,78,78,78,79,79,79,79,79,79,79,79,79,79,79,79,79,79,79,79,79,79,79,79,79,79,79,79,79,79,79,79,79,80,80,80,80,80,80,80,80,80,80,80,80,80,80,80,80,80,80,80,80,80,80,80,80,80,80,80,81,81,81,81,81,81,81,81,81,81,81,81,81,81,81,81,81,81,81,81,81,81,81,81,81,81,81,81,82,82,82,82,82,82,82,82,82,82,82,82,82,82,82,82,82,82,82,82,82,82,82,82,82,82,82,82,82,82]},\"selected\":{\"id\":\"45841afc-d9d8-4b9e-9b83-5dc288274650\",\"type\":\"Selection\"},\"selection_policy\":{\"id\":\"df55ca80-be5f-4b34-8f24-dfcdff9d7c5d\",\"type\":\"UnionRenderers\"}},\"id\":\"65fa444f-2d74-4599-81c1-df1249d016b3\",\"type\":\"ColumnDataSource\"},{\"attributes\":{},\"id\":\"8db4d000-6a74-4305-a47e-b3373a099d09\",\"type\":\"BasicTickFormatter\"},{\"attributes\":{\"below\":[{\"id\":\"7a25cd90-8758-418b-b305-05187365d27a\",\"type\":\"LinearAxis\"}],\"left\":[{\"id\":\"05d3a6ae-fc47-4eba-bdbb-c4afbb097ee9\",\"type\":\"LinearAxis\"}],\"plot_height\":500,\"plot_width\":800,\"renderers\":[{\"id\":\"7a25cd90-8758-418b-b305-05187365d27a\",\"type\":\"LinearAxis\"},{\"id\":\"a688ffe2-c348-45a6-a4fa-f083bf6494d7\",\"type\":\"Grid\"},{\"id\":\"05d3a6ae-fc47-4eba-bdbb-c4afbb097ee9\",\"type\":\"LinearAxis\"},{\"id\":\"ef4661d6-a2dc-404d-bb6b-3677bc2cbe1b\",\"type\":\"Grid\"},{\"id\":\"04075e0f-61dd-44fe-8beb-5351a7187070\",\"type\":\"BoxAnnotation\"},{\"id\":\"3f44533e-858d-4676-8f7f-1508191d720d\",\"type\":\"ColorBar\"},{\"id\":\"346e6fc3-cdbe-47c9-8da5-e75e47f0e111\",\"type\":\"GlyphRenderer\"}],\"right\":[{\"id\":\"3f44533e-858d-4676-8f7f-1508191d720d\",\"type\":\"ColorBar\"}],\"title\":{\"id\":\"c5b0626f-f97f-4241-8054-22f09095b672\",\"type\":\"Title\"},\"toolbar\":{\"id\":\"184df00c-741f-4706-8bb2-094d56c477d0\",\"type\":\"Toolbar\"},\"x_range\":{\"id\":\"36ae6476-24d2-4d19-801c-2eff2affde32\",\"type\":\"DataRange1d\"},\"x_scale\":{\"id\":\"09e60269-6d5a-481e-8d35-c8a3dea71b0f\",\"type\":\"LinearScale\"},\"y_range\":{\"id\":\"f853367d-b783-44ef-bad6-c88768acc6da\",\"type\":\"DataRange1d\"},\"y_scale\":{\"id\":\"fe8d4b37-c363-40ba-a683-9470150981ed\",\"type\":\"LinearScale\"}},\"id\":\"a9e06252-d96b-4217-b337-eb3b677e6043\",\"subtype\":\"Figure\",\"type\":\"Plot\"},{\"attributes\":{\"high\":24.8,\"low\":8.0,\"palette\":[\"#440154\",\"#440255\",\"#440357\",\"#450558\",\"#45065A\",\"#45085B\",\"#46095C\",\"#460B5E\",\"#460C5F\",\"#460E61\",\"#470F62\",\"#471163\",\"#471265\",\"#471466\",\"#471567\",\"#471669\",\"#47186A\",\"#48196B\",\"#481A6C\",\"#481C6E\",\"#481D6F\",\"#481E70\",\"#482071\",\"#482172\",\"#482273\",\"#482374\",\"#472575\",\"#472676\",\"#472777\",\"#472878\",\"#472A79\",\"#472B7A\",\"#472C7B\",\"#462D7C\",\"#462F7C\",\"#46307D\",\"#46317E\",\"#45327F\",\"#45347F\",\"#453580\",\"#453681\",\"#443781\",\"#443982\",\"#433A83\",\"#433B83\",\"#433C84\",\"#423D84\",\"#423E85\",\"#424085\",\"#414186\",\"#414286\",\"#404387\",\"#404487\",\"#3F4587\",\"#3F4788\",\"#3E4888\",\"#3E4989\",\"#3D4A89\",\"#3D4B89\",\"#3D4C89\",\"#3C4D8A\",\"#3C4E8A\",\"#3B508A\",\"#3B518A\",\"#3A528B\",\"#3A538B\",\"#39548B\",\"#39558B\",\"#38568B\",\"#38578C\",\"#37588C\",\"#37598C\",\"#365A8C\",\"#365B8C\",\"#355C8C\",\"#355D8C\",\"#345E8D\",\"#345F8D\",\"#33608D\",\"#33618D\",\"#32628D\",\"#32638D\",\"#31648D\",\"#31658D\",\"#31668D\",\"#30678D\",\"#30688D\",\"#2F698D\",\"#2F6A8D\",\"#2E6B8E\",\"#2E6C8E\",\"#2E6D8E\",\"#2D6E8E\",\"#2D6F8E\",\"#2C708E\",\"#2C718E\",\"#2C728E\",\"#2B738E\",\"#2B748E\",\"#2A758E\",\"#2A768E\",\"#2A778E\",\"#29788E\",\"#29798E\",\"#287A8E\",\"#287A8E\",\"#287B8E\",\"#277C8E\",\"#277D8E\",\"#277E8E\",\"#267F8E\",\"#26808E\",\"#26818E\",\"#25828E\",\"#25838D\",\"#24848D\",\"#24858D\",\"#24868D\",\"#23878D\",\"#23888D\",\"#23898D\",\"#22898D\",\"#228A8D\",\"#228B8D\",\"#218C8D\",\"#218D8C\",\"#218E8C\",\"#208F8C\",\"#20908C\",\"#20918C\",\"#1F928C\",\"#1F938B\",\"#1F948B\",\"#1F958B\",\"#1F968B\",\"#1E978A\",\"#1E988A\",\"#1E998A\",\"#1E998A\",\"#1E9A89\",\"#1E9B89\",\"#1E9C89\",\"#1E9D88\",\"#1E9E88\",\"#1E9F88\",\"#1EA087\",\"#1FA187\",\"#1FA286\",\"#1FA386\",\"#20A485\",\"#20A585\",\"#21A685\",\"#21A784\",\"#22A784\",\"#23A883\",\"#23A982\",\"#24AA82\",\"#25AB81\",\"#26AC81\",\"#27AD80\",\"#28AE7F\",\"#29AF7F\",\"#2AB07E\",\"#2BB17D\",\"#2CB17D\",\"#2EB27C\",\"#2FB37B\",\"#30B47A\",\"#32B57A\",\"#33B679\",\"#35B778\",\"#36B877\",\"#38B976\",\"#39B976\",\"#3BBA75\",\"#3DBB74\",\"#3EBC73\",\"#40BD72\",\"#42BE71\",\"#44BE70\",\"#45BF6F\",\"#47C06E\",\"#49C16D\",\"#4BC26C\",\"#4DC26B\",\"#4FC369\",\"#51C468\",\"#53C567\",\"#55C666\",\"#57C665\",\"#59C764\",\"#5BC862\",\"#5EC961\",\"#60C960\",\"#62CA5F\",\"#64CB5D\",\"#67CC5C\",\"#69CC5B\",\"#6BCD59\",\"#6DCE58\",\"#70CE56\",\"#72CF55\",\"#74D054\",\"#77D052\",\"#79D151\",\"#7CD24F\",\"#7ED24E\",\"#81D34C\",\"#83D34B\",\"#86D449\",\"#88D547\",\"#8BD546\",\"#8DD644\",\"#90D643\",\"#92D741\",\"#95D73F\",\"#97D83E\",\"#9AD83C\",\"#9DD93A\",\"#9FD938\",\"#A2DA37\",\"#A5DA35\",\"#A7DB33\",\"#AADB32\",\"#ADDC30\",\"#AFDC2E\",\"#B2DD2C\",\"#B5DD2B\",\"#B7DD29\",\"#BADE27\",\"#BDDE26\",\"#BFDF24\",\"#C2DF22\",\"#C5DF21\",\"#C7E01F\",\"#CAE01E\",\"#CDE01D\",\"#CFE11C\",\"#D2E11B\",\"#D4E11A\",\"#D7E219\",\"#DAE218\",\"#DCE218\",\"#DFE318\",\"#E1E318\",\"#E4E318\",\"#E7E419\",\"#E9E419\",\"#ECE41A\",\"#EEE51B\",\"#F1E51C\",\"#F3E51E\",\"#F6E61F\",\"#F8E621\",\"#FAE622\",\"#FDE724\"]},\"id\":\"106d5588-b214-4dc7-b938-a260bb159fce\",\"type\":\"LinearColorMapper\"},{\"attributes\":{\"callback\":null},\"id\":\"36ae6476-24d2-4d19-801c-2eff2affde32\",\"type\":\"DataRange1d\"},{\"attributes\":{\"align\":\"center\",\"plot\":null,\"text\":\"car acceleration (in seconds)\",\"text_color\":{\"value\":\"#414286\"},\"text_font_size\":{\"value\":\"16pt\"}},\"id\":\"c5b0626f-f97f-4241-8054-22f09095b672\",\"type\":\"Title\"},{\"attributes\":{},\"id\":\"09e60269-6d5a-481e-8d35-c8a3dea71b0f\",\"type\":\"LinearScale\"},{\"attributes\":{},\"id\":\"fe8d4b37-c363-40ba-a683-9470150981ed\",\"type\":\"LinearScale\"}],\"root_ids\":[\"a9e06252-d96b-4217-b337-eb3b677e6043\"]},\"title\":\"Bokeh Application\",\"version\":\"0.13.0\"}};\n",
       "  var render_items = [{\"docid\":\"b6e3915e-cb50-46f8-a1a0-a3c6b7d2767b\",\"roots\":{\"a9e06252-d96b-4217-b337-eb3b677e6043\":\"c9b81bed-a9f6-4890-9fb3-08717579b2d7\"}}];\n",
       "  root.Bokeh.embed.embed_items_notebook(docs_json, render_items);\n",
       "\n",
       "  }\n",
       "  if (root.Bokeh !== undefined) {\n",
       "    embed_document(root);\n",
       "  } else {\n",
       "    var attempts = 0;\n",
       "    var timer = setInterval(function(root) {\n",
       "      if (root.Bokeh !== undefined) {\n",
       "        embed_document(root);\n",
       "        clearInterval(timer);\n",
       "      }\n",
       "      attempts++;\n",
       "      if (attempts > 100) {\n",
       "        console.log(\"Bokeh: ERROR: Unable to run BokehJS code because BokehJS library is missing\")\n",
       "        clearInterval(timer);\n",
       "      }\n",
       "    }, 10, root)\n",
       "  }\n",
       "})(window);"
      ],
      "application/vnd.bokehjs_exec.v0+json": ""
     },
     "metadata": {
      "application/vnd.bokehjs_exec.v0+json": {
       "id": "a9e06252-d96b-4217-b337-eb3b677e6043"
      }
     },
     "output_type": "display_data"
    }
   ],
   "source": [
    "from bokeh.plotting import figure, show, reset_output, output_notebook\n",
    "from bokeh.models import ColumnDataSource, LinearColorMapper, ColorBar\n",
    "from bokeh.palettes import Viridis256\n",
    "\n",
    "reset_output() # reset output previous session\n",
    "output_notebook()\n",
    "\n",
    "# data\n",
    "source = ColumnDataSource(autompg)\n",
    "\n",
    "# figure\n",
    "p = figure(plot_width = 800, plot_height = 500, title = 'car acceleration (in seconds)')\n",
    "\n",
    "# color mapper\n",
    "mapper = LinearColorMapper(palette = Viridis256, low = autompg.accel.min(), high = autompg.accel.max())\n",
    "\n",
    "# color bar\n",
    "color_bar = ColorBar(color_mapper = mapper, location = (0, 0))\n",
    "p.add_layout(color_bar, 'right')\n",
    "\n",
    "# data points\n",
    "p.circle('weight', 'hp', size = 10, color = {'field': 'accel', 'transform': mapper}, alpha = 0.7, source = source)\n",
    "\n",
    "# title\n",
    "p.title.align = 'center'\n",
    "p.title.text_color = Viridis256[50]\n",
    "p.title.text_font = 'helvetica'\n",
    "p.title.text_font_style = 'bold'\n",
    "p.title.text_font_size = '16pt'\n",
    "\n",
    "# x-axis\n",
    "p.xaxis.axis_label = 'Weight'\n",
    "p.xaxis.axis_label_text_color = Viridis256[150]\n",
    "\n",
    "# y-axis\n",
    "p.yaxis.axis_label = 'Horsepower'\n",
    "p.yaxis.axis_label_text_color = Viridis256[150]\n",
    "\n",
    "# show\n",
    "show(p)"
   ]
  },
  {
   "cell_type": "code",
   "execution_count": null,
   "metadata": {},
   "outputs": [],
   "source": []
  },
  {
   "cell_type": "code",
   "execution_count": null,
   "metadata": {},
   "outputs": [],
   "source": [
    "autompg['brand'] = autompg.name.apply(lambda n: n.split(' ')[0])"
   ]
  },
  {
   "cell_type": "code",
   "execution_count": null,
   "metadata": {},
   "outputs": [],
   "source": []
  }
 ],
 "metadata": {
  "kernelspec": {
   "display_name": "Python 3",
   "language": "python",
   "name": "python3"
  },
  "language_info": {
   "codemirror_mode": {
    "name": "ipython",
    "version": 3
   },
   "file_extension": ".py",
   "mimetype": "text/x-python",
   "name": "python",
   "nbconvert_exporter": "python",
   "pygments_lexer": "ipython3",
   "version": "3.6.6"
  }
 },
 "nbformat": 4,
 "nbformat_minor": 2
}
