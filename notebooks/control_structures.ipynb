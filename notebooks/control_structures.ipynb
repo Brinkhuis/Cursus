{
 "cells": [
  {
   "cell_type": "markdown",
   "metadata": {},
   "source": [
    "# Control Structures en Functions"
   ]
  },
  {
   "cell_type": "markdown",
   "metadata": {},
   "source": [
    "In de les behandelen we de volgende onderwerpen:\n",
    "\n",
    "* if\n",
    "* else\n",
    "* elif\n",
    "* for\n",
    "* while\n",
    "* continue\n",
    "* break  "
   ]
  },
  {
   "cell_type": "markdown",
   "metadata": {},
   "source": [
    "## if"
   ]
  },
  {
   "cell_type": "code",
   "execution_count": 1,
   "metadata": {},
   "outputs": [
    {
     "name": "stdout",
     "output_type": "stream",
     "text": [
      "15 is groter dan 10\n"
     ]
    }
   ],
   "source": [
    "if 15 > 10:\n",
    "    print('15 is groter dan 10')"
   ]
  },
  {
   "cell_type": "code",
   "execution_count": 2,
   "metadata": {},
   "outputs": [
    {
     "name": "stdout",
     "output_type": "stream",
     "text": [
      "15 is een veelvoud van 3\n",
      "15 is een veelvoud van 5\n"
     ]
    }
   ],
   "source": [
    "# meerdere if-statements achter elkaar\n",
    "num = 15\n",
    "if num % 3 == 0:\n",
    "    print('{} is een veelvoud van 3'.format(num))\n",
    "if num % 4 == 0:\n",
    "    print('{} is een veelvoud van 4'.format(num))\n",
    "if num % 5 == 0:\n",
    "    print('{} is een veelvoud van 5'.format(num))"
   ]
  },
  {
   "cell_type": "markdown",
   "metadata": {},
   "source": [
    "## else"
   ]
  },
  {
   "cell_type": "code",
   "execution_count": 3,
   "metadata": {},
   "outputs": [
    {
     "name": "stdout",
     "output_type": "stream",
     "text": [
      "10 is even\n"
     ]
    }
   ],
   "source": [
    "num = 10\n",
    "if num % 2 == 0:\n",
    "    print('{} is even'.format(num))\n",
    "else:\n",
    "    print('{} is oneven'.format(num))"
   ]
  },
  {
   "cell_type": "code",
   "execution_count": 4,
   "metadata": {},
   "outputs": [
    {
     "name": "stdout",
     "output_type": "stream",
     "text": [
      "15 is oneven\n"
     ]
    }
   ],
   "source": [
    "num = 15\n",
    "if num % 2 == 0:\n",
    "    print('{} is even'.format(num))\n",
    "else:\n",
    "    print('{} is oneven'.format(num))"
   ]
  },
  {
   "cell_type": "markdown",
   "metadata": {},
   "source": [
    "Opmerking: `else` heeft geen conditie!"
   ]
  },
  {
   "cell_type": "markdown",
   "metadata": {},
   "source": [
    "## elif"
   ]
  },
  {
   "cell_type": "code",
   "execution_count": 5,
   "metadata": {},
   "outputs": [
    {
     "name": "stdout",
     "output_type": "stream",
     "text": [
      "15 is een veelvoud van 3\n"
     ]
    }
   ],
   "source": [
    "num = 15\n",
    "if num % 3 == 0:\n",
    "    print('{} is een veelvoud van 3'.format(num))\n",
    "elif num % 4 == 0:\n",
    "    print('{} is een veelvoud van 4'.format(num))\n",
    "elif num % 5 == 0:\n",
    "    print('{} is een veelvoud van 5'.format(num))\n",
    "else:\n",
    "    print('{} is geen veelvoud van 3, 4 of 5'.format(num))"
   ]
  },
  {
   "cell_type": "markdown",
   "metadata": {},
   "source": [
    "Zodra aan een conditie wordt voldaan worden de volgende condities niet meer bekeken.  \n",
    "15 is ook een veelvoud van 5, maar dat wordt _niet_ geprint."
   ]
  },
  {
   "cell_type": "markdown",
   "metadata": {},
   "source": [
    "## for"
   ]
  },
  {
   "cell_type": "markdown",
   "metadata": {},
   "source": [
    "```python\n",
    "for variable in iterable: \n",
    "    # doe iets\n",
    "```"
   ]
  },
  {
   "cell_type": "markdown",
   "metadata": {},
   "source": [
    "Een _iterable_ is een object waar je door kunt 'itereren' om vervolgens met elke waarde iets te doen.  \n",
    "\n",
    "Elk Python object met de _method_ `__iter__` is een _iterable_.  \n",
    "\n",
    "Tot nu toe hebben we onder meer gekeken naar de data typen `int`, `float`, `bool`, `str`, `list`, `tuple` en `dict`.  \n",
    "\n",
    "Met een `for` loop gaan we laten zien welke van deze data type _iterable_ zijn."
   ]
  },
  {
   "cell_type": "code",
   "execution_count": 6,
   "metadata": {},
   "outputs": [
    {
     "name": "stdout",
     "output_type": "stream",
     "text": [
      "<class 'int'> False\n",
      "<class 'float'> False\n",
      "<class 'bool'> False\n",
      "<class 'str'> True\n",
      "<class 'list'> True\n",
      "<class 'dict'> True\n",
      "<class 'tuple'> True\n"
     ]
    }
   ],
   "source": [
    "for datatype in [int, float, bool, str, list, dict, tuple]:\n",
    "    print(datatype, '__iter__' in dir(datatype))    "
   ]
  },
  {
   "cell_type": "code",
   "execution_count": 7,
   "metadata": {},
   "outputs": [
    {
     "name": "stdout",
     "output_type": "stream",
     "text": [
      "J\n",
      "u\n",
      "p\n",
      "y\n",
      "t\n",
      "e\n",
      "r\n"
     ]
    }
   ],
   "source": [
    "# print characters from string\n",
    "for char in 'Jupyter':\n",
    "    print(char)"
   ]
  },
  {
   "cell_type": "code",
   "execution_count": 8,
   "metadata": {},
   "outputs": [
    {
     "name": "stdout",
     "output_type": "stream",
     "text": [
      "I\n",
      "love\n",
      "Python\n"
     ]
    }
   ],
   "source": [
    "# print list items\n",
    "for item in ['I', 'love', 'Python']:\n",
    "    print(item)"
   ]
  },
  {
   "cell_type": "code",
   "execution_count": 9,
   "metadata": {},
   "outputs": [
    {
     "name": "stdout",
     "output_type": "stream",
     "text": [
      "5\n",
      "50\n",
      "500\n"
     ]
    }
   ],
   "source": [
    "# print tuple items\n",
    "for item in (1, 10, 100):\n",
    "    print(item * 5)"
   ]
  },
  {
   "cell_type": "code",
   "execution_count": 10,
   "metadata": {},
   "outputs": [
    {
     "name": "stdout",
     "output_type": "stream",
     "text": [
      "a Alpha\n",
      "b Bravo\n",
      "c Charlie\n"
     ]
    }
   ],
   "source": [
    "# print dict items\n",
    "for key, value in {'a': 'Alpha', 'b': 'Bravo', 'c': 'Charlie'}.items():\n",
    "    print(key, value)"
   ]
  },
  {
   "cell_type": "code",
   "execution_count": 11,
   "metadata": {},
   "outputs": [
    {
     "data": {
      "text/plain": [
       "dict_items([('a', 'Alpha'), ('b', 'Bravo'), ('c', 'Charlie')])"
      ]
     },
     "execution_count": 11,
     "metadata": {},
     "output_type": "execute_result"
    }
   ],
   "source": [
    "{'a': 'Alpha', 'b': 'Bravo', 'c': 'Charlie'}.items()"
   ]
  },
  {
   "cell_type": "markdown",
   "metadata": {},
   "source": [
    "## while"
   ]
  },
  {
   "cell_type": "code",
   "execution_count": 12,
   "metadata": {},
   "outputs": [
    {
     "name": "stdout",
     "output_type": "stream",
     "text": [
      "1\n",
      "2\n",
      "3\n",
      "4\n",
      "5\n"
     ]
    }
   ],
   "source": [
    "count = 1\n",
    "while (count <= 5):\n",
    "    print(count)\n",
    "    count += 1 # ophoging teller ná het print statement"
   ]
  },
  {
   "cell_type": "code",
   "execution_count": 13,
   "metadata": {},
   "outputs": [
    {
     "name": "stdout",
     "output_type": "stream",
     "text": [
      "2\n",
      "3\n",
      "4\n",
      "5\n",
      "6\n"
     ]
    }
   ],
   "source": [
    "count = 1\n",
    "while (count <= 5):\n",
    "    count += 1 # ophoging teller vóór het print statement\n",
    "    print(count)"
   ]
  },
  {
   "cell_type": "markdown",
   "metadata": {},
   "source": [
    "## continue"
   ]
  },
  {
   "cell_type": "code",
   "execution_count": 14,
   "metadata": {},
   "outputs": [
    {
     "name": "stdout",
     "output_type": "stream",
     "text": [
      "1\n",
      "2\n",
      "4\n",
      "5\n"
     ]
    }
   ],
   "source": [
    "# don't print 3\n",
    "count = 0\n",
    "while (count <= 4):\n",
    "    count += 1 # teller aan het begin!\n",
    "    if count == 3:\n",
    "        continue\n",
    "    print(count)"
   ]
  },
  {
   "cell_type": "markdown",
   "metadata": {},
   "source": [
    "Door het statement `continue` wordt de huidige iteratie (loop) afgebroken en wordt de volgende iteratie gestart."
   ]
  },
  {
   "cell_type": "markdown",
   "metadata": {},
   "source": [
    "## break"
   ]
  },
  {
   "cell_type": "code",
   "execution_count": 15,
   "metadata": {},
   "outputs": [
    {
     "name": "stdout",
     "output_type": "stream",
     "text": [
      "1\n",
      "2\n",
      "4\n",
      "5\n"
     ]
    }
   ],
   "source": [
    "# don't print 3\n",
    "count = 0\n",
    "while True:\n",
    "    count += 1 # teller aan het begin!\n",
    "    if count == 3:\n",
    "        continue\n",
    "    if count > 5:\n",
    "        break\n",
    "    print(count)"
   ]
  },
  {
   "cell_type": "markdown",
   "metadata": {},
   "source": [
    "**>>> Maak opdracht 4a en 4b uit het [Jupyter Notebook](https://nbviewer.jupyter.org/github/Brinkhuis/Cursus/blob/master/notebooks/opdrachten.ipynb) met de opdrachten.**"
   ]
  }
 ],
 "metadata": {
  "kernelspec": {
   "display_name": "Python 3",
   "language": "python",
   "name": "python3"
  },
  "language_info": {
   "codemirror_mode": {
    "name": "ipython",
    "version": 3
   },
   "file_extension": ".py",
   "mimetype": "text/x-python",
   "name": "python",
   "nbconvert_exporter": "python",
   "pygments_lexer": "ipython3",
   "version": "3.6.6"
  }
 },
 "nbformat": 4,
 "nbformat_minor": 2
}
