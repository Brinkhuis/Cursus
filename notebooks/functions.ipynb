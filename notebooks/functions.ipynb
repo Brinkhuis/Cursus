{
 "cells": [
  {
   "cell_type": "markdown",
   "metadata": {},
   "source": [
    "# Functions"
   ]
  },
  {
   "cell_type": "markdown",
   "metadata": {},
   "source": [
    "In de les behandelen we de volgende onderwerpen:\n",
    "\n",
    "* \n",
    "* arguments\n",
    "* default values\n",
    "* return values\n",
    "* error handling\n",
    "* applying functions to iterables"
   ]
  },
  {
   "cell_type": "markdown",
   "metadata": {},
   "source": [
    "## Functions"
   ]
  },
  {
   "cell_type": "code",
   "execution_count": 49,
   "metadata": {},
   "outputs": [],
   "source": [
    "# no arguments, no return value\n",
    "def fun():\n",
    "    \"\"\"\n",
    "    Deze functie print de tekst 'My first Python function!'\n",
    "    \"\"\"\n",
    "    print('My first Python function!')"
   ]
  },
  {
   "cell_type": "code",
   "execution_count": 50,
   "metadata": {},
   "outputs": [
    {
     "data": {
      "text/plain": [
       "function"
      ]
     },
     "execution_count": 50,
     "metadata": {},
     "output_type": "execute_result"
    }
   ],
   "source": [
    "type(fun)"
   ]
  },
  {
   "cell_type": "code",
   "execution_count": 52,
   "metadata": {},
   "outputs": [
    {
     "name": "stdout",
     "output_type": "stream",
     "text": [
      "My first Python function!\n"
     ]
    }
   ],
   "source": [
    "fun()"
   ]
  },
  {
   "cell_type": "markdown",
   "metadata": {},
   "source": [
    "Opmerking: Deze functie geeft _**geen waarde**_ terug. Er wordt enkel een string naar scherm geprint!"
   ]
  },
  {
   "cell_type": "code",
   "execution_count": 53,
   "metadata": {},
   "outputs": [
    {
     "name": "stdout",
     "output_type": "stream",
     "text": [
      "My first Python function!\n"
     ]
    },
    {
     "data": {
      "text/plain": [
       "NoneType"
      ]
     },
     "execution_count": 53,
     "metadata": {},
     "output_type": "execute_result"
    }
   ],
   "source": [
    "type(fun())"
   ]
  },
  {
   "cell_type": "code",
   "execution_count": 55,
   "metadata": {},
   "outputs": [],
   "source": [
    "# no arguments, return value\n",
    "def fun():\n",
    "    \"\"\"\n",
    "    Deze functie geeft de string 'My first Python function!' terug.\n",
    "    \"\"\"\n",
    "    return 'My first Python function!'"
   ]
  },
  {
   "cell_type": "code",
   "execution_count": 56,
   "metadata": {},
   "outputs": [
    {
     "data": {
      "text/plain": [
       "'My first Python function!'"
      ]
     },
     "execution_count": 56,
     "metadata": {},
     "output_type": "execute_result"
    }
   ],
   "source": [
    "fun()"
   ]
  },
  {
   "cell_type": "code",
   "execution_count": 57,
   "metadata": {},
   "outputs": [
    {
     "data": {
      "text/plain": [
       "str"
      ]
     },
     "execution_count": 57,
     "metadata": {},
     "output_type": "execute_result"
    }
   ],
   "source": [
    "type(fun())"
   ]
  },
  {
   "cell_type": "code",
   "execution_count": 30,
   "metadata": {},
   "outputs": [
    {
     "data": {
      "text/plain": [
       "25"
      ]
     },
     "execution_count": 30,
     "metadata": {},
     "output_type": "execute_result"
    }
   ],
   "source": [
    "len(fun())"
   ]
  },
  {
   "cell_type": "code",
   "execution_count": 31,
   "metadata": {},
   "outputs": [
    {
     "data": {
      "text/plain": [
       "'PYTHON'"
      ]
     },
     "execution_count": 31,
     "metadata": {},
     "output_type": "execute_result"
    }
   ],
   "source": [
    "fun()[9:15].upper()"
   ]
  },
  {
   "cell_type": "code",
   "execution_count": 32,
   "metadata": {},
   "outputs": [],
   "source": [
    "# one argument\n",
    "def kwadraat(num):\n",
    "    \"\"\"\n",
    "    Deze functie geeft het kwadraat van een getal terug.\n",
    "    \"\"\"\n",
    "    return num ** 2"
   ]
  },
  {
   "cell_type": "code",
   "execution_count": 39,
   "metadata": {},
   "outputs": [
    {
     "data": {
      "text/plain": [
       "64"
      ]
     },
     "execution_count": 39,
     "metadata": {},
     "output_type": "execute_result"
    }
   ],
   "source": [
    "# one argument\n",
    "kwadraat(8)"
   ]
  },
  {
   "cell_type": "code",
   "execution_count": 40,
   "metadata": {},
   "outputs": [
    {
     "data": {
      "text/plain": [
       "[0, 1, 4, 9, 16, 25, 36, 49, 64, 81, 100]"
      ]
     },
     "execution_count": 40,
     "metadata": {},
     "output_type": "execute_result"
    }
   ],
   "source": [
    "# pas de functie toe op een lijst met getallen\n",
    "list(map(kwadraat, range(11)))"
   ]
  },
  {
   "cell_type": "code",
   "execution_count": 41,
   "metadata": {},
   "outputs": [
    {
     "data": {
      "text/plain": [
       "256"
      ]
     },
     "execution_count": 41,
     "metadata": {},
     "output_type": "execute_result"
    }
   ],
   "source": [
    "# functies kun je ook 'nesten'\n",
    "kwadraat(kwadraat(kwadraat(2)))"
   ]
  },
  {
   "cell_type": "code",
   "execution_count": 43,
   "metadata": {},
   "outputs": [],
   "source": [
    "# two arguments, one return value\n",
    "def som(x, y):\n",
    "    \"\"\"\n",
    "    Deze functie geeft de som van twee getallen terug.\n",
    "    \"\"\"\n",
    "    return x + y"
   ]
  },
  {
   "cell_type": "code",
   "execution_count": 44,
   "metadata": {},
   "outputs": [
    {
     "data": {
      "text/plain": [
       "8"
      ]
     },
     "execution_count": 44,
     "metadata": {},
     "output_type": "execute_result"
    }
   ],
   "source": [
    "som(5, 3)"
   ]
  },
  {
   "cell_type": "code",
   "execution_count": 45,
   "metadata": {},
   "outputs": [
    {
     "data": {
      "text/plain": [
       "10"
      ]
     },
     "execution_count": 45,
     "metadata": {},
     "output_type": "execute_result"
    }
   ],
   "source": [
    "som(som(5, 3), 2)"
   ]
  },
  {
   "cell_type": "code",
   "execution_count": 105,
   "metadata": {},
   "outputs": [],
   "source": [
    "# one argument, multiple return values\n",
    "def hoofd_klein(tekst):\n",
    "    \"\"\"\n",
    "    Deze functie geeft tekst terug in hoofdletters, in kleine letter en met beginkapitaal.\n",
    "    \"\"\"\n",
    "    return tekst.upper(), tekst.lower(), tekst.capitalize()"
   ]
  },
  {
   "cell_type": "code",
   "execution_count": 106,
   "metadata": {},
   "outputs": [
    {
     "data": {
      "text/plain": [
       "('FUNCTION', 'function', 'Function')"
      ]
     },
     "execution_count": 106,
     "metadata": {},
     "output_type": "execute_result"
    }
   ],
   "source": [
    "hoofd_klein('FUNction')"
   ]
  },
  {
   "cell_type": "code",
   "execution_count": 107,
   "metadata": {},
   "outputs": [
    {
     "data": {
      "text/plain": [
       "tuple"
      ]
     },
     "execution_count": 107,
     "metadata": {},
     "output_type": "execute_result"
    }
   ],
   "source": [
    "type(hoofd_klein('FUNction'))"
   ]
  },
  {
   "cell_type": "code",
   "execution_count": 108,
   "metadata": {},
   "outputs": [
    {
     "data": {
      "text/plain": [
       "'function'"
      ]
     },
     "execution_count": 108,
     "metadata": {},
     "output_type": "execute_result"
    }
   ],
   "source": [
    "hoofd_klein('FUNction')[-2]"
   ]
  },
  {
   "cell_type": "code",
   "execution_count": 116,
   "metadata": {},
   "outputs": [],
   "source": [
    "# no error handling\n",
    "def deel(x, y):\n",
    "    \"\"\"\n",
    "    Deze functie geeft de waarde van x gedeeld door y terug.\n",
    "    \"\"\"\n",
    "    return x / y"
   ]
  },
  {
   "cell_type": "code",
   "execution_count": 117,
   "metadata": {},
   "outputs": [
    {
     "data": {
      "text/plain": [
       "5.0"
      ]
     },
     "execution_count": 117,
     "metadata": {},
     "output_type": "execute_result"
    }
   ],
   "source": [
    "# intended use\n",
    "deel(10, 2)"
   ]
  },
  {
   "cell_type": "code",
   "execution_count": 147,
   "metadata": {},
   "outputs": [
    {
     "data": {
      "text/plain": [
       "5.0"
      ]
     },
     "execution_count": 147,
     "metadata": {},
     "output_type": "execute_result"
    }
   ],
   "source": [
    "# intended use\n",
    "deel(y = 2, x = 10)"
   ]
  },
  {
   "cell_type": "code",
   "execution_count": 148,
   "metadata": {},
   "outputs": [
    {
     "name": "stdout",
     "output_type": "stream",
     "text": [
      "division by zero\n"
     ]
    }
   ],
   "source": [
    "# error 1\n",
    "deel(10, 0)"
   ]
  },
  {
   "cell_type": "markdown",
   "metadata": {},
   "source": [
    "Opmerking: De functie retourneert geen waarde. Er wordt enkel een foutboodschap afgedrukt."
   ]
  },
  {
   "cell_type": "code",
   "execution_count": 149,
   "metadata": {},
   "outputs": [],
   "source": [
    "# basic error handling\n",
    "def deel(x, y):\n",
    "    \"\"\"\n",
    "    Deze functie geeft de waarde van x gedeeld door y terug.\n",
    "    \"\"\"\n",
    "    try:\n",
    "        return x / y\n",
    "    except:\n",
    "        print('Er gaat iets mis!')"
   ]
  },
  {
   "cell_type": "code",
   "execution_count": 150,
   "metadata": {},
   "outputs": [
    {
     "name": "stdout",
     "output_type": "stream",
     "text": [
      "Er gaat iets mis!\n"
     ]
    }
   ],
   "source": [
    "deel(10, 0)"
   ]
  },
  {
   "cell_type": "markdown",
   "metadata": {},
   "source": [
    "Mooi dat we de fout hebben kunnen afvangen!  \n",
    "Echter, de wijze waarop dat is gedaan (generiek) geeft ons onvoldoende informatie om de fout op te lossen.  \n",
    "\n",
    "Bij het uitvoeren van `deel(10, 0)` _zonder foutafhandeling_ zagen we de foutmelding dat het om een `ZeroDivisionError` ging. Daarbij werd de omschrijving gegeven 'division by zero'.  \n",
    "\n",
    "Dit gaan we gebruiken in onze verbeterde foutafhandeling.\n",
    "\n",
    "Wees bij foutafhandeling zo speciek mogelijk!"
   ]
  },
  {
   "cell_type": "code",
   "execution_count": 151,
   "metadata": {},
   "outputs": [],
   "source": [
    "# improved error handling\n",
    "def deel(x, y):\n",
    "    \"\"\"\n",
    "    Deze functie geeft de waarde van x gedeeld door y terug.\n",
    "    \"\"\"\n",
    "    try:\n",
    "        return x / y\n",
    "    except ZeroDivisionError as E:\n",
    "        print(E)"
   ]
  },
  {
   "cell_type": "code",
   "execution_count": 152,
   "metadata": {},
   "outputs": [
    {
     "name": "stdout",
     "output_type": "stream",
     "text": [
      "division by zero\n"
     ]
    }
   ],
   "source": [
    "# error handling\n",
    "deel(10, 0)"
   ]
  },
  {
   "cell_type": "code",
   "execution_count": 153,
   "metadata": {},
   "outputs": [
    {
     "ename": "TypeError",
     "evalue": "unsupported operand type(s) for /: 'str' and 'int'",
     "output_type": "error",
     "traceback": [
      "\u001b[1;31m---------------------------------------------------------------------------\u001b[0m",
      "\u001b[1;31mTypeError\u001b[0m                                 Traceback (most recent call last)",
      "\u001b[1;32m<ipython-input-153-ab03e82fc5fd>\u001b[0m in \u001b[0;36m<module>\u001b[1;34m()\u001b[0m\n\u001b[0;32m      1\u001b[0m \u001b[1;31m# error 2\u001b[0m\u001b[1;33m\u001b[0m\u001b[1;33m\u001b[0m\u001b[0m\n\u001b[1;32m----> 2\u001b[1;33m \u001b[0mdeel\u001b[0m\u001b[1;33m(\u001b[0m\u001b[1;34m'tien'\u001b[0m\u001b[1;33m,\u001b[0m \u001b[1;36m2\u001b[0m\u001b[1;33m)\u001b[0m\u001b[1;33m\u001b[0m\u001b[0m\n\u001b[0m",
      "\u001b[1;32m<ipython-input-151-dfb2b3ad94d3>\u001b[0m in \u001b[0;36mdeel\u001b[1;34m(x, y)\u001b[0m\n\u001b[0;32m      5\u001b[0m     \"\"\"\n\u001b[0;32m      6\u001b[0m     \u001b[1;32mtry\u001b[0m\u001b[1;33m:\u001b[0m\u001b[1;33m\u001b[0m\u001b[0m\n\u001b[1;32m----> 7\u001b[1;33m         \u001b[1;32mreturn\u001b[0m \u001b[0mx\u001b[0m \u001b[1;33m/\u001b[0m \u001b[0my\u001b[0m\u001b[1;33m\u001b[0m\u001b[0m\n\u001b[0m\u001b[0;32m      8\u001b[0m     \u001b[1;32mexcept\u001b[0m \u001b[0mZeroDivisionError\u001b[0m \u001b[1;32mas\u001b[0m \u001b[0mE\u001b[0m\u001b[1;33m:\u001b[0m\u001b[1;33m\u001b[0m\u001b[0m\n\u001b[0;32m      9\u001b[0m         \u001b[0mprint\u001b[0m\u001b[1;33m(\u001b[0m\u001b[0mE\u001b[0m\u001b[1;33m)\u001b[0m\u001b[1;33m\u001b[0m\u001b[0m\n",
      "\u001b[1;31mTypeError\u001b[0m: unsupported operand type(s) for /: 'str' and 'int'"
     ]
    }
   ],
   "source": [
    "# error 2\n",
    "deel('tien', 2)"
   ]
  },
  {
   "cell_type": "code",
   "execution_count": 154,
   "metadata": {},
   "outputs": [],
   "source": [
    "# improved error handling\n",
    "def deel(x, y):\n",
    "    \"\"\"\n",
    "    Deze functie geeft de waarde van x gedeeld door y terug.\n",
    "    \"\"\"\n",
    "    try:\n",
    "        return x / y\n",
    "    except ZeroDivisionError as E:\n",
    "        print(E)\n",
    "    except TypeError as E:\n",
    "        print(E)"
   ]
  },
  {
   "cell_type": "code",
   "execution_count": 155,
   "metadata": {},
   "outputs": [
    {
     "name": "stdout",
     "output_type": "stream",
     "text": [
      "unsupported operand type(s) for /: 'str' and 'int'\n"
     ]
    }
   ],
   "source": [
    "deel('tien', 2)"
   ]
  },
  {
   "cell_type": "code",
   "execution_count": 156,
   "metadata": {},
   "outputs": [
    {
     "name": "stdout",
     "output_type": "stream",
     "text": [
      "division by zero\n"
     ]
    }
   ],
   "source": [
    "deel(10, 0)"
   ]
  },
  {
   "cell_type": "code",
   "execution_count": 157,
   "metadata": {},
   "outputs": [
    {
     "ename": "TypeError",
     "evalue": "deel() missing 1 required positional argument: 'y'",
     "output_type": "error",
     "traceback": [
      "\u001b[1;31m---------------------------------------------------------------------------\u001b[0m",
      "\u001b[1;31mTypeError\u001b[0m                                 Traceback (most recent call last)",
      "\u001b[1;32m<ipython-input-157-0d780191db3e>\u001b[0m in \u001b[0;36m<module>\u001b[1;34m()\u001b[0m\n\u001b[0;32m      1\u001b[0m \u001b[1;31m# error 3\u001b[0m\u001b[1;33m\u001b[0m\u001b[1;33m\u001b[0m\u001b[0m\n\u001b[1;32m----> 2\u001b[1;33m \u001b[0mdeel\u001b[0m\u001b[1;33m(\u001b[0m\u001b[1;36m10\u001b[0m\u001b[1;33m)\u001b[0m\u001b[1;33m\u001b[0m\u001b[0m\n\u001b[0m",
      "\u001b[1;31mTypeError\u001b[0m: deel() missing 1 required positional argument: 'y'"
     ]
    }
   ],
   "source": [
    "# error 3\n",
    "deel(10)"
   ]
  },
  {
   "cell_type": "markdown",
   "metadata": {},
   "source": [
    "Je kun je afvragen of je deze fout wel wilt oplossen.  \n",
    "Immers, beide argumenten `x` en `y` zijn nodig om het statement `x / y` te  kunnen uitvoeren.\n",
    "\n",
    "We kiezen er voor om `y` de default value `1` te geven als `y` niet wordt gespecificeerd."
   ]
  },
  {
   "cell_type": "code",
   "execution_count": 158,
   "metadata": {},
   "outputs": [],
   "source": [
    "# improved error handling / default value\n",
    "def deel(x, y = 1):\n",
    "    \"\"\"\n",
    "    Deze functie geeft de waarde van x gedeeld door y terug.\n",
    "    Als y niet is gespecificeerd, wordt als default value de waarde 1 gebruikt.\n",
    "    \"\"\"\n",
    "    try:\n",
    "        return x / y\n",
    "    except ZeroDivisionError as E:\n",
    "        print(E)\n",
    "    except TypeError as E:\n",
    "        print(E)"
   ]
  },
  {
   "cell_type": "code",
   "execution_count": 159,
   "metadata": {},
   "outputs": [
    {
     "data": {
      "text/plain": [
       "10.0"
      ]
     },
     "execution_count": 159,
     "metadata": {},
     "output_type": "execute_result"
    }
   ],
   "source": [
    "# test\n",
    "deel(10)"
   ]
  },
  {
   "cell_type": "code",
   "execution_count": 160,
   "metadata": {},
   "outputs": [
    {
     "ename": "TypeError",
     "evalue": "deel() missing 1 required positional argument: 'x'",
     "output_type": "error",
     "traceback": [
      "\u001b[1;31m---------------------------------------------------------------------------\u001b[0m",
      "\u001b[1;31mTypeError\u001b[0m                                 Traceback (most recent call last)",
      "\u001b[1;32m<ipython-input-160-252bff9e6beb>\u001b[0m in \u001b[0;36m<module>\u001b[1;34m()\u001b[0m\n\u001b[0;32m      1\u001b[0m \u001b[1;31m# error 4\u001b[0m\u001b[1;33m\u001b[0m\u001b[1;33m\u001b[0m\u001b[0m\n\u001b[1;32m----> 2\u001b[1;33m \u001b[0mdeel\u001b[0m\u001b[1;33m(\u001b[0m\u001b[1;33m)\u001b[0m\u001b[1;33m\u001b[0m\u001b[0m\n\u001b[0m",
      "\u001b[1;31mTypeError\u001b[0m: deel() missing 1 required positional argument: 'x'"
     ]
    }
   ],
   "source": [
    "# error 4\n",
    "deel()"
   ]
  },
  {
   "cell_type": "markdown",
   "metadata": {},
   "source": [
    "Ook hier is het goed om je af te vragen of je deze fout wel wilt afvangen.  \n",
    "\n",
    "Soms is beter dat je code 'breekt' tijdens de uitvoer> Dan wordt expliciet helder is dat er iets aan de hand is.\n",
    "\n",
    "Immers het uitvoeren van deze functie zonder argumenten mee te geven is niet zinvol.\n",
    "\n",
    "Maar om te oefenen, gaat we het toch doen :-)"
   ]
  },
  {
   "cell_type": "code",
   "execution_count": 162,
   "metadata": {},
   "outputs": [],
   "source": [
    "# improved error handling / default value\n",
    "def deel(x = None, y = 1):\n",
    "    \"\"\"\n",
    "    Deze functie geeft de waarde van x gedeeld door y terug.\n",
    "    Als x niet is gespecificeerd, wordt als default value de waarde None gebruikt.\n",
    "    Als y niet is gespecificeerd, wordt als default value de waarde 1 gebruikt.\n",
    "    \"\"\"\n",
    "    try:\n",
    "        return x / y\n",
    "    except ZeroDivisionError as E:\n",
    "        print(E)\n",
    "    except TypeError as E:\n",
    "        print(E)"
   ]
  },
  {
   "cell_type": "code",
   "execution_count": 163,
   "metadata": {},
   "outputs": [
    {
     "name": "stdout",
     "output_type": "stream",
     "text": [
      "unsupported operand type(s) for /: 'NoneType' and 'int'\n"
     ]
    }
   ],
   "source": [
    "# test\n",
    "deel()"
   ]
  },
  {
   "cell_type": "markdown",
   "metadata": {},
   "source": [
    "De test is geslaagd, in die zin dat de code niet breekt tijdens de uitvoer.  \n",
    "\n",
    "Echter, de foutmelding is wellicht wat 'indirecter' door gebruik van de default value `None` voor `x` en daarmee minder expliciet en informatief t.o.v. het laten 'breken' van de code."
   ]
  },
  {
   "cell_type": "code",
   "execution_count": 168,
   "metadata": {},
   "outputs": [
    {
     "name": "stdout",
     "output_type": "stream",
     "text": [
      "Uitvoeren test cases...\n",
      "\n",
      "5.0\n",
      "unsupported operand type(s) for /: 'NoneType' and 'int'\n",
      "division by zero\n",
      "unsupported operand type(s) for /: 'NoneType' and 'int'\n",
      "unsupported operand type(s) for /: 'str' and 'str'\n",
      "None\n"
     ]
    }
   ],
   "source": [
    "# heel eenvoudig testscript...\n",
    "print('Uitvoeren test cases...\\n')\n",
    "\n",
    "print(deel(10, 2)) # test met integers\n",
    "deel(1e1000, 3.14159265) # test met floats\n",
    "deel(y=1) # test default value voor x\n",
    "deel(10) # test default value voor y\n",
    "deel(10, 0) # test delen door nul\n",
    "deel() # test geen input waarden\n",
    "print(deel('ten', 'two')) # test string inputs"
   ]
  },
  {
   "cell_type": "code",
   "execution_count": 143,
   "metadata": {},
   "outputs": [],
   "source": [
    "# error 5"
   ]
  },
  {
   "cell_type": "code",
   "execution_count": 146,
   "metadata": {},
   "outputs": [
    {
     "name": "stdout",
     "output_type": "stream",
     "text": [
      "unsupported operand type(s) for /: 'float' and 'str'\n"
     ]
    }
   ],
   "source": [
    "deel(nan, 'nan')"
   ]
  },
  {
   "cell_type": "code",
   "execution_count": null,
   "metadata": {},
   "outputs": [],
   "source": []
  },
  {
   "cell_type": "code",
   "execution_count": null,
   "metadata": {},
   "outputs": [],
   "source": []
  },
  {
   "cell_type": "code",
   "execution_count": null,
   "metadata": {},
   "outputs": [],
   "source": []
  },
  {
   "cell_type": "code",
   "execution_count": null,
   "metadata": {},
   "outputs": [],
   "source": []
  },
  {
   "cell_type": "code",
   "execution_count": null,
   "metadata": {},
   "outputs": [],
   "source": []
  },
  {
   "cell_type": "code",
   "execution_count": null,
   "metadata": {},
   "outputs": [],
   "source": []
  },
  {
   "cell_type": "code",
   "execution_count": null,
   "metadata": {},
   "outputs": [],
   "source": []
  },
  {
   "cell_type": "code",
   "execution_count": null,
   "metadata": {},
   "outputs": [],
   "source": []
  },
  {
   "cell_type": "code",
   "execution_count": null,
   "metadata": {},
   "outputs": [],
   "source": []
  },
  {
   "cell_type": "code",
   "execution_count": null,
   "metadata": {},
   "outputs": [],
   "source": []
  },
  {
   "cell_type": "code",
   "execution_count": null,
   "metadata": {},
   "outputs": [],
   "source": []
  },
  {
   "cell_type": "code",
   "execution_count": 110,
   "metadata": {},
   "outputs": [],
   "source": [
    "# basic error handling\n",
    "def deel(x, y):\n",
    "    \"\"\"\n",
    "    Deze functie geeft de waarde van x gedeeld door y terug.\n",
    "    \"\"\"\n",
    "    try:\n",
    "        return x / y\n",
    "    except:\n",
    "        print('Er gaat iets mis!')"
   ]
  },
  {
   "cell_type": "code",
   "execution_count": 42,
   "metadata": {},
   "outputs": [
    {
     "name": "stdout",
     "output_type": "stream",
     "text": [
      "Er gaat iets mis!\n"
     ]
    }
   ],
   "source": [
    "deel('tien', 2)"
   ]
  },
  {
   "cell_type": "markdown",
   "metadata": {},
   "source": [
    "Er wordt een foutboodschap afgedruk, maar _**geen waarde**_ geretourneerd (i.e. `None` wordt geretourneerd)."
   ]
  },
  {
   "cell_type": "code",
   "execution_count": 43,
   "metadata": {},
   "outputs": [
    {
     "name": "stdout",
     "output_type": "stream",
     "text": [
      "Er gaat iets mis!\n"
     ]
    },
    {
     "data": {
      "text/plain": [
       "True"
      ]
     },
     "execution_count": 43,
     "metadata": {},
     "output_type": "execute_result"
    }
   ],
   "source": [
    "deel('tien', 2) == None"
   ]
  },
  {
   "cell_type": "code",
   "execution_count": 44,
   "metadata": {},
   "outputs": [
    {
     "ename": "ZeroDivisionError",
     "evalue": "division by zero",
     "output_type": "error",
     "traceback": [
      "\u001b[1;31m---------------------------------------------------------------------------\u001b[0m",
      "\u001b[1;31mZeroDivisionError\u001b[0m                         Traceback (most recent call last)",
      "\u001b[1;32m<ipython-input-44-71dec130b3ab>\u001b[0m in \u001b[0;36m<module>\u001b[1;34m()\u001b[0m\n\u001b[1;32m----> 1\u001b[1;33m \u001b[0mdeel\u001b[0m\u001b[1;33m(\u001b[0m\u001b[1;36m10\u001b[0m \u001b[1;33m/\u001b[0m \u001b[1;36m0\u001b[0m\u001b[1;33m)\u001b[0m\u001b[1;33m\u001b[0m\u001b[0m\n\u001b[0m",
      "\u001b[1;31mZeroDivisionError\u001b[0m: division by zero"
     ]
    }
   ],
   "source": [
    "deel(10 / 0)"
   ]
  },
  {
   "cell_type": "code",
   "execution_count": 45,
   "metadata": {},
   "outputs": [],
   "source": [
    "# ZeroDivisionError\n",
    "def deel(x, y):\n",
    "    \"\"\"\n",
    "    Deze functie geeft de waarde van x gedeeld door y terug.\n",
    "    \"\"\"\n",
    "    try:\n",
    "        return x / y\n",
    "    except ZeroDivisionError:\n",
    "        print('Foutmelding: Deling door nul geconstateerd.')\n",
    "    except:\n",
    "        print('Er gaat iets mis!')"
   ]
  },
  {
   "cell_type": "code",
   "execution_count": 46,
   "metadata": {},
   "outputs": [
    {
     "name": "stdout",
     "output_type": "stream",
     "text": [
      "Foutmelding: Deling door nul geconstateerd.\n"
     ]
    }
   ],
   "source": [
    "deel(10, 0)"
   ]
  },
  {
   "cell_type": "code",
   "execution_count": 47,
   "metadata": {},
   "outputs": [
    {
     "ename": "TypeError",
     "evalue": "deel() missing 2 required positional arguments: 'x' and 'y'",
     "output_type": "error",
     "traceback": [
      "\u001b[1;31m---------------------------------------------------------------------------\u001b[0m",
      "\u001b[1;31mTypeError\u001b[0m                                 Traceback (most recent call last)",
      "\u001b[1;32m<ipython-input-47-2c9b64cbe076>\u001b[0m in \u001b[0;36m<module>\u001b[1;34m()\u001b[0m\n\u001b[1;32m----> 1\u001b[1;33m \u001b[0mdeel\u001b[0m\u001b[1;33m(\u001b[0m\u001b[1;33m)\u001b[0m\u001b[1;33m\u001b[0m\u001b[0m\n\u001b[0m",
      "\u001b[1;31mTypeError\u001b[0m: deel() missing 2 required positional arguments: 'x' and 'y'"
     ]
    }
   ],
   "source": [
    "deel()"
   ]
  },
  {
   "cell_type": "code",
   "execution_count": 7,
   "metadata": {},
   "outputs": [],
   "source": [
    "# argument defaults\n",
    "def deel(x = None, y = None):\n",
    "    \"\"\"\n",
    "    Deze functie geeft de waarde van getal x gedeeld door getal y terug.\n",
    "    \"\"\"\n",
    "    try:\n",
    "        return x / y\n",
    "    except ZeroDivisionError:\n",
    "        print('Foutmelding: Deling door nul geconstateerd.')\n",
    "    except:\n",
    "        print('Er gaat iets mis!')"
   ]
  },
  {
   "cell_type": "code",
   "execution_count": 8,
   "metadata": {},
   "outputs": [
    {
     "name": "stdout",
     "output_type": "stream",
     "text": [
      "Er gaat iets mis!\n"
     ]
    }
   ],
   "source": [
    "deel()"
   ]
  },
  {
   "cell_type": "code",
   "execution_count": 50,
   "metadata": {},
   "outputs": [
    {
     "name": "stdout",
     "output_type": "stream",
     "text": [
      "Uitvoeren test cases...\n",
      "\n",
      "Foutmelding: Deling door nul geconstateerd.\n",
      "Er gaat iets mis!\n",
      "Er gaat iets mis!\n",
      "Er gaat iets mis!\n"
     ]
    }
   ],
   "source": [
    "# heel eenvoudig testscript...\n",
    "print('Uitvoeren test cases...\\n')\n",
    "\n",
    "# positive cases\n",
    "deel(10, 2) # test met integers\n",
    "deel(1e1000, 3.14159265) # test met floats\n",
    "\n",
    "# negative cases\n",
    "deel(10, 0) # test delen door nul\n",
    "\n",
    "# destructive cases\n",
    "deel() # test geen input waarden\n",
    "deel(10) # test één input waarde\n",
    "deel('ten', 'two') # test string inputs"
   ]
  },
  {
   "cell_type": "markdown",
   "metadata": {},
   "source": [
    "Alle fouten zijn goed afgevangen!"
   ]
  },
  {
   "cell_type": "code",
   "execution_count": 11,
   "metadata": {},
   "outputs": [
    {
     "name": "stdout",
     "output_type": "stream",
     "text": [
      "Foutmelding: Deling door nul geconstateerd.\n",
      "Er gaat iets mis!\n"
     ]
    }
   ],
   "source": [
    "# foutmedlingen bij het 'nesten' van functies\n",
    "deel(100, deel(10, 0))"
   ]
  },
  {
   "cell_type": "code",
   "execution_count": 51,
   "metadata": {},
   "outputs": [],
   "source": [
    "# raising errors\n",
    "def calc(x = None, operator = None, y = None):\n",
    "    \"\"\"\n",
    "    Deze functie is een eenvoudige calculator die de uitkomst van een bekeken in terug geeft.\n",
    "    De argumenten 'x' en 'y' zijn de getallen voor de berekening.\n",
    "    Het argument 'operator' geeft aan welke operatie er wordt uitgevoerd.\n",
    "    Geldige operatoren zijn: '+', '-', '*', 'x', '/', ':', '**' en '^'\n",
    "    \"\"\"\n",
    "    try:\n",
    "        if x == None or operator == None or y == None:\n",
    "            raise Exception('Een of meerdere argumenten ontbreken', x, operator, y)\n",
    "        elif type(x) not in [int, float] or type(y) not in [int, float]:\n",
    "            raise Exception('Inputs x en y dienen getallen te zijn', x, y)\n",
    "        elif operator == '+':\n",
    "            return x + y\n",
    "        elif operator == '-':\n",
    "            return x - y\n",
    "        elif operator in ['**', '^']:\n",
    "            return x ** y\n",
    "        elif operator in ['*', 'x']:\n",
    "            return x * y\n",
    "        elif operator in ['/', ':']:\n",
    "            if y == 0:\n",
    "                raise Exception('Deling door nul gedetecteerd', operator, y)\n",
    "            else:\n",
    "                return x / y\n",
    "        else:\n",
    "            raise Exception('Geen geldige operatie', operator)\n",
    "    except Exception as error:\n",
    "        print(repr(error.args)) # print the raised error message with the additional arguments\n",
    "    except:\n",
    "        print('Er gaat iets mis!')"
   ]
  },
  {
   "cell_type": "code",
   "execution_count": 52,
   "metadata": {},
   "outputs": [
    {
     "data": {
      "text/plain": [
       "20"
      ]
     },
     "execution_count": 52,
     "metadata": {},
     "output_type": "execute_result"
    }
   ],
   "source": [
    "# positive test case\n",
    "calc(15, '+', 5)"
   ]
  },
  {
   "cell_type": "code",
   "execution_count": 53,
   "metadata": {},
   "outputs": [
    {
     "name": "stdout",
     "output_type": "stream",
     "text": [
      "('Deling door nul gedetecteerd', ':', 0)\n"
     ]
    }
   ],
   "source": [
    "# negative test case\n",
    "calc(10, ':', 0)"
   ]
  },
  {
   "cell_type": "code",
   "execution_count": 54,
   "metadata": {},
   "outputs": [
    {
     "name": "stdout",
     "output_type": "stream",
     "text": [
      "('Inputs x en y dienen getallen te zijn', 'tien', 'nul')\n"
     ]
    }
   ],
   "source": [
    "# destructive test case\n",
    "calc('tien', ':', 'nul')"
   ]
  },
  {
   "cell_type": "code",
   "execution_count": 55,
   "metadata": {},
   "outputs": [],
   "source": [
    "# positive test cases\n",
    "positive_cases = {'01': [(15, '+', 5), 20, 'optellen'],\n",
    "                  '02': [(15, '-', 5), 10, 'aftrekken'],\n",
    "                  '03': [(15, '*', 5), 75, 'vermenigvuldigen'],\n",
    "                  '04': [(15, 'x', 5), 1234567890, 'vermenigvuldigen'], # moet zijn: 75\n",
    "                  '05': [(5, '/', 10), 0.5, 'delen'],\n",
    "                  '06': [(5, ':', 20), 0.25, 'delen'],\n",
    "                  '07': [(2, '**', 8), 256, 'macht'],\n",
    "                  '08': [(2, '^', 8), 256, 'macht'],\n",
    "                  '09': [(15, '-', 2.5), 12.5, 'float'],\n",
    "                  '10': [(25, ':', 5e1), 0.5, 'float']\n",
    "                 }"
   ]
  },
  {
   "cell_type": "code",
   "execution_count": 56,
   "metadata": {},
   "outputs": [],
   "source": [
    "# negative test cases\n",
    "negative_cases = {'01': [(10, '/', 0), None, 'delen door nul'],\n",
    "                  '02': [(10, ':', 0), 1234567890, 'delen door nul'] # moet zijn: None\n",
    "                 }"
   ]
  },
  {
   "cell_type": "code",
   "execution_count": 57,
   "metadata": {},
   "outputs": [],
   "source": [
    "# destructive test cases\n",
    "destructive_cases = {'01': [('tien', '/', 'vijf'), None, 'tekst i.p.v. getallen'],\n",
    "                     '02': [(10, '%', 5), None, 'ongeldige operatie'],\n",
    "                     '03': [(None, None, None), None, 'geen argumenten'],                     \n",
    "                     '04': [('tien', 'plus', 'nul'), 1234567890, 'alle input tekst'] # Moet zijn: None\n",
    "                    }"
   ]
  },
  {
   "cell_type": "code",
   "execution_count": 58,
   "metadata": {},
   "outputs": [],
   "source": [
    "# function for running test cases\n",
    "def run_tests(test_cases):\n",
    "    print('Running {} test cases...\\n'.format(len(test_cases.keys())))\n",
    "    print('Nr  Test Case              Verwacht    Omschrijving               Resultaat')\n",
    "    print('--  ---------------------  ----------  -------------------------  ---------')\n",
    "    for tc in test_cases.keys():\n",
    "        output = calc(test_cases[tc][0][0], test_cases[tc][0][1], test_cases[tc][0][2])\n",
    "        test = '{} {} {} = {}'.format(test_cases[tc][0][0], test_cases[tc][0][1], test_cases[tc][0][2], output)\n",
    "        resultaat = 'Goed' if output == test_cases[tc][1] else 'Fout! <--'\n",
    "        verwacht = 'None' if test_cases[tc][1] is None else test_cases[tc][1]\n",
    "        print('{}  {:<21}  {:<10}  {:<25}  {:<9}'.format(tc, test, verwacht, test_cases[tc][2], resultaat))"
   ]
  },
  {
   "cell_type": "code",
   "execution_count": 59,
   "metadata": {},
   "outputs": [
    {
     "name": "stdout",
     "output_type": "stream",
     "text": [
      "Running 10 test cases...\n",
      "\n",
      "Nr  Test Case              Verwacht    Omschrijving               Resultaat\n",
      "--  ---------------------  ----------  -------------------------  ---------\n",
      "01  15 + 5 = 20            20          optellen                   Goed     \n",
      "02  15 - 5 = 10            10          aftrekken                  Goed     \n",
      "03  15 * 5 = 75            75          vermenigvuldigen           Goed     \n",
      "04  15 x 5 = 75            1234567890  vermenigvuldigen           Fout! <--\n",
      "05  5 / 10 = 0.5           0.5         delen                      Goed     \n",
      "06  5 : 20 = 0.25          0.25        delen                      Goed     \n",
      "07  2 ** 8 = 256           256         macht                      Goed     \n",
      "08  2 ^ 8 = 256            256         macht                      Goed     \n",
      "09  15 - 2.5 = 12.5        12.5        float                      Goed     \n",
      "10  25 : 50.0 = 0.5        0.5         float                      Goed     \n",
      "\n",
      "===========================================================================\n",
      "\n",
      "Running 2 test cases...\n",
      "\n",
      "Nr  Test Case              Verwacht    Omschrijving               Resultaat\n",
      "--  ---------------------  ----------  -------------------------  ---------\n",
      "('Deling door nul gedetecteerd', '/', 0)\n",
      "01  10 / 0 = None          None        delen door nul             Goed     \n",
      "('Deling door nul gedetecteerd', ':', 0)\n",
      "02  10 : 0 = None          1234567890  delen door nul             Fout! <--\n",
      "\n",
      "===========================================================================\n",
      "\n",
      "Running 4 test cases...\n",
      "\n",
      "Nr  Test Case              Verwacht    Omschrijving               Resultaat\n",
      "--  ---------------------  ----------  -------------------------  ---------\n",
      "('Inputs x en y dienen getallen te zijn', 'tien', 'vijf')\n",
      "01  tien / vijf = None     None        tekst i.p.v. getallen      Goed     \n",
      "('Geen geldige operatie', '%')\n",
      "02  10 % 5 = None          None        ongeldige operatie         Goed     \n",
      "('Een of meerdere argumenten ontbreken', None, None, None)\n",
      "03  None None None = None  None        geen argumenten            Goed     \n",
      "('Inputs x en y dienen getallen te zijn', 'tien', 'nul')\n",
      "04  tien plus nul = None   1234567890  alle input tekst           Fout! <--\n",
      "\n",
      "===========================================================================\n",
      "\n"
     ]
    }
   ],
   "source": [
    "# running test cases from all test dictionaries\n",
    "all_tests = [positive_cases, negative_cases, destructive_cases]\n",
    "for test_dict in all_tests:\n",
    "    run_tests(test_dict)\n",
    "    print('\\n===========================================================================\\n')"
   ]
  },
  {
   "cell_type": "markdown",
   "metadata": {},
   "source": [
    "##### Opdracht 2"
   ]
  },
  {
   "cell_type": "markdown",
   "metadata": {},
   "source": [
    "$$fahrenheit = celsius \\times \\frac{9}{5} + 32$$"
   ]
  },
  {
   "cell_type": "markdown",
   "metadata": {},
   "source": [
    "$$kelvin = celsius + 273.15$$"
   ]
  },
  {
   "cell_type": "markdown",
   "metadata": {},
   "source": [
    "1. Definieer een functie `conv` met als argument een temperatuur in graden Celsius die een temperatuur in graden Fahrenheit terug geeft. De functie hoeft nog _geen_ foutafhandeling te bevatten. Test: `conv(100) == 212.0` is `True`.\n",
    "\n",
    "2. Wijzig de functie `conv` zodanig dat _ook_ de tempeatuur in Kelvin wordt terug gegeven. Ook hoeft foutafhandeling nog niet geïmplementeerd te worden. Print vervolgens de tekst `'100 graden Celsius is 373.15 Kelvin.'` naar het scherm waarbij je voor `373.15` string formatting gebruikt om deze waarde in te vullen.\n",
    "\n",
    "3. Voeg (basale) foutafhandeling toe aan `conv` zodanig dat de functie 'werkt' als er geen argument wordt meegegeven of een string als input wordt meegegeven. Het statement `raise Error` hoef je in deze opdracht nog niet te gebruiken. Test vervolgens de foutafhandeling met het statement `conv()` en met het statement `conv('honderd')`.\n",
    "\n",
    "4. Het absolute minimum qua temperatuur is 0 Kelvin (i.e -273.15 graden Celsius). Raise een error indien als argument een lagere waarde dan -273.15 wordt meegegeven. Geef hierbij een foutboodschap mee en ook de foutieve waarde. Test met statement `conv(-300)` en met `conv(-273.15)[1] == 0`.\n",
    "\n",
    "5. Definieer een list `tests` met test cases en loop daar door heen. Houdt het eenvoudig qua output. Neem in elke geval de test case `-300`, `None` en `'honderd'` op. Leidt dat nog tot aanpassingen en/of verbeteringen van de functie `conv`?\n",
    "\n",
    "6. Pas de functie toe op een reeks waarden van 0 tot en met 100 in stappen van 10."
   ]
  },
  {
   "cell_type": "markdown",
   "metadata": {},
   "source": [
    "##### Antwoorden"
   ]
  },
  {
   "cell_type": "code",
   "execution_count": 60,
   "metadata": {},
   "outputs": [],
   "source": [
    "# opdracht 1a\n",
    "def conv(celsius):\n",
    "    \"\"\"\n",
    "    Deze functie converteert graden Celsius naar graden Fahrenheit.\n",
    "    \"\"\"\n",
    "    return celsius * 9/5 + 32, celsius + 273.15"
   ]
  },
  {
   "cell_type": "code",
   "execution_count": 61,
   "metadata": {},
   "outputs": [
    {
     "data": {
      "text/plain": [
       "False"
      ]
     },
     "execution_count": 61,
     "metadata": {},
     "output_type": "execute_result"
    }
   ],
   "source": [
    "# opdracht 1b\n",
    "conv(100) == 212.0"
   ]
  },
  {
   "cell_type": "code",
   "execution_count": 62,
   "metadata": {},
   "outputs": [],
   "source": [
    "# opdracht 2a\n",
    "def conv(celsius):\n",
    "    \"\"\"\n",
    "    Deze functie converteert graden Celsius naar graden Fahrenheit en naar Kelvin en geeft beide waarden terug.\n",
    "    \"\"\"\n",
    "    return celsius * 9/5 + 32, celsius + 273.15"
   ]
  },
  {
   "cell_type": "code",
   "execution_count": 63,
   "metadata": {},
   "outputs": [
    {
     "name": "stdout",
     "output_type": "stream",
     "text": [
      "100 graden Celsius is 373.15 Kelvin.\n"
     ]
    }
   ],
   "source": [
    "# opdracht 2b\n",
    "print('100 graden Celsius is {} Kelvin.'.format(conv(100)[1]))"
   ]
  },
  {
   "cell_type": "code",
   "execution_count": 64,
   "metadata": {},
   "outputs": [],
   "source": [
    "# opdracht 3a\n",
    "def conv(celsius = None):\n",
    "    \"\"\"\n",
    "    Deze functie converteert graden Celsius naar graden Fahrenheit en naar Kelvin en geeft beide waarden terug.\n",
    "    \"\"\"\n",
    "    try:\n",
    "        return celsius * 9/5 + 32, celsius + 273.15\n",
    "    except:\n",
    "        print('Er is iets mis gegaan!')    "
   ]
  },
  {
   "cell_type": "code",
   "execution_count": 65,
   "metadata": {},
   "outputs": [
    {
     "name": "stdout",
     "output_type": "stream",
     "text": [
      "Er is iets mis gegaan!\n",
      "Er is iets mis gegaan!\n"
     ]
    }
   ],
   "source": [
    "# opdracht 3b\n",
    "conv()\n",
    "conv('honderd')"
   ]
  },
  {
   "cell_type": "code",
   "execution_count": 12,
   "metadata": {},
   "outputs": [],
   "source": [
    "# opdracht 4a\n",
    "def conv(celsius = None):\n",
    "    \"\"\"\n",
    "    Deze functie converteert graden Celsius naar graden Fahrenheit en naar Kelvin en geeft beide waarden terug.\n",
    "    \"\"\"\n",
    "    try:\n",
    "        if celsius < -273.15:\n",
    "            raise Exception('Temperatuur lager dan het absolute minimum', celsius)\n",
    "        return celsius * 9/5 + 32, celsius + 273.15\n",
    "    except Exception as error:\n",
    "        print(repr(error.args))\n",
    "    except:\n",
    "        print('Er is iets mis gegaan!')"
   ]
  },
  {
   "cell_type": "code",
   "execution_count": 13,
   "metadata": {},
   "outputs": [
    {
     "name": "stdout",
     "output_type": "stream",
     "text": [
      "('Temperatuur lager dan het absolute minimum', -300)\n"
     ]
    },
    {
     "data": {
      "text/plain": [
       "True"
      ]
     },
     "execution_count": 13,
     "metadata": {},
     "output_type": "execute_result"
    }
   ],
   "source": [
    "# opdracht 4b\n",
    "conv(-300)\n",
    "conv(-273.15)[1] == 0"
   ]
  },
  {
   "cell_type": "code",
   "execution_count": 14,
   "metadata": {},
   "outputs": [],
   "source": [
    "# opdracht 5a\n",
    "tests = [100, 50, 37, 0, -10, -273.15, -300, None, 'honderd']"
   ]
  },
  {
   "cell_type": "code",
   "execution_count": 15,
   "metadata": {},
   "outputs": [
    {
     "name": "stdout",
     "output_type": "stream",
     "text": [
      "('Temperatuur lager dan het absolute minimum', -300)\n",
      "(\"'<' not supported between instances of 'NoneType' and 'float'\",)\n",
      "(\"'<' not supported between instances of 'str' and 'float'\",)\n"
     ]
    }
   ],
   "source": [
    "for test in tests:\n",
    "    conv(test)"
   ]
  },
  {
   "cell_type": "code",
   "execution_count": 16,
   "metadata": {},
   "outputs": [],
   "source": [
    "# opdracht 5b\n",
    "def conv(celsius = None):\n",
    "    \"\"\"\n",
    "    Deze functie converteert graden Celsius naar graden Fahrenheit en naar Kelvin en geeft beide waarden terug.\n",
    "    \"\"\"\n",
    "    try:\n",
    "        if celsius is None:\n",
    "            raise Exception('Temperatuur mag niet leeg zijn', celsius)\n",
    "        if type(celsius) not in [int, float]:\n",
    "            raise Exception('Temperatuur moet een numerieke waarde zijn', celsius)\n",
    "        if celsius < -273.15:\n",
    "            raise Exception('Temperatuur lager dan het absolute minimum', celsius)\n",
    "        return celsius * 9/5 + 32, celsius + 273.15\n",
    "    except Exception as error:\n",
    "        print(repr(error.args))\n",
    "    except:\n",
    "        print('Er is iets mis gegaan!')"
   ]
  },
  {
   "cell_type": "code",
   "execution_count": 17,
   "metadata": {},
   "outputs": [
    {
     "name": "stdout",
     "output_type": "stream",
     "text": [
      "('Temperatuur lager dan het absolute minimum', -300)\n",
      "('Temperatuur mag niet leeg zijn', None)\n",
      "('Temperatuur moet een numerieke waarde zijn', 'honderd')\n"
     ]
    }
   ],
   "source": [
    "for test in tests:\n",
    "    conv(test)"
   ]
  },
  {
   "cell_type": "code",
   "execution_count": 18,
   "metadata": {},
   "outputs": [
    {
     "data": {
      "text/plain": [
       "[(32.0, 273.15),\n",
       " (50.0, 283.15),\n",
       " (68.0, 293.15),\n",
       " (86.0, 303.15),\n",
       " (104.0, 313.15),\n",
       " (122.0, 323.15),\n",
       " (140.0, 333.15),\n",
       " (158.0, 343.15),\n",
       " (176.0, 353.15),\n",
       " (194.0, 363.15),\n",
       " (212.0, 373.15)]"
      ]
     },
     "execution_count": 18,
     "metadata": {},
     "output_type": "execute_result"
    }
   ],
   "source": [
    "# opdracht 6\n",
    "reeks = range(0, 101, 10)\n",
    "list(map(conv, reeks))"
   ]
  },
  {
   "cell_type": "markdown",
   "metadata": {},
   "source": [
    "## Anonymous functions"
   ]
  },
  {
   "cell_type": "markdown",
   "metadata": {},
   "source": [
    "'Anonymous functions' zijn functies zonder naam. Daarom zijn ze anoniem :-)  \n",
    "Je kunt je beschouwen als functies voor 'eenmalig gebruik' of als 'disposable functions'.  \n",
    "\n",
    "Om een anonieme functie te maken gebruiken we het statement `lambda`.  \n",
    "voor niet-anonieme functie wordt het statement `def` gebruikt.  \n",
    "\n",
    "Goed om te je met het oog op efficient geheugengebruik te realiseren dat een niet-anonieme functie in het geheugen aanwezig blijft totdat hij wordt verwijderd."
   ]
  },
  {
   "cell_type": "code",
   "execution_count": 28,
   "metadata": {},
   "outputs": [
    {
     "data": {
      "text/plain": [
       "[0, 10, 20, 30, 40, 50, 60, 70, 80, 90]"
      ]
     },
     "execution_count": 28,
     "metadata": {},
     "output_type": "execute_result"
    }
   ],
   "source": [
    "# functie\n",
    "def my_fun(x):\n",
    "    return x * 10\n",
    "list(map(my_fun, range(10)))"
   ]
  },
  {
   "cell_type": "code",
   "execution_count": 29,
   "metadata": {},
   "outputs": [
    {
     "data": {
      "text/plain": [
       "[0, 10, 20, 30, 40, 50, 60, 70, 80, 90]"
      ]
     },
     "execution_count": 29,
     "metadata": {},
     "output_type": "execute_result"
    }
   ],
   "source": [
    "# anonieme functie\n",
    "list(map(lambda x: x * 10, range(10)))"
   ]
  },
  {
   "cell_type": "code",
   "execution_count": 30,
   "metadata": {},
   "outputs": [
    {
     "data": {
      "text/plain": [
       "[0, 2, 4, 6, 8]"
      ]
     },
     "execution_count": 30,
     "metadata": {},
     "output_type": "execute_result"
    }
   ],
   "source": [
    "# functie\n",
    "def my_fun(x):\n",
    "    return x % 2 == 0\n",
    "list(filter(my_fun, range(10)))"
   ]
  },
  {
   "cell_type": "code",
   "execution_count": 31,
   "metadata": {},
   "outputs": [
    {
     "data": {
      "text/plain": [
       "[0, 2, 4, 6, 8]"
      ]
     },
     "execution_count": 31,
     "metadata": {},
     "output_type": "execute_result"
    }
   ],
   "source": [
    "# anonieme functie\n",
    "list(filter(lambda x: x % 2 == 0, range(10)))"
   ]
  },
  {
   "cell_type": "code",
   "execution_count": 33,
   "metadata": {},
   "outputs": [],
   "source": [
    "# verwijder functie\n",
    "del my_fun"
   ]
  }
 ],
 "metadata": {
  "kernelspec": {
   "display_name": "Python 3",
   "language": "python",
   "name": "python3"
  },
  "language_info": {
   "codemirror_mode": {
    "name": "ipython",
    "version": 3
   },
   "file_extension": ".py",
   "mimetype": "text/x-python",
   "name": "python",
   "nbconvert_exporter": "python",
   "pygments_lexer": "ipython3",
   "version": "3.6.6"
  }
 },
 "nbformat": 4,
 "nbformat_minor": 2
}
