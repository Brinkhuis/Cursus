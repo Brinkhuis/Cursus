{
 "cells": [
  {
   "cell_type": "markdown",
   "metadata": {},
   "source": [
    "# Les 2 : Control Structures en Functions"
   ]
  },
  {
   "cell_type": "markdown",
   "metadata": {},
   "source": [
    "In de les behandelen we de volgende onderwerpen:\n",
    "\n",
    "* **Control Structures**\n",
    "  * if\n",
    "  * else\n",
    "  * elif\n",
    "  * for\n",
    "  * while\n",
    "  * continue\n",
    "  * break  \n",
    "  \n",
    "  \n",
    "* **Functions**\n",
    "  * arguments\n",
    "  * default values\n",
    "  * return values\n",
    "  * error handling\n",
    "  * applying functions to iterables"
   ]
  },
  {
   "cell_type": "markdown",
   "metadata": {},
   "source": [
    "## Control structures"
   ]
  },
  {
   "cell_type": "markdown",
   "metadata": {},
   "source": [
    "### if"
   ]
  },
  {
   "cell_type": "code",
   "execution_count": 1,
   "metadata": {},
   "outputs": [
    {
     "name": "stdout",
     "output_type": "stream",
     "text": [
      "Dat klopt!\n"
     ]
    }
   ],
   "source": [
    "if 15 > 10:\n",
    "    print('Dat klopt!')"
   ]
  },
  {
   "cell_type": "code",
   "execution_count": 2,
   "metadata": {},
   "outputs": [
    {
     "name": "stdout",
     "output_type": "stream",
     "text": [
      "15 is een veelvoud van 3\n",
      "15 is een veelvoud van 5\n"
     ]
    }
   ],
   "source": [
    "num = 15\n",
    "if num % 3 == 0:\n",
    "    print('{} is een veelvoud van 3'.format(num))\n",
    "if num % 4 == 0:\n",
    "    print('{} is een veelvoud van 4'.format(num))\n",
    "if num % 5 == 0:\n",
    "    print('{} is een veelvoud van 5'.format(num))"
   ]
  },
  {
   "cell_type": "markdown",
   "metadata": {},
   "source": [
    "### else"
   ]
  },
  {
   "cell_type": "code",
   "execution_count": 3,
   "metadata": {},
   "outputs": [
    {
     "name": "stdout",
     "output_type": "stream",
     "text": [
      "15 is oneven\n"
     ]
    }
   ],
   "source": [
    "num = 15\n",
    "if num % 2 == 0:\n",
    "    print('{} is even'.format(num))\n",
    "else:\n",
    "    print('{} is oneven'.format(num))"
   ]
  },
  {
   "cell_type": "markdown",
   "metadata": {},
   "source": [
    "Opmerking: `else` heeft geen conditie!"
   ]
  },
  {
   "cell_type": "markdown",
   "metadata": {},
   "source": [
    "### elif"
   ]
  },
  {
   "cell_type": "code",
   "execution_count": 4,
   "metadata": {},
   "outputs": [
    {
     "name": "stdout",
     "output_type": "stream",
     "text": [
      "15 is een veelvoud van 3\n"
     ]
    }
   ],
   "source": [
    "num = 15\n",
    "if num % 3 == 0:\n",
    "    print('{} is een veelvoud van 3'.format(num))\n",
    "elif num % 4 == 0:\n",
    "    print('{} is een veelvoud van 4'.format(num))\n",
    "elif num % 5 == 0:\n",
    "    print('{} is een veelvoud van 5'.format(num))\n",
    "else:\n",
    "    print('{} is geen veelvoud van 3, 4 of 5'.format(num))"
   ]
  },
  {
   "cell_type": "markdown",
   "metadata": {},
   "source": [
    "Zodra aan een conditie wordt voldaan worden de volgende condities niet meer bekeken.  \n",
    "15 is ook een veelvoud van 5, maar dat wordt _niet_ geprint."
   ]
  },
  {
   "cell_type": "code",
   "execution_count": 5,
   "metadata": {},
   "outputs": [
    {
     "name": "stdout",
     "output_type": "stream",
     "text": [
      "17 is geen veelvoud van 3, 4 of 5\n"
     ]
    }
   ],
   "source": [
    "num = 17\n",
    "if num % 3 == 0:\n",
    "    print('{} is een veelvoud van 3'.format(num))\n",
    "elif num % 4 == 0:\n",
    "    print('{} is een veelvoud van 4'.format(num))\n",
    "elif num % 5 == 0:\n",
    "    print('{} is een veelvoud van 5'.format(num))\n",
    "else:\n",
    "    print('{} is geen veelvoud van 3, 4 of 5'.format(num))"
   ]
  },
  {
   "cell_type": "markdown",
   "metadata": {},
   "source": [
    "### for"
   ]
  },
  {
   "cell_type": "code",
   "execution_count": 6,
   "metadata": {},
   "outputs": [
    {
     "name": "stdout",
     "output_type": "stream",
     "text": [
      "0\n",
      "1\n",
      "2\n",
      "3\n",
      "4\n"
     ]
    }
   ],
   "source": [
    "# print range\n",
    "for num in range(5):\n",
    "    print(num)"
   ]
  },
  {
   "cell_type": "code",
   "execution_count": 7,
   "metadata": {},
   "outputs": [
    {
     "name": "stdout",
     "output_type": "stream",
     "text": [
      "0\n",
      "1\n",
      "3\n",
      "4\n"
     ]
    }
   ],
   "source": [
    "# skip 2\n",
    "for num in range(5):\n",
    "    if num == 2:\n",
    "        continue\n",
    "    print(num)"
   ]
  },
  {
   "cell_type": "code",
   "execution_count": 8,
   "metadata": {},
   "outputs": [
    {
     "name": "stdout",
     "output_type": "stream",
     "text": [
      "I\n",
      "love\n",
      "Python\n"
     ]
    }
   ],
   "source": [
    "# print list items\n",
    "for item in ['I', 'love', 'Python']:\n",
    "    print(item)"
   ]
  },
  {
   "cell_type": "code",
   "execution_count": 9,
   "metadata": {},
   "outputs": [
    {
     "name": "stdout",
     "output_type": "stream",
     "text": [
      "J\n",
      "u\n",
      "p\n",
      "y\n",
      "t\n",
      "e\n",
      "r\n"
     ]
    }
   ],
   "source": [
    "# print characters from string\n",
    "for char in 'Jupyter':\n",
    "    print(char)"
   ]
  },
  {
   "cell_type": "markdown",
   "metadata": {},
   "source": [
    "### while"
   ]
  },
  {
   "cell_type": "code",
   "execution_count": 10,
   "metadata": {},
   "outputs": [
    {
     "name": "stdout",
     "output_type": "stream",
     "text": [
      "1\n",
      "2\n",
      "3\n",
      "4\n",
      "5\n"
     ]
    }
   ],
   "source": [
    "count = 1\n",
    "while (count <= 5):\n",
    "    print(count)\n",
    "    count += 1 # ophoging teller aan het einde"
   ]
  },
  {
   "cell_type": "code",
   "execution_count": 11,
   "metadata": {},
   "outputs": [
    {
     "name": "stdout",
     "output_type": "stream",
     "text": [
      "1\n",
      "2\n",
      "3\n",
      "4\n",
      "5\n"
     ]
    }
   ],
   "source": [
    "# minder eenvoudig te doorgronden...\n",
    "count = 0\n",
    "while (count <= 4):\n",
    "    count += 1 # ophoging teller aan het begin\n",
    "    print(count)"
   ]
  },
  {
   "cell_type": "code",
   "execution_count": 12,
   "metadata": {},
   "outputs": [
    {
     "name": "stdout",
     "output_type": "stream",
     "text": [
      "1\n",
      "2\n",
      "3\n",
      "4\n",
      "5\n"
     ]
    }
   ],
   "source": [
    "count = 1\n",
    "while True:\n",
    "    print(count)\n",
    "    count += 1\n",
    "    if count > 5:\n",
    "        break"
   ]
  },
  {
   "cell_type": "code",
   "execution_count": 13,
   "metadata": {},
   "outputs": [
    {
     "name": "stdout",
     "output_type": "stream",
     "text": [
      "1\n",
      "2\n",
      "4\n",
      "5\n"
     ]
    }
   ],
   "source": [
    "# skipping 3\n",
    "count = 0\n",
    "while True:\n",
    "    count += 1 # teller aan het begin!\n",
    "    if count == 3:\n",
    "        continue\n",
    "    if count > 5:\n",
    "        break\n",
    "    print(count)"
   ]
  },
  {
   "cell_type": "markdown",
   "metadata": {},
   "source": [
    "##### Opdracht 1"
   ]
  },
  {
   "cell_type": "markdown",
   "metadata": {},
   "source": [
    "1. Maak in `if` loop dat als input een integer heeft en als resultaat print of het getal 'groter of gelijk is aan 10', 'groter of gelijk is aan 20', ' groter of gelijk is aan 30', ' groter of gelijk is aan 40', 'groter of gelijk is aan 50' of dat het getal 'nul of negatief' is. Er dient maar één van deze regels geprint te worden.\n",
    "2. Maak een `for` loop die de oneven getallen tussen 10 en 20 (inclusief) print _**zonder gebruik te maken van**_ het control statement `continue`. En maak een vergelijke `for` loop _**door gebruik te maken van**_ het control statement `continue`.\n",
    "3. Maak een `while` loop door de getallen tussen 1 en 15 (inclusief) en print alle waarden, behalve als ze deelbaar zijn door 3 of door 5. Maak hiervan _**vier varianten**_: een zonder het control statement `continue` of `break`, een met alleen het control statement `continue`, een met alleen het control statement `break` en een met zowel het control statement `continue` als het control statement `break`."
   ]
  },
  {
   "cell_type": "markdown",
   "metadata": {},
   "source": [
    "##### Antwoorden"
   ]
  },
  {
   "cell_type": "code",
   "execution_count": 14,
   "metadata": {},
   "outputs": [
    {
     "name": "stdout",
     "output_type": "stream",
     "text": [
      "Getal is nul of negatief\n"
     ]
    }
   ],
   "source": [
    "# opdracht 1.1\n",
    "num = -25\n",
    "if num >= 50:\n",
    "    print('Getal groter of gelijk aan 50')\n",
    "elif num >= 40:\n",
    "    print('Getal groter of gelijk aan 40')\n",
    "elif num >= 30:\n",
    "    print('Getal groter of gelijk aan 30')\n",
    "elif num >= 20:\n",
    "    print('Getal groter of gelijk aan 20')\n",
    "elif num >= 10:\n",
    "    print('Getal groter of gelijk aan 10')\n",
    "elif num >= 0:\n",
    "    print('Getal groter of gelijk aan 0')\n",
    "else:\n",
    "    print('Getal is nul of negatief')"
   ]
  },
  {
   "cell_type": "code",
   "execution_count": 15,
   "metadata": {},
   "outputs": [
    {
     "name": "stdout",
     "output_type": "stream",
     "text": [
      "11\n",
      "13\n",
      "15\n",
      "17\n",
      "19\n"
     ]
    }
   ],
   "source": [
    "# opdracht 1.2a\n",
    "for num in range(10, 21):\n",
    "    if num % 2 != 0:\n",
    "        print(num)"
   ]
  },
  {
   "cell_type": "code",
   "execution_count": 16,
   "metadata": {},
   "outputs": [
    {
     "name": "stdout",
     "output_type": "stream",
     "text": [
      "11\n",
      "13\n",
      "15\n",
      "17\n",
      "19\n"
     ]
    }
   ],
   "source": [
    "# Opdracht 1.2b\n",
    "for num in range(10, 21):\n",
    "    if num % 2 == 0:\n",
    "        continue\n",
    "    print(num)"
   ]
  },
  {
   "cell_type": "code",
   "execution_count": 17,
   "metadata": {},
   "outputs": [
    {
     "name": "stdout",
     "output_type": "stream",
     "text": [
      "1\n",
      "2\n",
      "4\n",
      "7\n",
      "8\n",
      "11\n",
      "13\n",
      "14\n"
     ]
    }
   ],
   "source": [
    "# opdracht 1.3a\n",
    "count = 1\n",
    "while count <= 15:\n",
    "    if not (count % 3 == 0 or count % 5 == 0):\n",
    "        print(count)\n",
    "    count += 1"
   ]
  },
  {
   "cell_type": "code",
   "execution_count": 18,
   "metadata": {},
   "outputs": [
    {
     "name": "stdout",
     "output_type": "stream",
     "text": [
      "1\n",
      "2\n",
      "4\n",
      "7\n",
      "8\n",
      "11\n",
      "13\n",
      "14\n"
     ]
    }
   ],
   "source": [
    "# opdracht 1.3b\n",
    "count = 0\n",
    "while count <= 14:\n",
    "    count += 1\n",
    "    if count % 3 == 0 or count % 5 == 0:\n",
    "        continue\n",
    "    print(count)"
   ]
  },
  {
   "cell_type": "code",
   "execution_count": 19,
   "metadata": {},
   "outputs": [
    {
     "name": "stdout",
     "output_type": "stream",
     "text": [
      "1\n",
      "2\n",
      "4\n",
      "7\n",
      "8\n",
      "11\n",
      "13\n",
      "14\n"
     ]
    }
   ],
   "source": [
    "# opdracht 1.3c\n",
    "count = 1\n",
    "while True:\n",
    "    if count > 15:\n",
    "        break\n",
    "    if not (count % 3 == 0 or count % 5 == 0):\n",
    "        print(count)\n",
    "    count += 1"
   ]
  },
  {
   "cell_type": "code",
   "execution_count": 20,
   "metadata": {},
   "outputs": [
    {
     "name": "stdout",
     "output_type": "stream",
     "text": [
      "1\n",
      "2\n",
      "4\n",
      "7\n",
      "8\n",
      "11\n",
      "13\n",
      "14\n"
     ]
    }
   ],
   "source": [
    "# opdracht 1.3d\n",
    "count = 0\n",
    "while True:\n",
    "    if count > 14:\n",
    "        break\n",
    "    count += 1\n",
    "    if count % 3 == 0 or count % 5 == 0:\n",
    "        continue\n",
    "    print(count)"
   ]
  },
  {
   "cell_type": "markdown",
   "metadata": {},
   "source": [
    "## Functions"
   ]
  },
  {
   "cell_type": "code",
   "execution_count": 21,
   "metadata": {},
   "outputs": [],
   "source": [
    "# no arguments, no return value\n",
    "def myFunc():\n",
    "    \"\"\"\n",
    "    Deze functie print de tekst 'My first Python function!'\n",
    "    \"\"\"\n",
    "    print('My first Python function!')"
   ]
  },
  {
   "cell_type": "code",
   "execution_count": 22,
   "metadata": {},
   "outputs": [
    {
     "name": "stdout",
     "output_type": "stream",
     "text": [
      "My first Python function!\n"
     ]
    }
   ],
   "source": [
    "myFunc()"
   ]
  },
  {
   "cell_type": "markdown",
   "metadata": {},
   "source": [
    "Opmerking: Deze functie geeft _**geen waarde**_ terug. Er wordt enkel een string naar scherm geprint!"
   ]
  },
  {
   "cell_type": "code",
   "execution_count": 23,
   "metadata": {},
   "outputs": [],
   "source": [
    "# no arguments\n",
    "def my_func():\n",
    "    \"\"\"\n",
    "    Deze functie geeft de string 'My first Python function!' terug.\n",
    "    \"\"\"\n",
    "    return 'My first Python function!'"
   ]
  },
  {
   "cell_type": "code",
   "execution_count": 24,
   "metadata": {},
   "outputs": [
    {
     "data": {
      "text/plain": [
       "'My first Python function!'"
      ]
     },
     "execution_count": 24,
     "metadata": {},
     "output_type": "execute_result"
    }
   ],
   "source": [
    "my_func()"
   ]
  },
  {
   "cell_type": "code",
   "execution_count": 25,
   "metadata": {},
   "outputs": [
    {
     "data": {
      "text/plain": [
       "25"
      ]
     },
     "execution_count": 25,
     "metadata": {},
     "output_type": "execute_result"
    }
   ],
   "source": [
    "len(my_func())"
   ]
  },
  {
   "cell_type": "code",
   "execution_count": 26,
   "metadata": {},
   "outputs": [
    {
     "data": {
      "text/plain": [
       "'PYTHON'"
      ]
     },
     "execution_count": 26,
     "metadata": {},
     "output_type": "execute_result"
    }
   ],
   "source": [
    "my_func()[9:15].upper()"
   ]
  },
  {
   "cell_type": "code",
   "execution_count": 27,
   "metadata": {},
   "outputs": [
    {
     "data": {
      "text/plain": [
       "function"
      ]
     },
     "execution_count": 27,
     "metadata": {},
     "output_type": "execute_result"
    }
   ],
   "source": [
    "type(my_func)"
   ]
  },
  {
   "cell_type": "code",
   "execution_count": 28,
   "metadata": {},
   "outputs": [
    {
     "name": "stdout",
     "output_type": "stream",
     "text": [
      "Help on function my_func in module __main__:\n",
      "\n",
      "my_func()\n",
      "    Deze functie geeft de string 'My first Python function!' terug.\n",
      "\n"
     ]
    }
   ],
   "source": [
    "help(my_func)"
   ]
  },
  {
   "cell_type": "markdown",
   "metadata": {},
   "source": [
    "**Vergeet niet om een functie te documenten!**"
   ]
  },
  {
   "cell_type": "code",
   "execution_count": 2,
   "metadata": {},
   "outputs": [],
   "source": [
    "# one argument\n",
    "def kwadraat(num):\n",
    "    \"\"\"\n",
    "    Deze functie geeft het kwadraat van een getal terug.\n",
    "    \"\"\"\n",
    "    return num ** 2"
   ]
  },
  {
   "cell_type": "code",
   "execution_count": 3,
   "metadata": {},
   "outputs": [
    {
     "data": {
      "text/plain": [
       "64"
      ]
     },
     "execution_count": 3,
     "metadata": {},
     "output_type": "execute_result"
    }
   ],
   "source": [
    "kwadraat(8)"
   ]
  },
  {
   "cell_type": "code",
   "execution_count": 4,
   "metadata": {},
   "outputs": [
    {
     "data": {
      "text/plain": [
       "[0, 1, 4, 9, 16, 25, 36, 49, 64, 81, 100]"
      ]
     },
     "execution_count": 4,
     "metadata": {},
     "output_type": "execute_result"
    }
   ],
   "source": [
    "# pas de functie toe op een lijst met getallen\n",
    "getallen = list(range(11))\n",
    "list(map(kwadraat, getallen))"
   ]
  },
  {
   "cell_type": "code",
   "execution_count": 5,
   "metadata": {},
   "outputs": [
    {
     "data": {
      "text/plain": [
       "256"
      ]
     },
     "execution_count": 5,
     "metadata": {},
     "output_type": "execute_result"
    }
   ],
   "source": [
    "# functies kun je ook 'nesten'\n",
    "kwadraat(kwadraat(kwadraat(2)))"
   ]
  },
  {
   "cell_type": "code",
   "execution_count": 32,
   "metadata": {},
   "outputs": [],
   "source": [
    "# two arguments, one return value\n",
    "def som(x, y):\n",
    "    \"\"\"\n",
    "    Deze functie geeft de som van twee getallen terug.\n",
    "    \"\"\"\n",
    "    return x + y"
   ]
  },
  {
   "cell_type": "code",
   "execution_count": 33,
   "metadata": {},
   "outputs": [
    {
     "data": {
      "text/plain": [
       "8"
      ]
     },
     "execution_count": 33,
     "metadata": {},
     "output_type": "execute_result"
    }
   ],
   "source": [
    "som(5, 3)"
   ]
  },
  {
   "cell_type": "code",
   "execution_count": 34,
   "metadata": {},
   "outputs": [],
   "source": [
    "# one argument, two return values\n",
    "def hoofd_klein(tekst):\n",
    "    \"\"\"\n",
    "    Deze functie geeft tekst zowel in hoofdletters als ook in kleine letters terug.\n",
    "    \"\"\"\n",
    "    return tekst.upper(), tekst.lower()"
   ]
  },
  {
   "cell_type": "code",
   "execution_count": 35,
   "metadata": {},
   "outputs": [
    {
     "data": {
      "text/plain": [
       "('JUPYTER', 'jupyter')"
      ]
     },
     "execution_count": 35,
     "metadata": {},
     "output_type": "execute_result"
    }
   ],
   "source": [
    "hoofd_klein('Jupyter')"
   ]
  },
  {
   "cell_type": "code",
   "execution_count": 36,
   "metadata": {},
   "outputs": [
    {
     "data": {
      "text/plain": [
       "tuple"
      ]
     },
     "execution_count": 36,
     "metadata": {},
     "output_type": "execute_result"
    }
   ],
   "source": [
    "type(hoofd_klein('Jupyter'))"
   ]
  },
  {
   "cell_type": "code",
   "execution_count": 37,
   "metadata": {},
   "outputs": [
    {
     "data": {
      "text/plain": [
       "'jupyter'"
      ]
     },
     "execution_count": 37,
     "metadata": {},
     "output_type": "execute_result"
    }
   ],
   "source": [
    "hoofd_klein('Jupyter')[1]"
   ]
  },
  {
   "cell_type": "code",
   "execution_count": 38,
   "metadata": {},
   "outputs": [],
   "source": [
    "# no error handling\n",
    "def deel(x, y):\n",
    "    \"\"\"\n",
    "    Deze functie geeft de waarde van x gedeeld door y terug.\n",
    "    \"\"\"\n",
    "    return x / y"
   ]
  },
  {
   "cell_type": "code",
   "execution_count": 39,
   "metadata": {},
   "outputs": [
    {
     "data": {
      "text/plain": [
       "5.0"
      ]
     },
     "execution_count": 39,
     "metadata": {},
     "output_type": "execute_result"
    }
   ],
   "source": [
    "deel(10, 2)"
   ]
  },
  {
   "cell_type": "code",
   "execution_count": 40,
   "metadata": {},
   "outputs": [
    {
     "ename": "TypeError",
     "evalue": "unsupported operand type(s) for /: 'str' and 'int'",
     "output_type": "error",
     "traceback": [
      "\u001b[1;31m---------------------------------------------------------------------------\u001b[0m",
      "\u001b[1;31mTypeError\u001b[0m                                 Traceback (most recent call last)",
      "\u001b[1;32m<ipython-input-40-2b91156d623c>\u001b[0m in \u001b[0;36m<module>\u001b[1;34m()\u001b[0m\n\u001b[0;32m      1\u001b[0m \u001b[1;31m# foutmelding\u001b[0m\u001b[1;33m\u001b[0m\u001b[1;33m\u001b[0m\u001b[0m\n\u001b[1;32m----> 2\u001b[1;33m \u001b[0mdeel\u001b[0m\u001b[1;33m(\u001b[0m\u001b[1;34m'tien'\u001b[0m\u001b[1;33m,\u001b[0m \u001b[1;36m2\u001b[0m\u001b[1;33m)\u001b[0m\u001b[1;33m\u001b[0m\u001b[0m\n\u001b[0m",
      "\u001b[1;32m<ipython-input-38-f2badf8a9f7a>\u001b[0m in \u001b[0;36mdeel\u001b[1;34m(x, y)\u001b[0m\n\u001b[0;32m      4\u001b[0m     \u001b[0mDeze\u001b[0m \u001b[0mfunctie\u001b[0m \u001b[0mgeeft\u001b[0m \u001b[0mde\u001b[0m \u001b[0mwaarde\u001b[0m \u001b[0mvan\u001b[0m \u001b[0mx\u001b[0m \u001b[0mgedeeld\u001b[0m \u001b[0mdoor\u001b[0m \u001b[0my\u001b[0m \u001b[0mterug\u001b[0m\u001b[1;33m.\u001b[0m\u001b[1;33m\u001b[0m\u001b[0m\n\u001b[0;32m      5\u001b[0m     \"\"\"\n\u001b[1;32m----> 6\u001b[1;33m     \u001b[1;32mreturn\u001b[0m \u001b[0mx\u001b[0m \u001b[1;33m/\u001b[0m \u001b[0my\u001b[0m\u001b[1;33m\u001b[0m\u001b[0m\n\u001b[0m",
      "\u001b[1;31mTypeError\u001b[0m: unsupported operand type(s) for /: 'str' and 'int'"
     ]
    }
   ],
   "source": [
    "# foutmelding\n",
    "deel('tien', 2)"
   ]
  },
  {
   "cell_type": "code",
   "execution_count": 41,
   "metadata": {},
   "outputs": [],
   "source": [
    "# basic error handling\n",
    "def deel(x, y):\n",
    "    \"\"\"\n",
    "    Deze functie geeft de waarde van x gedeeld door y terug.\n",
    "    \"\"\"\n",
    "    try:\n",
    "        return x / y\n",
    "    except:\n",
    "        print('Er gaat iets mis!')"
   ]
  },
  {
   "cell_type": "code",
   "execution_count": 42,
   "metadata": {},
   "outputs": [
    {
     "name": "stdout",
     "output_type": "stream",
     "text": [
      "Er gaat iets mis!\n"
     ]
    }
   ],
   "source": [
    "deel('tien', 2)"
   ]
  },
  {
   "cell_type": "markdown",
   "metadata": {},
   "source": [
    "Er wordt een foutboodschap afgedruk, maar _**geen waarde**_ geretourneerd (i.e. `None` wordt geretourneerd)."
   ]
  },
  {
   "cell_type": "code",
   "execution_count": 43,
   "metadata": {},
   "outputs": [
    {
     "name": "stdout",
     "output_type": "stream",
     "text": [
      "Er gaat iets mis!\n"
     ]
    },
    {
     "data": {
      "text/plain": [
       "True"
      ]
     },
     "execution_count": 43,
     "metadata": {},
     "output_type": "execute_result"
    }
   ],
   "source": [
    "deel('tien', 2) == None"
   ]
  },
  {
   "cell_type": "code",
   "execution_count": 44,
   "metadata": {},
   "outputs": [
    {
     "ename": "ZeroDivisionError",
     "evalue": "division by zero",
     "output_type": "error",
     "traceback": [
      "\u001b[1;31m---------------------------------------------------------------------------\u001b[0m",
      "\u001b[1;31mZeroDivisionError\u001b[0m                         Traceback (most recent call last)",
      "\u001b[1;32m<ipython-input-44-71dec130b3ab>\u001b[0m in \u001b[0;36m<module>\u001b[1;34m()\u001b[0m\n\u001b[1;32m----> 1\u001b[1;33m \u001b[0mdeel\u001b[0m\u001b[1;33m(\u001b[0m\u001b[1;36m10\u001b[0m \u001b[1;33m/\u001b[0m \u001b[1;36m0\u001b[0m\u001b[1;33m)\u001b[0m\u001b[1;33m\u001b[0m\u001b[0m\n\u001b[0m",
      "\u001b[1;31mZeroDivisionError\u001b[0m: division by zero"
     ]
    }
   ],
   "source": [
    "deel(10 / 0)"
   ]
  },
  {
   "cell_type": "code",
   "execution_count": 45,
   "metadata": {},
   "outputs": [],
   "source": [
    "# ZeroDivisionError\n",
    "def deel(x, y):\n",
    "    \"\"\"\n",
    "    Deze functie geeft de waarde van x gedeeld door y terug.\n",
    "    \"\"\"\n",
    "    try:\n",
    "        return x / y\n",
    "    except ZeroDivisionError:\n",
    "        print('Foutmelding: Deling door nul geconstateerd.')\n",
    "    except:\n",
    "        print('Er gaat iets mis!')"
   ]
  },
  {
   "cell_type": "code",
   "execution_count": 46,
   "metadata": {},
   "outputs": [
    {
     "name": "stdout",
     "output_type": "stream",
     "text": [
      "Foutmelding: Deling door nul geconstateerd.\n"
     ]
    }
   ],
   "source": [
    "deel(10, 0)"
   ]
  },
  {
   "cell_type": "code",
   "execution_count": 47,
   "metadata": {},
   "outputs": [
    {
     "ename": "TypeError",
     "evalue": "deel() missing 2 required positional arguments: 'x' and 'y'",
     "output_type": "error",
     "traceback": [
      "\u001b[1;31m---------------------------------------------------------------------------\u001b[0m",
      "\u001b[1;31mTypeError\u001b[0m                                 Traceback (most recent call last)",
      "\u001b[1;32m<ipython-input-47-2c9b64cbe076>\u001b[0m in \u001b[0;36m<module>\u001b[1;34m()\u001b[0m\n\u001b[1;32m----> 1\u001b[1;33m \u001b[0mdeel\u001b[0m\u001b[1;33m(\u001b[0m\u001b[1;33m)\u001b[0m\u001b[1;33m\u001b[0m\u001b[0m\n\u001b[0m",
      "\u001b[1;31mTypeError\u001b[0m: deel() missing 2 required positional arguments: 'x' and 'y'"
     ]
    }
   ],
   "source": [
    "deel()"
   ]
  },
  {
   "cell_type": "code",
   "execution_count": 7,
   "metadata": {},
   "outputs": [],
   "source": [
    "# argument defaults\n",
    "def deel(x = None, y = None):\n",
    "    \"\"\"\n",
    "    Deze functie geeft de waarde van getal x gedeeld door getal y terug.\n",
    "    \"\"\"\n",
    "    try:\n",
    "        return x / y\n",
    "    except ZeroDivisionError:\n",
    "        print('Foutmelding: Deling door nul geconstateerd.')\n",
    "    except:\n",
    "        print('Er gaat iets mis!')"
   ]
  },
  {
   "cell_type": "code",
   "execution_count": 8,
   "metadata": {},
   "outputs": [
    {
     "name": "stdout",
     "output_type": "stream",
     "text": [
      "Er gaat iets mis!\n"
     ]
    }
   ],
   "source": [
    "deel()"
   ]
  },
  {
   "cell_type": "code",
   "execution_count": 50,
   "metadata": {},
   "outputs": [
    {
     "name": "stdout",
     "output_type": "stream",
     "text": [
      "Uitvoeren test cases...\n",
      "\n",
      "Foutmelding: Deling door nul geconstateerd.\n",
      "Er gaat iets mis!\n",
      "Er gaat iets mis!\n",
      "Er gaat iets mis!\n"
     ]
    }
   ],
   "source": [
    "# heel eenvoudig testscript...\n",
    "print('Uitvoeren test cases...\\n')\n",
    "\n",
    "# positive cases\n",
    "deel(10, 2) # test met integers\n",
    "deel(1e1000, 3.14159265) # test met floats\n",
    "\n",
    "# negative cases\n",
    "deel(10, 0) # test delen door nul\n",
    "\n",
    "# destructive cases\n",
    "deel() # test geen input waarden\n",
    "deel(10) # test één input waarde\n",
    "deel('ten', 'two') # test string inputs"
   ]
  },
  {
   "cell_type": "markdown",
   "metadata": {},
   "source": [
    "Alle fouten zijn goed afgevangen!"
   ]
  },
  {
   "cell_type": "code",
   "execution_count": 11,
   "metadata": {},
   "outputs": [
    {
     "name": "stdout",
     "output_type": "stream",
     "text": [
      "Foutmelding: Deling door nul geconstateerd.\n",
      "Er gaat iets mis!\n"
     ]
    }
   ],
   "source": [
    "# foutmedlingen bij het 'nesten' van functies\n",
    "deel(100, deel(10, 0))"
   ]
  },
  {
   "cell_type": "code",
   "execution_count": 51,
   "metadata": {},
   "outputs": [],
   "source": [
    "# raising errors\n",
    "def calc(x = None, operator = None, y = None):\n",
    "    \"\"\"\n",
    "    Deze functie is een eenvoudige calculator die de uitkomst van een bekeken in terug geeft.\n",
    "    De argumenten 'x' en 'y' zijn de getallen voor de berekening.\n",
    "    Het argument 'operator' geeft aan welke operatie er wordt uitgevoerd.\n",
    "    Geldige operatoren zijn: '+', '-', '*', 'x', '/', ':', '**' en '^'\n",
    "    \"\"\"\n",
    "    try:\n",
    "        if x == None or operator == None or y == None:\n",
    "            raise Exception('Een of meerdere argumenten ontbreken', x, operator, y)\n",
    "        elif type(x) not in [int, float] or type(y) not in [int, float]:\n",
    "            raise Exception('Inputs x en y dienen getallen te zijn', x, y)\n",
    "        elif operator == '+':\n",
    "            return x + y\n",
    "        elif operator == '-':\n",
    "            return x - y\n",
    "        elif operator in ['**', '^']:\n",
    "            return x ** y\n",
    "        elif operator in ['*', 'x']:\n",
    "            return x * y\n",
    "        elif operator in ['/', ':']:\n",
    "            if y == 0:\n",
    "                raise Exception('Deling door nul gedetecteerd', operator, y)\n",
    "            else:\n",
    "                return x / y\n",
    "        else:\n",
    "            raise Exception('Geen geldige operatie', operator)\n",
    "    except Exception as error:\n",
    "        print(repr(error.args)) # print the raised error message with the additional arguments\n",
    "    except:\n",
    "        print('Er gaat iets mis!')"
   ]
  },
  {
   "cell_type": "code",
   "execution_count": 52,
   "metadata": {},
   "outputs": [
    {
     "data": {
      "text/plain": [
       "20"
      ]
     },
     "execution_count": 52,
     "metadata": {},
     "output_type": "execute_result"
    }
   ],
   "source": [
    "# positive test case\n",
    "calc(15, '+', 5)"
   ]
  },
  {
   "cell_type": "code",
   "execution_count": 53,
   "metadata": {},
   "outputs": [
    {
     "name": "stdout",
     "output_type": "stream",
     "text": [
      "('Deling door nul gedetecteerd', ':', 0)\n"
     ]
    }
   ],
   "source": [
    "# negative test case\n",
    "calc(10, ':', 0)"
   ]
  },
  {
   "cell_type": "code",
   "execution_count": 54,
   "metadata": {},
   "outputs": [
    {
     "name": "stdout",
     "output_type": "stream",
     "text": [
      "('Inputs x en y dienen getallen te zijn', 'tien', 'nul')\n"
     ]
    }
   ],
   "source": [
    "# destructive test case\n",
    "calc('tien', ':', 'nul')"
   ]
  },
  {
   "cell_type": "code",
   "execution_count": 55,
   "metadata": {},
   "outputs": [],
   "source": [
    "# positive test cases\n",
    "positive_cases = {'01': [(15, '+', 5), 20, 'optellen'],\n",
    "                  '02': [(15, '-', 5), 10, 'aftrekken'],\n",
    "                  '03': [(15, '*', 5), 75, 'vermenigvuldigen'],\n",
    "                  '04': [(15, 'x', 5), 1234567890, 'vermenigvuldigen'], # moet zijn: 75\n",
    "                  '05': [(5, '/', 10), 0.5, 'delen'],\n",
    "                  '06': [(5, ':', 20), 0.25, 'delen'],\n",
    "                  '07': [(2, '**', 8), 256, 'macht'],\n",
    "                  '08': [(2, '^', 8), 256, 'macht'],\n",
    "                  '09': [(15, '-', 2.5), 12.5, 'float'],\n",
    "                  '10': [(25, ':', 5e1), 0.5, 'float']\n",
    "                 }"
   ]
  },
  {
   "cell_type": "code",
   "execution_count": 56,
   "metadata": {},
   "outputs": [],
   "source": [
    "# negative test cases\n",
    "negative_cases = {'01': [(10, '/', 0), None, 'delen door nul'],\n",
    "                  '02': [(10, ':', 0), 1234567890, 'delen door nul'] # moet zijn: None\n",
    "                 }"
   ]
  },
  {
   "cell_type": "code",
   "execution_count": 57,
   "metadata": {},
   "outputs": [],
   "source": [
    "# destructive test cases\n",
    "destructive_cases = {'01': [('tien', '/', 'vijf'), None, 'tekst i.p.v. getallen'],\n",
    "                     '02': [(10, '%', 5), None, 'ongeldige operatie'],\n",
    "                     '03': [(None, None, None), None, 'geen argumenten'],                     \n",
    "                     '04': [('tien', 'plus', 'nul'), 1234567890, 'alle input tekst'] # Moet zijn: None\n",
    "                    }"
   ]
  },
  {
   "cell_type": "code",
   "execution_count": 58,
   "metadata": {},
   "outputs": [],
   "source": [
    "# function for running test cases\n",
    "def run_tests(test_cases):\n",
    "    print('Running {} test cases...\\n'.format(len(test_cases.keys())))\n",
    "    print('Nr  Test Case              Verwacht    Omschrijving               Resultaat')\n",
    "    print('--  ---------------------  ----------  -------------------------  ---------')\n",
    "    for tc in test_cases.keys():\n",
    "        output = calc(test_cases[tc][0][0], test_cases[tc][0][1], test_cases[tc][0][2])\n",
    "        test = '{} {} {} = {}'.format(test_cases[tc][0][0], test_cases[tc][0][1], test_cases[tc][0][2], output)\n",
    "        resultaat = 'Goed' if output == test_cases[tc][1] else 'Fout! <--'\n",
    "        verwacht = 'None' if test_cases[tc][1] is None else test_cases[tc][1]\n",
    "        print('{}  {:<21}  {:<10}  {:<25}  {:<9}'.format(tc, test, verwacht, test_cases[tc][2], resultaat))"
   ]
  },
  {
   "cell_type": "code",
   "execution_count": 59,
   "metadata": {},
   "outputs": [
    {
     "name": "stdout",
     "output_type": "stream",
     "text": [
      "Running 10 test cases...\n",
      "\n",
      "Nr  Test Case              Verwacht    Omschrijving               Resultaat\n",
      "--  ---------------------  ----------  -------------------------  ---------\n",
      "01  15 + 5 = 20            20          optellen                   Goed     \n",
      "02  15 - 5 = 10            10          aftrekken                  Goed     \n",
      "03  15 * 5 = 75            75          vermenigvuldigen           Goed     \n",
      "04  15 x 5 = 75            1234567890  vermenigvuldigen           Fout! <--\n",
      "05  5 / 10 = 0.5           0.5         delen                      Goed     \n",
      "06  5 : 20 = 0.25          0.25        delen                      Goed     \n",
      "07  2 ** 8 = 256           256         macht                      Goed     \n",
      "08  2 ^ 8 = 256            256         macht                      Goed     \n",
      "09  15 - 2.5 = 12.5        12.5        float                      Goed     \n",
      "10  25 : 50.0 = 0.5        0.5         float                      Goed     \n",
      "\n",
      "===========================================================================\n",
      "\n",
      "Running 2 test cases...\n",
      "\n",
      "Nr  Test Case              Verwacht    Omschrijving               Resultaat\n",
      "--  ---------------------  ----------  -------------------------  ---------\n",
      "('Deling door nul gedetecteerd', '/', 0)\n",
      "01  10 / 0 = None          None        delen door nul             Goed     \n",
      "('Deling door nul gedetecteerd', ':', 0)\n",
      "02  10 : 0 = None          1234567890  delen door nul             Fout! <--\n",
      "\n",
      "===========================================================================\n",
      "\n",
      "Running 4 test cases...\n",
      "\n",
      "Nr  Test Case              Verwacht    Omschrijving               Resultaat\n",
      "--  ---------------------  ----------  -------------------------  ---------\n",
      "('Inputs x en y dienen getallen te zijn', 'tien', 'vijf')\n",
      "01  tien / vijf = None     None        tekst i.p.v. getallen      Goed     \n",
      "('Geen geldige operatie', '%')\n",
      "02  10 % 5 = None          None        ongeldige operatie         Goed     \n",
      "('Een of meerdere argumenten ontbreken', None, None, None)\n",
      "03  None None None = None  None        geen argumenten            Goed     \n",
      "('Inputs x en y dienen getallen te zijn', 'tien', 'nul')\n",
      "04  tien plus nul = None   1234567890  alle input tekst           Fout! <--\n",
      "\n",
      "===========================================================================\n",
      "\n"
     ]
    }
   ],
   "source": [
    "# running test cases from all test dictionaries\n",
    "all_tests = [positive_cases, negative_cases, destructive_cases]\n",
    "for test_dict in all_tests:\n",
    "    run_tests(test_dict)\n",
    "    print('\\n===========================================================================\\n')"
   ]
  },
  {
   "cell_type": "markdown",
   "metadata": {},
   "source": [
    "##### Opdracht 2"
   ]
  },
  {
   "cell_type": "markdown",
   "metadata": {},
   "source": [
    "$$fahrenheit = celsius \\times \\frac{9}{5} + 32$$"
   ]
  },
  {
   "cell_type": "markdown",
   "metadata": {},
   "source": [
    "$$kelvin = celsius + 273.15$$"
   ]
  },
  {
   "cell_type": "markdown",
   "metadata": {},
   "source": [
    "1. Definieer een functie `conv` met als argument een temperatuur in graden Celsius die een temperatuur in graden Fahrenheit terug geeft. De functie hoeft nog _geen_ foutafhandeling te bevatten. Test: `conv(100) == 212.0` is `True`.\n",
    "\n",
    "2. Wijzig de functie `conv` zodanig dat _ook_ de tempeatuur in Kelvin wordt terug gegeven. Ook hoeft foutafhandeling nog niet geïmplementeerd te worden. Print vervolgens de tekst `'100 graden Celsius is 373.15 Kelvin.'` naar het scherm waarbij je voor `373.15` string formatting gebruikt om deze waarde in te vullen.\n",
    "\n",
    "3. Voeg (basale) foutafhandeling toe aan `conv` zodanig dat de functie 'werkt' als er geen argument wordt meegegeven of een string als input wordt meegegeven. Het statement `raise Error` hoef je in deze opdracht nog niet te gebruiken. Test vervolgens de foutafhandeling met het statement `conv()` en met het statement `conv('honderd')`.\n",
    "\n",
    "4. Het absolute minimum qua temperatuur is 0 Kelvin (i.e -273.15 graden Celsius). Raise een error indien als argument een lagere waarde dan -273.15 wordt meegegeven. Geef hierbij een foutboodschap mee en ook de foutieve waarde. Test met statement `conv(-300)` en met `conv(-273.15)[1] == 0`.\n",
    "\n",
    "5. Definieer een list `tests` met test cases en loop daar door heen. Houdt het eenvoudig qua output. Neem in elke geval de test case `-300`, `None` en `'honderd'` op. Leidt dat nog tot aanpassingen en/of verbeteringen van de functie `conv`?\n",
    "\n",
    "6. Pas de functie toe op een reeks waarden van 0 tot en met 100 in stappen van 10."
   ]
  },
  {
   "cell_type": "markdown",
   "metadata": {},
   "source": [
    "##### Antwoorden"
   ]
  },
  {
   "cell_type": "code",
   "execution_count": 60,
   "metadata": {},
   "outputs": [],
   "source": [
    "# opdracht 1a\n",
    "def conv(celsius):\n",
    "    \"\"\"\n",
    "    Deze functie converteert graden Celsius naar graden Fahrenheit.\n",
    "    \"\"\"\n",
    "    return celsius * 9/5 + 32, celsius + 273.15"
   ]
  },
  {
   "cell_type": "code",
   "execution_count": 61,
   "metadata": {},
   "outputs": [
    {
     "data": {
      "text/plain": [
       "False"
      ]
     },
     "execution_count": 61,
     "metadata": {},
     "output_type": "execute_result"
    }
   ],
   "source": [
    "# opdracht 1b\n",
    "conv(100) == 212.0"
   ]
  },
  {
   "cell_type": "code",
   "execution_count": 62,
   "metadata": {},
   "outputs": [],
   "source": [
    "# opdracht 2a\n",
    "def conv(celsius):\n",
    "    \"\"\"\n",
    "    Deze functie converteert graden Celsius naar graden Fahrenheit en naar Kelvin en geeft beide waarden terug.\n",
    "    \"\"\"\n",
    "    return celsius * 9/5 + 32, celsius + 273.15"
   ]
  },
  {
   "cell_type": "code",
   "execution_count": 63,
   "metadata": {},
   "outputs": [
    {
     "name": "stdout",
     "output_type": "stream",
     "text": [
      "100 graden Celsius is 373.15 Kelvin.\n"
     ]
    }
   ],
   "source": [
    "# opdracht 2b\n",
    "print('100 graden Celsius is {} Kelvin.'.format(conv(100)[1]))"
   ]
  },
  {
   "cell_type": "code",
   "execution_count": 64,
   "metadata": {},
   "outputs": [],
   "source": [
    "# opdracht 3a\n",
    "def conv(celsius = None):\n",
    "    \"\"\"\n",
    "    Deze functie converteert graden Celsius naar graden Fahrenheit en naar Kelvin en geeft beide waarden terug.\n",
    "    \"\"\"\n",
    "    try:\n",
    "        return celsius * 9/5 + 32, celsius + 273.15\n",
    "    except:\n",
    "        print('Er is iets mis gegaan!')    "
   ]
  },
  {
   "cell_type": "code",
   "execution_count": 65,
   "metadata": {},
   "outputs": [
    {
     "name": "stdout",
     "output_type": "stream",
     "text": [
      "Er is iets mis gegaan!\n",
      "Er is iets mis gegaan!\n"
     ]
    }
   ],
   "source": [
    "# opdracht 3b\n",
    "conv()\n",
    "conv('honderd')"
   ]
  },
  {
   "cell_type": "code",
   "execution_count": 12,
   "metadata": {},
   "outputs": [],
   "source": [
    "# opdracht 4a\n",
    "def conv(celsius = None):\n",
    "    \"\"\"\n",
    "    Deze functie converteert graden Celsius naar graden Fahrenheit en naar Kelvin en geeft beide waarden terug.\n",
    "    \"\"\"\n",
    "    try:\n",
    "        if celsius < -273.15:\n",
    "            raise Exception('Temperatuur lager dan het absolute minimum', celsius)\n",
    "        return celsius * 9/5 + 32, celsius + 273.15\n",
    "    except Exception as error:\n",
    "        print(repr(error.args))\n",
    "    except:\n",
    "        print('Er is iets mis gegaan!')"
   ]
  },
  {
   "cell_type": "code",
   "execution_count": 13,
   "metadata": {},
   "outputs": [
    {
     "name": "stdout",
     "output_type": "stream",
     "text": [
      "('Temperatuur lager dan het absolute minimum', -300)\n"
     ]
    },
    {
     "data": {
      "text/plain": [
       "True"
      ]
     },
     "execution_count": 13,
     "metadata": {},
     "output_type": "execute_result"
    }
   ],
   "source": [
    "# opdracht 4b\n",
    "conv(-300)\n",
    "conv(-273.15)[1] == 0"
   ]
  },
  {
   "cell_type": "code",
   "execution_count": 14,
   "metadata": {},
   "outputs": [],
   "source": [
    "# opdracht 5a\n",
    "tests = [100, 50, 37, 0, -10, -273.15, -300, None, 'honderd']"
   ]
  },
  {
   "cell_type": "code",
   "execution_count": 15,
   "metadata": {},
   "outputs": [
    {
     "name": "stdout",
     "output_type": "stream",
     "text": [
      "('Temperatuur lager dan het absolute minimum', -300)\n",
      "(\"'<' not supported between instances of 'NoneType' and 'float'\",)\n",
      "(\"'<' not supported between instances of 'str' and 'float'\",)\n"
     ]
    }
   ],
   "source": [
    "for test in tests:\n",
    "    conv(test)"
   ]
  },
  {
   "cell_type": "code",
   "execution_count": 16,
   "metadata": {},
   "outputs": [],
   "source": [
    "# opdracht 5b\n",
    "def conv(celsius = None):\n",
    "    \"\"\"\n",
    "    Deze functie converteert graden Celsius naar graden Fahrenheit en naar Kelvin en geeft beide waarden terug.\n",
    "    \"\"\"\n",
    "    try:\n",
    "        if celsius is None:\n",
    "            raise Exception('Temperatuur mag niet leeg zijn', celsius)\n",
    "        if type(celsius) not in [int, float]:\n",
    "            raise Exception('Temperatuur moet een numerieke waarde zijn', celsius)\n",
    "        if celsius < -273.15:\n",
    "            raise Exception('Temperatuur lager dan het absolute minimum', celsius)\n",
    "        return celsius * 9/5 + 32, celsius + 273.15\n",
    "    except Exception as error:\n",
    "        print(repr(error.args))\n",
    "    except:\n",
    "        print('Er is iets mis gegaan!')"
   ]
  },
  {
   "cell_type": "code",
   "execution_count": 17,
   "metadata": {},
   "outputs": [
    {
     "name": "stdout",
     "output_type": "stream",
     "text": [
      "('Temperatuur lager dan het absolute minimum', -300)\n",
      "('Temperatuur mag niet leeg zijn', None)\n",
      "('Temperatuur moet een numerieke waarde zijn', 'honderd')\n"
     ]
    }
   ],
   "source": [
    "for test in tests:\n",
    "    conv(test)"
   ]
  },
  {
   "cell_type": "code",
   "execution_count": 18,
   "metadata": {},
   "outputs": [
    {
     "data": {
      "text/plain": [
       "[(32.0, 273.15),\n",
       " (50.0, 283.15),\n",
       " (68.0, 293.15),\n",
       " (86.0, 303.15),\n",
       " (104.0, 313.15),\n",
       " (122.0, 323.15),\n",
       " (140.0, 333.15),\n",
       " (158.0, 343.15),\n",
       " (176.0, 353.15),\n",
       " (194.0, 363.15),\n",
       " (212.0, 373.15)]"
      ]
     },
     "execution_count": 18,
     "metadata": {},
     "output_type": "execute_result"
    }
   ],
   "source": [
    "# opdracht 6\n",
    "reeks = range(0, 101, 10)\n",
    "list(map(conv, reeks))"
   ]
  },
  {
   "cell_type": "markdown",
   "metadata": {},
   "source": [
    "## Anonymous functions"
   ]
  },
  {
   "cell_type": "markdown",
   "metadata": {},
   "source": [
    "'Anonymous functions' zijn functies zonder naam. Daarom zijn ze anoniem :-)  \n",
    "Je kunt je beschouwen als functies voor 'eenmalig gebruik' of als 'disposable functions'.  \n",
    "\n",
    "Om een anonieme functie te maken gebruiken we het statement `lambda`.  \n",
    "voor niet-anonieme functie wordt het statement `def` gebruikt.  \n",
    "\n",
    "Goed om te je met het oog op efficient geheugengebruik te realiseren dat een niet-anonieme functie in het geheugen aanwezig blijft totdat hij wordt verwijderd."
   ]
  },
  {
   "cell_type": "code",
   "execution_count": 28,
   "metadata": {},
   "outputs": [
    {
     "data": {
      "text/plain": [
       "[0, 10, 20, 30, 40, 50, 60, 70, 80, 90]"
      ]
     },
     "execution_count": 28,
     "metadata": {},
     "output_type": "execute_result"
    }
   ],
   "source": [
    "# functie\n",
    "def my_fun(x):\n",
    "    return x * 10\n",
    "list(map(my_fun, range(10)))"
   ]
  },
  {
   "cell_type": "code",
   "execution_count": 29,
   "metadata": {},
   "outputs": [
    {
     "data": {
      "text/plain": [
       "[0, 10, 20, 30, 40, 50, 60, 70, 80, 90]"
      ]
     },
     "execution_count": 29,
     "metadata": {},
     "output_type": "execute_result"
    }
   ],
   "source": [
    "# anonieme functie\n",
    "list(map(lambda x: x * 10, range(10)))"
   ]
  },
  {
   "cell_type": "code",
   "execution_count": 30,
   "metadata": {},
   "outputs": [
    {
     "data": {
      "text/plain": [
       "[0, 2, 4, 6, 8]"
      ]
     },
     "execution_count": 30,
     "metadata": {},
     "output_type": "execute_result"
    }
   ],
   "source": [
    "# functie\n",
    "def my_fun(x):\n",
    "    return x % 2 == 0\n",
    "list(filter(my_fun, range(10)))"
   ]
  },
  {
   "cell_type": "code",
   "execution_count": 31,
   "metadata": {},
   "outputs": [
    {
     "data": {
      "text/plain": [
       "[0, 2, 4, 6, 8]"
      ]
     },
     "execution_count": 31,
     "metadata": {},
     "output_type": "execute_result"
    }
   ],
   "source": [
    "# anonieme functie\n",
    "list(filter(lambda x: x % 2 == 0, range(10)))"
   ]
  },
  {
   "cell_type": "code",
   "execution_count": 33,
   "metadata": {},
   "outputs": [],
   "source": [
    "# verwijder functie\n",
    "del my_fun"
   ]
  }
 ],
 "metadata": {
  "kernelspec": {
   "display_name": "Python 3",
   "language": "python",
   "name": "python3"
  },
  "language_info": {
   "codemirror_mode": {
    "name": "ipython",
    "version": 3
   },
   "file_extension": ".py",
   "mimetype": "text/x-python",
   "name": "python",
   "nbconvert_exporter": "python",
   "pygments_lexer": "ipython3",
   "version": "3.6.6"
  }
 },
 "nbformat": 4,
 "nbformat_minor": 2
}
