{
 "cells": [
  {
   "cell_type": "markdown",
   "metadata": {},
   "source": [
    "# Functions"
   ]
  },
  {
   "cell_type": "markdown",
   "metadata": {},
   "source": [
    "In de les behandelen we de volgende onderwerpen:\n",
    "\n",
    "* Regular functions\n",
    "  * arguments\n",
    "  * default values\n",
    "  * return values\n",
    "  * error handling\n",
    "  * applying functions to iterables\n",
    "* Anonymous functions"
   ]
  },
  {
   "cell_type": "markdown",
   "metadata": {},
   "source": [
    "## Regular functions"
   ]
  },
  {
   "cell_type": "code",
   "execution_count": 5,
   "metadata": {},
   "outputs": [],
   "source": [
    "# no arguments, no return value\n",
    "def fun():\n",
    "    \"\"\"\n",
    "    Deze functie print de tekst 'My first Python function!'\n",
    "    \"\"\"\n",
    "    print('My first Python function!')"
   ]
  },
  {
   "cell_type": "code",
   "execution_count": 6,
   "metadata": {},
   "outputs": [
    {
     "data": {
      "text/plain": [
       "function"
      ]
     },
     "execution_count": 6,
     "metadata": {},
     "output_type": "execute_result"
    }
   ],
   "source": [
    "type(fun)"
   ]
  },
  {
   "cell_type": "code",
   "execution_count": 7,
   "metadata": {},
   "outputs": [
    {
     "name": "stdout",
     "output_type": "stream",
     "text": [
      "My first Python function!\n"
     ]
    }
   ],
   "source": [
    "fun()"
   ]
  },
  {
   "cell_type": "markdown",
   "metadata": {},
   "source": [
    "Opmerking: Deze functie geeft _**geen waarde**_ terug. Er wordt enkel een string naar scherm geprint!"
   ]
  },
  {
   "cell_type": "code",
   "execution_count": 8,
   "metadata": {},
   "outputs": [
    {
     "name": "stdout",
     "output_type": "stream",
     "text": [
      "My first Python function!\n"
     ]
    },
    {
     "data": {
      "text/plain": [
       "NoneType"
      ]
     },
     "execution_count": 8,
     "metadata": {},
     "output_type": "execute_result"
    }
   ],
   "source": [
    "type(fun())"
   ]
  },
  {
   "cell_type": "code",
   "execution_count": 9,
   "metadata": {},
   "outputs": [],
   "source": [
    "# no arguments, return value\n",
    "def fun():\n",
    "    \"\"\"\n",
    "    Deze functie geeft de string 'My first Python function!' terug.\n",
    "    \"\"\"\n",
    "    return 'My first Python function!'"
   ]
  },
  {
   "cell_type": "code",
   "execution_count": 10,
   "metadata": {},
   "outputs": [
    {
     "data": {
      "text/plain": [
       "'My first Python function!'"
      ]
     },
     "execution_count": 10,
     "metadata": {},
     "output_type": "execute_result"
    }
   ],
   "source": [
    "fun()"
   ]
  },
  {
   "cell_type": "code",
   "execution_count": 11,
   "metadata": {},
   "outputs": [
    {
     "data": {
      "text/plain": [
       "str"
      ]
     },
     "execution_count": 11,
     "metadata": {},
     "output_type": "execute_result"
    }
   ],
   "source": [
    "type(fun())"
   ]
  },
  {
   "cell_type": "code",
   "execution_count": 12,
   "metadata": {},
   "outputs": [
    {
     "data": {
      "text/plain": [
       "25"
      ]
     },
     "execution_count": 12,
     "metadata": {},
     "output_type": "execute_result"
    }
   ],
   "source": [
    "len(fun())"
   ]
  },
  {
   "cell_type": "code",
   "execution_count": 13,
   "metadata": {},
   "outputs": [
    {
     "data": {
      "text/plain": [
       "'PYTHON'"
      ]
     },
     "execution_count": 13,
     "metadata": {},
     "output_type": "execute_result"
    }
   ],
   "source": [
    "fun()[9:15].upper()"
   ]
  },
  {
   "cell_type": "code",
   "execution_count": 14,
   "metadata": {},
   "outputs": [],
   "source": [
    "# one argument\n",
    "def kwadraat(num):\n",
    "    \"\"\"\n",
    "    Deze functie geeft het kwadraat van een getal terug.\n",
    "    \"\"\"\n",
    "    return num ** 2"
   ]
  },
  {
   "cell_type": "code",
   "execution_count": 15,
   "metadata": {},
   "outputs": [
    {
     "data": {
      "text/plain": [
       "64"
      ]
     },
     "execution_count": 15,
     "metadata": {},
     "output_type": "execute_result"
    }
   ],
   "source": [
    "kwadraat(8)"
   ]
  },
  {
   "cell_type": "code",
   "execution_count": 16,
   "metadata": {},
   "outputs": [
    {
     "data": {
      "text/plain": [
       "256"
      ]
     },
     "execution_count": 16,
     "metadata": {},
     "output_type": "execute_result"
    }
   ],
   "source": [
    "# functies kun je ook 'nesten'\n",
    "kwadraat(kwadraat(kwadraat(2)))"
   ]
  },
  {
   "cell_type": "code",
   "execution_count": 17,
   "metadata": {},
   "outputs": [
    {
     "data": {
      "text/plain": [
       "[1, 4, 9, 16, 25]"
      ]
     },
     "execution_count": 17,
     "metadata": {},
     "output_type": "execute_result"
    }
   ],
   "source": [
    "# map functie (pas toe op lijst met waarden)\n",
    "nums = [1, 2, 3, 4, 5]\n",
    "list(map(kwadraat, nums)) # map(functie, reeks)"
   ]
  },
  {
   "cell_type": "code",
   "execution_count": 18,
   "metadata": {},
   "outputs": [],
   "source": [
    "# two arguments, one return value\n",
    "def som(x, y):\n",
    "    \"\"\"\n",
    "    Deze functie geeft de som van twee getallen terug.\n",
    "    \"\"\"\n",
    "    return x + y"
   ]
  },
  {
   "cell_type": "code",
   "execution_count": 19,
   "metadata": {},
   "outputs": [
    {
     "data": {
      "text/plain": [
       "8"
      ]
     },
     "execution_count": 19,
     "metadata": {},
     "output_type": "execute_result"
    }
   ],
   "source": [
    "som(5, 3)"
   ]
  },
  {
   "cell_type": "code",
   "execution_count": 20,
   "metadata": {},
   "outputs": [
    {
     "data": {
      "text/plain": [
       "[11, 22, 33, 44, 55]"
      ]
     },
     "execution_count": 20,
     "metadata": {},
     "output_type": "execute_result"
    }
   ],
   "source": [
    "# map functie (pas toe op twee lijsten met waarden)\n",
    "a = [1, 2, 3, 4, 5]\n",
    "b = [10, 20, 30, 40, 50]\n",
    "list(map(som, a, b))  # map(functie, reeks , reeks)"
   ]
  },
  {
   "cell_type": "code",
   "execution_count": 21,
   "metadata": {},
   "outputs": [],
   "source": [
    "# one argument, multiple return values\n",
    "def hoofd_klein(tekst):\n",
    "    \"\"\"\n",
    "    Deze functie geeft tekst terug in hoofdletters, in kleine letter en met beginkapitaal.\n",
    "    \"\"\"\n",
    "    return tekst.upper(), tekst.lower(), tekst.capitalize()"
   ]
  },
  {
   "cell_type": "code",
   "execution_count": 22,
   "metadata": {},
   "outputs": [
    {
     "data": {
      "text/plain": [
       "('FUNCTION', 'function', 'Function')"
      ]
     },
     "execution_count": 22,
     "metadata": {},
     "output_type": "execute_result"
    }
   ],
   "source": [
    "hoofd_klein('FUNction')"
   ]
  },
  {
   "cell_type": "code",
   "execution_count": 23,
   "metadata": {},
   "outputs": [
    {
     "data": {
      "text/plain": [
       "tuple"
      ]
     },
     "execution_count": 23,
     "metadata": {},
     "output_type": "execute_result"
    }
   ],
   "source": [
    "type(hoofd_klein('FUNction'))"
   ]
  },
  {
   "cell_type": "code",
   "execution_count": 24,
   "metadata": {},
   "outputs": [
    {
     "data": {
      "text/plain": [
       "'function'"
      ]
     },
     "execution_count": 24,
     "metadata": {},
     "output_type": "execute_result"
    }
   ],
   "source": [
    "hoofd_klein('FUNction')[1]"
   ]
  },
  {
   "cell_type": "markdown",
   "metadata": {},
   "source": [
    "**>>> Maak opdracht 5a uit het [Jupyter Notebook](https://nbviewer.jupyter.org/github/Brinkhuis/Cursus/blob/master/notebooks/opdrachten.ipynb) met de opdrachten.**"
   ]
  },
  {
   "cell_type": "code",
   "execution_count": 25,
   "metadata": {},
   "outputs": [],
   "source": [
    "# no error handling\n",
    "def deel(x, y):\n",
    "    \"\"\"\n",
    "    Deze functie geeft de waarde van x gedeeld door y terug.\n",
    "    \"\"\"\n",
    "    return x / y"
   ]
  },
  {
   "cell_type": "code",
   "execution_count": 26,
   "metadata": {},
   "outputs": [
    {
     "data": {
      "text/plain": [
       "5.0"
      ]
     },
     "execution_count": 26,
     "metadata": {},
     "output_type": "execute_result"
    }
   ],
   "source": [
    "# intended use\n",
    "deel(10, 2)"
   ]
  },
  {
   "cell_type": "code",
   "execution_count": 27,
   "metadata": {},
   "outputs": [
    {
     "data": {
      "text/plain": [
       "5.0"
      ]
     },
     "execution_count": 27,
     "metadata": {},
     "output_type": "execute_result"
    }
   ],
   "source": [
    "# intended use\n",
    "deel(y = 2, x = 10)"
   ]
  },
  {
   "cell_type": "code",
   "execution_count": 28,
   "metadata": {},
   "outputs": [
    {
     "ename": "ZeroDivisionError",
     "evalue": "division by zero",
     "output_type": "error",
     "traceback": [
      "\u001b[1;31m---------------------------------------------------------------------------\u001b[0m",
      "\u001b[1;31mZeroDivisionError\u001b[0m                         Traceback (most recent call last)",
      "\u001b[1;32m<ipython-input-28-e487e4e81f68>\u001b[0m in \u001b[0;36m<module>\u001b[1;34m()\u001b[0m\n\u001b[0;32m      1\u001b[0m \u001b[1;31m# error 1\u001b[0m\u001b[1;33m\u001b[0m\u001b[1;33m\u001b[0m\u001b[0m\n\u001b[1;32m----> 2\u001b[1;33m \u001b[0mdeel\u001b[0m\u001b[1;33m(\u001b[0m\u001b[1;36m10\u001b[0m\u001b[1;33m,\u001b[0m \u001b[1;36m0\u001b[0m\u001b[1;33m)\u001b[0m\u001b[1;33m\u001b[0m\u001b[0m\n\u001b[0m",
      "\u001b[1;32m<ipython-input-25-f2badf8a9f7a>\u001b[0m in \u001b[0;36mdeel\u001b[1;34m(x, y)\u001b[0m\n\u001b[0;32m      4\u001b[0m     \u001b[0mDeze\u001b[0m \u001b[0mfunctie\u001b[0m \u001b[0mgeeft\u001b[0m \u001b[0mde\u001b[0m \u001b[0mwaarde\u001b[0m \u001b[0mvan\u001b[0m \u001b[0mx\u001b[0m \u001b[0mgedeeld\u001b[0m \u001b[0mdoor\u001b[0m \u001b[0my\u001b[0m \u001b[0mterug\u001b[0m\u001b[1;33m.\u001b[0m\u001b[1;33m\u001b[0m\u001b[0m\n\u001b[0;32m      5\u001b[0m     \"\"\"\n\u001b[1;32m----> 6\u001b[1;33m     \u001b[1;32mreturn\u001b[0m \u001b[0mx\u001b[0m \u001b[1;33m/\u001b[0m \u001b[0my\u001b[0m\u001b[1;33m\u001b[0m\u001b[0m\n\u001b[0m",
      "\u001b[1;31mZeroDivisionError\u001b[0m: division by zero"
     ]
    }
   ],
   "source": [
    "# error 1\n",
    "deel(10, 0)"
   ]
  },
  {
   "cell_type": "markdown",
   "metadata": {},
   "source": [
    "Opmerking: De functie retourneert geen waarde. Er wordt enkel een foutboodschap afgedrukt."
   ]
  },
  {
   "cell_type": "code",
   "execution_count": 29,
   "metadata": {},
   "outputs": [],
   "source": [
    "# basic error handling\n",
    "def deel(x, y):\n",
    "    \"\"\"\n",
    "    Deze functie geeft de waarde van x gedeeld door y terug.\n",
    "    \"\"\"\n",
    "    try:\n",
    "        return x / y\n",
    "    except:\n",
    "        print('Er gaat iets mis!')"
   ]
  },
  {
   "cell_type": "code",
   "execution_count": 30,
   "metadata": {},
   "outputs": [
    {
     "name": "stdout",
     "output_type": "stream",
     "text": [
      "Er gaat iets mis!\n"
     ]
    }
   ],
   "source": [
    "# test\n",
    "deel(10, 0)"
   ]
  },
  {
   "cell_type": "markdown",
   "metadata": {},
   "source": [
    "Mooi dat we de fout hebben kunnen afvangen!  \n",
    "Echter, de wijze waarop dat is gedaan (generiek) geeft ons onvoldoende informatie om de fout op te lossen.  \n",
    "\n",
    "Bij het uitvoeren van `deel(10, 0)` _zonder foutafhandeling_ zagen we de code breken met een `ZeroDivisionError` foutmelding. \n",
    "\n",
    "Dit gaan we gebruiken in onze verbeterde foutafhandeling.\n",
    "\n",
    "Wees bij foutafhandeling zo specifiek mogelijk!"
   ]
  },
  {
   "cell_type": "code",
   "execution_count": 31,
   "metadata": {},
   "outputs": [],
   "source": [
    "# improved error handling\n",
    "def deel(x, y):\n",
    "    \"\"\"\n",
    "    Deze functie geeft de waarde van x gedeeld door y terug.\n",
    "    \"\"\"\n",
    "    try:\n",
    "        return x / y\n",
    "    except ZeroDivisionError as E:\n",
    "        print(E)"
   ]
  },
  {
   "cell_type": "code",
   "execution_count": 32,
   "metadata": {},
   "outputs": [
    {
     "name": "stdout",
     "output_type": "stream",
     "text": [
      "division by zero\n"
     ]
    }
   ],
   "source": [
    "# test\n",
    "deel(10, 0)"
   ]
  },
  {
   "cell_type": "code",
   "execution_count": 33,
   "metadata": {},
   "outputs": [
    {
     "ename": "TypeError",
     "evalue": "unsupported operand type(s) for /: 'str' and 'int'",
     "output_type": "error",
     "traceback": [
      "\u001b[1;31m---------------------------------------------------------------------------\u001b[0m",
      "\u001b[1;31mTypeError\u001b[0m                                 Traceback (most recent call last)",
      "\u001b[1;32m<ipython-input-33-ab03e82fc5fd>\u001b[0m in \u001b[0;36m<module>\u001b[1;34m()\u001b[0m\n\u001b[0;32m      1\u001b[0m \u001b[1;31m# error 2\u001b[0m\u001b[1;33m\u001b[0m\u001b[1;33m\u001b[0m\u001b[0m\n\u001b[1;32m----> 2\u001b[1;33m \u001b[0mdeel\u001b[0m\u001b[1;33m(\u001b[0m\u001b[1;34m'tien'\u001b[0m\u001b[1;33m,\u001b[0m \u001b[1;36m2\u001b[0m\u001b[1;33m)\u001b[0m\u001b[1;33m\u001b[0m\u001b[0m\n\u001b[0m",
      "\u001b[1;32m<ipython-input-31-dfb2b3ad94d3>\u001b[0m in \u001b[0;36mdeel\u001b[1;34m(x, y)\u001b[0m\n\u001b[0;32m      5\u001b[0m     \"\"\"\n\u001b[0;32m      6\u001b[0m     \u001b[1;32mtry\u001b[0m\u001b[1;33m:\u001b[0m\u001b[1;33m\u001b[0m\u001b[0m\n\u001b[1;32m----> 7\u001b[1;33m         \u001b[1;32mreturn\u001b[0m \u001b[0mx\u001b[0m \u001b[1;33m/\u001b[0m \u001b[0my\u001b[0m\u001b[1;33m\u001b[0m\u001b[0m\n\u001b[0m\u001b[0;32m      8\u001b[0m     \u001b[1;32mexcept\u001b[0m \u001b[0mZeroDivisionError\u001b[0m \u001b[1;32mas\u001b[0m \u001b[0mE\u001b[0m\u001b[1;33m:\u001b[0m\u001b[1;33m\u001b[0m\u001b[0m\n\u001b[0;32m      9\u001b[0m         \u001b[0mprint\u001b[0m\u001b[1;33m(\u001b[0m\u001b[0mE\u001b[0m\u001b[1;33m)\u001b[0m\u001b[1;33m\u001b[0m\u001b[0m\n",
      "\u001b[1;31mTypeError\u001b[0m: unsupported operand type(s) for /: 'str' and 'int'"
     ]
    }
   ],
   "source": [
    "# error 2\n",
    "deel('tien', 2)"
   ]
  },
  {
   "cell_type": "code",
   "execution_count": 34,
   "metadata": {},
   "outputs": [],
   "source": [
    "# improved error handling\n",
    "def deel(x, y):\n",
    "    \"\"\"\n",
    "    Deze functie geeft de waarde van x gedeeld door y terug.\n",
    "    \"\"\"\n",
    "    try:\n",
    "        return x / y\n",
    "    except ZeroDivisionError as E:\n",
    "        print(E)\n",
    "    except TypeError as E:\n",
    "        print(E)"
   ]
  },
  {
   "cell_type": "code",
   "execution_count": 35,
   "metadata": {},
   "outputs": [
    {
     "name": "stdout",
     "output_type": "stream",
     "text": [
      "unsupported operand type(s) for /: 'str' and 'int'\n"
     ]
    }
   ],
   "source": [
    "# test\n",
    "deel('tien', 2)"
   ]
  },
  {
   "cell_type": "code",
   "execution_count": 36,
   "metadata": {},
   "outputs": [
    {
     "ename": "TypeError",
     "evalue": "deel() missing 1 required positional argument: 'y'",
     "output_type": "error",
     "traceback": [
      "\u001b[1;31m---------------------------------------------------------------------------\u001b[0m",
      "\u001b[1;31mTypeError\u001b[0m                                 Traceback (most recent call last)",
      "\u001b[1;32m<ipython-input-36-0d780191db3e>\u001b[0m in \u001b[0;36m<module>\u001b[1;34m()\u001b[0m\n\u001b[0;32m      1\u001b[0m \u001b[1;31m# error 3\u001b[0m\u001b[1;33m\u001b[0m\u001b[1;33m\u001b[0m\u001b[0m\n\u001b[1;32m----> 2\u001b[1;33m \u001b[0mdeel\u001b[0m\u001b[1;33m(\u001b[0m\u001b[1;36m10\u001b[0m\u001b[1;33m)\u001b[0m\u001b[1;33m\u001b[0m\u001b[0m\n\u001b[0m",
      "\u001b[1;31mTypeError\u001b[0m: deel() missing 1 required positional argument: 'y'"
     ]
    }
   ],
   "source": [
    "# error 3\n",
    "deel(10)"
   ]
  },
  {
   "cell_type": "markdown",
   "metadata": {},
   "source": [
    "Je kun je afvragen of je deze fout wel wilt oplossen.  \n",
    "Immers, beide argumenten `x` en `y` zijn nodig om het statement `x / y` te  kunnen uitvoeren.\n",
    "\n",
    "We kiezen er voor om `y` de default value `1` te geven als `y` niet wordt gespecificeerd."
   ]
  },
  {
   "cell_type": "code",
   "execution_count": 37,
   "metadata": {},
   "outputs": [],
   "source": [
    "# improved error handling / default value\n",
    "def deel(x, y = 1):\n",
    "    \"\"\"\n",
    "    Deze functie geeft de waarde van x gedeeld door y terug.\n",
    "    Als y niet is gespecificeerd, wordt als default value de waarde 1 gebruikt.\n",
    "    \"\"\"\n",
    "    try:\n",
    "        return x / y\n",
    "    except ZeroDivisionError as E:\n",
    "        print(E)\n",
    "    except TypeError as E:\n",
    "        print(E)"
   ]
  },
  {
   "cell_type": "code",
   "execution_count": 38,
   "metadata": {},
   "outputs": [
    {
     "data": {
      "text/plain": [
       "10.0"
      ]
     },
     "execution_count": 38,
     "metadata": {},
     "output_type": "execute_result"
    }
   ],
   "source": [
    "# test\n",
    "deel(10)"
   ]
  },
  {
   "cell_type": "code",
   "execution_count": 39,
   "metadata": {},
   "outputs": [
    {
     "ename": "TypeError",
     "evalue": "deel() missing 1 required positional argument: 'x'",
     "output_type": "error",
     "traceback": [
      "\u001b[1;31m---------------------------------------------------------------------------\u001b[0m",
      "\u001b[1;31mTypeError\u001b[0m                                 Traceback (most recent call last)",
      "\u001b[1;32m<ipython-input-39-252bff9e6beb>\u001b[0m in \u001b[0;36m<module>\u001b[1;34m()\u001b[0m\n\u001b[0;32m      1\u001b[0m \u001b[1;31m# error 4\u001b[0m\u001b[1;33m\u001b[0m\u001b[1;33m\u001b[0m\u001b[0m\n\u001b[1;32m----> 2\u001b[1;33m \u001b[0mdeel\u001b[0m\u001b[1;33m(\u001b[0m\u001b[1;33m)\u001b[0m\u001b[1;33m\u001b[0m\u001b[0m\n\u001b[0m",
      "\u001b[1;31mTypeError\u001b[0m: deel() missing 1 required positional argument: 'x'"
     ]
    }
   ],
   "source": [
    "# error 4\n",
    "deel()"
   ]
  },
  {
   "cell_type": "markdown",
   "metadata": {},
   "source": [
    "Ook hier is het goed om je af te vragen of je deze fout wel wilt afvangen.  \n",
    "\n",
    "Soms is beter dat je code 'breekt' tijdens de uitvoer. Dan wordt expliciet helder is dat er iets aan de hand is en voorkom je dat fout onopgemerkt blijven.\n",
    "\n",
    "Het uitvoeren van deze functie zonder argumenten mee te geven is niet zinvol...  \n",
    "...maar om te oefenen, gaat we het toch doen :-)"
   ]
  },
  {
   "cell_type": "code",
   "execution_count": 40,
   "metadata": {},
   "outputs": [],
   "source": [
    "# improved error handling / default value\n",
    "def deel(x = None, y = 1):\n",
    "    \"\"\"\n",
    "    Deze functie geeft de waarde van x gedeeld door y terug.\n",
    "    Als x niet is gespecificeerd, wordt als default value de waarde None gebruikt.\n",
    "    Als y niet is gespecificeerd, wordt als default value de waarde 1 gebruikt.\n",
    "    \"\"\"\n",
    "    try:\n",
    "        return x / y\n",
    "    except ZeroDivisionError as E:\n",
    "        print(E)\n",
    "    except TypeError as E:\n",
    "        print(E)"
   ]
  },
  {
   "cell_type": "code",
   "execution_count": 41,
   "metadata": {},
   "outputs": [
    {
     "name": "stdout",
     "output_type": "stream",
     "text": [
      "unsupported operand type(s) for /: 'NoneType' and 'int'\n"
     ]
    }
   ],
   "source": [
    "# test\n",
    "deel()"
   ]
  },
  {
   "cell_type": "markdown",
   "metadata": {},
   "source": [
    "De test is geslaagd, in die zin dat de code niet breekt tijdens de uitvoer.  \n",
    "\n",
    "Echter, de foutmelding is wellicht wat 'indirecter' door gebruik van de default value `None` voor `x` en daarmee minder expliciet en informatief t.o.v. het laten 'breken' van de code.  \n",
    "\n",
    "Maar... er is nog een andere mogelijkheid. Je kunt zelf een 'error raisen' en de foutboodschap specificeren"
   ]
  },
  {
   "cell_type": "code",
   "execution_count": 42,
   "metadata": {},
   "outputs": [],
   "source": [
    "# improved error handling / raising an error\n",
    "def deel(x = None, y = 1):\n",
    "    \"\"\"\n",
    "    Deze functie geeft de waarde van x gedeeld door y terug.\n",
    "    Als x niet is gespecificeerd, wordt als default value de waarde None gebruikt om een ValueError te genereren.\n",
    "    Als y niet is gespecificeerd, wordt als default value de waarde 1 gebruikt.\n",
    "    \"\"\"\n",
    "    try:\n",
    "        if x == None:\n",
    "            raise ValueError(\"Argument 'x' ontbreekt of heeft waarde 'None'.\")\n",
    "        return x / y\n",
    "    except ZeroDivisionError as E:\n",
    "        print(E)\n",
    "    except TypeError as E:\n",
    "        print(E)\n",
    "    except ValueError as E:\n",
    "        print(E)"
   ]
  },
  {
   "cell_type": "code",
   "execution_count": 43,
   "metadata": {},
   "outputs": [
    {
     "name": "stdout",
     "output_type": "stream",
     "text": [
      "Argument 'x' ontbreekt of heeft waarde 'None'.\n"
     ]
    }
   ],
   "source": [
    "# test\n",
    "deel()"
   ]
  },
  {
   "cell_type": "markdown",
   "metadata": {},
   "source": [
    "**>>> Maak opdracht 5b uit het [Jupyter Notebook](https://nbviewer.jupyter.org/github/Brinkhuis/Cursus/blob/master/notebooks/opdrachten.ipynb) met de opdrachten.**"
   ]
  },
  {
   "cell_type": "markdown",
   "metadata": {},
   "source": [
    "## Anonymous functions"
   ]
  },
  {
   "cell_type": "markdown",
   "metadata": {},
   "source": [
    "'Anonymous functions' zijn functies zonder naam. Daarom zijn ze anoniem :-)  \n",
    "Je kunt ze beschouwen als functies voor eenmalig gebruik'.\n",
    "\n",
    "Voor reguliere functies (niet anoniem) wordt het statement `def` gebruikt.  \n",
    "Om een anonieme functie te maken gebruiken we het statement `lambda`.  "
   ]
  },
  {
   "cell_type": "code",
   "execution_count": 44,
   "metadata": {},
   "outputs": [],
   "source": [
    "# regulier functie\n",
    "def fun(x):\n",
    "    return x * 10\n",
    "\n",
    "list(map(fun, range(10)))\n",
    "\n",
    "# verwijder functie (om geheugen vrij te geven)\n",
    "del fun"
   ]
  },
  {
   "cell_type": "code",
   "execution_count": 45,
   "metadata": {},
   "outputs": [
    {
     "data": {
      "text/plain": [
       "[0, 10, 20, 30, 40, 50, 60, 70, 80, 90]"
      ]
     },
     "execution_count": 45,
     "metadata": {},
     "output_type": "execute_result"
    }
   ],
   "source": [
    "# anonieme functie met één variable\n",
    "list(map(lambda x: x * 10, range(10)))\n",
    "\n",
    "# anonieme functie staat na gebruik niet meer in het geheugen!"
   ]
  },
  {
   "cell_type": "code",
   "execution_count": 46,
   "metadata": {},
   "outputs": [
    {
     "data": {
      "text/plain": [
       "[5, 4, 3, 2, 1, 0, 1, 2, 3, 4, 5]"
      ]
     },
     "execution_count": 46,
     "metadata": {},
     "output_type": "execute_result"
    }
   ],
   "source": [
    "# anonieme functie met één variable en een if statement\n",
    "list(map(lambda x: x if (x >= 0) else x * -1, [-5, 4, -3, 2, -1, 0, 1, -2, 3, -4, 5]))"
   ]
  },
  {
   "cell_type": "code",
   "execution_count": 47,
   "metadata": {},
   "outputs": [
    {
     "data": {
      "text/plain": [
       "[111, 222, 333]"
      ]
     },
     "execution_count": 47,
     "metadata": {},
     "output_type": "execute_result"
    }
   ],
   "source": [
    "# anonieme functie met meerdere variabelen\n",
    "list(map(lambda x, y, z: x + y + z, [1, 2, 3], [10, 20, 30], [100, 200, 300]))"
   ]
  },
  {
   "cell_type": "code",
   "execution_count": 48,
   "metadata": {},
   "outputs": [
    {
     "data": {
      "text/plain": [
       "[10, 20, 30, 40, 50]"
      ]
     },
     "execution_count": 48,
     "metadata": {},
     "output_type": "execute_result"
    }
   ],
   "source": [
    "# anonieme functie met meerdere variabelen en een if statement\n",
    "list(map(lambda a, b: a if (a > b) else b, [1, 20, 3, 40, 5], [10, 2, 30, 4, 50]))"
   ]
  },
  {
   "cell_type": "markdown",
   "metadata": {},
   "source": [
    "We hebben nu een paar keer de functie `map` gebruikt.  \n",
    "\n",
    "Er is nog een functie die erg handig is om te gebruiken in combinatie met lambda expressions (anonieme functies), namelijk `filter`."
   ]
  },
  {
   "cell_type": "code",
   "execution_count": 49,
   "metadata": {},
   "outputs": [
    {
     "data": {
      "text/plain": [
       "[2, 2, 4, 6, 8, 8, 6, 10]"
      ]
     },
     "execution_count": 49,
     "metadata": {},
     "output_type": "execute_result"
    }
   ],
   "source": [
    "# filter uit een lijst alle even getallen\n",
    "l = [1, 1, 2, 1, 3, 3, 2, 4, 6, 8, 7, 7, 8, 3, 5, 9, 6, 10]\n",
    "list(filter(lambda x: x % 2 == 0, l)) # alleen die list items worden geretourneerd waarvoor de conditie True is"
   ]
  },
  {
   "cell_type": "code",
   "execution_count": 50,
   "metadata": {},
   "outputs": [
    {
     "data": {
      "text/plain": [
       "[6, 8, 8, 6, 10]"
      ]
     },
     "execution_count": 50,
     "metadata": {},
     "output_type": "execute_result"
    }
   ],
   "source": [
    "# filter uit een lijst alle even getallen zie gorter zijn dan 5\n",
    "l = [1, 1, 2, 1, 3, 3, 2, 4, 6, 8, 7, 7, 8, 3, 5, 9, 6, 10]\n",
    "list(filter(lambda x: (x % 2 == 0) and (x > 5), l)) # alleen die list items worden geretourneerd waarvoor de conditie True is"
   ]
  },
  {
   "cell_type": "markdown",
   "metadata": {},
   "source": [
    "**>>> Maak opdracht 6 uit het [Jupyter Notebook](https://nbviewer.jupyter.org/github/Brinkhuis/Cursus/blob/master/notebooks/opdrachten.ipynb) met de opdrachten.**"
   ]
  }
 ],
 "metadata": {
  "kernelspec": {
   "display_name": "Python 3",
   "language": "python",
   "name": "python3"
  },
  "language_info": {
   "codemirror_mode": {
    "name": "ipython",
    "version": 3
   },
   "file_extension": ".py",
   "mimetype": "text/x-python",
   "name": "python",
   "nbconvert_exporter": "python",
   "pygments_lexer": "ipython3",
   "version": "3.6.4"
  }
 },
 "nbformat": 4,
 "nbformat_minor": 2
}
