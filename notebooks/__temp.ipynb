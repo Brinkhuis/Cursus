{
 "cells": [
  {
   "cell_type": "code",
   "execution_count": 4,
   "metadata": {},
   "outputs": [],
   "source": [
    "'''\n",
    "Met dit script wordt een csv-bestand gegenereerd met als doel om\n",
    "het inlezen van csv-files met pandas te oefenen in Python.\n",
    "'''\n",
    "\n",
    "# imports\n",
    "import pandas as pd\n",
    "import numpy as np\n",
    "import datetime\n",
    " \n",
    "# setup\n",
    "file_name = '../data/leesmij.csv'\n",
    "records = 50 # number of records\n",
    "na_vals = int(records / 10) # number of na values\n",
    " \n",
    "# set seed\n",
    "np.random.seed(777)\n",
    " \n",
    "# generate dataframe\n",
    "df = pd.DataFrame({'id': range(1, records+1),\n",
    "                   'leeftijd': np.random.choice(range(18, 100), records, replace=True),\n",
    "                   'geslacht': np.random.choice(['M', 'V'], records, replace=True),\n",
    "                   'groep': np.random.choice([i for i in 'ABC'], records, replace=True)})\n",
    " \n",
    "# add na values\n",
    "for _ in range(na_vals):\n",
    "    df.iloc[np.random.choice(range(records)), -2] = np.random.choice(['??', '-'], 1, replace=True)\n",
    "    df.iloc[np.random.choice(range(records)), -1] = np.random.choice(['', ' ', '  '], 1, replace=True)\n",
    " \n",
    "# save to csv\n",
    "df.to_csv(file_name, sep='/', index=False)\n",
    " \n",
    "# add opening line to file\n",
    "line = 'Dit bestand is gegenereerd t.b.v. de cursus Data Science with Python'\n",
    "with open(file_name, 'r+') as f:\n",
    "    file_data = f.read()\n",
    "    f.seek(0, 0)\n",
    "    f.write(line.rstrip('\\r\\n') + '\\n' + file_data)\n",
    " \n",
    "# add closing lines to file\n",
    "line = 'Dit bestand is gegenereerd op {}\\n============== END OF FILE ============='.format(str(datetime.date.today().strftime('%d-%m-%Y')))\n",
    "with open(file_name, 'a') as f:\n",
    "    f.write(line.rstrip('\\r\\n'))\n"
   ]
  },
  {
   "cell_type": "code",
   "execution_count": null,
   "metadata": {},
   "outputs": [],
   "source": [
    " \n",
    " \n",
    "df2 = pd.read_csv(file_name, header=0, sep='/', skiprows=1, skipfooter=2, na_values=['??', '-', ' ', '  '])\n",
    " \n",
    "print(df1)\n",
    "print(df2)\n",
    " \n",
    "for g in df1.groep:\n",
    "    spaces = str(g).count(' ')\n",
    "    if spaces > 0:\n",
    "        print(spaces)"
   ]
  }
 ],
 "metadata": {
  "kernelspec": {
   "display_name": "Python 3",
   "language": "python",
   "name": "python3"
  },
  "language_info": {
   "codemirror_mode": {
    "name": "ipython",
    "version": 3
   },
   "file_extension": ".py",
   "mimetype": "text/x-python",
   "name": "python",
   "nbconvert_exporter": "python",
   "pygments_lexer": "ipython3",
   "version": "3.6.4"
  }
 },
 "nbformat": 4,
 "nbformat_minor": 2
}
