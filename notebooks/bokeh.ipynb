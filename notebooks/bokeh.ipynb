{
 "cells": [
  {
   "cell_type": "code",
   "execution_count": 1,
   "metadata": {},
   "outputs": [
    {
     "name": "stdout",
     "output_type": "stream",
     "text": [
      "Bokeh version: 0.13.0\n"
     ]
    }
   ],
   "source": [
    "from bokeh import __version__ as version\n",
    "print('Bokeh version:', version)"
   ]
  },
  {
   "cell_type": "markdown",
   "metadata": {},
   "source": [
    "In deze les gaan we aan de slag met [Bokeh](https://bokeh.pydata.org) om een aantal mooie interactieve plots te maken!"
   ]
  },
  {
   "cell_type": "markdown",
   "metadata": {},
   "source": [
    "### Scatter Plot"
   ]
  },
  {
   "cell_type": "code",
   "execution_count": 2,
   "metadata": {},
   "outputs": [],
   "source": [
    "# basic scatter plot\n",
    "\n",
    "from bokeh.plotting import figure, output_file, show, reset_output\n",
    "from bokeh.models import ColumnDataSource\n",
    "from bokeh.sampledata.iris import flowers # load data\n",
    "\n",
    "reset_output() # reset output previous session\n",
    "output_file('../output/scatter_plot.html')\n",
    "\n",
    "source = ColumnDataSource(flowers)\n",
    "\n",
    "p = figure(plot_width = 400, plot_height = 400)\n",
    "p.circle('sepal_length', 'sepal_width', size = 10, color = 'blue', alpha = 0.5, source = source)\n",
    "\n",
    "show(p)"
   ]
  },
  {
   "cell_type": "markdown",
   "metadata": {},
   "source": [
    "See [https://bokeh.pydata.org/en/latest/docs/reference/colors.html](https://bokeh.pydata.org/en/latest/docs/reference/colors.html) for available colors."
   ]
  },
  {
   "cell_type": "code",
   "execution_count": 3,
   "metadata": {},
   "outputs": [],
   "source": [
    "# color and legend\n",
    "\n",
    "from bokeh.plotting import figure, output_file, show, reset_output\n",
    "from bokeh.models import ColumnDataSource\n",
    "from bokeh.sampledata.iris import flowers # load data\n",
    "\n",
    "reset_output() # reset output previous session\n",
    "output_file('../output/scatter_plot_legend.html')\n",
    "\n",
    "colormap = {'setosa': 'coral', 'versicolor': 'skyblue', 'virginica': 'indigo'} # specify specie colors\n",
    "flowers['colors'] = [colormap[species] for species in flowers.species] # map colors\n",
    "\n",
    "source = ColumnDataSource(flowers)\n",
    "\n",
    "p = figure(plot_width = 400, plot_height = 400)\n",
    "p.circle('sepal_length', 'sepal_width', size = 10, color = 'colors', alpha = 0.5, legend = 'species', source = source)\n",
    "\n",
    "p.legend.orientation = 'horizontal'\n",
    "p.legend.location = 'top_center'\n",
    "\n",
    "show(p)"
   ]
  },
  {
   "cell_type": "code",
   "execution_count": 4,
   "metadata": {},
   "outputs": [],
   "source": [
    "# interactive legend\n",
    "\n",
    "from bokeh.plotting import figure, output_file, show, reset_output\n",
    "from bokeh.models import ColumnDataSource\n",
    "from bokeh.sampledata.iris import flowers # load data\n",
    "\n",
    "reset_output() # reset output previous session\n",
    "output_file('../output/scatter_plot_legend_interactive.html')\n",
    "\n",
    "colormap = {'setosa': 'coral', 'versicolor': 'skyblue', 'virginica': 'indigo'} # specify specie colors\n",
    "flowers['colors'] = [colormap[species] for species in flowers.species] # map colors\n",
    "\n",
    "p = figure(plot_width = 400, plot_height = 400)\n",
    "\n",
    "for species in flowers.species.unique():\n",
    "    source = ColumnDataSource(flowers[flowers.species == species])\n",
    "    p.circle('sepal_length', 'sepal_width', size = 10, color = 'colors', alpha = 0.5, legend = 'species', source = source)\n",
    "\n",
    "p.legend.orientation = 'horizontal'\n",
    "p.legend.location = 'top_center'\n",
    "p.legend.click_policy = 'hide'\n",
    "\n",
    "show(p)"
   ]
  },
  {
   "cell_type": "code",
   "execution_count": 5,
   "metadata": {},
   "outputs": [],
   "source": [
    "# tooltips\n",
    "\n",
    "from bokeh.plotting import figure, output_file, show, reset_output\n",
    "from bokeh.models import ColumnDataSource\n",
    "from bokeh.sampledata.iris import flowers # load data\n",
    "\n",
    "reset_output() # reset output previous session\n",
    "output_file('../output/scatter_plot_tooltips.html')\n",
    "\n",
    "colormap = {'setosa': 'coral', 'versicolor': 'skyblue', 'virginica': 'indigo'} # specify specie colors\n",
    "flowers['colors'] = [colormap[species] for species in flowers.species] # map colors\n",
    "\n",
    "tooltips = [('index', '@index'),\n",
    "            ('Sepal Length', '@sepal_length'),\n",
    "            ('Sepal Width', '@sepal_width'),\n",
    "            ('Species', '@species')]\n",
    "\n",
    "p = figure(plot_width = 400, plot_height = 400, tooltips = tooltips)\n",
    "\n",
    "for species in flowers.species.unique():\n",
    "    source = ColumnDataSource(flowers[flowers.species == species])\n",
    "    p.circle('sepal_length', 'sepal_width', size = 10, color = 'colors', alpha = 0.5, legend = 'species', source = source)\n",
    "\n",
    "p.legend.orientation = 'horizontal'\n",
    "p.legend.location = 'top_center'\n",
    "p.legend.click_policy = 'hide'\n",
    "\n",
    "show(p)"
   ]
  },
  {
   "cell_type": "markdown",
   "metadata": {},
   "source": [
    "### Data Table"
   ]
  },
  {
   "cell_type": "code",
   "execution_count": 6,
   "metadata": {},
   "outputs": [],
   "source": [
    "from bokeh.io import output_file, show\n",
    "from bokeh.layouts import widgetbox\n",
    "from bokeh.models import ColumnDataSource\n",
    "from bokeh.models.widgets import DataTable, TableColumn\n",
    "from bokeh.plotting import reset_output\n",
    "from bokeh.sampledata.iris import flowers # load data\n",
    "\n",
    "reset_output() # reset output previous session\n",
    "output_file('../output/data_table.html')\n",
    "\n",
    "source = ColumnDataSource(flowers)\n",
    "\n",
    "columns = [TableColumn(field = 'species', title = 'Species'),\n",
    "           TableColumn(field = 'sepal_length', title = 'Sepal Length'),\n",
    "           TableColumn(field = 'sepal_width', title = 'Sepal Width'),\n",
    "           TableColumn(field = 'petal_length', title = 'Petal Length'),\n",
    "           TableColumn(field = 'petal_width', title = 'Petal Width')]\n",
    "\n",
    "data_table = DataTable(source = source,\n",
    "                       columns = columns,\n",
    "                       width = 400,\n",
    "                       height = 400)\n",
    "\n",
    "show(widgetbox(data_table))"
   ]
  },
  {
   "cell_type": "markdown",
   "metadata": {},
   "source": [
    "### Dashboard with multiple tabs"
   ]
  },
  {
   "cell_type": "code",
   "execution_count": 7,
   "metadata": {},
   "outputs": [],
   "source": [
    "from bokeh.plotting import figure, output_file, show, reset_output\n",
    "from bokeh.io import output_file, show\n",
    "from bokeh.layouts import widgetbox\n",
    "from bokeh.models import ColumnDataSource\n",
    "from bokeh.models.widgets import DataTable, TableColumn, Panel, Tabs\n",
    "from bokeh.sampledata.iris import flowers # load data\n",
    "\n",
    "reset_output() # reset output previous session\n",
    "output_file('../output/dashboard.html')\n",
    "\n",
    "# Panel 1\n",
    "colormap = {'setosa': 'coral', 'versicolor': 'skyblue', 'virginica': 'indigo'} # specify specie colors\n",
    "flowers['colors'] = [colormap[species] for species in flowers.species] # map colors\n",
    "\n",
    "tooltips = [('index', '@index'),\n",
    "            ('Sepal Length', '@sepal_length'),\n",
    "            ('Sepal Width', '@sepal_width'),\n",
    "            ('Species', '@species')]\n",
    "\n",
    "\n",
    "p1 = figure(plot_width = 400, plot_height = 400, tooltips=tooltips)\n",
    "\n",
    "for species in flowers.species.unique():\n",
    "    source = ColumnDataSource(flowers[flowers.species == species])\n",
    "    p1.circle('sepal_length', 'sepal_width', size = 10, color = 'colors', alpha = 0.5, legend = 'species', source = source)\n",
    "\n",
    "p1.legend.orientation = 'horizontal'\n",
    "p1.legend.location = 'top_center'\n",
    "p1.legend.click_policy = 'hide'\n",
    "\n",
    "tab1 = Panel(child = p1, title = 'Interactive Scatter Plot')\n",
    "\n",
    "# Panel 2\n",
    "source = ColumnDataSource(flowers)\n",
    "\n",
    "columns = [TableColumn(field = 'species', title = 'Species'),\n",
    "           TableColumn(field = 'sepal_length', title = 'Sepal Length'),\n",
    "           TableColumn(field = 'sepal_width', title = 'Sepal Width'),\n",
    "           TableColumn(field = 'petal_length', title = 'Petal Length'),\n",
    "           TableColumn(field = 'petal_width', title = 'Petal Width')]\n",
    "\n",
    "p2 = DataTable(source = source,\n",
    "               columns = columns,\n",
    "               width = 400,\n",
    "               height = 400)\n",
    "\n",
    "tab2 = Panel(child = p2, title = 'Iris Data Table')\n",
    "\n",
    "# Dashboard\n",
    "tabs = Tabs(tabs = [tab1, tab2])\n",
    "\n",
    "show(tabs)"
   ]
  },
  {
   "cell_type": "markdown",
   "metadata": {},
   "source": [
    "### Bokeh Web App"
   ]
  },
  {
   "cell_type": "markdown",
   "metadata": {},
   "source": [
    "For available [widgets](https://bokeh.pydata.org/en/latest/docs/user_guide/interaction/widgets.html) visit [https://bokeh.pydata.org/en/latest/docs/user_guide/interaction/widgets.html](https://bokeh.pydata.org/en/latest/docs/user_guide/interaction/widgets.html)."
   ]
  },
  {
   "cell_type": "code",
   "execution_count": 8,
   "metadata": {},
   "outputs": [],
   "source": [
    "import os\n",
    "import webbrowser"
   ]
  },
  {
   "cell_type": "code",
   "execution_count": 9,
   "metadata": {},
   "outputs": [
    {
     "name": "stdout",
     "output_type": "stream",
     "text": [
      "C:\\Users\\Brinkhuis\\Google Drive\\Coding\\Github\\Cursus\\notebooks\n"
     ]
    }
   ],
   "source": [
    "# current working directory\n",
    "print(os.getcwd())"
   ]
  },
  {
   "cell_type": "code",
   "execution_count": 10,
   "metadata": {},
   "outputs": [
    {
     "name": "stdout",
     "output_type": "stream",
     "text": [
      "C:\\Users\\Brinkhuis\\Google Drive\\Coding\\Github\\Cursus\\scripts\n"
     ]
    }
   ],
   "source": [
    "# change directory\n",
    "os.chdir(os.path.split(os.getcwd())[0]+'\\\\scripts')\n",
    "print(os.getcwd()) # current working directory"
   ]
  },
  {
   "cell_type": "code",
   "execution_count": 11,
   "metadata": {},
   "outputs": [
    {
     "data": {
      "text/plain": [
       "True"
      ]
     },
     "execution_count": 11,
     "metadata": {},
     "output_type": "execute_result"
    }
   ],
   "source": [
    "# run web app and open in broser\n",
    "os.system('bokeh serve bokeh_app.py')\n",
    "webbrowser.open('http://localhost:5006/bokeh_app')"
   ]
  },
  {
   "cell_type": "code",
   "execution_count": null,
   "metadata": {},
   "outputs": [],
   "source": []
  }
 ],
 "metadata": {
  "kernelspec": {
   "display_name": "Python 3",
   "language": "python",
   "name": "python3"
  },
  "language_info": {
   "codemirror_mode": {
    "name": "ipython",
    "version": 3
   },
   "file_extension": ".py",
   "mimetype": "text/x-python",
   "name": "python",
   "nbconvert_exporter": "python",
   "pygments_lexer": "ipython3",
   "version": "3.6.6"
  }
 },
 "nbformat": 4,
 "nbformat_minor": 2
}
