{
 "cells": [
  {
   "cell_type": "code",
   "execution_count": 1,
   "metadata": {},
   "outputs": [],
   "source": [
    "# import section\n",
    "import seaborn as sns"
   ]
  },
  {
   "cell_type": "code",
   "execution_count": 2,
   "metadata": {},
   "outputs": [
    {
     "data": {
      "text/html": [
       "<iframe id=\"igraph\" scrolling=\"no\" style=\"border:none;\" seamless=\"seamless\" src=\"https://plot.ly/~brinkhuis/20.embed\" height=\"4580px\" width=\"100%\"></iframe>"
      ],
      "text/plain": [
       "<plotly.tools.PlotlyDisplay object>"
      ]
     },
     "execution_count": 2,
     "metadata": {},
     "output_type": "execute_result"
    }
   ],
   "source": [
    "import plotly.plotly as py\n",
    "import plotly.figure_factory as ff\n",
    "\n",
    "iris = sns.load_dataset(\"iris\")\n",
    "\n",
    "table = ff.create_table(iris)\n",
    "py.iplot(table, filename='jupyter-table')"
   ]
  },
  {
   "cell_type": "code",
   "execution_count": 3,
   "metadata": {},
   "outputs": [
    {
     "data": {
      "text/html": [
       "<iframe id=\"igraph\" scrolling=\"no\" style=\"border:none;\" seamless=\"seamless\" src=\"https://plot.ly/~brinkhuis/4.embed\" height=\"525px\" width=\"100%\"></iframe>"
      ],
      "text/plain": [
       "<plotly.tools.PlotlyDisplay object>"
      ]
     },
     "execution_count": 3,
     "metadata": {},
     "output_type": "execute_result"
    }
   ],
   "source": [
    "import plotly.plotly as py\n",
    "import plotly.graph_objs as go\n",
    "\n",
    "trace = go.Scatter(\n",
    "    x = iris.sepal_length,\n",
    "    y = iris.sepal_width,\n",
    "    mode = 'markers')\n",
    "\n",
    "data = [trace]\n",
    "\n",
    "# Plot and embed in ipython notebook!\n",
    "py.iplot(data, filename='basic-scatter')"
   ]
  },
  {
   "cell_type": "code",
   "execution_count": 4,
   "metadata": {},
   "outputs": [
    {
     "data": {
      "text/html": [
       "<iframe id=\"igraph\" scrolling=\"no\" style=\"border:none;\" seamless=\"seamless\" src=\"https://plot.ly/~brinkhuis/14.embed\" height=\"525px\" width=\"100%\"></iframe>"
      ],
      "text/plain": [
       "<plotly.tools.PlotlyDisplay object>"
      ]
     },
     "execution_count": 4,
     "metadata": {},
     "output_type": "execute_result"
    }
   ],
   "source": [
    "import plotly.plotly as py\n",
    "import plotly.graph_objs as go\n",
    "\n",
    "trace0 = go.Scatter(\n",
    "    x = iris[:50].sepal_length,\n",
    "    y = iris[:50].sepal_width,\n",
    "    mode = 'markers',\n",
    "    name = 'Setosa'\n",
    ")\n",
    "trace1 = go.Scatter(\n",
    "    x = iris[50:100].sepal_length,\n",
    "    y = iris[50:100].sepal_width,\n",
    "    mode = 'markers',\n",
    "    name = 'Versicolor'\n",
    ")\n",
    "trace2 = go.Scatter(\n",
    "    x = iris[100:].sepal_length,\n",
    "    y = iris[100:].sepal_width,\n",
    "    mode = 'markers',\n",
    "    name = 'Virginica'\n",
    ")\n",
    "\n",
    "data = [trace0, trace1, trace2]\n",
    "py.iplot(data, filename='scatter-mode')"
   ]
  },
  {
   "cell_type": "code",
   "execution_count": 5,
   "metadata": {
    "scrolled": false
   },
   "outputs": [
    {
     "data": {
      "text/html": [
       "<iframe id=\"igraph\" scrolling=\"no\" style=\"border:none;\" seamless=\"seamless\" src=\"https://plot.ly/~brinkhuis/18.embed\" height=\"525px\" width=\"100%\"></iframe>"
      ],
      "text/plain": [
       "<plotly.tools.PlotlyDisplay object>"
      ]
     },
     "execution_count": 5,
     "metadata": {},
     "output_type": "execute_result"
    }
   ],
   "source": [
    "import plotly.plotly as py\n",
    "#from plotly.graph_objs import *\n",
    "\n",
    "\n",
    "trace1 = go.Scatter(\n",
    "    x = iris[:50].sepal_length,\n",
    "    y = iris[:50].sepal_width,\n",
    "    mode = 'markers',\n",
    "    name='Setosa')\n",
    "\n",
    "trace2 = go.Scatter(\n",
    "    x = iris[50:100].sepal_length,\n",
    "    y = iris[50:100].sepal_width,\n",
    "    visible=False,\n",
    "    mode = 'markers',\n",
    "    name='Versicolor')\n",
    "\n",
    "trace3 = go.Scatter(\n",
    "    x = iris[100:].sepal_length,\n",
    "    y = iris[100:].sepal_width,\n",
    "    visible=False,\n",
    "    mode = 'markers',\n",
    "    name='Virginica')\n",
    "\n",
    "data = [trace1, trace2, trace3]\n",
    "\n",
    "layout = go.Layout(\n",
    "    title='Iris dataset',\n",
    "    updatemenus=list([\n",
    "        dict(\n",
    "            x=-0.05,\n",
    "            y=1,\n",
    "            yanchor='top',\n",
    "            buttons=list([\n",
    "                dict(args=['visible', [True, False, False]], label='Setosa', method='restyle'),\n",
    "                dict(args=['visible', [False, True, False]], label='Versicolor', method='restyle'),\n",
    "                dict(args=['visible', [False, False, True]], label='Virginica', method='restyle'),\n",
    "                dict(args=['visible', [True, True, False]], label='Setosa & Versicolor', method='restyle'),\n",
    "                dict(args=['visible', [True, False, True]], label='Setosa & Virginica', method='restyle'),\n",
    "                dict(args=['visible', [False, True, True]], label='Versicolor & Virginica', method='restyle'),\n",
    "                dict(args=['visible', [True, True, True]], label='All', method='restyle'),\n",
    "            ]),\n",
    "        )\n",
    "    ]),\n",
    ")\n",
    "\n",
    "fig = go.Figure(data=data, layout=layout)\n",
    "\n",
    "py.iplot(fig, filename='dropdown_species')"
   ]
  }
 ],
 "metadata": {
  "kernelspec": {
   "display_name": "Python 3",
   "language": "python",
   "name": "python3"
  },
  "language_info": {
   "codemirror_mode": {
    "name": "ipython",
    "version": 3
   },
   "file_extension": ".py",
   "mimetype": "text/x-python",
   "name": "python",
   "nbconvert_exporter": "python",
   "pygments_lexer": "ipython3",
   "version": "3.6.6"
  }
 },
 "nbformat": 4,
 "nbformat_minor": 2
}
