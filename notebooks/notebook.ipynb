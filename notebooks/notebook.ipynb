{
 "cells": [
  {
   "cell_type": "markdown",
   "metadata": {},
   "source": [
    "![](../images/jupyter.png 'Jupyter logo')"
   ]
  },
  {
   "cell_type": "markdown",
   "metadata": {},
   "source": [
    "Dit notebook laat de mogelijkheden van een Jupyter Notebook te laten zien."
   ]
  },
  {
   "cell_type": "markdown",
   "metadata": {},
   "source": [
    "***"
   ]
  },
  {
   "cell_type": "markdown",
   "metadata": {},
   "source": [
    "* View Notebook on GitHub:  \n",
    "[https://github.com/Brinkhuis/Cursus/blob/master/notebooks/notebook.ipynb](https://github.com/Brinkhuis/Cursus/blob/master/notebooks/notebook.ipynb)  \n",
    "\n",
    "\n",
    "* View Notebook on GitHub with [Jupyter Notebook Viewer](https://nbviewer.jupyter.org):  \n",
    "[https://nbviewer.jupyter.org/github/Brinkhuis/Cursus/blob/master/notebooks/notebook.ipynb](https://nbviewer.jupyter.org/github/Brinkhuis/Cursus/blob/master/notebooks/notebook.ipynb)"
   ]
  },
  {
   "cell_type": "markdown",
   "metadata": {},
   "source": [
    "***"
   ]
  },
  {
   "cell_type": "code",
   "execution_count": 1,
   "metadata": {},
   "outputs": [
    {
     "data": {
      "text/plain": [
       "'Juypter Notebooks are Pythonic!'"
      ]
     },
     "execution_count": 1,
     "metadata": {},
     "output_type": "execute_result"
    }
   ],
   "source": [
    "# Python code snippet\n",
    "def omdraaien(tekst):\n",
    "    letters = [letter for letter in tekst]\n",
    "    letters.reverse()\n",
    "    return ''.join(letters)\n",
    "\n",
    "omdraaien('!cinohtyP era skoobetoN retpyuJ')"
   ]
  },
  {
   "cell_type": "markdown",
   "metadata": {},
   "source": [
    "`esc` + `L` voor regelnummers in cell (en `esc` + `shift` + `L` voor regelnummers in alle cellen)"
   ]
  },
  {
   "cell_type": "code",
   "execution_count": 2,
   "metadata": {},
   "outputs": [
    {
     "data": {
      "text/plain": [
       "'Juypter Notebooks are Pythonic!'"
      ]
     },
     "execution_count": 2,
     "metadata": {},
     "output_type": "execute_result"
    }
   ],
   "source": [
    "# Python code snippet\n",
    "def omdraaien(tekst):\n",
    "    letters = [letter for letter in tekst]\n",
    "    letters.reverse()\n",
    "    return ''.join(letters)\n",
    "\n",
    "omdraaien('!cinohtyP era skoobetoN retpyuJ')"
   ]
  },
  {
   "cell_type": "markdown",
   "metadata": {},
   "source": [
    "# Header 1"
   ]
  },
  {
   "cell_type": "markdown",
   "metadata": {},
   "source": [
    "## Header 2"
   ]
  },
  {
   "cell_type": "markdown",
   "metadata": {},
   "source": [
    "### Header 3"
   ]
  },
  {
   "cell_type": "markdown",
   "metadata": {},
   "source": [
    "#### Header 4"
   ]
  },
  {
   "cell_type": "markdown",
   "metadata": {},
   "source": [
    "##### Header 5"
   ]
  },
  {
   "cell_type": "markdown",
   "metadata": {},
   "source": [
    "Lorem ipsum dolor sit amet, consectetur adipiscing elit, sed do eiusmod tempor incididunt ut labore et dolore magna aliqua. Ut enim ad minim veniam, quis nostrud exercitation ullamco laboris nisi ut aliquip ex ea commodo consequat. Duis aute irure dolor in reprehenderit in voluptate velit esse cillum dolore eu fugiat nulla pariatur. Excepteur sint occaecat cupidatat non proident, sunt in culpa qui officia deserunt mollit anim id est laborum."
   ]
  },
  {
   "cell_type": "markdown",
   "metadata": {},
   "source": [
    "Deze tekst is _cursief_ gedrukt."
   ]
  },
  {
   "cell_type": "markdown",
   "metadata": {},
   "source": [
    "Deze tekst is **vet** gedrukt."
   ]
  },
  {
   "cell_type": "markdown",
   "metadata": {},
   "source": [
    "Deze tekst is **_vet én cursief_** gedrukt."
   ]
  },
  {
   "cell_type": "markdown",
   "metadata": {},
   "source": [
    "Deze tekst is in een `monospace font` gedrukt en wordt vaak gebruikt voor \"inline code\"."
   ]
  },
  {
   "cell_type": "markdown",
   "metadata": {},
   "source": [
    "De tekst is ~~doorgestreept~~ weergegeven."
   ]
  },
  {
   "cell_type": "markdown",
   "metadata": {},
   "source": [
    "Een handmatige  \n",
    "linebreak"
   ]
  },
  {
   "cell_type": "markdown",
   "metadata": {},
   "source": [
    ">Lorem ipsum dolor sit amet, consectetur adipiscing elit, sed do eiusmod tempor incididunt ut labore et dolore magna aliqua. Ut enim ad minim veniam, quis nostrud exercitation ullamco laboris nisi ut aliquip ex ea commodo consequat. Duis aute irure dolor in reprehenderit in voluptate velit esse cillum dolore eu fugiat nulla pariatur. Excepteur sint occaecat cupidatat non proident, sunt in culpa qui officia deserunt mollit anim id est laborum."
   ]
  },
  {
   "cell_type": "markdown",
   "metadata": {},
   "source": [
    "1. item\n",
    "2. item\n",
    "3. item\n",
    "4. item\n",
    "5. item"
   ]
  },
  {
   "cell_type": "markdown",
   "metadata": {},
   "source": [
    "* item\n",
    "  * item\n",
    "    * item\n",
    "    * item\n",
    "  * item\n",
    "    * item\n",
    "    * item\n",
    "* item\n",
    "  * item\n",
    "    * item\n",
    "    * item\n",
    "  * item\n",
    "    * item\n",
    "    * item"
   ]
  },
  {
   "cell_type": "markdown",
   "metadata": {},
   "source": [
    "```SQL\n",
    "# SQL code snippet\n",
    "select emp_id, last_name\n",
    "from employee_tbl\n",
    "where city = 'Amsterdam'\n",
    "order by emp_id, last_name desc;\n",
    "```"
   ]
  },
  {
   "cell_type": "markdown",
   "metadata": {},
   "source": [
    "```\n",
    "# Code snipped \n",
    "omdraaien <- function(tekst) {\n",
    "  letters <- strsplit(tekst, NULL)[[1]]\n",
    "  omgedraaid <- letters[length(letters):1]\n",
    "  return(paste(omgedraaid, collapse = \"\"))\n",
    "}\n",
    "\n",
    "omdraaien(\"nohtyP)\n",
    "```\n"
   ]
  },
  {
   "cell_type": "markdown",
   "metadata": {},
   "source": [
    "```R\n",
    "# R code snippet\n",
    "omdraaien <- function(tekst) {\n",
    "  letters <- strsplit(tekst, NULL)[[1]]\n",
    "  omgedraaid <- letters[length(letters):1]\n",
    "  return(paste(omgedraaid, collapse = \"\"))\n",
    "}\n",
    "\n",
    "omdraaien(\"nohtyP\")\n",
    "```"
   ]
  },
  {
   "cell_type": "markdown",
   "metadata": {},
   "source": [
    "```python\n",
    "# Python code snippet\n",
    "def omdraaien(tekst):\n",
    "    letters = [letter for letter in tekst]\n",
    "    letters.reverse()\n",
    "    return ''.join(letters)\n",
    "\n",
    "omdraaien('nohtyP')\n",
    "```"
   ]
  },
  {
   "cell_type": "markdown",
   "metadata": {},
   "source": [
    "URL's zonder labels  \n",
    "https://www.python.org, http://jupyter.org en https://www.anaconda.com.\n"
   ]
  },
  {
   "cell_type": "markdown",
   "metadata": {},
   "source": [
    "URL's, met labels  \n",
    "[Python](https://www.python.org), [Jupyter](http://jupyter.org) en [Anaconda](https://www.anaconda.com)."
   ]
  },
  {
   "cell_type": "markdown",
   "metadata": {},
   "source": [
    "URL's met labels en 'tool tips'  \n",
    "[Python](https://www.python.org \"Python webpage\"), [Jupyter](http://jupyter.org \"Jupyter webpage\") en [Anaconda](https://www.anaconda.com \"Anaconda webpage\")."
   ]
  },
  {
   "cell_type": "markdown",
   "metadata": {},
   "source": [
    "\\begin{align}\n",
    "\\dot{x} & = \\sigma(y-x) \\\\\n",
    "\\dot{y} & = \\rho x - y - xz \\\\\n",
    "\\dot{z} & = -\\beta z + xy\n",
    "\\end{align}"
   ]
  },
  {
   "cell_type": "markdown",
   "metadata": {},
   "source": [
    "\\begin{equation*}\n",
    "\\left( \\sum_{k=1}^n a_k b_k \\right)^2 \\leq \\left( \\sum_{k=1}^n a_k^2 \\right) \\left( \\sum_{k=1}^n b_k^2 \\right)\n",
    "\\end{equation*}"
   ]
  },
  {
   "cell_type": "markdown",
   "metadata": {},
   "source": [
    "$$-b \\pm \\sqrt{b^2 - 4ac} \\over 2a$$"
   ]
  },
  {
   "cell_type": "markdown",
   "metadata": {},
   "source": [
    "$-b \\pm \\sqrt{b^2 - 4ac} \\over 2a$"
   ]
  },
  {
   "cell_type": "markdown",
   "metadata": {},
   "source": [
    "This expression $\\sqrt{3x-1}+(1+x)^2$ is an example of a TeX inline equation in a [Markdown-formatted](https://daringfireball.net/projects/markdown/) sentence."
   ]
  },
  {
   "cell_type": "markdown",
   "metadata": {},
   "source": [
    "Kolom 1 | Kolom 2 | Kolom 3\n",
    "--- | --- | ---\n",
    "a | b | c\n",
    "1 | 2 | 3\n",
    "**AAA** | _BBB_ | **_CCC_**\n",
    "1 | $\\sqrt[x]{2^x}$ | 3\n",
    "a | b | c"
   ]
  },
  {
   "cell_type": "markdown",
   "metadata": {},
   "source": [
    "***"
   ]
  },
  {
   "cell_type": "markdown",
   "metadata": {},
   "source": [
    "Deze tekst is <font color='red'>rood</font> afgedrukt!<br><br>Opmerking: De rendering van HTML text formatting geeft niet overal hetzelfde resulaat. Github toont deze opmaakt niet. Gebruik daarvoor de [Notebook Viewer](https://nbviewer.jupyter.org) online. Daarin kun je de link naar je Jupyter notebook op Github plakken. En die link kun je weer gebruiken om je notebook te delen."
   ]
  },
  {
   "cell_type": "markdown",
   "metadata": {},
   "source": [
    "Deze tekst is in een **<font color='#23B9BC'>HTML Color Code</font>** afgedrukt!"
   ]
  }
 ],
 "metadata": {
  "kernelspec": {
   "display_name": "Python 3",
   "language": "python",
   "name": "python3"
  },
  "language_info": {
   "codemirror_mode": {
    "name": "ipython",
    "version": 3
   },
   "file_extension": ".py",
   "mimetype": "text/x-python",
   "name": "python",
   "nbconvert_exporter": "python",
   "pygments_lexer": "ipython3",
   "version": "3.6.6"
  }
 },
 "nbformat": 4,
 "nbformat_minor": 2
}
