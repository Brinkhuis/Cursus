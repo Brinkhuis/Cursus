{
 "cells": [
  {
   "cell_type": "markdown",
   "metadata": {},
   "source": [
    "![](../images/jupyter.png 'Jupyter logo')"
   ]
  },
  {
   "cell_type": "markdown",
   "metadata": {},
   "source": [
    "Dit notebook laat de mogelijkheden van een Jupyter Notebook te laten zien."
   ]
  },
  {
   "cell_type": "markdown",
   "metadata": {},
   "source": [
    "***"
   ]
  },
  {
   "cell_type": "markdown",
   "metadata": {},
   "source": [
    "# Header 1"
   ]
  },
  {
   "cell_type": "markdown",
   "metadata": {},
   "source": [
    "## Header 2"
   ]
  },
  {
   "cell_type": "markdown",
   "metadata": {},
   "source": [
    "### Header 3"
   ]
  },
  {
   "cell_type": "markdown",
   "metadata": {},
   "source": [
    "#### Header 4"
   ]
  },
  {
   "cell_type": "markdown",
   "metadata": {},
   "source": [
    "##### Header 5"
   ]
  },
  {
   "cell_type": "markdown",
   "metadata": {},
   "source": [
    "Lorem ipsum dolor sit amet, consectetur adipiscing elit, sed do eiusmod tempor incididunt ut labore et dolore magna aliqua. Ut enim ad minim veniam, quis nostrud exercitation ullamco laboris nisi ut aliquip ex ea commodo consequat. Duis aute irure dolor in reprehenderit in voluptate velit esse cillum dolore eu fugiat nulla pariatur. Excepteur sint occaecat cupidatat non proident, sunt in culpa qui officia deserunt mollit anim id est laborum."
   ]
  },
  {
   "cell_type": "markdown",
   "metadata": {},
   "source": [
    "Deze tekst is _cursief_ gedrukt."
   ]
  },
  {
   "cell_type": "markdown",
   "metadata": {},
   "source": [
    "Deze tekst is **vet** gedrukt."
   ]
  },
  {
   "cell_type": "markdown",
   "metadata": {},
   "source": [
    "Deze tekst is **_vet én cursief_** gedrukt."
   ]
  },
  {
   "cell_type": "markdown",
   "metadata": {},
   "source": [
    "Deze tekst is in een `monospace font` gedrukt en wordt vaak gebruikt voor \"inline code\"."
   ]
  },
  {
   "cell_type": "markdown",
   "metadata": {},
   "source": [
    "De tekst is ~~doorgestreept~~ weergegeven."
   ]
  },
  {
   "cell_type": "markdown",
   "metadata": {},
   "source": [
    "Een handmatige  \n",
    "linebreak"
   ]
  },
  {
   "cell_type": "markdown",
   "metadata": {},
   "source": [
    ">Lorem ipsum dolor sit amet, consectetur adipiscing elit, sed do eiusmod tempor incididunt ut labore et dolore magna aliqua. Ut enim ad minim veniam, quis nostrud exercitation ullamco laboris nisi ut aliquip ex ea commodo consequat. Duis aute irure dolor in reprehenderit in voluptate velit esse cillum dolore eu fugiat nulla pariatur. Excepteur sint occaecat cupidatat non proident, sunt in culpa qui officia deserunt mollit anim id est laborum."
   ]
  },
  {
   "cell_type": "markdown",
   "metadata": {},
   "source": [
    "1. item\n",
    "2. item\n",
    "3. item\n",
    "4. item\n",
    "5. item"
   ]
  },
  {
   "cell_type": "markdown",
   "metadata": {},
   "source": [
    "* item\n",
    "  * item\n",
    "    * item\n",
    "    * item\n",
    "  * item\n",
    "    * item\n",
    "    * item\n",
    "* item\n",
    "  * item\n",
    "    * item\n",
    "    * item\n",
    "  * item\n",
    "    * item\n",
    "    * item"
   ]
  },
  {
   "cell_type": "markdown",
   "metadata": {},
   "source": [
    "```SQL\n",
    "# SQL code snippet\n",
    "select emp_id, last_name\n",
    "from employee_tbl\n",
    "where city = 'Amsterdam'\n",
    "order by emp_id, last_name desc;\n",
    "```"
   ]
  },
  {
   "cell_type": "markdown",
   "metadata": {},
   "source": [
    "```\n",
    "# Code snipped \n",
    "omdraaien <- function(tekst) {\n",
    "  letters <- strsplit(tekst, NULL)[[1]]\n",
    "  omgedraaid <- letters[length(letters):1]\n",
    "  return(paste(omgedraaid, collapse = \"\"))\n",
    "}\n",
    "\n",
    "omdraaien(\"nohtyP)\n",
    "```\n"
   ]
  },
  {
   "cell_type": "markdown",
   "metadata": {},
   "source": [
    "```R\n",
    "# R code snippet\n",
    "omdraaien <- function(tekst) {\n",
    "  letters <- strsplit(tekst, NULL)[[1]]\n",
    "  omgedraaid <- letters[length(letters):1]\n",
    "  return(paste(omgedraaid, collapse = \"\"))\n",
    "}\n",
    "\n",
    "omdraaien(\"nohtyP\")\n",
    "```"
   ]
  },
  {
   "cell_type": "markdown",
   "metadata": {},
   "source": [
    "```python\n",
    "# Python code snippet\n",
    "def omdraaien(tekst):\n",
    "    letters = [letter for letter in tekst]\n",
    "    letters.reverse()\n",
    "    return ''.join(letters)\n",
    "\n",
    "omdraaien('nohtyP')\n",
    "```"
   ]
  },
  {
   "cell_type": "code",
   "execution_count": 9,
   "metadata": {},
   "outputs": [
    {
     "data": {
      "text/plain": [
       "'Python'"
      ]
     },
     "execution_count": 9,
     "metadata": {},
     "output_type": "execute_result"
    }
   ],
   "source": [
    "# Python code snippet\n",
    "def omdraaien(tekst):\n",
    "    letters = [letter for letter in tekst]\n",
    "    letters.reverse()\n",
    "    return ''.join(letters)\n",
    "\n",
    "omdraaien('nohtyP')"
   ]
  },
  {
   "cell_type": "markdown",
   "metadata": {},
   "source": [
    "URL's zonder labels  \n",
    "https://www.python.org, http://jupyter.org en https://www.anaconda.com.\n"
   ]
  },
  {
   "cell_type": "markdown",
   "metadata": {},
   "source": [
    "URL's, met labels  \n",
    "[Python](https://www.python.org), [Jupyter](http://jupyter.org) en [Anaconda](https://www.anaconda.com)."
   ]
  },
  {
   "cell_type": "markdown",
   "metadata": {},
   "source": [
    "URL's met labels en 'tool tips'  \n",
    "[Python](https://www.python.org \"Python webpage\"), [Jupyter](http://jupyter.org \"Jupyter webpage\") en [Anaconda](https://www.anaconda.com \"Anaconda webpage\")."
   ]
  },
  {
   "cell_type": "markdown",
   "metadata": {},
   "source": [
    "\\begin{align}\n",
    "\\dot{x} & = \\sigma(y-x) \\\\\n",
    "\\dot{y} & = \\rho x - y - xz \\\\\n",
    "\\dot{z} & = -\\beta z + xy\n",
    "\\end{align}"
   ]
  },
  {
   "cell_type": "markdown",
   "metadata": {},
   "source": [
    "\\begin{equation*}\n",
    "\\left( \\sum_{k=1}^n a_k b_k \\right)^2 \\leq \\left( \\sum_{k=1}^n a_k^2 \\right) \\left( \\sum_{k=1}^n b_k^2 \\right)\n",
    "\\end{equation*}"
   ]
  },
  {
   "cell_type": "markdown",
   "metadata": {},
   "source": [
    "$$-b \\pm \\sqrt{b^2 - 4ac} \\over 2a$$"
   ]
  },
  {
   "cell_type": "markdown",
   "metadata": {},
   "source": [
    "$-b \\pm \\sqrt{b^2 - 4ac} \\over 2a$"
   ]
  },
  {
   "cell_type": "markdown",
   "metadata": {},
   "source": [
    "This expression $\\sqrt{3x-1}+(1+x)^2$ is an example of a TeX inline equation in a [Markdown-formatted](https://daringfireball.net/projects/markdown/) sentence."
   ]
  },
  {
   "cell_type": "markdown",
   "metadata": {},
   "source": [
    "Kolom 1 | Kolom 2 | Kolom 3\n",
    "--- | --- | ---\n",
    "a | b | c\n",
    "1 | 2 | 3\n",
    "**AAA** | _BBB_ | **_CCC_**\n",
    "1 | $\\sqrt[x]{2^x}$ | 3\n",
    "a | b | c"
   ]
  },
  {
   "cell_type": "markdown",
   "metadata": {},
   "source": [
    "***"
   ]
  },
  {
   "cell_type": "markdown",
   "metadata": {},
   "source": [
    "Deze tekst is <font color='red'>rood</font> afgedrukt!<br><br>Opmerking: De rendering van HTML text formatting geeft niet overal hetzelfde resulaat. Github toont deze opmaakt niet. Gebruik daarvoor de [Notebook Viewer](https://nbviewer.jupyter.org) online. Daarin kun je de link naar je Jupyter notebook op Github plakken. En die link kun je weer gebruiken om je notebook te delen.<br><br>Voorbeeld: [Notebook via Github](https://github.com/Brinkhuis/Cursus/blob/master/notebooks/notebook.ipynb) en [Notebook via Notebook Viewer](https://nbviewer.jupyter.org/github/Brinkhuis/Cursus/blob/master/notebooks/notebook.ipynb)."
   ]
  },
  {
   "cell_type": "markdown",
   "metadata": {},
   "source": [
    "Deze tekst is in een **<font color='#23B9BC'>HTML Color Code</font>** afgedrukt!"
   ]
  },
  {
   "cell_type": "markdown",
   "metadata": {},
   "source": [
    "%%html\n",
    "\n",
    "<!DOCTYPE html>\n",
    "<html>\n",
    "\n",
    "  <head>\n",
    "\n",
    "    <meta charset=\"utf-8\">\n",
    "    <meta http-equiv=\"X-UA-Compatible\" content=\"IE=edge\">\n",
    "    <meta name=\"viewport\" content=\"width=device-width, initial-scale=1\">\n",
    "    <meta name=\"description\" content=\"\">\n",
    "    <meta name=\"author\" content=\"\">\n",
    "\n",
    "    <title>Project Jupyter | Home</title>\n",
    "    <meta property=\"og:title\" content=\"Project Jupyter\" />\n",
    "    <meta property=\"og:description\" content=\"The Jupyter Notebook is a web-based interactive computing platform. The notebook combines live code, equations, narrative text, visualizations, interactive dashboards and other media.\n",
    "\">\n",
    "    <meta property=\"og:url\" content=\"http://www.jupyter.org\" />\n",
    "    <meta property=\"og:image\" content=\"http://jupyter.org/assets/homepage.png\" />\n",
    "    <!-- Bootstrap Core CSS -->\n",
    "    <script src=\"/cdn-cgi/apps/head/MuIIl4I_IVFkxldaVu1mdWee9as.js\"></script><link rel=\"stylesheet\" href=\"/css/bootstrap.min.css\">\n",
    "    <link rel=\"stylesheet\" href=\"/css/logo-nav.css\">\n",
    "    <link rel=\"stylesheet\" href=\"/css/cardlist.css\">\n",
    "    <link rel=\"stylesheet\" href=\"/css/github-buttons.css\">\n",
    "    <link rel=\"icon\" type=\"image/png\" href=\"favicon.ico\" />\n",
    "    <link href=\"/assets/apple-touch-icon.png\" rel=\"apple-touch-icon\" />\n",
    "    <link href=\"/assets/apple-touch-icon-76x76.png\" rel=\"apple-touch-icon\" sizes=\"76x76\" />\n",
    "    <link href=\"/assets/apple-touch-icon-120x120.png\" rel=\"apple-touch-icon\" sizes=\"120x120\" />\n",
    "    <link href=\"/assets/apple-touch-icon-152x152.png\" rel=\"apple-touch-icon\" sizes=\"152x152\" />\n",
    "    <link href=\"/assets/apple-touch-icon-180x180.png\" rel=\"apple-touch-icon\" sizes=\"180x180\" />\n",
    "    <link href=\"/assets/icon-hires.png\" rel=\"icon\" sizes=\"192x192\" />\n",
    "    <link href=\"/assets/icon-normal.png\" rel=\"icon\" sizes=\"128x128\" />\n",
    "    <link rel=\"canonical\" href=\"http://jupyter.org/\">\n",
    "\n",
    "    <!-- HTML5 Shim and Respond.js IE8 support of HTML5 elements and media queries -->\n",
    "    <!-- WARNING: Respond.js doesn't work if you view the page via file:// -->\n",
    "    <!--[if lt IE 9]>\n",
    "        <script src=\"https://oss.maxcdn.com/libs/html5shiv/3.7.0/html5shiv.js\"></script>\n",
    "        <script src=\"https://oss.maxcdn.com/libs/respond.js/1.4.2/respond.min.js\"></script>\n",
    "    <![endif]-->\n",
    "    <script src=\"//use.typekit.net/kpd5yrh.js\"></script>\n",
    "    <script>try{Typekit.load();}catch(e){}</script>\n",
    "    <script>\n",
    "      (function(i,s,o,g,r,a,m){i['GoogleAnalyticsObject']=r;i[r]=i[r]||function(){\n",
    "      (i[r].q=i[r].q||[]).push(arguments)},i[r].l=1*new Date();a=s.createElement(o),\n",
    "      m=s.getElementsByTagName(o)[0];a.async=1;a.src=g;m.parentNode.insertBefore(a,m)\n",
    "      })(window,document,'script','//www.google-analytics.com/analytics.js','ga');\n",
    "\n",
    "      ga('create', 'UA-52617120-1', 'auto', {'storage': 'none'});\n",
    "      ga('set', 'anonymizeIp', true);\n",
    "      ga('send', 'pageview');\n",
    "\n",
    "    </script>\n",
    "    <script>console.log('Welcome to Project Jupyter! Explore the various tools available and their corresponding documentation. If you are interested in contributing to the platform, please visit the community resources section at http://jupyter.org/community.html.')</script>\n",
    "</head>\n",
    "\n",
    "\n",
    "  <body>\n",
    "\n",
    "    <nav class=\"navbar navbar-fixed-top\" role=\"navigation\" id=\"navbar\" >\n",
    "        <div class=\"navbar-inner\">\n",
    "        <div class=\"container\">\n",
    "            <!-- Brand and toggle get grouped for better mobile display -->\n",
    "            <div class=\"navbar-header\">\n",
    "                <button type=\"button\" class=\"navbar-toggle\" data-toggle=\"collapse\" data-target=\"#bs-example-navbar-collapse-1\">\n",
    "                    <span class=\"sr-only\">Toggle navigation</span>\n",
    "                    \n",
    "                      <span class=\"icon-bar white-icon-bar\"></span>\n",
    "                      <span class=\"icon-bar white-icon-bar\"></span>\n",
    "                      <span class=\"icon-bar white-icon-bar\"></span>\n",
    "                    \n",
    "                </button>\n",
    "                <a class=\"navbar-brand\" href=\"/index.html\">\n",
    "                    <img id=\"jupyter-nav-logo\" class=\"navbar-logo\" src=\"/assets/nav_logo.svg\" alt=\"Jupyter logo\">\n",
    "                </a>\n",
    "            </div>\n",
    "            <div class=\"blur\"></div>\n",
    "            <!-- Collect the nav links, forms, and other content for toggling -->\n",
    "            <div class=\"collapse navbar-collapse\" id=\"bs-example-navbar-collapse-1\">\n",
    "                <ul class=\"nav navbar-nav navbar-right\">\n",
    "                               <li>\n",
    "                                   <a href=\"/install\" class=\"tab\">Install</a>\n",
    "                               </li>\n",
    "                               <li>\n",
    "                                   <a href=\"/about\" class=\"tab\">About Us</a>\n",
    "                               </li>\n",
    "                               <li>\n",
    "                                   <a href=\"/community\" class=\"tab\">Community</a>\n",
    "                               </li>\n",
    "                               <li>\n",
    "                                   <a href=\"/documentation\" class=\"tab\">Documentation</a>\n",
    "                               </li>\n",
    "                               <li>\n",
    "                                 <a href=\"https://nbviewer.jupyter.org\" class=\"tab\" target=\"_blank\">NBViewer</a>\n",
    "                               </li>\n",
    "                               <li>\n",
    "                                   <a href=\"/widgets\" class=\"tab\">Widgets</a>\n",
    "                               </li>\n",
    "                               <li>\n",
    "                                 <a href=\"https://blog.jupyter.org\" class=\"tab\" target=\"_blank\">Blog</a>\n",
    "                               </li>\n",
    "                </ul>\n",
    "            </div>\n",
    "            <!-- /.navbar-collapse -->\n",
    "        </div>\n",
    "        <!-- /.container -->\n",
    "    </div>\n",
    "</nav>\n",
    "\n",
    "    <section>\n",
    "    <section>\n",
    "    <div class=\"jumbotron\">\n",
    "        <div class=\"row\">\n",
    "            <div class=\"col-md-12\">\n",
    "                <div class=\"img-container\">\n",
    "                    <span><img class=\"img-responsive fade-in one\" src=\"assets/circle1.svg\" alt=\"circle of programming language icons\"></span>\n",
    "                </div>\n",
    "                <div class=\"img-container\">\n",
    "                    <span><img class=\"img-responsive fade-in two\" src=\"assets/circle2.svg\" alt=\"circle of programming language icons\"></span>\n",
    "                </div>\n",
    "                <div class=\"img-container\">\n",
    "                    <span><img class=\"img-responsive fade-in three\" src=\"assets/circle3.svg\" alt=\"circle of programming language icons\"></span>\n",
    "                </div>\n",
    "                <div class=\"img-container\">\n",
    "                    <img class=\"img-responsive\" id=\"main-logo\" src=\"assets/main-logo.svg\" alt=\"jupyter logo\">\n",
    "                </div>\n",
    "                <img class=\"img-responsive\" src=\"assets/white-background.svg\" alt=\"white background\">\n",
    "            </div>\n",
    "        </div>\n",
    "    </div>\n",
    "    <div class=\"container\">\n",
    "        <div class=\"row\">\n",
    "            <div class=\"col-md-12\">\n",
    "                <div class=\"col-md-8 col-md-offset-2\">\n",
    "                <h4 class=\"jumbotron-text\">Project Jupyter exists to develop open-source software, open-standards, \n",
    "                    and services for interactive computing across dozens of programming languages.</h4>\n",
    "                </div>\n",
    "             </div>\n",
    "        </div>\n",
    "    </div>\n",
    "</section>\n",
    "\n",
    "<section>\n",
    "    <div class=\"jupytercon-section\">\n",
    "        <div class=\"container-fluid\">\n",
    "            <div class=\"row\">\n",
    "                <div class=\"col-xs-12\">\n",
    "                    <h2 class=\"jupytercon-header\">JupyterCon 2018</h2>\n",
    "                    <h3 class=\"jupytercon-subheader\">August 21 - 25</h3>\n",
    "                    <div class=\"jupytercon-button\">\n",
    "                        <a class=\"orange-button\" href=\"https://conferences.oreilly.com/jupyter/jup-ny?cmp=ex-data-confreg-home-jpny18_pj_site\" target=\"_blank\">Learn more</a>\n",
    "                    </div>\n",
    "                </div>\n",
    "            </div>\n",
    "        </div>\n",
    "    </div>\n",
    "</section>\n",
    "\n",
    "<section id=\"about-notebook\">\n",
    "    <div class=\"section-white\">\n",
    "        <div class=\"notebook-preview\">\n",
    "            <div class=\"container\">\n",
    "                <div class=\"row\">\n",
    "                    <div class=\"col-md-6\">\n",
    "                        <img class=\"img-responsive\" src=\"assets/jupyterpreview.png\" id=\"portal\" alt=\"example notebook of Lorenz differential equations\"/>\n",
    "                    </div>\n",
    "                    <div class=\"col-md-6 nb-highlight-text\">\n",
    "                        <h3>The Jupyter Notebook</h3>\n",
    "                        <h4 class=\"nb-desc\">The Jupyter Notebook is an open-source web application that allows you to create and share \n",
    "                            documents that contain live code, equations, visualizations and narrative text. Uses include: data cleaning \n",
    "                            and transformation, numerical simulation, statistical modeling, data visualization, machine learning, and much more.</h4>\n",
    "                    </div>\n",
    "                    <div>\n",
    "                        <a class=\"orange-button\" href=\"try\">Try it in your browser</a>\n",
    "                        <a class=\"orange-button install-button\" href=\"install.html\">Install the Notebook</a>\n",
    "                    </div>\n",
    "                </div>\n",
    "            </div>\n",
    "        </div>\n",
    "        <div class=\"notebook-features\">\n",
    "            <div class=\"container\">\n",
    "                <div class=\"row\">\n",
    "                    <div class=\"col-md-3 notebook-feature\">\n",
    "                        <img class=\"img-responsive language\" src=\"assets/language.svg\" id=\"feature\" alt=\"icon to represent a language\">\n",
    "                        <h4>Language of choice</h4>\n",
    "                        <p>The Notebook has support for over 40 programming languages, including Python, R, Julia, and Scala.</p>\n",
    "                    </div>\n",
    "                    <div class=\"col-md-3 notebook-feature\">\n",
    "                        <img class=\"img-responsive share\" src=\"assets/share.svg\" alt=\"icon to represent sharing a notebook\">\n",
    "                        <h4>Share notebooks</h4>\n",
    "                        <p> Notebooks can be shared with others using email, Dropbox, GitHub and the <a href=\"http://nbviewer.jupyter.org/\">Jupyter Notebook Viewer</a>.</p>\n",
    "                    </div>\n",
    "                    <div class=\"col-md-3 notebook-feature\">\n",
    "                        <img class=\"img-responsive widget\" src=\"assets/widget.svg\" alt=\"icon to represent an interactive widget\">\n",
    "                        <h4>Interactive output</h4>\n",
    "                        <p>Your code can produce rich, interactive output: HTML, images, videos, LaTeX, and custom MIME types.</p>\n",
    "                    </div>\n",
    "                    <div class=\"col-md-3 notebook-feature\">\n",
    "                        <img class=\"img-responsive data\" src=\"assets/spark.svg\" alt=\"spark logo to represent big data\">\n",
    "                        <h4> Big data integration</h4>\n",
    "                        <p>Leverage big data tools, such as Apache Spark, from Python, R and Scala. Explore that same data with pandas, scikit-learn, ggplot2, TensorFlow.</p>\n",
    "                    </div>\n",
    "                </div>\n",
    "            </div>\n",
    "        </div>\n",
    "    </div>\n",
    "</section>\n",
    "<section id=\"jupyterhub\">\n",
    "    <div class=\"section-grey\">\n",
    "        <div class=\"container\">\n",
    "            <div class=\"row\">\n",
    "            <div>\n",
    "                <div class=\"hublogo col-md-offset-4 col-md-4 col-md-offset-4\">\n",
    "                    <img src=\"assets/hublogo.svg\" class=\"img-responsive\" style=\"margin:0 auto;\" id=\"hublogo\" alt=\"jupyterhub logo\">\n",
    "                </div>\n",
    "                <div class=\"col-md-offset-3 col-md-6 col-md-offset-3\" style=\"margin-bottom:-36px\">\n",
    "                    <p style=\"padding-top:24px; text-align: center\">A multi-user version of the notebook designed for companies, classrooms and research labs</p>\n",
    "                </div>\n",
    "            </div>\n",
    "            <div class=\"hubfeatures col-md-12\">\n",
    "                <div class=\"feature1 hubfeature col-md-3 authentication\">\n",
    "                    <img src=\"assets/authentication.svg\" class=\"img-responsive\" alt=\"authentication icon\">\n",
    "                    <h4>Pluggable authentication</h4>\n",
    "                    <p>Manage users and authentication with PAM, OAuth or integrate with your own directory service system.</p>\n",
    "                </div>\n",
    "                <div class=\"feature-middle hubfeature col-md-3\">\n",
    "                    <img src=\"assets/central.svg\" class=\"img-responsive\" alt=\"icon to represent centralized deployment\">\n",
    "                    <h4>Centralized deployment</h4>\n",
    "                    <p>Deploy the Jupyter Notebook to thousands of users in your organization on centralized infrastructure on- or off-site.</p>\n",
    "                </div>\n",
    "                <div class=\"feature-middle hubfeature col-md-3\">\n",
    "                    <img src=\"assets/container.svg\" class=\"img-responsive\" alt=\"container icon\">\n",
    "                    <h4>Container friendly</h4>\n",
    "                    <p>Use Docker and Kubernetes to scale your deployment, isolate user processes, and simplify software installation.</p>\n",
    "                </div>\n",
    "                <div class=\"feature4 hubfeature col-md-3\">\n",
    "                    <img src=\"assets/data.svg\" class=\"img-responsive\" id=\"data\" alt=\"icon to represent data\">\n",
    "                    <h4>Code meets data</h4>\n",
    "                    <p>Deploy the Notebook next to your data to provide unified software management and data access within your organization.</p>\n",
    "                </div>\n",
    "            </div>\n",
    "            <div class=\"col-md-12\" style=\"text-align: center; margin-top: 24px;\">\n",
    "                <a class=\"orange-button\" href=\"https://github.com/jupyter/jupyterhub\">Learn more about JupyterHub</a>\n",
    "            </div>\n",
    "            </div>\n",
    "        </div>\n",
    "    </div>\n",
    "</section>\n",
    "<section id=\"current-use\">\n",
    "    <div class=\"section-white\">\n",
    "        <div class=\"container\">\n",
    "            <div class=\"row\">\n",
    "                <h3 class=\"section-header\">Currently in use at</h3>\n",
    "                <ul class=\"companies\">\n",
    "                    <li class=\"col\"><a href=\"http://www.google.com\"><img src=\"assets/google.svg\" class=\"greydout\" alt=\"Google\"></a></li>\n",
    "                    <li class=\"col\"><a href=\"http://www.microsoft.com\"><img src=\"assets/Microsoft.svg\" class=\"greydout\" alt=\"Microsoft\"></a></li>\n",
    "                    <li class=\"col\"><a href=\"http://www.ibm.com\"><img src=\"assets/IBM.svg\" class=\"greydout\" alt=\"IBM\"></a></li>\n",
    "                    <li class=\"col\"><a href=\"http://www.bloomberg.com\"><img src=\"assets/bloomberg.svg\" class=\"greydout\" alt=\"Bloomberg\"></a></li>\n",
    "                    <li class=\"col\"><a href=\"http://www.oreilly.com\"><img src=\"assets/oreilly.svg\" class=\"greydout\" alt=\"OReilly\"></a></li>\n",
    "                    <li class=\"col\"><a href=\"https://www.anaconda.com/\"><img src=\"assets/anaconda.svg\" class=\"greydout\" alt=\"Anaconda\"></a></li>\n",
    "                    <li class=\"col\"><a href=\"http://developer.rackspace.com\"><img src=\"assets/rackspace.svg\" class=\"greydout\" alt=\"Rackspace\"></a></li>\n",
    "                    <li class=\"col\"><a href=\"http://www.soundcloud.com\"><img src=\"assets/soundcloud.svg\" class=\"greydout\" alt=\"SoundCloud\"></a></li>\n",
    "                    <li class=\"col\"><a href=\"https://www.quantopian.com/\"><img src=\"assets/quantopian.svg\" class=\"greydout\" alt=\"Quantopian\"></a></li>\n",
    "                    <li class=\"col\"><a href=\"http://www.netapp.com/us/\"><img src=\"assets/netapp.svg\" class=\"greydout\" alt=\"NetApp\"></a></li>\n",
    "                    <li class=\"col\"><a href=\"http://software-carpentry.org\"><img src=\"assets/carpentry.svg\" class=\"greydout\" alt=\"Carpentry\"></a></li>\n",
    "                    <li class=\"col\"><a href=\"https://www.janelia.org/\"><img src=\"assets/janelia.svg\" class=\"greydout\" alt=\"Janelia\"></a></li>\n",
    "                    <li class=\"col\"><a href=\"http://codeneuro.org/\"><img src=\"assets/codeneuro.svg\" class=\"greydout\" alt=\"CodeNeuro\"></a></li>\n",
    "                    <li class=\"col\"><a href=\"\"><img src=\"assets/nsite.svg\" class=\"greydout\" alt=\"NSite\"></a></li>\n",
    "                    <li class=\"col\"><a href=\"https://cocalc.com/\"><img src=\"assets/cocalc.svg\" class=\"greydout\" alt=\"CoCalc\"></a></li>\n",
    "                    <li class=\"col\"><a href=\"https://www.brynmawr.edu\"><img src=\"assets/brynmawr.svg\" class=\"greydout\" alt=\"BrynMawr\"></a></li>\n",
    "                    <li class=\"col\"><a href=\"http://www.calpoly.edu\"><img src=\"assets/calpoly.svg\" class=\"greydout\" alt=\"CalPoly\"></a></li>\n",
    "                    <li class=\"col\"><a href=\"http://www.berkeley.edu\"><img src=\"assets/Berkeley.svg\" class=\"greydout\" alt=\"Berkeley\"></a></li>\n",
    "                    <li class=\"col\"><a href=\"http://www.sheffield.ac.uk/\"><img src=\"assets/sheffield.svg\" class=\"greydout\" alt=\"Sheffield\"></a></li>\n",
    "                    <li class=\"col\"><a href=\"http://www.gwu.edu/\"><img src=\"assets/washington.svg\" class=\"greydout\" alt=\"Washington\"></a></li>\n",
    "                    <li class=\"col\"><a href=\"http://www.clemson.edu/\"><img src=\"assets/clemson.svg\" class=\"greydout\" alt=\"Clemson\"></a></li>\n",
    "                    <li class=\"col\"><a href=\"https://msu.edu/\"><img src=\"assets/michigan-state.svg\" class=\"greydout\" alt=\"Michigan State University\"></a></li>\n",
    "                    <li class=\"col\"><a href=\"http://www.northwestern.edu/\"><img src=\"assets/northwestern.svg\" class=\"greydout\" alt=\"Northwestern University\"></a></li>\n",
    "                    <li class=\"col\"><a href=\"http://www.nyu.edu\"><img src=\"assets/NYU.svg\" class=\"greydout\" alt=\"NYU\"></a></li>\n",
    "                    <li class=\"col\"><a href=\"http://www.nasa.gov\"><img src=\"assets/NASA.svg\" class=\"greydout\" alt=\"NASA\"></a></li>\n",
    "                    <li class=\"col\"><a href=\"http://ayasdi.com\"><img src=\"assets/ayasdi.svg\" class=\"greydout\" alt=\"Ayasdi\"></a></li>\n",
    "                    <li class=\"col\"><a href=\"https://www.thedataincubator.com\"><img src=\"assets/tdi.svg\" class=\"greydout\" alt=\"The Data Incubator\"></a></li>\n",
    "                </ul>\n",
    "            </div>\n",
    "        </div>\n",
    "    </div>\n",
    "</section>\n",
    "<section id=\"architecture\">\n",
    "    <div class=\"section-grey\">\n",
    "        <div class=\"container\">\n",
    "            <div class=\"architecturedescription\">\n",
    "                <img src=\"assets/architectureicon2.svg\" class=\"section-icon\" alt=\"icon to represent jupyter architecture\">\n",
    "                <h3 class=\"section-header\">Open Standards for Interactive Computing</h3>\n",
    "                <h4 class=\"support-paragraph\">The Jupyter Notebook is based on a set of open standards for interactive computing. Think HTML and CSS for interactive computing on the web. These open standards can be leveraged by third party developers to build customized applications with embedded interactive computing.</h4>\n",
    "            </div>\n",
    "            <div class=\"architecturecontent row col-md-12\">\n",
    "                <div class=\"card col-md-4\">\n",
    "                    <div class=\"arcfeature\" id=\"arcfeature1\">\n",
    "                        <div class=\"container\">\n",
    "                            <div class=\"front\">\n",
    "                                <img src=\"assets/notebook-format.svg\" alt=\"icon to represent notebook format\">\n",
    "                                <a class=\"arc-button bt\">Learn more</a>\n",
    "                            </div>\n",
    "                            <div class=\"front flipped content-back\">\n",
    "                                <h3>The Notebook Document Format</h3>\n",
    "                                <p id=\"document\">Jupyter Notebooks are an open document format based on JSON. They contain a complete record of the user's sessions and include code, narrative text, equations and rich output. </p>\n",
    "                                <a class=\"arc-button bt\">Go back</a>\n",
    "                            </div>\n",
    "                        </div>\n",
    "                    </div>\n",
    "                </div>\n",
    "                <div class=\"card col-md-4\">\n",
    "                    <div class=\"arcfeature\" id=\"protocol\">\n",
    "                        <div class=\"container\">\n",
    "                            <div class=\"front2\">\n",
    "                                <img src=\"assets/protocol.svg\" alt=\"icon to represent a protocol\">\n",
    "                                <a class=\"arc-button bt1\">Learn more</a>\n",
    "                            </div>\n",
    "                            <div class=\"front2 flipped content-back\">\n",
    "                                <h3>Interactive Computing Protocol</h3>\n",
    "                                <p>The Notebook communicates with computational Kernels using the Interactive Computing Protocol, an open network protocol based on JSON data over ZMQ and WebSockets.</p>\n",
    "                                <a class=\"arc-button bt1\">Go back</a>\n",
    "                            </div>\n",
    "                        </div>\n",
    "                    </div>\n",
    "                </div>\n",
    "                <div class=\"card col-md-4\">\n",
    "                    <div class=\"arcfeature\" id=\"kernel\">\n",
    "                        <div class=\"container\">\n",
    "                            <div class=\"front3\">\n",
    "                                <img src=\"assets/kernel.svg\" alt=\"icon that looks like a terminal represents kernel\">\n",
    "                                <a class=\"arc-button bt2\">Learn more</a>\n",
    "                            </div>\n",
    "                            <div class=\"front3 flipped content-back\">\n",
    "                                <h3>Kernels</h3>\n",
    "                                <p id=\"block3\">Kernels are processes that run interactive code in a particular programming language and return output to the user. Kernels also respond to tab completion and introspection requests.</p>\n",
    "                                <a class=\"arc-button bt2\">Go back</a>\n",
    "                            </div>\n",
    "                        </div>\n",
    "                    </div>\n",
    "                </div>\n",
    "            </div>\n",
    "        </div>\n",
    "    </div>\n",
    "</section>\n",
    "\n",
    "    </section>\n",
    "\n",
    "    <footer>\n",
    "    <div class=\"footer\" role=\"navigation\">\n",
    "        <div class=\"container\">\n",
    "            <div class=\"navbar-text\">\n",
    "                <ul class=\"footer-text\">\n",
    "                    <li><a href=\"/index.html\">Home</a></li>\n",
    "                               <li><a href=\"/install\">Install</a></li>\n",
    "                               <li><a href=\"/about\">About Us</a></li>\n",
    "                               <li><a href=\"/community\">Community</a></li>\n",
    "                               <li><a href=\"/documentation\">Documentation</a></li>\n",
    "                               <li><a href=\"https://nbviewer.jupyter.org\" target=\"_blank\">NBViewer</a></li>\n",
    "                               <li><a href=\"/widgets\">Widgets</a></li>\n",
    "                               <li><a href=\"https://blog.jupyter.org\" target=\"_blank\">Blog</a></li>\n",
    "                    <!--2018-07-10 13:33:42 +0000-->\n",
    "                </ul>\n",
    "                <p>Copyright © 2018  Project Jupyter –\n",
    "                Last updated Tue, Jul 10, 2018</p>\n",
    "                <p>The Jupyter Trademark is registered with the U.S. Patent &amp; Trademark Office.</p>\n",
    "            </div>\n",
    "            <div class=\"follow\">\n",
    "                <a href=\"https://github.com/jupyter\" class=\"button github-button\" aria-label=\"Follow @jupyter on GitHub\"><svg version=\"1.1\" width=\"14\" height=\"14\" viewBox=\"0 0 16 16\" class=\"octicon octicon-mark-github\" aria-hidden=\"true\"><path fill-rule=\"evenodd\" d=\"M8 0C3.58 0 0 3.58 0 8c0 3.54 2.29 6.53 5.47 7.59.4.07.55-.17.55-.38 0-.19-.01-.82-.01-1.49-2.01.37-2.53-.49-2.69-.94-.09-.23-.48-.94-.82-1.13-.28-.15-.68-.52-.01-.53.63-.01 1.08.58 1.23.82.72 1.21 1.87.87 2.33.66.07-.52.28-.87.51-1.07-1.78-.2-3.64-.89-3.64-3.95 0-.87.31-1.59.82-2.15-.08-.2-.36-1.02.08-2.12 0 0 .67-.21 2.2.82.64-.18 1.32-.27 2-.27.68 0 1.36.09 2 .27 1.53-1.04 2.2-.82 2.2-.82.44 1.1.16 1.92.08 2.12.51.56.82 1.27.82 2.15 0 3.07-1.87 3.75-3.65 3.95.29.25.54.73.54 1.48 0 1.07-.01 1.93-.01 2.2 0 .21.15.46.55.38A8.013 8.013 0 0 0 16 8c0-4.42-3.58-8-8-8z\"></path></svg> <span>Follow @jupyter</span></a>\n",
    "                <br><a href=\"https://twitter.com/ProjectJupyter\" class=\"twitter-follow-button\" data-show-count=\"false\">Follow @ProjectJupyter</a>\n",
    "            </div>\n",
    "        </div>\n",
    "    </div>\n",
    "</footer>\n",
    "\n",
    "    <!-- jQuery -->\n",
    "    <script src=\"/js/jquery.js\"></script>\n",
    "\n",
    "    <!-- Bootstrap Core JavaScript -->\n",
    "    <script src=\"/js/bootstrap.min.js\"></script>\n",
    "    <script src=\"/js/architecture.js\"></script>\n",
    "    <script src=\"/js/simon.js\"></script>\n",
    "    <script>!function(d,s,id){var js,fjs=d.getElementsByTagName(s)[0],p=/^http:/.test(d.location)?'http':'https';if(!d.getElementById(id)){js=d.createElement(s);js.id=id;js.src=p+'://platform.twitter.com/widgets.js';fjs.parentNode.insertBefore(js,fjs);}}(document, 'script', 'twitter-wjs');</script>\n",
    "\n",
    "\n",
    "  </body>\n",
    "\n",
    "</html>\n"
   ]
  },
  {
   "cell_type": "code",
   "execution_count": null,
   "metadata": {},
   "outputs": [],
   "source": []
  }
 ],
 "metadata": {
  "kernelspec": {
   "display_name": "Python 3",
   "language": "python",
   "name": "python3"
  },
  "language_info": {
   "codemirror_mode": {
    "name": "ipython",
    "version": 3
   },
   "file_extension": ".py",
   "mimetype": "text/x-python",
   "name": "python",
   "nbconvert_exporter": "python",
   "pygments_lexer": "ipython3",
   "version": "3.6.6"
  }
 },
 "nbformat": 4,
 "nbformat_minor": 2
}
