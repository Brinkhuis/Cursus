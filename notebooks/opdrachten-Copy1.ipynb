{
 "cells": [
  {
   "cell_type": "markdown",
   "metadata": {},
   "source": [
    "# Opdrachten"
   ]
  },
  {
   "cell_type": "markdown",
   "metadata": {},
   "source": [
    "### opdracht 1: string"
   ]
  },
  {
   "cell_type": "markdown",
   "metadata": {},
   "source": [
    "In onderstaande cell is de string `opdracht` gedefinieerd."
   ]
  },
  {
   "cell_type": "code",
   "execution_count": 1,
   "metadata": {},
   "outputs": [],
   "source": [
    "opdracht = '<<< n-o-h-t-y-p >>>'"
   ]
  },
  {
   "cell_type": "markdown",
   "metadata": {},
   "source": [
    "De opdracht is om uit de string `opdracht` de waarde 'Python' te verkrijgen.  \n",
    "Maak daarbij uitsluitend gebruik van _subsetting_ en _class methods_.  \n",
    "\n",
    "Er zijn verschillende oplossingen mogelijk. Probeer er ten minst twee te vinden.  \n",
    "Wel van de gevonden oplosingen vind je het meest _Pythonic_?  \n",
    "\n",
    "Waar nodig kun je de Jupyter Notebooks [python](https://nbviewer.jupyter.org/github/Brinkhuis/Cursus/blob/master/notebooks/python.ipynb) en [datatypes](https://github.com/Brinkhuis/Cursus/blob/master/notebooks/datatypes.ipynb) er nog even op na slaan.  \n",
    "Vergeet ook niet om je vrienden [Google](https://www.google.com) en [Stack Overflow](https://stackoverflow.com) te raadplegen als je er niet uitkomt"
   ]
  },
  {
   "cell_type": "code",
   "execution_count": null,
   "metadata": {},
   "outputs": [],
   "source": [
    "# YOUR CODE HERE\n",
    "raise NotImplementedError('Opdracht niet gemaakt?')"
   ]
  },
  {
   "cell_type": "markdown",
   "metadata": {},
   "source": [
    "### Uitwerking"
   ]
  },
  {
   "cell_type": "code",
   "execution_count": 2,
   "metadata": {},
   "outputs": [
    {
     "data": {
      "text/plain": [
       "str"
      ]
     },
     "execution_count": 2,
     "metadata": {},
     "output_type": "execute_result"
    }
   ],
   "source": [
    "# check data type\n",
    "type(opdracht)"
   ]
  },
  {
   "cell_type": "code",
   "execution_count": 3,
   "metadata": {},
   "outputs": [
    {
     "data": {
      "text/plain": [
       "'Python'"
      ]
     },
     "execution_count": 3,
     "metadata": {},
     "output_type": "execute_result"
    }
   ],
   "source": [
    "# uitwerking 1\n",
    "opdracht[-5:3:-2].capitalize()"
   ]
  },
  {
   "cell_type": "code",
   "execution_count": 4,
   "metadata": {},
   "outputs": [
    {
     "data": {
      "text/plain": [
       "'Python'"
      ]
     },
     "execution_count": 4,
     "metadata": {},
     "output_type": "execute_result"
    }
   ],
   "source": [
    "# uitwerking 2\n",
    "opdracht[4:-4][::-2].capitalize()"
   ]
  },
  {
   "cell_type": "code",
   "execution_count": 5,
   "metadata": {},
   "outputs": [
    {
     "data": {
      "text/plain": [
       "'Python'"
      ]
     },
     "execution_count": 5,
     "metadata": {},
     "output_type": "execute_result"
    }
   ],
   "source": [
    "# uitwerking 3\n",
    "opdracht[4:-4].replace('-', '')[::-1].capitalize()"
   ]
  },
  {
   "cell_type": "code",
   "execution_count": 6,
   "metadata": {},
   "outputs": [
    {
     "data": {
      "text/plain": [
       "'Python'"
      ]
     },
     "execution_count": 6,
     "metadata": {},
     "output_type": "execute_result"
    }
   ],
   "source": [
    "# uitwerking 4\n",
    "opdracht.split()[1].replace('-', '')[::-1].capitalize()"
   ]
  },
  {
   "cell_type": "code",
   "execution_count": 7,
   "metadata": {},
   "outputs": [
    {
     "data": {
      "text/plain": [
       "'Python'"
      ]
     },
     "execution_count": 7,
     "metadata": {},
     "output_type": "execute_result"
    }
   ],
   "source": [
    "# uitwerking 5\n",
    "opdracht.strip('< >').replace('-', '')[::-1].capitalize()"
   ]
  },
  {
   "cell_type": "markdown",
   "metadata": {},
   "source": [
    "### Opdracht 2: list"
   ]
  },
  {
   "cell_type": "code",
   "execution_count": 8,
   "metadata": {},
   "outputs": [],
   "source": [
    "opdracht = 'Without requirements or design, programming is the art of adding bugs to an empty text file.'.split()"
   ]
  },
  {
   "cell_type": "code",
   "execution_count": 9,
   "metadata": {},
   "outputs": [],
   "source": [
    "uitkomst = 'Without requirements or design, coding Python is the art of adding bugs to an empty Jupyter Notebook.'.split()"
   ]
  },
  {
   "cell_type": "markdown",
   "metadata": {},
   "source": [
    "In deze opdracht ga je aan de slag met de list `opdracht`.  \n",
    "Deze pas je zodanig aan de de uitkomst ervan gelijk is aan de list `uitkomst`.\n",
    "Maak daarbij uitsluitend gebruik van _subsetting_ en _class methods_.  \n",
    "\n",
    "Je kunt je uitwerking eenvoud controleren door het statement `opdracht == uitkomst` uit te voeren. \n",
    "\n",
    "Er zijn verschillende oplossingen mogelijk. Voor deze opdracht is het voldoende als je er één uitwerkt.  \n",
    "De oplossing bestaat uit meerdere regels code.  \n",
    "\n",
    "Wellicht leuk om te weten dat je met het statement `' '.join(opdracht)` de list 'opdracht' kunt omzetten naar een string object.\n",
    "\n",
    "Waar nodig kun je de Jupyter Notebooks [python](https://nbviewer.jupyter.org/github/Brinkhuis/Cursus/blob/master/notebooks/python.ipynb) en [datatypes](https://github.com/Brinkhuis/Cursus/blob/master/notebooks/datatypes.ipynb) er nog even op na slaan.  "
   ]
  },
  {
   "cell_type": "code",
   "execution_count": null,
   "metadata": {},
   "outputs": [],
   "source": [
    "# YOUR CODE HERE\n",
    "raise NotImplementedError('Opdracht niet gemaakt?')"
   ]
  },
  {
   "cell_type": "markdown",
   "metadata": {},
   "source": [
    "### Uitwerking"
   ]
  },
  {
   "cell_type": "code",
   "execution_count": 10,
   "metadata": {},
   "outputs": [
    {
     "data": {
      "text/plain": [
       "True"
      ]
     },
     "execution_count": 10,
     "metadata": {},
     "output_type": "execute_result"
    }
   ],
   "source": [
    "# uitwerking 1\n",
    "opdracht = 'Without requirements or design, programming is the art of adding bugs to an empty text file.'.split()\n",
    "\n",
    "opdracht[opdracht.index('programming')] = 'coding'\n",
    "opdracht.insert(opdracht.index('coding') + 1, 'Python')\n",
    "opdracht.pop()\n",
    "opdracht.pop()\n",
    "opdracht.extend(['Jupyter', 'Notebook.'])\n",
    "\n",
    "opdracht == uitkomst"
   ]
  },
  {
   "cell_type": "code",
   "execution_count": 11,
   "metadata": {},
   "outputs": [
    {
     "data": {
      "text/plain": [
       "True"
      ]
     },
     "execution_count": 11,
     "metadata": {},
     "output_type": "execute_result"
    }
   ],
   "source": [
    "# uitwerking 2\n",
    "opdracht = 'Without requirements or design, programming is the art of adding bugs to an empty text file.'.split()\n",
    "\n",
    "opdracht[opdracht.index('programming')] = 'coding'\n",
    "opdracht.insert(opdracht.index('coding') + 1, 'Python')\n",
    "opdracht.remove('text')\n",
    "opdracht.remove('file.')\n",
    "opdracht.append('Jupyter')\n",
    "opdracht.append('Notebook.')\n",
    "\n",
    "opdracht == uitkomst"
   ]
  },
  {
   "cell_type": "markdown",
   "metadata": {},
   "source": [
    "### Opdracht 3: list comprehension"
   ]
  },
  {
   "cell_type": "markdown",
   "metadata": {},
   "source": [
    "In deze opdracht ga je temperaturen tussen 0 en 100 (exclusief) in graden Fahrenheit converteren naar temperaturen in graden Celsius.  \n",
    "\n",
    "Het resultaat is een _list object_ met temperaturen in graden Celsius.  \n",
    "Echter, in deze lijst mogen uitsluitend waarden voorkomen groter zijn dan 10 én die qua waarde een geheel getal zijn (bijvoorbeeld _wel_ `20.0` maar _niet_ `20.55555`).\n",
    "\n",
    "Onderstaand de formule voor conversie van graden Fahrenheit naar graden Celsius."
   ]
  },
  {
   "cell_type": "markdown",
   "metadata": {},
   "source": [
    "$C = (F - 32) \\times \\frac{5}{9}$"
   ]
  },
  {
   "cell_type": "markdown",
   "metadata": {},
   "source": [
    "Waar nodig kun je de Jupyter Notebooks [python](https://nbviewer.jupyter.org/github/Brinkhuis/Cursus/blob/master/notebooks/python.ipynb) en [datatypes](https://github.com/Brinkhuis/Cursus/blob/master/notebooks/datatypes.ipynb) er nog even op na slaan.  \n",
    "\n",
    "Ter controle kun je je eigen resultaat vergelijken met onderstaande list `resultaat`."
   ]
  },
  {
   "cell_type": "code",
   "execution_count": 13,
   "metadata": {},
   "outputs": [],
   "source": [
    "resultaat = [15.0, 20.0, 25.0, 30.0, 35.0]"
   ]
  },
  {
   "cell_type": "markdown",
   "metadata": {},
   "source": [
    "Ook hier zijn meerdere oplossingen mogelijk.\n",
    "\n",
    "Welke van jouw oplossingen geeft de beste performance?"
   ]
  },
  {
   "cell_type": "code",
   "execution_count": null,
   "metadata": {},
   "outputs": [],
   "source": [
    "# YOUR CODE HERE\n",
    "raise NotImplementedError('Opdracht niet gemaakt?')"
   ]
  },
  {
   "cell_type": "markdown",
   "metadata": {},
   "source": [
    "### Uitwerking"
   ]
  },
  {
   "cell_type": "code",
   "execution_count": 20,
   "metadata": {},
   "outputs": [
    {
     "name": "stdout",
     "output_type": "stream",
     "text": [
      "178 µs ± 3.48 µs per loop (mean ± std. dev. of 7 runs, 10000 loops each)\n"
     ]
    }
   ],
   "source": [
    "# uitwerking 1\n",
    "%timeit [((f - 32) * 5/9) for f in range(100) if ((f - 32) * 5/9) > 10 and int(str((f - 32) * 5/9).split('.')[-1]) == 0]"
   ]
  },
  {
   "cell_type": "markdown",
   "metadata": {},
   "source": [
    "Korte performance analyse:  \n",
    "* 100 loops\n",
    "* conversie van float naar string\n",
    "* split string\n",
    "* subsetting\n",
    "* conversie van string naar int"
   ]
  },
  {
   "cell_type": "code",
   "execution_count": 21,
   "metadata": {},
   "outputs": [
    {
     "name": "stdout",
     "output_type": "stream",
     "text": [
      "152 µs ± 827 ns per loop (mean ± std. dev. of 7 runs, 10000 loops each)\n"
     ]
    }
   ],
   "source": [
    "# uitwerking 2\n",
    "%timeit [((f - 32) * 5/9) for f in range(100) if ((f - 32) * 5/9) > 10 and str((f - 32) * 5/9).split('.')[-1] == '0']"
   ]
  },
  {
   "cell_type": "markdown",
   "metadata": {},
   "source": [
    "Korte performance analyse:\n",
    "* 100 loops\n",
    "* conversie van float naar string\n",
    "* split string\n",
    "* subsetting"
   ]
  },
  {
   "cell_type": "code",
   "execution_count": 23,
   "metadata": {},
   "outputs": [
    {
     "name": "stdout",
     "output_type": "stream",
     "text": [
      "58.5 µs ± 4.39 µs per loop (mean ± std. dev. of 7 runs, 10000 loops each)\n"
     ]
    }
   ],
   "source": [
    "# uitwerking 3\n",
    "%timeit [((f - 32) * 5/9) for f in range(100) if ((f - 32) * 5/9) > 10 and ((f - 32) * 5/9) == int((f - 32) * 5/9)]"
   ]
  },
  {
   "cell_type": "markdown",
   "metadata": {},
   "source": [
    "Korte performance analyse:\n",
    "* 100 loops\n",
    "* conversie van float naar int"
   ]
  },
  {
   "cell_type": "code",
   "execution_count": 27,
   "metadata": {},
   "outputs": [
    {
     "name": "stdout",
     "output_type": "stream",
     "text": [
      "31.2 µs ± 845 ns per loop (mean ± std. dev. of 7 runs, 10000 loops each)\n"
     ]
    }
   ],
   "source": [
    "# uitwerking 4\n",
    "%timeit [((f - 32) * 5/9) for f in range(100) if ((f - 32) * 5/9) > 10 and (f - 32) % 9 == 0]"
   ]
  },
  {
   "cell_type": "markdown",
   "metadata": {},
   "source": [
    "Korte performance analyse:\n",
    "* 100 loops"
   ]
  },
  {
   "cell_type": "code",
   "execution_count": 17,
   "metadata": {},
   "outputs": [
    {
     "name": "stdout",
     "output_type": "stream",
     "text": [
      "3.47 µs ± 130 ns per loop (mean ± std. dev. of 7 runs, 100000 loops each)\n"
     ]
    }
   ],
   "source": [
    "# uitwerking 5\n",
    "%timeit [(c * 5/9 + 32) for c in range(0, 100, 9) if (c * 5/9 + 32) > 50]"
   ]
  },
  {
   "cell_type": "markdown",
   "metadata": {},
   "source": [
    "Korte performance analyse:\n",
    "* 12 loops !!\n",
    "\n",
    "Toelichting:  \n",
    "* In de conversieformule wordt er gedeeld door 9.\n",
    "* Elk veelvoud van 9 (tussen de 0 en de 100) levert daarom een geheel getal (integer) op bij delen door 9.\n",
    "* En dat blijft een geheel getal als je er 32 bij optelt.\n",
    "* Met deze wetenschap kun je het aantal loops flink terug brengen!\n",
    "* Hiermee heb je tevens het voordeel dat er één conditie minder achter het if-statement nodig is.\n",
    "* Daarmee is deze oplossing ongeveer 6x sneller dan de '2nd best solution' en ongeveer 40x sneller dan uitwerking nr 1."
   ]
  },
  {
   "cell_type": "markdown",
   "metadata": {},
   "source": [
    "### Opdracht 4a: for"
   ]
  },
  {
   "cell_type": "markdown",
   "metadata": {},
   "source": [
    "Maak een `for` loop die de getallen van 1 tot en met 100 afloopt.  \n",
    "\n",
    "Test voor elk getal of dat deelbaar is door 2, 3, 4 of 5.  \n",
    "\n",
    "Print alleen die getallen die **_niet_** niet deelbaar zijn door 2, 3, 4 of 5.  \n",
    "\n",
    "Print aan het eind ook hoeveel van deze getallen er gevonden zijn."
   ]
  },
  {
   "cell_type": "code",
   "execution_count": null,
   "metadata": {},
   "outputs": [],
   "source": [
    "# YOUR CODE HERE\n",
    "raise NotImplementedError('Opdracht niet gemaakt?')"
   ]
  },
  {
   "cell_type": "markdown",
   "metadata": {},
   "source": [
    "### Uitwerking"
   ]
  },
  {
   "cell_type": "code",
   "execution_count": 18,
   "metadata": {},
   "outputs": [
    {
     "name": "stdout",
     "output_type": "stream",
     "text": [
      "1\n",
      "7\n",
      "11\n",
      "13\n",
      "17\n",
      "19\n",
      "23\n",
      "29\n",
      "31\n",
      "37\n",
      "41\n",
      "43\n",
      "47\n",
      "49\n",
      "53\n",
      "59\n",
      "61\n",
      "67\n",
      "71\n",
      "73\n",
      "77\n",
      "79\n",
      "83\n",
      "89\n",
      "91\n",
      "97\n",
      "\n",
      "Er zijn 26 getallen gevonden die niet deelbaar zijn door 2, 3, 4 of 5.\n"
     ]
    }
   ],
   "source": [
    "# uitwerking 1\n",
    "aantal = 0\n",
    "for num in range(1, 101):\n",
    "    if num % 2 == 0 or num % 3 == 0 or num % 4 == 0 or num % 5 == 0:\n",
    "        continue\n",
    "    aantal += 1\n",
    "    print(num)\n",
    "print('\\nEr zijn {} getallen gevonden die niet deelbaar zijn door 2, 3, 4 of 5.'.format(aantal))"
   ]
  },
  {
   "cell_type": "code",
   "execution_count": 19,
   "metadata": {},
   "outputs": [
    {
     "name": "stdout",
     "output_type": "stream",
     "text": [
      "[1, 7, 11, 13, 17, 19, 23, 29, 31, 37, 41, 43, 47, 49, 53, 59, 61, 67, 71, 73, 77, 79, 83, 89, 91, 97]\n",
      "Er zijn 26 getallen gevonden die niet deelbaar zijn door 2, 3, 4 of 5.\n"
     ]
    }
   ],
   "source": [
    "# uitwerking 2\n",
    "resultaat = list()\n",
    "for num in range(1, 101):\n",
    "    if num % 2 == 0 or num % 3 == 0 or num % 4 == 0 or num % 5 == 0:\n",
    "        continue\n",
    "    resultaat.append(num)\n",
    "print(resultaat)\n",
    "print('Er zijn {} getallen gevonden die niet deelbaar zijn door 2, 3, 4 of 5.'.format(len(resultaat)))"
   ]
  },
  {
   "cell_type": "code",
   "execution_count": 20,
   "metadata": {},
   "outputs": [
    {
     "name": "stdout",
     "output_type": "stream",
     "text": [
      "[1, 7, 11, 13, 17, 19, 23, 29, 31, 37, 41, 43, 47, 49, 53, 59, 61, 67, 71, 73, 77, 79, 83, 89, 91, 97]\n",
      "Er zijn 26 getallen gevonden die niet deelbaar zijn door 2, 3, 4 of 5.\n"
     ]
    }
   ],
   "source": [
    "# uitwerking 3\n",
    "resultaat = list()\n",
    "for num in range(1, 101):\n",
    "    test_resultaat = True\n",
    "    for test in range(2, 6):\n",
    "        if num % test == 0:\n",
    "            test_resultaat = False\n",
    "            break\n",
    "    if test_resultaat:\n",
    "        resultaat.append(num)\n",
    "print(resultaat)\n",
    "print('Er zijn {} getallen gevonden die niet deelbaar zijn door 2, 3, 4 of 5.'.format(len(resultaat)))"
   ]
  },
  {
   "cell_type": "markdown",
   "metadata": {},
   "source": [
    "### Opdracht 4b: while"
   ]
  },
  {
   "cell_type": "markdown",
   "metadata": {},
   "source": [
    "Maak nu dezelfde opdracht als bij 4a alleen nu met een `while True:` stratement."
   ]
  },
  {
   "cell_type": "code",
   "execution_count": null,
   "metadata": {},
   "outputs": [],
   "source": [
    "# YOUR CODE HERE\n",
    "raise NotImplementedError('Opdracht niet gemaakt?')"
   ]
  },
  {
   "cell_type": "markdown",
   "metadata": {},
   "source": [
    "### Uitwerking"
   ]
  },
  {
   "cell_type": "code",
   "execution_count": 21,
   "metadata": {},
   "outputs": [
    {
     "name": "stdout",
     "output_type": "stream",
     "text": [
      "1\n",
      "7\n",
      "11\n",
      "13\n",
      "17\n",
      "19\n",
      "23\n",
      "29\n",
      "31\n",
      "37\n",
      "41\n",
      "43\n",
      "47\n",
      "49\n",
      "53\n",
      "59\n",
      "61\n",
      "67\n",
      "71\n",
      "73\n",
      "77\n",
      "79\n",
      "83\n",
      "89\n",
      "91\n",
      "97\n",
      "\n",
      "Er zijn 26 getallen gevonden die niet deelbaar zijn door 2, 3, 4 of 5.\n"
     ]
    }
   ],
   "source": [
    "# uitwerking 1\n",
    "num = 0\n",
    "aantal = 0\n",
    "while True:\n",
    "    num += 1\n",
    "    if num % 2 == 0 or num % 3 == 0 or num % 4 == 0 or num % 5 == 0:\n",
    "        continue\n",
    "    if num > 100:\n",
    "        break\n",
    "    print(num)\n",
    "    aantal += 1\n",
    "print('\\nEr zijn {} getallen gevonden die niet deelbaar zijn door 2, 3, 4 of 5.'.format(aantal))"
   ]
  },
  {
   "cell_type": "code",
   "execution_count": 22,
   "metadata": {},
   "outputs": [
    {
     "name": "stdout",
     "output_type": "stream",
     "text": [
      "[1, 7, 11, 13, 17, 19, 23, 29, 31, 37, 41, 43, 47, 49, 53, 59, 61, 67, 71, 73, 77, 79, 83, 89, 91, 97]\n",
      "Er zijn 26 getallen gevonden die niet deelbaar zijn door 2, 3, 4 of 5.\n"
     ]
    }
   ],
   "source": [
    "# uitwerking 2\n",
    "num = 0\n",
    "resultaat = list()\n",
    "while True:\n",
    "    num += 1\n",
    "    if num % 2 == 0 or num % 3 == 0 or num % 4 == 0 or num % 5 == 0:\n",
    "        continue\n",
    "    if num > 100:\n",
    "        break\n",
    "    resultaat.append(num)\n",
    "print(resultaat)\n",
    "print('Er zijn {} getallen gevonden die niet deelbaar zijn door 2, 3, 4 of 5.'.format(len(resultaat)))"
   ]
  },
  {
   "cell_type": "code",
   "execution_count": 23,
   "metadata": {},
   "outputs": [
    {
     "name": "stdout",
     "output_type": "stream",
     "text": [
      "[1, 7, 11, 13, 17, 19, 23, 29, 31, 37, 41, 43, 47, 49, 53, 59, 61, 67, 71, 73, 77, 79, 83, 89, 91, 97]\n",
      "Er zijn 26 getallen gevonden die niet deelbaar zijn door 2, 3, 4 of 5.\n"
     ]
    }
   ],
   "source": [
    "# uitwerking 3\n",
    "num = 0\n",
    "resultaat = list()\n",
    "while True:\n",
    "    num += 1\n",
    "    teller = 0 # teller om het aantal getallen uit range(2, 6) te tellen waardoor num deelbaar is.\n",
    "    for test in range(2, 6):\n",
    "        if num % test == 0:\n",
    "            teller += 1\n",
    "            break # break de for loop als num deelbaar is door een getal uit range(2, 6)\n",
    "    if teller == 0:\n",
    "        resultaat.append(num)\n",
    "    if num >= 100:\n",
    "        break\n",
    "print(resultaat)\n",
    "print('Er zijn {} getallen gevonden die niet deelbaar zijn door 2, 3, 4 of 5.'.format(len(resultaat)))"
   ]
  },
  {
   "cell_type": "markdown",
   "metadata": {},
   "source": [
    "### Opdracht 5a: function"
   ]
  },
  {
   "cell_type": "markdown",
   "metadata": {},
   "source": [
    "Definieer een functie `deel` met als argumenten `x` en `y`.  \n",
    "\n",
    "De functie dient twee waarden terug te geven:  \n",
    "1. het aantal keer dat `x` in `y` past\n",
    "2. de rest(waarde) die je over houd als je `x` door `y` deelt\n",
    "\n",
    "Voorbeeld:\n",
    "```python\n",
    "deel(15, 7)\n",
    "```\n",
    "```\n",
    "(2, 1)\n",
    "```"
   ]
  },
  {
   "cell_type": "code",
   "execution_count": null,
   "metadata": {},
   "outputs": [],
   "source": [
    "# YOUR CODE HERE\n",
    "raise NotImplementedError('Opdracht niet gemaakt?')"
   ]
  },
  {
   "cell_type": "markdown",
   "metadata": {},
   "source": [
    "### Uitwerking"
   ]
  },
  {
   "cell_type": "code",
   "execution_count": 24,
   "metadata": {},
   "outputs": [
    {
     "data": {
      "text/plain": [
       "(2, 1)"
      ]
     },
     "execution_count": 24,
     "metadata": {},
     "output_type": "execute_result"
    }
   ],
   "source": [
    "# uitwerking\n",
    "def deel(x, y):\n",
    "    return x // y, x % y\n",
    "\n",
    "deel(15, 7)"
   ]
  },
  {
   "cell_type": "markdown",
   "metadata": {},
   "source": [
    "### Opdracht 5b: error handling"
   ]
  },
  {
   "cell_type": "markdown",
   "metadata": {},
   "source": [
    "Maak nu opdracht 5a opnieuw, maar voeg deze keer foutafhandeling toe, zodanig dat de code niet breekt tijdens uit uitvoeren.  \n",
    "\n",
    "Wees zo speciek mogelijk bij het afhandelen van fouten.\n",
    "\n",
    "Als `x` niet is gespecificeerd, dient er een specieke foutmelding te worden gegeven.  \n",
    "Als `y` niet is gespecificeerd, dient de waarde `1` te worden gebruikt.\n",
    "\n",
    "Test je oplossing met onderstaande code:\n",
    "\n",
    "```python\n",
    "print(1, deel(15, 7), '\\n') # (2, 1)\n",
    "print(2, deel(7, 15), '\\n') # (0, 7)\n",
    "print(3, deel(15), '\\n') # (15, 0)\n",
    "print(4, deel(0, 15), '\\n') # (0, 0)\n",
    "print(5, deel(5.5, 2.5), '\\n')\n",
    "print(6, deel(15, 0), '\\n') # integer division or modulo by zero\n",
    "print(7, deel('vijftien', 'zeven'), '\\n') # unsupported operand type(s) for //: 'str' and 'str'\n",
    "print(8, deel([15, 7]), '\\n') # unsupported operand type(s) for //: 'list' and 'int'\n",
    "print(9, deel(y = 7)) # ...\n",
    "```\n",
    "\n",
    "Optioneel:  \n",
    "* Geef het resultaat terug als een dictionary met de keys `aantal` en `rest`.\n",
    "* Zorg dat `aantal` altijd een `int` is en dat `rest` afhankelijk van de waarde een `int` of een `float` is."
   ]
  },
  {
   "cell_type": "code",
   "execution_count": null,
   "metadata": {},
   "outputs": [],
   "source": [
    "# YOUR CODE HERE\n",
    "raise NotImplementedError('Opdracht niet gemaakt?')"
   ]
  },
  {
   "cell_type": "markdown",
   "metadata": {},
   "source": [
    "### Uitwerking"
   ]
  },
  {
   "cell_type": "code",
   "execution_count": 25,
   "metadata": {},
   "outputs": [],
   "source": [
    "# uitwerking\n",
    "def deel(x = None, y = 1):\n",
    "    try:\n",
    "        if x == None:\n",
    "            raise ValueError(\"Argument 'x' ontbreekt of heeft waarde 'None'\")\n",
    "        return x // y, x % y\n",
    "    except ZeroDivisionError as E:\n",
    "        print(E)\n",
    "    except TypeError as E:\n",
    "        print(E)\n",
    "    except ValueError as E:\n",
    "        print(E)"
   ]
  },
  {
   "cell_type": "code",
   "execution_count": 26,
   "metadata": {},
   "outputs": [
    {
     "name": "stdout",
     "output_type": "stream",
     "text": [
      "1 (2, 1) \n",
      "\n",
      "2 (0, 7) \n",
      "\n",
      "3 (15, 0) \n",
      "\n",
      "4 (0, 0) \n",
      "\n",
      "5 (2.0, 0.5) \n",
      "\n",
      "integer division or modulo by zero\n",
      "6 None \n",
      "\n",
      "unsupported operand type(s) for //: 'str' and 'str'\n",
      "7 None \n",
      "\n",
      "unsupported operand type(s) for //: 'list' and 'int'\n",
      "8 None \n",
      "\n",
      "Argument 'x' ontbreekt of heeft waarde 'None'\n",
      "9 None\n"
     ]
    }
   ],
   "source": [
    "print(1, deel(15, 7), '\\n') # (2, 1)\n",
    "print(2, deel(7, 15), '\\n') # (0, 7)\n",
    "print(3, deel(15), '\\n') # (15, 0)\n",
    "print(4, deel(0, 15), '\\n') # (0, 0)\n",
    "print(5, deel(5.5, 2.5), '\\n') # (2.0, 0.5)\n",
    "print(6, deel(15, 0), '\\n') # integer division or modulo by zero\n",
    "print(7, deel('vijftien', 'zeven'), '\\n') # unsupported operand type(s) for //: 'str' and 'str'\n",
    "print(8, deel([15, 7]), '\\n') # unsupported operand type(s) for //: 'list' and 'int'\n",
    "print(9, deel(y = 7)) # Argument 'x' ontbreekt of heeft waarde 'None'"
   ]
  },
  {
   "cell_type": "code",
   "execution_count": 27,
   "metadata": {},
   "outputs": [],
   "source": [
    "# uitwerking, optioneel\n",
    "def deel(x = None, y = 1):\n",
    "    try:\n",
    "        if x == None:\n",
    "            raise ValueError(\"Argument 'x' ontbreekt of heeft waarde 'None'\")\n",
    "        if int(x % y) == x % y:\n",
    "            return {'aantal': int(x // y), 'rest': int(x % y)}\n",
    "        else:\n",
    "            return {'aantal': int(x // y), 'rest': x % y}\n",
    "    except ZeroDivisionError as E:\n",
    "        print(E)\n",
    "    except TypeError as E:\n",
    "        print(E)\n",
    "    except ValueError as E:\n",
    "        print(E)"
   ]
  },
  {
   "cell_type": "code",
   "execution_count": 28,
   "metadata": {},
   "outputs": [
    {
     "name": "stdout",
     "output_type": "stream",
     "text": [
      "{'aantal': 3, 'rest': 1} \n",
      "\n",
      "aantal: <class 'int'>\n",
      "rest  : <class 'int'>\n"
     ]
    }
   ],
   "source": [
    "print(deel(8.5, 2.5), '\\n')\n",
    "print('aantal:', type(deel(8.5, 2.5)['aantal']))\n",
    "print('rest  :', type(deel(8.5, 2.5)['rest']))"
   ]
  },
  {
   "cell_type": "code",
   "execution_count": 29,
   "metadata": {},
   "outputs": [
    {
     "name": "stdout",
     "output_type": "stream",
     "text": [
      "{'aantal': 2, 'rest': 1.5} \n",
      "\n",
      "aantal: <class 'int'>\n",
      "rest  : <class 'float'>\n"
     ]
    }
   ],
   "source": [
    "print(deel(8.5, 3.5), '\\n')\n",
    "print('aantal:', type(deel(8.5, 3.5)['aantal']))\n",
    "print('rest  :', type(deel(8.5, 3.5)['rest']))"
   ]
  },
  {
   "cell_type": "markdown",
   "metadata": {},
   "source": [
    "### Opdracht 6: lambda expression"
   ]
  },
  {
   "cell_type": "markdown",
   "metadata": {},
   "source": [
    "Maak een `lambda` expression die reeks `celsius` omzet naar graden Farhenheit gebruikmakend van de functie `map`. Filter met behulp van de functie `filter` alleen die resultaten die groter zijn dan 50."
   ]
  },
  {
   "cell_type": "code",
   "execution_count": 3,
   "metadata": {},
   "outputs": [],
   "source": [
    "celsius = range(100)"
   ]
  },
  {
   "cell_type": "markdown",
   "metadata": {},
   "source": [
    "$Fahrenheit = Celsius \\times \\frac{9}{5} + 32$"
   ]
  },
  {
   "cell_type": "code",
   "execution_count": null,
   "metadata": {},
   "outputs": [],
   "source": [
    "# YOUR CODE HERE\n",
    "raise NotImplementedError('Opdracht niet gemaakt?')"
   ]
  },
  {
   "cell_type": "markdown",
   "metadata": {},
   "source": [
    "### Uitwerking"
   ]
  },
  {
   "cell_type": "code",
   "execution_count": 5,
   "metadata": {},
   "outputs": [
    {
     "data": {
      "text/plain": [
       "[32.0,\n",
       " 33.8,\n",
       " 35.6,\n",
       " 37.4,\n",
       " 39.2,\n",
       " 41.0,\n",
       " 42.8,\n",
       " 44.6,\n",
       " 46.4,\n",
       " 48.2,\n",
       " 50.0,\n",
       " 51.8,\n",
       " 53.6,\n",
       " 55.400000000000006,\n",
       " 57.2,\n",
       " 59.0,\n",
       " 60.8,\n",
       " 62.6,\n",
       " 64.4,\n",
       " 66.2,\n",
       " 68.0,\n",
       " 69.80000000000001,\n",
       " 71.6,\n",
       " 73.4,\n",
       " 75.2,\n",
       " 77.0,\n",
       " 78.80000000000001,\n",
       " 80.6,\n",
       " 82.4,\n",
       " 84.2,\n",
       " 86.0,\n",
       " 87.80000000000001,\n",
       " 89.6,\n",
       " 91.4,\n",
       " 93.2,\n",
       " 95.0,\n",
       " 96.8,\n",
       " 98.60000000000001,\n",
       " 100.4,\n",
       " 102.2,\n",
       " 104.0,\n",
       " 105.8,\n",
       " 107.60000000000001,\n",
       " 109.4,\n",
       " 111.2,\n",
       " 113.0,\n",
       " 114.8,\n",
       " 116.60000000000001,\n",
       " 118.4,\n",
       " 120.2,\n",
       " 122.0,\n",
       " 123.8,\n",
       " 125.60000000000001,\n",
       " 127.4,\n",
       " 129.2,\n",
       " 131.0,\n",
       " 132.8,\n",
       " 134.60000000000002,\n",
       " 136.4,\n",
       " 138.2,\n",
       " 140.0,\n",
       " 141.8,\n",
       " 143.60000000000002,\n",
       " 145.4,\n",
       " 147.2,\n",
       " 149.0,\n",
       " 150.8,\n",
       " 152.60000000000002,\n",
       " 154.4,\n",
       " 156.2,\n",
       " 158.0,\n",
       " 159.8,\n",
       " 161.6,\n",
       " 163.4,\n",
       " 165.20000000000002,\n",
       " 167.0,\n",
       " 168.8,\n",
       " 170.6,\n",
       " 172.4,\n",
       " 174.20000000000002,\n",
       " 176.0,\n",
       " 177.8,\n",
       " 179.6,\n",
       " 181.4,\n",
       " 183.20000000000002,\n",
       " 185.0,\n",
       " 186.8,\n",
       " 188.6,\n",
       " 190.4,\n",
       " 192.20000000000002,\n",
       " 194.0,\n",
       " 195.8,\n",
       " 197.6,\n",
       " 199.4,\n",
       " 201.20000000000002,\n",
       " 203.0,\n",
       " 204.8,\n",
       " 206.6,\n",
       " 208.4,\n",
       " 210.20000000000002]"
      ]
     },
     "execution_count": 5,
     "metadata": {},
     "output_type": "execute_result"
    }
   ],
   "source": [
    "celsius = range(100)\n",
    "list(map(lambda x: 9 / 5 * x + 32, celsius))"
   ]
  },
  {
   "cell_type": "code",
   "execution_count": null,
   "metadata": {},
   "outputs": [],
   "source": [
    "Celsius = [39.2, 36.5, 37.3, 37.8]\n",
    "Fahrenheit = list(map(lambda x: (float(9)/5)*x + 32, Celsius))\n",
    "print(Fahrenheit)\n",
    "\n",
    "print(list(map(lambda x: (float(5)/9)*(x-32), Fahrenheit)))"
   ]
  },
  {
   "cell_type": "code",
   "execution_count": null,
   "metadata": {},
   "outputs": [],
   "source": []
  },
  {
   "cell_type": "code",
   "execution_count": null,
   "metadata": {},
   "outputs": [],
   "source": []
  },
  {
   "cell_type": "code",
   "execution_count": null,
   "metadata": {},
   "outputs": [],
   "source": []
  }
 ],
 "metadata": {
  "kernelspec": {
   "display_name": "Python 3",
   "language": "python",
   "name": "python3"
  },
  "language_info": {
   "codemirror_mode": {
    "name": "ipython",
    "version": 3
   },
   "file_extension": ".py",
   "mimetype": "text/x-python",
   "name": "python",
   "nbconvert_exporter": "python",
   "pygments_lexer": "ipython3",
   "version": "3.6.6"
  }
 },
 "nbformat": 4,
 "nbformat_minor": 2
}
