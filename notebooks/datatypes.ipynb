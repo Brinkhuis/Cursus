{
 "cells": [
  {
   "cell_type": "markdown",
   "metadata": {},
   "source": [
    "# Data Types"
   ]
  },
  {
   "cell_type": "markdown",
   "metadata": {},
   "source": [
    "In deze les behandelen we onderstaande data types:\n",
    "* Numbers\n",
    "  * Int (_immutable_)\n",
    "  * Float (_immutable_)\n",
    "* Booleans (_immutable_)\n",
    "* String (_immutable_)\n",
    "* List (_mutable_)\n",
    "* NumPy Array (_mutable_)\n",
    "* Dictonary (_mutable_)\n",
    "* Tuple (_immutable_)\n",
    "\n",
    "Daarbij behanden we ook:  \n",
    "* List Comprehension\n",
    "* Performance en geheugengebruik\n",
    "* Gebruik van `range()`"
   ]
  },
  {
   "cell_type": "markdown",
   "metadata": {},
   "source": [
    "## Numbers"
   ]
  },
  {
   "cell_type": "code",
   "execution_count": 1,
   "metadata": {},
   "outputs": [
    {
     "name": "stdout",
     "output_type": "stream",
     "text": [
      "10 <class 'int'>\n",
      "10.0 <class 'float'>\n"
     ]
    }
   ],
   "source": [
    "# integers and floats\n",
    "x = 10\n",
    "print(x, type(x))\n",
    "\n",
    "y = 20 / 2\n",
    "print(y, type(y))"
   ]
  },
  {
   "cell_type": "code",
   "execution_count": 2,
   "metadata": {},
   "outputs": [
    {
     "name": "stdout",
     "output_type": "stream",
     "text": [
      "<class 'module'>\n",
      "3.141592653589793 <class 'float'>\n"
     ]
    }
   ],
   "source": [
    "# pi\n",
    "import numpy as np\n",
    "print(type(np))\n",
    "print(np.pi, type(np.pi))"
   ]
  },
  {
   "cell_type": "code",
   "execution_count": 3,
   "metadata": {},
   "outputs": [
    {
     "name": "stdout",
     "output_type": "stream",
     "text": [
      "x ** y = 256\n",
      "x * y = 16\n",
      "y / x = 4.0\n",
      "z % y = 4\n",
      "z // y = 2\n",
      "8 + 2 = 10\n",
      "8 - 2 = 6\n",
      "\n",
      "8 ** 8 = 16777216\n"
     ]
    }
   ],
   "source": [
    "# operands and operators\n",
    "x = 2\n",
    "y = 8\n",
    "z = 20\n",
    "\n",
    "# print (with space between arguments)\n",
    "print('x ** y =', x ** y)\n",
    "print('x * y =', x * y)\n",
    "print('y / x =', y / x)\n",
    "print('z % y =', z % y)\n",
    "print('z // y =', z // y)\n",
    "\n",
    "# print with string formatting\n",
    "print('{} + {} = {}'.format(y, x, y + x))\n",
    "print('{2} - {1} = {0}'.format(y - x, x, y))\n",
    "print('\\n{0} ** {0} = {1}'.format(y, y ** y)) # in Python the literal \\n is used to display the result in new line"
   ]
  },
  {
   "cell_type": "code",
   "execution_count": 4,
   "metadata": {},
   "outputs": [
    {
     "data": {
      "text/plain": [
       "10"
      ]
     },
     "execution_count": 4,
     "metadata": {},
     "output_type": "execute_result"
    }
   ],
   "source": [
    "# add 5 to x\n",
    "x = 8\n",
    "x = x + 2\n",
    "x"
   ]
  },
  {
   "cell_type": "code",
   "execution_count": 5,
   "metadata": {},
   "outputs": [
    {
     "data": {
      "text/plain": [
       "10"
      ]
     },
     "execution_count": 5,
     "metadata": {},
     "output_type": "execute_result"
    }
   ],
   "source": [
    "# the python way\n",
    "x = 8\n",
    "x += 2\n",
    "x"
   ]
  },
  {
   "cell_type": "code",
   "execution_count": 6,
   "metadata": {},
   "outputs": [
    {
     "data": {
      "text/plain": [
       "2"
      ]
     },
     "execution_count": 6,
     "metadata": {},
     "output_type": "execute_result"
    }
   ],
   "source": [
    "# same for all operators!\n",
    "x = 20\n",
    "x //= 8\n",
    "x"
   ]
  },
  {
   "cell_type": "code",
   "execution_count": 7,
   "metadata": {},
   "outputs": [
    {
     "name": "stdout",
     "output_type": "stream",
     "text": [
      "3 <class 'int'>\n",
      "10.0 <class 'float'>\n"
     ]
    }
   ],
   "source": [
    "# type conversion\n",
    "i = int(3.14159262)\n",
    "f = float(10)\n",
    "print(i, type(i))\n",
    "print(f, type(f))"
   ]
  },
  {
   "cell_type": "markdown",
   "metadata": {},
   "source": [
    "## Booleans"
   ]
  },
  {
   "cell_type": "code",
   "execution_count": 8,
   "metadata": {},
   "outputs": [
    {
     "data": {
      "text/plain": [
       "bool"
      ]
     },
     "execution_count": 8,
     "metadata": {},
     "output_type": "execute_result"
    }
   ],
   "source": [
    "type(True)"
   ]
  },
  {
   "cell_type": "code",
   "execution_count": 9,
   "metadata": {},
   "outputs": [
    {
     "data": {
      "text/plain": [
       "bool"
      ]
     },
     "execution_count": 9,
     "metadata": {},
     "output_type": "execute_result"
    }
   ],
   "source": [
    "type(False)"
   ]
  },
  {
   "cell_type": "code",
   "execution_count": 10,
   "metadata": {},
   "outputs": [
    {
     "data": {
      "text/plain": [
       "False"
      ]
     },
     "execution_count": 10,
     "metadata": {},
     "output_type": "execute_result"
    }
   ],
   "source": [
    "5 == 10"
   ]
  },
  {
   "cell_type": "code",
   "execution_count": 11,
   "metadata": {},
   "outputs": [
    {
     "data": {
      "text/plain": [
       "True"
      ]
     },
     "execution_count": 11,
     "metadata": {},
     "output_type": "execute_result"
    }
   ],
   "source": [
    "5 != 10"
   ]
  },
  {
   "cell_type": "code",
   "execution_count": 12,
   "metadata": {},
   "outputs": [
    {
     "data": {
      "text/plain": [
       "True"
      ]
     },
     "execution_count": 12,
     "metadata": {},
     "output_type": "execute_result"
    }
   ],
   "source": [
    "5 < 10"
   ]
  },
  {
   "cell_type": "code",
   "execution_count": 13,
   "metadata": {},
   "outputs": [
    {
     "data": {
      "text/plain": [
       "False"
      ]
     },
     "execution_count": 13,
     "metadata": {},
     "output_type": "execute_result"
    }
   ],
   "source": [
    "5 >= 10"
   ]
  },
  {
   "cell_type": "code",
   "execution_count": 14,
   "metadata": {},
   "outputs": [
    {
     "data": {
      "text/plain": [
       "5"
      ]
     },
     "execution_count": 14,
     "metadata": {},
     "output_type": "execute_result"
    }
   ],
   "source": [
    "False + 5"
   ]
  },
  {
   "cell_type": "code",
   "execution_count": 15,
   "metadata": {},
   "outputs": [
    {
     "data": {
      "text/plain": [
       "10"
      ]
     },
     "execution_count": 15,
     "metadata": {},
     "output_type": "execute_result"
    }
   ],
   "source": [
    "True * 10"
   ]
  },
  {
   "cell_type": "code",
   "execution_count": 16,
   "metadata": {},
   "outputs": [
    {
     "data": {
      "text/plain": [
       "0"
      ]
     },
     "execution_count": 16,
     "metadata": {},
     "output_type": "execute_result"
    }
   ],
   "source": [
    "int(False)"
   ]
  },
  {
   "cell_type": "code",
   "execution_count": 17,
   "metadata": {},
   "outputs": [
    {
     "data": {
      "text/plain": [
       "1"
      ]
     },
     "execution_count": 17,
     "metadata": {},
     "output_type": "execute_result"
    }
   ],
   "source": [
    "int(True)"
   ]
  },
  {
   "cell_type": "code",
   "execution_count": 18,
   "metadata": {},
   "outputs": [
    {
     "data": {
      "text/plain": [
       "False"
      ]
     },
     "execution_count": 18,
     "metadata": {},
     "output_type": "execute_result"
    }
   ],
   "source": [
    "bool(0)"
   ]
  },
  {
   "cell_type": "code",
   "execution_count": 19,
   "metadata": {},
   "outputs": [
    {
     "data": {
      "text/plain": [
       "True"
      ]
     },
     "execution_count": 19,
     "metadata": {},
     "output_type": "execute_result"
    }
   ],
   "source": [
    "bool(1)"
   ]
  },
  {
   "cell_type": "markdown",
   "metadata": {},
   "source": [
    "## Strings"
   ]
  },
  {
   "cell_type": "code",
   "execution_count": 20,
   "metadata": {},
   "outputs": [
    {
     "name": "stdout",
     "output_type": "stream",
     "text": [
      "Python <class 'str'>\n",
      "Python is awesome!!!\n"
     ]
    }
   ],
   "source": [
    "# string\n",
    "s = 'Python'\n",
    "print(s, type(s))\n",
    "print(s, 'is awesome' + '!' * 3)"
   ]
  },
  {
   "cell_type": "code",
   "execution_count": 21,
   "metadata": {},
   "outputs": [
    {
     "name": "stdout",
     "output_type": "stream",
     "text": [
      "'s-Hertogenbosch\n"
     ]
    }
   ],
   "source": [
    "# you can use a backslash for using single quotes within single quotes\n",
    "woonplaats = '\\'s-Hertogenbosch'\n",
    "print(woonplaats)"
   ]
  },
  {
   "cell_type": "code",
   "execution_count": 22,
   "metadata": {},
   "outputs": [
    {
     "name": "stdout",
     "output_type": "stream",
     "text": [
      "'s-Hertogenbosch\n"
     ]
    }
   ],
   "source": [
    "# within a double quote you can put a single quote\n",
    "woonplaats = \"'s-Hertogenbosch\"\n",
    "print(woonplaats)"
   ]
  },
  {
   "cell_type": "code",
   "execution_count": 23,
   "metadata": {},
   "outputs": [
    {
     "name": "stdout",
     "output_type": "stream",
     "text": [
      "This\n",
      "is\n",
      "Pythonic!\n"
     ]
    }
   ],
   "source": [
    "# line break \\n\n",
    "tip = 'This\\nis\\nPythonic!'\n",
    "print(tip)"
   ]
  },
  {
   "cell_type": "code",
   "execution_count": 24,
   "metadata": {},
   "outputs": [
    {
     "name": "stdout",
     "output_type": "stream",
     "text": [
      "1 y\n",
      "2 n\n",
      "3 th\n",
      "4 thon\n",
      "5 Py\n",
      "6 Pytho\n",
      "7 thon\n",
      "8 Pto\n",
      "9 nohtyP\n"
     ]
    }
   ],
   "source": [
    "# index and subsetting\n",
    "s = 'Python'\n",
    "print(1, s[1])    # index in zero-based\n",
    "print(2, s[-1])   # last value\n",
    "print(3, s[2:4])  # format is: string[from (inclusive) : to (exclusive)]\n",
    "print(4, s[2:])   # to end\n",
    "print(5, s[:2])   # from begin\n",
    "print(6, s[:-1])\n",
    "print(7, s[-4:])\n",
    "print(8, s[::2])  # format is: string[from (inclusive) : to (exclusive) : slice step]\n",
    "print(9, s[::-1]) # slice step -1 to reserse order!"
   ]
  },
  {
   "cell_type": "markdown",
   "metadata": {},
   "source": [
    "**>>> Maak opdracht 1 uit het [Jupyter Notebook](https://nbviewer.jupyter.org/github/Brinkhuis/Cursus/blob/master/notebooks/opdrachten.ipynb) met de opdrachten.**"
   ]
  },
  {
   "cell_type": "markdown",
   "metadata": {},
   "source": [
    "## Lists"
   ]
  },
  {
   "cell_type": "code",
   "execution_count": 25,
   "metadata": {},
   "outputs": [
    {
     "data": {
      "text/plain": [
       "[1, 2, 3, 'a', 'b', 'c', [0, 10, 20], ['AAA', 'BBB', 'CCC']]"
      ]
     },
     "execution_count": 25,
     "metadata": {},
     "output_type": "execute_result"
    }
   ],
   "source": [
    "# create a list\n",
    "x = [1, 2, 3, 'a', 'b', 'c', [num * 10 for num in range(3)], [letter * 3 for letter in 'ABC']]\n",
    "x"
   ]
  },
  {
   "cell_type": "code",
   "execution_count": 26,
   "metadata": {},
   "outputs": [
    {
     "name": "stdout",
     "output_type": "stream",
     "text": [
      "1 <class 'int'>\n",
      "2 <class 'int'>\n",
      "3 <class 'int'>\n",
      "a <class 'str'>\n",
      "b <class 'str'>\n",
      "c <class 'str'>\n",
      "[0, 10, 20] <class 'list'>\n",
      "['AAA', 'BBB', 'CCC'] <class 'list'>\n"
     ]
    }
   ],
   "source": [
    "# print values and types\n",
    "for i in range(len(x)):\n",
    "    print(x[i], type(x[i]))"
   ]
  },
  {
   "cell_type": "code",
   "execution_count": 27,
   "metadata": {},
   "outputs": [
    {
     "data": {
      "text/plain": [
       "['BBB', 'CCC']"
      ]
     },
     "execution_count": 27,
     "metadata": {},
     "output_type": "execute_result"
    }
   ],
   "source": [
    "# subsetting\n",
    "x[-1][1:]"
   ]
  },
  {
   "cell_type": "code",
   "execution_count": 28,
   "metadata": {},
   "outputs": [],
   "source": [
    "# list method\n",
    "x.remove(x[-1])"
   ]
  },
  {
   "cell_type": "code",
   "execution_count": 29,
   "metadata": {},
   "outputs": [
    {
     "data": {
      "text/plain": [
       "[0, 10, 20]"
      ]
     },
     "execution_count": 29,
     "metadata": {},
     "output_type": "execute_result"
    }
   ],
   "source": [
    "# list method\n",
    "x.pop(-1)"
   ]
  },
  {
   "cell_type": "code",
   "execution_count": 30,
   "metadata": {},
   "outputs": [],
   "source": [
    "# list method\n",
    "for i in x[:3]:\n",
    "    x.append(i * 10)"
   ]
  },
  {
   "cell_type": "code",
   "execution_count": 31,
   "metadata": {},
   "outputs": [],
   "source": [
    "# list method\n",
    "for char in 'abc':\n",
    "    x.append(char.upper())"
   ]
  },
  {
   "cell_type": "code",
   "execution_count": 32,
   "metadata": {},
   "outputs": [],
   "source": [
    "# list method\n",
    "x.extend(range(100, 400, 100))"
   ]
  },
  {
   "cell_type": "code",
   "execution_count": 33,
   "metadata": {},
   "outputs": [
    {
     "name": "stdout",
     "output_type": "stream",
     "text": [
      "[1, 2, 3, 'a', 'b', 'c', 10, 20, 30, 'A', 'B', 'C', 100, 200, 300]\n"
     ]
    }
   ],
   "source": [
    "# print\n",
    "print(x)"
   ]
  },
  {
   "cell_type": "markdown",
   "metadata": {},
   "source": [
    "**>>> Maak opdracht 2 uit het [Jupyter Notebook](https://nbviewer.jupyter.org/github/Brinkhuis/Cursus/blob/master/notebooks/opdrachten.ipynb) met de opdrachten.**"
   ]
  },
  {
   "cell_type": "markdown",
   "metadata": {},
   "source": [
    "## List Comprehension"
   ]
  },
  {
   "cell_type": "code",
   "execution_count": 34,
   "metadata": {},
   "outputs": [
    {
     "name": "stdout",
     "output_type": "stream",
     "text": [
      "range(0, 10) <class 'range'>\n",
      "[0, 1, 2, 3, 4, 5, 6, 7, 8, 9] <class 'list'>\n"
     ]
    }
   ],
   "source": [
    "# range\n",
    "x = range(10)\n",
    "print(x, type(x))\n",
    "print(list(x), type(list(x)))"
   ]
  },
  {
   "cell_type": "code",
   "execution_count": 35,
   "metadata": {},
   "outputs": [
    {
     "data": {
      "text/plain": [
       "[0, 2, 4, 6, 8, 10]"
      ]
     },
     "execution_count": 35,
     "metadata": {},
     "output_type": "execute_result"
    }
   ],
   "source": [
    "# list comprehension\n",
    "[num * 2 for num in range(6)]"
   ]
  },
  {
   "cell_type": "code",
   "execution_count": 36,
   "metadata": {},
   "outputs": [
    {
     "data": {
      "text/plain": [
       "[0, 2, 4, 6, 8, 10]"
      ]
     },
     "execution_count": 36,
     "metadata": {},
     "output_type": "execute_result"
    }
   ],
   "source": [
    "# list comprehension using if statement\n",
    "[num for num in range(11) if num % 2 == 0]"
   ]
  },
  {
   "cell_type": "markdown",
   "metadata": {},
   "source": [
    "Welke van bovenstaande list comprehensions zou het meest efficiënt zijn?"
   ]
  },
  {
   "cell_type": "code",
   "execution_count": 37,
   "metadata": {},
   "outputs": [
    {
     "data": {
      "text/plain": [
       "[0, 2, 4, 6, 8, 10]"
      ]
     },
     "execution_count": 37,
     "metadata": {},
     "output_type": "execute_result"
    }
   ],
   "source": [
    "# even numbers\n",
    "list(range(0, 11, 2))"
   ]
  },
  {
   "cell_type": "markdown",
   "metadata": {},
   "source": [
    "Of is bovenstaand statement wellicht nog efficiënter?  \n",
    "\n",
    "Daar komen we zodadelijk op terug, maar wel goed om daar nu alvast over na te denken!"
   ]
  },
  {
   "cell_type": "code",
   "execution_count": 38,
   "metadata": {},
   "outputs": [
    {
     "data": {
      "text/plain": [
       "['P', 'Y', 'T', 'H', 'O', 'N']"
      ]
     },
     "execution_count": 38,
     "metadata": {},
     "output_type": "execute_result"
    }
   ],
   "source": [
    "# split string using list comprehension\n",
    "[char.upper() for char in 'Python']"
   ]
  },
  {
   "cell_type": "code",
   "execution_count": 39,
   "metadata": {},
   "outputs": [
    {
     "data": {
      "text/plain": [
       "[[0, 0], [1, 10], [2, 20], [3, 30], [4, 40]]"
      ]
     },
     "execution_count": 39,
     "metadata": {},
     "output_type": "execute_result"
    }
   ],
   "source": [
    "# create list of lists using list comprehension\n",
    "[[num, num * 10] for num in range(5)] # create a list of lists"
   ]
  },
  {
   "cell_type": "code",
   "execution_count": 40,
   "metadata": {},
   "outputs": [
    {
     "data": {
      "text/plain": [
       "['even',\n",
       " 'oneven',\n",
       " 'even',\n",
       " 'oneven',\n",
       " 'even',\n",
       " 'oneven',\n",
       " 'even',\n",
       " 'oneven',\n",
       " 'even',\n",
       " 'oneven']"
      ]
     },
     "execution_count": 40,
     "metadata": {},
     "output_type": "execute_result"
    }
   ],
   "source": [
    "# list comprehension using if else statement\n",
    "['even' if num % 2 == 0 else 'oneven' for num in range(10)] "
   ]
  },
  {
   "cell_type": "code",
   "execution_count": 41,
   "metadata": {},
   "outputs": [
    {
     "data": {
      "text/plain": [
       "[[0, 'even'],\n",
       " [1, 'oneven'],\n",
       " [2, 'even'],\n",
       " [3, 'oneven'],\n",
       " [4, 'even'],\n",
       " [5, 'oneven'],\n",
       " [6, 'even'],\n",
       " [7, 'oneven'],\n",
       " [8, 'even'],\n",
       " [9, 'oneven']]"
      ]
     },
     "execution_count": 41,
     "metadata": {},
     "output_type": "execute_result"
    }
   ],
   "source": [
    "# combined...\n",
    "[[num, 'even'] if num % 2 == 0 else [num, 'oneven'] for num in range(10)] "
   ]
  },
  {
   "cell_type": "code",
   "execution_count": 42,
   "metadata": {},
   "outputs": [
    {
     "name": "stdout",
     "output_type": "stream",
     "text": [
      "Zijn de gedefinieerde objecten identiek? >> True \n",
      "\n",
      "231 ms ± 18.4 ms per loop (mean ± std. dev. of 7 runs, 1 loop each)\n",
      "136 ms ± 9.52 ms per loop (mean ± std. dev. of 7 runs, 10 loops each)\n",
      "49.9 ms ± 6.6 ms per loop (mean ± std. dev. of 7 runs, 10 loops each)\n"
     ]
    }
   ],
   "source": [
    "# performance test of different solutions with same results\n",
    "\n",
    "aantal = int(1e6) # aantal even getallen\n",
    "\n",
    "a = [num for num in range(2 * aantal) if num % 2 == 0]\n",
    "b = [num * 2 for num in range(aantal)]\n",
    "c = list(range(0, aantal * 2, 2))\n",
    "\n",
    "print('Zijn de gedefinieerde objecten identiek? >>', a == b == c, '\\n')\n",
    "\n",
    "%timeit [num for num in range(2 * aantal) if num % 2 == 0]\n",
    "%timeit [num * 2 for num in range(aantal)]\n",
    "%timeit list(range(0, aantal * 2, 2))"
   ]
  },
  {
   "cell_type": "markdown",
   "metadata": {},
   "source": [
    "Zoals je kunt zien is oplossing 'c' ongeveer 5x sneller dan oplossing 'a'.  \n",
    "Maar het kan nog sneller...  \n",
    "\n",
    "Als je niet perse een list object nodig hebt, bijvoorbeeld omdat je met een reeks getallen wilt rekenen, dan is een numpy array veel sneller. numpy is geoptimaliseerd voor numerieke operaties (numpy staat voor 'numerical python').  \n",
    "\n",
    "Goed om dus ook na te denken over welk type object je het beste kunt gebruiken in een bepaalde situatie."
   ]
  },
  {
   "cell_type": "code",
   "execution_count": 43,
   "metadata": {},
   "outputs": [
    {
     "name": "stdout",
     "output_type": "stream",
     "text": [
      "<class 'numpy.ndarray'>\n",
      "3.44 ms ± 573 µs per loop (mean ± std. dev. of 7 runs, 100 loops each)\n"
     ]
    }
   ],
   "source": [
    "print(type(np.arange(0, aantal * 2, 2)))\n",
    "%timeit np.arange(0, aantal * 2, 2)"
   ]
  },
  {
   "cell_type": "markdown",
   "metadata": {},
   "source": [
    "Hier is numpy ongeveer 75x sneller dan oplossing 'a'."
   ]
  },
  {
   "cell_type": "markdown",
   "metadata": {},
   "source": [
    "**>>> Maak opdracht 3 uit het [Jupyter Notebook](https://nbviewer.jupyter.org/github/Brinkhuis/Cursus/blob/master/notebooks/opdrachten.ipynb) met de opdrachten.**"
   ]
  },
  {
   "cell_type": "code",
   "execution_count": 44,
   "metadata": {},
   "outputs": [
    {
     "name": "stdout",
     "output_type": "stream",
     "text": [
      "48\n",
      "9000112\n"
     ]
    }
   ],
   "source": [
    "# memory ussage\n",
    "\n",
    "from sys import getsizeof\n",
    "\n",
    "aantal = int(1e6)\n",
    "\n",
    "a = range(aantal)\n",
    "b = list(range(aantal))\n",
    "\n",
    "print(getsizeof(a))\n",
    "print(getsizeof(b))"
   ]
  },
  {
   "cell_type": "markdown",
   "metadata": {},
   "source": [
    "List comprehension werkt super makkelijk en is zeer flexibel!  \n",
    "\n",
    "Voorkom onnodige iteraties voor optimale performance. Met name bij veel (list)items.\n",
    "\n",
    "In sommige gevallen is een andere oplossing sneller en/of meer efficient qua geheugengebruik..."
   ]
  },
  {
   "cell_type": "markdown",
   "metadata": {},
   "source": [
    "## Array (Numpy)"
   ]
  },
  {
   "cell_type": "code",
   "execution_count": 45,
   "metadata": {},
   "outputs": [
    {
     "name": "stdout",
     "output_type": "stream",
     "text": [
      "[0, 1, 2, 3, 4] <class 'list'> \n",
      "\n",
      "[0, 1, 2, 3, 4, 0, 1, 2, 3, 4] \n",
      "\n",
      "[0, 2, 4, 6, 8]\n"
     ]
    }
   ],
   "source": [
    "# list (multiply range)\n",
    "\n",
    "x = list(range(5))\n",
    "print(x, type(x), '\\n')\n",
    "\n",
    "print(x * 2, '\\n')\n",
    "\n",
    "for i in x:\n",
    "    x[i] *= 2\n",
    "print(x)"
   ]
  },
  {
   "cell_type": "code",
   "execution_count": 46,
   "metadata": {},
   "outputs": [
    {
     "name": "stdout",
     "output_type": "stream",
     "text": [
      "[0 1 2 3 4] <class 'numpy.ndarray'> \n",
      "\n",
      "[0 2 4 6 8]\n"
     ]
    }
   ],
   "source": [
    "# array (multiply range)\n",
    "\n",
    "x = np.array(range(5))\n",
    "print(x, type(x), '\\n')\n",
    "print(x * 2)"
   ]
  },
  {
   "cell_type": "code",
   "execution_count": 47,
   "metadata": {},
   "outputs": [
    {
     "name": "stdout",
     "output_type": "stream",
     "text": [
      "143 ms ± 12 ms per loop (mean ± std. dev. of 7 runs, 10 loops each)\n"
     ]
    }
   ],
   "source": [
    "%%timeit\n",
    "# list performance\n",
    "x = list(range(int(1e6)))\n",
    "for i in x:\n",
    "    x[i] *= 2"
   ]
  },
  {
   "cell_type": "code",
   "execution_count": 48,
   "metadata": {},
   "outputs": [
    {
     "name": "stdout",
     "output_type": "stream",
     "text": [
      "3.78 ms ± 49.4 µs per loop (mean ± std. dev. of 7 runs, 100 loops each)\n"
     ]
    }
   ],
   "source": [
    "%%timeit\n",
    "# array performance\n",
    "x = np.arange(int(1e6))\n",
    "x *= 2"
   ]
  },
  {
   "cell_type": "code",
   "execution_count": 49,
   "metadata": {},
   "outputs": [
    {
     "name": "stdout",
     "output_type": "stream",
     "text": [
      "<class 'list'> 9000112\n"
     ]
    }
   ],
   "source": [
    "# list memory usage\n",
    "x = list(range(int(1e6)))\n",
    "for i in x:\n",
    "    x[i] *= 2\n",
    "print(type(x), getsizeof(x))"
   ]
  },
  {
   "cell_type": "code",
   "execution_count": 50,
   "metadata": {},
   "outputs": [
    {
     "name": "stdout",
     "output_type": "stream",
     "text": [
      "<class 'numpy.ndarray'> 4000096\n"
     ]
    }
   ],
   "source": [
    "# array memory usage\n",
    "x = np.array(range(int(1e6)))\n",
    "x *= 2\n",
    "print(type(x), getsizeof(x))"
   ]
  },
  {
   "cell_type": "markdown",
   "metadata": {},
   "source": [
    "Uit bovenstaande tests blijkt dat de snelheid van het vermenigvuldingen een miljoen integers in een `array` ongeveer 35x sneller is dan een vergelijkebare operatie met een `list`.  \n",
    "\n",
    "Daarbij gebruikt de `array` slechts de helft van de hoeveelheid geheugen t.o.v. de `list`."
   ]
  },
  {
   "cell_type": "code",
   "execution_count": 51,
   "metadata": {},
   "outputs": [
    {
     "name": "stdout",
     "output_type": "stream",
     "text": [
      "4\n",
      "<class 'numpy.int32'> \n",
      "\n",
      "[1 2]\n",
      "<class 'numpy.ndarray'>\n"
     ]
    }
   ],
   "source": [
    "# subsetting array's\n",
    "x = np.array(range(5))\n",
    "\n",
    "print(x[-1])\n",
    "print(type(x[-1]), '\\n')\n",
    "\n",
    "print(x[1:3])\n",
    "print(type(x[1:3]))"
   ]
  },
  {
   "cell_type": "code",
   "execution_count": 52,
   "metadata": {},
   "outputs": [
    {
     "name": "stdout",
     "output_type": "stream",
     "text": [
      "[3.14159265 3.14159265 3.14159265]\n"
     ]
    }
   ],
   "source": [
    "# array with floats\n",
    "x = np.array([np.pi] * 3)\n",
    "print(x)"
   ]
  },
  {
   "cell_type": "code",
   "execution_count": 53,
   "metadata": {},
   "outputs": [
    {
     "data": {
      "text/plain": [
       "array(['1', 'twee', '3.0', 'True'], dtype='<U11')"
      ]
     },
     "execution_count": 53,
     "metadata": {},
     "output_type": "execute_result"
    }
   ],
   "source": [
    "# NumPy arrays contain only one type!\n",
    "np.array([1, 'twee', 3.0, True])"
   ]
  },
  {
   "cell_type": "markdown",
   "metadata": {},
   "source": [
    "## Dictionary"
   ]
  },
  {
   "cell_type": "markdown",
   "metadata": {},
   "source": [
    "Een `dict` is een verzameling 'key-value pairs'"
   ]
  },
  {
   "cell_type": "code",
   "execution_count": 54,
   "metadata": {},
   "outputs": [
    {
     "data": {
      "text/plain": [
       "{'a': 'Alpha', 'b': 'Bravo', 'c': 'Charlie'}"
      ]
     },
     "execution_count": 54,
     "metadata": {},
     "output_type": "execute_result"
    }
   ],
   "source": [
    "# create a dictionary\n",
    "alphabet = {'a': 'Alpha',\n",
    "            'b': 'Bravo',\n",
    "            'c': 'Charlie'}\n",
    "alphabet"
   ]
  },
  {
   "cell_type": "code",
   "execution_count": 55,
   "metadata": {},
   "outputs": [
    {
     "data": {
      "text/plain": [
       "dict_keys(['a', 'b', 'c'])"
      ]
     },
     "execution_count": 55,
     "metadata": {},
     "output_type": "execute_result"
    }
   ],
   "source": [
    "# keys\n",
    "alphabet.keys()"
   ]
  },
  {
   "cell_type": "code",
   "execution_count": 56,
   "metadata": {},
   "outputs": [
    {
     "data": {
      "text/plain": [
       "dict_values(['Alpha', 'Bravo', 'Charlie'])"
      ]
     },
     "execution_count": 56,
     "metadata": {},
     "output_type": "execute_result"
    }
   ],
   "source": [
    "# values\n",
    "alphabet.values()"
   ]
  },
  {
   "cell_type": "code",
   "execution_count": 57,
   "metadata": {},
   "outputs": [
    {
     "data": {
      "text/plain": [
       "'Bravo'"
      ]
     },
     "execution_count": 57,
     "metadata": {},
     "output_type": "execute_result"
    }
   ],
   "source": [
    "# value for a key\n",
    "alphabet['b']"
   ]
  },
  {
   "cell_type": "code",
   "execution_count": 58,
   "metadata": {},
   "outputs": [
    {
     "data": {
      "text/plain": [
       "'Coding'"
      ]
     },
     "execution_count": 58,
     "metadata": {},
     "output_type": "execute_result"
    }
   ],
   "source": [
    "# mutate\n",
    "alphabet['c'] = 'Coding'\n",
    "alphabet['c']"
   ]
  },
  {
   "cell_type": "code",
   "execution_count": 59,
   "metadata": {},
   "outputs": [],
   "source": [
    "# add\n",
    "alphabet['z'] = 'The Zen of Python'\n",
    "alphabet['p'] = 'Python'\n",
    "alphabet['r'] = 'rocks!'"
   ]
  },
  {
   "cell_type": "code",
   "execution_count": 60,
   "metadata": {},
   "outputs": [
    {
     "name": "stdout",
     "output_type": "stream",
     "text": [
      "a Alpha\n",
      "b Bravo\n",
      "c Coding\n",
      "z The Zen of Python\n",
      "p Python\n",
      "r rocks!\n"
     ]
    }
   ],
   "source": [
    "# print items in dictionary\n",
    "for key, value in alphabet.items():\n",
    "    print(key, value)"
   ]
  },
  {
   "cell_type": "code",
   "execution_count": 61,
   "metadata": {},
   "outputs": [
    {
     "data": {
      "text/plain": [
       "dict_values(['Coding', 'Python', 'rocks!'])"
      ]
     },
     "execution_count": 61,
     "metadata": {},
     "output_type": "execute_result"
    }
   ],
   "source": [
    "# delete\n",
    "for k in 'abz':\n",
    "    del alphabet[k]\n",
    "alphabet.values()"
   ]
  },
  {
   "cell_type": "code",
   "execution_count": 62,
   "metadata": {},
   "outputs": [],
   "source": [
    "# dict of dicts\n",
    "datascientist = dict({'Rene': {'tool': 'Python',\n",
    "                               'Notebook': 'Jupyter',\n",
    "                               'IDE': ('Visual Studio Code', 'Spyder')},\n",
    "                      'Martin': {'tool': 'R',\n",
    "                                 'Notebook': 'R Notebook',\n",
    "                                 'IDE': ('RStudio', 'Emacs')}\n",
    "                     })"
   ]
  },
  {
   "cell_type": "code",
   "execution_count": 63,
   "metadata": {},
   "outputs": [
    {
     "name": "stdout",
     "output_type": "stream",
     "text": [
      "{'tool': 'Python', 'Notebook': 'Jupyter', 'IDE': ('Visual Studio Code', 'Spyder')} \n",
      "\n",
      "<class 'dict'>\n"
     ]
    }
   ],
   "source": [
    "# check for key existence\n",
    "if 'Rene' in datascientist.keys():\n",
    "    print(datascientist['Rene'], '\\n')\n",
    "    print(type(datascientist['Rene']))"
   ]
  },
  {
   "cell_type": "code",
   "execution_count": 64,
   "metadata": {},
   "outputs": [
    {
     "data": {
      "text/plain": [
       "dict_keys(['tool', 'Notebook', 'IDE'])"
      ]
     },
     "execution_count": 64,
     "metadata": {},
     "output_type": "execute_result"
    }
   ],
   "source": [
    "# keys in dict\n",
    "datascientist['Rene'].keys()"
   ]
  },
  {
   "cell_type": "code",
   "execution_count": 65,
   "metadata": {},
   "outputs": [
    {
     "data": {
      "text/plain": [
       "'Python'"
      ]
     },
     "execution_count": 65,
     "metadata": {},
     "output_type": "execute_result"
    }
   ],
   "source": [
    "# tools for Rene\n",
    "datascientist['Rene']['tool']"
   ]
  },
  {
   "cell_type": "code",
   "execution_count": 66,
   "metadata": {},
   "outputs": [
    {
     "data": {
      "text/plain": [
       "tuple"
      ]
     },
     "execution_count": 66,
     "metadata": {},
     "output_type": "execute_result"
    }
   ],
   "source": [
    "# IDE for Martin\n",
    "type(datascientist['Martin']['IDE'])"
   ]
  },
  {
   "cell_type": "code",
   "execution_count": 67,
   "metadata": {},
   "outputs": [
    {
     "data": {
      "text/plain": [
       "'Emacs'"
      ]
     },
     "execution_count": 67,
     "metadata": {},
     "output_type": "execute_result"
    }
   ],
   "source": [
    "# last value in 'IDE tuple'\n",
    "datascientist['Martin']['IDE'][-1]"
   ]
  },
  {
   "cell_type": "markdown",
   "metadata": {},
   "source": [
    "## Tuples"
   ]
  },
  {
   "cell_type": "markdown",
   "metadata": {},
   "source": [
    "Een `tuple` is een _immutable_ `list`."
   ]
  },
  {
   "cell_type": "code",
   "execution_count": 68,
   "metadata": {},
   "outputs": [
    {
     "name": "stdout",
     "output_type": "stream",
     "text": [
      "<class 'list'> ['a', 'b', 'c'] \n",
      "\n",
      "<class 'tuple'> ('a', 'b', 'c') \n",
      "\n",
      "True\n"
     ]
    }
   ],
   "source": [
    "l = ['a', 'b', 'c']\n",
    "print(type(l), l, '\\n')\n",
    "\n",
    "t = ('a', 'b', 'c')\n",
    "print(type(t), t, '\\n')\n",
    "\n",
    "print(l[-1] == t[-1])"
   ]
  },
  {
   "cell_type": "code",
   "execution_count": 69,
   "metadata": {},
   "outputs": [
    {
     "data": {
      "text/plain": [
       "['a', 'B', 'c']"
      ]
     },
     "execution_count": 69,
     "metadata": {},
     "output_type": "execute_result"
    }
   ],
   "source": [
    "# lists are mutable\n",
    "l[1] = 'B'\n",
    "l"
   ]
  },
  {
   "cell_type": "code",
   "execution_count": 70,
   "metadata": {},
   "outputs": [
    {
     "name": "stdout",
     "output_type": "stream",
     "text": [
      "'tuple' object does not support item assignment\n"
     ]
    }
   ],
   "source": [
    "# tuples are immutable\n",
    "try:\n",
    "    t[1] = 'B'\n",
    "except TypeError as E:\n",
    "    print(E)"
   ]
  }
 ],
 "metadata": {
  "kernelspec": {
   "display_name": "Python 3",
   "language": "python",
   "name": "python3"
  },
  "language_info": {
   "codemirror_mode": {
    "name": "ipython",
    "version": 3
   },
   "file_extension": ".py",
   "mimetype": "text/x-python",
   "name": "python",
   "nbconvert_exporter": "python",
   "pygments_lexer": "ipython3",
   "version": "3.6.6"
  }
 },
 "nbformat": 4,
 "nbformat_minor": 2
}
