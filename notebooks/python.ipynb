{
 "cells": [
  {
   "cell_type": "markdown",
   "metadata": {},
   "source": [
    "![](../images/python.png)"
   ]
  },
  {
   "cell_type": "markdown",
   "metadata": {},
   "source": [
    "* is ontworpen en ontwikkeld door [Guido van Rossum](https://twitter.com/gvanrossum) in 1989 (eerste release in februari 1991, versie 0.9.0)\n",
    "* is open source software waarvan de ontwikkeling wordt geleid door de [Python Software Foundation](https://www.python.org/psf) onder leiding van [Guido van Rossum](https://www.python.org/psf/records/board/history)\n",
    "* is ontworpen als object-georiënteerde programmeertaal\n",
    "* heeft als ontwerpfilosofie _code readability_ (o.a. door middel van _indentation_ en _code blocks_)\n",
    "* heeft zijn naam te danken aan het favoriete televisieprogramma van Guido van Rossum, Monty Python's Flying Circus\n",
    "* is een _general purpose_ programmeertaal veel modules voor data science en data analyse (o.a. [pandas](https://pandas.pydata.org), [NumPy](http://www.numpy.org), [SciPy](https://www.scipy.org), [SymPy](http://www.sympy.org), [matplotlib](https://matplotlib.org), [Bokeh](https://bokeh.pydata.org), [IPython](http://ipython.org), [Scrapy](https://scapy.net)  et cetera\n",
    "* wordt gebruikt door veel organisatie, waaronder [Google](www.google.com), [Facebook](www.facebook.com), [NASA](https://www.nasa.gov), [Yahoo](https://www.yahoo.com), [IBM](https://www.ibm.com) en [Dropbox](www.dropbox.com)"
   ]
  },
  {
   "cell_type": "markdown",
   "metadata": {},
   "source": [
    ">The joy of coding Python should be in seeing short, concise, readable classes that express a lot of action in a small amount of clear code -- not in reams of trivial code that bores the reader to death.  \n",
    ">\n",
    ">Guido van Rossum"
   ]
  },
  {
   "cell_type": "markdown",
   "metadata": {},
   "source": [
    "## Indentation & Code Blocks"
   ]
  },
  {
   "cell_type": "markdown",
   "metadata": {},
   "source": [
    "De wijze waarop wordt 'ingesprongen' is bepalend voor de werking van je script.  \n",
    "De code die bij elkaar hoort, zet je in hetzelfde 'blok' door het op dezelfde wijze uit te lijnen."
   ]
  },
  {
   "cell_type": "code",
   "execution_count": 1,
   "metadata": {
    "scrolled": true
   },
   "outputs": [
    {
     "name": "stdout",
     "output_type": "stream",
     "text": [
      "10\n",
      "20\n",
      "30\n"
     ]
    }
   ],
   "source": [
    "# één code block\n",
    "for x in [5, 15, 25]:\n",
    "    x += 5\n",
    "    print(x)"
   ]
  },
  {
   "cell_type": "code",
   "execution_count": 2,
   "metadata": {
    "scrolled": true
   },
   "outputs": [
    {
     "name": "stdout",
     "output_type": "stream",
     "text": [
      "30\n"
     ]
    }
   ],
   "source": [
    "# twee code blocks\n",
    "for x in [5, 15, 25]:\n",
    "    x += 5\n",
    "\n",
    "print(x)"
   ]
  },
  {
   "cell_type": "markdown",
   "metadata": {},
   "source": [
    "Daarom worden er in Python ook geen 'accolades' gebruikt (zoals in R) om de _code blocks_ te markeren.  \n",
    "Waarom 'accolades' gebruiken als de _code blocks_ al duidelijk zijn op basis van _indentation_?  \n",
    "\n",
    "In Python worden veelal 'enkele quotes' gebruikt. \n",
    "\n",
    "Onderstaande _code snippets_ in R en Python laten deze verschillen zien."
   ]
  },
  {
   "cell_type": "markdown",
   "metadata": {},
   "source": [
    "```R\n",
    "# voorbeeld in R\n",
    "omdraaien <- function(tekst) {\n",
    "  letters <- strsplit(tekst, NULL)[[1]]\n",
    "  omgedraaid <- letters[length(letters):1]\n",
    "  return(paste(omgedraaid, collapse = \"\"))\n",
    "}\n",
    "\n",
    "omdraaien(\"Python\")\n",
    "```\n",
    "\n",
    "```\n",
    "[1] \"nohtyP\"\n",
    "```"
   ]
  },
  {
   "cell_type": "markdown",
   "metadata": {},
   "source": [
    "```python\n",
    "# voorbeeld in Python\n",
    "def omdraaien(tekst):\n",
    "    letters = [letter for letter in tekst]\n",
    "    letters.reverse()\n",
    "    return ''.join(letters)\n",
    "\n",
    "omdraaien('Python')\n",
    "```\n",
    "\n",
    "```\n",
    "'nohtyP'\n",
    "```"
   ]
  },
  {
   "cell_type": "markdown",
   "metadata": {},
   "source": [
    "## Object Oriented Programming (OOP)"
   ]
  },
  {
   "cell_type": "markdown",
   "metadata": {},
   "source": [
    "Python is een object-georiënteerde programmeertaal. Paktisch alles binnen Python is een object. Een object is een voorkomen (_instance_) van een objecttype (_class_).  \n",
    "\n",
    "Een _class_ kun je zien als een blauwdruk voor een object en is een logische groepingen van data en functies. Een _class_ wordt gedefinieerd met het keyword `class` en een functie met het keyword `def`.\n",
    "\n",
    "Een _class function_ wordt veelal een _method_ genoemd. In Python kun je eenvouding nieuwe objecttypen en objecten definiereren.\n",
    "\n",
    ">Enkele synoniemen:  \n",
    ">\n",
    ">* object type = object template = class\n",
    ">* object = class instance = instance\n",
    ">* class function = class method = instance method (need a _self_ to work!) = method"
   ]
  },
  {
   "cell_type": "code",
   "execution_count": 3,
   "metadata": {
    "scrolled": true
   },
   "outputs": [],
   "source": [
    "# definieer class Persoon\n",
    "class Persoon:\n",
    "    \"\"\"\n",
    "    Dit is de 'docstring'... bedoeld voor het documenteren van dit objecttype.\n",
    "    \"\"\"\n",
    "\n",
    "    def __init__(self, voornm, achternm):\n",
    "        self.voornaam = voornm\n",
    "        self.achternaam = achternm\n",
    "\n",
    "    def naam(self):\n",
    "        return self.voornaam + ' ' + self.achternaam"
   ]
  },
  {
   "cell_type": "code",
   "execution_count": 4,
   "metadata": {
    "scrolled": true
   },
   "outputs": [],
   "source": [
    "# definieer object van objecttype Persoon\n",
    "guido = Persoon('Guido', 'van Rossum')"
   ]
  },
  {
   "cell_type": "code",
   "execution_count": 5,
   "metadata": {
    "scrolled": true
   },
   "outputs": [
    {
     "name": "stdout",
     "output_type": "stream",
     "text": [
      "Help on class Persoon in module __main__:\n",
      "\n",
      "class Persoon(builtins.object)\n",
      " |  Dit is de 'docstring'... bedoeld voor het documenteren van dit objecttype.\n",
      " |  \n",
      " |  Methods defined here:\n",
      " |  \n",
      " |  __init__(self, voornm, achternm)\n",
      " |      Initialize self.  See help(type(self)) for accurate signature.\n",
      " |  \n",
      " |  naam(self)\n",
      " |  \n",
      " |  ----------------------------------------------------------------------\n",
      " |  Data descriptors defined here:\n",
      " |  \n",
      " |  __dict__\n",
      " |      dictionary for instance variables (if defined)\n",
      " |  \n",
      " |  __weakref__\n",
      " |      list of weak references to the object (if defined)\n",
      "\n"
     ]
    }
   ],
   "source": [
    "help(Persoon)"
   ]
  },
  {
   "cell_type": "code",
   "execution_count": 6,
   "metadata": {
    "scrolled": true
   },
   "outputs": [
    {
     "data": {
      "text/plain": [
       "True"
      ]
     },
     "execution_count": 6,
     "metadata": {},
     "output_type": "execute_result"
    }
   ],
   "source": [
    "# guido is een instantie van Persoon\n",
    "isinstance(guido, Persoon)"
   ]
  },
  {
   "cell_type": "code",
   "execution_count": 7,
   "metadata": {
    "scrolled": true
   },
   "outputs": [
    {
     "name": "stdout",
     "output_type": "stream",
     "text": [
      "Guido\n",
      "van Rossum\n"
     ]
    }
   ],
   "source": [
    "# data\n",
    "print(guido.voornaam)\n",
    "print(guido.achternaam)"
   ]
  },
  {
   "cell_type": "code",
   "execution_count": 8,
   "metadata": {
    "scrolled": true
   },
   "outputs": [
    {
     "data": {
      "text/plain": [
       "str"
      ]
     },
     "execution_count": 8,
     "metadata": {},
     "output_type": "execute_result"
    }
   ],
   "source": [
    "# de data zelf is ook van een bepaald objecttype\n",
    "type(guido.achternaam)"
   ]
  },
  {
   "cell_type": "code",
   "execution_count": 9,
   "metadata": {
    "scrolled": true
   },
   "outputs": [
    {
     "data": {
      "text/plain": [
       "'Guido van Rossum'"
      ]
     },
     "execution_count": 9,
     "metadata": {},
     "output_type": "execute_result"
    }
   ],
   "source": [
    "# method\n",
    "guido.naam()"
   ]
  },
  {
   "cell_type": "code",
   "execution_count": 10,
   "metadata": {
    "scrolled": true
   },
   "outputs": [
    {
     "data": {
      "text/plain": [
       "method"
      ]
     },
     "execution_count": 10,
     "metadata": {},
     "output_type": "execute_result"
    }
   ],
   "source": [
    "# de methode zelf is ook van een bepaald objecttype, namelijk van het objecttype 'method'\n",
    "type(guido.naam)"
   ]
  },
  {
   "cell_type": "code",
   "execution_count": 11,
   "metadata": {
    "scrolled": true
   },
   "outputs": [
    {
     "data": {
      "text/plain": [
       "str"
      ]
     },
     "execution_count": 11,
     "metadata": {},
     "output_type": "execute_result"
    }
   ],
   "source": [
    "# de return value van de methode is ook van een bepaald objecttype\n",
    "type(guido.naam())"
   ]
  },
  {
   "cell_type": "code",
   "execution_count": null,
   "metadata": {},
   "outputs": [],
   "source": [
    "# welke methods kent het objecttype 'str'?\n",
    "help(str)"
   ]
  },
  {
   "cell_type": "code",
   "execution_count": 12,
   "metadata": {
    "scrolled": true
   },
   "outputs": [
    {
     "data": {
      "text/plain": [
       "'GUIDO'"
      ]
     },
     "execution_count": 12,
     "metadata": {},
     "output_type": "execute_result"
    }
   ],
   "source": [
    "# upper()\n",
    "guido.voornaam.upper()"
   ]
  },
  {
   "cell_type": "code",
   "execution_count": 13,
   "metadata": {
    "scrolled": true
   },
   "outputs": [
    {
     "data": {
      "text/plain": [
       "2"
      ]
     },
     "execution_count": 13,
     "metadata": {},
     "output_type": "execute_result"
    }
   ],
   "source": [
    "# count()\n",
    "guido.naam().count('u')"
   ]
  },
  {
   "cell_type": "code",
   "execution_count": 14,
   "metadata": {},
   "outputs": [
    {
     "name": "stdout",
     "output_type": "stream",
     "text": [
      "1: Guido van Rossum\n",
      "2: GUIDO VAN ROSSUM\n",
      "3:  VAN ROSSUM\n",
      "4: VAN ROSSUM\n",
      "5: ===VAN ROSSUM===\n",
      "6: ['', '', '', 'VAN ROSSUM', '', '', '']\n",
      "7: 6\n"
     ]
    }
   ],
   "source": [
    "# method chaining\n",
    "print('1:', guido.naam())\n",
    "print('2:', guido.naam().upper())\n",
    "print('3:', guido.naam().upper().replace('GUIDO', ''))\n",
    "print('4:', guido.naam().upper().replace('GUIDO', '').lstrip())\n",
    "print('5:', guido.naam().upper().replace('GUIDO', '').lstrip().center(16, '='))\n",
    "print('6:', guido.naam().upper().replace('GUIDO', '').lstrip().center(16, '=').split('='))\n",
    "print('7:', guido.naam().upper().replace('GUIDO', '').lstrip().center(16, '=').split('=').count(''))"
   ]
  },
  {
   "cell_type": "markdown",
   "metadata": {},
   "source": [
    "Waarschijnlijk is je al opgevallen dat tijdens het 'chainen' van 'methods' het objecttype kan veranderen.\n",
    "Zo zijn de eerst 5 resultaten van het type `str`. Het volgende resultaat van het type `list`, gevolgd door het type `int`."
   ]
  },
  {
   "cell_type": "markdown",
   "metadata": {},
   "source": [
    "De methods met de dubble underscores in de naam, zowel aan het begin als aan het eind, worden wel _magic methods_ genoemd. Deze _magic methods_ zijn 'gereserveerd' voor Python zelf. Hoewel ze direct aan te roepen zijn `x.__float__()` zijn de bedoeld om indirect gebruikt te worden `float(x)`."
   ]
  },
  {
   "cell_type": "code",
   "execution_count": 15,
   "metadata": {
    "scrolled": true
   },
   "outputs": [
    {
     "data": {
      "text/plain": [
       "True"
      ]
     },
     "execution_count": 15,
     "metadata": {},
     "output_type": "execute_result"
    }
   ],
   "source": [
    "var = 10\n",
    "var.__float__() == float(var)"
   ]
  },
  {
   "cell_type": "code",
   "execution_count": 16,
   "metadata": {
    "scrolled": true
   },
   "outputs": [
    {
     "data": {
      "text/plain": [
       "True"
      ]
     },
     "execution_count": 16,
     "metadata": {},
     "output_type": "execute_result"
    }
   ],
   "source": [
    "var = ['A', 'B', 'C']\n",
    "var.__len__() == len(var)"
   ]
  },
  {
   "cell_type": "markdown",
   "metadata": {},
   "source": [
    "## Belangrijkste punten"
   ]
  },
  {
   "cell_type": "markdown",
   "metadata": {},
   "source": [
    "* Python is _object oriented_\n",
    "* Python gebruikt _indentation_ om _code blocks_ te onderscheiden\n",
    "* Maak gebruik van _methods_ waar mogelijk en ga geen functionaliteit coderen die al is geïmplementeerd\n",
    "* Maak gebruik van _method chaining_, maar houd je code vooral leesbaar\n",
    "* Documenteer je code door gebruik te maken van docstrings `\"\"\"docstring\"\"\"` en comments `# comment`\n",
    "* Don't forget the Zen of Python..."
   ]
  },
  {
   "cell_type": "markdown",
   "metadata": {},
   "source": [
    "## The Zen of Python"
   ]
  },
  {
   "cell_type": "code",
   "execution_count": 17,
   "metadata": {
    "scrolled": true
   },
   "outputs": [
    {
     "name": "stdout",
     "output_type": "stream",
     "text": [
      "The Zen of Python, by Tim Peters\n",
      "\n",
      "Beautiful is better than ugly.\n",
      "Explicit is better than implicit.\n",
      "Simple is better than complex.\n",
      "Complex is better than complicated.\n",
      "Flat is better than nested.\n",
      "Sparse is better than dense.\n",
      "Readability counts.\n",
      "Special cases aren't special enough to break the rules.\n",
      "Although practicality beats purity.\n",
      "Errors should never pass silently.\n",
      "Unless explicitly silenced.\n",
      "In the face of ambiguity, refuse the temptation to guess.\n",
      "There should be one-- and preferably only one --obvious way to do it.\n",
      "Although that way may not be obvious at first unless you're Dutch.\n",
      "Now is better than never.\n",
      "Although never is often better than *right* now.\n",
      "If the implementation is hard to explain, it's a bad idea.\n",
      "If the implementation is easy to explain, it may be a good idea.\n",
      "Namespaces are one honking great idea -- let's do more of those!\n"
     ]
    }
   ],
   "source": [
    "import this"
   ]
  }
 ],
 "metadata": {
  "kernelspec": {
   "display_name": "Python 3",
   "language": "python",
   "name": "python3"
  },
  "language_info": {
   "codemirror_mode": {
    "name": "ipython",
    "version": 3
   },
   "file_extension": ".py",
   "mimetype": "text/x-python",
   "name": "python",
   "nbconvert_exporter": "python",
   "pygments_lexer": "ipython3",
   "version": "3.6.6"
  }
 },
 "nbformat": 4,
 "nbformat_minor": 2
}
