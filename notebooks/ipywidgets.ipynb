{
 "cells": [
  {
   "cell_type": "code",
   "execution_count": 1,
   "metadata": {},
   "outputs": [],
   "source": [
    "# import section\n",
    "import pandas as pd\n",
    "import numpy as np\n",
    "import seaborn as sns\n",
    "import matplotlib.pyplot as plt\n",
    "from sklearn.datasets import load_iris\n",
    "from ipywidgets import *"
   ]
  },
  {
   "cell_type": "code",
   "execution_count": 2,
   "metadata": {},
   "outputs": [
    {
     "name": "stdout",
     "output_type": "stream",
     "text": [
      "seaborn version 0.9.0\n"
     ]
    }
   ],
   "source": [
    "print('seaborn version', sns.__version__)"
   ]
  },
  {
   "cell_type": "markdown",
   "metadata": {},
   "source": [
    "### Simple plot"
   ]
  },
  {
   "cell_type": "markdown",
   "metadata": {},
   "source": [
    "$f(x) = x^2$"
   ]
  },
  {
   "cell_type": "code",
   "execution_count": 3,
   "metadata": {},
   "outputs": [
    {
     "data": {
      "image/png": "[encoded data removed]",
      "text/plain": [
       "<Figure size 432x288 with 1 Axes>"
      ]
     },
     "metadata": {},
     "output_type": "display_data"
    }
   ],
   "source": [
    "x = np.array(np.arange(-10, 11))\n",
    "y = x ** 2\n",
    "plt.plot(x, y, color='r', linewidth=1.5)\n",
    "plt.title(r'$ƒ$(x) = x$^2$', fontsize=16, color='r') # LaTeX function in title!\n",
    "plt.xlabel('x')\n",
    "plt.ylabel(r'$ƒ$(x)')\n",
    "plt.grid(True)\n",
    "plt.show()"
   ]
  },
  {
   "cell_type": "markdown",
   "metadata": {},
   "source": [
    "### Jupyter Widgets"
   ]
  },
  {
   "cell_type": "markdown",
   "metadata": {},
   "source": [
    "For a complete list see: [https://ipywidgets.readthedocs.io/en/latest/examples/Widget%20List.html](https://ipywidgets.readthedocs.io/en/latest/examples/Widget%20List.html)"
   ]
  },
  {
   "cell_type": "code",
   "execution_count": 4,
   "metadata": {
    "scrolled": true
   },
   "outputs": [
    {
     "data": {
      "application/vnd.jupyter.widget-view+json": {
       "model_id": "129af90672184375860f5ddcd6aeba4a",
       "version_major": 2,
       "version_minor": 0
      },
      "text/plain": [
       "IntSlider(value=4, description='Demo', max=10, step=2)"
      ]
     },
     "metadata": {},
     "output_type": "display_data"
    }
   ],
   "source": [
    "widgets.IntSlider(value=4, min=0, max=10, step=2, description='Demo')"
   ]
  },
  {
   "cell_type": "code",
   "execution_count": 5,
   "metadata": {},
   "outputs": [
    {
     "data": {
      "application/vnd.jupyter.widget-view+json": {
       "model_id": "118c8c8342ab41c0a0ed57e30daa8823",
       "version_major": 2,
       "version_minor": 0
      },
      "text/plain": [
       "IntRangeSlider(value=(3, 7), description='Demo', max=10)"
      ]
     },
     "metadata": {},
     "output_type": "display_data"
    }
   ],
   "source": [
    "widgets.IntRangeSlider(value=[3, 7], min=0, max=10, step=1, description='Demo',)"
   ]
  },
  {
   "cell_type": "code",
   "execution_count": 6,
   "metadata": {},
   "outputs": [
    {
     "data": {
      "application/vnd.jupyter.widget-view+json": {
       "model_id": "21926f1a8d4b4ab4a1f8760c322511fb",
       "version_major": 2,
       "version_minor": 0
      },
      "text/plain": [
       "RadioButtons(description='Demo', index=1, options=('A', 'B', 'C'), value='B')"
      ]
     },
     "metadata": {},
     "output_type": "display_data"
    }
   ],
   "source": [
    "widgets.RadioButtons(options=['A', 'B', 'C'], value='B', description='Demo')"
   ]
  },
  {
   "cell_type": "code",
   "execution_count": 7,
   "metadata": {},
   "outputs": [
    {
     "data": {
      "application/vnd.jupyter.widget-view+json": {
       "model_id": "e4dd9e2576b44300856e23c84ab03908",
       "version_major": 2,
       "version_minor": 0
      },
      "text/plain": [
       "Dropdown(description='Demo', index=1, options=('A', 'B', 'C', 'D', 'E'), value='B')"
      ]
     },
     "metadata": {},
     "output_type": "display_data"
    }
   ],
   "source": [
    "widgets.Dropdown(options=[char for char in 'ABCDE'], value='B', description='Demo')"
   ]
  },
  {
   "cell_type": "code",
   "execution_count": 8,
   "metadata": {},
   "outputs": [
    {
     "data": {
      "application/vnd.jupyter.widget-view+json": {
       "model_id": "c987a653d78f42758225c31b4a984139",
       "version_major": 2,
       "version_minor": 0
      },
      "text/plain": [
       "Select(description='Demo', index=3, options=('A', 'B', 'C', 'D', 'E', 'F', 'G', 'H', 'I', 'J', 'K', 'L', 'M', …"
      ]
     },
     "metadata": {},
     "output_type": "display_data"
    }
   ],
   "source": [
    "widgets.Select(options=[char for char in 'ABCDEFGHIJKLMNOPQRSTUVWXYZ'],\n",
    "               value='D',\n",
    "               rows=5,\n",
    "               description='Demo')"
   ]
  },
  {
   "cell_type": "code",
   "execution_count": 9,
   "metadata": {},
   "outputs": [
    {
     "data": {
      "application/vnd.jupyter.widget-view+json": {
       "model_id": "d004201b0c564f6692793829b45ed8ea",
       "version_major": 2,
       "version_minor": 0
      },
      "text/plain": [
       "ToggleButtons(description='Demo', index=1, options=('A', 'B', 'C'), tooltips=('Omschrijving A', 'Omschrijving …"
      ]
     },
     "metadata": {},
     "output_type": "display_data"
    }
   ],
   "source": [
    "widgets.ToggleButtons(options=['A', 'B', 'C'],\n",
    "                      description='Demo',\n",
    "                      value='B',\n",
    "                      tooltips=['Omschrijving A', 'Omschrijving B', 'Omschrijving C']\n",
    ")"
   ]
  },
  {
   "cell_type": "markdown",
   "metadata": {},
   "source": [
    "### Interactive plot!"
   ]
  },
  {
   "cell_type": "code",
   "execution_count": 10,
   "metadata": {},
   "outputs": [
    {
     "data": {
      "application/vnd.jupyter.widget-view+json": {
       "model_id": "579329883af14304bb9264bbe45d18a7",
       "version_major": 2,
       "version_minor": 0
      },
      "text/plain": [
       "interactive(children=(IntSlider(value=2, description='Macht', max=7, min=1), Output()), _dom_classes=('widget-…"
      ]
     },
     "metadata": {},
     "output_type": "display_data"
    },
    {
     "data": {
      "text/plain": [
       "<function __main__.demo(macht)>"
      ]
     },
     "execution_count": 10,
     "metadata": {},
     "output_type": "execute_result"
    }
   ],
   "source": [
    "def demo(macht):\n",
    "    x = np.linspace(-20, 21, 200)\n",
    "    y = x**macht\n",
    "    plt.plot(x, y, color='b', linewidth=1.5)\n",
    "    plt.title(r'$ƒ$(x) = x$^{}$'.format(macht), fontsize=16, color='b') # LaTeX function in title!\n",
    "    plt.xlabel('x')\n",
    "    plt.ylabel(r'$ƒ$(x)')\n",
    "    plt.grid(True)\n",
    "    return plt.show()\n",
    "\n",
    "interact(demo,\n",
    "         macht = widgets.IntSlider(value=2, min=1, max=7, description='Macht'))"
   ]
  },
  {
   "cell_type": "markdown",
   "metadata": {},
   "source": [
    "### Multiple widgets"
   ]
  },
  {
   "cell_type": "code",
   "execution_count": 11,
   "metadata": {},
   "outputs": [
    {
     "data": {
      "application/vnd.jupyter.widget-view+json": {
       "model_id": "5595940159ee47558990c34854f8b426",
       "version_major": 2,
       "version_minor": 0
      },
      "text/plain": [
       "interactive(children=(IntSlider(value=2, description='Macht', max=7), IntRangeSlider(value=(-20, 20), descript…"
      ]
     },
     "metadata": {},
     "output_type": "display_data"
    },
    {
     "data": {
      "text/plain": [
       "<function __main__.demo(macht, xrange, font, lijn, raster, kleur)>"
      ]
     },
     "execution_count": 11,
     "metadata": {},
     "output_type": "execute_result"
    }
   ],
   "source": [
    "def demo(macht, xrange, font, lijn, raster, kleur):\n",
    "    x = np.linspace(xrange[0], xrange[1]+1, 100)\n",
    "    y = x**macht\n",
    "    plt.plot(x, y, color=kleur, linewidth=lijn)\n",
    "    plt.title(r'$ƒ$(x) = x$^{}$'.format(macht), fontsize=font, color=kleur) # LaTeX function in title!\n",
    "    plt.xlabel('x')\n",
    "    plt.ylabel(r'$ƒ$(x)')\n",
    "    plt.grid(raster)\n",
    "    return plt.show()\n",
    "\n",
    "interact(demo,\n",
    "         macht = widgets.IntSlider(value=2, min=0, max=7, description='Macht'),\n",
    "         xrange = widgets.IntRangeSlider(value=[-20, 20], min=-50, max=50, step=5, description='x'),\n",
    "         font = widgets.RadioButtons(options=[12, 16, 18, 20], value=18, description='Lettergrootte'),\n",
    "         lijn = widgets.FloatSlider(value=5, min=0, max=7.5, step=0.5, description='Lijndikte', readout_format='.1f'),\n",
    "         kleur = widgets.ToggleButtons(options=['red', 'green', 'blue', 'purple', 'orange'], description='Kleur',\n",
    "                                       value='purple', tooltips=['Rood', 'Groen', 'Blauw', 'Paars', 'Oranje']),\n",
    "         raster = widgets.Checkbox(value=True, description='Raster', disabled=False)\n",
    "        )"
   ]
  },
  {
   "cell_type": "markdown",
   "metadata": {},
   "source": [
    "### Filter Data"
   ]
  },
  {
   "cell_type": "code",
   "execution_count": 12,
   "metadata": {},
   "outputs": [
    {
     "data": {
      "application/vnd.jupyter.widget-view+json": {
       "model_id": "ce2c4e23711d4a379cbde2f73d0aa354",
       "version_major": 2,
       "version_minor": 0
      },
      "text/plain": [
       "interactive(children=(FloatRangeSlider(value=(5.0, 6.0), description='sepal_length', max=7.9, min=4.3, readout…"
      ]
     },
     "metadata": {},
     "output_type": "display_data"
    },
    {
     "data": {
      "text/plain": [
       "<function __main__.iris_filter(sepal_length, sepal_width, petal_length, petal_width)>"
      ]
     },
     "execution_count": 12,
     "metadata": {},
     "output_type": "execute_result"
    }
   ],
   "source": [
    "iris = sns.load_dataset('iris')\n",
    "\n",
    "def iris_filter(sepal_length, sepal_width, petal_length, petal_width):\n",
    "    selection = iris[(iris.sepal_length >= sepal_length[0]) & (iris.sepal_length <= sepal_length[1]) &\n",
    "                     (iris.petal_length >= petal_length[0]) & (iris.petal_length <= petal_length[1]) &\n",
    "                     (iris.sepal_width >= sepal_width[0]) & (iris.sepal_width <= sepal_width[1]) &\n",
    "                     (iris.petal_width >= petal_width[0]) & (iris.petal_width <= petal_width[1])]\n",
    "    print('Aantal rijen in selectie: {}'.format(selection.shape[0]))\n",
    "    return selection\n",
    "\n",
    "interact(iris_filter,\n",
    "         sepal_length = widgets.FloatRangeSlider(value = [5, 6],\n",
    "                                                          min = iris.sepal_length.min(),\n",
    "                                                          max = iris.sepal_length.max(),\n",
    "                                                          step=0.1, readout_format='.1f'),\n",
    "         petal_length = widgets.FloatRangeSlider(value = [2, 5],\n",
    "                                                          min = iris.petal_length.min(),\n",
    "                                                          max = iris.petal_length.max(),\n",
    "                                                          step=0.1, readout_format='.1f'),\n",
    "         sepal_width = widgets.FloatRangeSlider(value = [3, 4],\n",
    "                                                          min = iris.sepal_width.min(),\n",
    "                                                          max = iris.sepal_width.max(),\n",
    "                                                          step=0.1, readout_format='.1f'),\n",
    "         petal_width = widgets.FloatRangeSlider(value = [1, 2],\n",
    "                                                          min = iris.petal_width.min(),\n",
    "                                                          max = iris.petal_width.max(),\n",
    "                                                          step=0.1, readout_format='.1f'))"
   ]
  },
  {
   "cell_type": "markdown",
   "metadata": {},
   "source": [
    "### Visualize Data (with seaborn)"
   ]
  },
  {
   "cell_type": "markdown",
   "metadata": {},
   "source": [
    "For nice seaborn plot examples, have a look at the [Example gallery](https://seaborn.pydata.org/examples)."
   ]
  },
  {
   "cell_type": "code",
   "execution_count": 13,
   "metadata": {},
   "outputs": [
    {
     "data": {
      "application/vnd.jupyter.widget-view+json": {
       "model_id": "b3316e4a138642899af9e40315c82e6a",
       "version_major": 2,
       "version_minor": 0
      },
      "text/plain": [
       "interactive(children=(Dropdown(description='X-axis', index=2, options=('sepal_length', 'sepal_width', 'petal_l…"
      ]
     },
     "metadata": {},
     "output_type": "display_data"
    },
    {
     "data": {
      "text/plain": [
       "<function __main__.graph(x, y, species, type)>"
      ]
     },
     "execution_count": 13,
     "metadata": {},
     "output_type": "execute_result"
    }
   ],
   "source": [
    "sns.set(style='white')\n",
    "iris = sns.load_dataset('iris')\n",
    "\n",
    "def graph(x, y, species, type):\n",
    "    sns.jointplot(x=x, y=y, data=iris[iris.species == species], kind=type)\n",
    "    return plt.show()\n",
    "\n",
    "interact(graph,\n",
    "         type = widgets.ToggleButtons(options=['kde', 'reg', 'scatter', 'resid', 'hex'], description='Type'),\n",
    "         species = widgets.RadioButtons(options=iris.species.unique(), description='Species', value='virginica'),\n",
    "         x = widgets.Dropdown(options=iris.columns[:-1], description='X-axis', value='petal_length'),\n",
    "         y = widgets.Dropdown(options=iris.columns[:-1], description='Y-axis', value='petal_width')\n",
    "        )"
   ]
  },
  {
   "cell_type": "markdown",
   "metadata": {},
   "source": [
    "## Unsupervised learning: _k_-Means (with centroids)"
   ]
  },
  {
   "cell_type": "code",
   "execution_count": 14,
   "metadata": {},
   "outputs": [
    {
     "data": {
      "application/vnd.jupyter.widget-view+json": {
       "model_id": "5d9b4a3a7e5c4bd78495c763850980a1",
       "version_major": 2,
       "version_minor": 0
      },
      "text/plain": [
       "interactive(children=(IntSlider(value=5, description='Clusters', max=10, min=1), Output()), _dom_classes=('wid…"
      ]
     },
     "metadata": {},
     "output_type": "display_data"
    },
    {
     "data": {
      "text/plain": [
       "<function __main__.kmeans(k)>"
      ]
     },
     "execution_count": 14,
     "metadata": {},
     "output_type": "execute_result"
    }
   ],
   "source": [
    "from sklearn.cluster import KMeans\n",
    "from sklearn.datasets import load_iris\n",
    "\n",
    "iris = load_iris()\n",
    "data = iris.data[:,:2]\n",
    "\n",
    "def kmeans(k):\n",
    "    model = KMeans(n_clusters=k) # Create a KMeans instance with 3 clusters: model\n",
    "    model.fit(data) # Fit model to points\n",
    "    labels = model.predict(data)\n",
    "    plt.scatter(x=data[:,0], y=data[:,1], c=labels, alpha=0.7, cmap='tab10')#Accent\n",
    "    plt.scatter(x= model.cluster_centers_[:,0], y=model.cluster_centers_[:,1], marker='D', s=125, c='red')\n",
    "    plt.title(r'$k$-Means ($k$ = {})'.format(k), fontsize=18, color='red')\n",
    "    plt.xlabel('Sepal Length')\n",
    "    plt.ylabel('Sepal Width')\n",
    "    return plt.show()\n",
    "\n",
    "interact(kmeans, k = widgets.IntSlider(value=5, min=1, max=10, description='Clusters'))"
   ]
  },
  {
   "cell_type": "markdown",
   "metadata": {},
   "source": [
    "**>>> Maak opdracht 11 uit het [Jupyter Notebook](https://nbviewer.jupyter.org/github/Brinkhuis/Cursus/blob/master/notebooks/opdrachten.ipynb) met de opdrachten.**"
   ]
  },
  {
   "cell_type": "markdown",
   "metadata": {},
   "source": [
    "Wat je wellicht is opgevallen bij het maken van opdracht 11, is dat de interactie niet heel erg vlot was.  \n",
    "Dat kwam niet zozeer door de hoeveelheid data, maar door de tijd die was om de complexe plot op te bouwen.\n",
    "\n",
    "De responsetijd van de interactie kan worden versneld door alle mogelijke plots van te voren te maken en op te slaan, bijvoorbeeld in een dictionary.  \n",
    "Daarmee zijn ze direct beschikbaar om te tonen en hoeven de plots bij selectie niet telkes opnieuw opgebouwd te worden.  \n",
    "\n",
    "Onderstaand een uitgewerkt stappenplan."
   ]
  },
  {
   "cell_type": "code",
   "execution_count": 15,
   "metadata": {},
   "outputs": [],
   "source": [
    "import pandas as pd\n",
    "import seaborn as sns\n",
    "import matplotlib.pyplot as plt\n",
    "from ipywidgets import *"
   ]
  },
  {
   "cell_type": "code",
   "execution_count": 16,
   "metadata": {},
   "outputs": [],
   "source": [
    "# stap 1: importeer 'combinatons' from 'itertools'\n",
    "from itertools import combinations"
   ]
  },
  {
   "cell_type": "code",
   "execution_count": 17,
   "metadata": {},
   "outputs": [],
   "source": [
    "# stap 2: laad de data\n",
    "iris = sns.load_dataset('iris')"
   ]
  },
  {
   "cell_type": "code",
   "execution_count": 18,
   "metadata": {},
   "outputs": [
    {
     "name": "stdout",
     "output_type": "stream",
     "text": [
      "('setosa',)\n",
      "('versicolor',)\n",
      "('virginica',)\n",
      "('setosa', 'versicolor')\n",
      "('setosa', 'virginica')\n",
      "('versicolor', 'virginica')\n",
      "('setosa', 'versicolor', 'virginica')\n"
     ]
    }
   ],
   "source": [
    "# stap 3: sla alle mogelijke combinaties van 'species' op in een list\n",
    "all_combinations = list()\n",
    "\n",
    "for i in range(1, len(iris.species.unique()) + 1):\n",
    "    for combi in combinations(iris.species.unique(), i):\n",
    "        all_combinations.append(combi)\n",
    "\n",
    "for combi in all_combinations:\n",
    "    print(combi)"
   ]
  },
  {
   "cell_type": "code",
   "execution_count": 19,
   "metadata": {},
   "outputs": [],
   "source": [
    "# stap 4: sla voor elke combinatie de plot op in een dictionary\n",
    "all_plots = dict()\n",
    "for combi in all_combinations:\n",
    "    all_plots[combi] = sns.PairGrid(iris[iris.species.isin(combi)], diag_sharey=False)\n",
    "    all_plots[combi].map_lower(sns.kdeplot)\n",
    "    all_plots[combi].map_upper(sns.scatterplot)\n",
    "    all_plots[combi].map_diag(sns.kdeplot, lw=3)\n",
    "    plt.close() # output hoeft niet naar scherm!"
   ]
  },
  {
   "cell_type": "code",
   "execution_count": 20,
   "metadata": {},
   "outputs": [
    {
     "data": {
      "application/vnd.jupyter.widget-view+json": {
       "model_id": "e32c31d84b5b4de0a25d36c4a77934aa",
       "version_major": 2,
       "version_minor": 0
      },
      "text/plain": [
       "interactive(children=(SelectMultiple(description='species', index=(1, 2), options=('setosa', 'versicolor', 'vi…"
      ]
     },
     "metadata": {},
     "output_type": "display_data"
    },
    {
     "data": {
      "text/plain": [
       "<function __main__.iris_pairgrid(species)>"
      ]
     },
     "execution_count": 20,
     "metadata": {},
     "output_type": "execute_result"
    }
   ],
   "source": [
    "# stap 5: gebruik de dictionary met plots in de functie\n",
    "def iris_pairgrid(species):\n",
    "    return all_plots[species].fig # don't forget the .fig\n",
    "\n",
    "o = iris.species.unique()      # parameters vooraf 'berekenen' scheelt tijd bij de interactie\n",
    "r = len(iris.species.unique()) # parameters vooraf 'berekenen' scheelt tijd bij de interactie\n",
    "\n",
    "interact(iris_pairgrid,\n",
    "         species = widgets.SelectMultiple(options = o,\n",
    "                                          value = ('versicolor', 'virginica'),\n",
    "                                          rows = r,\n",
    "                                          description = 'species',\n",
    "                                          disabled = False))"
   ]
  }
 ],
 "metadata": {
  "kernelspec": {
   "display_name": "Python 3",
   "language": "python",
   "name": "python3"
  },
  "language_info": {
   "codemirror_mode": {
    "name": "ipython",
    "version": 3
   },
   "file_extension": ".py",
   "mimetype": "text/x-python",
   "name": "python",
   "nbconvert_exporter": "python",
   "pygments_lexer": "ipython3",
   "version": "3.6.6"
  }
 },
 "nbformat": 4,
 "nbformat_minor": 2
}
