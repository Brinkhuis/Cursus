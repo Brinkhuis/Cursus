{
 "cells": [
  {
   "cell_type": "markdown",
   "metadata": {},
   "source": [
    "# ipyleaflet"
   ]
  },
  {
   "cell_type": "markdown",
   "metadata": {},
   "source": [
    "Install packages:\n",
    "\n",
    "`pip install ipyleaflet` or `conda install -c conda-forge ipyleaflet`"
   ]
  },
  {
   "cell_type": "code",
   "execution_count": 1,
   "metadata": {},
   "outputs": [],
   "source": [
    "# import section\n",
    "import pandas as pd\n",
    "from ipyleaflet import Map"
   ]
  },
  {
   "cell_type": "code",
   "execution_count": 2,
   "metadata": {
    "scrolled": true
   },
   "outputs": [
    {
     "data": {
      "text/html": [
       "<div>\n",
       "<style scoped>\n",
       "    .dataframe tbody tr th:only-of-type {\n",
       "        vertical-align: middle;\n",
       "    }\n",
       "\n",
       "    .dataframe tbody tr th {\n",
       "        vertical-align: top;\n",
       "    }\n",
       "\n",
       "    .dataframe thead th {\n",
       "        text-align: right;\n",
       "    }\n",
       "</style>\n",
       "<table border=\"1\" class=\"dataframe\">\n",
       "  <thead>\n",
       "    <tr style=\"text-align: right;\">\n",
       "      <th></th>\n",
       "      <th>naam</th>\n",
       "      <th>straat</th>\n",
       "      <th>postcode</th>\n",
       "      <th>plaats</th>\n",
       "      <th>website</th>\n",
       "      <th>latitude</th>\n",
       "      <th>longitude</th>\n",
       "    </tr>\n",
       "  </thead>\n",
       "  <tbody>\n",
       "    <tr>\n",
       "      <th>0</th>\n",
       "      <td>Medisch Spectrum Twente (MST), locatie Oldenzaal</td>\n",
       "      <td>Prins Bernhardstraat 17</td>\n",
       "      <td>7573 AM</td>\n",
       "      <td>Oldenzaal</td>\n",
       "      <td>https://www.mst.nl</td>\n",
       "      <td>52.308137</td>\n",
       "      <td>6.931271</td>\n",
       "    </tr>\n",
       "    <tr>\n",
       "      <th>1</th>\n",
       "      <td>Sint Maartenskliniek Boxmeer</td>\n",
       "      <td>Dokter Kopstraat 1</td>\n",
       "      <td>5835 DV</td>\n",
       "      <td>Beugen</td>\n",
       "      <td>https://www.maartenskliniek.nl</td>\n",
       "      <td>51.663732</td>\n",
       "      <td>5.940387</td>\n",
       "    </tr>\n",
       "    <tr>\n",
       "      <th>2</th>\n",
       "      <td>St. Anna Ziekenhuis, locatie Eindhoven</td>\n",
       "      <td>Antoon Coolenlaan 1 03</td>\n",
       "      <td>5644 RX</td>\n",
       "      <td>Eindhoven</td>\n",
       "      <td>http://www.st-anna.nl</td>\n",
       "      <td>51.415968</td>\n",
       "      <td>5.477902</td>\n",
       "    </tr>\n",
       "    <tr>\n",
       "      <th>3</th>\n",
       "      <td>Sint Maartenskliniek Woerden</td>\n",
       "      <td>Polanerbaan 2</td>\n",
       "      <td>3447 GN</td>\n",
       "      <td>Woerden</td>\n",
       "      <td>https://www.maartenskliniek.nl</td>\n",
       "      <td>52.079456</td>\n",
       "      <td>4.891880</td>\n",
       "    </tr>\n",
       "    <tr>\n",
       "      <th>4</th>\n",
       "      <td>Ziekenhuis St Jansdal, Polikliniek Dronten</td>\n",
       "      <td>Het Zwarte Water 77</td>\n",
       "      <td>8253 PD</td>\n",
       "      <td>Dronten</td>\n",
       "      <td>http://www.polikliniekdronten.nl</td>\n",
       "      <td>52.537827</td>\n",
       "      <td>5.703050</td>\n",
       "    </tr>\n",
       "  </tbody>\n",
       "</table>\n",
       "</div>"
      ],
      "text/plain": [
       "                                               naam                   straat  \\\n",
       "0  Medisch Spectrum Twente (MST), locatie Oldenzaal  Prins Bernhardstraat 17   \n",
       "1                      Sint Maartenskliniek Boxmeer       Dokter Kopstraat 1   \n",
       "2            St. Anna Ziekenhuis, locatie Eindhoven   Antoon Coolenlaan 1 03   \n",
       "3                      Sint Maartenskliniek Woerden            Polanerbaan 2   \n",
       "4        Ziekenhuis St Jansdal, Polikliniek Dronten      Het Zwarte Water 77   \n",
       "\n",
       "  postcode     plaats                           website   latitude  longitude  \n",
       "0  7573 AM  Oldenzaal                https://www.mst.nl  52.308137   6.931271  \n",
       "1  5835 DV     Beugen    https://www.maartenskliniek.nl  51.663732   5.940387  \n",
       "2  5644 RX  Eindhoven             http://www.st-anna.nl  51.415968   5.477902  \n",
       "3  3447 GN    Woerden    https://www.maartenskliniek.nl  52.079456   4.891880  \n",
       "4  8253 PD    Dronten  http://www.polikliniekdronten.nl  52.537827   5.703050  "
      ]
     },
     "execution_count": 2,
     "metadata": {},
     "output_type": "execute_result"
    }
   ],
   "source": [
    "df = pd.read_csv('../data/zorglocaties.csv', sep = ';')\n",
    "df.head()"
   ]
  },
  {
   "cell_type": "markdown",
   "metadata": {},
   "source": [
    "### Map"
   ]
  },
  {
   "cell_type": "code",
   "execution_count": 3,
   "metadata": {},
   "outputs": [
    {
     "data": {
      "application/vnd.jupyter.widget-view+json": {
       "model_id": "feac2536cc8648e986fa1785d1737ce7",
       "version_major": 2,
       "version_minor": 0
      },
      "text/plain": [
       "Map(basemap={'url': 'https://{s}.tile.openstreetmap.org/{z}/{x}/{y}.png', 'max_zoom': 19, 'attribution': 'Map …"
      ]
     },
     "metadata": {},
     "output_type": "display_data"
    }
   ],
   "source": [
    "Map(center = [52.0912374, 5.1470414], zoom = 17)"
   ]
  },
  {
   "cell_type": "markdown",
   "metadata": {},
   "source": [
    "### Markers"
   ]
  },
  {
   "cell_type": "code",
   "execution_count": 4,
   "metadata": {},
   "outputs": [
    {
     "data": {
      "application/vnd.jupyter.widget-view+json": {
       "model_id": "3e0863dd117242008393f21cd06297cb",
       "version_major": 2,
       "version_minor": 0
      },
      "text/plain": [
       "Map(basemap={'url': 'https://{s}.tile.openstreetmap.org/{z}/{x}/{y}.png', 'max_zoom': 19, 'attribution': 'Map …"
      ]
     },
     "metadata": {},
     "output_type": "display_data"
    }
   ],
   "source": [
    "from  ipyleaflet import Map, Marker, LayerGroup\n",
    "from ipywidgets import HTML\n",
    "\n",
    "m = Map(center = [52.0912374, 5.1470414], zoom = 17)\n",
    "marker = Marker(location = (52.0912074, 5.1493414))\n",
    "group = LayerGroup(layers = (marker,))\n",
    "m.add_layer(group)\n",
    "\n",
    "popup = HTML()\n",
    "popup.value = \"Nederlandse Zorgautoriteit\"\n",
    "marker.popup = popup\n",
    "\n",
    "m"
   ]
  },
  {
   "cell_type": "code",
   "execution_count": null,
   "metadata": {},
   "outputs": [],
   "source": []
  },
  {
   "cell_type": "code",
   "execution_count": 5,
   "metadata": {},
   "outputs": [
    {
     "data": {
      "application/vnd.jupyter.widget-view+json": {
       "model_id": "ee19037e59cb4766b7d47ef9df25dbd2",
       "version_major": 2,
       "version_minor": 0
      },
      "text/plain": [
       "Map(basemap={'url': 'https://{s}.tile.openstreetmap.org/{z}/{x}/{y}.png', 'max_zoom': 19, 'attribution': 'Map …"
      ]
     },
     "metadata": {},
     "output_type": "display_data"
    }
   ],
   "source": [
    "from  ipyleaflet import Map, Marker, LayerGroup\n",
    "from ipywidgets import HTML\n",
    "\n",
    "m = Map(center=[52.0912374, 5.1470414], zoom = 17)\n",
    "\n",
    "marker = Marker(location=(52.0912074, 5.1493414))\n",
    "\n",
    "popup = HTML()\n",
    "popup.value = \"Nederlandse Zorgautoriteit\"\n",
    "marker.popup = popup\n",
    "\n",
    "group = LayerGroup(layers=(marker,))\n",
    "\n",
    "m.add_layer(group)\n",
    "\n",
    "\n",
    "m"
   ]
  },
  {
   "cell_type": "markdown",
   "metadata": {},
   "source": [
    "### Zorglocaties"
   ]
  },
  {
   "cell_type": "code",
   "execution_count": 6,
   "metadata": {},
   "outputs": [
    {
     "data": {
      "application/vnd.jupyter.widget-view+json": {
       "model_id": "13f8f4389ee84c4587771daea13e428a",
       "version_major": 2,
       "version_minor": 0
      },
      "text/plain": [
       "Map(basemap={'url': 'https://{s}.tile.openstreetmap.org/{z}/{x}/{y}.png', 'max_zoom': 19, 'attribution': 'Map …"
      ]
     },
     "metadata": {},
     "output_type": "display_data"
    }
   ],
   "source": [
    "from ipyleaflet import Map, Marker, MarkerCluster, LayerGroup\n",
    "from ipywidgets import HTML\n",
    "\n",
    "m = Map(center = [52.0912374, 5.1470414], zoom = 7)\n",
    "\n",
    "marker_list = list()\n",
    "for i in range(df.shape[0]):\n",
    "    marker = Marker(location=([df.iloc[i].latitude, df.iloc[i].longitude]))\n",
    "    popup  = HTML()\n",
    "    popup.value = '<b>{}</b><br>{}<br>{}  {}<br><a href={} target=\"_blank\"</a>{}'.format(df.iloc[i].naam,\n",
    "                                                                                         df.iloc[i].straat,\n",
    "                                                                                         df.iloc[i].postcode,\n",
    "                                                                                         df.iloc[i].plaats,\n",
    "                                                                                         df.iloc[i].website,\n",
    "                                                                                         df.iloc[i].website)\n",
    "    marker.popup = popup\n",
    "    marker_list.append(marker)\n",
    "    \n",
    "group = LayerGroup(layers = marker_list)\n",
    "\n",
    "m.add_layer(group)\n",
    "\n",
    "m"
   ]
  },
  {
   "cell_type": "markdown",
   "metadata": {},
   "source": [
    "### Zorglocaties + MarkerCluster"
   ]
  },
  {
   "cell_type": "code",
   "execution_count": 7,
   "metadata": {},
   "outputs": [
    {
     "data": {
      "application/vnd.jupyter.widget-view+json": {
       "model_id": "b9ddd65d11044b0195d074d07b31b24c",
       "version_major": 2,
       "version_minor": 0
      },
      "text/plain": [
       "Map(basemap={'url': 'https://{s}.tile.openstreetmap.org/{z}/{x}/{y}.png', 'max_zoom': 19, 'attribution': 'Map …"
      ]
     },
     "metadata": {},
     "output_type": "display_data"
    }
   ],
   "source": [
    "from ipyleaflet import Map, Marker, MarkerCluster, LayerGroup\n",
    "from ipywidgets import HTML\n",
    "\n",
    "m = Map(center = [52.0912374, 5.1470414], zoom = 7)\n",
    "\n",
    "marker_list = list()\n",
    "for i in range(df.shape[0]):\n",
    "    marker = Marker(location=([df.iloc[i].latitude, df.iloc[i].longitude]))\n",
    "    popup  = HTML()\n",
    "    popup.value = '<b>{}</b><br>{}<br>{}  {}<br><a href={} target=\"_blank\"</a>{}'.format(df.iloc[i].naam,\n",
    "                                                                                         df.iloc[i].straat,\n",
    "                                                                                         df.iloc[i].postcode,\n",
    "                                                                                         df.iloc[i].plaats,\n",
    "                                                                                         df.iloc[i].website,\n",
    "                                                                                         df.iloc[i].website)\n",
    "    marker.popup = popup\n",
    "    marker_list.append(marker)\n",
    "\n",
    "marker_cluster = MarkerCluster(markers = marker_list)\n",
    "\n",
    "group = LayerGroup(layers = (marker,))\n",
    "\n",
    "m.add_layer(marker_cluster);\n",
    "\n",
    "m"
   ]
  }
 ],
 "metadata": {
  "kernelspec": {
   "display_name": "Python [default]",
   "language": "python",
   "name": "python3"
  },
  "language_info": {
   "codemirror_mode": {
    "name": "ipython",
    "version": 3
   },
   "file_extension": ".py",
   "mimetype": "text/x-python",
   "name": "python",
   "nbconvert_exporter": "python",
   "pygments_lexer": "ipython3",
   "version": "3.7.1"
  }
 },
 "nbformat": 4,
 "nbformat_minor": 2
}
