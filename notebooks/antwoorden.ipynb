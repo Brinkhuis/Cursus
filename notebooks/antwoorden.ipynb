{
 "cells": [
  {
   "cell_type": "markdown",
   "metadata": {},
   "source": [
    "# Antwoorden"
   ]
  },
  {
   "cell_type": "markdown",
   "metadata": {},
   "source": [
    "Dit notebook bevat de uitwerking van de opdrachten uit het notebook [opdrachten](https://nbviewer.jupyter.org/github/Brinkhuis/Cursus/blob/master/notebooks/opdrachten.ipynb)."
   ]
  },
  {
   "cell_type": "code",
   "execution_count": 1,
   "metadata": {},
   "outputs": [],
   "source": [
    "import warnings\n",
    "warnings.filterwarnings('ignore')"
   ]
  },
  {
   "cell_type": "markdown",
   "metadata": {},
   "source": [
    "### Opdracht 1: string"
   ]
  },
  {
   "cell_type": "code",
   "execution_count": 2,
   "metadata": {},
   "outputs": [],
   "source": [
    "opdracht = '<<< n-o-h-t-y-p >>>'"
   ]
  },
  {
   "cell_type": "markdown",
   "metadata": {},
   "source": [
    "***"
   ]
  },
  {
   "cell_type": "code",
   "execution_count": 3,
   "metadata": {},
   "outputs": [
    {
     "data": {
      "text/plain": [
       "'Python'"
      ]
     },
     "execution_count": 3,
     "metadata": {},
     "output_type": "execute_result"
    }
   ],
   "source": [
    "# uitwerking 1\n",
    "opdracht[-5:3:-2].capitalize()"
   ]
  },
  {
   "cell_type": "code",
   "execution_count": 4,
   "metadata": {},
   "outputs": [
    {
     "data": {
      "text/plain": [
       "'Python'"
      ]
     },
     "execution_count": 4,
     "metadata": {},
     "output_type": "execute_result"
    }
   ],
   "source": [
    "# uitwerking 2\n",
    "opdracht[4:-4][::-2].capitalize()"
   ]
  },
  {
   "cell_type": "code",
   "execution_count": 5,
   "metadata": {},
   "outputs": [
    {
     "data": {
      "text/plain": [
       "'Python'"
      ]
     },
     "execution_count": 5,
     "metadata": {},
     "output_type": "execute_result"
    }
   ],
   "source": [
    "# uitwerking 3\n",
    "opdracht[4:-4].replace('-', '')[::-1].capitalize()"
   ]
  },
  {
   "cell_type": "code",
   "execution_count": 6,
   "metadata": {},
   "outputs": [
    {
     "data": {
      "text/plain": [
       "'Python'"
      ]
     },
     "execution_count": 6,
     "metadata": {},
     "output_type": "execute_result"
    }
   ],
   "source": [
    "# uitwerking 4\n",
    "opdracht.split()[1].replace('-', '')[::-1].capitalize()"
   ]
  },
  {
   "cell_type": "code",
   "execution_count": 7,
   "metadata": {},
   "outputs": [
    {
     "data": {
      "text/plain": [
       "'Python'"
      ]
     },
     "execution_count": 7,
     "metadata": {},
     "output_type": "execute_result"
    }
   ],
   "source": [
    "# uitwerking 5\n",
    "opdracht.strip('< >').replace('-', '')[::-1].capitalize()"
   ]
  },
  {
   "cell_type": "markdown",
   "metadata": {},
   "source": [
    "### Opdracht 2: list"
   ]
  },
  {
   "cell_type": "code",
   "execution_count": 8,
   "metadata": {},
   "outputs": [],
   "source": [
    "opdracht = 'Without requirements or design, programming is the art of adding bugs to an empty text file.'.split()"
   ]
  },
  {
   "cell_type": "code",
   "execution_count": 9,
   "metadata": {},
   "outputs": [],
   "source": [
    "uitkomst = 'Without requirements or design, coding Python is the art of adding bugs to an empty Jupyter Notebook.'.split()"
   ]
  },
  {
   "cell_type": "markdown",
   "metadata": {},
   "source": [
    "***"
   ]
  },
  {
   "cell_type": "code",
   "execution_count": 10,
   "metadata": {},
   "outputs": [
    {
     "data": {
      "text/plain": [
       "True"
      ]
     },
     "execution_count": 10,
     "metadata": {},
     "output_type": "execute_result"
    }
   ],
   "source": [
    "# uitwerking 1\n",
    "opdracht = 'Without requirements or design, programming is the art of adding bugs to an empty text file.'.split()\n",
    "\n",
    "opdracht[opdracht.index('programming')] = 'coding'\n",
    "opdracht.insert(opdracht.index('coding') + 1, 'Python')\n",
    "opdracht.pop()\n",
    "opdracht.pop()\n",
    "opdracht.extend(['Jupyter', 'Notebook.'])\n",
    "\n",
    "opdracht == uitkomst"
   ]
  },
  {
   "cell_type": "code",
   "execution_count": 11,
   "metadata": {},
   "outputs": [
    {
     "data": {
      "text/plain": [
       "True"
      ]
     },
     "execution_count": 11,
     "metadata": {},
     "output_type": "execute_result"
    }
   ],
   "source": [
    "# uitwerking 2\n",
    "opdracht = 'Without requirements or design, programming is the art of adding bugs to an empty text file.'.split()\n",
    "\n",
    "opdracht[opdracht.index('programming')] = 'coding'\n",
    "opdracht.insert(opdracht.index('coding') + 1, 'Python')\n",
    "opdracht.remove('text')\n",
    "opdracht.remove('file.')\n",
    "opdracht.append('Jupyter')\n",
    "opdracht.append('Notebook.')\n",
    "\n",
    "opdracht == uitkomst"
   ]
  },
  {
   "cell_type": "markdown",
   "metadata": {},
   "source": [
    "### Opdracht 3: list comprehension"
   ]
  },
  {
   "cell_type": "code",
   "execution_count": 12,
   "metadata": {},
   "outputs": [
    {
     "name": "stdout",
     "output_type": "stream",
     "text": [
      "59.3 µs ± 6.9 µs per loop (mean ± std. dev. of 7 runs, 10000 loops each)\n"
     ]
    }
   ],
   "source": [
    "# uitwerking 1\n",
    "%timeit [(c * 9/5 + 32) for c in range(100) if (c * 9/5 + 32) > 150 and int(str(c * 9/5 + 32).split('.')[-1]) == 0]"
   ]
  },
  {
   "cell_type": "markdown",
   "metadata": {},
   "source": [
    "Korte performance analyse:  \n",
    "* 100 loops\n",
    "* conversie van float naar string\n",
    "* split string\n",
    "* subsetting\n",
    "* conversie van string naar int"
   ]
  },
  {
   "cell_type": "code",
   "execution_count": 13,
   "metadata": {},
   "outputs": [
    {
     "name": "stdout",
     "output_type": "stream",
     "text": [
      "48.5 µs ± 673 ns per loop (mean ± std. dev. of 7 runs, 10000 loops each)\n"
     ]
    }
   ],
   "source": [
    "# uitwerking 2\n",
    "%timeit [(c * 9/5 + 32) for c in range(100) if (c * 9/5 + 32) > 150 and str(c * 9/5 + 32).split('.')[-1] == '0']"
   ]
  },
  {
   "cell_type": "markdown",
   "metadata": {},
   "source": [
    "Korte performance analyse:\n",
    "* 100 loops\n",
    "* conversie van float naar string\n",
    "* split string\n",
    "* subsetting"
   ]
  },
  {
   "cell_type": "code",
   "execution_count": 14,
   "metadata": {},
   "outputs": [
    {
     "name": "stdout",
     "output_type": "stream",
     "text": [
      "33.3 µs ± 3.08 µs per loop (mean ± std. dev. of 7 runs, 10000 loops each)\n"
     ]
    }
   ],
   "source": [
    "# uitwerking 3\n",
    "%timeit [(c * 9/5 + 32) for c in range(100) if (c * 9/5 + 32) > 150 and (c * 9/5 + 32) == int(c * 9/5 + 32)]"
   ]
  },
  {
   "cell_type": "markdown",
   "metadata": {},
   "source": [
    "Korte performance analyse:\n",
    "* 100 loops\n",
    "* conversie van float naar int"
   ]
  },
  {
   "cell_type": "code",
   "execution_count": 15,
   "metadata": {},
   "outputs": [
    {
     "name": "stdout",
     "output_type": "stream",
     "text": [
      "20.3 µs ± 3.46 µs per loop (mean ± std. dev. of 7 runs, 100000 loops each)\n"
     ]
    }
   ],
   "source": [
    "# uitwerking 4\n",
    "%timeit [(c * 9/5 + 32) for c in range(100) if (c * 9/5 + 32) > 150 and c % 5 == 0]"
   ]
  },
  {
   "cell_type": "markdown",
   "metadata": {},
   "source": [
    "Korte performance analyse:\n",
    "* 100 loops"
   ]
  },
  {
   "cell_type": "code",
   "execution_count": 16,
   "metadata": {},
   "outputs": [
    {
     "name": "stdout",
     "output_type": "stream",
     "text": [
      "4.66 µs ± 204 ns per loop (mean ± std. dev. of 7 runs, 100000 loops each)\n"
     ]
    }
   ],
   "source": [
    "# uitwerking 5\n",
    "%timeit [(c * 9/5 + 32) for c in range(0, 100, 5) if (c * 9/5 + 32) > 150]"
   ]
  },
  {
   "cell_type": "markdown",
   "metadata": {},
   "source": [
    "Korte performance analyse:\n",
    "* 20 loops !!\n",
    "\n",
    "Toelichting:  \n",
    "* In de conversieformule wordt er gedeeld door 5.\n",
    "* Elk veelvoud van 5 (tussen de 0 en de 100) levert daarom een geheel getal (integer) op bij delen door 5.\n",
    "* En dat blijft een geheel getal als je er 32 bij optelt.\n",
    "* Met deze wetenschap kun je het aantal loops flink terug brengen!\n",
    "* Hiermee heb je tevens het voordeel dat er één conditie minder achter het if-statement nodig is.\n",
    "* Daarmee is deze oplossing ongeveer 4x sneller dan de '2nd best solution' en ongeveer 12x sneller dan uitwerking nr 1."
   ]
  },
  {
   "cell_type": "markdown",
   "metadata": {},
   "source": [
    "### Opdracht 4a: for"
   ]
  },
  {
   "cell_type": "code",
   "execution_count": 17,
   "metadata": {},
   "outputs": [
    {
     "name": "stdout",
     "output_type": "stream",
     "text": [
      "1\n",
      "7\n",
      "11\n",
      "13\n",
      "17\n",
      "19\n",
      "23\n",
      "29\n",
      "31\n",
      "37\n",
      "41\n",
      "43\n",
      "47\n",
      "49\n",
      "53\n",
      "59\n",
      "61\n",
      "67\n",
      "71\n",
      "73\n",
      "77\n",
      "79\n",
      "83\n",
      "89\n",
      "91\n",
      "97\n",
      "\n",
      "Er zijn 26 getallen gevonden die niet deelbaar zijn door 2, 3, 4 of 5.\n"
     ]
    }
   ],
   "source": [
    "# uitwerking 1\n",
    "aantal = 0\n",
    "for num in range(1, 101):\n",
    "    if num % 2 == 0 or num % 3 == 0 or num % 4 == 0 or num % 5 == 0:\n",
    "        continue\n",
    "    aantal += 1\n",
    "    print(num)\n",
    "print('\\nEr zijn {} getallen gevonden die niet deelbaar zijn door 2, 3, 4 of 5.'.format(aantal))"
   ]
  },
  {
   "cell_type": "code",
   "execution_count": 18,
   "metadata": {},
   "outputs": [
    {
     "name": "stdout",
     "output_type": "stream",
     "text": [
      "[1, 7, 11, 13, 17, 19, 23, 29, 31, 37, 41, 43, 47, 49, 53, 59, 61, 67, 71, 73, 77, 79, 83, 89, 91, 97]\n",
      "Er zijn 26 getallen gevonden die niet deelbaar zijn door 2, 3, 4 of 5.\n"
     ]
    }
   ],
   "source": [
    "# uitwerking 2\n",
    "resultaat = list()\n",
    "for num in range(1, 101):\n",
    "    if num % 2 == 0 or num % 3 == 0 or num % 4 == 0 or num % 5 == 0:\n",
    "        continue\n",
    "    resultaat.append(num)\n",
    "print(resultaat)\n",
    "print('Er zijn {} getallen gevonden die niet deelbaar zijn door 2, 3, 4 of 5.'.format(len(resultaat)))"
   ]
  },
  {
   "cell_type": "code",
   "execution_count": 19,
   "metadata": {},
   "outputs": [
    {
     "name": "stdout",
     "output_type": "stream",
     "text": [
      "[1, 7, 11, 13, 17, 19, 23, 29, 31, 37, 41, 43, 47, 49, 53, 59, 61, 67, 71, 73, 77, 79, 83, 89, 91, 97]\n",
      "Er zijn 26 getallen gevonden die niet deelbaar zijn door 2, 3, 4 of 5.\n"
     ]
    }
   ],
   "source": [
    "# uitwerking 3\n",
    "resultaat = list()\n",
    "for num in range(1, 101):\n",
    "    test_resultaat = True\n",
    "    for test in range(2, 6):\n",
    "        if num % test == 0:\n",
    "            test_resultaat = False\n",
    "            break\n",
    "    if test_resultaat:\n",
    "        resultaat.append(num)\n",
    "print(resultaat)\n",
    "print('Er zijn {} getallen gevonden die niet deelbaar zijn door 2, 3, 4 of 5.'.format(len(resultaat)))"
   ]
  },
  {
   "cell_type": "markdown",
   "metadata": {},
   "source": [
    "### Opdracht 4b: while"
   ]
  },
  {
   "cell_type": "code",
   "execution_count": 20,
   "metadata": {},
   "outputs": [
    {
     "name": "stdout",
     "output_type": "stream",
     "text": [
      "1\n",
      "7\n",
      "11\n",
      "13\n",
      "17\n",
      "19\n",
      "23\n",
      "29\n",
      "31\n",
      "37\n",
      "41\n",
      "43\n",
      "47\n",
      "49\n",
      "53\n",
      "59\n",
      "61\n",
      "67\n",
      "71\n",
      "73\n",
      "77\n",
      "79\n",
      "83\n",
      "89\n",
      "91\n",
      "97\n",
      "\n",
      "Er zijn 26 getallen gevonden die niet deelbaar zijn door 2, 3, 4 of 5.\n"
     ]
    }
   ],
   "source": [
    "# uitwerking 1\n",
    "num = 0\n",
    "aantal = 0\n",
    "while True:\n",
    "    num += 1\n",
    "    if num % 2 == 0 or num % 3 == 0 or num % 4 == 0 or num % 5 == 0:\n",
    "        continue\n",
    "    if num > 100:\n",
    "        break\n",
    "    print(num)\n",
    "    aantal += 1\n",
    "print('\\nEr zijn {} getallen gevonden die niet deelbaar zijn door 2, 3, 4 of 5.'.format(aantal))"
   ]
  },
  {
   "cell_type": "code",
   "execution_count": 21,
   "metadata": {},
   "outputs": [
    {
     "name": "stdout",
     "output_type": "stream",
     "text": [
      "[1, 7, 11, 13, 17, 19, 23, 29, 31, 37, 41, 43, 47, 49, 53, 59, 61, 67, 71, 73, 77, 79, 83, 89, 91, 97]\n",
      "Er zijn 26 getallen gevonden die niet deelbaar zijn door 2, 3, 4 of 5.\n"
     ]
    }
   ],
   "source": [
    "# uitwerking 2\n",
    "num = 0\n",
    "resultaat = list()\n",
    "while True:\n",
    "    num += 1\n",
    "    if num % 2 == 0 or num % 3 == 0 or num % 4 == 0 or num % 5 == 0:\n",
    "        continue\n",
    "    if num > 100:\n",
    "        break\n",
    "    resultaat.append(num)\n",
    "print(resultaat)\n",
    "print('Er zijn {} getallen gevonden die niet deelbaar zijn door 2, 3, 4 of 5.'.format(len(resultaat)))"
   ]
  },
  {
   "cell_type": "code",
   "execution_count": 22,
   "metadata": {},
   "outputs": [
    {
     "name": "stdout",
     "output_type": "stream",
     "text": [
      "[1, 7, 11, 13, 17, 19, 23, 29, 31, 37, 41, 43, 47, 49, 53, 59, 61, 67, 71, 73, 77, 79, 83, 89, 91, 97]\n",
      "Er zijn 26 getallen gevonden die niet deelbaar zijn door 2, 3, 4 of 5.\n"
     ]
    }
   ],
   "source": [
    "# uitwerking 3\n",
    "num = 0\n",
    "resultaat = list()\n",
    "while True:\n",
    "    num += 1\n",
    "    teller = 0 # teller om het aantal getallen uit range(2, 6) te tellen waardoor num deelbaar is.\n",
    "    for test in range(2, 6):\n",
    "        if num % test == 0:\n",
    "            teller += 1\n",
    "            break # break de for loop als num deelbaar is door een getal uit range(2, 6)\n",
    "    if teller == 0:\n",
    "        resultaat.append(num)\n",
    "    if num >= 100:\n",
    "        break\n",
    "print(resultaat)\n",
    "print('Er zijn {} getallen gevonden die niet deelbaar zijn door 2, 3, 4 of 5.'.format(len(resultaat)))"
   ]
  },
  {
   "cell_type": "markdown",
   "metadata": {},
   "source": [
    "### Opdracht 5a: function"
   ]
  },
  {
   "cell_type": "code",
   "execution_count": 23,
   "metadata": {},
   "outputs": [
    {
     "data": {
      "text/plain": [
       "(2, 1)"
      ]
     },
     "execution_count": 23,
     "metadata": {},
     "output_type": "execute_result"
    }
   ],
   "source": [
    "def deel(x, y):\n",
    "    return x // y, x % y\n",
    "\n",
    "deel(15, 7)"
   ]
  },
  {
   "cell_type": "markdown",
   "metadata": {},
   "source": [
    "### Opdracht 5b: error handling"
   ]
  },
  {
   "cell_type": "code",
   "execution_count": 24,
   "metadata": {},
   "outputs": [],
   "source": [
    "# uitwerking\n",
    "def deel(x = None, y = 1):\n",
    "    try:\n",
    "        if x == None:\n",
    "            raise ValueError(\"Argument 'x' ontbreekt of heeft waarde 'None'\")\n",
    "        return x // y, x % y\n",
    "    except ZeroDivisionError as E:\n",
    "        print(E)\n",
    "    except TypeError as E:\n",
    "        print(E)\n",
    "    except ValueError as E:\n",
    "        print(E)"
   ]
  },
  {
   "cell_type": "code",
   "execution_count": 25,
   "metadata": {},
   "outputs": [
    {
     "name": "stdout",
     "output_type": "stream",
     "text": [
      "1 (2, 1) \n",
      "\n",
      "2 (0, 7) \n",
      "\n",
      "3 (15, 0) \n",
      "\n",
      "4 (0, 0) \n",
      "\n",
      "5 (2.0, 0.5) \n",
      "\n",
      "integer division or modulo by zero\n",
      "6 None \n",
      "\n",
      "unsupported operand type(s) for //: 'str' and 'str'\n",
      "7 None \n",
      "\n",
      "unsupported operand type(s) for //: 'list' and 'int'\n",
      "8 None \n",
      "\n",
      "Argument 'x' ontbreekt of heeft waarde 'None'\n",
      "9 None\n"
     ]
    }
   ],
   "source": [
    "print(1, deel(15, 7), '\\n') # (2, 1)\n",
    "print(2, deel(7, 15), '\\n') # (0, 7)\n",
    "print(3, deel(15), '\\n') # (15, 0)\n",
    "print(4, deel(0, 15), '\\n') # (0, 0)\n",
    "print(5, deel(5.5, 2.5), '\\n') # (2.0, 0.5)\n",
    "print(6, deel(15, 0), '\\n') # integer division or modulo by zero\n",
    "print(7, deel('vijftien', 'zeven'), '\\n') # unsupported operand type(s) for //: 'str' and 'str'\n",
    "print(8, deel([15, 7]), '\\n') # unsupported operand type(s) for //: 'list' and 'int'\n",
    "print(9, deel(y = 7)) # Argument 'x' ontbreekt of heeft waarde 'None'"
   ]
  },
  {
   "cell_type": "code",
   "execution_count": 26,
   "metadata": {},
   "outputs": [],
   "source": [
    "# uitwerking, optioneel\n",
    "def deel(x = None, y = 1):\n",
    "    try:\n",
    "        if x == None:\n",
    "            raise ValueError(\"Argument 'x' ontbreekt of heeft waarde 'None'\")\n",
    "        if int(x % y) == x % y:\n",
    "            return {'aantal': int(x // y), 'rest': int(x % y)}\n",
    "        else:\n",
    "            return {'aantal': int(x // y), 'rest': x % y}\n",
    "    except ZeroDivisionError as E:\n",
    "        print(E)\n",
    "    except TypeError as E:\n",
    "        print(E)\n",
    "    except ValueError as E:\n",
    "        print(E)"
   ]
  },
  {
   "cell_type": "code",
   "execution_count": 27,
   "metadata": {},
   "outputs": [
    {
     "name": "stdout",
     "output_type": "stream",
     "text": [
      "{'aantal': 3, 'rest': 1} \n",
      "\n",
      "aantal: <class 'int'>\n",
      "rest  : <class 'int'>\n"
     ]
    }
   ],
   "source": [
    "print(deel(8.5, 2.5), '\\n')\n",
    "print('aantal:', type(deel(8.5, 2.5)['aantal']))\n",
    "print('rest  :', type(deel(8.5, 2.5)['rest']))"
   ]
  },
  {
   "cell_type": "code",
   "execution_count": 28,
   "metadata": {},
   "outputs": [
    {
     "name": "stdout",
     "output_type": "stream",
     "text": [
      "{'aantal': 2, 'rest': 1.5} \n",
      "\n",
      "aantal: <class 'int'>\n",
      "rest  : <class 'float'>\n"
     ]
    }
   ],
   "source": [
    "print(deel(8.5, 3.5), '\\n')\n",
    "print('aantal:', type(deel(8.5, 3.5)['aantal']))\n",
    "print('rest  :', type(deel(8.5, 3.5)['rest']))"
   ]
  },
  {
   "cell_type": "markdown",
   "metadata": {},
   "source": [
    "### Opdracht 6: lambda expression"
   ]
  },
  {
   "cell_type": "code",
   "execution_count": 29,
   "metadata": {},
   "outputs": [],
   "source": [
    "celsius = range(100)"
   ]
  },
  {
   "cell_type": "markdown",
   "metadata": {},
   "source": [
    "***"
   ]
  },
  {
   "cell_type": "code",
   "execution_count": 30,
   "metadata": {},
   "outputs": [
    {
     "data": {
      "text/plain": [
       "[201.2, 203.0, 204.8, 206.6, 208.4, 210.2]"
      ]
     },
     "execution_count": 30,
     "metadata": {},
     "output_type": "execute_result"
    }
   ],
   "source": [
    "list(filter(lambda f: f > 200, map(lambda c: c * 9 / 5 + 32, celsius)))"
   ]
  },
  {
   "cell_type": "markdown",
   "metadata": {},
   "source": [
    "### Opdracht 7: inlezen csv"
   ]
  },
  {
   "cell_type": "code",
   "execution_count": 31,
   "metadata": {},
   "outputs": [],
   "source": [
    "import pandas as pd"
   ]
  },
  {
   "cell_type": "code",
   "execution_count": 32,
   "metadata": {},
   "outputs": [
    {
     "data": {
      "text/html": [
       "<div>\n",
       "<style scoped>\n",
       "    .dataframe tbody tr th:only-of-type {\n",
       "        vertical-align: middle;\n",
       "    }\n",
       "\n",
       "    .dataframe tbody tr th {\n",
       "        vertical-align: top;\n",
       "    }\n",
       "\n",
       "    .dataframe thead th {\n",
       "        text-align: right;\n",
       "    }\n",
       "</style>\n",
       "<table border=\"1\" class=\"dataframe\">\n",
       "  <thead>\n",
       "    <tr style=\"text-align: right;\">\n",
       "      <th></th>\n",
       "      <th>id</th>\n",
       "      <th>leeftijd</th>\n",
       "      <th>geslacht</th>\n",
       "      <th>groep</th>\n",
       "    </tr>\n",
       "  </thead>\n",
       "  <tbody>\n",
       "    <tr>\n",
       "      <th>43</th>\n",
       "      <td>44</td>\n",
       "      <td>96</td>\n",
       "      <td>V</td>\n",
       "      <td>NaN</td>\n",
       "    </tr>\n",
       "    <tr>\n",
       "      <th>44</th>\n",
       "      <td>45</td>\n",
       "      <td>46</td>\n",
       "      <td>V</td>\n",
       "      <td>C</td>\n",
       "    </tr>\n",
       "    <tr>\n",
       "      <th>45</th>\n",
       "      <td>46</td>\n",
       "      <td>38</td>\n",
       "      <td>M</td>\n",
       "      <td>A</td>\n",
       "    </tr>\n",
       "    <tr>\n",
       "      <th>46</th>\n",
       "      <td>47</td>\n",
       "      <td>41</td>\n",
       "      <td>V</td>\n",
       "      <td>A</td>\n",
       "    </tr>\n",
       "    <tr>\n",
       "      <th>47</th>\n",
       "      <td>48</td>\n",
       "      <td>28</td>\n",
       "      <td>V</td>\n",
       "      <td>C</td>\n",
       "    </tr>\n",
       "    <tr>\n",
       "      <th>48</th>\n",
       "      <td>49</td>\n",
       "      <td>92</td>\n",
       "      <td>NaN</td>\n",
       "      <td>C</td>\n",
       "    </tr>\n",
       "    <tr>\n",
       "      <th>49</th>\n",
       "      <td>50</td>\n",
       "      <td>22</td>\n",
       "      <td>M</td>\n",
       "      <td>C</td>\n",
       "    </tr>\n",
       "  </tbody>\n",
       "</table>\n",
       "</div>"
      ],
      "text/plain": [
       "    id  leeftijd geslacht groep\n",
       "43  44        96        V   NaN\n",
       "44  45        46        V     C\n",
       "45  46        38        M     A\n",
       "46  47        41        V     A\n",
       "47  48        28        V     C\n",
       "48  49        92      NaN     C\n",
       "49  50        22        M     C"
      ]
     },
     "execution_count": 32,
     "metadata": {},
     "output_type": "execute_result"
    }
   ],
   "source": [
    "# uitwerking 1\n",
    "file = '../data/leesmij.csv'\n",
    "pd.read_csv(file, sep='/', skiprows=1, engine='python', skipfooter=2, na_values=['??', '-', ' ', '  ']).tail(7)"
   ]
  },
  {
   "cell_type": "code",
   "execution_count": 33,
   "metadata": {},
   "outputs": [
    {
     "data": {
      "text/html": [
       "<div>\n",
       "<style scoped>\n",
       "    .dataframe tbody tr th:only-of-type {\n",
       "        vertical-align: middle;\n",
       "    }\n",
       "\n",
       "    .dataframe tbody tr th {\n",
       "        vertical-align: top;\n",
       "    }\n",
       "\n",
       "    .dataframe thead th {\n",
       "        text-align: right;\n",
       "    }\n",
       "</style>\n",
       "<table border=\"1\" class=\"dataframe\">\n",
       "  <thead>\n",
       "    <tr style=\"text-align: right;\">\n",
       "      <th></th>\n",
       "      <th>id</th>\n",
       "      <th>leeftijd</th>\n",
       "      <th>geslacht</th>\n",
       "      <th>groep</th>\n",
       "    </tr>\n",
       "  </thead>\n",
       "  <tbody>\n",
       "    <tr>\n",
       "      <th>43</th>\n",
       "      <td>44</td>\n",
       "      <td>96.0</td>\n",
       "      <td>V</td>\n",
       "      <td>NaN</td>\n",
       "    </tr>\n",
       "    <tr>\n",
       "      <th>44</th>\n",
       "      <td>45</td>\n",
       "      <td>46.0</td>\n",
       "      <td>V</td>\n",
       "      <td>C</td>\n",
       "    </tr>\n",
       "    <tr>\n",
       "      <th>45</th>\n",
       "      <td>46</td>\n",
       "      <td>38.0</td>\n",
       "      <td>M</td>\n",
       "      <td>A</td>\n",
       "    </tr>\n",
       "    <tr>\n",
       "      <th>46</th>\n",
       "      <td>47</td>\n",
       "      <td>41.0</td>\n",
       "      <td>V</td>\n",
       "      <td>A</td>\n",
       "    </tr>\n",
       "    <tr>\n",
       "      <th>47</th>\n",
       "      <td>48</td>\n",
       "      <td>28.0</td>\n",
       "      <td>V</td>\n",
       "      <td>C</td>\n",
       "    </tr>\n",
       "    <tr>\n",
       "      <th>48</th>\n",
       "      <td>49</td>\n",
       "      <td>92.0</td>\n",
       "      <td>NaN</td>\n",
       "      <td>C</td>\n",
       "    </tr>\n",
       "    <tr>\n",
       "      <th>49</th>\n",
       "      <td>50</td>\n",
       "      <td>22.0</td>\n",
       "      <td>M</td>\n",
       "      <td>C</td>\n",
       "    </tr>\n",
       "  </tbody>\n",
       "</table>\n",
       "</div>"
      ],
      "text/plain": [
       "    id  leeftijd geslacht groep\n",
       "43  44      96.0        V   NaN\n",
       "44  45      46.0        V     C\n",
       "45  46      38.0        M     A\n",
       "46  47      41.0        V     A\n",
       "47  48      28.0        V     C\n",
       "48  49      92.0      NaN     C\n",
       "49  50      22.0        M     C"
      ]
     },
     "execution_count": 33,
     "metadata": {},
     "output_type": "execute_result"
    }
   ],
   "source": [
    "# uitwerking 2\n",
    "file = '../data/leesmij.csv'\n",
    "pd.read_csv(file, sep='/', skiprows=1, na_values=['??', '-', ' ', '  '])[:-2].tail(7)"
   ]
  },
  {
   "cell_type": "code",
   "execution_count": 34,
   "metadata": {},
   "outputs": [
    {
     "name": "stdout",
     "output_type": "stream",
     "text": [
      "    id  leeftijd geslacht groep\n",
      "43  44        96        V   NaN\n",
      "44  45        46        V     C\n",
      "45  46        38        M     A\n",
      "46  47        41        V     A\n",
      "47  48        28        V     C\n",
      "48  49        92      NaN     C\n",
      "49  50        22        M     C\n"
     ]
    }
   ],
   "source": [
    "# uitwerking 3\n",
    "import sys\n",
    "import os\n",
    "\n",
    "f = open('../data/leesmij.csv', 'r')\n",
    "lines = f.readlines()\n",
    "\n",
    "f = open('../data/leesmij_geschoond.csv', 'w')\n",
    "\n",
    "for line in lines[1:-2]:\n",
    "    f.write(line)\n",
    "f.close()\n",
    "\n",
    "print(pd.read_csv('../data/leesmij_geschoond.csv', sep='/', na_values=['??', '-', ' ', '  ']).tail(7))\n",
    "\n",
    "os.remove('../data/leesmij_geschoond.csv')"
   ]
  },
  {
   "cell_type": "markdown",
   "metadata": {},
   "source": [
    "### Opdracht 8: genereren data"
   ]
  },
  {
   "cell_type": "code",
   "execution_count": 35,
   "metadata": {},
   "outputs": [],
   "source": [
    "import pandas as pd\n",
    "import numpy as np"
   ]
  },
  {
   "cell_type": "code",
   "execution_count": 36,
   "metadata": {},
   "outputs": [
    {
     "data": {
      "text/html": [
       "<div>\n",
       "<style scoped>\n",
       "    .dataframe tbody tr th:only-of-type {\n",
       "        vertical-align: middle;\n",
       "    }\n",
       "\n",
       "    .dataframe tbody tr th {\n",
       "        vertical-align: top;\n",
       "    }\n",
       "\n",
       "    .dataframe thead th {\n",
       "        text-align: right;\n",
       "    }\n",
       "</style>\n",
       "<table border=\"1\" class=\"dataframe\">\n",
       "  <thead>\n",
       "    <tr style=\"text-align: right;\">\n",
       "      <th></th>\n",
       "      <th>id</th>\n",
       "      <th>grp</th>\n",
       "      <th>fkg</th>\n",
       "      <th>dkg</th>\n",
       "    </tr>\n",
       "  </thead>\n",
       "  <tbody>\n",
       "    <tr>\n",
       "      <th>2906</th>\n",
       "      <td>90685</td>\n",
       "      <td>1</td>\n",
       "      <td>0</td>\n",
       "      <td>1</td>\n",
       "    </tr>\n",
       "    <tr>\n",
       "      <th>781</th>\n",
       "      <td>16949</td>\n",
       "      <td>35</td>\n",
       "      <td>1</td>\n",
       "      <td>0</td>\n",
       "    </tr>\n",
       "    <tr>\n",
       "      <th>8934</th>\n",
       "      <td>86928</td>\n",
       "      <td>13</td>\n",
       "      <td>0</td>\n",
       "      <td>1</td>\n",
       "    </tr>\n",
       "    <tr>\n",
       "      <th>1030</th>\n",
       "      <td>14018</td>\n",
       "      <td>16</td>\n",
       "      <td>1</td>\n",
       "      <td>0</td>\n",
       "    </tr>\n",
       "    <tr>\n",
       "      <th>3768</th>\n",
       "      <td>37606</td>\n",
       "      <td>2</td>\n",
       "      <td>0</td>\n",
       "      <td>0</td>\n",
       "    </tr>\n",
       "    <tr>\n",
       "      <th>8610</th>\n",
       "      <td>31577</td>\n",
       "      <td>34</td>\n",
       "      <td>1</td>\n",
       "      <td>1</td>\n",
       "    </tr>\n",
       "    <tr>\n",
       "      <th>832</th>\n",
       "      <td>33061</td>\n",
       "      <td>36</td>\n",
       "      <td>0</td>\n",
       "      <td>1</td>\n",
       "    </tr>\n",
       "    <tr>\n",
       "      <th>7116</th>\n",
       "      <td>70101</td>\n",
       "      <td>30</td>\n",
       "      <td>0</td>\n",
       "      <td>0</td>\n",
       "    </tr>\n",
       "    <tr>\n",
       "      <th>811</th>\n",
       "      <td>27144</td>\n",
       "      <td>9</td>\n",
       "      <td>1</td>\n",
       "      <td>0</td>\n",
       "    </tr>\n",
       "    <tr>\n",
       "      <th>6708</th>\n",
       "      <td>79101</td>\n",
       "      <td>35</td>\n",
       "      <td>1</td>\n",
       "      <td>1</td>\n",
       "    </tr>\n",
       "  </tbody>\n",
       "</table>\n",
       "</div>"
      ],
      "text/plain": [
       "         id  grp  fkg  dkg\n",
       "2906  90685    1    0    1\n",
       "781   16949   35    1    0\n",
       "8934  86928   13    0    1\n",
       "1030  14018   16    1    0\n",
       "3768  37606    2    0    0\n",
       "8610  31577   34    1    1\n",
       "832   33061   36    0    1\n",
       "7116  70101   30    0    0\n",
       "811   27144    9    1    0\n",
       "6708  79101   35    1    1"
      ]
     },
     "execution_count": 36,
     "metadata": {},
     "output_type": "execute_result"
    }
   ],
   "source": [
    "np.random.seed(42)\n",
    "aantal_personen = 10000\n",
    "df = pd.DataFrame({'id': np.random.choice(range(10000, 100000), aantal_personen),\n",
    "                   'grp': np.random.choice(range(1, 41), aantal_personen, replace=True),\n",
    "                   'fkg': np.random.choice(range(2), aantal_personen, replace=True),\n",
    "                   'dkg': np.random.choice(range(2), aantal_personen, replace=True)})\n",
    "df.sample(n=10)"
   ]
  },
  {
   "cell_type": "markdown",
   "metadata": {},
   "source": [
    "### Opdracht 9a: toevoegen kolom"
   ]
  },
  {
   "cell_type": "code",
   "execution_count": 37,
   "metadata": {},
   "outputs": [
    {
     "data": {
      "text/html": [
       "<div>\n",
       "<style scoped>\n",
       "    .dataframe tbody tr th:only-of-type {\n",
       "        vertical-align: middle;\n",
       "    }\n",
       "\n",
       "    .dataframe tbody tr th {\n",
       "        vertical-align: top;\n",
       "    }\n",
       "\n",
       "    .dataframe thead th {\n",
       "        text-align: right;\n",
       "    }\n",
       "</style>\n",
       "<table border=\"1\" class=\"dataframe\">\n",
       "  <thead>\n",
       "    <tr style=\"text-align: right;\">\n",
       "      <th></th>\n",
       "      <th>id</th>\n",
       "      <th>grp</th>\n",
       "      <th>fkg</th>\n",
       "      <th>dkg</th>\n",
       "      <th>geslacht</th>\n",
       "    </tr>\n",
       "  </thead>\n",
       "  <tbody>\n",
       "    <tr>\n",
       "      <th>0</th>\n",
       "      <td>25795</td>\n",
       "      <td>6</td>\n",
       "      <td>1</td>\n",
       "      <td>1</td>\n",
       "      <td>man</td>\n",
       "    </tr>\n",
       "    <tr>\n",
       "      <th>1</th>\n",
       "      <td>10860</td>\n",
       "      <td>13</td>\n",
       "      <td>1</td>\n",
       "      <td>0</td>\n",
       "      <td>man</td>\n",
       "    </tr>\n",
       "    <tr>\n",
       "      <th>2</th>\n",
       "      <td>86820</td>\n",
       "      <td>22</td>\n",
       "      <td>0</td>\n",
       "      <td>0</td>\n",
       "      <td>vrouw</td>\n",
       "    </tr>\n",
       "    <tr>\n",
       "      <th>3</th>\n",
       "      <td>64886</td>\n",
       "      <td>31</td>\n",
       "      <td>1</td>\n",
       "      <td>1</td>\n",
       "      <td>vrouw</td>\n",
       "    </tr>\n",
       "    <tr>\n",
       "      <th>4</th>\n",
       "      <td>16265</td>\n",
       "      <td>22</td>\n",
       "      <td>1</td>\n",
       "      <td>0</td>\n",
       "      <td>vrouw</td>\n",
       "    </tr>\n",
       "  </tbody>\n",
       "</table>\n",
       "</div>"
      ],
      "text/plain": [
       "      id  grp  fkg  dkg geslacht\n",
       "0  25795    6    1    1      man\n",
       "1  10860   13    1    0      man\n",
       "2  86820   22    0    0    vrouw\n",
       "3  64886   31    1    1    vrouw\n",
       "4  16265   22    1    0    vrouw"
      ]
     },
     "execution_count": 37,
     "metadata": {},
     "output_type": "execute_result"
    }
   ],
   "source": [
    "df['geslacht'] = np.where(df.grp <= 20, 'man', 'vrouw')\n",
    "df.head()"
   ]
  },
  {
   "cell_type": "markdown",
   "metadata": {},
   "source": [
    "### Opdracht 9b: toevoegen kolom"
   ]
  },
  {
   "cell_type": "code",
   "execution_count": 38,
   "metadata": {},
   "outputs": [
    {
     "data": {
      "text/html": [
       "<div>\n",
       "<style scoped>\n",
       "    .dataframe tbody tr th:only-of-type {\n",
       "        vertical-align: middle;\n",
       "    }\n",
       "\n",
       "    .dataframe tbody tr th {\n",
       "        vertical-align: top;\n",
       "    }\n",
       "\n",
       "    .dataframe thead th {\n",
       "        text-align: right;\n",
       "    }\n",
       "</style>\n",
       "<table border=\"1\" class=\"dataframe\">\n",
       "  <thead>\n",
       "    <tr style=\"text-align: right;\">\n",
       "      <th></th>\n",
       "      <th>id</th>\n",
       "      <th>grp</th>\n",
       "      <th>fkg</th>\n",
       "      <th>dkg</th>\n",
       "      <th>geslacht</th>\n",
       "      <th>65</th>\n",
       "    </tr>\n",
       "  </thead>\n",
       "  <tbody>\n",
       "    <tr>\n",
       "      <th>0</th>\n",
       "      <td>25795</td>\n",
       "      <td>6</td>\n",
       "      <td>1</td>\n",
       "      <td>1</td>\n",
       "      <td>man</td>\n",
       "      <td>65-</td>\n",
       "    </tr>\n",
       "    <tr>\n",
       "      <th>1</th>\n",
       "      <td>10860</td>\n",
       "      <td>13</td>\n",
       "      <td>1</td>\n",
       "      <td>0</td>\n",
       "      <td>man</td>\n",
       "      <td>65-</td>\n",
       "    </tr>\n",
       "    <tr>\n",
       "      <th>2</th>\n",
       "      <td>86820</td>\n",
       "      <td>22</td>\n",
       "      <td>0</td>\n",
       "      <td>0</td>\n",
       "      <td>vrouw</td>\n",
       "      <td>65-</td>\n",
       "    </tr>\n",
       "    <tr>\n",
       "      <th>3</th>\n",
       "      <td>64886</td>\n",
       "      <td>31</td>\n",
       "      <td>1</td>\n",
       "      <td>1</td>\n",
       "      <td>vrouw</td>\n",
       "      <td>65-</td>\n",
       "    </tr>\n",
       "    <tr>\n",
       "      <th>4</th>\n",
       "      <td>16265</td>\n",
       "      <td>22</td>\n",
       "      <td>1</td>\n",
       "      <td>0</td>\n",
       "      <td>vrouw</td>\n",
       "      <td>65-</td>\n",
       "    </tr>\n",
       "    <tr>\n",
       "      <th>5</th>\n",
       "      <td>92386</td>\n",
       "      <td>37</td>\n",
       "      <td>0</td>\n",
       "      <td>1</td>\n",
       "      <td>vrouw</td>\n",
       "      <td>65+</td>\n",
       "    </tr>\n",
       "    <tr>\n",
       "      <th>6</th>\n",
       "      <td>47194</td>\n",
       "      <td>27</td>\n",
       "      <td>1</td>\n",
       "      <td>0</td>\n",
       "      <td>vrouw</td>\n",
       "      <td>65-</td>\n",
       "    </tr>\n",
       "    <tr>\n",
       "      <th>7</th>\n",
       "      <td>97498</td>\n",
       "      <td>14</td>\n",
       "      <td>1</td>\n",
       "      <td>1</td>\n",
       "      <td>man</td>\n",
       "      <td>65+</td>\n",
       "    </tr>\n",
       "    <tr>\n",
       "      <th>8</th>\n",
       "      <td>54131</td>\n",
       "      <td>5</td>\n",
       "      <td>1</td>\n",
       "      <td>0</td>\n",
       "      <td>man</td>\n",
       "      <td>65-</td>\n",
       "    </tr>\n",
       "    <tr>\n",
       "      <th>9</th>\n",
       "      <td>70263</td>\n",
       "      <td>36</td>\n",
       "      <td>0</td>\n",
       "      <td>1</td>\n",
       "      <td>vrouw</td>\n",
       "      <td>65+</td>\n",
       "    </tr>\n",
       "  </tbody>\n",
       "</table>\n",
       "</div>"
      ],
      "text/plain": [
       "      id  grp  fkg  dkg geslacht   65\n",
       "0  25795    6    1    1      man  65-\n",
       "1  10860   13    1    0      man  65-\n",
       "2  86820   22    0    0    vrouw  65-\n",
       "3  64886   31    1    1    vrouw  65-\n",
       "4  16265   22    1    0    vrouw  65-\n",
       "5  92386   37    0    1    vrouw  65+\n",
       "6  47194   27    1    0    vrouw  65-\n",
       "7  97498   14    1    1      man  65+\n",
       "8  54131    5    1    0      man  65-\n",
       "9  70263   36    0    1    vrouw  65+"
      ]
     },
     "execution_count": 38,
     "metadata": {},
     "output_type": "execute_result"
    }
   ],
   "source": [
    "# uitwerking 1\n",
    "df['65'] = ['65+' if (g >= 14 and g <= 20) or g >= 34 else '65-' for g in df.grp]\n",
    "df.head(10)"
   ]
  },
  {
   "cell_type": "code",
   "execution_count": 39,
   "metadata": {},
   "outputs": [
    {
     "data": {
      "text/html": [
       "<div>\n",
       "<style scoped>\n",
       "    .dataframe tbody tr th:only-of-type {\n",
       "        vertical-align: middle;\n",
       "    }\n",
       "\n",
       "    .dataframe tbody tr th {\n",
       "        vertical-align: top;\n",
       "    }\n",
       "\n",
       "    .dataframe thead th {\n",
       "        text-align: right;\n",
       "    }\n",
       "</style>\n",
       "<table border=\"1\" class=\"dataframe\">\n",
       "  <thead>\n",
       "    <tr style=\"text-align: right;\">\n",
       "      <th></th>\n",
       "      <th>id</th>\n",
       "      <th>grp</th>\n",
       "      <th>fkg</th>\n",
       "      <th>dkg</th>\n",
       "      <th>geslacht</th>\n",
       "      <th>65</th>\n",
       "    </tr>\n",
       "  </thead>\n",
       "  <tbody>\n",
       "    <tr>\n",
       "      <th>0</th>\n",
       "      <td>25795</td>\n",
       "      <td>6</td>\n",
       "      <td>1</td>\n",
       "      <td>1</td>\n",
       "      <td>man</td>\n",
       "      <td>65-</td>\n",
       "    </tr>\n",
       "    <tr>\n",
       "      <th>1</th>\n",
       "      <td>10860</td>\n",
       "      <td>13</td>\n",
       "      <td>1</td>\n",
       "      <td>0</td>\n",
       "      <td>man</td>\n",
       "      <td>65-</td>\n",
       "    </tr>\n",
       "    <tr>\n",
       "      <th>2</th>\n",
       "      <td>86820</td>\n",
       "      <td>22</td>\n",
       "      <td>0</td>\n",
       "      <td>0</td>\n",
       "      <td>vrouw</td>\n",
       "      <td>65-</td>\n",
       "    </tr>\n",
       "    <tr>\n",
       "      <th>3</th>\n",
       "      <td>64886</td>\n",
       "      <td>31</td>\n",
       "      <td>1</td>\n",
       "      <td>1</td>\n",
       "      <td>vrouw</td>\n",
       "      <td>65-</td>\n",
       "    </tr>\n",
       "    <tr>\n",
       "      <th>4</th>\n",
       "      <td>16265</td>\n",
       "      <td>22</td>\n",
       "      <td>1</td>\n",
       "      <td>0</td>\n",
       "      <td>vrouw</td>\n",
       "      <td>65-</td>\n",
       "    </tr>\n",
       "    <tr>\n",
       "      <th>5</th>\n",
       "      <td>92386</td>\n",
       "      <td>37</td>\n",
       "      <td>0</td>\n",
       "      <td>1</td>\n",
       "      <td>vrouw</td>\n",
       "      <td>65+</td>\n",
       "    </tr>\n",
       "    <tr>\n",
       "      <th>6</th>\n",
       "      <td>47194</td>\n",
       "      <td>27</td>\n",
       "      <td>1</td>\n",
       "      <td>0</td>\n",
       "      <td>vrouw</td>\n",
       "      <td>65-</td>\n",
       "    </tr>\n",
       "    <tr>\n",
       "      <th>7</th>\n",
       "      <td>97498</td>\n",
       "      <td>14</td>\n",
       "      <td>1</td>\n",
       "      <td>1</td>\n",
       "      <td>man</td>\n",
       "      <td>65+</td>\n",
       "    </tr>\n",
       "    <tr>\n",
       "      <th>8</th>\n",
       "      <td>54131</td>\n",
       "      <td>5</td>\n",
       "      <td>1</td>\n",
       "      <td>0</td>\n",
       "      <td>man</td>\n",
       "      <td>65-</td>\n",
       "    </tr>\n",
       "    <tr>\n",
       "      <th>9</th>\n",
       "      <td>70263</td>\n",
       "      <td>36</td>\n",
       "      <td>0</td>\n",
       "      <td>1</td>\n",
       "      <td>vrouw</td>\n",
       "      <td>65+</td>\n",
       "    </tr>\n",
       "  </tbody>\n",
       "</table>\n",
       "</div>"
      ],
      "text/plain": [
       "      id  grp  fkg  dkg geslacht   65\n",
       "0  25795    6    1    1      man  65-\n",
       "1  10860   13    1    0      man  65-\n",
       "2  86820   22    0    0    vrouw  65-\n",
       "3  64886   31    1    1    vrouw  65-\n",
       "4  16265   22    1    0    vrouw  65-\n",
       "5  92386   37    0    1    vrouw  65+\n",
       "6  47194   27    1    0    vrouw  65-\n",
       "7  97498   14    1    1      man  65+\n",
       "8  54131    5    1    0      man  65-\n",
       "9  70263   36    0    1    vrouw  65+"
      ]
     },
     "execution_count": 39,
     "metadata": {},
     "output_type": "execute_result"
    }
   ],
   "source": [
    "# uitwerking 2\n",
    "df['65'] = ['65-' if g <= 13 or (g >= 21 and g <= 33) else '65+' for g in df.grp]\n",
    "df.head(10)"
   ]
  },
  {
   "cell_type": "markdown",
   "metadata": {},
   "source": [
    "### Opdracht 9c: toevoegen kolom"
   ]
  },
  {
   "cell_type": "code",
   "execution_count": 40,
   "metadata": {},
   "outputs": [],
   "source": [
    "def leeftijd_categorie(grp):\n",
    "    leeftijd_start = grp * 5 - 5\n",
    "    leeftijd_eind = grp * 5 - 1\n",
    "    return str(leeftijd_start) + '-' + str(leeftijd_eind)"
   ]
  },
  {
   "cell_type": "markdown",
   "metadata": {},
   "source": [
    "***"
   ]
  },
  {
   "cell_type": "code",
   "execution_count": 41,
   "metadata": {},
   "outputs": [
    {
     "data": {
      "text/html": [
       "<div>\n",
       "<style scoped>\n",
       "    .dataframe tbody tr th:only-of-type {\n",
       "        vertical-align: middle;\n",
       "    }\n",
       "\n",
       "    .dataframe tbody tr th {\n",
       "        vertical-align: top;\n",
       "    }\n",
       "\n",
       "    .dataframe thead th {\n",
       "        text-align: right;\n",
       "    }\n",
       "</style>\n",
       "<table border=\"1\" class=\"dataframe\">\n",
       "  <thead>\n",
       "    <tr style=\"text-align: right;\">\n",
       "      <th></th>\n",
       "      <th>id</th>\n",
       "      <th>grp</th>\n",
       "      <th>fkg</th>\n",
       "      <th>dkg</th>\n",
       "      <th>geslacht</th>\n",
       "      <th>65</th>\n",
       "      <th>leeftijd_categorie</th>\n",
       "    </tr>\n",
       "  </thead>\n",
       "  <tbody>\n",
       "    <tr>\n",
       "      <th>0</th>\n",
       "      <td>25795</td>\n",
       "      <td>6</td>\n",
       "      <td>1</td>\n",
       "      <td>1</td>\n",
       "      <td>man</td>\n",
       "      <td>65-</td>\n",
       "      <td>25-29</td>\n",
       "    </tr>\n",
       "    <tr>\n",
       "      <th>1</th>\n",
       "      <td>10860</td>\n",
       "      <td>13</td>\n",
       "      <td>1</td>\n",
       "      <td>0</td>\n",
       "      <td>man</td>\n",
       "      <td>65-</td>\n",
       "      <td>60-64</td>\n",
       "    </tr>\n",
       "    <tr>\n",
       "      <th>2</th>\n",
       "      <td>86820</td>\n",
       "      <td>22</td>\n",
       "      <td>0</td>\n",
       "      <td>0</td>\n",
       "      <td>vrouw</td>\n",
       "      <td>65-</td>\n",
       "      <td>5-9</td>\n",
       "    </tr>\n",
       "  </tbody>\n",
       "</table>\n",
       "</div>"
      ],
      "text/plain": [
       "      id  grp  fkg  dkg geslacht   65 leeftijd_categorie\n",
       "0  25795    6    1    1      man  65-              25-29\n",
       "1  10860   13    1    0      man  65-              60-64\n",
       "2  86820   22    0    0    vrouw  65-                5-9"
      ]
     },
     "execution_count": 41,
     "metadata": {},
     "output_type": "execute_result"
    }
   ],
   "source": [
    "# uitwerking 1\n",
    "df['leeftijd_categorie'] = df['grp'].apply(lambda x: leeftijd_categorie(x) if (x <= 20) else leeftijd_categorie(x - 20))\n",
    "df.head(3)"
   ]
  },
  {
   "cell_type": "code",
   "execution_count": 42,
   "metadata": {},
   "outputs": [
    {
     "data": {
      "text/html": [
       "<div>\n",
       "<style scoped>\n",
       "    .dataframe tbody tr th:only-of-type {\n",
       "        vertical-align: middle;\n",
       "    }\n",
       "\n",
       "    .dataframe tbody tr th {\n",
       "        vertical-align: top;\n",
       "    }\n",
       "\n",
       "    .dataframe thead th {\n",
       "        text-align: right;\n",
       "    }\n",
       "</style>\n",
       "<table border=\"1\" class=\"dataframe\">\n",
       "  <thead>\n",
       "    <tr style=\"text-align: right;\">\n",
       "      <th></th>\n",
       "      <th>id</th>\n",
       "      <th>grp</th>\n",
       "      <th>fkg</th>\n",
       "      <th>dkg</th>\n",
       "      <th>geslacht</th>\n",
       "      <th>65</th>\n",
       "      <th>leeftijd_categorie</th>\n",
       "    </tr>\n",
       "  </thead>\n",
       "  <tbody>\n",
       "    <tr>\n",
       "      <th>0</th>\n",
       "      <td>25795</td>\n",
       "      <td>6</td>\n",
       "      <td>1</td>\n",
       "      <td>1</td>\n",
       "      <td>man</td>\n",
       "      <td>65-</td>\n",
       "      <td>25-29</td>\n",
       "    </tr>\n",
       "    <tr>\n",
       "      <th>1</th>\n",
       "      <td>10860</td>\n",
       "      <td>13</td>\n",
       "      <td>1</td>\n",
       "      <td>0</td>\n",
       "      <td>man</td>\n",
       "      <td>65-</td>\n",
       "      <td>60-64</td>\n",
       "    </tr>\n",
       "    <tr>\n",
       "      <th>2</th>\n",
       "      <td>86820</td>\n",
       "      <td>22</td>\n",
       "      <td>0</td>\n",
       "      <td>0</td>\n",
       "      <td>vrouw</td>\n",
       "      <td>65-</td>\n",
       "      <td>5-9</td>\n",
       "    </tr>\n",
       "  </tbody>\n",
       "</table>\n",
       "</div>"
      ],
      "text/plain": [
       "      id  grp  fkg  dkg geslacht   65 leeftijd_categorie\n",
       "0  25795    6    1    1      man  65-              25-29\n",
       "1  10860   13    1    0      man  65-              60-64\n",
       "2  86820   22    0    0    vrouw  65-                5-9"
      ]
     },
     "execution_count": 42,
     "metadata": {},
     "output_type": "execute_result"
    }
   ],
   "source": [
    "# uitwerking 2\n",
    "df['leeftijd_categorie'] = [leeftijd_categorie(x) if x <= 20 else leeftijd_categorie(x - 20) for x in df.grp]\n",
    "df.head(3)"
   ]
  },
  {
   "cell_type": "code",
   "execution_count": 43,
   "metadata": {},
   "outputs": [
    {
     "data": {
      "text/html": [
       "<div>\n",
       "<style scoped>\n",
       "    .dataframe tbody tr th:only-of-type {\n",
       "        vertical-align: middle;\n",
       "    }\n",
       "\n",
       "    .dataframe tbody tr th {\n",
       "        vertical-align: top;\n",
       "    }\n",
       "\n",
       "    .dataframe thead th {\n",
       "        text-align: right;\n",
       "    }\n",
       "</style>\n",
       "<table border=\"1\" class=\"dataframe\">\n",
       "  <thead>\n",
       "    <tr style=\"text-align: right;\">\n",
       "      <th></th>\n",
       "      <th>id</th>\n",
       "      <th>grp</th>\n",
       "      <th>fkg</th>\n",
       "      <th>dkg</th>\n",
       "      <th>geslacht</th>\n",
       "      <th>65</th>\n",
       "      <th>leeftijd_categorie</th>\n",
       "    </tr>\n",
       "  </thead>\n",
       "  <tbody>\n",
       "    <tr>\n",
       "      <th>0</th>\n",
       "      <td>25795</td>\n",
       "      <td>6</td>\n",
       "      <td>1</td>\n",
       "      <td>1</td>\n",
       "      <td>man</td>\n",
       "      <td>65-</td>\n",
       "      <td>25-29</td>\n",
       "    </tr>\n",
       "    <tr>\n",
       "      <th>1</th>\n",
       "      <td>10860</td>\n",
       "      <td>13</td>\n",
       "      <td>1</td>\n",
       "      <td>0</td>\n",
       "      <td>man</td>\n",
       "      <td>65-</td>\n",
       "      <td>60-64</td>\n",
       "    </tr>\n",
       "    <tr>\n",
       "      <th>2</th>\n",
       "      <td>86820</td>\n",
       "      <td>22</td>\n",
       "      <td>0</td>\n",
       "      <td>0</td>\n",
       "      <td>vrouw</td>\n",
       "      <td>65-</td>\n",
       "      <td>5-9</td>\n",
       "    </tr>\n",
       "  </tbody>\n",
       "</table>\n",
       "</div>"
      ],
      "text/plain": [
       "      id  grp  fkg  dkg geslacht   65 leeftijd_categorie\n",
       "0  25795    6    1    1      man  65-              25-29\n",
       "1  10860   13    1    0      man  65-              60-64\n",
       "2  86820   22    0    0    vrouw  65-                5-9"
      ]
     },
     "execution_count": 43,
     "metadata": {},
     "output_type": "execute_result"
    }
   ],
   "source": [
    "# uitwerking 3\n",
    "df['leeftijd_categorie'] = list(map(lambda g: leeftijd_categorie(g) if g <= 20 else leeftijd_categorie(g - 20), df.grp))\n",
    "df.head(3)"
   ]
  },
  {
   "cell_type": "markdown",
   "metadata": {},
   "source": [
    "### Opdracht 9d: toevoegen kolom"
   ]
  },
  {
   "cell_type": "code",
   "execution_count": 44,
   "metadata": {},
   "outputs": [
    {
     "data": {
      "text/html": [
       "<div>\n",
       "<style scoped>\n",
       "    .dataframe tbody tr th:only-of-type {\n",
       "        vertical-align: middle;\n",
       "    }\n",
       "\n",
       "    .dataframe tbody tr th {\n",
       "        vertical-align: top;\n",
       "    }\n",
       "\n",
       "    .dataframe thead th {\n",
       "        text-align: right;\n",
       "    }\n",
       "</style>\n",
       "<table border=\"1\" class=\"dataframe\">\n",
       "  <thead>\n",
       "    <tr style=\"text-align: right;\">\n",
       "      <th></th>\n",
       "      <th>id</th>\n",
       "      <th>grp</th>\n",
       "      <th>fkg</th>\n",
       "      <th>dkg</th>\n",
       "      <th>geslacht</th>\n",
       "      <th>65</th>\n",
       "      <th>leeftijd_categorie</th>\n",
       "      <th>gezondheid_status</th>\n",
       "    </tr>\n",
       "  </thead>\n",
       "  <tbody>\n",
       "    <tr>\n",
       "      <th>0</th>\n",
       "      <td>25795</td>\n",
       "      <td>6</td>\n",
       "      <td>1</td>\n",
       "      <td>1</td>\n",
       "      <td>man</td>\n",
       "      <td>65-</td>\n",
       "      <td>25-29</td>\n",
       "      <td>ongezond</td>\n",
       "    </tr>\n",
       "    <tr>\n",
       "      <th>1</th>\n",
       "      <td>10860</td>\n",
       "      <td>13</td>\n",
       "      <td>1</td>\n",
       "      <td>0</td>\n",
       "      <td>man</td>\n",
       "      <td>65-</td>\n",
       "      <td>60-64</td>\n",
       "      <td>ongezond</td>\n",
       "    </tr>\n",
       "    <tr>\n",
       "      <th>2</th>\n",
       "      <td>86820</td>\n",
       "      <td>22</td>\n",
       "      <td>0</td>\n",
       "      <td>0</td>\n",
       "      <td>vrouw</td>\n",
       "      <td>65-</td>\n",
       "      <td>5-9</td>\n",
       "      <td>gezond</td>\n",
       "    </tr>\n",
       "    <tr>\n",
       "      <th>3</th>\n",
       "      <td>64886</td>\n",
       "      <td>31</td>\n",
       "      <td>1</td>\n",
       "      <td>1</td>\n",
       "      <td>vrouw</td>\n",
       "      <td>65-</td>\n",
       "      <td>50-54</td>\n",
       "      <td>ongezond</td>\n",
       "    </tr>\n",
       "    <tr>\n",
       "      <th>4</th>\n",
       "      <td>16265</td>\n",
       "      <td>22</td>\n",
       "      <td>1</td>\n",
       "      <td>0</td>\n",
       "      <td>vrouw</td>\n",
       "      <td>65-</td>\n",
       "      <td>5-9</td>\n",
       "      <td>ongezond</td>\n",
       "    </tr>\n",
       "    <tr>\n",
       "      <th>5</th>\n",
       "      <td>92386</td>\n",
       "      <td>37</td>\n",
       "      <td>0</td>\n",
       "      <td>1</td>\n",
       "      <td>vrouw</td>\n",
       "      <td>65+</td>\n",
       "      <td>80-84</td>\n",
       "      <td>ongezond</td>\n",
       "    </tr>\n",
       "    <tr>\n",
       "      <th>6</th>\n",
       "      <td>47194</td>\n",
       "      <td>27</td>\n",
       "      <td>1</td>\n",
       "      <td>0</td>\n",
       "      <td>vrouw</td>\n",
       "      <td>65-</td>\n",
       "      <td>30-34</td>\n",
       "      <td>ongezond</td>\n",
       "    </tr>\n",
       "    <tr>\n",
       "      <th>7</th>\n",
       "      <td>97498</td>\n",
       "      <td>14</td>\n",
       "      <td>1</td>\n",
       "      <td>1</td>\n",
       "      <td>man</td>\n",
       "      <td>65+</td>\n",
       "      <td>65-69</td>\n",
       "      <td>ongezond</td>\n",
       "    </tr>\n",
       "    <tr>\n",
       "      <th>8</th>\n",
       "      <td>54131</td>\n",
       "      <td>5</td>\n",
       "      <td>1</td>\n",
       "      <td>0</td>\n",
       "      <td>man</td>\n",
       "      <td>65-</td>\n",
       "      <td>20-24</td>\n",
       "      <td>ongezond</td>\n",
       "    </tr>\n",
       "    <tr>\n",
       "      <th>9</th>\n",
       "      <td>70263</td>\n",
       "      <td>36</td>\n",
       "      <td>0</td>\n",
       "      <td>1</td>\n",
       "      <td>vrouw</td>\n",
       "      <td>65+</td>\n",
       "      <td>75-79</td>\n",
       "      <td>ongezond</td>\n",
       "    </tr>\n",
       "  </tbody>\n",
       "</table>\n",
       "</div>"
      ],
      "text/plain": [
       "      id  grp  fkg  dkg geslacht   65 leeftijd_categorie gezondheid_status\n",
       "0  25795    6    1    1      man  65-              25-29          ongezond\n",
       "1  10860   13    1    0      man  65-              60-64          ongezond\n",
       "2  86820   22    0    0    vrouw  65-                5-9            gezond\n",
       "3  64886   31    1    1    vrouw  65-              50-54          ongezond\n",
       "4  16265   22    1    0    vrouw  65-                5-9          ongezond\n",
       "5  92386   37    0    1    vrouw  65+              80-84          ongezond\n",
       "6  47194   27    1    0    vrouw  65-              30-34          ongezond\n",
       "7  97498   14    1    1      man  65+              65-69          ongezond\n",
       "8  54131    5    1    0      man  65-              20-24          ongezond\n",
       "9  70263   36    0    1    vrouw  65+              75-79          ongezond"
      ]
     },
     "execution_count": 44,
     "metadata": {},
     "output_type": "execute_result"
    }
   ],
   "source": [
    "# uitwerking 1\n",
    "df['gezondheid_status'] = np.where((df.fkg == 0) & (df.dkg == 0), 'gezond','ongezond')\n",
    "df.head(10)"
   ]
  },
  {
   "cell_type": "code",
   "execution_count": 45,
   "metadata": {},
   "outputs": [
    {
     "data": {
      "text/html": [
       "<div>\n",
       "<style scoped>\n",
       "    .dataframe tbody tr th:only-of-type {\n",
       "        vertical-align: middle;\n",
       "    }\n",
       "\n",
       "    .dataframe tbody tr th {\n",
       "        vertical-align: top;\n",
       "    }\n",
       "\n",
       "    .dataframe thead th {\n",
       "        text-align: right;\n",
       "    }\n",
       "</style>\n",
       "<table border=\"1\" class=\"dataframe\">\n",
       "  <thead>\n",
       "    <tr style=\"text-align: right;\">\n",
       "      <th></th>\n",
       "      <th>id</th>\n",
       "      <th>grp</th>\n",
       "      <th>fkg</th>\n",
       "      <th>dkg</th>\n",
       "      <th>geslacht</th>\n",
       "      <th>65</th>\n",
       "      <th>leeftijd_categorie</th>\n",
       "      <th>gezondheid_status</th>\n",
       "    </tr>\n",
       "  </thead>\n",
       "  <tbody>\n",
       "    <tr>\n",
       "      <th>0</th>\n",
       "      <td>25795</td>\n",
       "      <td>6</td>\n",
       "      <td>1</td>\n",
       "      <td>1</td>\n",
       "      <td>man</td>\n",
       "      <td>65-</td>\n",
       "      <td>25-29</td>\n",
       "      <td>ongezond</td>\n",
       "    </tr>\n",
       "    <tr>\n",
       "      <th>1</th>\n",
       "      <td>10860</td>\n",
       "      <td>13</td>\n",
       "      <td>1</td>\n",
       "      <td>0</td>\n",
       "      <td>man</td>\n",
       "      <td>65-</td>\n",
       "      <td>60-64</td>\n",
       "      <td>ongezond</td>\n",
       "    </tr>\n",
       "    <tr>\n",
       "      <th>2</th>\n",
       "      <td>86820</td>\n",
       "      <td>22</td>\n",
       "      <td>0</td>\n",
       "      <td>0</td>\n",
       "      <td>vrouw</td>\n",
       "      <td>65-</td>\n",
       "      <td>5-9</td>\n",
       "      <td>gezond</td>\n",
       "    </tr>\n",
       "    <tr>\n",
       "      <th>3</th>\n",
       "      <td>64886</td>\n",
       "      <td>31</td>\n",
       "      <td>1</td>\n",
       "      <td>1</td>\n",
       "      <td>vrouw</td>\n",
       "      <td>65-</td>\n",
       "      <td>50-54</td>\n",
       "      <td>ongezond</td>\n",
       "    </tr>\n",
       "    <tr>\n",
       "      <th>4</th>\n",
       "      <td>16265</td>\n",
       "      <td>22</td>\n",
       "      <td>1</td>\n",
       "      <td>0</td>\n",
       "      <td>vrouw</td>\n",
       "      <td>65-</td>\n",
       "      <td>5-9</td>\n",
       "      <td>ongezond</td>\n",
       "    </tr>\n",
       "    <tr>\n",
       "      <th>5</th>\n",
       "      <td>92386</td>\n",
       "      <td>37</td>\n",
       "      <td>0</td>\n",
       "      <td>1</td>\n",
       "      <td>vrouw</td>\n",
       "      <td>65+</td>\n",
       "      <td>80-84</td>\n",
       "      <td>ongezond</td>\n",
       "    </tr>\n",
       "    <tr>\n",
       "      <th>6</th>\n",
       "      <td>47194</td>\n",
       "      <td>27</td>\n",
       "      <td>1</td>\n",
       "      <td>0</td>\n",
       "      <td>vrouw</td>\n",
       "      <td>65-</td>\n",
       "      <td>30-34</td>\n",
       "      <td>ongezond</td>\n",
       "    </tr>\n",
       "    <tr>\n",
       "      <th>7</th>\n",
       "      <td>97498</td>\n",
       "      <td>14</td>\n",
       "      <td>1</td>\n",
       "      <td>1</td>\n",
       "      <td>man</td>\n",
       "      <td>65+</td>\n",
       "      <td>65-69</td>\n",
       "      <td>ongezond</td>\n",
       "    </tr>\n",
       "    <tr>\n",
       "      <th>8</th>\n",
       "      <td>54131</td>\n",
       "      <td>5</td>\n",
       "      <td>1</td>\n",
       "      <td>0</td>\n",
       "      <td>man</td>\n",
       "      <td>65-</td>\n",
       "      <td>20-24</td>\n",
       "      <td>ongezond</td>\n",
       "    </tr>\n",
       "    <tr>\n",
       "      <th>9</th>\n",
       "      <td>70263</td>\n",
       "      <td>36</td>\n",
       "      <td>0</td>\n",
       "      <td>1</td>\n",
       "      <td>vrouw</td>\n",
       "      <td>65+</td>\n",
       "      <td>75-79</td>\n",
       "      <td>ongezond</td>\n",
       "    </tr>\n",
       "  </tbody>\n",
       "</table>\n",
       "</div>"
      ],
      "text/plain": [
       "      id  grp  fkg  dkg geslacht   65 leeftijd_categorie gezondheid_status\n",
       "0  25795    6    1    1      man  65-              25-29          ongezond\n",
       "1  10860   13    1    0      man  65-              60-64          ongezond\n",
       "2  86820   22    0    0    vrouw  65-                5-9            gezond\n",
       "3  64886   31    1    1    vrouw  65-              50-54          ongezond\n",
       "4  16265   22    1    0    vrouw  65-                5-9          ongezond\n",
       "5  92386   37    0    1    vrouw  65+              80-84          ongezond\n",
       "6  47194   27    1    0    vrouw  65-              30-34          ongezond\n",
       "7  97498   14    1    1      man  65+              65-69          ongezond\n",
       "8  54131    5    1    0      man  65-              20-24          ongezond\n",
       "9  70263   36    0    1    vrouw  65+              75-79          ongezond"
      ]
     },
     "execution_count": 45,
     "metadata": {},
     "output_type": "execute_result"
    }
   ],
   "source": [
    "# uitwerking 2\n",
    "df['gezondheid_status'] = list(map(lambda fkg, dkg: 'gezond' if (fkg == 0 and dkg == 0) else 'ongezond', df.fkg, df.dkg))\n",
    "df.head(10)"
   ]
  },
  {
   "cell_type": "markdown",
   "metadata": {},
   "source": [
    "### Opdracht 10a: lees tabblad Excel"
   ]
  },
  {
   "cell_type": "code",
   "execution_count": 46,
   "metadata": {},
   "outputs": [
    {
     "data": {
      "text/html": [
       "<div>\n",
       "<style scoped>\n",
       "    .dataframe tbody tr th:only-of-type {\n",
       "        vertical-align: middle;\n",
       "    }\n",
       "\n",
       "    .dataframe tbody tr th {\n",
       "        vertical-align: top;\n",
       "    }\n",
       "\n",
       "    .dataframe thead th {\n",
       "        text-align: right;\n",
       "    }\n",
       "</style>\n",
       "<table border=\"1\" class=\"dataframe\">\n",
       "  <thead>\n",
       "    <tr style=\"text-align: right;\">\n",
       "      <th></th>\n",
       "      <th>Regio</th>\n",
       "      <th>Q1</th>\n",
       "      <th>Q2</th>\n",
       "      <th>Q3</th>\n",
       "      <th>Q4</th>\n",
       "    </tr>\n",
       "  </thead>\n",
       "  <tbody>\n",
       "    <tr>\n",
       "      <th>0</th>\n",
       "      <td>Noord</td>\n",
       "      <td>1210</td>\n",
       "      <td>1225</td>\n",
       "      <td>1230.0</td>\n",
       "      <td>1205</td>\n",
       "    </tr>\n",
       "    <tr>\n",
       "      <th>1</th>\n",
       "      <td>Oost</td>\n",
       "      <td>1295</td>\n",
       "      <td>1310</td>\n",
       "      <td>1315.0</td>\n",
       "      <td>1290</td>\n",
       "    </tr>\n",
       "    <tr>\n",
       "      <th>2</th>\n",
       "      <td>Midden</td>\n",
       "      <td>1111</td>\n",
       "      <td>1208</td>\n",
       "      <td>1298.0</td>\n",
       "      <td>1138</td>\n",
       "    </tr>\n",
       "    <tr>\n",
       "      <th>3</th>\n",
       "      <td>Zuid</td>\n",
       "      <td>1330</td>\n",
       "      <td>1345</td>\n",
       "      <td>NaN</td>\n",
       "      <td>1325</td>\n",
       "    </tr>\n",
       "    <tr>\n",
       "      <th>4</th>\n",
       "      <td>West</td>\n",
       "      <td>1135</td>\n",
       "      <td>1150</td>\n",
       "      <td>1155.0</td>\n",
       "      <td>1130</td>\n",
       "    </tr>\n",
       "  </tbody>\n",
       "</table>\n",
       "</div>"
      ],
      "text/plain": [
       "    Regio    Q1    Q2      Q3    Q4\n",
       "0   Noord  1210  1225  1230.0  1205\n",
       "1    Oost  1295  1310  1315.0  1290\n",
       "2  Midden  1111  1208  1298.0  1138\n",
       "3    Zuid  1330  1345     NaN  1325\n",
       "4    West  1135  1150  1155.0  1130"
      ]
     },
     "execution_count": 46,
     "metadata": {},
     "output_type": "execute_result"
    }
   ],
   "source": [
    "excel = pd.read_excel(io = '../data/leesmij.xlsx',\n",
    "                      sheet_name = '2018',\n",
    "                      skiprows = 2,\n",
    "                      usecols = 'D:H',\n",
    "                      skipfooter = 1,\n",
    "                      na_values = '???'\n",
    "                     )\n",
    "excel"
   ]
  },
  {
   "cell_type": "markdown",
   "metadata": {},
   "source": [
    "### Opdracht 10b: lees alle tabbladden Excel"
   ]
  },
  {
   "cell_type": "code",
   "execution_count": 47,
   "metadata": {},
   "outputs": [],
   "source": [
    "excel = pd.read_excel(io = '../data/leesmij.xlsx',\n",
    "                      sheet_name = None,\n",
    "                      skiprows = 2,\n",
    "                      usecols = 'D:H',\n",
    "                      skipfooter = 1,\n",
    "                      na_values = '???'\n",
    "                     )"
   ]
  },
  {
   "cell_type": "code",
   "execution_count": 48,
   "metadata": {},
   "outputs": [
    {
     "data": {
      "text/plain": [
       "collections.OrderedDict"
      ]
     },
     "execution_count": 48,
     "metadata": {},
     "output_type": "execute_result"
    }
   ],
   "source": [
    "# type\n",
    "type(excel)"
   ]
  },
  {
   "cell_type": "code",
   "execution_count": 49,
   "metadata": {},
   "outputs": [
    {
     "data": {
      "text/html": [
       "<div>\n",
       "<style scoped>\n",
       "    .dataframe tbody tr th:only-of-type {\n",
       "        vertical-align: middle;\n",
       "    }\n",
       "\n",
       "    .dataframe tbody tr th {\n",
       "        vertical-align: top;\n",
       "    }\n",
       "\n",
       "    .dataframe thead th {\n",
       "        text-align: right;\n",
       "    }\n",
       "</style>\n",
       "<table border=\"1\" class=\"dataframe\">\n",
       "  <thead>\n",
       "    <tr style=\"text-align: right;\">\n",
       "      <th></th>\n",
       "      <th>Regio</th>\n",
       "      <th>Q1</th>\n",
       "      <th>Q2</th>\n",
       "      <th>Q3</th>\n",
       "      <th>Q4</th>\n",
       "    </tr>\n",
       "  </thead>\n",
       "  <tbody>\n",
       "    <tr>\n",
       "      <th>0</th>\n",
       "      <td>Noord</td>\n",
       "      <td>1210</td>\n",
       "      <td>1250</td>\n",
       "      <td>1231.0</td>\n",
       "      <td>1160</td>\n",
       "    </tr>\n",
       "    <tr>\n",
       "      <th>1</th>\n",
       "      <td>Oost</td>\n",
       "      <td>1265</td>\n",
       "      <td>1290</td>\n",
       "      <td>1342.0</td>\n",
       "      <td>1270</td>\n",
       "    </tr>\n",
       "    <tr>\n",
       "      <th>2</th>\n",
       "      <td>Zuid</td>\n",
       "      <td>1222</td>\n",
       "      <td>1259</td>\n",
       "      <td>NaN</td>\n",
       "      <td>1238</td>\n",
       "    </tr>\n",
       "    <tr>\n",
       "      <th>3</th>\n",
       "      <td>West</td>\n",
       "      <td>1160</td>\n",
       "      <td>1145</td>\n",
       "      <td>1140.0</td>\n",
       "      <td>1190</td>\n",
       "    </tr>\n",
       "  </tbody>\n",
       "</table>\n",
       "</div>"
      ],
      "text/plain": [
       "   Regio    Q1    Q2      Q3    Q4\n",
       "0  Noord  1210  1250  1231.0  1160\n",
       "1   Oost  1265  1290  1342.0  1270\n",
       "2   Zuid  1222  1259     NaN  1238\n",
       "3   West  1160  1145  1140.0  1190"
      ]
     },
     "execution_count": 49,
     "metadata": {},
     "output_type": "execute_result"
    }
   ],
   "source": [
    "# toon data uit tabblad 2018\n",
    "excel['2017']"
   ]
  },
  {
   "cell_type": "code",
   "execution_count": 50,
   "metadata": {},
   "outputs": [
    {
     "data": {
      "text/plain": [
       "pandas.core.frame.DataFrame"
      ]
     },
     "execution_count": 50,
     "metadata": {},
     "output_type": "execute_result"
    }
   ],
   "source": [
    "# type\n",
    "type(excel['2017'])"
   ]
  },
  {
   "cell_type": "markdown",
   "metadata": {},
   "source": [
    "### Opdracht 10c: lees alle tabbladen in één DataFrame"
   ]
  },
  {
   "cell_type": "code",
   "execution_count": 51,
   "metadata": {},
   "outputs": [
    {
     "data": {
      "text/html": [
       "<div>\n",
       "<style scoped>\n",
       "    .dataframe tbody tr th:only-of-type {\n",
       "        vertical-align: middle;\n",
       "    }\n",
       "\n",
       "    .dataframe tbody tr th {\n",
       "        vertical-align: top;\n",
       "    }\n",
       "\n",
       "    .dataframe thead th {\n",
       "        text-align: right;\n",
       "    }\n",
       "</style>\n",
       "<table border=\"1\" class=\"dataframe\">\n",
       "  <thead>\n",
       "    <tr style=\"text-align: right;\">\n",
       "      <th></th>\n",
       "      <th>Regio</th>\n",
       "      <th>Q1</th>\n",
       "      <th>Q2</th>\n",
       "      <th>Q3</th>\n",
       "      <th>Q4</th>\n",
       "      <th>Jaar</th>\n",
       "    </tr>\n",
       "  </thead>\n",
       "  <tbody>\n",
       "    <tr>\n",
       "      <th>12</th>\n",
       "      <td>Noord</td>\n",
       "      <td>1210</td>\n",
       "      <td>1250</td>\n",
       "      <td>1231</td>\n",
       "      <td>1160</td>\n",
       "      <td>2017</td>\n",
       "    </tr>\n",
       "    <tr>\n",
       "      <th>13</th>\n",
       "      <td>Oost</td>\n",
       "      <td>1265</td>\n",
       "      <td>1290</td>\n",
       "      <td>1342</td>\n",
       "      <td>1270</td>\n",
       "      <td>2017</td>\n",
       "    </tr>\n",
       "    <tr>\n",
       "      <th>14</th>\n",
       "      <td>Zuid</td>\n",
       "      <td>1222</td>\n",
       "      <td>1259</td>\n",
       "      <td>0</td>\n",
       "      <td>1238</td>\n",
       "      <td>2017</td>\n",
       "    </tr>\n",
       "    <tr>\n",
       "      <th>15</th>\n",
       "      <td>West</td>\n",
       "      <td>1160</td>\n",
       "      <td>1145</td>\n",
       "      <td>1140</td>\n",
       "      <td>1190</td>\n",
       "      <td>2017</td>\n",
       "    </tr>\n",
       "    <tr>\n",
       "      <th>16</th>\n",
       "      <td>Noord</td>\n",
       "      <td>1210</td>\n",
       "      <td>1225</td>\n",
       "      <td>1230</td>\n",
       "      <td>1205</td>\n",
       "      <td>2018</td>\n",
       "    </tr>\n",
       "    <tr>\n",
       "      <th>17</th>\n",
       "      <td>Oost</td>\n",
       "      <td>1295</td>\n",
       "      <td>1310</td>\n",
       "      <td>1315</td>\n",
       "      <td>1290</td>\n",
       "      <td>2018</td>\n",
       "    </tr>\n",
       "    <tr>\n",
       "      <th>18</th>\n",
       "      <td>Midden</td>\n",
       "      <td>1111</td>\n",
       "      <td>1208</td>\n",
       "      <td>1298</td>\n",
       "      <td>1138</td>\n",
       "      <td>2018</td>\n",
       "    </tr>\n",
       "    <tr>\n",
       "      <th>19</th>\n",
       "      <td>Zuid</td>\n",
       "      <td>1330</td>\n",
       "      <td>1345</td>\n",
       "      <td>0</td>\n",
       "      <td>1325</td>\n",
       "      <td>2018</td>\n",
       "    </tr>\n",
       "    <tr>\n",
       "      <th>20</th>\n",
       "      <td>West</td>\n",
       "      <td>1135</td>\n",
       "      <td>1150</td>\n",
       "      <td>1155</td>\n",
       "      <td>1130</td>\n",
       "      <td>2018</td>\n",
       "    </tr>\n",
       "  </tbody>\n",
       "</table>\n",
       "</div>"
      ],
      "text/plain": [
       "     Regio    Q1    Q2    Q3    Q4  Jaar\n",
       "12   Noord  1210  1250  1231  1160  2017\n",
       "13    Oost  1265  1290  1342  1270  2017\n",
       "14    Zuid  1222  1259     0  1238  2017\n",
       "15    West  1160  1145  1140  1190  2017\n",
       "16   Noord  1210  1225  1230  1205  2018\n",
       "17    Oost  1295  1310  1315  1290  2018\n",
       "18  Midden  1111  1208  1298  1138  2018\n",
       "19    Zuid  1330  1345     0  1325  2018\n",
       "20    West  1135  1150  1155  1130  2018"
      ]
     },
     "execution_count": 51,
     "metadata": {},
     "output_type": "execute_result"
    }
   ],
   "source": [
    "df = pd.DataFrame() # creëer een leeg DataFrame\n",
    "for key in excel.keys():\n",
    "    sheet = excel[key].fillna(0) # fill na-values with zero\n",
    "    sheet[['Q1', 'Q2', 'Q3', 'Q4']] = sheet[['Q1', 'Q2', 'Q3', 'Q4']].astype(int) # convert float to int\n",
    "    sheet['Jaar'] = int(key)\n",
    "    df = pd.concat([df, sheet], ignore_index = True) # alternatief: df = df.append(sheet, ignore_index = True)\n",
    "df.tail(9) # toon laatste 2 jaar"
   ]
  },
  {
   "cell_type": "markdown",
   "metadata": {},
   "source": [
    "### Opdracht 10d: Wide to Long"
   ]
  },
  {
   "cell_type": "code",
   "execution_count": 52,
   "metadata": {},
   "outputs": [
    {
     "data": {
      "text/html": [
       "<div>\n",
       "<style scoped>\n",
       "    .dataframe tbody tr th:only-of-type {\n",
       "        vertical-align: middle;\n",
       "    }\n",
       "\n",
       "    .dataframe tbody tr th {\n",
       "        vertical-align: top;\n",
       "    }\n",
       "\n",
       "    .dataframe thead th {\n",
       "        text-align: right;\n",
       "    }\n",
       "</style>\n",
       "<table border=\"1\" class=\"dataframe\">\n",
       "  <thead>\n",
       "    <tr style=\"text-align: right;\">\n",
       "      <th></th>\n",
       "      <th>Regio</th>\n",
       "      <th>Jaar</th>\n",
       "      <th>Kwartaal</th>\n",
       "      <th>Aantal</th>\n",
       "    </tr>\n",
       "  </thead>\n",
       "  <tbody>\n",
       "    <tr>\n",
       "      <th>12</th>\n",
       "      <td>Noord</td>\n",
       "      <td>2017</td>\n",
       "      <td>Q1</td>\n",
       "      <td>1210</td>\n",
       "    </tr>\n",
       "    <tr>\n",
       "      <th>13</th>\n",
       "      <td>Oost</td>\n",
       "      <td>2017</td>\n",
       "      <td>Q1</td>\n",
       "      <td>1265</td>\n",
       "    </tr>\n",
       "    <tr>\n",
       "      <th>14</th>\n",
       "      <td>Zuid</td>\n",
       "      <td>2017</td>\n",
       "      <td>Q1</td>\n",
       "      <td>1222</td>\n",
       "    </tr>\n",
       "    <tr>\n",
       "      <th>15</th>\n",
       "      <td>West</td>\n",
       "      <td>2017</td>\n",
       "      <td>Q1</td>\n",
       "      <td>1160</td>\n",
       "    </tr>\n",
       "    <tr>\n",
       "      <th>33</th>\n",
       "      <td>Noord</td>\n",
       "      <td>2017</td>\n",
       "      <td>Q2</td>\n",
       "      <td>1250</td>\n",
       "    </tr>\n",
       "    <tr>\n",
       "      <th>34</th>\n",
       "      <td>Oost</td>\n",
       "      <td>2017</td>\n",
       "      <td>Q2</td>\n",
       "      <td>1290</td>\n",
       "    </tr>\n",
       "    <tr>\n",
       "      <th>35</th>\n",
       "      <td>Zuid</td>\n",
       "      <td>2017</td>\n",
       "      <td>Q2</td>\n",
       "      <td>1259</td>\n",
       "    </tr>\n",
       "    <tr>\n",
       "      <th>36</th>\n",
       "      <td>West</td>\n",
       "      <td>2017</td>\n",
       "      <td>Q2</td>\n",
       "      <td>1145</td>\n",
       "    </tr>\n",
       "    <tr>\n",
       "      <th>54</th>\n",
       "      <td>Noord</td>\n",
       "      <td>2017</td>\n",
       "      <td>Q3</td>\n",
       "      <td>1231</td>\n",
       "    </tr>\n",
       "    <tr>\n",
       "      <th>55</th>\n",
       "      <td>Oost</td>\n",
       "      <td>2017</td>\n",
       "      <td>Q3</td>\n",
       "      <td>1342</td>\n",
       "    </tr>\n",
       "    <tr>\n",
       "      <th>56</th>\n",
       "      <td>Zuid</td>\n",
       "      <td>2017</td>\n",
       "      <td>Q3</td>\n",
       "      <td>0</td>\n",
       "    </tr>\n",
       "    <tr>\n",
       "      <th>57</th>\n",
       "      <td>West</td>\n",
       "      <td>2017</td>\n",
       "      <td>Q3</td>\n",
       "      <td>1140</td>\n",
       "    </tr>\n",
       "    <tr>\n",
       "      <th>75</th>\n",
       "      <td>Noord</td>\n",
       "      <td>2017</td>\n",
       "      <td>Q4</td>\n",
       "      <td>1160</td>\n",
       "    </tr>\n",
       "    <tr>\n",
       "      <th>76</th>\n",
       "      <td>Oost</td>\n",
       "      <td>2017</td>\n",
       "      <td>Q4</td>\n",
       "      <td>1270</td>\n",
       "    </tr>\n",
       "    <tr>\n",
       "      <th>77</th>\n",
       "      <td>Zuid</td>\n",
       "      <td>2017</td>\n",
       "      <td>Q4</td>\n",
       "      <td>1238</td>\n",
       "    </tr>\n",
       "    <tr>\n",
       "      <th>78</th>\n",
       "      <td>West</td>\n",
       "      <td>2017</td>\n",
       "      <td>Q4</td>\n",
       "      <td>1190</td>\n",
       "    </tr>\n",
       "  </tbody>\n",
       "</table>\n",
       "</div>"
      ],
      "text/plain": [
       "    Regio  Jaar Kwartaal  Aantal\n",
       "12  Noord  2017       Q1    1210\n",
       "13   Oost  2017       Q1    1265\n",
       "14   Zuid  2017       Q1    1222\n",
       "15   West  2017       Q1    1160\n",
       "33  Noord  2017       Q2    1250\n",
       "34   Oost  2017       Q2    1290\n",
       "35   Zuid  2017       Q2    1259\n",
       "36   West  2017       Q2    1145\n",
       "54  Noord  2017       Q3    1231\n",
       "55   Oost  2017       Q3    1342\n",
       "56   Zuid  2017       Q3       0\n",
       "57   West  2017       Q3    1140\n",
       "75  Noord  2017       Q4    1160\n",
       "76   Oost  2017       Q4    1270\n",
       "77   Zuid  2017       Q4    1238\n",
       "78   West  2017       Q4    1190"
      ]
     },
     "execution_count": 52,
     "metadata": {},
     "output_type": "execute_result"
    }
   ],
   "source": [
    "# wide to long\n",
    "df_long = pd.melt(df, id_vars = ['Regio', 'Jaar'], var_name = 'Kwartaal', value_name = 'Aantal')\n",
    "df_long[df_long.Jaar == 2017] # toon jaar 2017"
   ]
  },
  {
   "cell_type": "markdown",
   "metadata": {},
   "source": [
    "### Opdracht 11: Interactive Visualization with Widgets"
   ]
  },
  {
   "cell_type": "code",
   "execution_count": 53,
   "metadata": {},
   "outputs": [],
   "source": [
    "import pandas as pd\n",
    "import seaborn as sns\n",
    "import matplotlib.pyplot as plt\n",
    "from ipywidgets import *"
   ]
  },
  {
   "cell_type": "code",
   "execution_count": 54,
   "metadata": {},
   "outputs": [
    {
     "data": {
      "application/vnd.jupyter.widget-view+json": {
       "model_id": "cd103ec4b4894b7e908c147b1603acaa",
       "version_major": 2,
       "version_minor": 0
      },
      "text/plain": [
       "interactive(children=(SelectMultiple(description='species', index=(1, 2), options=('setosa', 'versicolor', 'vi…"
      ]
     },
     "metadata": {},
     "output_type": "display_data"
    },
    {
     "data": {
      "text/plain": [
       "<function __main__.iris_pairgrid(species)>"
      ]
     },
     "execution_count": 54,
     "metadata": {},
     "output_type": "execute_result"
    }
   ],
   "source": [
    "sns.set(style=\"white\")\n",
    "iris = sns.load_dataset(\"iris\")\n",
    "\n",
    "def iris_pairgrid(species):\n",
    "    g = sns.PairGrid(iris[iris.species.isin(species)], diag_sharey=False)\n",
    "    g.map_lower(sns.kdeplot)\n",
    "    g.map_upper(sns.scatterplot)\n",
    "    g.map_diag(sns.kdeplot, lw = 3)\n",
    "    return plt.show()\n",
    "\n",
    "interact(iris_pairgrid,\n",
    "         species = widgets.SelectMultiple(options = iris.species.unique(),\n",
    "                                          value = ('versicolor', 'virginica'),\n",
    "                                          rows = len(iris.species.unique()),\n",
    "                                          description = 'species',\n",
    "                                          disabled = False))"
   ]
  },
  {
   "cell_type": "markdown",
   "metadata": {},
   "source": [
    "### Opdracht 12a: Bokeh"
   ]
  },
  {
   "cell_type": "code",
   "execution_count": 55,
   "metadata": {},
   "outputs": [
    {
     "data": {
      "text/html": [
       "<div>\n",
       "<style scoped>\n",
       "    .dataframe tbody tr th:only-of-type {\n",
       "        vertical-align: middle;\n",
       "    }\n",
       "\n",
       "    .dataframe tbody tr th {\n",
       "        vertical-align: top;\n",
       "    }\n",
       "\n",
       "    .dataframe thead th {\n",
       "        text-align: right;\n",
       "    }\n",
       "</style>\n",
       "<table border=\"1\" class=\"dataframe\">\n",
       "  <thead>\n",
       "    <tr style=\"text-align: right;\">\n",
       "      <th></th>\n",
       "      <th>mpg</th>\n",
       "      <th>cyl</th>\n",
       "      <th>displ</th>\n",
       "      <th>hp</th>\n",
       "      <th>weight</th>\n",
       "      <th>accel</th>\n",
       "      <th>yr</th>\n",
       "      <th>origin</th>\n",
       "      <th>name</th>\n",
       "    </tr>\n",
       "  </thead>\n",
       "  <tbody>\n",
       "    <tr>\n",
       "      <th>0</th>\n",
       "      <td>18.0</td>\n",
       "      <td>8</td>\n",
       "      <td>307.0</td>\n",
       "      <td>130</td>\n",
       "      <td>3504</td>\n",
       "      <td>12.0</td>\n",
       "      <td>70</td>\n",
       "      <td>1</td>\n",
       "      <td>chevrolet chevelle malibu</td>\n",
       "    </tr>\n",
       "    <tr>\n",
       "      <th>1</th>\n",
       "      <td>15.0</td>\n",
       "      <td>8</td>\n",
       "      <td>350.0</td>\n",
       "      <td>165</td>\n",
       "      <td>3693</td>\n",
       "      <td>11.5</td>\n",
       "      <td>70</td>\n",
       "      <td>1</td>\n",
       "      <td>buick skylark 320</td>\n",
       "    </tr>\n",
       "    <tr>\n",
       "      <th>2</th>\n",
       "      <td>18.0</td>\n",
       "      <td>8</td>\n",
       "      <td>318.0</td>\n",
       "      <td>150</td>\n",
       "      <td>3436</td>\n",
       "      <td>11.0</td>\n",
       "      <td>70</td>\n",
       "      <td>1</td>\n",
       "      <td>plymouth satellite</td>\n",
       "    </tr>\n",
       "    <tr>\n",
       "      <th>3</th>\n",
       "      <td>16.0</td>\n",
       "      <td>8</td>\n",
       "      <td>304.0</td>\n",
       "      <td>150</td>\n",
       "      <td>3433</td>\n",
       "      <td>12.0</td>\n",
       "      <td>70</td>\n",
       "      <td>1</td>\n",
       "      <td>amc rebel sst</td>\n",
       "    </tr>\n",
       "    <tr>\n",
       "      <th>4</th>\n",
       "      <td>17.0</td>\n",
       "      <td>8</td>\n",
       "      <td>302.0</td>\n",
       "      <td>140</td>\n",
       "      <td>3449</td>\n",
       "      <td>10.5</td>\n",
       "      <td>70</td>\n",
       "      <td>1</td>\n",
       "      <td>ford torino</td>\n",
       "    </tr>\n",
       "  </tbody>\n",
       "</table>\n",
       "</div>"
      ],
      "text/plain": [
       "    mpg  cyl  displ   hp  weight  accel  yr  origin                       name\n",
       "0  18.0    8  307.0  130    3504   12.0  70       1  chevrolet chevelle malibu\n",
       "1  15.0    8  350.0  165    3693   11.5  70       1          buick skylark 320\n",
       "2  18.0    8  318.0  150    3436   11.0  70       1         plymouth satellite\n",
       "3  16.0    8  304.0  150    3433   12.0  70       1              amc rebel sst\n",
       "4  17.0    8  302.0  140    3449   10.5  70       1                ford torino"
      ]
     },
     "execution_count": 55,
     "metadata": {},
     "output_type": "execute_result"
    }
   ],
   "source": [
    "# load datset\n",
    "from bokeh.sampledata.autompg import autompg\n",
    "autompg.head()"
   ]
  },
  {
   "cell_type": "code",
   "execution_count": 56,
   "metadata": {},
   "outputs": [
    {
     "data": {
      "text/html": [
       "\n",
       "    <div class=\"bk-root\">\n",
       "        <a href=\"https://bokeh.pydata.org\" target=\"_blank\" class=\"bk-logo bk-logo-small bk-logo-notebook\"></a>\n",
       "        <span id=\"ccea884b-101c-44bf-8ccf-c7b3269ab7c1\">Loading BokehJS ...</span>\n",
       "    </div>"
      ]
     },
     "metadata": {},
     "output_type": "display_data"
    },
    {
     "data": {
      "application/javascript": [
       "\n",
       "(function(root) {\n",
       "  function now() {\n",
       "    return new Date();\n",
       "  }\n",
       "\n",
       "  var force = true;\n",
       "\n",
       "  if (typeof (root._bokeh_onload_callbacks) === \"undefined\" || force === true) {\n",
       "    root._bokeh_onload_callbacks = [];\n",
       "    root._bokeh_is_loading = undefined;\n",
       "  }\n",
       "\n",
       "  var JS_MIME_TYPE = 'application/javascript';\n",
       "  var HTML_MIME_TYPE = 'text/html';\n",
       "  var EXEC_MIME_TYPE = 'application/vnd.bokehjs_exec.v0+json';\n",
       "  var CLASS_NAME = 'output_bokeh rendered_html';\n",
       "\n",
       "  /**\n",
       "   * Render data to the DOM node\n",
       "   */\n",
       "  function render(props, node) {\n",
       "    var script = document.createElement(\"script\");\n",
       "    node.appendChild(script);\n",
       "  }\n",
       "\n",
       "  /**\n",
       "   * Handle when an output is cleared or removed\n",
       "   */\n",
       "  function handleClearOutput(event, handle) {\n",
       "    var cell = handle.cell;\n",
       "\n",
       "    var id = cell.output_area._bokeh_element_id;\n",
       "    var server_id = cell.output_area._bokeh_server_id;\n",
       "    // Clean up Bokeh references\n",
       "    if (id != null && id in Bokeh.index) {\n",
       "      Bokeh.index[id].model.document.clear();\n",
       "      delete Bokeh.index[id];\n",
       "    }\n",
       "\n",
       "    if (server_id !== undefined) {\n",
       "      // Clean up Bokeh references\n",
       "      var cmd = \"from bokeh.io.state import curstate; print(curstate().uuid_to_server['\" + server_id + \"'].get_sessions()[0].document.roots[0]._id)\";\n",
       "      cell.notebook.kernel.execute(cmd, {\n",
       "        iopub: {\n",
       "          output: function(msg) {\n",
       "            var id = msg.content.text.trim();\n",
       "            if (id in Bokeh.index) {\n",
       "              Bokeh.index[id].model.document.clear();\n",
       "              delete Bokeh.index[id];\n",
       "            }\n",
       "          }\n",
       "        }\n",
       "      });\n",
       "      // Destroy server and session\n",
       "      var cmd = \"import bokeh.io.notebook as ion; ion.destroy_server('\" + server_id + \"')\";\n",
       "      cell.notebook.kernel.execute(cmd);\n",
       "    }\n",
       "  }\n",
       "\n",
       "  /**\n",
       "   * Handle when a new output is added\n",
       "   */\n",
       "  function handleAddOutput(event, handle) {\n",
       "    var output_area = handle.output_area;\n",
       "    var output = handle.output;\n",
       "\n",
       "    // limit handleAddOutput to display_data with EXEC_MIME_TYPE content only\n",
       "    if ((output.output_type != \"display_data\") || (!output.data.hasOwnProperty(EXEC_MIME_TYPE))) {\n",
       "      return\n",
       "    }\n",
       "\n",
       "    var toinsert = output_area.element.find(\".\" + CLASS_NAME.split(' ')[0]);\n",
       "\n",
       "    if (output.metadata[EXEC_MIME_TYPE][\"id\"] !== undefined) {\n",
       "      toinsert[toinsert.length - 1].firstChild.textContent = output.data[JS_MIME_TYPE];\n",
       "      // store reference to embed id on output_area\n",
       "      output_area._bokeh_element_id = output.metadata[EXEC_MIME_TYPE][\"id\"];\n",
       "    }\n",
       "    if (output.metadata[EXEC_MIME_TYPE][\"server_id\"] !== undefined) {\n",
       "      var bk_div = document.createElement(\"div\");\n",
       "      bk_div.innerHTML = output.data[HTML_MIME_TYPE];\n",
       "      var script_attrs = bk_div.children[0].attributes;\n",
       "      for (var i = 0; i < script_attrs.length; i++) {\n",
       "        toinsert[toinsert.length - 1].firstChild.setAttribute(script_attrs[i].name, script_attrs[i].value);\n",
       "      }\n",
       "      // store reference to server id on output_area\n",
       "      output_area._bokeh_server_id = output.metadata[EXEC_MIME_TYPE][\"server_id\"];\n",
       "    }\n",
       "  }\n",
       "\n",
       "  function register_renderer(events, OutputArea) {\n",
       "\n",
       "    function append_mime(data, metadata, element) {\n",
       "      // create a DOM node to render to\n",
       "      var toinsert = this.create_output_subarea(\n",
       "        metadata,\n",
       "        CLASS_NAME,\n",
       "        EXEC_MIME_TYPE\n",
       "      );\n",
       "      this.keyboard_manager.register_events(toinsert);\n",
       "      // Render to node\n",
       "      var props = {data: data, metadata: metadata[EXEC_MIME_TYPE]};\n",
       "      render(props, toinsert[toinsert.length - 1]);\n",
       "      element.append(toinsert);\n",
       "      return toinsert\n",
       "    }\n",
       "\n",
       "    /* Handle when an output is cleared or removed */\n",
       "    events.on('clear_output.CodeCell', handleClearOutput);\n",
       "    events.on('delete.Cell', handleClearOutput);\n",
       "\n",
       "    /* Handle when a new output is added */\n",
       "    events.on('output_added.OutputArea', handleAddOutput);\n",
       "\n",
       "    /**\n",
       "     * Register the mime type and append_mime function with output_area\n",
       "     */\n",
       "    OutputArea.prototype.register_mime_type(EXEC_MIME_TYPE, append_mime, {\n",
       "      /* Is output safe? */\n",
       "      safe: true,\n",
       "      /* Index of renderer in `output_area.display_order` */\n",
       "      index: 0\n",
       "    });\n",
       "  }\n",
       "\n",
       "  // register the mime type if in Jupyter Notebook environment and previously unregistered\n",
       "  if (root.Jupyter !== undefined) {\n",
       "    var events = require('base/js/events');\n",
       "    var OutputArea = require('notebook/js/outputarea').OutputArea;\n",
       "\n",
       "    if (OutputArea.prototype.mime_types().indexOf(EXEC_MIME_TYPE) == -1) {\n",
       "      register_renderer(events, OutputArea);\n",
       "    }\n",
       "  }\n",
       "\n",
       "  \n",
       "  if (typeof (root._bokeh_timeout) === \"undefined\" || force === true) {\n",
       "    root._bokeh_timeout = Date.now() + 5000;\n",
       "    root._bokeh_failed_load = false;\n",
       "  }\n",
       "\n",
       "  var NB_LOAD_WARNING = {'data': {'text/html':\n",
       "     \"<div style='background-color: #fdd'>\\n\"+\n",
       "     \"<p>\\n\"+\n",
       "     \"BokehJS does not appear to have successfully loaded. If loading BokehJS from CDN, this \\n\"+\n",
       "     \"may be due to a slow or bad network connection. Possible fixes:\\n\"+\n",
       "     \"</p>\\n\"+\n",
       "     \"<ul>\\n\"+\n",
       "     \"<li>re-rerun `output_notebook()` to attempt to load from CDN again, or</li>\\n\"+\n",
       "     \"<li>use INLINE resources instead, as so:</li>\\n\"+\n",
       "     \"</ul>\\n\"+\n",
       "     \"<code>\\n\"+\n",
       "     \"from bokeh.resources import INLINE\\n\"+\n",
       "     \"output_notebook(resources=INLINE)\\n\"+\n",
       "     \"</code>\\n\"+\n",
       "     \"</div>\"}};\n",
       "\n",
       "  function display_loaded() {\n",
       "    var el = document.getElementById(\"ccea884b-101c-44bf-8ccf-c7b3269ab7c1\");\n",
       "    if (el != null) {\n",
       "      el.textContent = \"BokehJS is loading...\";\n",
       "    }\n",
       "    if (root.Bokeh !== undefined) {\n",
       "      if (el != null) {\n",
       "        el.textContent = \"BokehJS \" + root.Bokeh.version + \" successfully loaded.\";\n",
       "      }\n",
       "    } else if (Date.now() < root._bokeh_timeout) {\n",
       "      setTimeout(display_loaded, 100)\n",
       "    }\n",
       "  }\n",
       "\n",
       "\n",
       "  function run_callbacks() {\n",
       "    try {\n",
       "      root._bokeh_onload_callbacks.forEach(function(callback) { callback() });\n",
       "    }\n",
       "    finally {\n",
       "      delete root._bokeh_onload_callbacks\n",
       "    }\n",
       "    console.info(\"Bokeh: all callbacks have finished\");\n",
       "  }\n",
       "\n",
       "  function load_libs(js_urls, callback) {\n",
       "    root._bokeh_onload_callbacks.push(callback);\n",
       "    if (root._bokeh_is_loading > 0) {\n",
       "      console.log(\"Bokeh: BokehJS is being loaded, scheduling callback at\", now());\n",
       "      return null;\n",
       "    }\n",
       "    if (js_urls == null || js_urls.length === 0) {\n",
       "      run_callbacks();\n",
       "      return null;\n",
       "    }\n",
       "    console.log(\"Bokeh: BokehJS not loaded, scheduling load and callback at\", now());\n",
       "    root._bokeh_is_loading = js_urls.length;\n",
       "    for (var i = 0; i < js_urls.length; i++) {\n",
       "      var url = js_urls[i];\n",
       "      var s = document.createElement('script');\n",
       "      s.src = url;\n",
       "      s.async = false;\n",
       "      s.onreadystatechange = s.onload = function() {\n",
       "        root._bokeh_is_loading--;\n",
       "        if (root._bokeh_is_loading === 0) {\n",
       "          console.log(\"Bokeh: all BokehJS libraries loaded\");\n",
       "          run_callbacks()\n",
       "        }\n",
       "      };\n",
       "      s.onerror = function() {\n",
       "        console.warn(\"failed to load library \" + url);\n",
       "      };\n",
       "      console.log(\"Bokeh: injecting script tag for BokehJS library: \", url);\n",
       "      document.getElementsByTagName(\"head\")[0].appendChild(s);\n",
       "    }\n",
       "  };var element = document.getElementById(\"ccea884b-101c-44bf-8ccf-c7b3269ab7c1\");\n",
       "  if (element == null) {\n",
       "    console.log(\"Bokeh: ERROR: autoload.js configured with elementid 'ccea884b-101c-44bf-8ccf-c7b3269ab7c1' but no matching script tag was found. \")\n",
       "    return false;\n",
       "  }\n",
       "\n",
       "  var js_urls = [\"https://cdn.pydata.org/bokeh/release/bokeh-0.13.0.min.js\", \"https://cdn.pydata.org/bokeh/release/bokeh-widgets-0.13.0.min.js\", \"https://cdn.pydata.org/bokeh/release/bokeh-tables-0.13.0.min.js\", \"https://cdn.pydata.org/bokeh/release/bokeh-gl-0.13.0.min.js\"];\n",
       "\n",
       "  var inline_js = [\n",
       "    function(Bokeh) {\n",
       "      Bokeh.set_log_level(\"info\");\n",
       "    },\n",
       "    \n",
       "    function(Bokeh) {\n",
       "      \n",
       "    },\n",
       "    function(Bokeh) {\n",
       "      console.log(\"Bokeh: injecting CSS: https://cdn.pydata.org/bokeh/release/bokeh-0.13.0.min.css\");\n",
       "      Bokeh.embed.inject_css(\"https://cdn.pydata.org/bokeh/release/bokeh-0.13.0.min.css\");\n",
       "      console.log(\"Bokeh: injecting CSS: https://cdn.pydata.org/bokeh/release/bokeh-widgets-0.13.0.min.css\");\n",
       "      Bokeh.embed.inject_css(\"https://cdn.pydata.org/bokeh/release/bokeh-widgets-0.13.0.min.css\");\n",
       "      console.log(\"Bokeh: injecting CSS: https://cdn.pydata.org/bokeh/release/bokeh-tables-0.13.0.min.css\");\n",
       "      Bokeh.embed.inject_css(\"https://cdn.pydata.org/bokeh/release/bokeh-tables-0.13.0.min.css\");\n",
       "    }\n",
       "  ];\n",
       "\n",
       "  function run_inline_js() {\n",
       "    \n",
       "    if ((root.Bokeh !== undefined) || (force === true)) {\n",
       "      for (var i = 0; i < inline_js.length; i++) {\n",
       "        inline_js[i].call(root, root.Bokeh);\n",
       "      }if (force === true) {\n",
       "        display_loaded();\n",
       "      }} else if (Date.now() < root._bokeh_timeout) {\n",
       "      setTimeout(run_inline_js, 100);\n",
       "    } else if (!root._bokeh_failed_load) {\n",
       "      console.log(\"Bokeh: BokehJS failed to load within specified timeout.\");\n",
       "      root._bokeh_failed_load = true;\n",
       "    } else if (force !== true) {\n",
       "      var cell = $(document.getElementById(\"ccea884b-101c-44bf-8ccf-c7b3269ab7c1\")).parents('.cell').data().cell;\n",
       "      cell.output_area.append_execute_result(NB_LOAD_WARNING)\n",
       "    }\n",
       "\n",
       "  }\n",
       "\n",
       "  if (root._bokeh_is_loading === 0) {\n",
       "    console.log(\"Bokeh: BokehJS loaded, going straight to plotting\");\n",
       "    run_inline_js();\n",
       "  } else {\n",
       "    load_libs(js_urls, function() {\n",
       "      console.log(\"Bokeh: BokehJS plotting callback run at\", now());\n",
       "      run_inline_js();\n",
       "    });\n",
       "  }\n",
       "}(window));"
      ],
      "application/vnd.bokehjs_load.v0+json": "\n(function(root) {\n  function now() {\n    return new Date();\n  }\n\n  var force = true;\n\n  if (typeof (root._bokeh_onload_callbacks) === \"undefined\" || force === true) {\n    root._bokeh_onload_callbacks = [];\n    root._bokeh_is_loading = undefined;\n  }\n\n  \n\n  \n  if (typeof (root._bokeh_timeout) === \"undefined\" || force === true) {\n    root._bokeh_timeout = Date.now() + 5000;\n    root._bokeh_failed_load = false;\n  }\n\n  var NB_LOAD_WARNING = {'data': {'text/html':\n     \"<div style='background-color: #fdd'>\\n\"+\n     \"<p>\\n\"+\n     \"BokehJS does not appear to have successfully loaded. If loading BokehJS from CDN, this \\n\"+\n     \"may be due to a slow or bad network connection. Possible fixes:\\n\"+\n     \"</p>\\n\"+\n     \"<ul>\\n\"+\n     \"<li>re-rerun `output_notebook()` to attempt to load from CDN again, or</li>\\n\"+\n     \"<li>use INLINE resources instead, as so:</li>\\n\"+\n     \"</ul>\\n\"+\n     \"<code>\\n\"+\n     \"from bokeh.resources import INLINE\\n\"+\n     \"output_notebook(resources=INLINE)\\n\"+\n     \"</code>\\n\"+\n     \"</div>\"}};\n\n  function display_loaded() {\n    var el = document.getElementById(\"ccea884b-101c-44bf-8ccf-c7b3269ab7c1\");\n    if (el != null) {\n      el.textContent = \"BokehJS is loading...\";\n    }\n    if (root.Bokeh !== undefined) {\n      if (el != null) {\n        el.textContent = \"BokehJS \" + root.Bokeh.version + \" successfully loaded.\";\n      }\n    } else if (Date.now() < root._bokeh_timeout) {\n      setTimeout(display_loaded, 100)\n    }\n  }\n\n\n  function run_callbacks() {\n    try {\n      root._bokeh_onload_callbacks.forEach(function(callback) { callback() });\n    }\n    finally {\n      delete root._bokeh_onload_callbacks\n    }\n    console.info(\"Bokeh: all callbacks have finished\");\n  }\n\n  function load_libs(js_urls, callback) {\n    root._bokeh_onload_callbacks.push(callback);\n    if (root._bokeh_is_loading > 0) {\n      console.log(\"Bokeh: BokehJS is being loaded, scheduling callback at\", now());\n      return null;\n    }\n    if (js_urls == null || js_urls.length === 0) {\n      run_callbacks();\n      return null;\n    }\n    console.log(\"Bokeh: BokehJS not loaded, scheduling load and callback at\", now());\n    root._bokeh_is_loading = js_urls.length;\n    for (var i = 0; i < js_urls.length; i++) {\n      var url = js_urls[i];\n      var s = document.createElement('script');\n      s.src = url;\n      s.async = false;\n      s.onreadystatechange = s.onload = function() {\n        root._bokeh_is_loading--;\n        if (root._bokeh_is_loading === 0) {\n          console.log(\"Bokeh: all BokehJS libraries loaded\");\n          run_callbacks()\n        }\n      };\n      s.onerror = function() {\n        console.warn(\"failed to load library \" + url);\n      };\n      console.log(\"Bokeh: injecting script tag for BokehJS library: \", url);\n      document.getElementsByTagName(\"head\")[0].appendChild(s);\n    }\n  };var element = document.getElementById(\"ccea884b-101c-44bf-8ccf-c7b3269ab7c1\");\n  if (element == null) {\n    console.log(\"Bokeh: ERROR: autoload.js configured with elementid 'ccea884b-101c-44bf-8ccf-c7b3269ab7c1' but no matching script tag was found. \")\n    return false;\n  }\n\n  var js_urls = [\"https://cdn.pydata.org/bokeh/release/bokeh-0.13.0.min.js\", \"https://cdn.pydata.org/bokeh/release/bokeh-widgets-0.13.0.min.js\", \"https://cdn.pydata.org/bokeh/release/bokeh-tables-0.13.0.min.js\", \"https://cdn.pydata.org/bokeh/release/bokeh-gl-0.13.0.min.js\"];\n\n  var inline_js = [\n    function(Bokeh) {\n      Bokeh.set_log_level(\"info\");\n    },\n    \n    function(Bokeh) {\n      \n    },\n    function(Bokeh) {\n      console.log(\"Bokeh: injecting CSS: https://cdn.pydata.org/bokeh/release/bokeh-0.13.0.min.css\");\n      Bokeh.embed.inject_css(\"https://cdn.pydata.org/bokeh/release/bokeh-0.13.0.min.css\");\n      console.log(\"Bokeh: injecting CSS: https://cdn.pydata.org/bokeh/release/bokeh-widgets-0.13.0.min.css\");\n      Bokeh.embed.inject_css(\"https://cdn.pydata.org/bokeh/release/bokeh-widgets-0.13.0.min.css\");\n      console.log(\"Bokeh: injecting CSS: https://cdn.pydata.org/bokeh/release/bokeh-tables-0.13.0.min.css\");\n      Bokeh.embed.inject_css(\"https://cdn.pydata.org/bokeh/release/bokeh-tables-0.13.0.min.css\");\n    }\n  ];\n\n  function run_inline_js() {\n    \n    if ((root.Bokeh !== undefined) || (force === true)) {\n      for (var i = 0; i < inline_js.length; i++) {\n        inline_js[i].call(root, root.Bokeh);\n      }if (force === true) {\n        display_loaded();\n      }} else if (Date.now() < root._bokeh_timeout) {\n      setTimeout(run_inline_js, 100);\n    } else if (!root._bokeh_failed_load) {\n      console.log(\"Bokeh: BokehJS failed to load within specified timeout.\");\n      root._bokeh_failed_load = true;\n    } else if (force !== true) {\n      var cell = $(document.getElementById(\"ccea884b-101c-44bf-8ccf-c7b3269ab7c1\")).parents('.cell').data().cell;\n      cell.output_area.append_execute_result(NB_LOAD_WARNING)\n    }\n\n  }\n\n  if (root._bokeh_is_loading === 0) {\n    console.log(\"Bokeh: BokehJS loaded, going straight to plotting\");\n    run_inline_js();\n  } else {\n    load_libs(js_urls, function() {\n      console.log(\"Bokeh: BokehJS plotting callback run at\", now());\n      run_inline_js();\n    });\n  }\n}(window));"
     },
     "metadata": {},
     "output_type": "display_data"
    },
    {
     "data": {
      "text/html": [
       "\n",
       "\n",
       "\n",
       "\n",
       "\n",
       "\n",
       "  <div class=\"bk-root\" id=\"b808ebb5-b2d8-4e78-b691-67a739a5d541\"></div>\n"
      ]
     },
     "metadata": {},
     "output_type": "display_data"
    },
    {
     "data": {
      "application/javascript": [
       "(function(root) {\n",
       "  function embed_document(root) {\n",
       "    \n",
       "  var docs_json = {\"f8230b96-b1b0-4da1-bf95-c6e417c09b74\":{\"roots\":{\"references\":[{\"attributes\":{\"source\":{\"id\":\"0a5c01e9-4924-4bbb-a43e-c4344a2b9fab\",\"type\":\"ColumnDataSource\"}},\"id\":\"6273e600-efc2-4e3d-adc1-2b5a67142b52\",\"type\":\"CDSView\"},{\"attributes\":{\"bottom_units\":\"screen\",\"fill_alpha\":{\"value\":0.5},\"fill_color\":{\"value\":\"lightgrey\"},\"left_units\":\"screen\",\"level\":\"overlay\",\"line_alpha\":{\"value\":1.0},\"line_color\":{\"value\":\"black\"},\"line_dash\":[4,4],\"line_width\":{\"value\":2},\"plot\":null,\"render_mode\":\"css\",\"right_units\":\"screen\",\"top_units\":\"screen\"},\"id\":\"b668d7fd-847b-4ba0-a5c4-955e4b97199b\",\"type\":\"BoxAnnotation\"},{\"attributes\":{\"below\":[{\"id\":\"27096a5a-b007-4a56-b431-e0f421d6602b\",\"type\":\"LinearAxis\"}],\"left\":[{\"id\":\"c51c83c3-aa5b-4f5a-bf3a-81ecd8aa958d\",\"type\":\"LinearAxis\"}],\"plot_height\":500,\"plot_width\":800,\"renderers\":[{\"id\":\"27096a5a-b007-4a56-b431-e0f421d6602b\",\"type\":\"LinearAxis\"},{\"id\":\"7fd9cbd5-9a93-4373-b0df-b0a05ef14566\",\"type\":\"Grid\"},{\"id\":\"c51c83c3-aa5b-4f5a-bf3a-81ecd8aa958d\",\"type\":\"LinearAxis\"},{\"id\":\"3fdd8385-6160-43c2-9ae1-017b46396db0\",\"type\":\"Grid\"},{\"id\":\"b668d7fd-847b-4ba0-a5c4-955e4b97199b\",\"type\":\"BoxAnnotation\"},{\"id\":\"5f098615-5998-45dd-b57d-dab9c1c123e9\",\"type\":\"Legend\"},{\"id\":\"d88a8e80-c12f-4b4f-b4ca-a0fa14a66932\",\"type\":\"GlyphRenderer\"},{\"id\":\"5b1f07e4-5a07-4396-8671-8fd4b987552e\",\"type\":\"GlyphRenderer\"},{\"id\":\"7d4c1adc-054e-408e-8612-7e6bd6bf13fb\",\"type\":\"GlyphRenderer\"},{\"id\":\"77d6778d-052c-4ed6-aba8-cc22e7457bae\",\"type\":\"GlyphRenderer\"},{\"id\":\"f706abcf-2543-4084-84b0-c46dfcde854f\",\"type\":\"GlyphRenderer\"}],\"title\":{\"id\":\"06beea79-6129-43d9-8720-630c67342557\",\"type\":\"Title\"},\"toolbar\":{\"id\":\"5a29c27f-58db-4b54-b41f-f52eab458d87\",\"type\":\"Toolbar\"},\"x_range\":{\"id\":\"fec90bf7-6027-4c09-823c-f82a86ecdfec\",\"type\":\"DataRange1d\"},\"x_scale\":{\"id\":\"adc2f5d4-8113-4c2e-a180-d875c8fcbc55\",\"type\":\"LinearScale\"},\"y_range\":{\"id\":\"6a99539d-fca9-476c-a04b-1f6c504b1b51\",\"type\":\"DataRange1d\"},\"y_scale\":{\"id\":\"e62cc294-3b3d-4150-b9e9-aabe66152a79\",\"type\":\"LinearScale\"}},\"id\":\"de9c1d55-fbd7-4b07-84f2-94503d15e311\",\"subtype\":\"Figure\",\"type\":\"Plot\"},{\"attributes\":{\"fill_alpha\":{\"value\":0.6},\"fill_color\":{\"field\":\"colors\"},\"line_alpha\":{\"value\":0.6},\"line_color\":{\"field\":\"colors\"},\"size\":{\"units\":\"screen\",\"value\":10},\"x\":{\"field\":\"weight\"},\"y\":{\"field\":\"hp\"}},\"id\":\"d234ff3a-efa7-4f9c-bd73-64e39ae0bc58\",\"type\":\"Circle\"},{\"attributes\":{\"overlay\":{\"id\":\"b668d7fd-847b-4ba0-a5c4-955e4b97199b\",\"type\":\"BoxAnnotation\"}},\"id\":\"873b3a1f-e933-41c7-a1fa-8e670c8f664b\",\"type\":\"BoxZoomTool\"},{\"attributes\":{},\"id\":\"157298f0-ad2f-483b-8c97-87d73ef9fa75\",\"type\":\"Selection\"},{\"attributes\":{},\"id\":\"d26b7dc4-03da-42e3-9714-1ecc0a543a74\",\"type\":\"SaveTool\"},{\"attributes\":{},\"id\":\"f980a7dd-1c4b-478f-971f-905b2c98b3fd\",\"type\":\"UnionRenderers\"},{\"attributes\":{},\"id\":\"c3a8f931-b9d2-4c8c-bab3-14ff381e14b7\",\"type\":\"ResetTool\"},{\"attributes\":{\"source\":{\"id\":\"44683850-2ba3-4f3e-9a79-2f233dffcba5\",\"type\":\"ColumnDataSource\"}},\"id\":\"995176be-c503-4d62-8aec-8c511ef522ba\",\"type\":\"CDSView\"},{\"attributes\":{},\"id\":\"e8007b2d-4c78-49c8-a60f-af300f05abd2\",\"type\":\"HelpTool\"},{\"attributes\":{\"fill_alpha\":{\"value\":0.6},\"fill_color\":{\"field\":\"colors\"},\"line_alpha\":{\"value\":0.6},\"line_color\":{\"field\":\"colors\"},\"size\":{\"units\":\"screen\",\"value\":10},\"x\":{\"field\":\"weight\"},\"y\":{\"field\":\"hp\"}},\"id\":\"f39d852c-da22-4252-af1a-05871c9895eb\",\"type\":\"Circle\"},{\"attributes\":{\"source\":{\"id\":\"ab9262e0-1dcc-4195-b51e-ee34f4e49121\",\"type\":\"ColumnDataSource\"}},\"id\":\"278ffb55-e256-446b-94f6-ecdda2a25442\",\"type\":\"CDSView\"},{\"attributes\":{\"label\":{\"field\":\"cyl\"},\"renderers\":[{\"id\":\"d88a8e80-c12f-4b4f-b4ca-a0fa14a66932\",\"type\":\"GlyphRenderer\"}]},\"id\":\"10256efb-cd4f-4d5e-8070-75d4cc924d48\",\"type\":\"LegendItem\"},{\"attributes\":{\"data_source\":{\"id\":\"50e83dd5-f195-48d3-8d75-310d14080998\",\"type\":\"ColumnDataSource\"},\"glyph\":{\"id\":\"ac5046e8-001e-4cec-83fe-38787e146198\",\"type\":\"Circle\"},\"hover_glyph\":null,\"muted_glyph\":null,\"nonselection_glyph\":{\"id\":\"6f0fcac3-8745-49f1-8c24-8f869065c1b1\",\"type\":\"Circle\"},\"selection_glyph\":null,\"view\":{\"id\":\"6c8ef0ac-e367-48a5-a8ab-bc0836e259ff\",\"type\":\"CDSView\"}},\"id\":\"5b1f07e4-5a07-4396-8671-8fd4b987552e\",\"type\":\"GlyphRenderer\"},{\"attributes\":{\"data_source\":{\"id\":\"ab9262e0-1dcc-4195-b51e-ee34f4e49121\",\"type\":\"ColumnDataSource\"},\"glyph\":{\"id\":\"0be4aa43-e60e-416e-92f9-3d90926e3d61\",\"type\":\"Circle\"},\"hover_glyph\":null,\"muted_glyph\":null,\"nonselection_glyph\":{\"id\":\"06c120ce-3955-4862-8cd3-eed00947c52d\",\"type\":\"Circle\"},\"selection_glyph\":null,\"view\":{\"id\":\"278ffb55-e256-446b-94f6-ecdda2a25442\",\"type\":\"CDSView\"}},\"id\":\"d88a8e80-c12f-4b4f-b4ca-a0fa14a66932\",\"type\":\"GlyphRenderer\"},{\"attributes\":{\"fill_alpha\":{\"value\":0.1},\"fill_color\":{\"value\":\"#1f77b4\"},\"line_alpha\":{\"value\":0.1},\"line_color\":{\"value\":\"#1f77b4\"},\"size\":{\"units\":\"screen\",\"value\":10},\"x\":{\"field\":\"weight\"},\"y\":{\"field\":\"hp\"}},\"id\":\"6f0fcac3-8745-49f1-8c24-8f869065c1b1\",\"type\":\"Circle\"},{\"attributes\":{},\"id\":\"0ad2662e-6607-4692-bf6f-3d1028403c50\",\"type\":\"Selection\"},{\"attributes\":{\"fill_alpha\":{\"value\":0.1},\"fill_color\":{\"value\":\"#1f77b4\"},\"line_alpha\":{\"value\":0.1},\"line_color\":{\"value\":\"#1f77b4\"},\"size\":{\"units\":\"screen\",\"value\":10},\"x\":{\"field\":\"weight\"},\"y\":{\"field\":\"hp\"}},\"id\":\"b974ee91-8066-4f81-a089-a8d1c100d725\",\"type\":\"Circle\"},{\"attributes\":{},\"id\":\"c7c36def-fc63-4066-a9d5-ef8f5467aa27\",\"type\":\"UnionRenderers\"},{\"attributes\":{\"callback\":null,\"data\":{\"accel\":{\"__ndarray__\":\"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\",\"dtype\":\"float64\",\"shape\":[199]},\"colors\":[\"#5BC862\",\"#5BC862\",\"#5BC862\",\"#5BC862\",\"#5BC862\",\"#5BC862\",\"#5BC862\",\"#5BC862\",\"#5BC862\",\"#5BC862\",\"#5BC862\",\"#5BC862\",\"#5BC862\",\"#5BC862\",\"#5BC862\",\"#5BC862\",\"#5BC862\",\"#5BC862\",\"#5BC862\",\"#5BC862\",\"#5BC862\",\"#5BC862\",\"#5BC862\",\"#5BC862\",\"#5BC862\",\"#5BC862\",\"#5BC862\",\"#5BC862\",\"#5BC862\",\"#5BC862\",\"#5BC862\",\"#5BC862\",\"#5BC862\",\"#5BC862\",\"#5BC862\",\"#5BC862\",\"#5BC862\",\"#5BC862\",\"#5BC862\",\"#5BC862\",\"#5BC862\",\"#5BC862\",\"#5BC862\",\"#5BC862\",\"#5BC862\",\"#5BC862\",\"#5BC862\",\"#5BC862\",\"#5BC862\",\"#5BC862\",\"#5BC862\",\"#5BC862\",\"#5BC862\",\"#5BC862\",\"#5BC862\",\"#5BC862\",\"#5BC862\",\"#5BC862\",\"#5BC862\",\"#5BC862\",\"#5BC862\",\"#5BC862\",\"#5BC862\",\"#5BC862\",\"#5BC862\",\"#5BC862\",\"#5BC862\",\"#5BC862\",\"#5BC862\",\"#5BC862\",\"#5BC862\",\"#5BC862\",\"#5BC862\",\"#5BC862\",\"#5BC862\",\"#5BC862\",\"#5BC862\",\"#5BC862\",\"#5BC862\",\"#5BC862\",\"#5BC862\",\"#5BC862\",\"#5BC862\",\"#5BC862\",\"#5BC862\",\"#5BC862\",\"#5BC862\",\"#5BC862\",\"#5BC862\",\"#5BC862\",\"#5BC862\",\"#5BC862\",\"#5BC862\",\"#5BC862\",\"#5BC862\",\"#5BC862\",\"#5BC862\",\"#5BC862\",\"#5BC862\",\"#5BC862\",\"#5BC862\",\"#5BC862\",\"#5BC862\",\"#5BC862\",\"#5BC862\",\"#5BC862\",\"#5BC862\",\"#5BC862\",\"#5BC862\",\"#5BC862\",\"#5BC862\",\"#5BC862\",\"#5BC862\",\"#5BC862\",\"#5BC862\",\"#5BC862\",\"#5BC862\",\"#5BC862\",\"#5BC862\",\"#5BC862\",\"#5BC862\",\"#5BC862\",\"#5BC862\",\"#5BC862\",\"#5BC862\",\"#5BC862\",\"#5BC862\",\"#5BC862\",\"#5BC862\",\"#5BC862\",\"#5BC862\",\"#5BC862\",\"#5BC862\",\"#5BC862\",\"#5BC862\",\"#5BC862\",\"#5BC862\",\"#5BC862\",\"#5BC862\",\"#5BC862\",\"#5BC862\",\"#5BC862\",\"#5BC862\",\"#5BC862\",\"#5BC862\",\"#5BC862\",\"#5BC862\",\"#5BC862\",\"#5BC862\",\"#5BC862\",\"#5BC862\",\"#5BC862\",\"#5BC862\",\"#5BC862\",\"#5BC862\",\"#5BC862\",\"#5BC862\",\"#5BC862\",\"#5BC862\",\"#5BC862\",\"#5BC862\",\"#5BC862\",\"#5BC862\",\"#5BC862\",\"#5BC862\",\"#5BC862\",\"#5BC862\",\"#5BC862\",\"#5BC862\",\"#5BC862\",\"#5BC862\",\"#5BC862\",\"#5BC862\",\"#5BC862\",\"#5BC862\",\"#5BC862\",\"#5BC862\",\"#5BC862\",\"#5BC862\",\"#5BC862\",\"#5BC862\",\"#5BC862\",\"#5BC862\",\"#5BC862\",\"#5BC862\",\"#5BC862\",\"#5BC862\",\"#5BC862\",\"#5BC862\",\"#5BC862\",\"#5BC862\",\"#5BC862\",\"#5BC862\",\"#5BC862\",\"#5BC862\",\"#5BC862\",\"#5BC862\",\"#5BC862\",\"#5BC862\"],\"cyl\":[4,4,4,4,4,4,4,4,4,4,4,4,4,4,4,4,4,4,4,4,4,4,4,4,4,4,4,4,4,4,4,4,4,4,4,4,4,4,4,4,4,4,4,4,4,4,4,4,4,4,4,4,4,4,4,4,4,4,4,4,4,4,4,4,4,4,4,4,4,4,4,4,4,4,4,4,4,4,4,4,4,4,4,4,4,4,4,4,4,4,4,4,4,4,4,4,4,4,4,4,4,4,4,4,4,4,4,4,4,4,4,4,4,4,4,4,4,4,4,4,4,4,4,4,4,4,4,4,4,4,4,4,4,4,4,4,4,4,4,4,4,4,4,4,4,4,4,4,4,4,4,4,4,4,4,4,4,4,4,4,4,4,4,4,4,4,4,4,4,4,4,4,4,4,4,4,4,4,4,4,4,4,4,4,4,4,4,4,4,4,4,4,4,4,4,4,4,4,4],\"displ\":{\"__ndarray__\":\"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\",\"dtype\":\"float64\",\"shape\":[199]},\"hp\":[95,88,46,87,90,95,113,88,90,95,72,86,90,70,76,65,69,60,70,95,80,54,90,86,112,76,87,69,86,92,97,80,88,46,88,72,94,85,90,49,75,91,112,110,67,80,65,75,83,67,78,52,61,75,75,75,97,93,67,75,83,78,96,71,97,70,95,88,98,115,53,86,81,92,79,83,52,60,70,53,71,70,75,72,102,88,68,80,58,96,70,78,88,75,89,63,83,67,78,110,48,66,52,70,60,88,68,95,97,75,95,105,85,97,115,71,68,88,71,65,80,80,71,70,70,65,69,90,90,76,60,70,65,90,88,90,78,90,75,92,75,65,105,65,48,48,67,67,67,62,88,72,84,84,92,84,58,64,60,67,65,62,68,63,65,65,74,75,75,100,74,80,88,88,88,85,84,90,92,74,68,68,63,70,88,75,70,67,67,67,92,96,84,90,86,52,84,79,82],\"index\":[14,18,19,20,21,22,23,29,30,31,45,48,49,50,51,52,53,54,55,56,57,58,59,60,75,76,77,78,79,80,81,82,83,101,107,108,109,111,113,116,117,118,119,121,127,128,129,130,139,140,141,142,143,144,145,146,147,148,149,165,166,168,169,170,171,173,175,176,177,178,179,180,181,182,183,184,193,194,195,196,201,202,203,204,205,207,214,215,216,217,218,231,232,233,234,235,236,237,238,240,242,243,244,245,246,253,264,265,266,267,268,269,270,271,274,276,277,280,291,292,293,294,297,299,300,301,302,303,306,307,308,309,310,311,312,313,315,316,317,318,319,320,321,322,323,324,326,327,328,329,332,333,334,335,336,338,339,340,341,342,343,344,345,346,347,348,349,350,351,352,353,354,362,363,364,365,366,367,368,369,370,371,372,373,374,375,376,377,378,379,382,384,385,386,387,388,389,390,391],\"mpg\":{\"__ndarray__\":\"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\",\"dtype\":\"float64\",\"shape\":[199]},\"name\":[\"toyota corona mark ii\",\"datsun pl510\",\"volkswagen 1131 deluxe sedan\",\"peugeot 504\",\"audi 100 ls\",\"saab 99e\",\"bmw 2002\",\"datsun pl510\",\"chevrolet vega 2300\",\"toyota corona\",\"chevrolet vega (sw)\",\"mercury capri 2000\",\"opel 1900\",\"peugeot 304\",\"fiat 124b\",\"toyota corolla 1200\",\"datsun 1200\",\"volkswagen model 111\",\"plymouth cricket\",\"toyota corona hardtop\",\"dodge colt hardtop\",\"volkswagen type 3\",\"chevrolet vega\",\"ford pinto runabout\",\"volvo 145e (sw)\",\"volkswagen 411 (sw)\",\"peugeot 504 (sw)\",\"renault 12 (sw)\",\"ford pinto (sw)\",\"datsun 510 (sw)\",\"toyouta corona mark ii (sw)\",\"dodge colt (sw)\",\"toyota corolla 1600 (sw)\",\"volkswagen super beetle\",\"toyota carina\",\"chevrolet vega\",\"datsun 610\",\"ford pinto\",\"fiat 124 sport coupe\",\"fiat 128\",\"opel manta\",\"audi 100ls\",\"volvo 144ea\",\"saab 99le\",\"datsun b210\",\"ford pinto\",\"toyota corolla 1200\",\"chevrolet vega\",\"audi fox\",\"volkswagen dasher\",\"opel manta\",\"toyota corona\",\"datsun 710\",\"dodge colt\",\"fiat 128\",\"fiat 124 tc\",\"honda civic\",\"subaru\",\"fiat x1.9\",\"toyota corolla\",\"ford pinto\",\"pontiac astro\",\"toyota corona\",\"volkswagen dasher\",\"datsun 710\",\"volkswagen rabbit\",\"audi 100ls\",\"peugeot 504\",\"volvo 244dl\",\"saab 99le\",\"honda civic cvcc\",\"fiat 131\",\"opel 1900\",\"capri ii\",\"dodge colt\",\"renault 12tl\",\"chevrolet chevette\",\"chevrolet woody\",\"vw rabbit\",\"honda civic\",\"volkswagen rabbit\",\"datsun b-210\",\"toyota corolla\",\"ford pinto\",\"volvo 245\",\"peugeot 504\",\"honda accord cvcc\",\"buick opel isuzu deluxe\",\"renault 5 gtl\",\"plymouth arrow gs\",\"datsun f-10 hatchback\",\"volkswagen rabbit custom\",\"pontiac sunbird coupe\",\"toyota corolla liftback\",\"ford mustang ii 2+2\",\"chevrolet chevette\",\"dodge colt m/m\",\"subaru dl\",\"volkswagen dasher\",\"bmw 320i\",\"volkswagen rabbit custom diesel\",\"ford fiesta\",\"mazda glc deluxe\",\"datsun b210 gx\",\"honda civic cvcc\",\"ford fairmont (man)\",\"chevrolet chevette\",\"toyota corona\",\"datsun 510\",\"dodge omni\",\"toyota celica gt liftback\",\"plymouth sapporo\",\"oldsmobile starfire sx\",\"datsun 200-sx\",\"saab 99gle\",\"volkswagen scirocco\",\"honda accord lx\",\"ford fairmont 4\",\"vw rabbit custom\",\"maxda glc deluxe\",\"dodge colt hatchback custom\",\"amc spirit dl\",\"peugeot 504\",\"plymouth horizon\",\"plymouth horizon tc3\",\"datsun 210\",\"fiat strada custom\",\"buick skylark limited\",\"pontiac phoenix\",\"vw rabbit\",\"toyota corolla tercel\",\"chevrolet chevette\",\"datsun 310\",\"chevrolet citation\",\"ford fairmont\",\"amc concord\",\"audi 4000\",\"toyota corona liftback\",\"mazda 626\",\"datsun 510 hatchback\",\"toyota corolla\",\"mazda glc\",\"dodge colt\",\"datsun 210\",\"vw rabbit c (diesel)\",\"vw dasher (diesel)\",\"mercedes-benz 240d\",\"honda civic 1500 gl\",\"subaru dl\",\"vokswagen rabbit\",\"triumph tr7 coupe\",\"honda accord\",\"plymouth reliant\",\"buick skylark\",\"dodge aries wagon (sw)\",\"plymouth reliant\",\"toyota starlet\",\"plymouth champ\",\"honda civic 1300\",\"subaru\",\"datsun 210 mpg\",\"toyota tercel\",\"mazda glc 4\",\"plymouth horizon 4\",\"ford escort 4w\",\"ford escort 2h\",\"volkswagen jetta\",\"honda prelude\",\"toyota corolla\",\"datsun 200sx\",\"mazda 626\",\"peugeot 505s turbo diesel\",\"chevrolet cavalier\",\"chevrolet cavalier wagon\",\"chevrolet cavalier 2-door\",\"pontiac j2000 se hatchback\",\"dodge aries se\",\"pontiac phoenix\",\"ford fairmont futura\",\"volkswagen rabbit l\",\"mazda glc custom l\",\"mazda glc custom\",\"plymouth horizon miser\",\"mercury lynx l\",\"nissan stanza xe\",\"honda accord\",\"toyota corolla\",\"honda civic\",\"honda civic (auto)\",\"datsun 310 gx\",\"chrysler lebaron medallion\",\"toyota celica gt\",\"dodge charger 2.2\",\"chevrolet camaro\",\"ford mustang gl\",\"vw pickup\",\"dodge rampage\",\"ford ranger\",\"chevy s-10\"],\"origin\":[3,3,2,2,2,2,2,3,1,3,1,1,2,2,2,3,3,2,1,3,1,2,1,1,2,2,2,2,1,3,3,1,3,2,3,1,3,1,2,2,2,2,2,2,3,1,3,1,2,2,2,3,3,1,2,2,3,3,2,3,1,1,3,2,3,2,2,2,2,2,3,2,2,1,1,2,1,1,2,3,2,3,3,1,2,2,3,1,2,1,3,2,1,3,1,1,1,3,2,2,2,1,3,3,3,1,1,3,3,1,3,1,1,3,2,2,3,1,2,3,1,1,2,1,1,3,2,1,1,2,3,1,3,1,1,1,2,3,3,3,3,3,1,3,2,2,2,3,3,2,2,3,1,1,1,1,3,1,3,3,3,3,3,1,1,1,2,3,3,3,3,2,1,1,1,1,1,1,1,2,3,3,1,1,3,3,3,3,3,3,1,3,1,1,1,2,1,1,1],\"weight\":[2372,2130,1835,2672,2430,2375,2234,2130,2264,2228,2408,2220,2123,2074,2065,1773,1613,1834,1955,2278,2126,2254,2408,2226,2933,2511,2979,2189,2395,2288,2506,2164,2100,1950,2279,2401,2379,2310,2265,1867,2158,2582,2868,2660,1950,2451,1836,2542,2219,1963,2300,1649,2003,2125,2108,2246,2489,2391,2000,2171,2639,2592,2702,2223,2545,1937,2694,2957,2945,2671,1795,2464,2220,2572,2255,2202,2035,2164,1937,1795,1825,1990,2155,2565,3150,3270,2045,2155,1825,2300,1945,1940,2740,2265,2755,2051,2075,1985,2190,2600,1985,1800,1985,2070,1800,2720,2155,2560,2300,2230,2515,2745,2855,2405,2795,1990,2135,2890,1925,1975,1915,2670,3190,2200,2150,2020,2130,2670,2556,2144,1968,2120,2019,2678,2870,3003,2188,2711,2542,2434,2265,2110,2800,2110,2085,2335,3250,1850,2145,1845,2500,2290,2490,2635,2620,2385,1755,1875,1760,2065,1975,2050,1985,2215,2045,2380,2190,2210,2350,2615,2635,3230,2605,2640,2395,2575,2525,2735,2865,1980,2025,1970,2125,2125,2160,2205,2245,1965,1965,1995,2585,2665,2370,2950,2790,2130,2295,2625,2720],\"yr\":[70,70,70,70,70,70,70,71,71,71,71,71,71,71,71,71,71,71,71,72,72,72,72,72,72,72,72,72,72,72,72,72,72,73,73,73,73,73,73,73,73,73,73,73,74,74,74,74,74,74,74,74,74,74,74,74,74,74,74,75,75,75,75,75,75,75,75,75,75,75,75,76,76,76,76,76,76,76,76,76,76,76,76,76,76,76,77,77,77,77,77,77,77,77,77,77,77,77,77,77,78,78,78,78,78,78,78,78,78,78,78,78,78,78,78,78,78,79,79,79,79,79,79,79,79,79,79,79,79,80,80,80,80,80,80,80,80,80,80,80,80,80,80,80,80,80,80,80,80,80,80,80,81,81,81,81,81,81,81,81,81,81,81,81,81,81,81,81,81,81,81,81,82,82,82,82,82,82,82,82,82,82,82,82,82,82,82,82,82,82,82,82,82,82,82,82,82,82,82]},\"selected\":{\"id\":\"928dc6e9-e61f-4841-8f29-077060850a04\",\"type\":\"Selection\"},\"selection_policy\":{\"id\":\"694054e7-0e3a-49d0-918c-132b1ac1c4f2\",\"type\":\"UnionRenderers\"}},\"id\":\"50e83dd5-f195-48d3-8d75-310d14080998\",\"type\":\"ColumnDataSource\"},{\"attributes\":{\"label\":{\"field\":\"cyl\"},\"renderers\":[{\"id\":\"f706abcf-2543-4084-84b0-c46dfcde854f\",\"type\":\"GlyphRenderer\"}]},\"id\":\"946c24ea-03ec-4483-9b19-d60a3d57bc95\",\"type\":\"LegendItem\"},{\"attributes\":{\"callback\":null,\"data\":{\"accel\":{\"__ndarray__\":\"zczMzMzML0CamZmZmRk0QGZmZmZm5jNA\",\"dtype\":\"float64\",\"shape\":[3]},\"colors\":[\"#208F8C\",\"#208F8C\",\"#208F8C\"],\"cyl\":[5,5,5],\"displ\":{\"__ndarray__\":\"AAAAAABgYEAAAAAAAOBmQAAAAAAAQF5A\",\"dtype\":\"float64\",\"shape\":[3]},\"hp\":[103,77,67],\"index\":[272,295,325],\"mpg\":{\"__ndarray__\":\"zczMzMxMNEBmZmZmZmY5QDMzMzMzM0JA\",\"dtype\":\"float64\",\"shape\":[3]},\"name\":[\"audi 5000\",\"mercedes benz 300d\",\"audi 5000s (diesel)\"],\"origin\":[2,2,2],\"weight\":[2830,3530,2950],\"yr\":[78,79,80]},\"selected\":{\"id\":\"157298f0-ad2f-483b-8c97-87d73ef9fa75\",\"type\":\"Selection\"},\"selection_policy\":{\"id\":\"f980a7dd-1c4b-478f-971f-905b2c98b3fd\",\"type\":\"UnionRenderers\"}},\"id\":\"0a5c01e9-4924-4bbb-a43e-c4344a2b9fab\",\"type\":\"ColumnDataSource\"},{\"attributes\":{},\"id\":\"4e67f95b-3b56-46c1-a3ea-355ec9abc7cb\",\"type\":\"Selection\"},{\"attributes\":{\"fill_alpha\":{\"value\":0.1},\"fill_color\":{\"value\":\"#1f77b4\"},\"line_alpha\":{\"value\":0.1},\"line_color\":{\"value\":\"#1f77b4\"},\"size\":{\"units\":\"screen\",\"value\":10},\"x\":{\"field\":\"weight\"},\"y\":{\"field\":\"hp\"}},\"id\":\"06c120ce-3955-4862-8cd3-eed00947c52d\",\"type\":\"Circle\"},{\"attributes\":{},\"id\":\"de11a2b7-228d-4c4b-8e92-ba13044b6159\",\"type\":\"UnionRenderers\"},{\"attributes\":{\"source\":{\"id\":\"9ea65359-f921-402c-9613-ce4d384f7d28\",\"type\":\"ColumnDataSource\"}},\"id\":\"553208d1-513e-430a-aeee-aaab13b7ec0b\",\"type\":\"CDSView\"},{\"attributes\":{},\"id\":\"928dc6e9-e61f-4841-8f29-077060850a04\",\"type\":\"Selection\"},{\"attributes\":{\"fill_alpha\":{\"value\":0.6},\"fill_color\":{\"field\":\"colors\"},\"line_alpha\":{\"value\":0.6},\"line_color\":{\"field\":\"colors\"},\"size\":{\"units\":\"screen\",\"value\":10},\"x\":{\"field\":\"weight\"},\"y\":{\"field\":\"hp\"}},\"id\":\"0f99baef-71cd-436f-a2d6-4678649791e5\",\"type\":\"Circle\"},{\"attributes\":{\"fill_alpha\":{\"value\":0.6},\"fill_color\":{\"field\":\"colors\"},\"line_alpha\":{\"value\":0.6},\"line_color\":{\"field\":\"colors\"},\"size\":{\"units\":\"screen\",\"value\":10},\"x\":{\"field\":\"weight\"},\"y\":{\"field\":\"hp\"}},\"id\":\"0be4aa43-e60e-416e-92f9-3d90926e3d61\",\"type\":\"Circle\"},{\"attributes\":{\"align\":\"center\",\"plot\":null,\"text\":\"Number of cylinders by weight and horsepower\",\"text_color\":{\"value\":\"#440154\"},\"text_font_size\":{\"value\":\"14pt\"}},\"id\":\"06beea79-6129-43d9-8720-630c67342557\",\"type\":\"Title\"},{\"attributes\":{\"label\":{\"field\":\"cyl\"},\"renderers\":[{\"id\":\"77d6778d-052c-4ed6-aba8-cc22e7457bae\",\"type\":\"GlyphRenderer\"}]},\"id\":\"304d3951-a271-4170-8dbf-59a515004051\",\"type\":\"LegendItem\"},{\"attributes\":{\"data_source\":{\"id\":\"0a5c01e9-4924-4bbb-a43e-c4344a2b9fab\",\"type\":\"ColumnDataSource\"},\"glyph\":{\"id\":\"d234ff3a-efa7-4f9c-bd73-64e39ae0bc58\",\"type\":\"Circle\"},\"hover_glyph\":null,\"muted_glyph\":null,\"nonselection_glyph\":{\"id\":\"a3d2d0fe-3f61-4134-9f4c-9e794666c6a6\",\"type\":\"Circle\"},\"selection_glyph\":null,\"view\":{\"id\":\"6273e600-efc2-4e3d-adc1-2b5a67142b52\",\"type\":\"CDSView\"}},\"id\":\"7d4c1adc-054e-408e-8612-7e6bd6bf13fb\",\"type\":\"GlyphRenderer\"},{\"attributes\":{\"callback\":null},\"id\":\"fec90bf7-6027-4c09-823c-f82a86ecdfec\",\"type\":\"DataRange1d\"},{\"attributes\":{\"active_drag\":\"auto\",\"active_inspect\":\"auto\",\"active_multi\":null,\"active_scroll\":\"auto\",\"active_tap\":\"auto\",\"tools\":[{\"id\":\"833eaaa7-3be5-473d-a207-1eb21863dff9\",\"type\":\"PanTool\"},{\"id\":\"9e79b792-4ed8-4c56-9e01-7558d32434e4\",\"type\":\"WheelZoomTool\"},{\"id\":\"873b3a1f-e933-41c7-a1fa-8e670c8f664b\",\"type\":\"BoxZoomTool\"},{\"id\":\"d26b7dc4-03da-42e3-9714-1ecc0a543a74\",\"type\":\"SaveTool\"},{\"id\":\"c3a8f931-b9d2-4c8c-bab3-14ff381e14b7\",\"type\":\"ResetTool\"},{\"id\":\"e8007b2d-4c78-49c8-a60f-af300f05abd2\",\"type\":\"HelpTool\"}]},\"id\":\"5a29c27f-58db-4b54-b41f-f52eab458d87\",\"type\":\"Toolbar\"},{\"attributes\":{\"fill_alpha\":{\"value\":0.1},\"fill_color\":{\"value\":\"#1f77b4\"},\"line_alpha\":{\"value\":0.1},\"line_color\":{\"value\":\"#1f77b4\"},\"size\":{\"units\":\"screen\",\"value\":10},\"x\":{\"field\":\"weight\"},\"y\":{\"field\":\"hp\"}},\"id\":\"a3d2d0fe-3f61-4134-9f4c-9e794666c6a6\",\"type\":\"Circle\"},{\"attributes\":{\"callback\":null,\"data\":{\"accel\":{\"__ndarray__\":\"AAAAAAAAK0AAAAAAAAArQAAAAAAAACtAAAAAAAAAKUA=\",\"dtype\":\"float64\",\"shape\":[4]},\"colors\":[\"#FDE724\",\"#FDE724\",\"#FDE724\",\"#FDE724\"],\"cyl\":[3,3,3,3],\"displ\":{\"__ndarray__\":\"AAAAAACAUUAAAAAAAIBRQAAAAAAAAFRAAAAAAACAUUA=\",\"dtype\":\"float64\",\"shape\":[4]},\"hp\":[97,90,110,100],\"index\":[70,110,241,331],\"mpg\":{\"__ndarray__\":\"AAAAAAAAM0AAAAAAAAAyQAAAAAAAgDVAMzMzMzOzN0A=\",\"dtype\":\"float64\",\"shape\":[4]},\"name\":[\"mazda rx2 coupe\",\"maxda rx3\",\"mazda rx-4\",\"mazda rx-7 gs\"],\"origin\":[3,3,3,3],\"weight\":[2330,2124,2720,2420],\"yr\":[72,73,77,80]},\"selected\":{\"id\":\"d2ad600f-4a4b-4b17-8961-ac22650aee67\",\"type\":\"Selection\"},\"selection_policy\":{\"id\":\"4acf3125-46e2-4581-9404-194d46fbf023\",\"type\":\"UnionRenderers\"}},\"id\":\"ab9262e0-1dcc-4195-b51e-ee34f4e49121\",\"type\":\"ColumnDataSource\"},{\"attributes\":{\"callback\":null,\"data\":{\"accel\":{\"__ndarray__\":\"AAAAAAAAKEAAAAAAAAAnQAAAAAAAACZAAAAAAAAAKEAAAAAAAAAlQAAAAAAAACRAAAAAAAAAIkAAAAAAAAAhQAAAAAAAACRAAAAAAAAAIUAAAAAAAAAkQAAAAAAAACBAAAAAAAAAI0AAAAAAAAAkQAAAAAAAACxAAAAAAAAALkAAAAAAAAArQAAAAAAAgDJAAAAAAAAAKEAAAAAAAAAnQAAAAAAAACtAAAAAAAAAKkAAAAAAAAAnQAAAAAAAAChAAAAAAAAAKEAAAAAAAAAoQAAAAAAAAChAAAAAAAAAK0AAAAAAAAAqQAAAAAAAACdAAAAAAAAAJkAAAAAAAAArQAAAAAAAACtAAAAAAAAAKUAAAAAAAAApQAAAAAAAACxAAAAAAAAAMEAAAAAAAAAsQAAAAAAAACpAAAAAAAAAJ0AAAAAAAAAqQAAAAAAAAC1AAAAAAAAAKUAAAAAAAAAnQAAAAAAAAChAAAAAAAAAKkAAAAAAAAAtQAAAAAAAACZAAAAAAAAAJkAAAAAAAAAmQAAAAAAAACxAAAAAAAAAKUAAAAAAAAAqQAAAAAAAAClAAAAAAAAAKkAAAAAAAAAjQAAAAAAAACZAAAAAAAAAJkAAAAAAAAAsQAAAAAAAAC1AAAAAAAAAK0AAAAAAAAAwQAAAAAAAAC9AAAAAAAAAJ0AAAAAAAAAsQAAAAAAAAC1AAAAAAAAAK0AAAAAAAAArQAAAAAAAAChAAAAAAAAAKkAAAAAAAAAqQM3MzMzMzCtAmpmZmZmZKUBmZmZmZmYqQDMzMzMzMyhAAAAAAAAAKEAAAAAAAAAuQAAAAAAAACxAAAAAAAAAKUAAAAAAAAAzQGZmZmZmZitAzczMzMzMLUAzMzMzMzMmQM3MzMzMzCZAZmZmZmZmKEAAAAAAAAAtQAAAAAAAAC9AZmZmZmZmKkCamZmZmZkpQGZmZmZmZipAZmZmZmZmJkBmZmZmZmYrQM3MzMzMzC5AzczMzMzMKkBmZmZmZmYqQGZmZmZmZi5AzczMzMzMLUCamZmZmZksQAAAAAAAAC5AAAAAAAAAKkBmZmZmZmYxQDMzMzMzMzZAAAAAAAAAM0A=\",\"dtype\":\"float64\",\"shape\":[103]},\"colors\":[\"#440154\",\"#440154\",\"#440154\",\"#440154\",\"#440154\",\"#440154\",\"#440154\",\"#440154\",\"#440154\",\"#440154\",\"#440154\",\"#440154\",\"#440154\",\"#440154\",\"#440154\",\"#440154\",\"#440154\",\"#440154\",\"#440154\",\"#440154\",\"#440154\",\"#440154\",\"#440154\",\"#440154\",\"#440154\",\"#440154\",\"#440154\",\"#440154\",\"#440154\",\"#440154\",\"#440154\",\"#440154\",\"#440154\",\"#440154\",\"#440154\",\"#440154\",\"#440154\",\"#440154\",\"#440154\",\"#440154\",\"#440154\",\"#440154\",\"#440154\",\"#440154\",\"#440154\",\"#440154\",\"#440154\",\"#440154\",\"#440154\",\"#440154\",\"#440154\",\"#440154\",\"#440154\",\"#440154\",\"#440154\",\"#440154\",\"#440154\",\"#440154\",\"#440154\",\"#440154\",\"#440154\",\"#440154\",\"#440154\",\"#440154\",\"#440154\",\"#440154\",\"#440154\",\"#440154\",\"#440154\",\"#440154\",\"#440154\",\"#440154\",\"#440154\",\"#440154\",\"#440154\",\"#440154\",\"#440154\",\"#440154\",\"#440154\",\"#440154\",\"#440154\",\"#440154\",\"#440154\",\"#440154\",\"#440154\",\"#440154\",\"#440154\",\"#440154\",\"#440154\",\"#440154\",\"#440154\",\"#440154\",\"#440154\",\"#440154\",\"#440154\",\"#440154\",\"#440154\",\"#440154\",\"#440154\",\"#440154\",\"#440154\",\"#440154\",\"#440154\"],\"cyl\":[8,8,8,8,8,8,8,8,8,8,8,8,8,8,8,8,8,8,8,8,8,8,8,8,8,8,8,8,8,8,8,8,8,8,8,8,8,8,8,8,8,8,8,8,8,8,8,8,8,8,8,8,8,8,8,8,8,8,8,8,8,8,8,8,8,8,8,8,8,8,8,8,8,8,8,8,8,8,8,8,8,8,8,8,8,8,8,8,8,8,8,8,8,8,8,8,8,8,8,8,8,8,8],\"displ\":{\"__ndarray__\":\"AAAAAAAwc0AAAAAAAOB1QAAAAAAA4HNAAAAAAAAAc0AAAAAAAOByQAAAAAAA0HpAAAAAAABgfEAAAAAAAIB7QAAAAAAAcHxAAAAAAABgeEAAAAAAAPB3QAAAAAAAQHVAAAAAAAAAeUAAAAAAAHB8QAAAAAAAgHZAAAAAAAAwc0AAAAAAAOBzQAAAAAAAAHNAAAAAAADgdUAAAAAAAAB5QAAAAAAA8HVAAAAAAADgc0AAAAAAAPB3QAAAAAAAAHlAAAAAAAAAeUAAAAAAAOB1QAAAAAAAAHlAAAAAAADgc0AAAAAAAPB1QAAAAAAAAHNAAAAAAADQekAAAAAAAOB1QAAAAAAA4HVAAAAAAAAAeUAAAAAAAABzQAAAAAAAMHNAAAAAAADgckAAAAAAAOBzQAAAAAAA4HVAAAAAAAAAc0AAAAAAAOB1QAAAAAAA4HJAAAAAAADgc0AAAAAAANB6QAAAAAAAAHlAAAAAAADwdUAAAAAAAOBzQAAAAAAAgHtAAAAAAABwfEAAAAAAAIB2QAAAAAAAAHlAAAAAAAAAeUAAAAAAAIB2QAAAAAAA4HVAAAAAAADgdUAAAAAAAAB5QAAAAAAA4HNAAAAAAADgdUAAAAAAAOByQAAAAAAA4HVAAAAAAADgc0AAAAAAAOByQAAAAAAAAHNAAAAAAAAAeUAAAAAAAOB1QAAAAAAA4HNAAAAAAADwdUAAAAAAAGBwQAAAAAAA4HJAAAAAAAAQc0AAAAAAAOBzQAAAAAAAAHNAAAAAAADwdUAAAAAAAOBzQAAAAAAA4HVAAAAAAADgdUAAAAAAAOByQAAAAAAA4HNAAAAAAAAQc0AAAAAAAEBwQAAAAAAA4HNAAAAAAADgckAAAAAAAAB5QAAAAAAA4HVAAAAAAAAAeUAAAAAAAPB1QAAAAAAAQHBAAAAAAADgc0AAAAAAAOByQAAAAAAAEHNAAAAAAADgckAAAAAAAOBzQAAAAAAAEHNAAAAAAADgckAAAAAAAPB1QAAAAAAA4HNAAAAAAADgdUAAAAAAAPB1QAAAAAAAsHBAAAAAAACAdkAAAAAAAOB1QAAAAAAAQHBAAAAAAADgdUA=\",\"dtype\":\"float64\",\"shape\":[103]},\"hp\":[130,165,150,150,140,198,220,215,225,190,170,160,150,225,215,200,210,193,165,175,153,150,180,170,175,165,175,150,153,150,208,155,160,190,150,130,140,150,175,150,145,137,150,198,150,158,150,215,225,175,150,167,170,180,145,230,150,180,140,150,150,140,150,170,145,150,148,110,129,140,150,120,152,150,180,145,130,150,145,110,145,130,180,170,190,149,110,140,139,145,139,140,130,129,138,135,155,142,125,150,125,90,105],\"index\":[0,1,2,3,4,5,6,7,8,9,10,11,12,13,25,26,27,28,37,38,39,40,41,42,43,61,62,63,64,65,66,67,68,69,71,72,73,74,84,85,86,87,88,89,90,91,92,93,94,95,102,103,104,105,114,115,120,123,134,135,136,137,138,154,155,156,157,163,164,185,186,187,188,206,210,211,212,213,219,220,221,222,227,228,229,230,247,248,249,260,262,263,283,284,285,286,287,288,289,290,296,298,359],\"mpg\":{\"__ndarray__\":\"AAAAAAAAMkAAAAAAAAAuQAAAAAAAADJAAAAAAAAAMEAAAAAAAAAxQAAAAAAAAC5AAAAAAAAALEAAAAAAAAAsQAAAAAAAACxAAAAAAAAALkAAAAAAAAAuQAAAAAAAACxAAAAAAAAALkAAAAAAAAAsQAAAAAAAACRAAAAAAAAAJEAAAAAAAAAmQAAAAAAAACJAAAAAAAAALEAAAAAAAAAsQAAAAAAAACxAAAAAAAAALEAAAAAAAAAoQAAAAAAAACpAAAAAAAAAKkAAAAAAAAAqQAAAAAAAACxAAAAAAAAALkAAAAAAAAAsQAAAAAAAADFAAAAAAAAAJkAAAAAAAAAqQAAAAAAAAChAAAAAAAAAKkAAAAAAAAAuQAAAAAAAACpAAAAAAAAAKkAAAAAAAAAsQAAAAAAAACpAAAAAAAAALEAAAAAAAAAqQAAAAAAAACxAAAAAAAAALkAAAAAAAAAoQAAAAAAAACpAAAAAAAAAKkAAAAAAAAAsQAAAAAAAACpAAAAAAAAAKEAAAAAAAAAqQAAAAAAAACZAAAAAAAAAKEAAAAAAAAAqQAAAAAAAAChAAAAAAAAALkAAAAAAAAAwQAAAAAAAAC5AAAAAAAAAJkAAAAAAAAAwQAAAAAAAACpAAAAAAAAALEAAAAAAAAAsQAAAAAAAACxAAAAAAAAAMEAAAAAAAAAuQAAAAAAAADBAAAAAAAAALEAAAAAAAAA0QAAAAAAAACpAAAAAAACAMUAAAAAAAAAwQAAAAAAAAC9AAAAAAAAALUAAAAAAAAAqQAAAAAAAgDBAAAAAAAAAKkAAAAAAAAAqQAAAAAAAACpAAAAAAACAMUAAAAAAAAAxQAAAAAAAAC9AAAAAAAAALkAAAAAAAAAwQAAAAAAAAC9AAAAAAAAAL0AAAAAAAAAwQGZmZmZm5jNAZmZmZmZmM0AzMzMzMzM0QDMzMzMzMzNAmpmZmZkZMkAAAAAAAIAxQAAAAAAAADFAmpmZmZmZMUAAAAAAAIAwQDMzMzMzMzJAZmZmZmbmMEAAAAAAAAAvQDMzMzMzMzNAAAAAAACAMkAAAAAAAAA3QGZmZmZm5jdAmpmZmZmZOkA=\",\"dtype\":\"float64\",\"shape\":[103]},\"name\":[\"chevrolet chevelle malibu\",\"buick skylark 320\",\"plymouth satellite\",\"amc rebel sst\",\"ford torino\",\"ford galaxie 500\",\"chevrolet impala\",\"plymouth fury iii\",\"pontiac catalina\",\"amc ambassador dpl\",\"dodge challenger se\",\"plymouth 'cuda 340\",\"chevrolet monte carlo\",\"buick estate wagon (sw)\",\"ford f250\",\"chevy c20\",\"dodge d200\",\"hi 1200d\",\"chevrolet impala\",\"pontiac catalina brougham\",\"ford galaxie 500\",\"plymouth fury iii\",\"dodge monaco (sw)\",\"ford country squire (sw)\",\"pontiac safari (sw)\",\"chevrolet impala\",\"pontiac catalina\",\"plymouth fury iii\",\"ford galaxie 500\",\"amc ambassador sst\",\"mercury marquis\",\"buick lesabre custom\",\"oldsmobile delta 88 royale\",\"chrysler newport royal\",\"amc matador (sw)\",\"chevrolet chevelle concours (sw)\",\"ford gran torino (sw)\",\"plymouth satellite custom (sw)\",\"buick century 350\",\"amc matador\",\"chevrolet malibu\",\"ford gran torino\",\"dodge coronet custom\",\"mercury marquis brougham\",\"chevrolet caprice classic\",\"ford ltd\",\"plymouth fury gran sedan\",\"chrysler new yorker brougham\",\"buick electra 225 custom\",\"amc ambassador brougham\",\"chevrolet impala\",\"ford country\",\"plymouth custom suburb\",\"oldsmobile vista cruiser\",\"chevrolet monte carlo s\",\"pontiac grand prix\",\"dodge dart custom\",\"oldsmobile omega\",\"ford gran torino\",\"buick century luxus (sw)\",\"dodge coronet custom (sw)\",\"ford gran torino (sw)\",\"amc matador (sw)\",\"pontiac catalina\",\"chevrolet bel air\",\"plymouth grand fury\",\"ford ltd\",\"chevrolet monza 2+2\",\"ford mustang ii\",\"chevrolet chevelle malibu classic\",\"dodge coronet brougham\",\"amc matador\",\"ford gran torino\",\"plymouth volare premier v8\",\"cadillac seville\",\"chevy c10\",\"ford f108\",\"dodge d100\",\"chevrolet caprice classic\",\"oldsmobile cutlass supreme\",\"dodge monaco brougham\",\"mercury cougar brougham\",\"pontiac grand prix lj\",\"chevrolet monte carlo landau\",\"chrysler cordoba\",\"ford thunderbird\",\"oldsmobile cutlass salon brougham\",\"dodge diplomat\",\"mercury monarch ghia\",\"chevrolet monte carlo landau\",\"ford futura\",\"dodge magnum xe\",\"chevrolet caprice classic\",\"ford ltd landau\",\"mercury grand marquis\",\"dodge st. regis\",\"buick estate wagon (sw)\",\"ford country squire (sw)\",\"chevrolet malibu classic (sw)\",\"chrysler lebaron town @ country (sw)\",\"cadillac eldorado\",\"oldsmobile cutlass salon brougham\",\"oldsmobile cutlass ls\"],\"origin\":[1,1,1,1,1,1,1,1,1,1,1,1,1,1,1,1,1,1,1,1,1,1,1,1,1,1,1,1,1,1,1,1,1,1,1,1,1,1,1,1,1,1,1,1,1,1,1,1,1,1,1,1,1,1,1,1,1,1,1,1,1,1,1,1,1,1,1,1,1,1,1,1,1,1,1,1,1,1,1,1,1,1,1,1,1,1,1,1,1,1,1,1,1,1,1,1,1,1,1,1,1,1,1],\"weight\":[3504,3693,3436,3433,3449,4341,4354,4312,4425,3850,3563,3609,3761,3086,4615,4376,4382,4732,4209,4464,4154,4096,4955,4746,5140,4274,4385,4135,4129,3672,4633,4502,4456,4422,3892,4098,4294,4077,4100,3672,3988,4042,3777,4952,4464,4363,4237,4735,4951,3821,4997,4906,4654,4499,4082,4278,3399,3664,4141,4699,4457,4638,4257,4668,4440,4498,4657,3221,3169,4215,4190,3962,4215,3940,4380,4055,3870,3755,3880,4060,4140,4295,4220,4165,4325,4335,3365,3735,3570,3425,3205,4080,3840,3725,3955,3830,4360,4054,3605,3940,3900,3420,3725],\"yr\":[70,70,70,70,70,70,70,70,70,70,70,70,70,70,70,70,70,70,71,71,71,71,71,71,71,72,72,72,72,72,72,72,72,72,72,72,72,72,73,73,73,73,73,73,73,73,73,73,73,73,73,73,73,73,73,73,73,73,74,74,74,74,74,75,75,75,75,75,75,76,76,76,76,76,76,76,76,76,77,77,77,77,77,77,77,77,78,78,78,78,78,78,79,79,79,79,79,79,79,79,79,79,81]},\"selected\":{\"id\":\"0ad2662e-6607-4692-bf6f-3d1028403c50\",\"type\":\"Selection\"},\"selection_policy\":{\"id\":\"c7c36def-fc63-4066-a9d5-ef8f5467aa27\",\"type\":\"UnionRenderers\"}},\"id\":\"9ea65359-f921-402c-9613-ce4d384f7d28\",\"type\":\"ColumnDataSource\"},{\"attributes\":{},\"id\":\"adc2f5d4-8113-4c2e-a180-d875c8fcbc55\",\"type\":\"LinearScale\"},{\"attributes\":{\"label\":{\"field\":\"cyl\"},\"renderers\":[{\"id\":\"7d4c1adc-054e-408e-8612-7e6bd6bf13fb\",\"type\":\"GlyphRenderer\"}]},\"id\":\"efedb4a2-23a8-43f0-a2b7-70d57a095e7d\",\"type\":\"LegendItem\"},{\"attributes\":{\"callback\":null},\"id\":\"6a99539d-fca9-476c-a04b-1f6c504b1b51\",\"type\":\"DataRange1d\"},{\"attributes\":{\"label\":{\"field\":\"cyl\"},\"renderers\":[{\"id\":\"5b1f07e4-5a07-4396-8671-8fd4b987552e\",\"type\":\"GlyphRenderer\"}]},\"id\":\"0237470a-bf0d-492a-ac2c-6ac98bcab523\",\"type\":\"LegendItem\"},{\"attributes\":{},\"id\":\"e62cc294-3b3d-4150-b9e9-aabe66152a79\",\"type\":\"LinearScale\"},{\"attributes\":{},\"id\":\"0190f4c7-8d51-4634-b57f-c6c236507e47\",\"type\":\"BasicTickFormatter\"},{\"attributes\":{},\"id\":\"69eceebf-4df3-4816-be8a-c45a215c7f11\",\"type\":\"BasicTickFormatter\"},{\"attributes\":{},\"id\":\"d2ad600f-4a4b-4b17-8961-ac22650aee67\",\"type\":\"Selection\"},{\"attributes\":{},\"id\":\"694054e7-0e3a-49d0-918c-132b1ac1c4f2\",\"type\":\"UnionRenderers\"},{\"attributes\":{},\"id\":\"4acf3125-46e2-4581-9404-194d46fbf023\",\"type\":\"UnionRenderers\"},{\"attributes\":{\"axis_label\":\"Weight\",\"formatter\":{\"id\":\"0190f4c7-8d51-4634-b57f-c6c236507e47\",\"type\":\"BasicTickFormatter\"},\"plot\":{\"id\":\"de9c1d55-fbd7-4b07-84f2-94503d15e311\",\"subtype\":\"Figure\",\"type\":\"Plot\"},\"ticker\":{\"id\":\"60f118bd-b857-4db5-b375-f1a887b961e1\",\"type\":\"BasicTicker\"}},\"id\":\"27096a5a-b007-4a56-b431-e0f421d6602b\",\"type\":\"LinearAxis\"},{\"attributes\":{\"source\":{\"id\":\"50e83dd5-f195-48d3-8d75-310d14080998\",\"type\":\"ColumnDataSource\"}},\"id\":\"6c8ef0ac-e367-48a5-a8ab-bc0836e259ff\",\"type\":\"CDSView\"},{\"attributes\":{\"click_policy\":\"hide\",\"items\":[{\"id\":\"10256efb-cd4f-4d5e-8070-75d4cc924d48\",\"type\":\"LegendItem\"},{\"id\":\"0237470a-bf0d-492a-ac2c-6ac98bcab523\",\"type\":\"LegendItem\"},{\"id\":\"efedb4a2-23a8-43f0-a2b7-70d57a095e7d\",\"type\":\"LegendItem\"},{\"id\":\"304d3951-a271-4170-8dbf-59a515004051\",\"type\":\"LegendItem\"},{\"id\":\"946c24ea-03ec-4483-9b19-d60a3d57bc95\",\"type\":\"LegendItem\"}],\"location\":\"top_left\",\"plot\":{\"id\":\"de9c1d55-fbd7-4b07-84f2-94503d15e311\",\"subtype\":\"Figure\",\"type\":\"Plot\"}},\"id\":\"5f098615-5998-45dd-b57d-dab9c1c123e9\",\"type\":\"Legend\"},{\"attributes\":{},\"id\":\"60f118bd-b857-4db5-b375-f1a887b961e1\",\"type\":\"BasicTicker\"},{\"attributes\":{\"fill_alpha\":{\"value\":0.6},\"fill_color\":{\"field\":\"colors\"},\"line_alpha\":{\"value\":0.6},\"line_color\":{\"field\":\"colors\"},\"size\":{\"units\":\"screen\",\"value\":10},\"x\":{\"field\":\"weight\"},\"y\":{\"field\":\"hp\"}},\"id\":\"ac5046e8-001e-4cec-83fe-38787e146198\",\"type\":\"Circle\"},{\"attributes\":{\"plot\":{\"id\":\"de9c1d55-fbd7-4b07-84f2-94503d15e311\",\"subtype\":\"Figure\",\"type\":\"Plot\"},\"ticker\":{\"id\":\"60f118bd-b857-4db5-b375-f1a887b961e1\",\"type\":\"BasicTicker\"}},\"id\":\"7fd9cbd5-9a93-4373-b0df-b0a05ef14566\",\"type\":\"Grid\"},{\"attributes\":{\"axis_label\":\"Horsepower\",\"formatter\":{\"id\":\"69eceebf-4df3-4816-be8a-c45a215c7f11\",\"type\":\"BasicTickFormatter\"},\"plot\":{\"id\":\"de9c1d55-fbd7-4b07-84f2-94503d15e311\",\"subtype\":\"Figure\",\"type\":\"Plot\"},\"ticker\":{\"id\":\"edcc85ed-7ff1-4741-8f26-79a36bc54f43\",\"type\":\"BasicTicker\"}},\"id\":\"c51c83c3-aa5b-4f5a-bf3a-81ecd8aa958d\",\"type\":\"LinearAxis\"},{\"attributes\":{},\"id\":\"edcc85ed-7ff1-4741-8f26-79a36bc54f43\",\"type\":\"BasicTicker\"},{\"attributes\":{\"fill_alpha\":{\"value\":0.1},\"fill_color\":{\"value\":\"#1f77b4\"},\"line_alpha\":{\"value\":0.1},\"line_color\":{\"value\":\"#1f77b4\"},\"size\":{\"units\":\"screen\",\"value\":10},\"x\":{\"field\":\"weight\"},\"y\":{\"field\":\"hp\"}},\"id\":\"0e5aaa33-46b9-485c-abc7-7f28fcb5b768\",\"type\":\"Circle\"},{\"attributes\":{\"dimension\":1,\"plot\":{\"id\":\"de9c1d55-fbd7-4b07-84f2-94503d15e311\",\"subtype\":\"Figure\",\"type\":\"Plot\"},\"ticker\":{\"id\":\"edcc85ed-7ff1-4741-8f26-79a36bc54f43\",\"type\":\"BasicTicker\"}},\"id\":\"3fdd8385-6160-43c2-9ae1-017b46396db0\",\"type\":\"Grid\"},{\"attributes\":{\"data_source\":{\"id\":\"9ea65359-f921-402c-9613-ce4d384f7d28\",\"type\":\"ColumnDataSource\"},\"glyph\":{\"id\":\"0f99baef-71cd-436f-a2d6-4678649791e5\",\"type\":\"Circle\"},\"hover_glyph\":null,\"muted_glyph\":null,\"nonselection_glyph\":{\"id\":\"0e5aaa33-46b9-485c-abc7-7f28fcb5b768\",\"type\":\"Circle\"},\"selection_glyph\":null,\"view\":{\"id\":\"553208d1-513e-430a-aeee-aaab13b7ec0b\",\"type\":\"CDSView\"}},\"id\":\"f706abcf-2543-4084-84b0-c46dfcde854f\",\"type\":\"GlyphRenderer\"},{\"attributes\":{},\"id\":\"833eaaa7-3be5-473d-a207-1eb21863dff9\",\"type\":\"PanTool\"},{\"attributes\":{\"data_source\":{\"id\":\"44683850-2ba3-4f3e-9a79-2f233dffcba5\",\"type\":\"ColumnDataSource\"},\"glyph\":{\"id\":\"f39d852c-da22-4252-af1a-05871c9895eb\",\"type\":\"Circle\"},\"hover_glyph\":null,\"muted_glyph\":null,\"nonselection_glyph\":{\"id\":\"b974ee91-8066-4f81-a089-a8d1c100d725\",\"type\":\"Circle\"},\"selection_glyph\":null,\"view\":{\"id\":\"995176be-c503-4d62-8aec-8c511ef522ba\",\"type\":\"CDSView\"}},\"id\":\"77d6778d-052c-4ed6-aba8-cc22e7457bae\",\"type\":\"GlyphRenderer\"},{\"attributes\":{},\"id\":\"9e79b792-4ed8-4c56-9e01-7558d32434e4\",\"type\":\"WheelZoomTool\"},{\"attributes\":{\"callback\":null,\"data\":{\"accel\":{\"__ndarray__\":\"AAAAAAAAL0AAAAAAAAAvQAAAAAAAADBAAAAAAAAALkAAAAAAAAAqQAAAAAAAAC9AAAAAAAAAL0AAAAAAAAAvQAAAAAAAAC9AAAAAAAAAK0AAAAAAAAAuQAAAAAAAAC1AAAAAAACAMEAAAAAAAAAyQAAAAAAAADBAAAAAAACAMEAAAAAAAAAwQAAAAAAAAC5AAAAAAAAALEAAAAAAAAArQAAAAAAAgDBAAAAAAAAAMEAAAAAAAAAxQAAAAAAAADFAAAAAAAAAMkAAAAAAAIAwQAAAAAAAADBAAAAAAAAAMEAAAAAAAAA1QAAAAAAAgDNAAAAAAAAANUAAAAAAAIAyQAAAAAAAADNAAAAAAAAAM0AAAAAAAAAuQAAAAAAAADBAAAAAAAAALUAAAAAAAAAxQM3MzMzMzC5AAAAAAAAALUCamZmZmZkxQJqZmZmZmTFAMzMzMzOzMUAAAAAAAAA1QDMzMzMzMzBAzczMzMzMMUAAAAAAAAAvQDMzMzMzszBAZmZmZmZmMEBmZmZmZuYwQDMzMzMzszFAAAAAAAAAM0AAAAAAAAAtQDMzMzMzMzNAMzMzMzMzMkCamZmZmZkvQDMzMzMzMzFAMzMzMzMzMUCamZmZmZkvQDMzMzMzszBAMzMzMzOzMkAzMzMzMzMuQM3MzMzMzCpAMzMzMzMzK0CamZmZmZkvQM3MzMzMzC5AMzMzMzMzMkAzMzMzMzMyQJqZmZmZmTBAmpmZmZmZJkDNzMzMzMwpQDMzMzMzszJAzczMzMzMJkAzMzMzMzMpQJqZmZmZmTNAMzMzMzMzKUCamZmZmZkrQJqZmZmZmS9AmpmZmZkZMUCamZmZmZkwQGZmZmZmZjBAAAAAAAAAMUBmZmZmZmYtQA==\",\"dtype\":\"float64\",\"shape\":[83]},\"colors\":[\"#3B518A\",\"#3B518A\",\"#3B518A\",\"#3B518A\",\"#3B518A\",\"#3B518A\",\"#3B518A\",\"#3B518A\",\"#3B518A\",\"#3B518A\",\"#3B518A\",\"#3B518A\",\"#3B518A\",\"#3B518A\",\"#3B518A\",\"#3B518A\",\"#3B518A\",\"#3B518A\",\"#3B518A\",\"#3B518A\",\"#3B518A\",\"#3B518A\",\"#3B518A\",\"#3B518A\",\"#3B518A\",\"#3B518A\",\"#3B518A\",\"#3B518A\",\"#3B518A\",\"#3B518A\",\"#3B518A\",\"#3B518A\",\"#3B518A\",\"#3B518A\",\"#3B518A\",\"#3B518A\",\"#3B518A\",\"#3B518A\",\"#3B518A\",\"#3B518A\",\"#3B518A\",\"#3B518A\",\"#3B518A\",\"#3B518A\",\"#3B518A\",\"#3B518A\",\"#3B518A\",\"#3B518A\",\"#3B518A\",\"#3B518A\",\"#3B518A\",\"#3B518A\",\"#3B518A\",\"#3B518A\",\"#3B518A\",\"#3B518A\",\"#3B518A\",\"#3B518A\",\"#3B518A\",\"#3B518A\",\"#3B518A\",\"#3B518A\",\"#3B518A\",\"#3B518A\",\"#3B518A\",\"#3B518A\",\"#3B518A\",\"#3B518A\",\"#3B518A\",\"#3B518A\",\"#3B518A\",\"#3B518A\",\"#3B518A\",\"#3B518A\",\"#3B518A\",\"#3B518A\",\"#3B518A\",\"#3B518A\",\"#3B518A\",\"#3B518A\",\"#3B518A\",\"#3B518A\",\"#3B518A\"],\"cyl\":[6,6,6,6,6,6,6,6,6,6,6,6,6,6,6,6,6,6,6,6,6,6,6,6,6,6,6,6,6,6,6,6,6,6,6,6,6,6,6,6,6,6,6,6,6,6,6,6,6,6,6,6,6,6,6,6,6,6,6,6,6,6,6,6,6,6,6,6,6,6,6,6,6,6,6,6,6,6,6,6,6,6,6],\"displ\":{\"__ndarray__\":\"AAAAAADAaEAAAAAAAOBoQAAAAAAAAGlAAAAAAADgaEAAAAAAAABtQAAAAAAAIGxAAAAAAABAb0AAAAAAAEBvQAAAAAAAAG1AAAAAAAAgcEAAAAAAAEBvQAAAAAAAQG9AAAAAAAAgbEAAAAAAAEBvQAAAAAAAAG1AAAAAAABAb0AAAAAAAMBoQAAAAAAAAG1AAAAAAABgY0AAAAAAAIBjQAAAAAAAwGhAAAAAAAAAbUAAAAAAAEBvQAAAAAAAQG9AAAAAAAAgcEAAAAAAACBsQAAAAAAAIGxAAAAAAABAb0AAAAAAAEBvQAAAAAAAQG9AAAAAAADgbEAAAAAAAEBvQAAAAAAAIHBAAAAAAAAgbEAAAAAAAOBsQAAAAAAAAG1AAAAAAABgZUAAAAAAAABtQAAAAAAAIGxAAAAAAABAb0AAAAAAAABpQAAAAAAAAG1AAAAAAAAgbEAAAAAAAEBvQAAAAAAAQG9AAAAAAAAgcEAAAAAAAIBjQAAAAAAAAGVAAAAAAABAb0AAAAAAAOBsQAAAAAAAIGxAAAAAAABAb0AAAAAAAEBiQAAAAAAA4GxAAAAAAAAAaUAAAAAAAABpQAAAAAAAIGxAAAAAAAAAbUAAAAAAAOBsQAAAAAAAAGlAAAAAAAAgbEAAAAAAACBwQAAAAAAA4GxAAAAAAABgZEAAAAAAAGBkQAAAAAAA4GxAAAAAAAAAaUAAAAAAAABtQAAAAAAAIGxAAAAAAACgZUAAAAAAAKBlQAAAAAAAIGxAAAAAAAAAZUAAAAAAAKBlQAAAAAAAIGJAAAAAAAAAZUAAAAAAAEBiQAAAAAAA4GxAAAAAAAAAaUAAAAAAACBsQAAAAAAAoGZAAAAAAABgcEAAAAAAAABtQA==\",\"dtype\":\"float64\",\"shape\":[83]},\"hp\":[95,97,85,90,100,105,100,88,100,110,100,88,105,100,100,88,95,100,107,122,95,100,100,100,110,105,95,105,72,72,110,105,110,95,110,100,97,90,100,105,81,90,100,78,110,95,108,120,110,105,100,98,97,105,95,85,100,90,105,85,110,120,165,125,133,115,85,90,110,115,115,90,132,110,76,116,120,110,88,85,110,85,112],\"index\":[15,16,17,24,32,33,34,35,36,44,46,47,96,97,98,99,100,106,112,122,124,125,126,131,132,133,150,151,152,153,158,159,160,161,162,167,172,174,189,190,191,192,197,198,199,200,208,209,223,224,225,226,239,250,251,252,254,255,256,257,258,259,261,273,275,278,279,281,282,304,305,314,330,337,355,356,357,358,360,361,380,381,383],\"mpg\":{\"__ndarray__\":\"AAAAAAAANkAAAAAAAAAyQAAAAAAAADVAAAAAAAAANUAAAAAAAAAzQAAAAAAAADBAAAAAAAAAMUAAAAAAAAAzQAAAAAAAADJAAAAAAAAAMkAAAAAAAAAzQAAAAAAAADJAAAAAAAAAMkAAAAAAAAAwQAAAAAAAADJAAAAAAAAAMkAAAAAAAAA3QAAAAAAAADJAAAAAAAAANUAAAAAAAAA0QAAAAAAAADRAAAAAAAAAM0AAAAAAAAAuQAAAAAAAADBAAAAAAAAAMEAAAAAAAAAyQAAAAAAAADNAAAAAAAAAMkAAAAAAAAAuQAAAAAAAAC5AAAAAAAAAMUAAAAAAAAAwQAAAAAAAAC5AAAAAAAAAMkAAAAAAAAA1QAAAAAAAADRAAAAAAAAAMkAAAAAAAAAzQAAAAAAAADZAAAAAAAAANkAAAAAAAAA4QAAAAAAAgDZAAAAAAAAANEAAAAAAAAAyQAAAAAAAgDJAAAAAAACAMUAAAAAAAAAzQAAAAAAAgDBAAAAAAACAMUAAAAAAAIA0QAAAAAAAADNAAAAAAACAMkAAAAAAAAA2QDMzMzMzMzNAAAAAAACANEAzMzMzMzM0QAAAAAAAgDRAZmZmZmZmM0CamZmZmZk0QM3MzMzMzDRAmpmZmZmZMkCamZmZmRkyQDMzMzMzszFAAAAAAAAAMUAzMzMzMzMwQAAAAAAAgDVAzczMzMzMM0AzMzMzMzM0QJqZmZmZmTRAzczMzMzMPEDNzMzMzMw6QJqZmZmZGTNAmpmZmZlZQEAAAAAAAIA3QDMzMzMzsz5AZmZmZmZmOUAzMzMzMzM4QGZmZmZmZjZAMzMzMzMzNECamZmZmZkxQAAAAAAAADlAAAAAAAAAQ0AAAAAAAAA2QA==\",\"dtype\":\"float64\",\"shape\":[83]},\"name\":[\"plymouth duster\",\"amc hornet\",\"ford maverick\",\"amc gremlin\",\"amc gremlin\",\"plymouth satellite custom\",\"chevrolet chevelle malibu\",\"ford torino 500\",\"amc matador\",\"amc hornet sportabout (sw)\",\"pontiac firebird\",\"ford mustang\",\"plymouth valiant\",\"chevrolet nova custom\",\"amc hornet\",\"ford maverick\",\"plymouth duster\",\"amc gremlin\",\"mercury capri v6\",\"toyota mark ii\",\"plymouth duster\",\"amc hornet\",\"chevrolet nova\",\"chevrolet chevelle malibu classic\",\"amc matador\",\"plymouth satellite sebring\",\"plymouth valiant custom\",\"chevrolet nova\",\"mercury monarch\",\"ford maverick\",\"buick century\",\"chevroelt chevelle malibu\",\"amc matador\",\"plymouth fury\",\"buick skyhawk\",\"amc gremlin\",\"ford pinto\",\"amc pacer\",\"plymouth valiant\",\"chevrolet nova\",\"ford maverick\",\"amc hornet\",\"dodge aspen se\",\"ford granada ghia\",\"pontiac ventura sj\",\"amc pacer d/l\",\"toyota mark ii\",\"mercedes-benz 280s\",\"chevrolet concours\",\"buick skylark\",\"plymouth volare custom\",\"ford granada\",\"datsun 810\",\"pontiac phoenix lj\",\"chevrolet malibu\",\"ford fairmont (auto)\",\"plymouth volare\",\"amc concord\",\"buick century special\",\"mercury zephyr\",\"dodge aspen\",\"amc concord d/l\",\"buick regal sport coupe (turbo)\",\"volvo 264gl\",\"peugeot 604sl\",\"pontiac lemans v6\",\"mercury zephyr 6\",\"amc concord dl 6\",\"dodge aspen 6\",\"chevrolet citation\",\"oldsmobile omega brougham\",\"dodge aspen\",\"datsun 280-zx\",\"chevrolet citation\",\"volvo diesel\",\"toyota cressida\",\"datsun 810 maxima\",\"buick century\",\"ford granada gl\",\"chrysler lebaron salon\",\"buick century limited\",\"oldsmobile cutlass ciera (diesel)\",\"ford granada l\"],\"origin\":[1,1,1,1,1,1,1,1,1,1,1,1,1,1,1,1,1,1,1,3,1,1,1,1,1,1,1,1,1,1,1,1,1,1,1,1,1,1,1,1,1,1,1,1,1,1,3,2,1,1,1,1,3,1,1,1,1,1,1,1,1,1,1,2,2,1,1,1,1,1,1,1,3,1,2,3,3,1,1,1,1,1,1],\"weight\":[2833,2774,2587,2648,2634,3439,3329,3302,3288,2962,3282,3139,3121,3278,2945,3021,2904,2789,2472,2807,3102,2901,3336,3781,3632,3613,3264,3459,3432,3158,3907,3897,3730,3785,3039,2914,2984,3211,3233,3353,3012,3085,3651,3574,3645,3193,2930,3820,3520,3425,3630,3525,2815,3535,3155,2965,3430,3210,3380,3070,3620,3410,3445,3140,3410,3245,2990,3265,3360,2595,2700,3381,2910,2725,3160,2900,2930,3415,3060,3465,2945,3015,2835],\"yr\":[70,70,70,70,71,71,71,71,71,71,71,71,73,73,73,73,73,73,73,73,74,74,74,74,74,74,75,75,75,75,75,75,75,75,75,75,75,75,76,76,76,76,76,76,76,76,76,76,77,77,77,77,77,78,78,78,78,78,78,78,78,78,78,78,78,79,79,79,79,79,79,80,80,81,81,81,81,81,81,81,82,82,82]},\"selected\":{\"id\":\"4e67f95b-3b56-46c1-a3ea-355ec9abc7cb\",\"type\":\"Selection\"},\"selection_policy\":{\"id\":\"de11a2b7-228d-4c4b-8e92-ba13044b6159\",\"type\":\"UnionRenderers\"}},\"id\":\"44683850-2ba3-4f3e-9a79-2f233dffcba5\",\"type\":\"ColumnDataSource\"}],\"root_ids\":[\"de9c1d55-fbd7-4b07-84f2-94503d15e311\"]},\"title\":\"Bokeh Application\",\"version\":\"0.13.0\"}};\n",
       "  var render_items = [{\"docid\":\"f8230b96-b1b0-4da1-bf95-c6e417c09b74\",\"roots\":{\"de9c1d55-fbd7-4b07-84f2-94503d15e311\":\"b808ebb5-b2d8-4e78-b691-67a739a5d541\"}}];\n",
       "  root.Bokeh.embed.embed_items_notebook(docs_json, render_items);\n",
       "\n",
       "  }\n",
       "  if (root.Bokeh !== undefined) {\n",
       "    embed_document(root);\n",
       "  } else {\n",
       "    var attempts = 0;\n",
       "    var timer = setInterval(function(root) {\n",
       "      if (root.Bokeh !== undefined) {\n",
       "        embed_document(root);\n",
       "        clearInterval(timer);\n",
       "      }\n",
       "      attempts++;\n",
       "      if (attempts > 100) {\n",
       "        console.log(\"Bokeh: ERROR: Unable to run BokehJS code because BokehJS library is missing\")\n",
       "        clearInterval(timer);\n",
       "      }\n",
       "    }, 10, root)\n",
       "  }\n",
       "})(window);"
      ],
      "application/vnd.bokehjs_exec.v0+json": ""
     },
     "metadata": {
      "application/vnd.bokehjs_exec.v0+json": {
       "id": "de9c1d55-fbd7-4b07-84f2-94503d15e311"
      }
     },
     "output_type": "display_data"
    }
   ],
   "source": [
    "from bokeh.plotting import figure, show, reset_output, output_notebook\n",
    "from bokeh.models import ColumnDataSource\n",
    "\n",
    "reset_output() # reset output previous session\n",
    "output_notebook()\n",
    "\n",
    "# color mapper\n",
    "colormap = {8: '#440154', 6: '#3B518A', 5: '#208F8C', 4: '#5BC862', 3: '#FDE724'} # specify colors\n",
    "autompg['colors'] = [colormap[cyl] for cyl in autompg.cyl] # map colors\n",
    "\n",
    "# figure\n",
    "p = figure(plot_width = 800, plot_height = 500, title = 'Number of cylinders by weight and horsepower')\n",
    "\n",
    "# plot data point per legend item (necessary for interactive legend)\n",
    "for cyl in sorted(autompg.cyl.unique()):\n",
    "    source = ColumnDataSource(autompg[autompg.cyl == cyl])\n",
    "    p.circle('weight', 'hp', size = 10, color = 'colors', alpha = 0.6, legend = 'cyl', source = source)\n",
    "\n",
    "# title\n",
    "p.title.align = 'center'\n",
    "p.title.text_color = '#440154'\n",
    "p.title.text_font = 'helvetica'\n",
    "p.title.text_font_style = 'bold'\n",
    "p.title.text_font_size = '14pt'\n",
    "\n",
    "# axis\n",
    "p.xaxis.axis_label = 'Weight'\n",
    "p.yaxis.axis_label = 'Horsepower'\n",
    "\n",
    "# legend\n",
    "p.legend.orientation = 'vertical'\n",
    "p.legend.location = 'top_left'\n",
    "p.legend.click_policy = 'hide'\n",
    "\n",
    "# show\n",
    "show(p)"
   ]
  },
  {
   "cell_type": "markdown",
   "metadata": {},
   "source": [
    "### Opdracht 12b: Bokeh Server App"
   ]
  },
  {
   "cell_type": "markdown",
   "metadata": {},
   "source": [
    "```python\n",
    "# imports\n",
    "from bokeh.io import curdoc\n",
    "from bokeh.plotting import figure\n",
    "from bokeh.models import ColumnDataSource\n",
    "from bokeh.layouts import column\n",
    "from bokeh.models.widgets import Dropdown\n",
    "from bokeh.sampledata.iris import flowers # load data\n",
    "\n",
    "# setup data\n",
    "species = 'setosa'\n",
    "source = ColumnDataSource(flowers.loc[flowers.species == species])\n",
    "source.data = ColumnDataSource.from_df(flowers.loc[flowers.species == species])\n",
    "\n",
    "# setup tooltips\n",
    "tooltips = [('index', '@index'),\n",
    "            ('Sepal Length', '@sepal_length'),\n",
    "            ('Sepal Width', '@sepal_width'),\n",
    "            ('Species', '@species')]\n",
    "\n",
    "# setup plot\n",
    "p = figure(plot_width = 400, plot_height = 400, tooltips = tooltips)\n",
    "p.circle('sepal_length', 'sepal_width', size = 10, color = 'blue', alpha = 0.5, source = source)\n",
    "\n",
    "# setup widget\n",
    "menu = [(s.capitalize(), s) for s in flowers.species.unique()]\n",
    "dropdown = Dropdown(label = 'Species',  menu = menu)\n",
    "\n",
    "# callback to widgets\n",
    "def callback(attr, old, new):\n",
    "    species = dropdown.value\n",
    "    source.data = ColumnDataSource.from_df(flowers.loc[flowers.species == species])\n",
    "dropdown.on_change('value', callback)\n",
    "\n",
    "# arrange plots and widgets in layouts\n",
    "layout = column(dropdown, p)\n",
    "curdoc().add_root(layout)\n",
    "```"
   ]
  }
 ],
 "metadata": {
  "kernelspec": {
   "display_name": "Python 3",
   "language": "python",
   "name": "python3"
  },
  "language_info": {
   "codemirror_mode": {
    "name": "ipython",
    "version": 3
   },
   "file_extension": ".py",
   "mimetype": "text/x-python",
   "name": "python",
   "nbconvert_exporter": "python",
   "pygments_lexer": "ipython3",
   "version": "3.6.6"
  }
 },
 "nbformat": 4,
 "nbformat_minor": 2
}
