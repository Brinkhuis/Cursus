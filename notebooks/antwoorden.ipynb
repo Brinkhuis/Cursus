{
 "cells": [
  {
   "cell_type": "markdown",
   "metadata": {},
   "source": [
    "# Antwoorden"
   ]
  },
  {
   "cell_type": "markdown",
   "metadata": {},
   "source": [
    "Dit notebook bevat de uitwerking van de opdrachten uit het notebook [opdrachten](https://nbviewer.jupyter.org/github/Brinkhuis/Cursus/blob/master/notebooks/opdrachten.ipynb)."
   ]
  },
  {
   "cell_type": "markdown",
   "metadata": {},
   "source": [
    "### Opdracht 1: string"
   ]
  },
  {
   "cell_type": "code",
   "execution_count": 1,
   "metadata": {},
   "outputs": [],
   "source": [
    "opdracht = '<<< n-o-h-t-y-p >>>'"
   ]
  },
  {
   "cell_type": "markdown",
   "metadata": {},
   "source": [
    "***"
   ]
  },
  {
   "cell_type": "code",
   "execution_count": 2,
   "metadata": {},
   "outputs": [
    {
     "data": {
      "text/plain": [
       "'Python'"
      ]
     },
     "execution_count": 2,
     "metadata": {},
     "output_type": "execute_result"
    }
   ],
   "source": [
    "# uitwerking 1\n",
    "opdracht[-5:3:-2].capitalize()"
   ]
  },
  {
   "cell_type": "code",
   "execution_count": 3,
   "metadata": {},
   "outputs": [
    {
     "data": {
      "text/plain": [
       "'Python'"
      ]
     },
     "execution_count": 3,
     "metadata": {},
     "output_type": "execute_result"
    }
   ],
   "source": [
    "# uitwerking 2\n",
    "opdracht[4:-4][::-2].capitalize()"
   ]
  },
  {
   "cell_type": "code",
   "execution_count": 4,
   "metadata": {},
   "outputs": [
    {
     "data": {
      "text/plain": [
       "'Python'"
      ]
     },
     "execution_count": 4,
     "metadata": {},
     "output_type": "execute_result"
    }
   ],
   "source": [
    "# uitwerking 3\n",
    "opdracht[4:-4].replace('-', '')[::-1].capitalize()"
   ]
  },
  {
   "cell_type": "code",
   "execution_count": 5,
   "metadata": {},
   "outputs": [
    {
     "data": {
      "text/plain": [
       "'Python'"
      ]
     },
     "execution_count": 5,
     "metadata": {},
     "output_type": "execute_result"
    }
   ],
   "source": [
    "# uitwerking 4\n",
    "opdracht.split()[1].replace('-', '')[::-1].capitalize()"
   ]
  },
  {
   "cell_type": "code",
   "execution_count": 6,
   "metadata": {},
   "outputs": [
    {
     "data": {
      "text/plain": [
       "'Python'"
      ]
     },
     "execution_count": 6,
     "metadata": {},
     "output_type": "execute_result"
    }
   ],
   "source": [
    "# uitwerking 5\n",
    "opdracht.strip('< >').replace('-', '')[::-1].capitalize()"
   ]
  },
  {
   "cell_type": "markdown",
   "metadata": {},
   "source": [
    "### Opdracht 2: list"
   ]
  },
  {
   "cell_type": "code",
   "execution_count": 7,
   "metadata": {},
   "outputs": [],
   "source": [
    "opdracht = 'Without requirements or design, programming is the art of adding bugs to an empty text file.'.split()"
   ]
  },
  {
   "cell_type": "code",
   "execution_count": 8,
   "metadata": {},
   "outputs": [],
   "source": [
    "uitkomst = 'Without requirements or design, coding Python is the art of adding bugs to an empty Jupyter Notebook.'.split()"
   ]
  },
  {
   "cell_type": "markdown",
   "metadata": {},
   "source": [
    "***"
   ]
  },
  {
   "cell_type": "code",
   "execution_count": 9,
   "metadata": {},
   "outputs": [
    {
     "data": {
      "text/plain": [
       "True"
      ]
     },
     "execution_count": 9,
     "metadata": {},
     "output_type": "execute_result"
    }
   ],
   "source": [
    "# uitwerking 1\n",
    "opdracht = 'Without requirements or design, programming is the art of adding bugs to an empty text file.'.split()\n",
    "\n",
    "opdracht[opdracht.index('programming')] = 'coding'\n",
    "opdracht.insert(opdracht.index('coding') + 1, 'Python')\n",
    "opdracht.pop()\n",
    "opdracht.pop()\n",
    "opdracht.extend(['Jupyter', 'Notebook.'])\n",
    "\n",
    "opdracht == uitkomst"
   ]
  },
  {
   "cell_type": "code",
   "execution_count": 10,
   "metadata": {},
   "outputs": [
    {
     "data": {
      "text/plain": [
       "True"
      ]
     },
     "execution_count": 10,
     "metadata": {},
     "output_type": "execute_result"
    }
   ],
   "source": [
    "# uitwerking 2\n",
    "opdracht = 'Without requirements or design, programming is the art of adding bugs to an empty text file.'.split()\n",
    "\n",
    "opdracht[opdracht.index('programming')] = 'coding'\n",
    "opdracht.insert(opdracht.index('coding') + 1, 'Python')\n",
    "opdracht.remove('text')\n",
    "opdracht.remove('file.')\n",
    "opdracht.append('Jupyter')\n",
    "opdracht.append('Notebook.')\n",
    "\n",
    "opdracht == uitkomst"
   ]
  },
  {
   "cell_type": "markdown",
   "metadata": {},
   "source": [
    "### Opdracht 3: list comprehension"
   ]
  },
  {
   "cell_type": "code",
   "execution_count": 11,
   "metadata": {},
   "outputs": [
    {
     "name": "stdout",
     "output_type": "stream",
     "text": [
      "106 µs ± 6.62 µs per loop (mean ± std. dev. of 7 runs, 10000 loops each)\n"
     ]
    }
   ],
   "source": [
    "# uitwerking 1\n",
    "%timeit [(c * 9/5 + 32) for c in range(100) if (c * 9/5 + 32) > 150 and int(str(c * 9/5 + 32).split('.')[-1]) == 0]"
   ]
  },
  {
   "cell_type": "markdown",
   "metadata": {},
   "source": [
    "Korte performance analyse:  \n",
    "* 100 loops\n",
    "* conversie van float naar string\n",
    "* split string\n",
    "* subsetting\n",
    "* conversie van string naar int"
   ]
  },
  {
   "cell_type": "code",
   "execution_count": 12,
   "metadata": {},
   "outputs": [
    {
     "name": "stdout",
     "output_type": "stream",
     "text": [
      "88 µs ± 2.17 µs per loop (mean ± std. dev. of 7 runs, 10000 loops each)\n"
     ]
    }
   ],
   "source": [
    "# uitwerking 2\n",
    "%timeit [(c * 9/5 + 32) for c in range(100) if (c * 9/5 + 32) > 150 and str(c * 9/5 + 32).split('.')[-1] == '0']"
   ]
  },
  {
   "cell_type": "markdown",
   "metadata": {},
   "source": [
    "Korte performance analyse:\n",
    "* 100 loops\n",
    "* conversie van float naar string\n",
    "* split string\n",
    "* subsetting"
   ]
  },
  {
   "cell_type": "code",
   "execution_count": 13,
   "metadata": {},
   "outputs": [
    {
     "name": "stdout",
     "output_type": "stream",
     "text": [
      "59.7 µs ± 4.48 µs per loop (mean ± std. dev. of 7 runs, 10000 loops each)\n"
     ]
    }
   ],
   "source": [
    "# uitwerking 3\n",
    "%timeit [(c * 9/5 + 32) for c in range(100) if (c * 9/5 + 32) > 150 and (c * 9/5 + 32) == int(c * 9/5 + 32)]"
   ]
  },
  {
   "cell_type": "markdown",
   "metadata": {},
   "source": [
    "Korte performance analyse:\n",
    "* 100 loops\n",
    "* conversie van float naar int"
   ]
  },
  {
   "cell_type": "code",
   "execution_count": 14,
   "metadata": {},
   "outputs": [
    {
     "name": "stdout",
     "output_type": "stream",
     "text": [
      "33.3 µs ± 746 ns per loop (mean ± std. dev. of 7 runs, 10000 loops each)\n"
     ]
    }
   ],
   "source": [
    "# uitwerking 4\n",
    "%timeit [(c * 9/5 + 32) for c in range(100) if (c * 9/5 + 32) > 150 and c % 5 == 0]"
   ]
  },
  {
   "cell_type": "markdown",
   "metadata": {},
   "source": [
    "Korte performance analyse:\n",
    "* 100 loops"
   ]
  },
  {
   "cell_type": "code",
   "execution_count": 15,
   "metadata": {},
   "outputs": [
    {
     "name": "stdout",
     "output_type": "stream",
     "text": [
      "8.26 µs ± 109 ns per loop (mean ± std. dev. of 7 runs, 100000 loops each)\n"
     ]
    }
   ],
   "source": [
    "# uitwerking 5\n",
    "%timeit [(c * 9/5 + 32) for c in range(0, 100, 5) if (c * 9/5 + 32) > 150]"
   ]
  },
  {
   "cell_type": "markdown",
   "metadata": {},
   "source": [
    "Korte performance analyse:\n",
    "* 20 loops !!\n",
    "\n",
    "Toelichting:  \n",
    "* In de conversieformule wordt er gedeeld door 5.\n",
    "* Elk veelvoud van 5 (tussen de 0 en de 100) levert daarom een geheel getal (integer) op bij delen door 5.\n",
    "* En dat blijft een geheel getal als je er 32 bij optelt.\n",
    "* Met deze wetenschap kun je het aantal loops flink terug brengen!\n",
    "* Hiermee heb je tevens het voordeel dat er één conditie minder achter het if-statement nodig is.\n",
    "* Daarmee is deze oplossing ongeveer 4x sneller dan de '2nd best solution' en ongeveer 12x sneller dan uitwerking nr 1."
   ]
  },
  {
   "cell_type": "markdown",
   "metadata": {},
   "source": [
    "### Opdracht 4a: for"
   ]
  },
  {
   "cell_type": "code",
   "execution_count": 16,
   "metadata": {},
   "outputs": [
    {
     "name": "stdout",
     "output_type": "stream",
     "text": [
      "1\n",
      "7\n",
      "11\n",
      "13\n",
      "17\n",
      "19\n",
      "23\n",
      "29\n",
      "31\n",
      "37\n",
      "41\n",
      "43\n",
      "47\n",
      "49\n",
      "53\n",
      "59\n",
      "61\n",
      "67\n",
      "71\n",
      "73\n",
      "77\n",
      "79\n",
      "83\n",
      "89\n",
      "91\n",
      "97\n",
      "\n",
      "Er zijn 26 getallen gevonden die niet deelbaar zijn door 2, 3, 4 of 5.\n"
     ]
    }
   ],
   "source": [
    "# uitwerking 1\n",
    "aantal = 0\n",
    "for num in range(1, 101):\n",
    "    if num % 2 == 0 or num % 3 == 0 or num % 4 == 0 or num % 5 == 0:\n",
    "        continue\n",
    "    aantal += 1\n",
    "    print(num)\n",
    "print('\\nEr zijn {} getallen gevonden die niet deelbaar zijn door 2, 3, 4 of 5.'.format(aantal))"
   ]
  },
  {
   "cell_type": "code",
   "execution_count": 17,
   "metadata": {},
   "outputs": [
    {
     "name": "stdout",
     "output_type": "stream",
     "text": [
      "[1, 7, 11, 13, 17, 19, 23, 29, 31, 37, 41, 43, 47, 49, 53, 59, 61, 67, 71, 73, 77, 79, 83, 89, 91, 97]\n",
      "Er zijn 26 getallen gevonden die niet deelbaar zijn door 2, 3, 4 of 5.\n"
     ]
    }
   ],
   "source": [
    "# uitwerking 2\n",
    "resultaat = list()\n",
    "for num in range(1, 101):\n",
    "    if num % 2 == 0 or num % 3 == 0 or num % 4 == 0 or num % 5 == 0:\n",
    "        continue\n",
    "    resultaat.append(num)\n",
    "print(resultaat)\n",
    "print('Er zijn {} getallen gevonden die niet deelbaar zijn door 2, 3, 4 of 5.'.format(len(resultaat)))"
   ]
  },
  {
   "cell_type": "code",
   "execution_count": 18,
   "metadata": {},
   "outputs": [
    {
     "name": "stdout",
     "output_type": "stream",
     "text": [
      "[1, 7, 11, 13, 17, 19, 23, 29, 31, 37, 41, 43, 47, 49, 53, 59, 61, 67, 71, 73, 77, 79, 83, 89, 91, 97]\n",
      "Er zijn 26 getallen gevonden die niet deelbaar zijn door 2, 3, 4 of 5.\n"
     ]
    }
   ],
   "source": [
    "# uitwerking 3\n",
    "resultaat = list()\n",
    "for num in range(1, 101):\n",
    "    test_resultaat = True\n",
    "    for test in range(2, 6):\n",
    "        if num % test == 0:\n",
    "            test_resultaat = False\n",
    "            break\n",
    "    if test_resultaat:\n",
    "        resultaat.append(num)\n",
    "print(resultaat)\n",
    "print('Er zijn {} getallen gevonden die niet deelbaar zijn door 2, 3, 4 of 5.'.format(len(resultaat)))"
   ]
  },
  {
   "cell_type": "markdown",
   "metadata": {},
   "source": [
    "### Opdracht 4b: while"
   ]
  },
  {
   "cell_type": "code",
   "execution_count": 19,
   "metadata": {},
   "outputs": [
    {
     "name": "stdout",
     "output_type": "stream",
     "text": [
      "1\n",
      "7\n",
      "11\n",
      "13\n",
      "17\n",
      "19\n",
      "23\n",
      "29\n",
      "31\n",
      "37\n",
      "41\n",
      "43\n",
      "47\n",
      "49\n",
      "53\n",
      "59\n",
      "61\n",
      "67\n",
      "71\n",
      "73\n",
      "77\n",
      "79\n",
      "83\n",
      "89\n",
      "91\n",
      "97\n",
      "\n",
      "Er zijn 26 getallen gevonden die niet deelbaar zijn door 2, 3, 4 of 5.\n"
     ]
    }
   ],
   "source": [
    "# uitwerking 1\n",
    "num = 0\n",
    "aantal = 0\n",
    "while True:\n",
    "    num += 1\n",
    "    if num % 2 == 0 or num % 3 == 0 or num % 4 == 0 or num % 5 == 0:\n",
    "        continue\n",
    "    if num > 100:\n",
    "        break\n",
    "    print(num)\n",
    "    aantal += 1\n",
    "print('\\nEr zijn {} getallen gevonden die niet deelbaar zijn door 2, 3, 4 of 5.'.format(aantal))"
   ]
  },
  {
   "cell_type": "code",
   "execution_count": 20,
   "metadata": {},
   "outputs": [
    {
     "name": "stdout",
     "output_type": "stream",
     "text": [
      "[1, 7, 11, 13, 17, 19, 23, 29, 31, 37, 41, 43, 47, 49, 53, 59, 61, 67, 71, 73, 77, 79, 83, 89, 91, 97]\n",
      "Er zijn 26 getallen gevonden die niet deelbaar zijn door 2, 3, 4 of 5.\n"
     ]
    }
   ],
   "source": [
    "# uitwerking 2\n",
    "num = 0\n",
    "resultaat = list()\n",
    "while True:\n",
    "    num += 1\n",
    "    if num % 2 == 0 or num % 3 == 0 or num % 4 == 0 or num % 5 == 0:\n",
    "        continue\n",
    "    if num > 100:\n",
    "        break\n",
    "    resultaat.append(num)\n",
    "print(resultaat)\n",
    "print('Er zijn {} getallen gevonden die niet deelbaar zijn door 2, 3, 4 of 5.'.format(len(resultaat)))"
   ]
  },
  {
   "cell_type": "code",
   "execution_count": 21,
   "metadata": {},
   "outputs": [
    {
     "name": "stdout",
     "output_type": "stream",
     "text": [
      "[1, 7, 11, 13, 17, 19, 23, 29, 31, 37, 41, 43, 47, 49, 53, 59, 61, 67, 71, 73, 77, 79, 83, 89, 91, 97]\n",
      "Er zijn 26 getallen gevonden die niet deelbaar zijn door 2, 3, 4 of 5.\n"
     ]
    }
   ],
   "source": [
    "# uitwerking 3\n",
    "num = 0\n",
    "resultaat = list()\n",
    "while True:\n",
    "    num += 1\n",
    "    teller = 0 # teller om het aantal getallen uit range(2, 6) te tellen waardoor num deelbaar is.\n",
    "    for test in range(2, 6):\n",
    "        if num % test == 0:\n",
    "            teller += 1\n",
    "            break # break de for loop als num deelbaar is door een getal uit range(2, 6)\n",
    "    if teller == 0:\n",
    "        resultaat.append(num)\n",
    "    if num >= 100:\n",
    "        break\n",
    "print(resultaat)\n",
    "print('Er zijn {} getallen gevonden die niet deelbaar zijn door 2, 3, 4 of 5.'.format(len(resultaat)))"
   ]
  },
  {
   "cell_type": "markdown",
   "metadata": {},
   "source": [
    "### Opdracht 5a: function"
   ]
  },
  {
   "cell_type": "code",
   "execution_count": 22,
   "metadata": {},
   "outputs": [
    {
     "data": {
      "text/plain": [
       "(2, 1)"
      ]
     },
     "execution_count": 22,
     "metadata": {},
     "output_type": "execute_result"
    }
   ],
   "source": [
    "def deel(x, y):\n",
    "    return x // y, x % y\n",
    "\n",
    "deel(15, 7)"
   ]
  },
  {
   "cell_type": "markdown",
   "metadata": {},
   "source": [
    "### Opdracht 5b: error handling"
   ]
  },
  {
   "cell_type": "code",
   "execution_count": 23,
   "metadata": {},
   "outputs": [],
   "source": [
    "# uitwerking\n",
    "def deel(x = None, y = 1):\n",
    "    try:\n",
    "        if x == None:\n",
    "            raise ValueError(\"Argument 'x' ontbreekt of heeft waarde 'None'\")\n",
    "        return x // y, x % y\n",
    "    except ZeroDivisionError as E:\n",
    "        print(E)\n",
    "    except TypeError as E:\n",
    "        print(E)\n",
    "    except ValueError as E:\n",
    "        print(E)"
   ]
  },
  {
   "cell_type": "code",
   "execution_count": 24,
   "metadata": {},
   "outputs": [
    {
     "name": "stdout",
     "output_type": "stream",
     "text": [
      "1 (2, 1) \n",
      "\n",
      "2 (0, 7) \n",
      "\n",
      "3 (15, 0) \n",
      "\n",
      "4 (0, 0) \n",
      "\n",
      "5 (2.0, 0.5) \n",
      "\n",
      "integer division or modulo by zero\n",
      "6 None \n",
      "\n",
      "unsupported operand type(s) for //: 'str' and 'str'\n",
      "7 None \n",
      "\n",
      "unsupported operand type(s) for //: 'list' and 'int'\n",
      "8 None \n",
      "\n",
      "Argument 'x' ontbreekt of heeft waarde 'None'\n",
      "9 None\n"
     ]
    }
   ],
   "source": [
    "print(1, deel(15, 7), '\\n') # (2, 1)\n",
    "print(2, deel(7, 15), '\\n') # (0, 7)\n",
    "print(3, deel(15), '\\n') # (15, 0)\n",
    "print(4, deel(0, 15), '\\n') # (0, 0)\n",
    "print(5, deel(5.5, 2.5), '\\n') # (2.0, 0.5)\n",
    "print(6, deel(15, 0), '\\n') # integer division or modulo by zero\n",
    "print(7, deel('vijftien', 'zeven'), '\\n') # unsupported operand type(s) for //: 'str' and 'str'\n",
    "print(8, deel([15, 7]), '\\n') # unsupported operand type(s) for //: 'list' and 'int'\n",
    "print(9, deel(y = 7)) # Argument 'x' ontbreekt of heeft waarde 'None'"
   ]
  },
  {
   "cell_type": "code",
   "execution_count": 25,
   "metadata": {},
   "outputs": [],
   "source": [
    "# uitwerking, optioneel\n",
    "def deel(x = None, y = 1):\n",
    "    try:\n",
    "        if x == None:\n",
    "            raise ValueError(\"Argument 'x' ontbreekt of heeft waarde 'None'\")\n",
    "        if int(x % y) == x % y:\n",
    "            return {'aantal': int(x // y), 'rest': int(x % y)}\n",
    "        else:\n",
    "            return {'aantal': int(x // y), 'rest': x % y}\n",
    "    except ZeroDivisionError as E:\n",
    "        print(E)\n",
    "    except TypeError as E:\n",
    "        print(E)\n",
    "    except ValueError as E:\n",
    "        print(E)"
   ]
  },
  {
   "cell_type": "code",
   "execution_count": 26,
   "metadata": {},
   "outputs": [
    {
     "name": "stdout",
     "output_type": "stream",
     "text": [
      "{'aantal': 3, 'rest': 1} \n",
      "\n",
      "aantal: <class 'int'>\n",
      "rest  : <class 'int'>\n"
     ]
    }
   ],
   "source": [
    "print(deel(8.5, 2.5), '\\n')\n",
    "print('aantal:', type(deel(8.5, 2.5)['aantal']))\n",
    "print('rest  :', type(deel(8.5, 2.5)['rest']))"
   ]
  },
  {
   "cell_type": "code",
   "execution_count": 27,
   "metadata": {},
   "outputs": [
    {
     "name": "stdout",
     "output_type": "stream",
     "text": [
      "{'aantal': 2, 'rest': 1.5} \n",
      "\n",
      "aantal: <class 'int'>\n",
      "rest  : <class 'float'>\n"
     ]
    }
   ],
   "source": [
    "print(deel(8.5, 3.5), '\\n')\n",
    "print('aantal:', type(deel(8.5, 3.5)['aantal']))\n",
    "print('rest  :', type(deel(8.5, 3.5)['rest']))"
   ]
  },
  {
   "cell_type": "markdown",
   "metadata": {},
   "source": [
    "### Opdracht 6: lambda expression"
   ]
  },
  {
   "cell_type": "code",
   "execution_count": 28,
   "metadata": {},
   "outputs": [],
   "source": [
    "celsius = range(100)"
   ]
  },
  {
   "cell_type": "markdown",
   "metadata": {},
   "source": [
    "***"
   ]
  },
  {
   "cell_type": "code",
   "execution_count": 29,
   "metadata": {},
   "outputs": [
    {
     "data": {
      "text/plain": [
       "[201.2, 203.0, 204.8, 206.6, 208.4, 210.2]"
      ]
     },
     "execution_count": 29,
     "metadata": {},
     "output_type": "execute_result"
    }
   ],
   "source": [
    "list(filter(lambda f: f > 200, map(lambda c: c * 9 / 5 + 32, celsius)))"
   ]
  },
  {
   "cell_type": "markdown",
   "metadata": {},
   "source": [
    "### Opdracht 7: inlezen csv"
   ]
  },
  {
   "cell_type": "code",
   "execution_count": 30,
   "metadata": {},
   "outputs": [],
   "source": [
    "import pandas as pd"
   ]
  },
  {
   "cell_type": "code",
   "execution_count": 31,
   "metadata": {},
   "outputs": [
    {
     "data": {
      "text/html": [
       "<div>\n",
       "<style scoped>\n",
       "    .dataframe tbody tr th:only-of-type {\n",
       "        vertical-align: middle;\n",
       "    }\n",
       "\n",
       "    .dataframe tbody tr th {\n",
       "        vertical-align: top;\n",
       "    }\n",
       "\n",
       "    .dataframe thead th {\n",
       "        text-align: right;\n",
       "    }\n",
       "</style>\n",
       "<table border=\"1\" class=\"dataframe\">\n",
       "  <thead>\n",
       "    <tr style=\"text-align: right;\">\n",
       "      <th></th>\n",
       "      <th>id</th>\n",
       "      <th>leeftijd</th>\n",
       "      <th>geslacht</th>\n",
       "      <th>groep</th>\n",
       "    </tr>\n",
       "  </thead>\n",
       "  <tbody>\n",
       "    <tr>\n",
       "      <th>43</th>\n",
       "      <td>44</td>\n",
       "      <td>96</td>\n",
       "      <td>V</td>\n",
       "      <td>NaN</td>\n",
       "    </tr>\n",
       "    <tr>\n",
       "      <th>44</th>\n",
       "      <td>45</td>\n",
       "      <td>46</td>\n",
       "      <td>V</td>\n",
       "      <td>C</td>\n",
       "    </tr>\n",
       "    <tr>\n",
       "      <th>45</th>\n",
       "      <td>46</td>\n",
       "      <td>38</td>\n",
       "      <td>M</td>\n",
       "      <td>A</td>\n",
       "    </tr>\n",
       "    <tr>\n",
       "      <th>46</th>\n",
       "      <td>47</td>\n",
       "      <td>41</td>\n",
       "      <td>V</td>\n",
       "      <td>A</td>\n",
       "    </tr>\n",
       "    <tr>\n",
       "      <th>47</th>\n",
       "      <td>48</td>\n",
       "      <td>28</td>\n",
       "      <td>V</td>\n",
       "      <td>C</td>\n",
       "    </tr>\n",
       "    <tr>\n",
       "      <th>48</th>\n",
       "      <td>49</td>\n",
       "      <td>92</td>\n",
       "      <td>NaN</td>\n",
       "      <td>C</td>\n",
       "    </tr>\n",
       "    <tr>\n",
       "      <th>49</th>\n",
       "      <td>50</td>\n",
       "      <td>22</td>\n",
       "      <td>M</td>\n",
       "      <td>C</td>\n",
       "    </tr>\n",
       "  </tbody>\n",
       "</table>\n",
       "</div>"
      ],
      "text/plain": [
       "    id  leeftijd geslacht groep\n",
       "43  44        96        V   NaN\n",
       "44  45        46        V     C\n",
       "45  46        38        M     A\n",
       "46  47        41        V     A\n",
       "47  48        28        V     C\n",
       "48  49        92      NaN     C\n",
       "49  50        22        M     C"
      ]
     },
     "execution_count": 31,
     "metadata": {},
     "output_type": "execute_result"
    }
   ],
   "source": [
    "# uitwerking 1\n",
    "file = '../data/leesmij.csv'\n",
    "pd.read_csv(file, sep='/', skiprows=1, engine='python', skipfooter=2, na_values=['??', '-', ' ', '  ']).tail(7)"
   ]
  },
  {
   "cell_type": "code",
   "execution_count": 32,
   "metadata": {},
   "outputs": [
    {
     "data": {
      "text/html": [
       "<div>\n",
       "<style scoped>\n",
       "    .dataframe tbody tr th:only-of-type {\n",
       "        vertical-align: middle;\n",
       "    }\n",
       "\n",
       "    .dataframe tbody tr th {\n",
       "        vertical-align: top;\n",
       "    }\n",
       "\n",
       "    .dataframe thead th {\n",
       "        text-align: right;\n",
       "    }\n",
       "</style>\n",
       "<table border=\"1\" class=\"dataframe\">\n",
       "  <thead>\n",
       "    <tr style=\"text-align: right;\">\n",
       "      <th></th>\n",
       "      <th>id</th>\n",
       "      <th>leeftijd</th>\n",
       "      <th>geslacht</th>\n",
       "      <th>groep</th>\n",
       "    </tr>\n",
       "  </thead>\n",
       "  <tbody>\n",
       "    <tr>\n",
       "      <th>43</th>\n",
       "      <td>44</td>\n",
       "      <td>96.0</td>\n",
       "      <td>V</td>\n",
       "      <td>NaN</td>\n",
       "    </tr>\n",
       "    <tr>\n",
       "      <th>44</th>\n",
       "      <td>45</td>\n",
       "      <td>46.0</td>\n",
       "      <td>V</td>\n",
       "      <td>C</td>\n",
       "    </tr>\n",
       "    <tr>\n",
       "      <th>45</th>\n",
       "      <td>46</td>\n",
       "      <td>38.0</td>\n",
       "      <td>M</td>\n",
       "      <td>A</td>\n",
       "    </tr>\n",
       "    <tr>\n",
       "      <th>46</th>\n",
       "      <td>47</td>\n",
       "      <td>41.0</td>\n",
       "      <td>V</td>\n",
       "      <td>A</td>\n",
       "    </tr>\n",
       "    <tr>\n",
       "      <th>47</th>\n",
       "      <td>48</td>\n",
       "      <td>28.0</td>\n",
       "      <td>V</td>\n",
       "      <td>C</td>\n",
       "    </tr>\n",
       "    <tr>\n",
       "      <th>48</th>\n",
       "      <td>49</td>\n",
       "      <td>92.0</td>\n",
       "      <td>NaN</td>\n",
       "      <td>C</td>\n",
       "    </tr>\n",
       "    <tr>\n",
       "      <th>49</th>\n",
       "      <td>50</td>\n",
       "      <td>22.0</td>\n",
       "      <td>M</td>\n",
       "      <td>C</td>\n",
       "    </tr>\n",
       "  </tbody>\n",
       "</table>\n",
       "</div>"
      ],
      "text/plain": [
       "    id  leeftijd geslacht groep\n",
       "43  44      96.0        V   NaN\n",
       "44  45      46.0        V     C\n",
       "45  46      38.0        M     A\n",
       "46  47      41.0        V     A\n",
       "47  48      28.0        V     C\n",
       "48  49      92.0      NaN     C\n",
       "49  50      22.0        M     C"
      ]
     },
     "execution_count": 32,
     "metadata": {},
     "output_type": "execute_result"
    }
   ],
   "source": [
    "# uitwerking 2\n",
    "file = '../data/leesmij.csv'\n",
    "pd.read_csv(file, sep='/', skiprows=1, na_values=['??', '-', ' ', '  '])[:-2].tail(7)"
   ]
  },
  {
   "cell_type": "code",
   "execution_count": 33,
   "metadata": {},
   "outputs": [
    {
     "name": "stdout",
     "output_type": "stream",
     "text": [
      "    id  leeftijd geslacht groep\n",
      "43  44        96        V   NaN\n",
      "44  45        46        V     C\n",
      "45  46        38        M     A\n",
      "46  47        41        V     A\n",
      "47  48        28        V     C\n",
      "48  49        92      NaN     C\n",
      "49  50        22        M     C\n"
     ]
    }
   ],
   "source": [
    "# uitwerking 3\n",
    "import sys\n",
    "import os\n",
    "\n",
    "f = open('../data/leesmij.csv', 'r')\n",
    "lines = f.readlines()\n",
    "\n",
    "f = open('../data/leesmij_geschoond.csv', 'w')\n",
    "\n",
    "for line in lines[1:-2]:\n",
    "    f.write(line)\n",
    "f.close()\n",
    "\n",
    "print(pd.read_csv('../data/leesmij_geschoond.csv', sep='/', na_values=['??', '-', ' ', '  ']).tail(7))\n",
    "\n",
    "os.remove('../data/leesmij_geschoond.csv')"
   ]
  },
  {
   "cell_type": "markdown",
   "metadata": {},
   "source": [
    "### Opdracht 8: genereren data"
   ]
  },
  {
   "cell_type": "code",
   "execution_count": 34,
   "metadata": {},
   "outputs": [],
   "source": [
    "import pandas as pd\n",
    "import numpy as np"
   ]
  },
  {
   "cell_type": "code",
   "execution_count": 35,
   "metadata": {},
   "outputs": [
    {
     "data": {
      "text/html": [
       "<div>\n",
       "<style scoped>\n",
       "    .dataframe tbody tr th:only-of-type {\n",
       "        vertical-align: middle;\n",
       "    }\n",
       "\n",
       "    .dataframe tbody tr th {\n",
       "        vertical-align: top;\n",
       "    }\n",
       "\n",
       "    .dataframe thead th {\n",
       "        text-align: right;\n",
       "    }\n",
       "</style>\n",
       "<table border=\"1\" class=\"dataframe\">\n",
       "  <thead>\n",
       "    <tr style=\"text-align: right;\">\n",
       "      <th></th>\n",
       "      <th>id</th>\n",
       "      <th>grp</th>\n",
       "      <th>fkg</th>\n",
       "      <th>dkg</th>\n",
       "    </tr>\n",
       "  </thead>\n",
       "  <tbody>\n",
       "    <tr>\n",
       "      <th>2906</th>\n",
       "      <td>90685</td>\n",
       "      <td>1</td>\n",
       "      <td>0</td>\n",
       "      <td>1</td>\n",
       "    </tr>\n",
       "    <tr>\n",
       "      <th>781</th>\n",
       "      <td>16949</td>\n",
       "      <td>35</td>\n",
       "      <td>1</td>\n",
       "      <td>0</td>\n",
       "    </tr>\n",
       "    <tr>\n",
       "      <th>8934</th>\n",
       "      <td>86928</td>\n",
       "      <td>13</td>\n",
       "      <td>0</td>\n",
       "      <td>1</td>\n",
       "    </tr>\n",
       "    <tr>\n",
       "      <th>1030</th>\n",
       "      <td>14018</td>\n",
       "      <td>16</td>\n",
       "      <td>1</td>\n",
       "      <td>0</td>\n",
       "    </tr>\n",
       "    <tr>\n",
       "      <th>3768</th>\n",
       "      <td>37606</td>\n",
       "      <td>2</td>\n",
       "      <td>0</td>\n",
       "      <td>0</td>\n",
       "    </tr>\n",
       "    <tr>\n",
       "      <th>8610</th>\n",
       "      <td>31577</td>\n",
       "      <td>34</td>\n",
       "      <td>1</td>\n",
       "      <td>1</td>\n",
       "    </tr>\n",
       "    <tr>\n",
       "      <th>832</th>\n",
       "      <td>33061</td>\n",
       "      <td>36</td>\n",
       "      <td>0</td>\n",
       "      <td>1</td>\n",
       "    </tr>\n",
       "    <tr>\n",
       "      <th>7116</th>\n",
       "      <td>70101</td>\n",
       "      <td>30</td>\n",
       "      <td>0</td>\n",
       "      <td>0</td>\n",
       "    </tr>\n",
       "    <tr>\n",
       "      <th>811</th>\n",
       "      <td>27144</td>\n",
       "      <td>9</td>\n",
       "      <td>1</td>\n",
       "      <td>0</td>\n",
       "    </tr>\n",
       "    <tr>\n",
       "      <th>6708</th>\n",
       "      <td>79101</td>\n",
       "      <td>35</td>\n",
       "      <td>1</td>\n",
       "      <td>1</td>\n",
       "    </tr>\n",
       "  </tbody>\n",
       "</table>\n",
       "</div>"
      ],
      "text/plain": [
       "         id  grp  fkg  dkg\n",
       "2906  90685    1    0    1\n",
       "781   16949   35    1    0\n",
       "8934  86928   13    0    1\n",
       "1030  14018   16    1    0\n",
       "3768  37606    2    0    0\n",
       "8610  31577   34    1    1\n",
       "832   33061   36    0    1\n",
       "7116  70101   30    0    0\n",
       "811   27144    9    1    0\n",
       "6708  79101   35    1    1"
      ]
     },
     "execution_count": 35,
     "metadata": {},
     "output_type": "execute_result"
    }
   ],
   "source": [
    "np.random.seed(42)\n",
    "aantal_personen = 10000\n",
    "df = pd.DataFrame({'id': np.random.choice(range(10000, 100000), aantal_personen),\n",
    "                   'grp': np.random.choice(range(1, 41), aantal_personen, replace=True),\n",
    "                   'fkg': np.random.choice(range(2), aantal_personen, replace=True),\n",
    "                   'dkg': np.random.choice(range(2), aantal_personen, replace=True)})\n",
    "df.sample(n=10)"
   ]
  },
  {
   "cell_type": "markdown",
   "metadata": {},
   "source": [
    "### Opdracht 9a: toevoegen kolom"
   ]
  },
  {
   "cell_type": "code",
   "execution_count": 36,
   "metadata": {},
   "outputs": [
    {
     "data": {
      "text/html": [
       "<div>\n",
       "<style scoped>\n",
       "    .dataframe tbody tr th:only-of-type {\n",
       "        vertical-align: middle;\n",
       "    }\n",
       "\n",
       "    .dataframe tbody tr th {\n",
       "        vertical-align: top;\n",
       "    }\n",
       "\n",
       "    .dataframe thead th {\n",
       "        text-align: right;\n",
       "    }\n",
       "</style>\n",
       "<table border=\"1\" class=\"dataframe\">\n",
       "  <thead>\n",
       "    <tr style=\"text-align: right;\">\n",
       "      <th></th>\n",
       "      <th>id</th>\n",
       "      <th>grp</th>\n",
       "      <th>fkg</th>\n",
       "      <th>dkg</th>\n",
       "      <th>geslacht</th>\n",
       "    </tr>\n",
       "  </thead>\n",
       "  <tbody>\n",
       "    <tr>\n",
       "      <th>0</th>\n",
       "      <td>25795</td>\n",
       "      <td>6</td>\n",
       "      <td>1</td>\n",
       "      <td>1</td>\n",
       "      <td>man</td>\n",
       "    </tr>\n",
       "    <tr>\n",
       "      <th>1</th>\n",
       "      <td>10860</td>\n",
       "      <td>13</td>\n",
       "      <td>1</td>\n",
       "      <td>0</td>\n",
       "      <td>man</td>\n",
       "    </tr>\n",
       "    <tr>\n",
       "      <th>2</th>\n",
       "      <td>86820</td>\n",
       "      <td>22</td>\n",
       "      <td>0</td>\n",
       "      <td>0</td>\n",
       "      <td>vrouw</td>\n",
       "    </tr>\n",
       "    <tr>\n",
       "      <th>3</th>\n",
       "      <td>64886</td>\n",
       "      <td>31</td>\n",
       "      <td>1</td>\n",
       "      <td>1</td>\n",
       "      <td>vrouw</td>\n",
       "    </tr>\n",
       "    <tr>\n",
       "      <th>4</th>\n",
       "      <td>16265</td>\n",
       "      <td>22</td>\n",
       "      <td>1</td>\n",
       "      <td>0</td>\n",
       "      <td>vrouw</td>\n",
       "    </tr>\n",
       "  </tbody>\n",
       "</table>\n",
       "</div>"
      ],
      "text/plain": [
       "      id  grp  fkg  dkg geslacht\n",
       "0  25795    6    1    1      man\n",
       "1  10860   13    1    0      man\n",
       "2  86820   22    0    0    vrouw\n",
       "3  64886   31    1    1    vrouw\n",
       "4  16265   22    1    0    vrouw"
      ]
     },
     "execution_count": 36,
     "metadata": {},
     "output_type": "execute_result"
    }
   ],
   "source": [
    "df['geslacht'] = np.where(df.grp <= 20, 'man', 'vrouw')\n",
    "df.head()"
   ]
  },
  {
   "cell_type": "markdown",
   "metadata": {},
   "source": [
    "### Opdracht 9b: toevoegen kolom"
   ]
  },
  {
   "cell_type": "code",
   "execution_count": 37,
   "metadata": {},
   "outputs": [
    {
     "data": {
      "text/html": [
       "<div>\n",
       "<style scoped>\n",
       "    .dataframe tbody tr th:only-of-type {\n",
       "        vertical-align: middle;\n",
       "    }\n",
       "\n",
       "    .dataframe tbody tr th {\n",
       "        vertical-align: top;\n",
       "    }\n",
       "\n",
       "    .dataframe thead th {\n",
       "        text-align: right;\n",
       "    }\n",
       "</style>\n",
       "<table border=\"1\" class=\"dataframe\">\n",
       "  <thead>\n",
       "    <tr style=\"text-align: right;\">\n",
       "      <th></th>\n",
       "      <th>id</th>\n",
       "      <th>grp</th>\n",
       "      <th>fkg</th>\n",
       "      <th>dkg</th>\n",
       "      <th>geslacht</th>\n",
       "      <th>65</th>\n",
       "    </tr>\n",
       "  </thead>\n",
       "  <tbody>\n",
       "    <tr>\n",
       "      <th>0</th>\n",
       "      <td>25795</td>\n",
       "      <td>6</td>\n",
       "      <td>1</td>\n",
       "      <td>1</td>\n",
       "      <td>man</td>\n",
       "      <td>65-</td>\n",
       "    </tr>\n",
       "    <tr>\n",
       "      <th>1</th>\n",
       "      <td>10860</td>\n",
       "      <td>13</td>\n",
       "      <td>1</td>\n",
       "      <td>0</td>\n",
       "      <td>man</td>\n",
       "      <td>65-</td>\n",
       "    </tr>\n",
       "    <tr>\n",
       "      <th>2</th>\n",
       "      <td>86820</td>\n",
       "      <td>22</td>\n",
       "      <td>0</td>\n",
       "      <td>0</td>\n",
       "      <td>vrouw</td>\n",
       "      <td>65-</td>\n",
       "    </tr>\n",
       "    <tr>\n",
       "      <th>3</th>\n",
       "      <td>64886</td>\n",
       "      <td>31</td>\n",
       "      <td>1</td>\n",
       "      <td>1</td>\n",
       "      <td>vrouw</td>\n",
       "      <td>65-</td>\n",
       "    </tr>\n",
       "    <tr>\n",
       "      <th>4</th>\n",
       "      <td>16265</td>\n",
       "      <td>22</td>\n",
       "      <td>1</td>\n",
       "      <td>0</td>\n",
       "      <td>vrouw</td>\n",
       "      <td>65-</td>\n",
       "    </tr>\n",
       "    <tr>\n",
       "      <th>5</th>\n",
       "      <td>92386</td>\n",
       "      <td>37</td>\n",
       "      <td>0</td>\n",
       "      <td>1</td>\n",
       "      <td>vrouw</td>\n",
       "      <td>65+</td>\n",
       "    </tr>\n",
       "    <tr>\n",
       "      <th>6</th>\n",
       "      <td>47194</td>\n",
       "      <td>27</td>\n",
       "      <td>1</td>\n",
       "      <td>0</td>\n",
       "      <td>vrouw</td>\n",
       "      <td>65-</td>\n",
       "    </tr>\n",
       "    <tr>\n",
       "      <th>7</th>\n",
       "      <td>97498</td>\n",
       "      <td>14</td>\n",
       "      <td>1</td>\n",
       "      <td>1</td>\n",
       "      <td>man</td>\n",
       "      <td>65+</td>\n",
       "    </tr>\n",
       "    <tr>\n",
       "      <th>8</th>\n",
       "      <td>54131</td>\n",
       "      <td>5</td>\n",
       "      <td>1</td>\n",
       "      <td>0</td>\n",
       "      <td>man</td>\n",
       "      <td>65-</td>\n",
       "    </tr>\n",
       "    <tr>\n",
       "      <th>9</th>\n",
       "      <td>70263</td>\n",
       "      <td>36</td>\n",
       "      <td>0</td>\n",
       "      <td>1</td>\n",
       "      <td>vrouw</td>\n",
       "      <td>65+</td>\n",
       "    </tr>\n",
       "  </tbody>\n",
       "</table>\n",
       "</div>"
      ],
      "text/plain": [
       "      id  grp  fkg  dkg geslacht   65\n",
       "0  25795    6    1    1      man  65-\n",
       "1  10860   13    1    0      man  65-\n",
       "2  86820   22    0    0    vrouw  65-\n",
       "3  64886   31    1    1    vrouw  65-\n",
       "4  16265   22    1    0    vrouw  65-\n",
       "5  92386   37    0    1    vrouw  65+\n",
       "6  47194   27    1    0    vrouw  65-\n",
       "7  97498   14    1    1      man  65+\n",
       "8  54131    5    1    0      man  65-\n",
       "9  70263   36    0    1    vrouw  65+"
      ]
     },
     "execution_count": 37,
     "metadata": {},
     "output_type": "execute_result"
    }
   ],
   "source": [
    "# uitwerking 1\n",
    "df['65'] = ['65+' if (g >= 14 and g <= 20) or g >= 34 else '65-' for g in df.grp]\n",
    "df.head(10)"
   ]
  },
  {
   "cell_type": "code",
   "execution_count": 38,
   "metadata": {},
   "outputs": [
    {
     "data": {
      "text/html": [
       "<div>\n",
       "<style scoped>\n",
       "    .dataframe tbody tr th:only-of-type {\n",
       "        vertical-align: middle;\n",
       "    }\n",
       "\n",
       "    .dataframe tbody tr th {\n",
       "        vertical-align: top;\n",
       "    }\n",
       "\n",
       "    .dataframe thead th {\n",
       "        text-align: right;\n",
       "    }\n",
       "</style>\n",
       "<table border=\"1\" class=\"dataframe\">\n",
       "  <thead>\n",
       "    <tr style=\"text-align: right;\">\n",
       "      <th></th>\n",
       "      <th>id</th>\n",
       "      <th>grp</th>\n",
       "      <th>fkg</th>\n",
       "      <th>dkg</th>\n",
       "      <th>geslacht</th>\n",
       "      <th>65</th>\n",
       "    </tr>\n",
       "  </thead>\n",
       "  <tbody>\n",
       "    <tr>\n",
       "      <th>0</th>\n",
       "      <td>25795</td>\n",
       "      <td>6</td>\n",
       "      <td>1</td>\n",
       "      <td>1</td>\n",
       "      <td>man</td>\n",
       "      <td>65-</td>\n",
       "    </tr>\n",
       "    <tr>\n",
       "      <th>1</th>\n",
       "      <td>10860</td>\n",
       "      <td>13</td>\n",
       "      <td>1</td>\n",
       "      <td>0</td>\n",
       "      <td>man</td>\n",
       "      <td>65-</td>\n",
       "    </tr>\n",
       "    <tr>\n",
       "      <th>2</th>\n",
       "      <td>86820</td>\n",
       "      <td>22</td>\n",
       "      <td>0</td>\n",
       "      <td>0</td>\n",
       "      <td>vrouw</td>\n",
       "      <td>65-</td>\n",
       "    </tr>\n",
       "    <tr>\n",
       "      <th>3</th>\n",
       "      <td>64886</td>\n",
       "      <td>31</td>\n",
       "      <td>1</td>\n",
       "      <td>1</td>\n",
       "      <td>vrouw</td>\n",
       "      <td>65-</td>\n",
       "    </tr>\n",
       "    <tr>\n",
       "      <th>4</th>\n",
       "      <td>16265</td>\n",
       "      <td>22</td>\n",
       "      <td>1</td>\n",
       "      <td>0</td>\n",
       "      <td>vrouw</td>\n",
       "      <td>65-</td>\n",
       "    </tr>\n",
       "    <tr>\n",
       "      <th>5</th>\n",
       "      <td>92386</td>\n",
       "      <td>37</td>\n",
       "      <td>0</td>\n",
       "      <td>1</td>\n",
       "      <td>vrouw</td>\n",
       "      <td>65+</td>\n",
       "    </tr>\n",
       "    <tr>\n",
       "      <th>6</th>\n",
       "      <td>47194</td>\n",
       "      <td>27</td>\n",
       "      <td>1</td>\n",
       "      <td>0</td>\n",
       "      <td>vrouw</td>\n",
       "      <td>65-</td>\n",
       "    </tr>\n",
       "    <tr>\n",
       "      <th>7</th>\n",
       "      <td>97498</td>\n",
       "      <td>14</td>\n",
       "      <td>1</td>\n",
       "      <td>1</td>\n",
       "      <td>man</td>\n",
       "      <td>65+</td>\n",
       "    </tr>\n",
       "    <tr>\n",
       "      <th>8</th>\n",
       "      <td>54131</td>\n",
       "      <td>5</td>\n",
       "      <td>1</td>\n",
       "      <td>0</td>\n",
       "      <td>man</td>\n",
       "      <td>65-</td>\n",
       "    </tr>\n",
       "    <tr>\n",
       "      <th>9</th>\n",
       "      <td>70263</td>\n",
       "      <td>36</td>\n",
       "      <td>0</td>\n",
       "      <td>1</td>\n",
       "      <td>vrouw</td>\n",
       "      <td>65+</td>\n",
       "    </tr>\n",
       "  </tbody>\n",
       "</table>\n",
       "</div>"
      ],
      "text/plain": [
       "      id  grp  fkg  dkg geslacht   65\n",
       "0  25795    6    1    1      man  65-\n",
       "1  10860   13    1    0      man  65-\n",
       "2  86820   22    0    0    vrouw  65-\n",
       "3  64886   31    1    1    vrouw  65-\n",
       "4  16265   22    1    0    vrouw  65-\n",
       "5  92386   37    0    1    vrouw  65+\n",
       "6  47194   27    1    0    vrouw  65-\n",
       "7  97498   14    1    1      man  65+\n",
       "8  54131    5    1    0      man  65-\n",
       "9  70263   36    0    1    vrouw  65+"
      ]
     },
     "execution_count": 38,
     "metadata": {},
     "output_type": "execute_result"
    }
   ],
   "source": [
    "# uitwerking 2\n",
    "df['65'] = ['65-' if g <= 13 or (g >= 21 and g <= 33) else '65+' for g in df.grp]\n",
    "df.head(10)"
   ]
  },
  {
   "cell_type": "markdown",
   "metadata": {},
   "source": [
    "### Opdracht 9c: toevoegen kolom"
   ]
  },
  {
   "cell_type": "code",
   "execution_count": 39,
   "metadata": {},
   "outputs": [],
   "source": [
    "def leeftijd_categorie(grp):\n",
    "    leeftijd_start = grp * 5 - 5\n",
    "    leeftijd_eind = grp * 5 - 1\n",
    "    return str(leeftijd_start) + '-' + str(leeftijd_eind)"
   ]
  },
  {
   "cell_type": "markdown",
   "metadata": {},
   "source": [
    "***"
   ]
  },
  {
   "cell_type": "code",
   "execution_count": 40,
   "metadata": {},
   "outputs": [
    {
     "data": {
      "text/html": [
       "<div>\n",
       "<style scoped>\n",
       "    .dataframe tbody tr th:only-of-type {\n",
       "        vertical-align: middle;\n",
       "    }\n",
       "\n",
       "    .dataframe tbody tr th {\n",
       "        vertical-align: top;\n",
       "    }\n",
       "\n",
       "    .dataframe thead th {\n",
       "        text-align: right;\n",
       "    }\n",
       "</style>\n",
       "<table border=\"1\" class=\"dataframe\">\n",
       "  <thead>\n",
       "    <tr style=\"text-align: right;\">\n",
       "      <th></th>\n",
       "      <th>id</th>\n",
       "      <th>grp</th>\n",
       "      <th>fkg</th>\n",
       "      <th>dkg</th>\n",
       "      <th>geslacht</th>\n",
       "      <th>65</th>\n",
       "      <th>leeftijd_categorie</th>\n",
       "    </tr>\n",
       "  </thead>\n",
       "  <tbody>\n",
       "    <tr>\n",
       "      <th>0</th>\n",
       "      <td>25795</td>\n",
       "      <td>6</td>\n",
       "      <td>1</td>\n",
       "      <td>1</td>\n",
       "      <td>man</td>\n",
       "      <td>65-</td>\n",
       "      <td>25-29</td>\n",
       "    </tr>\n",
       "    <tr>\n",
       "      <th>1</th>\n",
       "      <td>10860</td>\n",
       "      <td>13</td>\n",
       "      <td>1</td>\n",
       "      <td>0</td>\n",
       "      <td>man</td>\n",
       "      <td>65-</td>\n",
       "      <td>60-64</td>\n",
       "    </tr>\n",
       "    <tr>\n",
       "      <th>2</th>\n",
       "      <td>86820</td>\n",
       "      <td>22</td>\n",
       "      <td>0</td>\n",
       "      <td>0</td>\n",
       "      <td>vrouw</td>\n",
       "      <td>65-</td>\n",
       "      <td>5-9</td>\n",
       "    </tr>\n",
       "  </tbody>\n",
       "</table>\n",
       "</div>"
      ],
      "text/plain": [
       "      id  grp  fkg  dkg geslacht   65 leeftijd_categorie\n",
       "0  25795    6    1    1      man  65-              25-29\n",
       "1  10860   13    1    0      man  65-              60-64\n",
       "2  86820   22    0    0    vrouw  65-                5-9"
      ]
     },
     "execution_count": 40,
     "metadata": {},
     "output_type": "execute_result"
    }
   ],
   "source": [
    "# uitwerking 1\n",
    "df['leeftijd_categorie'] = df['grp'].apply(lambda x: leeftijd_categorie(x) if (x <= 20) else leeftijd_categorie(x - 20))\n",
    "df.head(3)"
   ]
  },
  {
   "cell_type": "code",
   "execution_count": 41,
   "metadata": {},
   "outputs": [
    {
     "data": {
      "text/html": [
       "<div>\n",
       "<style scoped>\n",
       "    .dataframe tbody tr th:only-of-type {\n",
       "        vertical-align: middle;\n",
       "    }\n",
       "\n",
       "    .dataframe tbody tr th {\n",
       "        vertical-align: top;\n",
       "    }\n",
       "\n",
       "    .dataframe thead th {\n",
       "        text-align: right;\n",
       "    }\n",
       "</style>\n",
       "<table border=\"1\" class=\"dataframe\">\n",
       "  <thead>\n",
       "    <tr style=\"text-align: right;\">\n",
       "      <th></th>\n",
       "      <th>id</th>\n",
       "      <th>grp</th>\n",
       "      <th>fkg</th>\n",
       "      <th>dkg</th>\n",
       "      <th>geslacht</th>\n",
       "      <th>65</th>\n",
       "      <th>leeftijd_categorie</th>\n",
       "    </tr>\n",
       "  </thead>\n",
       "  <tbody>\n",
       "    <tr>\n",
       "      <th>0</th>\n",
       "      <td>25795</td>\n",
       "      <td>6</td>\n",
       "      <td>1</td>\n",
       "      <td>1</td>\n",
       "      <td>man</td>\n",
       "      <td>65-</td>\n",
       "      <td>25-29</td>\n",
       "    </tr>\n",
       "    <tr>\n",
       "      <th>1</th>\n",
       "      <td>10860</td>\n",
       "      <td>13</td>\n",
       "      <td>1</td>\n",
       "      <td>0</td>\n",
       "      <td>man</td>\n",
       "      <td>65-</td>\n",
       "      <td>60-64</td>\n",
       "    </tr>\n",
       "    <tr>\n",
       "      <th>2</th>\n",
       "      <td>86820</td>\n",
       "      <td>22</td>\n",
       "      <td>0</td>\n",
       "      <td>0</td>\n",
       "      <td>vrouw</td>\n",
       "      <td>65-</td>\n",
       "      <td>5-9</td>\n",
       "    </tr>\n",
       "  </tbody>\n",
       "</table>\n",
       "</div>"
      ],
      "text/plain": [
       "      id  grp  fkg  dkg geslacht   65 leeftijd_categorie\n",
       "0  25795    6    1    1      man  65-              25-29\n",
       "1  10860   13    1    0      man  65-              60-64\n",
       "2  86820   22    0    0    vrouw  65-                5-9"
      ]
     },
     "execution_count": 41,
     "metadata": {},
     "output_type": "execute_result"
    }
   ],
   "source": [
    "# uitwerking 2\n",
    "df['leeftijd_categorie'] = [leeftijd_categorie(x) if x <= 20 else leeftijd_categorie(x - 20) for x in df.grp]\n",
    "df.head(3)"
   ]
  },
  {
   "cell_type": "code",
   "execution_count": 42,
   "metadata": {},
   "outputs": [
    {
     "data": {
      "text/html": [
       "<div>\n",
       "<style scoped>\n",
       "    .dataframe tbody tr th:only-of-type {\n",
       "        vertical-align: middle;\n",
       "    }\n",
       "\n",
       "    .dataframe tbody tr th {\n",
       "        vertical-align: top;\n",
       "    }\n",
       "\n",
       "    .dataframe thead th {\n",
       "        text-align: right;\n",
       "    }\n",
       "</style>\n",
       "<table border=\"1\" class=\"dataframe\">\n",
       "  <thead>\n",
       "    <tr style=\"text-align: right;\">\n",
       "      <th></th>\n",
       "      <th>id</th>\n",
       "      <th>grp</th>\n",
       "      <th>fkg</th>\n",
       "      <th>dkg</th>\n",
       "      <th>geslacht</th>\n",
       "      <th>65</th>\n",
       "      <th>leeftijd_categorie</th>\n",
       "    </tr>\n",
       "  </thead>\n",
       "  <tbody>\n",
       "    <tr>\n",
       "      <th>0</th>\n",
       "      <td>25795</td>\n",
       "      <td>6</td>\n",
       "      <td>1</td>\n",
       "      <td>1</td>\n",
       "      <td>man</td>\n",
       "      <td>65-</td>\n",
       "      <td>25-29</td>\n",
       "    </tr>\n",
       "    <tr>\n",
       "      <th>1</th>\n",
       "      <td>10860</td>\n",
       "      <td>13</td>\n",
       "      <td>1</td>\n",
       "      <td>0</td>\n",
       "      <td>man</td>\n",
       "      <td>65-</td>\n",
       "      <td>60-64</td>\n",
       "    </tr>\n",
       "    <tr>\n",
       "      <th>2</th>\n",
       "      <td>86820</td>\n",
       "      <td>22</td>\n",
       "      <td>0</td>\n",
       "      <td>0</td>\n",
       "      <td>vrouw</td>\n",
       "      <td>65-</td>\n",
       "      <td>5-9</td>\n",
       "    </tr>\n",
       "  </tbody>\n",
       "</table>\n",
       "</div>"
      ],
      "text/plain": [
       "      id  grp  fkg  dkg geslacht   65 leeftijd_categorie\n",
       "0  25795    6    1    1      man  65-              25-29\n",
       "1  10860   13    1    0      man  65-              60-64\n",
       "2  86820   22    0    0    vrouw  65-                5-9"
      ]
     },
     "execution_count": 42,
     "metadata": {},
     "output_type": "execute_result"
    }
   ],
   "source": [
    "# uitwerking 3\n",
    "df['leeftijd_categorie'] = list(map(lambda g: leeftijd_categorie(g) if g <= 20 else leeftijd_categorie(g - 20), df.grp))\n",
    "df.head(3)"
   ]
  },
  {
   "cell_type": "markdown",
   "metadata": {},
   "source": [
    "### Opdracht 9d: toevoegen kolom"
   ]
  },
  {
   "cell_type": "code",
   "execution_count": 43,
   "metadata": {},
   "outputs": [
    {
     "data": {
      "text/html": [
       "<div>\n",
       "<style scoped>\n",
       "    .dataframe tbody tr th:only-of-type {\n",
       "        vertical-align: middle;\n",
       "    }\n",
       "\n",
       "    .dataframe tbody tr th {\n",
       "        vertical-align: top;\n",
       "    }\n",
       "\n",
       "    .dataframe thead th {\n",
       "        text-align: right;\n",
       "    }\n",
       "</style>\n",
       "<table border=\"1\" class=\"dataframe\">\n",
       "  <thead>\n",
       "    <tr style=\"text-align: right;\">\n",
       "      <th></th>\n",
       "      <th>id</th>\n",
       "      <th>grp</th>\n",
       "      <th>fkg</th>\n",
       "      <th>dkg</th>\n",
       "      <th>geslacht</th>\n",
       "      <th>65</th>\n",
       "      <th>leeftijd_categorie</th>\n",
       "      <th>gezondheid_status</th>\n",
       "    </tr>\n",
       "  </thead>\n",
       "  <tbody>\n",
       "    <tr>\n",
       "      <th>0</th>\n",
       "      <td>25795</td>\n",
       "      <td>6</td>\n",
       "      <td>1</td>\n",
       "      <td>1</td>\n",
       "      <td>man</td>\n",
       "      <td>65-</td>\n",
       "      <td>25-29</td>\n",
       "      <td>ongezond</td>\n",
       "    </tr>\n",
       "    <tr>\n",
       "      <th>1</th>\n",
       "      <td>10860</td>\n",
       "      <td>13</td>\n",
       "      <td>1</td>\n",
       "      <td>0</td>\n",
       "      <td>man</td>\n",
       "      <td>65-</td>\n",
       "      <td>60-64</td>\n",
       "      <td>ongezond</td>\n",
       "    </tr>\n",
       "    <tr>\n",
       "      <th>2</th>\n",
       "      <td>86820</td>\n",
       "      <td>22</td>\n",
       "      <td>0</td>\n",
       "      <td>0</td>\n",
       "      <td>vrouw</td>\n",
       "      <td>65-</td>\n",
       "      <td>5-9</td>\n",
       "      <td>gezond</td>\n",
       "    </tr>\n",
       "    <tr>\n",
       "      <th>3</th>\n",
       "      <td>64886</td>\n",
       "      <td>31</td>\n",
       "      <td>1</td>\n",
       "      <td>1</td>\n",
       "      <td>vrouw</td>\n",
       "      <td>65-</td>\n",
       "      <td>50-54</td>\n",
       "      <td>ongezond</td>\n",
       "    </tr>\n",
       "    <tr>\n",
       "      <th>4</th>\n",
       "      <td>16265</td>\n",
       "      <td>22</td>\n",
       "      <td>1</td>\n",
       "      <td>0</td>\n",
       "      <td>vrouw</td>\n",
       "      <td>65-</td>\n",
       "      <td>5-9</td>\n",
       "      <td>ongezond</td>\n",
       "    </tr>\n",
       "    <tr>\n",
       "      <th>5</th>\n",
       "      <td>92386</td>\n",
       "      <td>37</td>\n",
       "      <td>0</td>\n",
       "      <td>1</td>\n",
       "      <td>vrouw</td>\n",
       "      <td>65+</td>\n",
       "      <td>80-84</td>\n",
       "      <td>ongezond</td>\n",
       "    </tr>\n",
       "    <tr>\n",
       "      <th>6</th>\n",
       "      <td>47194</td>\n",
       "      <td>27</td>\n",
       "      <td>1</td>\n",
       "      <td>0</td>\n",
       "      <td>vrouw</td>\n",
       "      <td>65-</td>\n",
       "      <td>30-34</td>\n",
       "      <td>ongezond</td>\n",
       "    </tr>\n",
       "    <tr>\n",
       "      <th>7</th>\n",
       "      <td>97498</td>\n",
       "      <td>14</td>\n",
       "      <td>1</td>\n",
       "      <td>1</td>\n",
       "      <td>man</td>\n",
       "      <td>65+</td>\n",
       "      <td>65-69</td>\n",
       "      <td>ongezond</td>\n",
       "    </tr>\n",
       "    <tr>\n",
       "      <th>8</th>\n",
       "      <td>54131</td>\n",
       "      <td>5</td>\n",
       "      <td>1</td>\n",
       "      <td>0</td>\n",
       "      <td>man</td>\n",
       "      <td>65-</td>\n",
       "      <td>20-24</td>\n",
       "      <td>ongezond</td>\n",
       "    </tr>\n",
       "    <tr>\n",
       "      <th>9</th>\n",
       "      <td>70263</td>\n",
       "      <td>36</td>\n",
       "      <td>0</td>\n",
       "      <td>1</td>\n",
       "      <td>vrouw</td>\n",
       "      <td>65+</td>\n",
       "      <td>75-79</td>\n",
       "      <td>ongezond</td>\n",
       "    </tr>\n",
       "  </tbody>\n",
       "</table>\n",
       "</div>"
      ],
      "text/plain": [
       "      id  grp  fkg  dkg geslacht   65 leeftijd_categorie gezondheid_status\n",
       "0  25795    6    1    1      man  65-              25-29          ongezond\n",
       "1  10860   13    1    0      man  65-              60-64          ongezond\n",
       "2  86820   22    0    0    vrouw  65-                5-9            gezond\n",
       "3  64886   31    1    1    vrouw  65-              50-54          ongezond\n",
       "4  16265   22    1    0    vrouw  65-                5-9          ongezond\n",
       "5  92386   37    0    1    vrouw  65+              80-84          ongezond\n",
       "6  47194   27    1    0    vrouw  65-              30-34          ongezond\n",
       "7  97498   14    1    1      man  65+              65-69          ongezond\n",
       "8  54131    5    1    0      man  65-              20-24          ongezond\n",
       "9  70263   36    0    1    vrouw  65+              75-79          ongezond"
      ]
     },
     "execution_count": 43,
     "metadata": {},
     "output_type": "execute_result"
    }
   ],
   "source": [
    "# uitwerking 1\n",
    "df['gezondheid_status'] = np.where((df.fkg == 0) & (df.dkg == 0), 'gezond','ongezond')\n",
    "df.head(10)"
   ]
  },
  {
   "cell_type": "code",
   "execution_count": 44,
   "metadata": {},
   "outputs": [
    {
     "data": {
      "text/html": [
       "<div>\n",
       "<style scoped>\n",
       "    .dataframe tbody tr th:only-of-type {\n",
       "        vertical-align: middle;\n",
       "    }\n",
       "\n",
       "    .dataframe tbody tr th {\n",
       "        vertical-align: top;\n",
       "    }\n",
       "\n",
       "    .dataframe thead th {\n",
       "        text-align: right;\n",
       "    }\n",
       "</style>\n",
       "<table border=\"1\" class=\"dataframe\">\n",
       "  <thead>\n",
       "    <tr style=\"text-align: right;\">\n",
       "      <th></th>\n",
       "      <th>id</th>\n",
       "      <th>grp</th>\n",
       "      <th>fkg</th>\n",
       "      <th>dkg</th>\n",
       "      <th>geslacht</th>\n",
       "      <th>65</th>\n",
       "      <th>leeftijd_categorie</th>\n",
       "      <th>gezondheid_status</th>\n",
       "    </tr>\n",
       "  </thead>\n",
       "  <tbody>\n",
       "    <tr>\n",
       "      <th>0</th>\n",
       "      <td>25795</td>\n",
       "      <td>6</td>\n",
       "      <td>1</td>\n",
       "      <td>1</td>\n",
       "      <td>man</td>\n",
       "      <td>65-</td>\n",
       "      <td>25-29</td>\n",
       "      <td>ongezond</td>\n",
       "    </tr>\n",
       "    <tr>\n",
       "      <th>1</th>\n",
       "      <td>10860</td>\n",
       "      <td>13</td>\n",
       "      <td>1</td>\n",
       "      <td>0</td>\n",
       "      <td>man</td>\n",
       "      <td>65-</td>\n",
       "      <td>60-64</td>\n",
       "      <td>ongezond</td>\n",
       "    </tr>\n",
       "    <tr>\n",
       "      <th>2</th>\n",
       "      <td>86820</td>\n",
       "      <td>22</td>\n",
       "      <td>0</td>\n",
       "      <td>0</td>\n",
       "      <td>vrouw</td>\n",
       "      <td>65-</td>\n",
       "      <td>5-9</td>\n",
       "      <td>gezond</td>\n",
       "    </tr>\n",
       "    <tr>\n",
       "      <th>3</th>\n",
       "      <td>64886</td>\n",
       "      <td>31</td>\n",
       "      <td>1</td>\n",
       "      <td>1</td>\n",
       "      <td>vrouw</td>\n",
       "      <td>65-</td>\n",
       "      <td>50-54</td>\n",
       "      <td>ongezond</td>\n",
       "    </tr>\n",
       "    <tr>\n",
       "      <th>4</th>\n",
       "      <td>16265</td>\n",
       "      <td>22</td>\n",
       "      <td>1</td>\n",
       "      <td>0</td>\n",
       "      <td>vrouw</td>\n",
       "      <td>65-</td>\n",
       "      <td>5-9</td>\n",
       "      <td>ongezond</td>\n",
       "    </tr>\n",
       "    <tr>\n",
       "      <th>5</th>\n",
       "      <td>92386</td>\n",
       "      <td>37</td>\n",
       "      <td>0</td>\n",
       "      <td>1</td>\n",
       "      <td>vrouw</td>\n",
       "      <td>65+</td>\n",
       "      <td>80-84</td>\n",
       "      <td>ongezond</td>\n",
       "    </tr>\n",
       "    <tr>\n",
       "      <th>6</th>\n",
       "      <td>47194</td>\n",
       "      <td>27</td>\n",
       "      <td>1</td>\n",
       "      <td>0</td>\n",
       "      <td>vrouw</td>\n",
       "      <td>65-</td>\n",
       "      <td>30-34</td>\n",
       "      <td>ongezond</td>\n",
       "    </tr>\n",
       "    <tr>\n",
       "      <th>7</th>\n",
       "      <td>97498</td>\n",
       "      <td>14</td>\n",
       "      <td>1</td>\n",
       "      <td>1</td>\n",
       "      <td>man</td>\n",
       "      <td>65+</td>\n",
       "      <td>65-69</td>\n",
       "      <td>ongezond</td>\n",
       "    </tr>\n",
       "    <tr>\n",
       "      <th>8</th>\n",
       "      <td>54131</td>\n",
       "      <td>5</td>\n",
       "      <td>1</td>\n",
       "      <td>0</td>\n",
       "      <td>man</td>\n",
       "      <td>65-</td>\n",
       "      <td>20-24</td>\n",
       "      <td>ongezond</td>\n",
       "    </tr>\n",
       "    <tr>\n",
       "      <th>9</th>\n",
       "      <td>70263</td>\n",
       "      <td>36</td>\n",
       "      <td>0</td>\n",
       "      <td>1</td>\n",
       "      <td>vrouw</td>\n",
       "      <td>65+</td>\n",
       "      <td>75-79</td>\n",
       "      <td>ongezond</td>\n",
       "    </tr>\n",
       "  </tbody>\n",
       "</table>\n",
       "</div>"
      ],
      "text/plain": [
       "      id  grp  fkg  dkg geslacht   65 leeftijd_categorie gezondheid_status\n",
       "0  25795    6    1    1      man  65-              25-29          ongezond\n",
       "1  10860   13    1    0      man  65-              60-64          ongezond\n",
       "2  86820   22    0    0    vrouw  65-                5-9            gezond\n",
       "3  64886   31    1    1    vrouw  65-              50-54          ongezond\n",
       "4  16265   22    1    0    vrouw  65-                5-9          ongezond\n",
       "5  92386   37    0    1    vrouw  65+              80-84          ongezond\n",
       "6  47194   27    1    0    vrouw  65-              30-34          ongezond\n",
       "7  97498   14    1    1      man  65+              65-69          ongezond\n",
       "8  54131    5    1    0      man  65-              20-24          ongezond\n",
       "9  70263   36    0    1    vrouw  65+              75-79          ongezond"
      ]
     },
     "execution_count": 44,
     "metadata": {},
     "output_type": "execute_result"
    }
   ],
   "source": [
    "# uitwerking 2\n",
    "df['gezondheid_status'] = list(map(lambda fkg, dkg: 'gezond' if (fkg == 0 and dkg == 0) else 'ongezond', df.fkg, df.dkg))\n",
    "df.head(10)"
   ]
  },
  {
   "cell_type": "markdown",
   "metadata": {},
   "source": [
    "### Opdracht 10a: lees tabblad Excel"
   ]
  },
  {
   "cell_type": "code",
   "execution_count": 45,
   "metadata": {},
   "outputs": [
    {
     "data": {
      "text/html": [
       "<div>\n",
       "<style scoped>\n",
       "    .dataframe tbody tr th:only-of-type {\n",
       "        vertical-align: middle;\n",
       "    }\n",
       "\n",
       "    .dataframe tbody tr th {\n",
       "        vertical-align: top;\n",
       "    }\n",
       "\n",
       "    .dataframe thead th {\n",
       "        text-align: right;\n",
       "    }\n",
       "</style>\n",
       "<table border=\"1\" class=\"dataframe\">\n",
       "  <thead>\n",
       "    <tr style=\"text-align: right;\">\n",
       "      <th></th>\n",
       "      <th>Regio</th>\n",
       "      <th>Q1</th>\n",
       "      <th>Q2</th>\n",
       "      <th>Q3</th>\n",
       "      <th>Q4</th>\n",
       "    </tr>\n",
       "  </thead>\n",
       "  <tbody>\n",
       "    <tr>\n",
       "      <th>0</th>\n",
       "      <td>Noord</td>\n",
       "      <td>1210</td>\n",
       "      <td>1225</td>\n",
       "      <td>1230.0</td>\n",
       "      <td>1205</td>\n",
       "    </tr>\n",
       "    <tr>\n",
       "      <th>1</th>\n",
       "      <td>Oost</td>\n",
       "      <td>1295</td>\n",
       "      <td>1310</td>\n",
       "      <td>1315.0</td>\n",
       "      <td>1290</td>\n",
       "    </tr>\n",
       "    <tr>\n",
       "      <th>2</th>\n",
       "      <td>Midden</td>\n",
       "      <td>1111</td>\n",
       "      <td>1208</td>\n",
       "      <td>1298.0</td>\n",
       "      <td>1138</td>\n",
       "    </tr>\n",
       "    <tr>\n",
       "      <th>3</th>\n",
       "      <td>Zuid</td>\n",
       "      <td>1330</td>\n",
       "      <td>1345</td>\n",
       "      <td>NaN</td>\n",
       "      <td>1325</td>\n",
       "    </tr>\n",
       "    <tr>\n",
       "      <th>4</th>\n",
       "      <td>West</td>\n",
       "      <td>1135</td>\n",
       "      <td>1150</td>\n",
       "      <td>1155.0</td>\n",
       "      <td>1130</td>\n",
       "    </tr>\n",
       "  </tbody>\n",
       "</table>\n",
       "</div>"
      ],
      "text/plain": [
       "    Regio    Q1    Q2      Q3    Q4\n",
       "0   Noord  1210  1225  1230.0  1205\n",
       "1    Oost  1295  1310  1315.0  1290\n",
       "2  Midden  1111  1208  1298.0  1138\n",
       "3    Zuid  1330  1345     NaN  1325\n",
       "4    West  1135  1150  1155.0  1130"
      ]
     },
     "execution_count": 45,
     "metadata": {},
     "output_type": "execute_result"
    }
   ],
   "source": [
    "excel = pd.read_excel(io = '../data/leesmij.xlsx',\n",
    "                      sheet_name = '2018',\n",
    "                      skiprows = 2,\n",
    "                      usecols = 'D:H',\n",
    "                      skipfooter = 1,\n",
    "                      na_values = '???'\n",
    "                     )\n",
    "excel"
   ]
  },
  {
   "cell_type": "markdown",
   "metadata": {},
   "source": [
    "### Opdracht 10b: lees alle tabbladden Excel"
   ]
  },
  {
   "cell_type": "code",
   "execution_count": 46,
   "metadata": {},
   "outputs": [],
   "source": [
    "excel = pd.read_excel(io = '../data/leesmij.xlsx',\n",
    "                      sheet_name = None,\n",
    "                      skiprows = 2,\n",
    "                      usecols = 'D:H',\n",
    "                      skipfooter = 1,\n",
    "                      na_values = '???'\n",
    "                     )"
   ]
  },
  {
   "cell_type": "code",
   "execution_count": 47,
   "metadata": {},
   "outputs": [
    {
     "data": {
      "text/plain": [
       "collections.OrderedDict"
      ]
     },
     "execution_count": 47,
     "metadata": {},
     "output_type": "execute_result"
    }
   ],
   "source": [
    "# type\n",
    "type(excel)"
   ]
  },
  {
   "cell_type": "code",
   "execution_count": 48,
   "metadata": {},
   "outputs": [
    {
     "data": {
      "text/html": [
       "<div>\n",
       "<style scoped>\n",
       "    .dataframe tbody tr th:only-of-type {\n",
       "        vertical-align: middle;\n",
       "    }\n",
       "\n",
       "    .dataframe tbody tr th {\n",
       "        vertical-align: top;\n",
       "    }\n",
       "\n",
       "    .dataframe thead th {\n",
       "        text-align: right;\n",
       "    }\n",
       "</style>\n",
       "<table border=\"1\" class=\"dataframe\">\n",
       "  <thead>\n",
       "    <tr style=\"text-align: right;\">\n",
       "      <th></th>\n",
       "      <th>Regio</th>\n",
       "      <th>Q1</th>\n",
       "      <th>Q2</th>\n",
       "      <th>Q3</th>\n",
       "      <th>Q4</th>\n",
       "    </tr>\n",
       "  </thead>\n",
       "  <tbody>\n",
       "    <tr>\n",
       "      <th>0</th>\n",
       "      <td>Noord</td>\n",
       "      <td>1210</td>\n",
       "      <td>1250</td>\n",
       "      <td>1231.0</td>\n",
       "      <td>1160</td>\n",
       "    </tr>\n",
       "    <tr>\n",
       "      <th>1</th>\n",
       "      <td>Oost</td>\n",
       "      <td>1265</td>\n",
       "      <td>1290</td>\n",
       "      <td>1342.0</td>\n",
       "      <td>1270</td>\n",
       "    </tr>\n",
       "    <tr>\n",
       "      <th>2</th>\n",
       "      <td>Zuid</td>\n",
       "      <td>1222</td>\n",
       "      <td>1259</td>\n",
       "      <td>NaN</td>\n",
       "      <td>1238</td>\n",
       "    </tr>\n",
       "    <tr>\n",
       "      <th>3</th>\n",
       "      <td>West</td>\n",
       "      <td>1160</td>\n",
       "      <td>1145</td>\n",
       "      <td>1140.0</td>\n",
       "      <td>1190</td>\n",
       "    </tr>\n",
       "  </tbody>\n",
       "</table>\n",
       "</div>"
      ],
      "text/plain": [
       "   Regio    Q1    Q2      Q3    Q4\n",
       "0  Noord  1210  1250  1231.0  1160\n",
       "1   Oost  1265  1290  1342.0  1270\n",
       "2   Zuid  1222  1259     NaN  1238\n",
       "3   West  1160  1145  1140.0  1190"
      ]
     },
     "execution_count": 48,
     "metadata": {},
     "output_type": "execute_result"
    }
   ],
   "source": [
    "# toon data uit tabblad 2018\n",
    "excel['2017']"
   ]
  },
  {
   "cell_type": "code",
   "execution_count": 49,
   "metadata": {},
   "outputs": [
    {
     "data": {
      "text/plain": [
       "pandas.core.frame.DataFrame"
      ]
     },
     "execution_count": 49,
     "metadata": {},
     "output_type": "execute_result"
    }
   ],
   "source": [
    "# type\n",
    "type(excel['2017'])"
   ]
  },
  {
   "cell_type": "markdown",
   "metadata": {},
   "source": [
    "### Opdracht 10c: lees alle tabbladen in één DataFrame"
   ]
  },
  {
   "cell_type": "code",
   "execution_count": 50,
   "metadata": {},
   "outputs": [
    {
     "data": {
      "text/html": [
       "<div>\n",
       "<style scoped>\n",
       "    .dataframe tbody tr th:only-of-type {\n",
       "        vertical-align: middle;\n",
       "    }\n",
       "\n",
       "    .dataframe tbody tr th {\n",
       "        vertical-align: top;\n",
       "    }\n",
       "\n",
       "    .dataframe thead th {\n",
       "        text-align: right;\n",
       "    }\n",
       "</style>\n",
       "<table border=\"1\" class=\"dataframe\">\n",
       "  <thead>\n",
       "    <tr style=\"text-align: right;\">\n",
       "      <th></th>\n",
       "      <th>Regio</th>\n",
       "      <th>Q1</th>\n",
       "      <th>Q2</th>\n",
       "      <th>Q3</th>\n",
       "      <th>Q4</th>\n",
       "      <th>Jaar</th>\n",
       "    </tr>\n",
       "  </thead>\n",
       "  <tbody>\n",
       "    <tr>\n",
       "      <th>12</th>\n",
       "      <td>Noord</td>\n",
       "      <td>1210</td>\n",
       "      <td>1250</td>\n",
       "      <td>1231</td>\n",
       "      <td>1160</td>\n",
       "      <td>2017</td>\n",
       "    </tr>\n",
       "    <tr>\n",
       "      <th>13</th>\n",
       "      <td>Oost</td>\n",
       "      <td>1265</td>\n",
       "      <td>1290</td>\n",
       "      <td>1342</td>\n",
       "      <td>1270</td>\n",
       "      <td>2017</td>\n",
       "    </tr>\n",
       "    <tr>\n",
       "      <th>14</th>\n",
       "      <td>Zuid</td>\n",
       "      <td>1222</td>\n",
       "      <td>1259</td>\n",
       "      <td>0</td>\n",
       "      <td>1238</td>\n",
       "      <td>2017</td>\n",
       "    </tr>\n",
       "    <tr>\n",
       "      <th>15</th>\n",
       "      <td>West</td>\n",
       "      <td>1160</td>\n",
       "      <td>1145</td>\n",
       "      <td>1140</td>\n",
       "      <td>1190</td>\n",
       "      <td>2017</td>\n",
       "    </tr>\n",
       "    <tr>\n",
       "      <th>16</th>\n",
       "      <td>Noord</td>\n",
       "      <td>1210</td>\n",
       "      <td>1225</td>\n",
       "      <td>1230</td>\n",
       "      <td>1205</td>\n",
       "      <td>2018</td>\n",
       "    </tr>\n",
       "    <tr>\n",
       "      <th>17</th>\n",
       "      <td>Oost</td>\n",
       "      <td>1295</td>\n",
       "      <td>1310</td>\n",
       "      <td>1315</td>\n",
       "      <td>1290</td>\n",
       "      <td>2018</td>\n",
       "    </tr>\n",
       "    <tr>\n",
       "      <th>18</th>\n",
       "      <td>Midden</td>\n",
       "      <td>1111</td>\n",
       "      <td>1208</td>\n",
       "      <td>1298</td>\n",
       "      <td>1138</td>\n",
       "      <td>2018</td>\n",
       "    </tr>\n",
       "    <tr>\n",
       "      <th>19</th>\n",
       "      <td>Zuid</td>\n",
       "      <td>1330</td>\n",
       "      <td>1345</td>\n",
       "      <td>0</td>\n",
       "      <td>1325</td>\n",
       "      <td>2018</td>\n",
       "    </tr>\n",
       "    <tr>\n",
       "      <th>20</th>\n",
       "      <td>West</td>\n",
       "      <td>1135</td>\n",
       "      <td>1150</td>\n",
       "      <td>1155</td>\n",
       "      <td>1130</td>\n",
       "      <td>2018</td>\n",
       "    </tr>\n",
       "  </tbody>\n",
       "</table>\n",
       "</div>"
      ],
      "text/plain": [
       "     Regio    Q1    Q2    Q3    Q4  Jaar\n",
       "12   Noord  1210  1250  1231  1160  2017\n",
       "13    Oost  1265  1290  1342  1270  2017\n",
       "14    Zuid  1222  1259     0  1238  2017\n",
       "15    West  1160  1145  1140  1190  2017\n",
       "16   Noord  1210  1225  1230  1205  2018\n",
       "17    Oost  1295  1310  1315  1290  2018\n",
       "18  Midden  1111  1208  1298  1138  2018\n",
       "19    Zuid  1330  1345     0  1325  2018\n",
       "20    West  1135  1150  1155  1130  2018"
      ]
     },
     "execution_count": 50,
     "metadata": {},
     "output_type": "execute_result"
    }
   ],
   "source": [
    "df = pd.DataFrame() # creëer een leeg DataFrame\n",
    "for key in excel.keys():\n",
    "    sheet = excel[key].fillna(0) # fill na-values with zero\n",
    "    sheet[['Q1', 'Q2', 'Q3', 'Q4']] = sheet[['Q1', 'Q2', 'Q3', 'Q4']].astype(int) # convert float to int\n",
    "    sheet['Jaar'] = int(key)\n",
    "    df = pd.concat([df, sheet], ignore_index = True) # alternatief: df = df.append(sheet, ignore_index = True)\n",
    "df.tail(9) # toon laatste 2 jaar"
   ]
  },
  {
   "cell_type": "markdown",
   "metadata": {},
   "source": [
    "### Opdracht 10d: Wide to Long"
   ]
  },
  {
   "cell_type": "code",
   "execution_count": 51,
   "metadata": {},
   "outputs": [
    {
     "data": {
      "text/html": [
       "<div>\n",
       "<style scoped>\n",
       "    .dataframe tbody tr th:only-of-type {\n",
       "        vertical-align: middle;\n",
       "    }\n",
       "\n",
       "    .dataframe tbody tr th {\n",
       "        vertical-align: top;\n",
       "    }\n",
       "\n",
       "    .dataframe thead th {\n",
       "        text-align: right;\n",
       "    }\n",
       "</style>\n",
       "<table border=\"1\" class=\"dataframe\">\n",
       "  <thead>\n",
       "    <tr style=\"text-align: right;\">\n",
       "      <th></th>\n",
       "      <th>Regio</th>\n",
       "      <th>Jaar</th>\n",
       "      <th>Kwartaal</th>\n",
       "      <th>Aantal</th>\n",
       "    </tr>\n",
       "  </thead>\n",
       "  <tbody>\n",
       "    <tr>\n",
       "      <th>12</th>\n",
       "      <td>Noord</td>\n",
       "      <td>2017</td>\n",
       "      <td>Q1</td>\n",
       "      <td>1210</td>\n",
       "    </tr>\n",
       "    <tr>\n",
       "      <th>13</th>\n",
       "      <td>Oost</td>\n",
       "      <td>2017</td>\n",
       "      <td>Q1</td>\n",
       "      <td>1265</td>\n",
       "    </tr>\n",
       "    <tr>\n",
       "      <th>14</th>\n",
       "      <td>Zuid</td>\n",
       "      <td>2017</td>\n",
       "      <td>Q1</td>\n",
       "      <td>1222</td>\n",
       "    </tr>\n",
       "    <tr>\n",
       "      <th>15</th>\n",
       "      <td>West</td>\n",
       "      <td>2017</td>\n",
       "      <td>Q1</td>\n",
       "      <td>1160</td>\n",
       "    </tr>\n",
       "    <tr>\n",
       "      <th>33</th>\n",
       "      <td>Noord</td>\n",
       "      <td>2017</td>\n",
       "      <td>Q2</td>\n",
       "      <td>1250</td>\n",
       "    </tr>\n",
       "    <tr>\n",
       "      <th>34</th>\n",
       "      <td>Oost</td>\n",
       "      <td>2017</td>\n",
       "      <td>Q2</td>\n",
       "      <td>1290</td>\n",
       "    </tr>\n",
       "    <tr>\n",
       "      <th>35</th>\n",
       "      <td>Zuid</td>\n",
       "      <td>2017</td>\n",
       "      <td>Q2</td>\n",
       "      <td>1259</td>\n",
       "    </tr>\n",
       "    <tr>\n",
       "      <th>36</th>\n",
       "      <td>West</td>\n",
       "      <td>2017</td>\n",
       "      <td>Q2</td>\n",
       "      <td>1145</td>\n",
       "    </tr>\n",
       "    <tr>\n",
       "      <th>54</th>\n",
       "      <td>Noord</td>\n",
       "      <td>2017</td>\n",
       "      <td>Q3</td>\n",
       "      <td>1231</td>\n",
       "    </tr>\n",
       "    <tr>\n",
       "      <th>55</th>\n",
       "      <td>Oost</td>\n",
       "      <td>2017</td>\n",
       "      <td>Q3</td>\n",
       "      <td>1342</td>\n",
       "    </tr>\n",
       "    <tr>\n",
       "      <th>56</th>\n",
       "      <td>Zuid</td>\n",
       "      <td>2017</td>\n",
       "      <td>Q3</td>\n",
       "      <td>0</td>\n",
       "    </tr>\n",
       "    <tr>\n",
       "      <th>57</th>\n",
       "      <td>West</td>\n",
       "      <td>2017</td>\n",
       "      <td>Q3</td>\n",
       "      <td>1140</td>\n",
       "    </tr>\n",
       "    <tr>\n",
       "      <th>75</th>\n",
       "      <td>Noord</td>\n",
       "      <td>2017</td>\n",
       "      <td>Q4</td>\n",
       "      <td>1160</td>\n",
       "    </tr>\n",
       "    <tr>\n",
       "      <th>76</th>\n",
       "      <td>Oost</td>\n",
       "      <td>2017</td>\n",
       "      <td>Q4</td>\n",
       "      <td>1270</td>\n",
       "    </tr>\n",
       "    <tr>\n",
       "      <th>77</th>\n",
       "      <td>Zuid</td>\n",
       "      <td>2017</td>\n",
       "      <td>Q4</td>\n",
       "      <td>1238</td>\n",
       "    </tr>\n",
       "    <tr>\n",
       "      <th>78</th>\n",
       "      <td>West</td>\n",
       "      <td>2017</td>\n",
       "      <td>Q4</td>\n",
       "      <td>1190</td>\n",
       "    </tr>\n",
       "  </tbody>\n",
       "</table>\n",
       "</div>"
      ],
      "text/plain": [
       "    Regio  Jaar Kwartaal  Aantal\n",
       "12  Noord  2017       Q1    1210\n",
       "13   Oost  2017       Q1    1265\n",
       "14   Zuid  2017       Q1    1222\n",
       "15   West  2017       Q1    1160\n",
       "33  Noord  2017       Q2    1250\n",
       "34   Oost  2017       Q2    1290\n",
       "35   Zuid  2017       Q2    1259\n",
       "36   West  2017       Q2    1145\n",
       "54  Noord  2017       Q3    1231\n",
       "55   Oost  2017       Q3    1342\n",
       "56   Zuid  2017       Q3       0\n",
       "57   West  2017       Q3    1140\n",
       "75  Noord  2017       Q4    1160\n",
       "76   Oost  2017       Q4    1270\n",
       "77   Zuid  2017       Q4    1238\n",
       "78   West  2017       Q4    1190"
      ]
     },
     "execution_count": 51,
     "metadata": {},
     "output_type": "execute_result"
    }
   ],
   "source": [
    "# wide to long\n",
    "df_long = pd.melt(df, id_vars = ['Regio', 'Jaar'], var_name = 'Kwartaal', value_name = 'Aantal')\n",
    "df_long[df_long.Jaar == 2017] # toon jaar 2017"
   ]
  },
  {
   "cell_type": "markdown",
   "metadata": {},
   "source": [
    "### Opdracht 11: Interactive Visualization"
   ]
  },
  {
   "cell_type": "code",
   "execution_count": 52,
   "metadata": {},
   "outputs": [],
   "source": [
    "import pandas as pd\n",
    "import seaborn as sns\n",
    "import matplotlib.pyplot as plt\n",
    "from ipywidgets import *"
   ]
  },
  {
   "cell_type": "code",
   "execution_count": 53,
   "metadata": {},
   "outputs": [
    {
     "data": {
      "application/vnd.jupyter.widget-view+json": {
       "model_id": "8e70a59f7e1e45a28352f71482ec95a0",
       "version_major": 2,
       "version_minor": 0
      },
      "text/plain": [
       "interactive(children=(SelectMultiple(description='species', index=(1, 2), options=('setosa', 'versicolor', 'vi…"
      ]
     },
     "metadata": {},
     "output_type": "display_data"
    },
    {
     "data": {
      "text/plain": [
       "<function __main__.iris_pairgrid(species)>"
      ]
     },
     "execution_count": 53,
     "metadata": {},
     "output_type": "execute_result"
    }
   ],
   "source": [
    "sns.set(style=\"white\")\n",
    "iris = sns.load_dataset(\"iris\")\n",
    "\n",
    "def iris_pairgrid(species):\n",
    "    g = sns.PairGrid(iris[iris.species.isin(species)], diag_sharey=False)\n",
    "    g.map_lower(sns.kdeplot)\n",
    "    g.map_upper(sns.scatterplot)\n",
    "    g.map_diag(sns.kdeplot, lw = 3)\n",
    "    return plt.show()\n",
    "\n",
    "interact(iris_pairgrid,\n",
    "         species = widgets.SelectMultiple(options = iris.species.unique(),\n",
    "                                          value = ('versicolor', 'virginica'),\n",
    "                                          rows = len(iris.species.unique()),\n",
    "                                          description = 'species',\n",
    "                                          disabled = False))"
   ]
  },
  {
   "cell_type": "code",
   "execution_count": null,
   "metadata": {},
   "outputs": [],
   "source": []
  }
 ],
 "metadata": {
  "kernelspec": {
   "display_name": "Python 3",
   "language": "python",
   "name": "python3"
  },
  "language_info": {
   "codemirror_mode": {
    "name": "ipython",
    "version": 3
   },
   "file_extension": ".py",
   "mimetype": "text/x-python",
   "name": "python",
   "nbconvert_exporter": "python",
   "pygments_lexer": "ipython3",
   "version": "3.6.6"
  }
 },
 "nbformat": 4,
 "nbformat_minor": 2
}
