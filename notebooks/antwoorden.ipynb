{
 "cells": [
  {
   "cell_type": "markdown",
   "metadata": {},
   "source": [
    "# Antwoorden"
   ]
  },
  {
   "cell_type": "markdown",
   "metadata": {},
   "source": [
    "Dit notebook bevat de uitwerking van de opdrachten uit het notebook [opdrachten](https://nbviewer.jupyter.org/github/Brinkhuis/Cursus/blob/master/notebooks/opdrachten.ipynb)."
   ]
  },
  {
   "cell_type": "markdown",
   "metadata": {},
   "source": [
    "### Opdracht 1: string"
   ]
  },
  {
   "cell_type": "code",
   "execution_count": 10,
   "metadata": {},
   "outputs": [],
   "source": [
    "opdracht = '<<< n-o-h-t-y-p >>>'"
   ]
  },
  {
   "cell_type": "markdown",
   "metadata": {},
   "source": [
    "***"
   ]
  },
  {
   "cell_type": "code",
   "execution_count": 11,
   "metadata": {},
   "outputs": [
    {
     "data": {
      "text/plain": [
       "'Python'"
      ]
     },
     "execution_count": 11,
     "metadata": {},
     "output_type": "execute_result"
    }
   ],
   "source": [
    "# uitwerking 1\n",
    "opdracht[-5:3:-2].capitalize()"
   ]
  },
  {
   "cell_type": "code",
   "execution_count": 12,
   "metadata": {},
   "outputs": [
    {
     "data": {
      "text/plain": [
       "'Python'"
      ]
     },
     "execution_count": 12,
     "metadata": {},
     "output_type": "execute_result"
    }
   ],
   "source": [
    "# uitwerking 2\n",
    "opdracht[4:-4][::-2].capitalize()"
   ]
  },
  {
   "cell_type": "code",
   "execution_count": 13,
   "metadata": {},
   "outputs": [
    {
     "data": {
      "text/plain": [
       "'Python'"
      ]
     },
     "execution_count": 13,
     "metadata": {},
     "output_type": "execute_result"
    }
   ],
   "source": [
    "# uitwerking 3\n",
    "opdracht[4:-4].replace('-', '')[::-1].capitalize()"
   ]
  },
  {
   "cell_type": "code",
   "execution_count": 14,
   "metadata": {},
   "outputs": [
    {
     "data": {
      "text/plain": [
       "'Python'"
      ]
     },
     "execution_count": 14,
     "metadata": {},
     "output_type": "execute_result"
    }
   ],
   "source": [
    "# uitwerking 4\n",
    "opdracht.split()[1].replace('-', '')[::-1].capitalize()"
   ]
  },
  {
   "cell_type": "code",
   "execution_count": 15,
   "metadata": {},
   "outputs": [
    {
     "data": {
      "text/plain": [
       "'Python'"
      ]
     },
     "execution_count": 15,
     "metadata": {},
     "output_type": "execute_result"
    }
   ],
   "source": [
    "# uitwerking 5\n",
    "opdracht.strip('< >').replace('-', '')[::-1].capitalize()"
   ]
  },
  {
   "cell_type": "markdown",
   "metadata": {},
   "source": [
    "### Opdracht 2: list"
   ]
  },
  {
   "cell_type": "code",
   "execution_count": 16,
   "metadata": {},
   "outputs": [],
   "source": [
    "opdracht = 'Without requirements or design, programming is the art of adding bugs to an empty text file.'.split()"
   ]
  },
  {
   "cell_type": "code",
   "execution_count": 17,
   "metadata": {},
   "outputs": [],
   "source": [
    "uitkomst = 'Without requirements or design, coding Python is the art of adding bugs to an empty Jupyter Notebook.'.split()"
   ]
  },
  {
   "cell_type": "markdown",
   "metadata": {},
   "source": [
    "***"
   ]
  },
  {
   "cell_type": "code",
   "execution_count": 18,
   "metadata": {},
   "outputs": [
    {
     "data": {
      "text/plain": [
       "True"
      ]
     },
     "execution_count": 18,
     "metadata": {},
     "output_type": "execute_result"
    }
   ],
   "source": [
    "# uitwerking 1\n",
    "opdracht = 'Without requirements or design, programming is the art of adding bugs to an empty text file.'.split()\n",
    "\n",
    "opdracht[opdracht.index('programming')] = 'coding'\n",
    "opdracht.insert(opdracht.index('coding') + 1, 'Python')\n",
    "opdracht.pop()\n",
    "opdracht.pop()\n",
    "opdracht.extend(['Jupyter', 'Notebook.'])\n",
    "\n",
    "opdracht == uitkomst"
   ]
  },
  {
   "cell_type": "code",
   "execution_count": 19,
   "metadata": {},
   "outputs": [
    {
     "data": {
      "text/plain": [
       "True"
      ]
     },
     "execution_count": 19,
     "metadata": {},
     "output_type": "execute_result"
    }
   ],
   "source": [
    "# uitwerking 2\n",
    "opdracht = 'Without requirements or design, programming is the art of adding bugs to an empty text file.'.split()\n",
    "\n",
    "opdracht[opdracht.index('programming')] = 'coding'\n",
    "opdracht.insert(opdracht.index('coding') + 1, 'Python')\n",
    "opdracht.remove('text')\n",
    "opdracht.remove('file.')\n",
    "opdracht.append('Jupyter')\n",
    "opdracht.append('Notebook.')\n",
    "\n",
    "opdracht == uitkomst"
   ]
  },
  {
   "cell_type": "markdown",
   "metadata": {},
   "source": [
    "### Opdracht 3: list comprehension"
   ]
  },
  {
   "cell_type": "code",
   "execution_count": 20,
   "metadata": {},
   "outputs": [
    {
     "name": "stdout",
     "output_type": "stream",
     "text": [
      "99.8 µs ± 905 ns per loop (mean ± std. dev. of 7 runs, 10000 loops each)\n"
     ]
    }
   ],
   "source": [
    "# uitwerking 1\n",
    "%timeit [(c * 9/5 + 32) for c in range(100) if (c * 9/5 + 32) > 150 and int(str(c * 9/5 + 32).split('.')[-1]) == 0]"
   ]
  },
  {
   "cell_type": "markdown",
   "metadata": {},
   "source": [
    "Korte performance analyse:  \n",
    "* 100 loops\n",
    "* conversie van float naar string\n",
    "* split string\n",
    "* subsetting\n",
    "* conversie van string naar int"
   ]
  },
  {
   "cell_type": "code",
   "execution_count": 21,
   "metadata": {},
   "outputs": [
    {
     "name": "stdout",
     "output_type": "stream",
     "text": [
      "86.7 µs ± 1.15 µs per loop (mean ± std. dev. of 7 runs, 10000 loops each)\n"
     ]
    }
   ],
   "source": [
    "# uitwerking 2\n",
    "%timeit [(c * 9/5 + 32) for c in range(100) if (c * 9/5 + 32) > 150 and str(c * 9/5 + 32).split('.')[-1] == '0']"
   ]
  },
  {
   "cell_type": "markdown",
   "metadata": {},
   "source": [
    "Korte performance analyse:\n",
    "* 100 loops\n",
    "* conversie van float naar string\n",
    "* split string\n",
    "* subsetting"
   ]
  },
  {
   "cell_type": "code",
   "execution_count": 22,
   "metadata": {},
   "outputs": [
    {
     "name": "stdout",
     "output_type": "stream",
     "text": [
      "59 µs ± 2.47 µs per loop (mean ± std. dev. of 7 runs, 10000 loops each)\n"
     ]
    }
   ],
   "source": [
    "# uitwerking 3\n",
    "%timeit [(c * 9/5 + 32) for c in range(100) if (c * 9/5 + 32) > 150 and (c * 9/5 + 32) == int(c * 9/5 + 32)]"
   ]
  },
  {
   "cell_type": "markdown",
   "metadata": {},
   "source": [
    "Korte performance analyse:\n",
    "* 100 loops\n",
    "* conversie van float naar int"
   ]
  },
  {
   "cell_type": "code",
   "execution_count": 23,
   "metadata": {},
   "outputs": [
    {
     "name": "stdout",
     "output_type": "stream",
     "text": [
      "34.3 µs ± 642 ns per loop (mean ± std. dev. of 7 runs, 10000 loops each)\n"
     ]
    }
   ],
   "source": [
    "# uitwerking 4\n",
    "%timeit [(c * 9/5 + 32) for c in range(100) if (c * 9/5 + 32) > 150 and c % 5 == 0]"
   ]
  },
  {
   "cell_type": "markdown",
   "metadata": {},
   "source": [
    "Korte performance analyse:\n",
    "* 100 loops"
   ]
  },
  {
   "cell_type": "code",
   "execution_count": 24,
   "metadata": {},
   "outputs": [
    {
     "name": "stdout",
     "output_type": "stream",
     "text": [
      "8.38 µs ± 167 ns per loop (mean ± std. dev. of 7 runs, 100000 loops each)\n"
     ]
    }
   ],
   "source": [
    "# uitwerking 5\n",
    "%timeit [(c * 9/5 + 32) for c in range(0, 100, 5) if (c * 9/5 + 32) > 150]"
   ]
  },
  {
   "cell_type": "markdown",
   "metadata": {},
   "source": [
    "Korte performance analyse:\n",
    "* 20 loops !!\n",
    "\n",
    "Toelichting:  \n",
    "* In de conversieformule wordt er gedeeld door 5.\n",
    "* Elk veelvoud van 5 (tussen de 0 en de 100) levert daarom een geheel getal (integer) op bij delen door 5.\n",
    "* En dat blijft een geheel getal als je er 32 bij optelt.\n",
    "* Met deze wetenschap kun je het aantal loops flink terug brengen!\n",
    "* Hiermee heb je tevens het voordeel dat er één conditie minder achter het if-statement nodig is.\n",
    "* Daarmee is deze oplossing ongeveer 4x sneller dan de '2nd best solution' en ongeveer 12x sneller dan uitwerking nr 1."
   ]
  },
  {
   "cell_type": "markdown",
   "metadata": {},
   "source": [
    "### Opdracht 4a: for"
   ]
  },
  {
   "cell_type": "code",
   "execution_count": 25,
   "metadata": {},
   "outputs": [
    {
     "name": "stdout",
     "output_type": "stream",
     "text": [
      "1\n",
      "7\n",
      "11\n",
      "13\n",
      "17\n",
      "19\n",
      "23\n",
      "29\n",
      "31\n",
      "37\n",
      "41\n",
      "43\n",
      "47\n",
      "49\n",
      "53\n",
      "59\n",
      "61\n",
      "67\n",
      "71\n",
      "73\n",
      "77\n",
      "79\n",
      "83\n",
      "89\n",
      "91\n",
      "97\n",
      "\n",
      "Er zijn 26 getallen gevonden die niet deelbaar zijn door 2, 3, 4 of 5.\n"
     ]
    }
   ],
   "source": [
    "# uitwerking 1\n",
    "aantal = 0\n",
    "for num in range(1, 101):\n",
    "    if num % 2 == 0 or num % 3 == 0 or num % 4 == 0 or num % 5 == 0:\n",
    "        continue\n",
    "    aantal += 1\n",
    "    print(num)\n",
    "print('\\nEr zijn {} getallen gevonden die niet deelbaar zijn door 2, 3, 4 of 5.'.format(aantal))"
   ]
  },
  {
   "cell_type": "code",
   "execution_count": 26,
   "metadata": {},
   "outputs": [
    {
     "name": "stdout",
     "output_type": "stream",
     "text": [
      "[1, 7, 11, 13, 17, 19, 23, 29, 31, 37, 41, 43, 47, 49, 53, 59, 61, 67, 71, 73, 77, 79, 83, 89, 91, 97]\n",
      "Er zijn 26 getallen gevonden die niet deelbaar zijn door 2, 3, 4 of 5.\n"
     ]
    }
   ],
   "source": [
    "# uitwerking 2\n",
    "resultaat = list()\n",
    "for num in range(1, 101):\n",
    "    if num % 2 == 0 or num % 3 == 0 or num % 4 == 0 or num % 5 == 0:\n",
    "        continue\n",
    "    resultaat.append(num)\n",
    "print(resultaat)\n",
    "print('Er zijn {} getallen gevonden die niet deelbaar zijn door 2, 3, 4 of 5.'.format(len(resultaat)))"
   ]
  },
  {
   "cell_type": "code",
   "execution_count": 27,
   "metadata": {},
   "outputs": [
    {
     "name": "stdout",
     "output_type": "stream",
     "text": [
      "[1, 7, 11, 13, 17, 19, 23, 29, 31, 37, 41, 43, 47, 49, 53, 59, 61, 67, 71, 73, 77, 79, 83, 89, 91, 97]\n",
      "Er zijn 26 getallen gevonden die niet deelbaar zijn door 2, 3, 4 of 5.\n"
     ]
    }
   ],
   "source": [
    "# uitwerking 3\n",
    "resultaat = list()\n",
    "for num in range(1, 101):\n",
    "    test_resultaat = True\n",
    "    for test in range(2, 6):\n",
    "        if num % test == 0:\n",
    "            test_resultaat = False\n",
    "            break\n",
    "    if test_resultaat:\n",
    "        resultaat.append(num)\n",
    "print(resultaat)\n",
    "print('Er zijn {} getallen gevonden die niet deelbaar zijn door 2, 3, 4 of 5.'.format(len(resultaat)))"
   ]
  },
  {
   "cell_type": "markdown",
   "metadata": {},
   "source": [
    "### Opdracht 4b: while"
   ]
  },
  {
   "cell_type": "code",
   "execution_count": 28,
   "metadata": {},
   "outputs": [
    {
     "name": "stdout",
     "output_type": "stream",
     "text": [
      "1\n",
      "7\n",
      "11\n",
      "13\n",
      "17\n",
      "19\n",
      "23\n",
      "29\n",
      "31\n",
      "37\n",
      "41\n",
      "43\n",
      "47\n",
      "49\n",
      "53\n",
      "59\n",
      "61\n",
      "67\n",
      "71\n",
      "73\n",
      "77\n",
      "79\n",
      "83\n",
      "89\n",
      "91\n",
      "97\n",
      "\n",
      "Er zijn 26 getallen gevonden die niet deelbaar zijn door 2, 3, 4 of 5.\n"
     ]
    }
   ],
   "source": [
    "# uitwerking 1\n",
    "num = 0\n",
    "aantal = 0\n",
    "while True:\n",
    "    num += 1\n",
    "    if num % 2 == 0 or num % 3 == 0 or num % 4 == 0 or num % 5 == 0:\n",
    "        continue\n",
    "    if num > 100:\n",
    "        break\n",
    "    print(num)\n",
    "    aantal += 1\n",
    "print('\\nEr zijn {} getallen gevonden die niet deelbaar zijn door 2, 3, 4 of 5.'.format(aantal))"
   ]
  },
  {
   "cell_type": "code",
   "execution_count": 29,
   "metadata": {},
   "outputs": [
    {
     "name": "stdout",
     "output_type": "stream",
     "text": [
      "[1, 7, 11, 13, 17, 19, 23, 29, 31, 37, 41, 43, 47, 49, 53, 59, 61, 67, 71, 73, 77, 79, 83, 89, 91, 97]\n",
      "Er zijn 26 getallen gevonden die niet deelbaar zijn door 2, 3, 4 of 5.\n"
     ]
    }
   ],
   "source": [
    "# uitwerking 2\n",
    "num = 0\n",
    "resultaat = list()\n",
    "while True:\n",
    "    num += 1\n",
    "    if num % 2 == 0 or num % 3 == 0 or num % 4 == 0 or num % 5 == 0:\n",
    "        continue\n",
    "    if num > 100:\n",
    "        break\n",
    "    resultaat.append(num)\n",
    "print(resultaat)\n",
    "print('Er zijn {} getallen gevonden die niet deelbaar zijn door 2, 3, 4 of 5.'.format(len(resultaat)))"
   ]
  },
  {
   "cell_type": "code",
   "execution_count": 30,
   "metadata": {},
   "outputs": [
    {
     "name": "stdout",
     "output_type": "stream",
     "text": [
      "[1, 7, 11, 13, 17, 19, 23, 29, 31, 37, 41, 43, 47, 49, 53, 59, 61, 67, 71, 73, 77, 79, 83, 89, 91, 97]\n",
      "Er zijn 26 getallen gevonden die niet deelbaar zijn door 2, 3, 4 of 5.\n"
     ]
    }
   ],
   "source": [
    "# uitwerking 3\n",
    "num = 0\n",
    "resultaat = list()\n",
    "while True:\n",
    "    num += 1\n",
    "    teller = 0 # teller om het aantal getallen uit range(2, 6) te tellen waardoor num deelbaar is.\n",
    "    for test in range(2, 6):\n",
    "        if num % test == 0:\n",
    "            teller += 1\n",
    "            break # break de for loop als num deelbaar is door een getal uit range(2, 6)\n",
    "    if teller == 0:\n",
    "        resultaat.append(num)\n",
    "    if num >= 100:\n",
    "        break\n",
    "print(resultaat)\n",
    "print('Er zijn {} getallen gevonden die niet deelbaar zijn door 2, 3, 4 of 5.'.format(len(resultaat)))"
   ]
  },
  {
   "cell_type": "markdown",
   "metadata": {},
   "source": [
    "### Opdracht 5a: function"
   ]
  },
  {
   "cell_type": "code",
   "execution_count": 31,
   "metadata": {},
   "outputs": [
    {
     "data": {
      "text/plain": [
       "(2, 1)"
      ]
     },
     "execution_count": 31,
     "metadata": {},
     "output_type": "execute_result"
    }
   ],
   "source": [
    "# uitwerking\n",
    "def deel(x, y):\n",
    "    return x // y, x % y\n",
    "\n",
    "deel(15, 7)"
   ]
  },
  {
   "cell_type": "markdown",
   "metadata": {},
   "source": [
    "### Opdracht 5b: error handling"
   ]
  },
  {
   "cell_type": "code",
   "execution_count": 32,
   "metadata": {},
   "outputs": [],
   "source": [
    "# uitwerking\n",
    "def deel(x = None, y = 1):\n",
    "    try:\n",
    "        if x == None:\n",
    "            raise ValueError(\"Argument 'x' ontbreekt of heeft waarde 'None'\")\n",
    "        return x // y, x % y\n",
    "    except ZeroDivisionError as E:\n",
    "        print(E)\n",
    "    except TypeError as E:\n",
    "        print(E)\n",
    "    except ValueError as E:\n",
    "        print(E)"
   ]
  },
  {
   "cell_type": "code",
   "execution_count": 33,
   "metadata": {},
   "outputs": [
    {
     "name": "stdout",
     "output_type": "stream",
     "text": [
      "1 (2, 1) \n",
      "\n",
      "2 (0, 7) \n",
      "\n",
      "3 (15, 0) \n",
      "\n",
      "4 (0, 0) \n",
      "\n",
      "5 (2.0, 0.5) \n",
      "\n",
      "integer division or modulo by zero\n",
      "6 None \n",
      "\n",
      "unsupported operand type(s) for //: 'str' and 'str'\n",
      "7 None \n",
      "\n",
      "unsupported operand type(s) for //: 'list' and 'int'\n",
      "8 None \n",
      "\n",
      "Argument 'x' ontbreekt of heeft waarde 'None'\n",
      "9 None\n"
     ]
    }
   ],
   "source": [
    "print(1, deel(15, 7), '\\n') # (2, 1)\n",
    "print(2, deel(7, 15), '\\n') # (0, 7)\n",
    "print(3, deel(15), '\\n') # (15, 0)\n",
    "print(4, deel(0, 15), '\\n') # (0, 0)\n",
    "print(5, deel(5.5, 2.5), '\\n') # (2.0, 0.5)\n",
    "print(6, deel(15, 0), '\\n') # integer division or modulo by zero\n",
    "print(7, deel('vijftien', 'zeven'), '\\n') # unsupported operand type(s) for //: 'str' and 'str'\n",
    "print(8, deel([15, 7]), '\\n') # unsupported operand type(s) for //: 'list' and 'int'\n",
    "print(9, deel(y = 7)) # Argument 'x' ontbreekt of heeft waarde 'None'"
   ]
  },
  {
   "cell_type": "code",
   "execution_count": 34,
   "metadata": {},
   "outputs": [],
   "source": [
    "# uitwerking, optioneel\n",
    "def deel(x = None, y = 1):\n",
    "    try:\n",
    "        if x == None:\n",
    "            raise ValueError(\"Argument 'x' ontbreekt of heeft waarde 'None'\")\n",
    "        if int(x % y) == x % y:\n",
    "            return {'aantal': int(x // y), 'rest': int(x % y)}\n",
    "        else:\n",
    "            return {'aantal': int(x // y), 'rest': x % y}\n",
    "    except ZeroDivisionError as E:\n",
    "        print(E)\n",
    "    except TypeError as E:\n",
    "        print(E)\n",
    "    except ValueError as E:\n",
    "        print(E)"
   ]
  },
  {
   "cell_type": "code",
   "execution_count": 35,
   "metadata": {},
   "outputs": [
    {
     "name": "stdout",
     "output_type": "stream",
     "text": [
      "{'aantal': 3, 'rest': 1} \n",
      "\n",
      "aantal: <class 'int'>\n",
      "rest  : <class 'int'>\n"
     ]
    }
   ],
   "source": [
    "print(deel(8.5, 2.5), '\\n')\n",
    "print('aantal:', type(deel(8.5, 2.5)['aantal']))\n",
    "print('rest  :', type(deel(8.5, 2.5)['rest']))"
   ]
  },
  {
   "cell_type": "code",
   "execution_count": 36,
   "metadata": {},
   "outputs": [
    {
     "name": "stdout",
     "output_type": "stream",
     "text": [
      "{'aantal': 2, 'rest': 1.5} \n",
      "\n",
      "aantal: <class 'int'>\n",
      "rest  : <class 'float'>\n"
     ]
    }
   ],
   "source": [
    "print(deel(8.5, 3.5), '\\n')\n",
    "print('aantal:', type(deel(8.5, 3.5)['aantal']))\n",
    "print('rest  :', type(deel(8.5, 3.5)['rest']))"
   ]
  },
  {
   "cell_type": "markdown",
   "metadata": {},
   "source": [
    "### Opdracht 6: lambda expression"
   ]
  },
  {
   "cell_type": "code",
   "execution_count": 37,
   "metadata": {},
   "outputs": [],
   "source": [
    "celsius = range(100)"
   ]
  },
  {
   "cell_type": "markdown",
   "metadata": {},
   "source": [
    "***"
   ]
  },
  {
   "cell_type": "code",
   "execution_count": 38,
   "metadata": {},
   "outputs": [
    {
     "data": {
      "text/plain": [
       "[201.2, 203.0, 204.8, 206.6, 208.4, 210.2]"
      ]
     },
     "execution_count": 38,
     "metadata": {},
     "output_type": "execute_result"
    }
   ],
   "source": [
    "list(filter(lambda f: f > 200, map(lambda c: c * 9 / 5 + 32, celsius)))"
   ]
  }
 ],
 "metadata": {
  "kernelspec": {
   "display_name": "Python 3",
   "language": "python",
   "name": "python3"
  },
  "language_info": {
   "codemirror_mode": {
    "name": "ipython",
    "version": 3
   },
   "file_extension": ".py",
   "mimetype": "text/x-python",
   "name": "python",
   "nbconvert_exporter": "python",
   "pygments_lexer": "ipython3",
   "version": "3.6.6"
  }
 },
 "nbformat": 4,
 "nbformat_minor": 2
}
