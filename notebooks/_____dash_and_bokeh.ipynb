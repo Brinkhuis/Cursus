{
 "cells": [
  {
   "cell_type": "code",
   "execution_count": null,
   "metadata": {},
   "outputs": [],
   "source": [
    "# import section\n",
    "import pandas as pd\n",
    "import numpy as np\n",
    "import seaborn as sns\n",
    "import matplotlib.pyplot as plt\n",
    "from ipywidgets import *"
   ]
  },
  {
   "cell_type": "code",
   "execution_count": null,
   "metadata": {},
   "outputs": [],
   "source": [
    "# temp\n",
    "import warnings\n",
    "warnings.filterwarnings('ignore')"
   ]
  },
  {
   "cell_type": "code",
   "execution_count": null,
   "metadata": {},
   "outputs": [],
   "source": [
    "sns.__version__"
   ]
  },
  {
   "cell_type": "code",
   "execution_count": null,
   "metadata": {},
   "outputs": [],
   "source": []
  },
  {
   "cell_type": "code",
   "execution_count": null,
   "metadata": {},
   "outputs": [],
   "source": [
    "import plotly.plotly as py\n",
    "import plotly.figure_factory as ff\n",
    "\n",
    "iris = sns.load_dataset(\"iris\")\n",
    "\n",
    "table = ff.create_table(iris)\n",
    "py.iplot(table, filename='jupyter-table')"
   ]
  },
  {
   "cell_type": "code",
   "execution_count": null,
   "metadata": {},
   "outputs": [],
   "source": [
    "import plotly.plotly as py\n",
    "import plotly.graph_objs as go\n",
    "\n",
    "trace = go.Scatter(\n",
    "    x = iris.sepal_length,\n",
    "    y = iris.sepal_width,\n",
    "    mode = 'markers')\n",
    "\n",
    "data = [trace]\n",
    "\n",
    "# Plot and embed in ipython notebook!\n",
    "py.iplot(data, filename='basic-scatter')"
   ]
  },
  {
   "cell_type": "code",
   "execution_count": null,
   "metadata": {},
   "outputs": [],
   "source": [
    "import plotly.plotly as py\n",
    "import plotly.graph_objs as go\n",
    "\n",
    "trace0 = go.Scatter(\n",
    "    x = iris[:50].sepal_length,\n",
    "    y = iris[:50].sepal_width,\n",
    "    mode = 'markers',\n",
    "    name = 'Setosa'\n",
    ")\n",
    "trace1 = go.Scatter(\n",
    "    x = iris[50:100].sepal_length,\n",
    "    y = iris[50:100].sepal_width,\n",
    "    mode = 'markers',\n",
    "    name = 'Versicolor'\n",
    ")\n",
    "trace2 = go.Scatter(\n",
    "    x = iris[100:].sepal_length,\n",
    "    y = iris[100:].sepal_width,\n",
    "    mode = 'markers',\n",
    "    name = 'Virginica'\n",
    ")\n",
    "\n",
    "data = [trace0, trace1, trace2]\n",
    "py.iplot(data, filename='scatter-mode')"
   ]
  },
  {
   "cell_type": "code",
   "execution_count": null,
   "metadata": {},
   "outputs": [],
   "source": []
  },
  {
   "cell_type": "code",
   "execution_count": null,
   "metadata": {
    "scrolled": false
   },
   "outputs": [],
   "source": [
    "import plotly.plotly as py\n",
    "#from plotly.graph_objs import *\n",
    "\n",
    "\n",
    "trace1 = go.Scatter(\n",
    "    x = iris[:50].sepal_length,\n",
    "    y = iris[:50].sepal_width,\n",
    "    mode = 'markers',\n",
    "    name='Setosa')\n",
    "\n",
    "trace2 = go.Scatter(\n",
    "    x = iris[50:100].sepal_length,\n",
    "    y = iris[50:100].sepal_width,\n",
    "    visible=False,\n",
    "    mode = 'markers',\n",
    "    name='Versicolor')\n",
    "\n",
    "trace3 = go.Scatter(\n",
    "    x = iris[100:].sepal_length,\n",
    "    y = iris[100:].sepal_width,\n",
    "    visible=False,\n",
    "    mode = 'markers',\n",
    "    name='Virginica')\n",
    "\n",
    "data = [trace1, trace2, trace3]\n",
    "\n",
    "layout = go.Layout(\n",
    "    title='Iris dataset',\n",
    "    updatemenus=list([\n",
    "        dict(\n",
    "            x=-0.05,\n",
    "            y=1,\n",
    "            yanchor='top',\n",
    "            buttons=list([\n",
    "                dict(args=['visible', [True, False, False]], label='Setosa', method='restyle'),\n",
    "                dict(args=['visible', [False, True, False]], label='Versicolor', method='restyle'),\n",
    "                dict(args=['visible', [False, False, True]], label='Virginica', method='restyle'),\n",
    "                dict(args=['visible', [True, True, False]], label='Setosa & Versicolor', method='restyle'),\n",
    "                dict(args=['visible', [True, False, True]], label='Setosa & Virginica', method='restyle'),\n",
    "                dict(args=['visible', [False, True, True]], label='Versicolor & Virginica', method='restyle'),\n",
    "                dict(args=['visible', [True, True, True]], label='All', method='restyle'),\n",
    "            ]),\n",
    "        )\n",
    "    ]),\n",
    ")\n",
    "\n",
    "fig = go.Figure(data=data, layout=layout)\n",
    "\n",
    "py.iplot(fig, filename='dropdown_species')"
   ]
  },
  {
   "cell_type": "code",
   "execution_count": null,
   "metadata": {},
   "outputs": [],
   "source": [
    "import plotly.plotly as py\n",
    "import plotly.graph_objs as go\n",
    "\n",
    "data = [go.Bar(x=df.School,\n",
    "            y=df.Gap)]\n",
    "\n",
    "py.iplot(data, filename='jupyter-basic_bar')"
   ]
  },
  {
   "cell_type": "code",
   "execution_count": null,
   "metadata": {},
   "outputs": [],
   "source": [
    "import plotly.plotly as py\n",
    "import plotly.graph_objs as go\n",
    "\n",
    "trace_women = go.Bar(x=df.School,\n",
    "                  y=df.Women,\n",
    "                  name='Women',\n",
    "                  marker=dict(color='#ffcdd2'))\n",
    "\n",
    "trace_men = go.Bar(x=df.School,\n",
    "                y=df.Men,\n",
    "                name='Men',\n",
    "                marker=dict(color='#A2D5F2'))\n",
    "\n",
    "trace_gap = go.Bar(x=df.School,\n",
    "                y=df.Gap,\n",
    "                name='Gap',\n",
    "                marker=dict(color='#59606D'))\n",
    "\n",
    "data = [trace_women, trace_men, trace_gap]\n",
    "\n",
    "layout = go.Layout(title=\"Average Earnings for Graduates\",\n",
    "                xaxis=dict(title='School'),\n",
    "                yaxis=dict(title='Salary (in thousands)'))\n",
    "\n",
    "fig = go.Figure(data=data, layout=layout)\n",
    "\n",
    "py.iplot(fig, filename='jupyter-styled_bar')"
   ]
  },
  {
   "cell_type": "code",
   "execution_count": null,
   "metadata": {},
   "outputs": [],
   "source": [
    "import plotly.plotly as py\n",
    "import numpy as np\n",
    "\n",
    "data = [dict(\n",
    "        visible = False,\n",
    "        line=dict(color='red', width=6),\n",
    "        name = 'test',\n",
    "        x = iris.sepal_length,\n",
    "        y = iris.sepal_width)]\n",
    "\n",
    "#steps = []\n",
    "#for i in range(len(data)):\n",
    "#    step = dict(\n",
    "#        method = 'restyle',\n",
    "#        args = ['visible', [False] * len(data)],\n",
    "#    )\n",
    "#    step['args'][1][i] = True # Toggle i'th trace to \"visible\"\n",
    "#    steps.append(step)\n",
    "\n",
    "#sliders = [dict(\n",
    "#    active = 10,\n",
    "#    currentvalue = {\"prefix\": \"Frequency: \"},\n",
    "#    pad = {\"t\": 50},\n",
    "#    steps = steps\n",
    "#)]\n",
    "\n",
    "#layout = dict(sliders=sliders)\n",
    "fig = dict(data=data)#, layout=layout)\n",
    "\n",
    "py.iplot(fig, filename='Sine Wave Slider')"
   ]
  },
  {
   "cell_type": "code",
   "execution_count": null,
   "metadata": {},
   "outputs": [],
   "source": []
  },
  {
   "cell_type": "code",
   "execution_count": null,
   "metadata": {},
   "outputs": [],
   "source": []
  },
  {
   "cell_type": "code",
   "execution_count": null,
   "metadata": {},
   "outputs": [],
   "source": [
    "import os\n",
    "import pickle\n",
    "import pandas as pd\n",
    "import seaborn as sns\n",
    "import matplotlib.pyplot as plt\n",
    "from ipywidgets import *\n",
    "from itertools import combinations\n",
    "\n",
    "# load data\n",
    "iris = sns.load_dataset('iris')\n",
    "\n",
    "# set name pickle file\n",
    "filename = '../data/all_plots.pkl'\n",
    "\n",
    "# check if pickle file exists\n",
    "if os.path.isfile(filename):\n",
    "    infile = open(filename, 'rb')\n",
    "    all_plots = pickle.load(infile)\n",
    "    infile.close()\n",
    "else:\n",
    "    all_combinations = list()\n",
    "    for i in range(1, len(iris.species.unique()) + 1):\n",
    "        for combi in combinations(iris.species.unique(), i):\n",
    "            all_combinations.append(combi)\n",
    "\n",
    "    all_plots = dict()\n",
    "    for combi in all_combinations:\n",
    "        all_plots[combi] = sns.PairGrid(iris[iris.species.isin(combi)], diag_sharey=False)\n",
    "        all_plots[combi].map_lower(sns.kdeplot)\n",
    "        all_plots[combi].map_upper(sns.scatterplot)\n",
    "        all_plots[combi].map_diag(sns.kdeplot, lw=3)\n",
    "        plt.close() # output hoeft niet naar scherm!\n",
    "\n",
    "# interact function\n",
    "def iris_pairgrid(species):\n",
    "    return all_plots[species].fig # don't forget the .fig\n",
    "\n",
    "# interact\n",
    "interact(iris_pairgrid,\n",
    "         species = widgets.SelectMultiple(options = iris.species.unique(),\n",
    "                                          value = ('versicolor', 'virginica'),\n",
    "                                          rows = len(iris.species.unique()),\n",
    "                                          description = 'species',\n",
    "                                          disabled = False))"
   ]
  },
  {
   "cell_type": "code",
   "execution_count": null,
   "metadata": {},
   "outputs": [],
   "source": [
    "import pickle\n",
    "import matplotlib.pyplot as plt\n",
    "import seaborn as sns\n",
    "\n",
    "# save plot to dictionary\n",
    "test = dict()\n",
    "test['t'] = sns.lmplot(x=\"sepal_length\", y=\"sepal_width\", hue=\"species\",\n",
    "                       truncate=True, data=sns.load_dataset(\"iris\"))\n",
    "plt.close()\n",
    "\n",
    "# store dict in pickle file\n",
    "outfile = open('test.pkl', 'wb')\n",
    "pickle.dump(test, outfile)\n",
    "outfile.close()\n",
    "\n",
    "# delete dictionary\n",
    "del test\n",
    "\n",
    "# load dictionary form pickle file\n",
    "infile = open('test.pkl', 'rb')\n",
    "test = pickle.load(infile)\n",
    "infile.close()\n",
    "\n",
    "test['t'].fig"
   ]
  },
  {
   "cell_type": "code",
   "execution_count": null,
   "metadata": {},
   "outputs": [],
   "source": [
    "import matplotlib.pyplot as plt\n",
    "import seaborn as sns\n",
    "import numpy as np\n",
    "import pickle\n",
    "\n",
    "test = dict()\n",
    "test['t'] = sns.lmplot(x=\"sepal_length\", y=\"sepal_width\", hue=\"species\", truncate=True, data=sns.load_dataset(\"iris\"))\n",
    "with open('bla.pickle', 'wb') as pickle_file:\n",
    "    pickle.dump(test, pickle_file)\n",
    "\n",
    "with open('bla.pickle', 'rb') as pickle_file:\n",
    "    test2 = pickle.load(pickle_file)"
   ]
  },
  {
   "cell_type": "code",
   "execution_count": null,
   "metadata": {},
   "outputs": [],
   "source": [
    "iris = sns.load_dataset('iris')\n",
    "sns.set(style='white', palette='muted', color_codes=True)\n",
    "\n",
    "corrmat = iris[100:].corr()\n",
    "f, ax = plt.subplots(figsize=(12, 9))\n",
    "sns.heatmap(corrmat, square=True, annot=True);"
   ]
  },
  {
   "cell_type": "code",
   "execution_count": null,
   "metadata": {},
   "outputs": [],
   "source": []
  },
  {
   "cell_type": "code",
   "execution_count": null,
   "metadata": {},
   "outputs": [],
   "source": [
    "import matplotlib.pyplot as plt\n",
    "import seaborn as sns\n",
    "sns.set()\n",
    "\n",
    "# Load the example flights dataset and conver to long-form\n",
    "flights_long = sns.load_dataset(\"flights\")\n",
    "flights = flights_long.pivot(\"month\", \"year\", \"passengers\")\n",
    "\n",
    "# Draw a heatmap with the numeric values in each cell\n",
    "f, ax = plt.subplots(figsize=(9, 6))\n",
    "sns.heatmap(flights, annot=True, fmt=\"d\", linewidths=.5, ax=ax)"
   ]
  },
  {
   "cell_type": "code",
   "execution_count": null,
   "metadata": {},
   "outputs": [],
   "source": []
  },
  {
   "cell_type": "code",
   "execution_count": null,
   "metadata": {},
   "outputs": [],
   "source": []
  },
  {
   "cell_type": "code",
   "execution_count": null,
   "metadata": {},
   "outputs": [],
   "source": []
  },
  {
   "cell_type": "code",
   "execution_count": null,
   "metadata": {},
   "outputs": [],
   "source": [
    "sns.pairplot(iris, size = 2.0,hue ='species')\n",
    "plt.show()"
   ]
  },
  {
   "cell_type": "code",
   "execution_count": null,
   "metadata": {},
   "outputs": [],
   "source": [
    "import matplotlib.pyplot as plt\n",
    "import seaborn as sns\n",
    "\n",
    "test = dict()\n",
    "test['a'] = sns.lmplot(x=\"sepal_length\", y=\"sepal_width\", hue=\"species\",\n",
    "                       truncate=True, height=5, data=sns.load_dataset(\"iris\"))\n",
    "plt.close()"
   ]
  },
  {
   "cell_type": "code",
   "execution_count": null,
   "metadata": {},
   "outputs": [],
   "source": [
    "test['a'].fig"
   ]
  },
  {
   "cell_type": "code",
   "execution_count": null,
   "metadata": {},
   "outputs": [],
   "source": []
  },
  {
   "cell_type": "code",
   "execution_count": null,
   "metadata": {},
   "outputs": [],
   "source": []
  },
  {
   "cell_type": "code",
   "execution_count": null,
   "metadata": {},
   "outputs": [],
   "source": []
  },
  {
   "cell_type": "code",
   "execution_count": null,
   "metadata": {},
   "outputs": [],
   "source": []
  },
  {
   "cell_type": "code",
   "execution_count": null,
   "metadata": {},
   "outputs": [],
   "source": [
    "import pandas as pd\n",
    "import matplotlib.pyplot as ply\n",
    "import seaborn as sns\n",
    "iris = sns.load_dataset('iris')\n",
    "iris_petal = pd.DataFrame(iris.iloc[:,-3:].values, columns=['length', 'width', 'species'])\n",
    "iris_petal['type'] = 'petal'\n",
    "iris_sepal = pd.DataFrame(iris.iloc[:,[0, 1, -1]].values, columns=['length', 'width', 'species'])\n",
    "iris_sepal['type'] = 'sepal'\n",
    "iris = pd.concat([iris_sepal, iris_petal])\n",
    "iris.length = iris.length.astype('float', copy=False)\n",
    "iris.width = iris.width.astype('float', copy=False)\n",
    "iris.sample(n=10)"
   ]
  },
  {
   "cell_type": "code",
   "execution_count": null,
   "metadata": {},
   "outputs": [],
   "source": [
    "g = sns.FacetGrid(iris, col=\"species\",  row=\"type\")\n",
    "g = g.map(plt.scatter, \"length\", \"width\", alpha=0.6)"
   ]
  },
  {
   "cell_type": "code",
   "execution_count": null,
   "metadata": {},
   "outputs": [],
   "source": [
    "g = sns.FacetGrid(iris, col=\"species\", hue=\"type\")\n",
    "g = (g.map(plt.scatter, \"length\", \"width\", alpha=0.6).add_legend())"
   ]
  },
  {
   "cell_type": "code",
   "execution_count": null,
   "metadata": {},
   "outputs": [],
   "source": [
    "g = sns.FacetGrid(iris, col=\"type\",  hue=\"species\")\n",
    "g = (g.map(plt.scatter, \"length\", \"width\", alpha=0.6).add_legend())"
   ]
  },
  {
   "cell_type": "code",
   "execution_count": null,
   "metadata": {},
   "outputs": [],
   "source": []
  },
  {
   "cell_type": "code",
   "execution_count": null,
   "metadata": {},
   "outputs": [],
   "source": []
  },
  {
   "cell_type": "code",
   "execution_count": null,
   "metadata": {},
   "outputs": [],
   "source": []
  },
  {
   "cell_type": "code",
   "execution_count": null,
   "metadata": {},
   "outputs": [],
   "source": []
  },
  {
   "cell_type": "code",
   "execution_count": null,
   "metadata": {},
   "outputs": [],
   "source": []
  },
  {
   "cell_type": "code",
   "execution_count": null,
   "metadata": {},
   "outputs": [],
   "source": [
    "WACHTTIJDEN PER PROVINCIE of per gemeente?"
   ]
  },
  {
   "cell_type": "code",
   "execution_count": null,
   "metadata": {},
   "outputs": [],
   "source": [
    "WACHTTIJDEN PER PROVINCIE of per gemeente"
   ]
  },
  {
   "cell_type": "code",
   "execution_count": null,
   "metadata": {},
   "outputs": [],
   "source": [
    "WACHTTIJDEN PER PROVINCIE of per gemeente"
   ]
  },
  {
   "cell_type": "code",
   "execution_count": null,
   "metadata": {},
   "outputs": [],
   "source": [
    "CLUSTERING UNSUPERVISED! MET IRIS!"
   ]
  },
  {
   "cell_type": "markdown",
   "metadata": {},
   "source": [
    "[http://jupyter.org/widgets#jupyter-gmaps](http://jupyter.org/widgets#jupyter-gmaps)"
   ]
  },
  {
   "cell_type": "code",
   "execution_count": null,
   "metadata": {},
   "outputs": [],
   "source": [
    "from ipyleaflet import Map\n",
    "\n",
    "Map(center=[34.6252978589571, -77.34580993652344], zoom=10)"
   ]
  },
  {
   "cell_type": "code",
   "execution_count": null,
   "metadata": {},
   "outputs": [],
   "source": [
    "conda install -c conda-forge ipyleaflet"
   ]
  },
  {
   "cell_type": "code",
   "execution_count": null,
   "metadata": {},
   "outputs": [],
   "source": [
    "from  ipyleaflet import Map, Marker, Circle, CircleMarker, LayerGroup, basemaps\n",
    "\n",
    "m = Map(center=[51.700659, 5.327835], zoom=10)\n",
    "marker = Marker(location=(51.7, 5.33))\n",
    "group = LayerGroup(layers=(marker,))\n",
    "m.add_layer(group)\n",
    "\n"
   ]
  },
  {
   "cell_type": "code",
   "execution_count": null,
   "metadata": {},
   "outputs": [],
   "source": [
    "m"
   ]
  },
  {
   "cell_type": "code",
   "execution_count": null,
   "metadata": {},
   "outputs": [],
   "source": [
    "ipyleaflet.Marker([51.700659, 5.327835]).add_to(m)"
   ]
  },
  {
   "cell_type": "code",
   "execution_count": null,
   "metadata": {},
   "outputs": [],
   "source": [
    "m"
   ]
  },
  {
   "cell_type": "markdown",
   "metadata": {},
   "source": [
    "[https://github.com/jupyter-widgets/ipyleaflet/tree/master/examples](https://github.com/jupyter-widgets/ipyleaflet/tree/master/examples)"
   ]
  },
  {
   "cell_type": "code",
   "execution_count": null,
   "metadata": {},
   "outputs": [],
   "source": [
    "help(ipyleaflet.Marker)"
   ]
  },
  {
   "cell_type": "code",
   "execution_count": null,
   "metadata": {},
   "outputs": [],
   "source": [
    "from ipyleaflet import *"
   ]
  },
  {
   "cell_type": "code",
   "execution_count": null,
   "metadata": {},
   "outputs": [],
   "source": [
    "m = Map(center=(52.089, 5.115), zoom=8, basemap=basemaps.Hydda.Full)"
   ]
  },
  {
   "cell_type": "code",
   "execution_count": null,
   "metadata": {},
   "outputs": [],
   "source": [
    "marker = Marker(location=(52.089, 5.115))\n",
    "\n",
    "popup = Popup(\n",
    "    location=(52.089, 5.115),\n",
    "    child='message1',\n",
    "    close_button=False,\n",
    "    auto_close=False,\n",
    "    close_on_escape_key=False\n",
    ")\n",
    "\n",
    "group = LayerGroup(layers=(marker,))\n",
    "m.add_layer(group)"
   ]
  },
  {
   "cell_type": "code",
   "execution_count": null,
   "metadata": {},
   "outputs": [],
   "source": [
    "m"
   ]
  },
  {
   "cell_type": "code",
   "execution_count": null,
   "metadata": {},
   "outputs": [],
   "source": []
  },
  {
   "cell_type": "code",
   "execution_count": null,
   "metadata": {},
   "outputs": [],
   "source": []
  },
  {
   "cell_type": "code",
   "execution_count": null,
   "metadata": {},
   "outputs": [],
   "source": []
  },
  {
   "cell_type": "code",
   "execution_count": null,
   "metadata": {},
   "outputs": [],
   "source": []
  },
  {
   "cell_type": "code",
   "execution_count": null,
   "metadata": {},
   "outputs": [],
   "source": [
    "# basic plot\n",
    "plt.scatter(x = iris.sepal_length, y = iris.sepal_width)\n",
    "plt.show()"
   ]
  },
  {
   "cell_type": "code",
   "execution_count": null,
   "metadata": {},
   "outputs": [],
   "source": [
    "# colors\n",
    "fig = plt.figure()\n",
    "ax = fig.add_subplot(111)\n",
    "\n",
    "species_1 = ax.scatter(x = iris[:50].sepal_length, y = iris[:50].sepal_width,  c='red')\n",
    "species_2 = ax.scatter(x = iris[50:100].sepal_length, y = iris[50:100].sepal_width,  c='green')\n",
    "species_3 = ax.scatter(x = iris[100:].sepal_length, y = iris[100:].sepal_width,  c='blue')\n",
    "\n",
    "ax.legend([species_1, species_2, species_3], ['Setosa', 'Versicolor', 'Virginica'], loc=2)\n",
    "\n",
    "ax.set_title('Sepal size from Iris dataset', fontsize=14)\n",
    "\n",
    "ax.set_xlabel('Sepal length (cm)')\n",
    "ax.set_ylabel('Seplal width (cm)')\n",
    "\n",
    "ax.grid(True, linestyle='--', color='0.75')\n",
    "\n",
    "plt.show()"
   ]
  },
  {
   "cell_type": "code",
   "execution_count": null,
   "metadata": {},
   "outputs": [],
   "source": [
    "# colormaps\n",
    "from sklearn.datasets import load_iris\n",
    "iris = load_iris()\n",
    "plt.scatter(x=iris.data[:,0], y=iris.data[:,1], c=iris.target, cmap='viridis')\n",
    "plt.colorbar()\n",
    "plt.show()"
   ]
  },
  {
   "cell_type": "code",
   "execution_count": null,
   "metadata": {},
   "outputs": [],
   "source": [
    "sns.get_dataset_names()"
   ]
  },
  {
   "cell_type": "code",
   "execution_count": null,
   "metadata": {},
   "outputs": [],
   "source": [
    "mpg = sns.load_dataset('mpg')\n",
    "mpg.head(15)"
   ]
  },
  {
   "cell_type": "code",
   "execution_count": null,
   "metadata": {},
   "outputs": [],
   "source": [
    "mpg = sns.load_dataset('mpg')\n",
    "plt.scatter(x=mpg.horsepower, y=mpg.acceleration, c=mpg.mpg, cmap='viridis')\n",
    "plt.colorbar()\n",
    "plt.show()"
   ]
  },
  {
   "cell_type": "code",
   "execution_count": null,
   "metadata": {},
   "outputs": [],
   "source": [
    "mpg = sns.load_dataset('mpg')\n",
    "plt.scatter(x=mpg.weight, y=mpg.horsepower, c=mpg.mpg, cmap='viridis')\n",
    "plt.colorbar()\n",
    "plt.draw()\n",
    "plt.savefig(\"output.svg\")\n",
    "plt.show()"
   ]
  },
  {
   "cell_type": "code",
   "execution_count": null,
   "metadata": {},
   "outputs": [],
   "source": [
    "mpg = sns.load_dataset('mpg')\n",
    "plt.scatter(x=mpg.weight, y=mpg.acceleration, c=mpg.acceleration, cmap='viridis')\n",
    "plt.colorbar()\n",
    "plt.show()"
   ]
  },
  {
   "cell_type": "code",
   "execution_count": null,
   "metadata": {},
   "outputs": [],
   "source": []
  },
  {
   "cell_type": "code",
   "execution_count": null,
   "metadata": {},
   "outputs": [],
   "source": [
    "sns.kdeplot(x=\n",
    "           );"
   ]
  },
  {
   "cell_type": "code",
   "execution_count": null,
   "metadata": {},
   "outputs": [],
   "source": []
  },
  {
   "cell_type": "code",
   "execution_count": null,
   "metadata": {},
   "outputs": [],
   "source": []
  },
  {
   "cell_type": "code",
   "execution_count": null,
   "metadata": {},
   "outputs": [],
   "source": []
  },
  {
   "cell_type": "code",
   "execution_count": null,
   "metadata": {},
   "outputs": [],
   "source": []
  },
  {
   "cell_type": "code",
   "execution_count": null,
   "metadata": {},
   "outputs": [],
   "source": [
    "# colors\n",
    "colors = {'setosa': 'purple', 'versicolor': 'orange', 'virginica': '#10a674'} # color namens and html-colors\n",
    "plt.scatter(x=iris.sepal_length, y=iris.sepal_width, c=[colors[i] for i in iris.species])\n",
    "plt.show()"
   ]
  },
  {
   "cell_type": "code",
   "execution_count": null,
   "metadata": {},
   "outputs": [],
   "source": []
  },
  {
   "cell_type": "code",
   "execution_count": null,
   "metadata": {},
   "outputs": [],
   "source": [
    "axarr[0].set_title('setosa')\n",
    "axarr[0].scatter(iris[:50].sepal_length, iris[:50].sepal_width, color='red') # setosa\n",
    "\n",
    "axarr[1].set_title('versicolor')\n",
    "axarr[1].scatter(iris[50:100].sepal_length, iris[50:100].sepal_width, color='green') # versicolor\n",
    "\n",
    "axarr[2].set_title('virginica')\n",
    "axarr[2].scatter(iris[100:].sepal_length, iris[100:].sepal_width, color='blue') # virginica"
   ]
  },
  {
   "cell_type": "code",
   "execution_count": null,
   "metadata": {},
   "outputs": [],
   "source": []
  },
  {
   "cell_type": "code",
   "execution_count": null,
   "metadata": {},
   "outputs": [],
   "source": []
  },
  {
   "cell_type": "code",
   "execution_count": null,
   "metadata": {},
   "outputs": [],
   "source": []
  },
  {
   "cell_type": "code",
   "execution_count": null,
   "metadata": {},
   "outputs": [],
   "source": [
    "from sklearn.datasets import load_iris\n",
    "iris = load_iris()\n",
    "plt.scatter(x=iris.data[:,0], y=iris.data[:,1], c=iris.target, cmap='viridis')\n",
    "plt.colorbar()\n",
    "plt.show()"
   ]
  },
  {
   "cell_type": "code",
   "execution_count": null,
   "metadata": {},
   "outputs": [],
   "source": []
  },
  {
   "cell_type": "code",
   "execution_count": null,
   "metadata": {},
   "outputs": [],
   "source": []
  },
  {
   "cell_type": "markdown",
   "metadata": {},
   "source": [
    "See [https://matplotlib.org/api/colors_api.html](https://matplotlib.org/api/colors_api.html) and [https://xkcd.com/color/rgb/](https://xkcd.com/color/rgb)"
   ]
  },
  {
   "cell_type": "code",
   "execution_count": null,
   "metadata": {},
   "outputs": [],
   "source": []
  },
  {
   "cell_type": "code",
   "execution_count": null,
   "metadata": {},
   "outputs": [],
   "source": [
    "# colormaps\n",
    "colors = {'setosa': 0, 'versicolor': 1, 'virginica': 2}\n",
    "plt.scatter(x=iris.sepal_length, y=iris.sepal_width, c=[colors[i] for i in iris.species], cmap='viridis')\n",
    "plt.show()"
   ]
  },
  {
   "cell_type": "code",
   "execution_count": null,
   "metadata": {},
   "outputs": [],
   "source": []
  },
  {
   "cell_type": "code",
   "execution_count": null,
   "metadata": {},
   "outputs": [],
   "source": []
  },
  {
   "cell_type": "code",
   "execution_count": null,
   "metadata": {},
   "outputs": [],
   "source": []
  },
  {
   "cell_type": "code",
   "execution_count": null,
   "metadata": {},
   "outputs": [],
   "source": [
    "plt.scatter(x=iris.data[:,0], y=iris.data[:,1], c=iris.target, cmap='viridis')"
   ]
  },
  {
   "cell_type": "code",
   "execution_count": null,
   "metadata": {},
   "outputs": [],
   "source": []
  },
  {
   "cell_type": "code",
   "execution_count": null,
   "metadata": {},
   "outputs": [],
   "source": [
    "len(iris.data[:,[0]])"
   ]
  },
  {
   "cell_type": "markdown",
   "metadata": {},
   "source": [
    "[Colormaps Reference]( https://matplotlib.org/examples/color/colormaps_reference.html)"
   ]
  },
  {
   "cell_type": "code",
   "execution_count": null,
   "metadata": {},
   "outputs": [],
   "source": [
    "# Shared x-axis\n",
    "f, axarr = plt.subplots(3, sharex=True)\n",
    "\n",
    "axarr[0].set_title('setosa')\n",
    "axarr[0].scatter(iris[:50].sepal_length, iris[:50].sepal_width, color='red') # setosa\n",
    "\n",
    "axarr[1].set_title('versicolor')\n",
    "axarr[1].scatter(iris[50:100].sepal_length, iris[50:100].sepal_width, color='green') # versicolor\n",
    "\n",
    "axarr[2].set_title('virginica')\n",
    "axarr[2].scatter(iris[100:].sepal_length, iris[100:].sepal_width, color='blue') # virginica\n",
    "\n",
    "plt.show()"
   ]
  },
  {
   "cell_type": "code",
   "execution_count": null,
   "metadata": {},
   "outputs": [],
   "source": [
    "# shared y-axis\n",
    "f, (ax1, ax2, ax3) = plt.subplots(1, 3, sharey=True)\n",
    "\n",
    "ax1.set_title('setosa')\n",
    "ax1.scatter(iris[:50].sepal_length, iris[:50].sepal_width, color='red') # setosa\n",
    "\n",
    "ax2.set_title('versicolor')\n",
    "ax2.scatter(iris[50:100].sepal_length, iris[50:100].sepal_width, color='green') # versicolor\n",
    "\n",
    "ax3.set_title('virginica')\n",
    "ax3.scatter(iris[100:].sepal_length, iris[100:].sepal_width, color='blue') # virginica\n",
    "\n",
    "plt.show()"
   ]
  },
  {
   "cell_type": "code",
   "execution_count": null,
   "metadata": {},
   "outputs": [],
   "source": [
    "# shared y-axis\n",
    "f, ((ax1, ax2), (ax3, ax4)) = plt.subplots(2, 2, sharex=True, sharey=True)\n",
    "\n",
    "ax1.set_title('setosa')\n",
    "ax1.scatter(iris[:50].sepal_length, iris[:50].sepal_width, color='red') # setosa\n",
    "\n",
    "ax2.set_title('versicolor')\n",
    "ax2.scatter(iris[50:100].sepal_length, iris[50:100].sepal_width, color='green') # versicolor\n",
    "\n",
    "ax3.set_title('virginica')\n",
    "ax3.scatter(iris[100:].sepal_length, iris[100:].sepal_width, color='blue') # virginica\n",
    "\n",
    "ax4.set_title('all')\n",
    "ax4.scatter(iris[:50].sepal_length, iris[:50].sepal_width, color='red') # setosa\n",
    "ax4.scatter(iris[50:100].sepal_length, iris[50:100].sepal_width, color='green') # versicolor\n",
    "ax4.scatter(iris[100:].sepal_length, iris[100:].sepal_width, color='blue') # virginica\n",
    "\n",
    "plt.show()"
   ]
  },
  {
   "cell_type": "markdown",
   "metadata": {},
   "source": [
    "### Seaborn"
   ]
  },
  {
   "cell_type": "code",
   "execution_count": null,
   "metadata": {},
   "outputs": [],
   "source": []
  },
  {
   "cell_type": "code",
   "execution_count": null,
   "metadata": {},
   "outputs": [],
   "source": []
  },
  {
   "cell_type": "code",
   "execution_count": null,
   "metadata": {},
   "outputs": [],
   "source": []
  },
  {
   "cell_type": "code",
   "execution_count": null,
   "metadata": {},
   "outputs": [],
   "source": []
  },
  {
   "cell_type": "code",
   "execution_count": null,
   "metadata": {},
   "outputs": [],
   "source": []
  },
  {
   "cell_type": "code",
   "execution_count": null,
   "metadata": {},
   "outputs": [],
   "source": [
    "# red dashes, blue squares and green triangles\n",
    "x = np.array(np.arange(10))\n",
    "plt.plot(x, x, 'r--', x, x**1.5, 'bs', x, x**2, 'g^')\n",
    "plt.show()"
   ]
  },
  {
   "cell_type": "code",
   "execution_count": null,
   "metadata": {},
   "outputs": [],
   "source": []
  },
  {
   "cell_type": "code",
   "execution_count": null,
   "metadata": {},
   "outputs": [],
   "source": [
    "https://matplotlib.org/users/pyplot_tutorial.html"
   ]
  },
  {
   "cell_type": "code",
   "execution_count": null,
   "metadata": {},
   "outputs": [],
   "source": [
    "https://stackoverflow.com/questions/45862223/use-different-colors-in-scatterplot-for-iris-dataset"
   ]
  },
  {
   "cell_type": "code",
   "execution_count": null,
   "metadata": {},
   "outputs": [],
   "source": [
    "https://gist.github.com/jobliz/2903500"
   ]
  },
  {
   "cell_type": "code",
   "execution_count": null,
   "metadata": {},
   "outputs": [],
   "source": [
    "https://matplotlib.org/gallery/lines_bars_and_markers/scatter_with_legend.html"
   ]
  },
  {
   "cell_type": "code",
   "execution_count": null,
   "metadata": {},
   "outputs": [],
   "source": [
    "https://matplotlib.org/gallery/subplots_axes_and_figures/subplot.html#sphx-glr-gallery-subplots-axes-and-figures-subplot-py"
   ]
  },
  {
   "cell_type": "code",
   "execution_count": null,
   "metadata": {},
   "outputs": [],
   "source": [
    "https://matplotlib.org/gallery/statistics/boxplot_vs_violin.html#sphx-glr-gallery-statistics-boxplot-vs-violin-py"
   ]
  },
  {
   "cell_type": "code",
   "execution_count": null,
   "metadata": {},
   "outputs": [],
   "source": [
    "# scatter histogram\n",
    "https://matplotlib.org/gallery/lines_bars_and_markers/scatter_hist.html#sphx-glr-gallery-lines-bars-and-markers-scatter-hist-py"
   ]
  },
  {
   "cell_type": "code",
   "execution_count": null,
   "metadata": {},
   "outputs": [],
   "source": []
  },
  {
   "cell_type": "code",
   "execution_count": null,
   "metadata": {},
   "outputs": [],
   "source": []
  },
  {
   "cell_type": "code",
   "execution_count": null,
   "metadata": {},
   "outputs": [],
   "source": [
    "x = np.linspace(0, 2 * np.pi, 400)\n",
    "y = np.sin(x ** 2)"
   ]
  },
  {
   "cell_type": "code",
   "execution_count": null,
   "metadata": {},
   "outputs": [],
   "source": [
    "plt.plot(x, y)\n",
    "plt.title('Simple plot')\n",
    "plt.show()"
   ]
  },
  {
   "cell_type": "code",
   "execution_count": null,
   "metadata": {},
   "outputs": [],
   "source": [
    "# Just a figure and one subplot\n",
    "np.linspace(0, 2 * np.pi, 400)\n",
    "y = np.sin(x ** 2)\n",
    "f, ax = plt.subplots()\n",
    "ax.plot(x, y)\n",
    "ax.set_title('Simple plot')\n",
    "plt.show()"
   ]
  },
  {
   "cell_type": "code",
   "execution_count": null,
   "metadata": {},
   "outputs": [],
   "source": [
    "# Three subplots, the axes array is 1-d\n",
    "x = np.linspace(0, 2 * np.pi, 400)\n",
    "y = np.sin(x ** 2)\n",
    "f, axarr = plt.subplots(3, sharex=True)\n",
    "axarr[0].set_title('Sharing x-axis')\n",
    "axarr[0].plot(x, np.sin(x ** 1.5), 'r')\n",
    "axarr[1].plot(x, np.sin(x ** 2.0), c='g')\n",
    "axarr[2].plot(x, np.sin(x ** 2.5), c='b')\n",
    "plt.show()"
   ]
  },
  {
   "cell_type": "code",
   "execution_count": null,
   "metadata": {},
   "outputs": [],
   "source": [
    "x = np.linspace(0, 2 * np.pi, 400)\n",
    "\n",
    "plt.figure(1)                # the first figure\n",
    "\n",
    "plt.subplot(311)             # the first subplot in the first figure\n",
    "plt.plot(x, np.sin(x ** 1.5))\n",
    "\n",
    "plt.subplot(312)             # the second subplot in the first figure\n",
    "plt.plot(x, np.sin(x ** 1.75), color='green')\n",
    "\n",
    "plt.subplot(312)             # the second subplot in the first figure\n",
    "plt.plot(x, np.sin(x ** 2.0), color='red')\n",
    "\n",
    "plt.subplot(313)             # the second subplot in the first figure\n",
    "plt.plot(x, np.sin(x ** 2.25), color='orange')\n",
    "\n",
    "\n",
    "plt.figure(2)                # a second figure\n",
    "plt.plot([4, 5, 6])          # creates a subplot(111) by default\n",
    "\n",
    "plt.figure(1)                # figure 1 current; subplot(212) still current\n",
    "plt.subplot(211)             # make subplot(211) in figure1 current\n",
    "plt.title('Easy as 1, 2, 3') # subplot 211 title"
   ]
  },
  {
   "cell_type": "code",
   "execution_count": null,
   "metadata": {},
   "outputs": [],
   "source": [
    "np.arange(-25, 26)"
   ]
  },
  {
   "cell_type": "code",
   "execution_count": null,
   "metadata": {},
   "outputs": [],
   "source": []
  },
  {
   "cell_type": "code",
   "execution_count": null,
   "metadata": {},
   "outputs": [],
   "source": []
  },
  {
   "cell_type": "code",
   "execution_count": null,
   "metadata": {},
   "outputs": [],
   "source": [
    "# Simple data to display in various forms\n",
    "x = np.linspace(0, 2 * np.pi, 400)\n",
    "y = np.sin(x ** 2)"
   ]
  },
  {
   "cell_type": "code",
   "execution_count": null,
   "metadata": {},
   "outputs": [],
   "source": [
    "# Just a figure and one subplot\n",
    "f, ax = plt.subplots()\n",
    "ax.plot(x, y)\n",
    "ax.set_title('Simple plot')\n",
    "plt.show()"
   ]
  },
  {
   "cell_type": "code",
   "execution_count": null,
   "metadata": {},
   "outputs": [],
   "source": [
    "# Two subplots, the axes array is 1-d\n",
    "f, axarr = plt.subplots(2, sharex=True)\n",
    "axarr[0].plot(x, y)\n",
    "axarr[0].set_title('Sharing X axis')\n",
    "axarr[1].scatter(x, y)\n",
    "plt.show()"
   ]
  },
  {
   "cell_type": "code",
   "execution_count": null,
   "metadata": {},
   "outputs": [],
   "source": [
    "# Two subplots, unpack the axes array immediately\n",
    "f, (ax1, ax2) = plt.subplots(1, 2, sharey=True)\n",
    "ax1.plot(x, y)\n",
    "ax1.set_title('Sharing Y axis')\n",
    "ax2.scatter(x, y)\n",
    "plt.show()"
   ]
  },
  {
   "cell_type": "code",
   "execution_count": null,
   "metadata": {},
   "outputs": [],
   "source": [
    "# Three subplots sharing both x/y axes\n",
    "f, (ax1, ax2, ax3) = plt.subplots(3, sharex=True, sharey=True)\n",
    "ax1.plot(x, y)\n",
    "ax1.set_title('Sharing both axes')\n",
    "ax2.scatter(x, y)\n",
    "ax3.scatter(x, 2 * y ** 2 - 1, color='r')\n",
    "# Fine-tune figure; make subplots close to each other and hide x ticks for\n",
    "# all but bottom plot.\n",
    "f.subplots_adjust(hspace=0)\n",
    "plt.setp([a.get_xticklabels() for a in f.axes[:-1]], visible=False)\n",
    "plt.show()"
   ]
  },
  {
   "cell_type": "code",
   "execution_count": null,
   "metadata": {},
   "outputs": [],
   "source": [
    "# row and column sharing\n",
    "f, ((ax1, ax2), (ax3, ax4)) = plt.subplots(2, 2, sharex='col', sharey='row')\n",
    "ax1.plot(x, y)\n",
    "ax1.set_title('Sharing x per column, y per row')\n",
    "ax2.scatter(x, y)\n",
    "ax3.scatter(x, 2 * y ** 2 - 1, color='r')\n",
    "ax4.plot(x, 2 * y ** 2 - 1, color='r')\n",
    "plt.show()"
   ]
  },
  {
   "cell_type": "code",
   "execution_count": null,
   "metadata": {},
   "outputs": [],
   "source": [
    "# Four axes, returned as a 2-d array\n",
    "f, axarr = plt.subplots(2, 2)\n",
    "axarr[0, 0].plot(x, y)\n",
    "axarr[0, 0].set_title('Axis [0,0]')\n",
    "axarr[0, 1].scatter(x, y)\n",
    "axarr[0, 1].set_title('Axis [0,1]')\n",
    "axarr[1, 0].plot(x, y ** 2)\n",
    "axarr[1, 0].set_title('Axis [1,0]')\n",
    "axarr[1, 1].scatter(x, y ** 2)\n",
    "axarr[1, 1].set_title('Axis [1,1]')\n",
    "# Fine-tune figure; hide x ticks for top plots and y ticks for right plots\n",
    "plt.setp([a.get_xticklabels() for a in axarr[0, :]], visible=False)\n",
    "plt.setp([a.get_yticklabels() for a in axarr[:, 1]], visible=False)\n",
    "plt.show()"
   ]
  },
  {
   "cell_type": "code",
   "execution_count": null,
   "metadata": {},
   "outputs": [],
   "source": [
    "# Four polar axes\n",
    "f, axarr = plt.subplots(2, 2, subplot_kw=dict(projection='polar'))\n",
    "axarr[0, 0].plot(x, y)\n",
    "axarr[0, 0].set_title('Axis [0,0]')\n",
    "axarr[0, 1].scatter(x, y)\n",
    "axarr[0, 1].set_title('Axis [0,1]')\n",
    "axarr[1, 0].plot(x, y ** 2)\n",
    "axarr[1, 0].set_title('Axis [1,0]')\n",
    "axarr[1, 1].scatter(x, y ** 2)\n",
    "axarr[1, 1].set_title('Axis [1,1]')\n",
    "# Fine-tune figure; make subplots farther from each other.\n",
    "f.subplots_adjust(hspace=0.3)\n",
    "plt.show()"
   ]
  },
  {
   "cell_type": "code",
   "execution_count": null,
   "metadata": {},
   "outputs": [],
   "source": []
  },
  {
   "cell_type": "code",
   "execution_count": null,
   "metadata": {},
   "outputs": [],
   "source": []
  },
  {
   "cell_type": "code",
   "execution_count": null,
   "metadata": {},
   "outputs": [],
   "source": []
  },
  {
   "cell_type": "code",
   "execution_count": null,
   "metadata": {},
   "outputs": [],
   "source": []
  },
  {
   "cell_type": "code",
   "execution_count": null,
   "metadata": {},
   "outputs": [],
   "source": []
  },
  {
   "cell_type": "code",
   "execution_count": null,
   "metadata": {},
   "outputs": [],
   "source": [
    "plt.close('all')"
   ]
  },
  {
   "cell_type": "code",
   "execution_count": null,
   "metadata": {},
   "outputs": [],
   "source": []
  },
  {
   "cell_type": "code",
   "execution_count": null,
   "metadata": {},
   "outputs": [],
   "source": []
  },
  {
   "cell_type": "code",
   "execution_count": null,
   "metadata": {},
   "outputs": [],
   "source": []
  },
  {
   "cell_type": "code",
   "execution_count": null,
   "metadata": {},
   "outputs": [],
   "source": []
  },
  {
   "cell_type": "code",
   "execution_count": null,
   "metadata": {},
   "outputs": [],
   "source": []
  },
  {
   "cell_type": "code",
   "execution_count": null,
   "metadata": {},
   "outputs": [],
   "source": []
  },
  {
   "cell_type": "code",
   "execution_count": null,
   "metadata": {},
   "outputs": [],
   "source": []
  },
  {
   "cell_type": "code",
   "execution_count": null,
   "metadata": {},
   "outputs": [],
   "source": []
  },
  {
   "cell_type": "code",
   "execution_count": null,
   "metadata": {},
   "outputs": [],
   "source": []
  },
  {
   "cell_type": "code",
   "execution_count": null,
   "metadata": {},
   "outputs": [],
   "source": []
  },
  {
   "cell_type": "code",
   "execution_count": null,
   "metadata": {},
   "outputs": [],
   "source": []
  },
  {
   "cell_type": "code",
   "execution_count": null,
   "metadata": {},
   "outputs": [],
   "source": [
    "# matplotlib demo from https://matplotlib.org/gallery\n",
    "import matplotlib.tri as tri\n",
    "n_angles = 36\n",
    "n_radii = 8\n",
    "min_radius = 0.25\n",
    "radii = np.linspace(min_radius, 0.95, n_radii)\n",
    "angles = np.linspace(0, 2 * np.pi, n_angles, endpoint=False)\n",
    "angles = np.repeat(angles[..., np.newaxis], n_radii, axis=1)\n",
    "angles[:, 1::2] += np.pi / n_angles\n",
    "x = (radii * np.cos(angles)).flatten()\n",
    "y = (radii * np.sin(angles)).flatten()\n",
    "z = (np.cos(radii) * np.cos(3 * angles)).flatten()\n",
    "triang = tri.Triangulation(x, y)\n",
    "triang.set_mask(np.hypot(x[triang.triangles].mean(axis=1), y[triang.triangles].mean(axis=1)) < min_radius)\n",
    "plt.figure(figsize=(10,10))\n",
    "plt.gca().set_aspect('equal')\n",
    "plt.tripcolor(triang, z, shading='flat')\n",
    "plt.colorbar()\n",
    "plt.title('tripcolor of Delaunay triangulation, flat shading')\n",
    "plt.show()"
   ]
  },
  {
   "cell_type": "code",
   "execution_count": null,
   "metadata": {},
   "outputs": [],
   "source": [
    "import numpy as np\n",
    "import matplotlib.pyplot as plt\n",
    "\n",
    "\n",
    "# Fixing random state for reproducibility\n",
    "np.random.seed(19680801)\n",
    "\n",
    "# Compute pie slices\n",
    "N = 20\n",
    "theta = np.linspace(0.0, 2 * np.pi, N, endpoint=False)\n",
    "radii = 10 * np.random.rand(N)\n",
    "width = np.pi / 4 * np.random.rand(N)\n",
    "\n",
    "ax = plt.subplot(111, projection='polar')\n",
    "bars = ax.bar(theta, radii, width=width, bottom=0.0)\n",
    "\n",
    "# Use custom colors and opacity\n",
    "for r, bar in zip(radii, bars):\n",
    "    bar.set_facecolor(plt.cm.viridis(r / 10.))\n",
    "    bar.set_alpha(0.5)\n",
    "\n",
    "plt.show()"
   ]
  },
  {
   "cell_type": "code",
   "execution_count": null,
   "metadata": {},
   "outputs": [],
   "source": []
  },
  {
   "cell_type": "code",
   "execution_count": null,
   "metadata": {},
   "outputs": [],
   "source": []
  },
  {
   "cell_type": "code",
   "execution_count": null,
   "metadata": {},
   "outputs": [],
   "source": []
  },
  {
   "cell_type": "code",
   "execution_count": null,
   "metadata": {},
   "outputs": [],
   "source": []
  },
  {
   "cell_type": "code",
   "execution_count": null,
   "metadata": {},
   "outputs": [],
   "source": []
  },
  {
   "cell_type": "code",
   "execution_count": null,
   "metadata": {},
   "outputs": [],
   "source": []
  },
  {
   "cell_type": "code",
   "execution_count": null,
   "metadata": {},
   "outputs": [],
   "source": [
    "# load dataset\n",
    "iris = sns.load_dataset('iris')"
   ]
  },
  {
   "cell_type": "code",
   "execution_count": null,
   "metadata": {},
   "outputs": [],
   "source": []
  },
  {
   "cell_type": "code",
   "execution_count": null,
   "metadata": {},
   "outputs": [],
   "source": []
  },
  {
   "cell_type": "code",
   "execution_count": null,
   "metadata": {},
   "outputs": [],
   "source": [
    "colors = {'setosa': 0, 'versicolor': 1, 'virginica': 2}\n",
    "plt.scatter(x=iris.loc[iris.species == 'setosa', 'sepal_length'], y=iris.loc[iris.species == 'setosa', 'sepal_width'])"
   ]
  },
  {
   "cell_type": "code",
   "execution_count": null,
   "metadata": {},
   "outputs": [],
   "source": [
    "fig = plt.figure()\n",
    "ax = fig.add_subplot(111)\n",
    "setosa = ax.scatter(iris.loc[iris.species == 'setosa', 'sepal_length'],\n",
    "                    y=iris.loc[iris.species == 'setosa', 'sepal_width'],\n",
    "                    s=50,\n",
    "                    c='red')\n",
    "versicolor = ax.scatter(iris.loc[iris.species == 'versicolor', 'sepal_length'],\n",
    "                        y=iris.loc[iris.species == 'versicolor', 'sepal_width'],\n",
    "                        s=50,\n",
    "                        c='green')\n",
    "virginica = ax.scatter(iris.loc[iris.species == 'virginica', 'sepal_length'],\n",
    "                       y=iris.loc[iris.species == 'virginica', 'sepal_width'],\n",
    "                       s=50,\n",
    "                       c='blue')\n",
    "ax.set_title('Sepal size from Iris dataset', fontsize=14)\n",
    "ax.set_xlabel('Sepal length (cm)')\n",
    "ax.set_ylabel('Seplal width (cm)')\n",
    "ax.legend([setosa, versicolor, virginica], [\"Iris Setosa\", \"Iris Versicolor\", \"Iris Virginica\"], loc=2)\n",
    "\n",
    "ax.grid(True, linestyle='-',color='0.75')\n",
    "\n",
    "plt.show()"
   ]
  },
  {
   "cell_type": "code",
   "execution_count": null,
   "metadata": {},
   "outputs": [],
   "source": [
    "iris.loc[iris.species == 'setosa', 'sepal_length']"
   ]
  },
  {
   "cell_type": "code",
   "execution_count": null,
   "metadata": {},
   "outputs": [],
   "source": []
  },
  {
   "cell_type": "code",
   "execution_count": null,
   "metadata": {},
   "outputs": [],
   "source": []
  },
  {
   "cell_type": "code",
   "execution_count": null,
   "metadata": {},
   "outputs": [],
   "source": []
  },
  {
   "cell_type": "markdown",
   "metadata": {},
   "source": [
    "[https://ipywidgets.readthedocs.io/en/latest/examples/Widget%20List.html](https://ipywidgets.readthedocs.io/en/latest/examples/Widget%20List.html)"
   ]
  },
  {
   "cell_type": "code",
   "execution_count": null,
   "metadata": {},
   "outputs": [],
   "source": []
  },
  {
   "cell_type": "code",
   "execution_count": null,
   "metadata": {},
   "outputs": [],
   "source": []
  },
  {
   "cell_type": "code",
   "execution_count": null,
   "metadata": {},
   "outputs": [],
   "source": [
    "a = widgets.IntSlider(description='a')\n",
    "b = widgets.IntSlider(description='b')\n",
    "c = widgets.IntSlider(description='c')\n",
    "def f(a, b, c):\n",
    "    print('{}*{}*{}={}'.format(a, b, c, a*b*c))\n",
    "\n",
    "out = widgets.interactive_output(f, {'a': a, 'b': b, 'c': c})\n",
    "\n",
    "widgets.HBox([widgets.VBox([a, b, c]), out])"
   ]
  },
  {
   "cell_type": "markdown",
   "metadata": {},
   "source": [
    "[https://ipywidgets.readthedocs.io/en/latest/examples/Output%20Widget.html](https://ipywidgets.readthedocs.io/en/latest/examples/Output%20Widget.html)"
   ]
  },
  {
   "cell_type": "code",
   "execution_count": null,
   "metadata": {},
   "outputs": [],
   "source": []
  },
  {
   "cell_type": "code",
   "execution_count": null,
   "metadata": {},
   "outputs": [],
   "source": []
  },
  {
   "cell_type": "code",
   "execution_count": null,
   "metadata": {},
   "outputs": [],
   "source": []
  },
  {
   "cell_type": "code",
   "execution_count": null,
   "metadata": {},
   "outputs": [],
   "source": []
  },
  {
   "cell_type": "code",
   "execution_count": null,
   "metadata": {},
   "outputs": [],
   "source": []
  },
  {
   "cell_type": "code",
   "execution_count": null,
   "metadata": {},
   "outputs": [],
   "source": []
  },
  {
   "cell_type": "code",
   "execution_count": null,
   "metadata": {},
   "outputs": [],
   "source": []
  },
  {
   "cell_type": "code",
   "execution_count": null,
   "metadata": {},
   "outputs": [],
   "source": []
  },
  {
   "cell_type": "code",
   "execution_count": null,
   "metadata": {},
   "outputs": [],
   "source": []
  },
  {
   "cell_type": "code",
   "execution_count": null,
   "metadata": {},
   "outputs": [],
   "source": []
  },
  {
   "cell_type": "code",
   "execution_count": null,
   "metadata": {},
   "outputs": [],
   "source": [
    "from seaborn import load_dataset\n",
    "iris = load_dataset('iris')\n",
    "iris.head()"
   ]
  },
  {
   "cell_type": "code",
   "execution_count": null,
   "metadata": {},
   "outputs": [],
   "source": [
    "iris.shape"
   ]
  },
  {
   "cell_type": "code",
   "execution_count": null,
   "metadata": {},
   "outputs": [],
   "source": [
    "from bokeh import __version__"
   ]
  },
  {
   "cell_type": "code",
   "execution_count": null,
   "metadata": {},
   "outputs": [],
   "source": [
    "__version__"
   ]
  },
  {
   "cell_type": "code",
   "execution_count": null,
   "metadata": {},
   "outputs": [],
   "source": []
  },
  {
   "cell_type": "code",
   "execution_count": null,
   "metadata": {},
   "outputs": [],
   "source": []
  },
  {
   "cell_type": "markdown",
   "metadata": {},
   "source": [
    "### Scatter Plot"
   ]
  },
  {
   "cell_type": "code",
   "execution_count": 1,
   "metadata": {},
   "outputs": [],
   "source": [
    "# basic scatter plot\n",
    "\n",
    "from bokeh.plotting import figure, output_file, show, reset_output\n",
    "from bokeh.models import ColumnDataSource\n",
    "from bokeh.sampledata.iris import flowers # load data\n",
    "\n",
    "reset_output() # reset output previous session\n",
    "output_file('../output/scatter_plot.html')\n",
    "\n",
    "source = ColumnDataSource(flowers)\n",
    "\n",
    "p = figure(plot_width = 400, plot_height = 400)\n",
    "p.circle('sepal_length', 'sepal_width', size = 10, color = 'blue', alpha = 0.5, source = source)\n",
    "\n",
    "show(p)"
   ]
  },
  {
   "cell_type": "markdown",
   "metadata": {},
   "source": [
    "See [https://bokeh.pydata.org/en/latest/docs/reference/colors.html](https://bokeh.pydata.org/en/latest/docs/reference/colors.html) for available colors."
   ]
  },
  {
   "cell_type": "code",
   "execution_count": 3,
   "metadata": {},
   "outputs": [],
   "source": [
    "# color and legend\n",
    "\n",
    "from bokeh.plotting import figure, output_file, show, reset_output\n",
    "from bokeh.models import ColumnDataSource\n",
    "from bokeh.sampledata.iris import flowers # load data\n",
    "\n",
    "reset_output() # reset output previous session\n",
    "output_file('../output/scatter_plot_legend.html')\n",
    "\n",
    "colormap = {'setosa': 'coral', 'versicolor': 'skyblue', 'virginica': 'indigo'} # specify specie colors\n",
    "flowers['colors'] = [colormap[species] for species in flowers.species] # map colors\n",
    "\n",
    "source = ColumnDataSource(flowers)\n",
    "\n",
    "p = figure(plot_width = 400, plot_height = 400)\n",
    "p.circle('sepal_length', 'sepal_width', size = 10, color = 'colors', alpha = 0.5, legend = 'species', source = source)\n",
    "\n",
    "p.legend.orientation = 'horizontal'\n",
    "p.legend.location = 'top_center'\n",
    "\n",
    "show(p)"
   ]
  },
  {
   "cell_type": "code",
   "execution_count": 4,
   "metadata": {},
   "outputs": [],
   "source": [
    "# interactive legend\n",
    "\n",
    "from bokeh.plotting import figure, output_file, show, reset_output\n",
    "from bokeh.models import ColumnDataSource\n",
    "from bokeh.sampledata.iris import flowers # load data\n",
    "\n",
    "reset_output() # reset output previous session\n",
    "output_file('../output/scatter_plot_legend_interactive.html')\n",
    "\n",
    "colormap = {'setosa': 'coral', 'versicolor': 'skyblue', 'virginica': 'indigo'} # specify specie colors\n",
    "flowers['colors'] = [colormap[species] for species in flowers.species] # map colors\n",
    "\n",
    "p = figure(plot_width = 400, plot_height = 400)\n",
    "\n",
    "for species in flowers.species.unique():\n",
    "    source = ColumnDataSource(flowers[flowers.species == species])\n",
    "    p.circle('sepal_length', 'sepal_width', size = 10, color = 'colors', alpha = 0.5, legend = 'species', source = source)\n",
    "\n",
    "p.legend.orientation = 'horizontal'\n",
    "p.legend.location = 'top_center'\n",
    "p.legend.click_policy = 'hide'\n",
    "\n",
    "show(p)"
   ]
  },
  {
   "cell_type": "code",
   "execution_count": 5,
   "metadata": {},
   "outputs": [],
   "source": [
    "# tooltips\n",
    "\n",
    "from bokeh.plotting import figure, output_file, show, reset_output\n",
    "from bokeh.models import ColumnDataSource\n",
    "from bokeh.sampledata.iris import flowers # load data\n",
    "\n",
    "reset_output() # reset output previous session\n",
    "output_file('../output/scatter_plot_tooltips.html')\n",
    "\n",
    "colormap = {'setosa': 'coral', 'versicolor': 'skyblue', 'virginica': 'indigo'} # specify specie colors\n",
    "flowers['colors'] = [colormap[species] for species in flowers.species] # map colors\n",
    "\n",
    "tooltips = [('index', '@index'),\n",
    "            ('Sepal Length', '@sepal_length'),\n",
    "            ('Sepal Width', '@sepal_width'),\n",
    "            ('Species', '@species')]\n",
    "\n",
    "p = figure(plot_width = 400, plot_height = 400, tooltips = tooltips)\n",
    "\n",
    "for species in flowers.species.unique():\n",
    "    source = ColumnDataSource(flowers[flowers.species == species])\n",
    "    p.circle('sepal_length', 'sepal_width', size = 10, color = 'colors', alpha = 0.5, legend = 'species', source = source)\n",
    "\n",
    "p.legend.orientation = 'horizontal'\n",
    "p.legend.location = 'top_center'\n",
    "p.legend.click_policy = 'hide'\n",
    "\n",
    "show(p)"
   ]
  },
  {
   "cell_type": "markdown",
   "metadata": {},
   "source": [
    "### Data Table"
   ]
  },
  {
   "cell_type": "code",
   "execution_count": null,
   "metadata": {},
   "outputs": [],
   "source": [
    "from bokeh.io import output_file, show\n",
    "from bokeh.layouts import widgetbox\n",
    "from bokeh.models import ColumnDataSource\n",
    "from bokeh.models.widgets import DataTable, TableColumn\n",
    "from bokeh.plotting import reset_output\n",
    "from bokeh.sampledata.iris import flowers # load data\n",
    "\n",
    "reset_output() # reset output previous session\n",
    "output_file('../output/data_table.html')\n",
    "\n",
    "source = ColumnDataSource(flowers)\n",
    "\n",
    "columns = [TableColumn(field = 'species', title = 'Species'),\n",
    "           TableColumn(field = 'sepal_length', title = 'Sepal Length'),\n",
    "           TableColumn(field = 'sepal_width', title = 'Sepal Width'),\n",
    "           TableColumn(field = 'petal_length', title = 'Petal Length'),\n",
    "           TableColumn(field = 'petal_width', title = 'Petal Width')]\n",
    "\n",
    "data_table = DataTable(source = source,\n",
    "                       columns = columns,\n",
    "                       width = 400,\n",
    "                       height = 400)\n",
    "\n",
    "show(widgetbox(data_table))"
   ]
  },
  {
   "cell_type": "markdown",
   "metadata": {},
   "source": [
    "### Dashboard with multiple tabs"
   ]
  },
  {
   "cell_type": "code",
   "execution_count": null,
   "metadata": {},
   "outputs": [],
   "source": [
    "from bokeh.plotting import figure, output_file, show, reset_output, #ColumnDataSource\n",
    "from bokeh.io import output_file, show\n",
    "from bokeh.layouts import widgetbox\n",
    "from bokeh.models import ColumnDataSource\n",
    "from bokeh.models.widgets import DataTable, TableColumn, Panel, Tabs\n",
    "from bokeh.sampledata.iris import flowers # load data\n",
    "\n",
    "reset_output() # reset output previous session\n",
    "output_file('../output/panel.html')\n",
    "\n",
    "# Panel 1\n",
    "colormap = {'setosa': 'coral', 'versicolor': 'skyblue', 'virginica': 'indigo'} # specify specie colors\n",
    "flowers['colors'] = [colormap[species] for species in flowers.species] # map colors\n",
    "\n",
    "tooltips = [('index', '@index'),\n",
    "            ('Sepal Length', '@sepal_length'),\n",
    "            ('Sepal Width', '@sepal_width'),\n",
    "            ('Species', '@species')]\n",
    "\n",
    "\n",
    "p1 = figure(plot_width = 400, plot_height = 400, tooltips=tooltips)\n",
    "\n",
    "for species in flowers.species.unique():\n",
    "    source = ColumnDataSource(flowers[flowers.species == species])\n",
    "    p1.circle('sepal_length', 'sepal_width', size = 10, color = 'colors', alpha = 0.5, legend = 'species', source = source)\n",
    "\n",
    "p1.legend.orientation = 'horizontal'\n",
    "p1.legend.location = 'top_center'\n",
    "p1.legend.click_policy = 'hide'\n",
    "\n",
    "tab1 = Panel(child = p1, title = 'Interactive Scatter Plot')\n",
    "\n",
    "# Panel 2\n",
    "source = ColumnDataSource(flowers)\n",
    "\n",
    "columns = [TableColumn(field = 'species', title = 'Species'),\n",
    "           TableColumn(field = 'sepal_length', title = 'Sepal Length'),\n",
    "           TableColumn(field = 'sepal_width', title = 'Sepal Width'),\n",
    "           TableColumn(field = 'petal_length', title = 'Petal Length'),\n",
    "           TableColumn(field = 'petal_width', title = 'Petal Width')]\n",
    "\n",
    "p2 = DataTable(source = source,\n",
    "               columns = columns,\n",
    "               width = 400,\n",
    "               height = 400)\n",
    "\n",
    "tab2 = Panel(child = p2, title = 'Iris Data Table')\n",
    "\n",
    "# Dashboard\n",
    "tabs = Tabs(tabs = [tab1, tab2])\n",
    "\n",
    "show(tabs)"
   ]
  },
  {
   "cell_type": "code",
   "execution_count": null,
   "metadata": {},
   "outputs": [],
   "source": []
  },
  {
   "cell_type": "code",
   "execution_count": null,
   "metadata": {},
   "outputs": [],
   "source": []
  },
  {
   "cell_type": "code",
   "execution_count": null,
   "metadata": {},
   "outputs": [],
   "source": []
  },
  {
   "cell_type": "code",
   "execution_count": null,
   "metadata": {},
   "outputs": [],
   "source": []
  },
  {
   "cell_type": "code",
   "execution_count": null,
   "metadata": {},
   "outputs": [],
   "source": []
  },
  {
   "cell_type": "code",
   "execution_count": null,
   "metadata": {},
   "outputs": [],
   "source": []
  },
  {
   "cell_type": "code",
   "execution_count": null,
   "metadata": {},
   "outputs": [],
   "source": []
  }
 ],
 "metadata": {
  "kernelspec": {
   "display_name": "Python 3",
   "language": "python",
   "name": "python3"
  },
  "language_info": {
   "codemirror_mode": {
    "name": "ipython",
    "version": 3
   },
   "file_extension": ".py",
   "mimetype": "text/x-python",
   "name": "python",
   "nbconvert_exporter": "python",
   "pygments_lexer": "ipython3",
   "version": "3.6.6"
  }
 },
 "nbformat": 4,
 "nbformat_minor": 2
}
