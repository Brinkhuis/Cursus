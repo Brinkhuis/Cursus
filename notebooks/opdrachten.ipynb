{
 "cells": [
  {
   "cell_type": "markdown",
   "metadata": {},
   "source": [
    "# Opdrachten"
   ]
  },
  {
   "cell_type": "markdown",
   "metadata": {},
   "source": [
    "### Opdracht 1: string"
   ]
  },
  {
   "cell_type": "markdown",
   "metadata": {},
   "source": [
    "In onderstaande cell is de string `opdracht` gedefinieerd."
   ]
  },
  {
   "cell_type": "code",
   "execution_count": null,
   "metadata": {},
   "outputs": [],
   "source": [
    "opdracht = '<<< n-o-h-t-y-p >>>'"
   ]
  },
  {
   "cell_type": "markdown",
   "metadata": {},
   "source": [
    "De opdracht is om uit de string `opdracht` de waarde 'Python' te verkrijgen.  \n",
    "Maak daarbij uitsluitend gebruik van _subsetting_ en _class methods_.  \n",
    "\n",
    "Er zijn verschillende oplossingen mogelijk. Probeer er ten minst twee te vinden.  \n",
    "Welke van de gevonden oplosingen vind je het meest _Pythonic_?  \n",
    "\n",
    "Waar nodig kun je de Jupyter Notebooks [python](https://nbviewer.jupyter.org/github/Brinkhuis/Cursus/blob/master/notebooks/python.ipynb) en [datatypes](https://github.com/Brinkhuis/Cursus/blob/master/notebooks/datatypes.ipynb) er nog even op na slaan.  \n",
    "Vergeet ook niet om je vrienden [Google](https://www.google.com) en [Stack Overflow](https://stackoverflow.com) te raadplegen als je er niet uitkomt"
   ]
  },
  {
   "cell_type": "code",
   "execution_count": null,
   "metadata": {},
   "outputs": [],
   "source": [
    "# YOUR CODE HERE\n",
    "raise NotImplementedError('Opdracht niet gemaakt?')"
   ]
  },
  {
   "cell_type": "markdown",
   "metadata": {},
   "source": [
    "### Opdracht 2: list"
   ]
  },
  {
   "cell_type": "code",
   "execution_count": null,
   "metadata": {},
   "outputs": [],
   "source": [
    "opdracht = 'Without requirements or design, programming is the art of adding bugs to an empty text file.'.split()"
   ]
  },
  {
   "cell_type": "code",
   "execution_count": null,
   "metadata": {},
   "outputs": [],
   "source": [
    "uitkomst = 'Without requirements or design, coding Python is the art of adding bugs to an empty Jupyter Notebook.'.split()"
   ]
  },
  {
   "cell_type": "markdown",
   "metadata": {},
   "source": [
    "In deze opdracht ga je aan de slag met de list `opdracht`.  \n",
    "Deze pas je zodanig aan de de uitkomst ervan gelijk is aan de list `uitkomst`.\n",
    "Maak daarbij uitsluitend gebruik van _subsetting_ en _class methods_.  \n",
    "\n",
    "Je kunt je uitwerking eenvoud controleren door het statement `opdracht == uitkomst` uit te voeren. \n",
    "\n",
    "Er zijn verschillende oplossingen mogelijk. Voor deze opdracht is het voldoende als je er één uitwerkt.  \n",
    "De oplossing bestaat uit meerdere regels code.  \n",
    "\n",
    "Wellicht leuk om te weten dat je met het statement `' '.join(opdracht)` de list 'opdracht' kunt omzetten naar één string object.\n",
    "\n",
    "Waar nodig kun je de Jupyter Notebooks [python](https://nbviewer.jupyter.org/github/Brinkhuis/Cursus/blob/master/notebooks/python.ipynb) en [datatypes](https://github.com/Brinkhuis/Cursus/blob/master/notebooks/datatypes.ipynb) er nog even op na slaan.  "
   ]
  },
  {
   "cell_type": "code",
   "execution_count": null,
   "metadata": {},
   "outputs": [],
   "source": [
    "# YOUR CODE HERE\n",
    "raise NotImplementedError('Opdracht niet gemaakt?')"
   ]
  },
  {
   "cell_type": "markdown",
   "metadata": {},
   "source": [
    "### Opdracht 3: list comprehension"
   ]
  },
  {
   "cell_type": "markdown",
   "metadata": {},
   "source": [
    "In deze opdracht ga je temperaturen tussen 0 en 100 (exclusief) in graden Celsius converteren naar temperaturen in graden Fahrenheit.  \n",
    "\n",
    "Het resultaat is een _list object_ met temperaturen in graden Fahrenheit.  \n",
    "Echter, in deze lijst mogen uitsluitend waarden voorkomen groter zijn dan 150 én die qua waarde een geheel getal zijn (bijvoorbeeld _wel_ `158.0` maar _niet_ `159.8`).\n",
    "\n",
    "Onderstaand de formule voor conversie van graden Celsius naar graden Fahrenheit."
   ]
  },
  {
   "cell_type": "markdown",
   "metadata": {},
   "source": [
    "$F = C \\times \\frac{9}{5} + 32$"
   ]
  },
  {
   "cell_type": "markdown",
   "metadata": {},
   "source": [
    "Waar nodig kun je de Jupyter Notebooks [python](https://nbviewer.jupyter.org/github/Brinkhuis/Cursus/blob/master/notebooks/python.ipynb) en [datatypes](https://github.com/Brinkhuis/Cursus/blob/master/notebooks/datatypes.ipynb) er nog even op na slaan.  \n",
    "\n",
    "Ter controle kun je je eigen resultaat vergelijken met onderstaande list `resultaat`."
   ]
  },
  {
   "cell_type": "code",
   "execution_count": null,
   "metadata": {},
   "outputs": [],
   "source": [
    "resultaat = [158.0, 167.0, 176.0, 185.0, 194.0, 203.0]"
   ]
  },
  {
   "cell_type": "markdown",
   "metadata": {},
   "source": [
    "Ook hier zijn meerdere oplossingen mogelijk.\n",
    "\n",
    "Welke van jouw oplossingen geeft de beste performance?"
   ]
  },
  {
   "cell_type": "code",
   "execution_count": null,
   "metadata": {},
   "outputs": [],
   "source": [
    "# YOUR CODE HERE\n",
    "raise NotImplementedError('Opdracht niet gemaakt?')"
   ]
  },
  {
   "cell_type": "markdown",
   "metadata": {},
   "source": [
    "### Opdracht 4a: for"
   ]
  },
  {
   "cell_type": "markdown",
   "metadata": {},
   "source": [
    "Maak een `for` loop die de getallen van 1 tot en met 100 afloopt.  \n",
    "\n",
    "Test voor elk getal of dat deelbaar is door 2, 3, 4 of 5.  \n",
    "\n",
    "Print alleen die getallen die **_niet_** niet deelbaar zijn door 2, 3, 4 of 5.  \n",
    "\n",
    "Print aan het eind ook hoeveel van deze getallen er gevonden zijn."
   ]
  },
  {
   "cell_type": "code",
   "execution_count": null,
   "metadata": {},
   "outputs": [],
   "source": [
    "# YOUR CODE HERE\n",
    "raise NotImplementedError('Opdracht niet gemaakt?')"
   ]
  },
  {
   "cell_type": "markdown",
   "metadata": {},
   "source": [
    "### Opdracht 4b: while"
   ]
  },
  {
   "cell_type": "markdown",
   "metadata": {},
   "source": [
    "Maak nu dezelfde opdracht als bij 4a alleen nu met een `while True:` stratement."
   ]
  },
  {
   "cell_type": "code",
   "execution_count": null,
   "metadata": {},
   "outputs": [],
   "source": [
    "# YOUR CODE HERE\n",
    "raise NotImplementedError('Opdracht niet gemaakt?')"
   ]
  },
  {
   "cell_type": "markdown",
   "metadata": {},
   "source": [
    "### Opdracht 5a: function"
   ]
  },
  {
   "cell_type": "markdown",
   "metadata": {},
   "source": [
    "Definieer een functie `deel` met als argumenten `x` en `y`.  \n",
    "\n",
    "De functie dient twee waarden terug te geven:  \n",
    "1. het aantal keer dat `x` in `y` past\n",
    "2. de rest(waarde) die je over houd als je `x` door `y` deelt\n",
    "\n",
    "Voorbeeld:\n",
    "```python\n",
    "deel(15, 7)\n",
    "```\n",
    "```\n",
    "(2, 1)\n",
    "```"
   ]
  },
  {
   "cell_type": "code",
   "execution_count": null,
   "metadata": {},
   "outputs": [],
   "source": [
    "# YOUR CODE HERE\n",
    "raise NotImplementedError('Opdracht niet gemaakt?')"
   ]
  },
  {
   "cell_type": "markdown",
   "metadata": {},
   "source": [
    "### Opdracht 5b: error handling"
   ]
  },
  {
   "cell_type": "markdown",
   "metadata": {},
   "source": [
    "Maak nu opdracht 5a opnieuw, maar voeg deze keer foutafhandeling toe, zodanig dat de code niet breekt tijdens uit uitvoeren.  \n",
    "\n",
    "Wees zo speciek mogelijk bij het afhandelen van fouten.\n",
    "\n",
    "Als `x` niet is gespecificeerd, dient er een specieke foutmelding te worden gegeven.  \n",
    "Als `y` niet is gespecificeerd, dient de waarde `1` te worden gebruikt.\n",
    "\n",
    "Test je oplossing met onderstaande code:\n",
    "\n",
    "```python\n",
    "print(1, deel(15, 7), '\\n') # (2, 1)\n",
    "print(2, deel(7, 15), '\\n') # (0, 7)\n",
    "print(3, deel(15), '\\n') # (15, 0)\n",
    "print(4, deel(0, 15), '\\n') # (0, 0)\n",
    "print(5, deel(5.5, 2.5), '\\n')\n",
    "print(6, deel(15, 0), '\\n') # integer division or modulo by zero\n",
    "print(7, deel('vijftien', 'zeven'), '\\n') # unsupported operand type(s) for //: 'str' and 'str'\n",
    "print(8, deel([15, 7]), '\\n') # unsupported operand type(s) for //: 'list' and 'int'\n",
    "print(9, deel(y = 7)) # ...\n",
    "```\n",
    "\n",
    "Optioneel:  \n",
    "* Geef het resultaat terug als een dictionary met de keys `aantal` en `rest`.\n",
    "* Zorg dat `aantal` altijd een `int` is en dat `rest` afhankelijk van de waarde een `int` of een `float` is."
   ]
  },
  {
   "cell_type": "code",
   "execution_count": null,
   "metadata": {},
   "outputs": [],
   "source": [
    "# YOUR CODE HERE\n",
    "raise NotImplementedError('Opdracht niet gemaakt?')"
   ]
  },
  {
   "cell_type": "markdown",
   "metadata": {},
   "source": [
    "### Opdracht 6: lambda expression"
   ]
  },
  {
   "cell_type": "markdown",
   "metadata": {},
   "source": [
    "Maak een `lambda` expression die reeks `celsius` omzet naar graden Fahrenheit gebruikmakend van de functie `map`.  \n",
    "Filter met behulp van de functie `filter` alleen die resultaten die groter zijn dan 200."
   ]
  },
  {
   "cell_type": "code",
   "execution_count": null,
   "metadata": {},
   "outputs": [],
   "source": [
    "celsius = range(100)"
   ]
  },
  {
   "cell_type": "markdown",
   "metadata": {},
   "source": [
    "$F = C \\times \\frac{9}{5} + 32$"
   ]
  },
  {
   "cell_type": "code",
   "execution_count": null,
   "metadata": {},
   "outputs": [],
   "source": [
    "# YOUR CODE HERE\n",
    "raise NotImplementedError('Opdracht niet gemaakt?')"
   ]
  },
  {
   "cell_type": "markdown",
   "metadata": {},
   "source": [
    "### Opdracht 7: inlezen csv"
   ]
  },
  {
   "cell_type": "markdown",
   "metadata": {},
   "source": [
    "Onderzoek met behulp van `help(pd.read_csv)` wat de verschillende attributen zijn van de functie `pd.read_csv()` en lees vervolgens het bestand `leesmij.csv` in uit de folder `data`. Vervang tijdens het inlezen ontbrekende of onbekende waarden door een NA-value. Toon vervolgens willekeurig 7 rijen."
   ]
  },
  {
   "cell_type": "code",
   "execution_count": null,
   "metadata": {},
   "outputs": [],
   "source": [
    "# YOUR CODE HERE\n",
    "raise NotImplementedError('Opdracht niet gemaakt?')"
   ]
  },
  {
   "cell_type": "markdown",
   "metadata": {},
   "source": [
    "### Opdracht 8: genereren data"
   ]
  },
  {
   "cell_type": "markdown",
   "metadata": {},
   "source": [
    "In deze opdracht gaan we een `pandas` DataFrame genereren die lijkt op de data van de [risicoverevening](https://www.zorginstituutnederland.nl/financiering/risicoverevening-zvw/wat-is-risicoverevening). Deze dataset dient reproduceerbaar te zijn.  \n",
    "\n",
    "Genereer een DataFrame `df` met 10.000 rijen. Maak daartoe de variabele `aantal_personen` aan met de waarde `10000`.  \n",
    "\n",
    "Het DataFrame moet bestaan uit de volgende kolommen:\n",
    "* id: een willekeurige _unieke_ integer van 5 cijfers\n",
    "* grp: een willekeurige integer tussen 1 en 40 (groep waartoe betreffende persoon behoort)\n",
    "* fkg: een willekeurige integer met de waarde 0 of 1 (farmaciekostengroep: 0 staat voor geen medicatie, 1 staat voor wel medicatie)\n",
    "* dkg: een willekeurige integer met de waarde 0 of 1 (diagnosekostengroep: 0 staat voor geen diagnose, 1 staat voor wel diagnose)"
   ]
  },
  {
   "cell_type": "code",
   "execution_count": null,
   "metadata": {},
   "outputs": [],
   "source": [
    "# YOUR CODE HERE\n",
    "raise NotImplementedError('Opdracht niet gemaakt?')"
   ]
  },
  {
   "cell_type": "markdown",
   "metadata": {},
   "source": [
    "### Opdracht 9a: toevoegen kolom"
   ]
  },
  {
   "cell_type": "markdown",
   "metadata": {},
   "source": [
    "In opdracht 8 heb je een DataFrame gemaakt. In deze opdracht ga je aan het DataFrame de kolom toevoegen `geslacht` toevoegen.  \n",
    "Mannen zitten in `grp` 1 t/m 20, vrouwen in `grp` 21 t/m 40. Gebruik de waarden `man` en `vrouw` voor de nieuwe kolom.  \n",
    "\n",
    "Gebruik de functie `np.where()` om de nieuwe kolom te maken."
   ]
  },
  {
   "cell_type": "code",
   "execution_count": null,
   "metadata": {},
   "outputs": [],
   "source": [
    "# YOUR CODE HERE\n",
    "raise NotImplementedError('Opdracht niet gemaakt?')"
   ]
  },
  {
   "cell_type": "markdown",
   "metadata": {},
   "source": [
    "### Opdracht 9b: toevoegen kolom"
   ]
  },
  {
   "cell_type": "markdown",
   "metadata": {},
   "source": [
    "In deze opdracht voegen we nog een kolom toe met de naam `65`. Hierin komen de waarden `65-` of `65+` te staan.\n",
    "\n",
    "De waarde wordt bepaald aan de hand van de kolom `grp`:\n",
    "```\n",
    "grp  1 t/m 13 = 65-\n",
    "grp 14 t/m 20 = 65+\n",
    "grp 21 t/m 33 = 65-\n",
    "grp 34 t/m 40 = 65+\n",
    "```\n",
    "Maak gebruik van _list comprehension_ voor het toevoegen van deze kolom."
   ]
  },
  {
   "cell_type": "code",
   "execution_count": null,
   "metadata": {},
   "outputs": [],
   "source": [
    "# YOUR CODE HERE\n",
    "raise NotImplementedError('Opdracht niet gemaakt?')"
   ]
  },
  {
   "cell_type": "markdown",
   "metadata": {},
   "source": [
    "### Opdracht 9c: toevoegen kolom"
   ]
  },
  {
   "cell_type": "markdown",
   "metadata": {},
   "source": [
    "In deze opdracht gaan we een kolom `leeftijds_categorie` toevoegen met behulp van een functie op basis van de waarde in de kolom `grp`.  \n",
    "\n",
    "De waarden zijn als volgt:\n",
    "\n",
    "```\n",
    "grp     leeftijds_categorie\n",
    "-----   ------------------- \n",
    "1, 21    0 -  4\n",
    "2, 22    5 -  9\n",
    "3, 23   10 - 14\n",
    "4, 24   15 - 19\n",
    "5, 25   ...\n",
    "```\n",
    "\n",
    "Het eenvoudigste is om een functie te maken voor de `grp` waarden 1 t/m 20.  \n",
    "De functie is daarna ook toe te passen op de waarden 21 t/m 40 door van het argument telkens eerst 20 af te halen.\n",
    "\n",
    "```python\n",
    "def leeftijd_categorie(grp):\n",
    "    leeftijd_start = grp * 5 - 5\n",
    "    leeftijd_eind = grp * 5 - 1\n",
    "    return str(leeftijd_start) + '-' + str(leeftijd_eind)\n",
    "```\n",
    "   \n",
    "Maak nu zelf de kolom `leeftijds_categorie` m.b.v. bovenstaande functie."
   ]
  },
  {
   "cell_type": "code",
   "execution_count": null,
   "metadata": {},
   "outputs": [],
   "source": [
    "# YOUR CODE HERE\n",
    "raise NotImplementedError('Opdracht niet gemaakt?')"
   ]
  },
  {
   "cell_type": "markdown",
   "metadata": {},
   "source": [
    "### Opdracht 9d: toevoegen kolom"
   ]
  },
  {
   "cell_type": "markdown",
   "metadata": {},
   "source": [
    "Voeg als laatste een kolom `gezondheid_status` toe. Een persoon (id) is status `gezond` als zowel `fkg` als `dkg` beiden de waarde `0` hebben, anders is de status `ongezond`."
   ]
  },
  {
   "cell_type": "code",
   "execution_count": null,
   "metadata": {},
   "outputs": [],
   "source": [
    "# YOUR CODE HERE\n",
    "raise NotImplementedError('Opdracht niet gemaakt?')"
   ]
  },
  {
   "cell_type": "markdown",
   "metadata": {},
   "source": [
    "### Opdracht 10a: lees tabblad Excel"
   ]
  },
  {
   "cell_type": "markdown",
   "metadata": {},
   "source": [
    "Lees het uit Excel bestand `leesmij.xlsx` uit de folder `data` het tabblad `2018` in een DataFrame met de naam `excel`.  \n",
    "Raadpleeg de help-functie met `help(pd.read_excel)` voor de beschikbare argumenten van deze functie."
   ]
  },
  {
   "cell_type": "code",
   "execution_count": null,
   "metadata": {},
   "outputs": [],
   "source": [
    "help(pd.read_excel)"
   ]
  },
  {
   "cell_type": "code",
   "execution_count": null,
   "metadata": {},
   "outputs": [],
   "source": [
    "# YOUR CODE HERE\n",
    "raise NotImplementedError('Opdracht niet gemaakt?')"
   ]
  },
  {
   "cell_type": "markdown",
   "metadata": {},
   "source": [
    "### Opdracht 10b: lees alle tabbladen uit Excel"
   ]
  },
  {
   "cell_type": "markdown",
   "metadata": {},
   "source": [
    "Lees uit dezelfde file als bij opdracht 10a nu alle tabbladen in een object met de naam `excel`.  \n",
    "Wat is het type van het object 'excel'?  \n",
    "Toon de data voor het jaar 2017."
   ]
  },
  {
   "cell_type": "code",
   "execution_count": null,
   "metadata": {},
   "outputs": [],
   "source": [
    "# YOUR CODE HERE\n",
    "raise NotImplementedError('Opdracht niet gemaakt?')"
   ]
  },
  {
   "cell_type": "markdown",
   "metadata": {},
   "source": [
    "### Opdracht 10c: lees alle tabbladen in één DataFrame"
   ]
  },
  {
   "cell_type": "markdown",
   "metadata": {},
   "source": [
    "Lees de tabblad-data in vanuit de `excel` dictionary met een `for` loop en voeg deze data toe aan één DataFrame.  \n",
    "Naast de kolommen `Regio`, `Q1`, `Q2`, `Q3` en `Q4` heb je ook een kolom `Jaar` nodig. Deze kun je vullen vanuit de keys van de dictionary. Bekijk de notebooks met de toelichting over data types en control structures nog even indien nodig. Ook heb je de informatie uit de help van `pd.DataFrame` nodig om te zien toe je data toevoegt aan een DataFrame. Gebruik voor ook [Google](www.google.com) als je er niet uit komt."
   ]
  },
  {
   "cell_type": "code",
   "execution_count": null,
   "metadata": {},
   "outputs": [],
   "source": [
    "# YOUR CODE HERE\n",
    "raise NotImplementedError('Opdracht niet gemaakt?')"
   ]
  },
  {
   "cell_type": "markdown",
   "metadata": {},
   "source": [
    "### Opdracht 10d: Wide to Long"
   ]
  },
  {
   "cell_type": "markdown",
   "metadata": {},
   "source": [
    "In opdracht 10c heb je alle data uit tabbladen van het oorspronkelijke Excel-bestand ingelezen in één DataFrame.  \n",
    "Dit DataFrame heeft nog een _wide_ format en in deze oefening ga je die omzetten naar een _long_ format.\n",
    "\n",
    "In het _long_ format dient het DataFrame de kolommen `Regio`, `Jaar`, `Kwartaal` en `Aantal` te hebben.  \n",
    "Toon de data voor het jaar 2017."
   ]
  },
  {
   "cell_type": "code",
   "execution_count": null,
   "metadata": {},
   "outputs": [],
   "source": [
    "# YOUR CODE HERE\n",
    "raise NotImplementedError('Opdracht niet gemaakt?')"
   ]
  },
  {
   "cell_type": "markdown",
   "metadata": {},
   "source": [
    "### Opdracht 11: Interactive Visualization with Widgets"
   ]
  },
  {
   "cell_type": "markdown",
   "metadata": {},
   "source": [
    "Maak een interactieve [Paired density and scatterplot matrix](https://seaborn.pydata.org/examples/pair_grid_with_kde.html) met seaborn van de Iris dataset.  \n",
    "Hiervoor kun je het voorbeeld uit de [Example Gallary](https://seaborn.pydata.org/examples/pair_grid_with_kde.html) gebruiken.\n",
    "\n",
    "Gebruik de [SelectMultiple](https://ipywidgets.readthedocs.io/en/latest/examples/Widget%20List.html#SelectMultiple) widget om elke combinatie van species te kunnen selecteren.\n",
    "\n",
    "Wat valt je op bij het gebruik van deze widget in combinatie met deze PairGrid plot?"
   ]
  },
  {
   "cell_type": "code",
   "execution_count": null,
   "metadata": {},
   "outputs": [],
   "source": [
    "# YOUR CODE HERE\n",
    "raise NotImplementedError('Opdracht niet gemaakt?')"
   ]
  },
  {
   "cell_type": "markdown",
   "metadata": {},
   "source": [
    "### Opdracht 12a: Bokeh"
   ]
  },
  {
   "cell_type": "markdown",
   "metadata": {},
   "source": [
    "Maak een bokeh plot van de dataset `autompg`.  \n",
    "\n",
    "Op de x-as zet je de variabele `weight`, op de y-as de variabele `hp` (horsepower).\n",
    "\n",
    "Geef elke (unieke) waarde van de variabele `cyl` (cylinders) een eigen kleur en voeg op basis van deze variabele een interactieve legenda toe.\n",
    "\n",
    "\n",
    "Optioneel:\n",
    "* titel toevoegen\n",
    "* labels voor x-as en y-as toevoegen\n",
    "\n",
    "De dataset `autompg` kun je laden door middel van het statement\n",
    "\n",
    "```python\n",
    "from bokeh.sampledata.autompg import autompg\n",
    "```"
   ]
  },
  {
   "cell_type": "code",
   "execution_count": null,
   "metadata": {},
   "outputs": [],
   "source": [
    "# YOUR CODE HERE\n",
    "raise NotImplementedError('Opdracht niet gemaakt?')"
   ]
  },
  {
   "cell_type": "markdown",
   "metadata": {},
   "source": [
    "### Opdracht 12b: Bokeh Server App"
   ]
  },
  {
   "cell_type": "markdown",
   "metadata": {},
   "source": [
    "Maak een eenvoudige Bokeh Server App met behulp van de Iris dataset.  \n",
    "\n",
    "Het resultaat moet zijn een scatter plot met daarin `sepal_length` en `sepal_width` op de x-as en y-as waarbij je middels een 'dropdown' de `species` kunt kiezen waarvoor je de scatter plot wilt afbeelden. Tooltips mag, maar hoeft niet.\n",
    "\n",
    "Geeft het script `bokeh_app_iris.py` als file name.\n",
    "\n",
    "Start de `Anaconda Prompt` en ga naar de dicetory waar je het script hebt opgeslagen.\n",
    "\n",
    "Run de Bokeh Web App met het commando `bokeh serve bokeh_app.py`."
   ]
  },
  {
   "cell_type": "code",
   "execution_count": null,
   "metadata": {},
   "outputs": [],
   "source": [
    "# YOUR CODE HERE\n",
    "raise NotImplementedError('Opdracht niet gemaakt?')"
   ]
  }
 ],
 "metadata": {
  "kernelspec": {
   "display_name": "Python 3",
   "language": "python",
   "name": "python3"
  },
  "language_info": {
   "codemirror_mode": {
    "name": "ipython",
    "version": 3
   },
   "file_extension": ".py",
   "mimetype": "text/x-python",
   "name": "python",
   "nbconvert_exporter": "python",
   "pygments_lexer": "ipython3",
   "version": "3.6.6"
  }
 },
 "nbformat": 4,
 "nbformat_minor": 2
}
