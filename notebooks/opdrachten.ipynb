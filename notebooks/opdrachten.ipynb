{
 "cells": [
  {
   "cell_type": "markdown",
   "metadata": {},
   "source": [
    "# Opdrachten"
   ]
  },
  {
   "cell_type": "markdown",
   "metadata": {},
   "source": [
    "### Opdracht 1: string"
   ]
  },
  {
   "cell_type": "markdown",
   "metadata": {},
   "source": [
    "In onderstaande cell is de string `opdracht` gedefinieerd."
   ]
  },
  {
   "cell_type": "code",
   "execution_count": null,
   "metadata": {},
   "outputs": [],
   "source": [
    "opdracht = '<<< n-o-h-t-y-p >>>'"
   ]
  },
  {
   "cell_type": "markdown",
   "metadata": {},
   "source": [
    "De opdracht is om uit de string `opdracht` de waarde 'Python' te verkrijgen.  \n",
    "Maak daarbij uitsluitend gebruik van _subsetting_ en _class methods_.  \n",
    "\n",
    "Er zijn verschillende oplossingen mogelijk. Probeer er ten minst twee te vinden.  \n",
    "Wel van de gevonden oplosingen vind je het meest _Pythonic_?  \n",
    "\n",
    "Waar nodig kun je de Jupyter Notebooks [python](https://nbviewer.jupyter.org/github/Brinkhuis/Cursus/blob/master/notebooks/python.ipynb) en [datatypes](https://github.com/Brinkhuis/Cursus/blob/master/notebooks/datatypes.ipynb) er nog even op na slaan.  \n",
    "Vergeet ook niet om je vrienden [Google](https://www.google.com) en [Stack Overflow](https://stackoverflow.com) te raadplegen als je er niet uitkomt"
   ]
  },
  {
   "cell_type": "code",
   "execution_count": null,
   "metadata": {},
   "outputs": [],
   "source": [
    "# YOUR CODE HERE\n",
    "raise NotImplementedError('Opdracht niet gemaakt?')"
   ]
  },
  {
   "cell_type": "markdown",
   "metadata": {},
   "source": [
    "### Opdracht 2: list"
   ]
  },
  {
   "cell_type": "code",
   "execution_count": null,
   "metadata": {},
   "outputs": [],
   "source": [
    "opdracht = 'Without requirements or design, programming is the art of adding bugs to an empty text file.'.split()"
   ]
  },
  {
   "cell_type": "code",
   "execution_count": null,
   "metadata": {},
   "outputs": [],
   "source": [
    "uitkomst = 'Without requirements or design, coding Python is the art of adding bugs to an empty Jupyter Notebook.'.split()"
   ]
  },
  {
   "cell_type": "markdown",
   "metadata": {},
   "source": [
    "In deze opdracht ga je aan de slag met de list `opdracht`.  \n",
    "Deze pas je zodanig aan de de uitkomst ervan gelijk is aan de list `uitkomst`.\n",
    "Maak daarbij uitsluitend gebruik van _subsetting_ en _class methods_.  \n",
    "\n",
    "Je kunt je uitwerking eenvoud controleren door het statement `opdracht == uitkomst` uit te voeren. \n",
    "\n",
    "Er zijn verschillende oplossingen mogelijk. Voor deze opdracht is het voldoende als je er één uitwerkt.  \n",
    "De oplossing bestaat uit meerdere regels code.  \n",
    "\n",
    "Wellicht leuk om te weten dat je met het statement `' '.join(opdracht)` de list 'opdracht' kunt omzetten naar een string object.\n",
    "\n",
    "Waar nodig kun je de Jupyter Notebooks [python](https://nbviewer.jupyter.org/github/Brinkhuis/Cursus/blob/master/notebooks/python.ipynb) en [datatypes](https://github.com/Brinkhuis/Cursus/blob/master/notebooks/datatypes.ipynb) er nog even op na slaan.  "
   ]
  },
  {
   "cell_type": "code",
   "execution_count": null,
   "metadata": {},
   "outputs": [],
   "source": [
    "# YOUR CODE HERE\n",
    "raise NotImplementedError('Opdracht niet gemaakt?')"
   ]
  },
  {
   "cell_type": "markdown",
   "metadata": {},
   "source": [
    "### Opdracht 3: list comprehension"
   ]
  },
  {
   "cell_type": "markdown",
   "metadata": {},
   "source": [
    "In deze opdracht ga je temperaturen tussen 0 en 100 (exclusief) in graden Celsius converteren naar temperaturen in graden Fahrenheit.  \n",
    "\n",
    "Het resultaat is een _list object_ met temperaturen in graden Fahrenheit.  \n",
    "Echter, in deze lijst mogen uitsluitend waarden voorkomen groter zijn dan 150 én die qua waarde een geheel getal zijn (bijvoorbeeld _wel_ `158.0` maar _niet_ `159.8`).\n",
    "\n",
    "Onderstaand de formule voor conversie van graden Celsius naar graden Fahrenheit."
   ]
  },
  {
   "cell_type": "markdown",
   "metadata": {},
   "source": [
    "$F = C \\times \\frac{9}{5} + 32$"
   ]
  },
  {
   "cell_type": "markdown",
   "metadata": {},
   "source": [
    "Waar nodig kun je de Jupyter Notebooks [python](https://nbviewer.jupyter.org/github/Brinkhuis/Cursus/blob/master/notebooks/python.ipynb) en [datatypes](https://github.com/Brinkhuis/Cursus/blob/master/notebooks/datatypes.ipynb) er nog even op na slaan.  \n",
    "\n",
    "Ter controle kun je je eigen resultaat vergelijken met onderstaande list `resultaat`."
   ]
  },
  {
   "cell_type": "code",
   "execution_count": null,
   "metadata": {},
   "outputs": [],
   "source": [
    "resultaat = [158.0, 167.0, 176.0, 185.0, 194.0, 203.0]"
   ]
  },
  {
   "cell_type": "markdown",
   "metadata": {},
   "source": [
    "Ook hier zijn meerdere oplossingen mogelijk.\n",
    "\n",
    "Welke van jouw oplossingen geeft de beste performance?"
   ]
  },
  {
   "cell_type": "code",
   "execution_count": null,
   "metadata": {},
   "outputs": [],
   "source": [
    "# YOUR CODE HERE\n",
    "raise NotImplementedError('Opdracht niet gemaakt?')"
   ]
  },
  {
   "cell_type": "markdown",
   "metadata": {},
   "source": [
    "### Opdracht 4a: for"
   ]
  },
  {
   "cell_type": "markdown",
   "metadata": {},
   "source": [
    "Maak een `for` loop die de getallen van 1 tot en met 100 afloopt.  \n",
    "\n",
    "Test voor elk getal of dat deelbaar is door 2, 3, 4 of 5.  \n",
    "\n",
    "Print alleen die getallen die **_niet_** niet deelbaar zijn door 2, 3, 4 of 5.  \n",
    "\n",
    "Print aan het eind ook hoeveel van deze getallen er gevonden zijn."
   ]
  },
  {
   "cell_type": "code",
   "execution_count": null,
   "metadata": {},
   "outputs": [],
   "source": [
    "# YOUR CODE HERE\n",
    "raise NotImplementedError('Opdracht niet gemaakt?')"
   ]
  },
  {
   "cell_type": "markdown",
   "metadata": {},
   "source": [
    "### Opdracht 4b: while"
   ]
  },
  {
   "cell_type": "markdown",
   "metadata": {},
   "source": [
    "Maak nu dezelfde opdracht als bij 4a alleen nu met een `while True:` stratement."
   ]
  },
  {
   "cell_type": "code",
   "execution_count": null,
   "metadata": {},
   "outputs": [],
   "source": [
    "# YOUR CODE HERE\n",
    "raise NotImplementedError('Opdracht niet gemaakt?')"
   ]
  },
  {
   "cell_type": "markdown",
   "metadata": {},
   "source": [
    "### Opdracht 5a: function"
   ]
  },
  {
   "cell_type": "markdown",
   "metadata": {},
   "source": [
    "Definieer een functie `deel` met als argumenten `x` en `y`.  \n",
    "\n",
    "De functie dient twee waarden terug te geven:  \n",
    "1. het aantal keer dat `x` in `y` past\n",
    "2. de rest(waarde) die je over houd als je `x` door `y` deelt\n",
    "\n",
    "Voorbeeld:\n",
    "```python\n",
    "deel(15, 7)\n",
    "```\n",
    "```\n",
    "(2, 1)\n",
    "```"
   ]
  },
  {
   "cell_type": "code",
   "execution_count": null,
   "metadata": {},
   "outputs": [],
   "source": [
    "# YOUR CODE HERE\n",
    "raise NotImplementedError('Opdracht niet gemaakt?')"
   ]
  },
  {
   "cell_type": "markdown",
   "metadata": {},
   "source": [
    "### Opdracht 5b: error handling"
   ]
  },
  {
   "cell_type": "markdown",
   "metadata": {},
   "source": [
    "Maak nu opdracht 5a opnieuw, maar voeg deze keer foutafhandeling toe, zodanig dat de code niet breekt tijdens uit uitvoeren.  \n",
    "\n",
    "Wees zo speciek mogelijk bij het afhandelen van fouten.\n",
    "\n",
    "Als `x` niet is gespecificeerd, dient er een specieke foutmelding te worden gegeven.  \n",
    "Als `y` niet is gespecificeerd, dient de waarde `1` te worden gebruikt.\n",
    "\n",
    "Test je oplossing met onderstaande code:\n",
    "\n",
    "```python\n",
    "print(1, deel(15, 7), '\\n') # (2, 1)\n",
    "print(2, deel(7, 15), '\\n') # (0, 7)\n",
    "print(3, deel(15), '\\n') # (15, 0)\n",
    "print(4, deel(0, 15), '\\n') # (0, 0)\n",
    "print(5, deel(5.5, 2.5), '\\n')\n",
    "print(6, deel(15, 0), '\\n') # integer division or modulo by zero\n",
    "print(7, deel('vijftien', 'zeven'), '\\n') # unsupported operand type(s) for //: 'str' and 'str'\n",
    "print(8, deel([15, 7]), '\\n') # unsupported operand type(s) for //: 'list' and 'int'\n",
    "print(9, deel(y = 7)) # ...\n",
    "```\n",
    "\n",
    "Optioneel:  \n",
    "* Geef het resultaat terug als een dictionary met de keys `aantal` en `rest`.\n",
    "* Zorg dat `aantal` altijd een `int` is en dat `rest` afhankelijk van de waarde een `int` of een `float` is."
   ]
  },
  {
   "cell_type": "code",
   "execution_count": null,
   "metadata": {},
   "outputs": [],
   "source": [
    "# YOUR CODE HERE\n",
    "raise NotImplementedError('Opdracht niet gemaakt?')"
   ]
  },
  {
   "cell_type": "markdown",
   "metadata": {},
   "source": [
    "### Opdracht 6: lambda expression"
   ]
  },
  {
   "cell_type": "markdown",
   "metadata": {},
   "source": [
    "Maak een `lambda` expression die reeks `celsius` omzet naar graden Fahrenheit gebruikmakend van de functie `map`.  \n",
    "Filter met behulp van de functie `filter` alleen die resultaten die groter zijn dan 200."
   ]
  },
  {
   "cell_type": "code",
   "execution_count": null,
   "metadata": {},
   "outputs": [],
   "source": [
    "celsius = range(100)"
   ]
  },
  {
   "cell_type": "markdown",
   "metadata": {},
   "source": [
    "$F = C \\times \\frac{9}{5} + 32$"
   ]
  },
  {
   "cell_type": "code",
   "execution_count": null,
   "metadata": {},
   "outputs": [],
   "source": [
    "# YOUR CODE HERE\n",
    "raise NotImplementedError('Opdracht niet gemaakt?')"
   ]
  },
  {
   "cell_type": "code",
   "execution_count": null,
   "metadata": {},
   "outputs": [],
   "source": []
  }
 ],
 "metadata": {
  "kernelspec": {
   "display_name": "Python 3",
   "language": "python",
   "name": "python3"
  },
  "language_info": {
   "codemirror_mode": {
    "name": "ipython",
    "version": 3
   },
   "file_extension": ".py",
   "mimetype": "text/x-python",
   "name": "python",
   "nbconvert_exporter": "python",
   "pygments_lexer": "ipython3",
   "version": "3.6.4"
  }
 },
 "nbformat": 4,
 "nbformat_minor": 2
}
