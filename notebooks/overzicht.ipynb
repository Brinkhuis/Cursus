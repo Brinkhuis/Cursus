{
 "cells": [
  {
   "cell_type": "markdown",
   "metadata": {},
   "source": [
    "# Overzicht van de cursus"
   ]
  },
  {
   "cell_type": "code",
   "execution_count": null,
   "metadata": {},
   "outputs": [],
   "source": []
  },
  {
   "cell_type": "markdown",
   "metadata": {},
   "source": [
    "## Les 1"
   ]
  },
  {
   "cell_type": "markdown",
   "metadata": {},
   "source": [
    "Jupyter Notebook: [Python](https://nbviewer.jupyter.org/github/Brinkhuis/Cursus/blob/master/notebooks/python.ipynb)\n",
    "\n",
    "* Achtergronden van Python\n",
    "* Indentation & Code Blocks\n",
    "* Object Oriented Programming\n",
    "* The Zen of Python"
   ]
  },
  {
   "cell_type": "markdown",
   "metadata": {},
   "source": [
    "Jupyter Notebook: [Data Types](https://nbviewer.jupyter.org/github/Brinkhuis/Cursus/blob/master/notebooks/datatypes.ipynb)\n",
    "\n",
    "* Integers\n",
    "* Floats\n",
    "* Booleans\n",
    "* Strings **(opdracht 1)**\n",
    "* Lists **(opdracht 2)**\n",
    "* List Comprehension **(opdracht 3)**\n",
    "* NumPy Array's\n",
    "* Dictonaries\n",
    "* Tuples"
   ]
  },
  {
   "cell_type": "code",
   "execution_count": null,
   "metadata": {},
   "outputs": [],
   "source": []
  },
  {
   "cell_type": "code",
   "execution_count": null,
   "metadata": {},
   "outputs": [],
   "source": []
  },
  {
   "cell_type": "code",
   "execution_count": null,
   "metadata": {},
   "outputs": [],
   "source": []
  },
  {
   "cell_type": "code",
   "execution_count": null,
   "metadata": {},
   "outputs": [],
   "source": []
  }
 ],
 "metadata": {
  "kernelspec": {
   "display_name": "Python 3",
   "language": "python",
   "name": "python3"
  },
  "language_info": {
   "codemirror_mode": {
    "name": "ipython",
    "version": 3
   },
   "file_extension": ".py",
   "mimetype": "text/x-python",
   "name": "python",
   "nbconvert_exporter": "python",
   "pygments_lexer": "ipython3",
   "version": "3.6.6"
  }
 },
 "nbformat": 4,
 "nbformat_minor": 2
}
