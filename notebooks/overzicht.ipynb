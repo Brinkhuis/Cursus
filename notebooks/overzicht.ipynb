{
 "cells": [
  {
   "cell_type": "markdown",
   "metadata": {},
   "source": [
    "# Overzicht van de cursus"
   ]
  },
  {
   "cell_type": "markdown",
   "metadata": {},
   "source": [
    "## Les 1"
   ]
  },
  {
   "cell_type": "markdown",
   "metadata": {},
   "source": [
    "Jupyter Notebook: [Python](https://nbviewer.jupyter.org/github/Brinkhuis/Cursus/blob/master/notebooks/python.ipynb)\n",
    "\n",
    "* Achtergronden van Python\n",
    "* Indentation & Code Blocks\n",
    "* Object Oriented Programming (basics)\n",
    "* The Zen of Python"
   ]
  },
  {
   "cell_type": "markdown",
   "metadata": {},
   "source": [
    "Jupyter Notebook: [Notebook](https://nbviewer.jupyter.org/github/Brinkhuis/Cursus/blob/master/notebooks/notebook.ipynb)\n",
    "\n",
    "* notebook maken\n",
    "* code / script\n",
    "* output\n",
    "* markdown (opmaak)\n",
    "* html (opmaak)\n",
    "* functietoetsen\n",
    "* delen Jupyter Notebook\n",
    "  * GitHub\n",
    "  * GitHub via Jupyter Notebook Viewer"
   ]
  },
  {
   "cell_type": "markdown",
   "metadata": {},
   "source": [
    "Jupyter Notebook: [Data Types](https://nbviewer.jupyter.org/github/Brinkhuis/Cursus/blob/master/notebooks/datatypes.ipynb)\n",
    "\n",
    "* Integers\n",
    "* Floats\n",
    "* Booleans\n",
    "* Strings **(opdracht 1)**\n",
    "* Lists **(opdracht 2)**\n",
    "* List Comprehension **(opdracht 3)**\n",
    "* NumPy Array's\n",
    "* Dictonaries\n",
    "* Tuples"
   ]
  },
  {
   "cell_type": "markdown",
   "metadata": {},
   "source": [
    "Jupyter Notebook: [Control Structures](https://nbviewer.jupyter.org/github/Brinkhuis/Cursus/blob/master/notebooks/control_structures.ipynb)\n",
    "\n",
    "* If\n",
    "* Else\n",
    "* Elif\n",
    "* For **(opdracht 4a)**\n",
    "* While **(opdracht 4b)**"
   ]
  },
  {
   "cell_type": "markdown",
   "metadata": {},
   "source": [
    "## Les 2"
   ]
  },
  {
   "cell_type": "markdown",
   "metadata": {},
   "source": [
    "Jupyter Notebook: [Functions](https://nbviewer.jupyter.org/github/Brinkhuis/Cursus/blob/master/notebooks/functions.ipynb)\n",
    "\n",
    "* Regular functions **(opdracht 5a)**\n",
    "  * arguments\n",
    "  * default values\n",
    "  * return values\n",
    "  * applying functions to iterables\n",
    "  * error handling **(opdracht 5b)**\n",
    "* Anonymous functions **(opdracht 6)**\n",
    "  * lambda expression\n",
    "  * map()\n",
    "  * filter()\n",
    "\n",
    "\n",
    "Jupyter Notebook: [pandas](https://nbviewer.jupyter.org/github/Brinkhuis/Cursus/blob/master/notebooks/pandas.ipynb)\n",
    "\n",
    "* Inlezen csv **(opdracht 7)**\n",
    "* Genereren dataframe **(opdracht 8)**\n",
    "* Toevoegen kolommen **(opdracht 9a en 9b)**\n",
    "* Wide to long conversie\n",
    "* Long to wide conversie\n",
    "* Inlezen één Excel sheet **(opdracht 10a)**\n",
    "* Inlezen alle Excel sheets **(opdracht 10b en 10c)**"
   ]
  },
  {
   "cell_type": "markdown",
   "metadata": {},
   "source": [
    "## Les 3"
   ]
  },
  {
   "cell_type": "markdown",
   "metadata": {},
   "source": [
    "Jupyter Notebook: [Functions](https://nbviewer.jupyter.org/github/Brinkhuis/Cursus/blob/master/notebooks/functions.ipynb)"
   ]
  },
  {
   "cell_type": "code",
   "execution_count": null,
   "metadata": {},
   "outputs": [],
   "source": []
  }
 ],
 "metadata": {
  "kernelspec": {
   "display_name": "Python 3",
   "language": "python",
   "name": "python3"
  },
  "language_info": {
   "codemirror_mode": {
    "name": "ipython",
    "version": 3
   },
   "file_extension": ".py",
   "mimetype": "text/x-python",
   "name": "python",
   "nbconvert_exporter": "python",
   "pygments_lexer": "ipython3",
   "version": "3.6.6"
  }
 },
 "nbformat": 4,
 "nbformat_minor": 2
}
